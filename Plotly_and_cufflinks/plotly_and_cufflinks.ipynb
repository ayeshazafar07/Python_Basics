{
 "cells": [
  {
   "cell_type": "markdown",
   "metadata": {},
   "source": [
    "PLotly is an interactive visualization library\n",
    "Cufflinks connects plotly with pandas\n"
   ]
  },
  {
   "cell_type": "code",
   "execution_count": 24,
   "metadata": {},
   "outputs": [],
   "source": [
    "import numpy as np\n",
    "import pandas as pd\n",
    "from plotly import __version__"
   ]
  },
  {
   "cell_type": "code",
   "execution_count": 25,
   "metadata": {},
   "outputs": [
    {
     "name": "stdout",
     "output_type": "stream",
     "text": [
      "5.24.1\n"
     ]
    }
   ],
   "source": [
    "print(__version__)"
   ]
  },
  {
   "cell_type": "code",
   "execution_count": 26,
   "metadata": {},
   "outputs": [],
   "source": [
    "import cufflinks as cf"
   ]
  },
  {
   "cell_type": "code",
   "execution_count": 27,
   "metadata": {},
   "outputs": [],
   "source": [
    "from plotly.offline import download_plotlyjs,init_notebook_mode,plot,iplot"
   ]
  },
  {
   "cell_type": "code",
   "execution_count": 28,
   "metadata": {},
   "outputs": [
    {
     "data": {
      "text/html": [
       "        <script type=\"text/javascript\">\n",
       "        window.PlotlyConfig = {MathJaxConfig: 'local'};\n",
       "        if (window.MathJax && window.MathJax.Hub && window.MathJax.Hub.Config) {window.MathJax.Hub.Config({SVG: {font: \"STIX-Web\"}});}\n",
       "        if (typeof require !== 'undefined') {\n",
       "        require.undef(\"plotly\");\n",
       "        requirejs.config({\n",
       "            paths: {\n",
       "                'plotly': ['https://cdn.plot.ly/plotly-2.35.2.min']\n",
       "            }\n",
       "        });\n",
       "        require(['plotly'], function(Plotly) {\n",
       "            window._Plotly = Plotly;\n",
       "        });\n",
       "        }\n",
       "        </script>\n",
       "        "
      ]
     },
     "metadata": {},
     "output_type": "display_data"
    }
   ],
   "source": [
    "init_notebook_mode(connected=True)\n",
    "# Connects your notebook to javascript\n",
    "# plotly connects pandas and python to an interactive javascript library\n",
    "# and this connection will allow our notebook to access those visualizations  "
   ]
  },
  {
   "cell_type": "code",
   "execution_count": 29,
   "metadata": {},
   "outputs": [
    {
     "data": {
      "text/html": [
       "        <script type=\"text/javascript\">\n",
       "        window.PlotlyConfig = {MathJaxConfig: 'local'};\n",
       "        if (window.MathJax && window.MathJax.Hub && window.MathJax.Hub.Config) {window.MathJax.Hub.Config({SVG: {font: \"STIX-Web\"}});}\n",
       "        if (typeof require !== 'undefined') {\n",
       "        require.undef(\"plotly\");\n",
       "        requirejs.config({\n",
       "            paths: {\n",
       "                'plotly': ['https://cdn.plot.ly/plotly-2.35.2.min']\n",
       "            }\n",
       "        });\n",
       "        require(['plotly'], function(Plotly) {\n",
       "            window._Plotly = Plotly;\n",
       "        });\n",
       "        }\n",
       "        </script>\n",
       "        "
      ]
     },
     "metadata": {},
     "output_type": "display_data"
    }
   ],
   "source": [
    "cf.go_offline()\n",
    "# this will aloow us to use cufflinks offline"
   ]
  },
  {
   "cell_type": "code",
   "execution_count": 30,
   "metadata": {},
   "outputs": [
    {
     "data": {
      "text/html": [
       "<div>\n",
       "<style scoped>\n",
       "    .dataframe tbody tr th:only-of-type {\n",
       "        vertical-align: middle;\n",
       "    }\n",
       "\n",
       "    .dataframe tbody tr th {\n",
       "        vertical-align: top;\n",
       "    }\n",
       "\n",
       "    .dataframe thead th {\n",
       "        text-align: right;\n",
       "    }\n",
       "</style>\n",
       "<table border=\"1\" class=\"dataframe\">\n",
       "  <thead>\n",
       "    <tr style=\"text-align: right;\">\n",
       "      <th></th>\n",
       "      <th>A</th>\n",
       "      <th>B</th>\n",
       "      <th>C</th>\n",
       "      <th>D</th>\n",
       "    </tr>\n",
       "  </thead>\n",
       "  <tbody>\n",
       "    <tr>\n",
       "      <th>0</th>\n",
       "      <td>-0.013575</td>\n",
       "      <td>-0.499809</td>\n",
       "      <td>-0.038978</td>\n",
       "      <td>-0.537091</td>\n",
       "    </tr>\n",
       "    <tr>\n",
       "      <th>1</th>\n",
       "      <td>0.201462</td>\n",
       "      <td>0.863814</td>\n",
       "      <td>-0.452374</td>\n",
       "      <td>-2.321572</td>\n",
       "    </tr>\n",
       "    <tr>\n",
       "      <th>2</th>\n",
       "      <td>-0.089917</td>\n",
       "      <td>0.738864</td>\n",
       "      <td>-0.914804</td>\n",
       "      <td>0.579484</td>\n",
       "    </tr>\n",
       "    <tr>\n",
       "      <th>3</th>\n",
       "      <td>0.146302</td>\n",
       "      <td>-2.535152</td>\n",
       "      <td>0.953547</td>\n",
       "      <td>2.669685</td>\n",
       "    </tr>\n",
       "    <tr>\n",
       "      <th>4</th>\n",
       "      <td>-1.402432</td>\n",
       "      <td>-0.624197</td>\n",
       "      <td>-1.404894</td>\n",
       "      <td>-0.062880</td>\n",
       "    </tr>\n",
       "    <tr>\n",
       "      <th>...</th>\n",
       "      <td>...</td>\n",
       "      <td>...</td>\n",
       "      <td>...</td>\n",
       "      <td>...</td>\n",
       "    </tr>\n",
       "    <tr>\n",
       "      <th>95</th>\n",
       "      <td>0.066148</td>\n",
       "      <td>-1.664385</td>\n",
       "      <td>0.631253</td>\n",
       "      <td>0.707948</td>\n",
       "    </tr>\n",
       "    <tr>\n",
       "      <th>96</th>\n",
       "      <td>-0.291580</td>\n",
       "      <td>-0.144499</td>\n",
       "      <td>1.528341</td>\n",
       "      <td>1.464952</td>\n",
       "    </tr>\n",
       "    <tr>\n",
       "      <th>97</th>\n",
       "      <td>2.105370</td>\n",
       "      <td>-0.255896</td>\n",
       "      <td>-0.112903</td>\n",
       "      <td>0.528081</td>\n",
       "    </tr>\n",
       "    <tr>\n",
       "      <th>98</th>\n",
       "      <td>-0.376260</td>\n",
       "      <td>-1.029084</td>\n",
       "      <td>-1.200254</td>\n",
       "      <td>0.520469</td>\n",
       "    </tr>\n",
       "    <tr>\n",
       "      <th>99</th>\n",
       "      <td>0.600153</td>\n",
       "      <td>-1.099958</td>\n",
       "      <td>-0.012043</td>\n",
       "      <td>-0.117694</td>\n",
       "    </tr>\n",
       "  </tbody>\n",
       "</table>\n",
       "<p>100 rows × 4 columns</p>\n",
       "</div>"
      ],
      "text/plain": [
       "           A         B         C         D\n",
       "0  -0.013575 -0.499809 -0.038978 -0.537091\n",
       "1   0.201462  0.863814 -0.452374 -2.321572\n",
       "2  -0.089917  0.738864 -0.914804  0.579484\n",
       "3   0.146302 -2.535152  0.953547  2.669685\n",
       "4  -1.402432 -0.624197 -1.404894 -0.062880\n",
       "..       ...       ...       ...       ...\n",
       "95  0.066148 -1.664385  0.631253  0.707948\n",
       "96 -0.291580 -0.144499  1.528341  1.464952\n",
       "97  2.105370 -0.255896 -0.112903  0.528081\n",
       "98 -0.376260 -1.029084 -1.200254  0.520469\n",
       "99  0.600153 -1.099958 -0.012043 -0.117694\n",
       "\n",
       "[100 rows x 4 columns]"
      ]
     },
     "execution_count": 30,
     "metadata": {},
     "output_type": "execute_result"
    }
   ],
   "source": [
    "df = pd.DataFrame(np.random.randn(100,4), columns='A B C D'.split())\n",
    "df"
   ]
  },
  {
   "cell_type": "code",
   "execution_count": 31,
   "metadata": {},
   "outputs": [
    {
     "data": {
      "text/html": [
       "<div>\n",
       "<style scoped>\n",
       "    .dataframe tbody tr th:only-of-type {\n",
       "        vertical-align: middle;\n",
       "    }\n",
       "\n",
       "    .dataframe tbody tr th {\n",
       "        vertical-align: top;\n",
       "    }\n",
       "\n",
       "    .dataframe thead th {\n",
       "        text-align: right;\n",
       "    }\n",
       "</style>\n",
       "<table border=\"1\" class=\"dataframe\">\n",
       "  <thead>\n",
       "    <tr style=\"text-align: right;\">\n",
       "      <th></th>\n",
       "      <th>Category</th>\n",
       "      <th>Values</th>\n",
       "    </tr>\n",
       "  </thead>\n",
       "  <tbody>\n",
       "    <tr>\n",
       "      <th>0</th>\n",
       "      <td>A</td>\n",
       "      <td>32</td>\n",
       "    </tr>\n",
       "    <tr>\n",
       "      <th>1</th>\n",
       "      <td>B</td>\n",
       "      <td>43</td>\n",
       "    </tr>\n",
       "    <tr>\n",
       "      <th>2</th>\n",
       "      <td>C</td>\n",
       "      <td>50</td>\n",
       "    </tr>\n",
       "  </tbody>\n",
       "</table>\n",
       "</div>"
      ],
      "text/plain": [
       "  Category  Values\n",
       "0        A      32\n",
       "1        B      43\n",
       "2        C      50"
      ]
     },
     "execution_count": 31,
     "metadata": {},
     "output_type": "execute_result"
    }
   ],
   "source": [
    "df2 = pd.DataFrame({'Category': ['A','B','C'], 'Values':[32,43,50]})\n",
    "df2"
   ]
  },
  {
   "cell_type": "code",
   "execution_count": 32,
   "metadata": {},
   "outputs": [
    {
     "data": {
      "text/plain": [
       "<Axes: >"
      ]
     },
     "execution_count": 32,
     "metadata": {},
     "output_type": "execute_result"
    },
    {
     "data": {
      "image/png": "[encoded data removed]",
      "text/plain": [
       "<Figure size 640x480 with 1 Axes>"
      ]
     },
     "metadata": {},
     "output_type": "display_data"
    }
   ],
   "source": [
    "df.plot() \n",
    "# plot that pandas made using matplotlib"
   ]
  },
  {
   "cell_type": "code",
   "execution_count": 33,
   "metadata": {},
   "outputs": [
    {
     "data": {
      "application/vnd.plotly.v1+json": {
       "config": {
        "linkText": "Export to plot.ly",
        "plotlyServerURL": "https://plot.ly",
        "showLink": true
       },
       "data": [
        {
         "line": {
          "color": "rgba(255, 153, 51, 1.0)",
          "dash": "solid",
          "shape": "linear",
          "width": 1.3
         },
         "mode": "lines",
         "name": "A",
         "text": "",
         "type": "scatter",
         "x": [
          0,
          1,
          2,
          3,
          4,
          5,
          6,
          7,
          8,
          9,
          10,
          11,
          12,
          13,
          14,
          15,
          16,
          17,
          18,
          19,
          20,
          21,
          22,
          23,
          24,
          25,
          26,
          27,
          28,
          29,
          30,
          31,
          32,
          33,
          34,
          35,
          36,
          37,
          38,
          39,
          40,
          41,
          42,
          43,
          44,
          45,
          46,
          47,
          48,
          49,
          50,
          51,
          52,
          53,
          54,
          55,
          56,
          57,
          58,
          59,
          60,
          61,
          62,
          63,
          64,
          65,
          66,
          67,
          68,
          69,
          70,
          71,
          72,
          73,
          74,
          75,
          76,
          77,
          78,
          79,
          80,
          81,
          82,
          83,
          84,
          85,
          86,
          87,
          88,
          89,
          90,
          91,
          92,
          93,
          94,
          95,
          96,
          97,
          98,
          99
         ],
         "y": [
          -0.013575241110450833,
          0.2014623469983288,
          -0.0899174937991628,
          0.14630244753708072,
          -1.4024321759431153,
          0.9439764762749664,
          -0.06382546259278613,
          0.9982777327924083,
          -0.4738871296179397,
          -1.7479270508567541,
          1.2896284502503772,
          -0.04094150702985916,
          1.1814727250692378,
          -0.04157675514734971,
          -1.6784201398008336,
          0.47505030888120736,
          0.7132508636230379,
          -0.24799219632184952,
          0.498384065116775,
          -0.7430537436978263,
          -0.5943008339808885,
          -0.33906026487962165,
          1.4230113577354255,
          -1.1356125023659205,
          -0.7194920556774836,
          0.40350687564521937,
          0.09680216062296426,
          1.4865354363232182,
          1.2837062691204009,
          -1.0449294104369733,
          -0.6046026297845802,
          1.035080585844793,
          -0.4781821091586237,
          0.5065245619851478,
          -0.054456558223678724,
          -0.2900838094108421,
          1.2672416269601274,
          1.5008075582806726,
          -1.194091196522751,
          0.2698019492376579,
          -1.3824745155019331,
          -0.6850572186353427,
          -0.19631292310626414,
          -1.7805521599361438,
          0.3631036285353618,
          0.6483575919989167,
          -0.8944577060934934,
          -0.45196364550134455,
          1.1847861292974133,
          -1.8807707543177625,
          -1.2730083730328554,
          -0.985849891541202,
          1.515677949465927,
          2.0874223263641296,
          0.2095676374486414,
          -1.8683151904123785,
          -0.6105186098607324,
          -1.5130203096464259,
          -0.0003192758589660021,
          -0.2349119693895656,
          2.1403613710248126,
          0.5017449877885893,
          -0.8644251613155253,
          -0.18257031359149076,
          0.4680037222306966,
          1.0298039480230532,
          1.6891500537933402,
          -1.6723929936831465,
          -1.5452705113745921,
          1.7062784160701598,
          -0.9945442447534536,
          -0.7774222561957261,
          -0.340371918308804,
          0.4775565849235679,
          -0.1464000856716878,
          -0.6662999728881014,
          -0.346476421279362,
          1.1186333582116288,
          1.7342334819205307,
          -0.15328405276518267,
          1.3265505703328604,
          0.2757959579792867,
          0.7440128032532201,
          0.5657951535956439,
          -1.2062365572122227,
          -1.146436230453736,
          -1.196647336791392,
          0.4486528374273348,
          0.8709122796607749,
          1.6626797853566428,
          1.291632918517345,
          -0.4326167764627019,
          0.010208309112078297,
          -0.4199867337686686,
          -2.454723215844547,
          0.06614779474923367,
          -0.2915800212075181,
          2.1053698664072478,
          -0.3762600092064639,
          0.6001534852873674
         ]
        },
        {
         "line": {
          "color": "rgba(55, 128, 191, 1.0)",
          "dash": "solid",
          "shape": "linear",
          "width": 1.3
         },
         "mode": "lines",
         "name": "B",
         "text": "",
         "type": "scatter",
         "x": [
          0,
          1,
          2,
          3,
          4,
          5,
          6,
          7,
          8,
          9,
          10,
          11,
          12,
          13,
          14,
          15,
          16,
          17,
          18,
          19,
          20,
          21,
          22,
          23,
          24,
          25,
          26,
          27,
          28,
          29,
          30,
          31,
          32,
          33,
          34,
          35,
          36,
          37,
          38,
          39,
          40,
          41,
          42,
          43,
          44,
          45,
          46,
          47,
          48,
          49,
          50,
          51,
          52,
          53,
          54,
          55,
          56,
          57,
          58,
          59,
          60,
          61,
          62,
          63,
          64,
          65,
          66,
          67,
          68,
          69,
          70,
          71,
          72,
          73,
          74,
          75,
          76,
          77,
          78,
          79,
          80,
          81,
          82,
          83,
          84,
          85,
          86,
          87,
          88,
          89,
          90,
          91,
          92,
          93,
          94,
          95,
          96,
          97,
          98,
          99
         ],
         "y": [
          -0.4998086521162006,
          0.8638138888466803,
          0.7388639050818845,
          -2.5351516106839127,
          -0.6241965970069808,
          1.5863209972469399,
          -1.0272668926051103,
          0.5002535232220292,
          -0.5200660025824956,
          1.3047727610507056,
          -0.08212568013725245,
          -1.0235664200651708,
          -0.6235439639220131,
          -0.5117151989397963,
          -1.3452522320083882,
          0.07491224307445563,
          -0.9858627810630309,
          0.48812466598017146,
          -1.5781779944879513,
          0.7523712855310276,
          1.1558049361093523,
          -1.2137704432592629,
          1.5327616425683321,
          0.466351019069615,
          0.10177591740341613,
          1.6724484500498018,
          -0.5864709129917581,
          0.8044521979893766,
          -1.7788829295501853,
          1.8365955689749571,
          1.1633726863223617,
          -1.0242007875588857,
          1.0954568746844986,
          -2.2346848698945556,
          0.39266228174684914,
          0.8404729296808121,
          -0.2442692234613969,
          -1.3538759957921003,
          -1.0071264286913437,
          -0.511299082282564,
          -1.243464143501981,
          1.53226091738115,
          0.3787947928421932,
          0.7937415890066196,
          0.09369302886706242,
          1.3665228041204913,
          -0.07540557834451925,
          1.12960511549684,
          -1.0969114092610217,
          -0.5256619286736163,
          -0.1255995227222061,
          1.1299806924847526,
          1.842176499039704,
          0.9223553718749332,
          0.9624408464070193,
          -1.5949382147241815,
          0.10358617230626112,
          0.629926007568259,
          0.23282104595070716,
          0.34926447605244215,
          0.6210082966455818,
          1.3575286778092086,
          0.15034415981621055,
          -0.8319500033867744,
          -0.23994802321186406,
          -0.9917052396304813,
          -0.2101515420007641,
          -0.4604086451895767,
          -0.4103810500625088,
          -0.19193031808972585,
          -1.618290060509264,
          0.19680333078802792,
          -1.3695862380868853,
          -0.016764656229118585,
          1.491314290176382,
          0.5257097682782415,
          -0.10641544036555185,
          -1.664002357709959,
          0.6116037639332458,
          -0.49482872597775346,
          -0.06595019550852914,
          -0.7228448984081656,
          0.40190328495696986,
          0.7587437246052716,
          -0.25076469773656773,
          0.0903897080544539,
          -0.49465980470031895,
          1.0241171735974268,
          -0.5792698354452798,
          0.5420021881562249,
          0.1396869935373383,
          -0.5245699273060564,
          -0.4550638669849926,
          -2.4864659332530863,
          2.5638197096368796,
          -1.6643846707072714,
          -0.14449922089190276,
          -0.25589607049514157,
          -1.0290835991474259,
          -1.099958347108077
         ]
        },
        {
         "line": {
          "color": "rgba(50, 171, 96, 1.0)",
          "dash": "solid",
          "shape": "linear",
          "width": 1.3
         },
         "mode": "lines",
         "name": "C",
         "text": "",
         "type": "scatter",
         "x": [
          0,
          1,
          2,
          3,
          4,
          5,
          6,
          7,
          8,
          9,
          10,
          11,
          12,
          13,
          14,
          15,
          16,
          17,
          18,
          19,
          20,
          21,
          22,
          23,
          24,
          25,
          26,
          27,
          28,
          29,
          30,
          31,
          32,
          33,
          34,
          35,
          36,
          37,
          38,
          39,
          40,
          41,
          42,
          43,
          44,
          45,
          46,
          47,
          48,
          49,
          50,
          51,
          52,
          53,
          54,
          55,
          56,
          57,
          58,
          59,
          60,
          61,
          62,
          63,
          64,
          65,
          66,
          67,
          68,
          69,
          70,
          71,
          72,
          73,
          74,
          75,
          76,
          77,
          78,
          79,
          80,
          81,
          82,
          83,
          84,
          85,
          86,
          87,
          88,
          89,
          90,
          91,
          92,
          93,
          94,
          95,
          96,
          97,
          98,
          99
         ],
         "y": [
          -0.03897819554267246,
          -0.45237410422813007,
          -0.9148037122545782,
          0.9535472502455863,
          -1.4048943076631102,
          -0.02552396525986394,
          -0.16999014234229043,
          -0.8005195292528466,
          0.489122269331501,
          -0.9738843159490248,
          -0.16020281396152478,
          -0.8295315084912306,
          -1.0710559926834227,
          0.9997766978884247,
          -1.4310237129930352,
          1.3070106872583303,
          0.7313254595552003,
          0.15605963803369327,
          0.2792068851428407,
          -0.28606270041226173,
          0.16570192386801588,
          0.7399897481613859,
          -1.4060667670740261,
          -0.4062331404164582,
          -0.40689761889533727,
          0.4589588634993919,
          1.0892311839862554,
          -0.6626451338834085,
          0.13797262053600742,
          -1.0517178921409511,
          -0.167038781526083,
          -0.4538040326345461,
          1.093561476437651,
          -1.847917830900397,
          -1.812934611548087,
          0.5460453823483944,
          -0.9523449183934559,
          1.3681088221219067,
          -0.4087585732632988,
          -0.4689630871848432,
          0.33113790981162516,
          1.7995374767983916,
          -1.9716431639594623,
          -0.7185553355541259,
          -0.4831753129690847,
          -0.1303610300940544,
          0.5535500317467342,
          1.7397571813169999,
          0.7074500660163463,
          -0.15749934931347762,
          0.5451645569926603,
          0.36244176948027973,
          0.7832399338190531,
          -1.6479214934825983,
          0.6947094604228694,
          -0.026321189640635765,
          0.6298127853299399,
          0.09497079558586638,
          0.5682270338122841,
          -0.32624841707502206,
          -0.14150138830677372,
          -0.5826441247263411,
          -0.37155778050514765,
          0.45433186240226353,
          -1.8486182555766015,
          -0.4272754688339868,
          1.3379923933370492,
          1.1030836835459426,
          0.33123816871353917,
          -0.365209036376047,
          0.44198159795425157,
          1.130722922509479,
          1.4431836867831143,
          -0.059577614635175885,
          0.8068824260031981,
          -1.061563464126283,
          2.3168102767827747,
          -0.1533249969025579,
          0.9323611166718686,
          0.8602968645952596,
          -3.3123992506170787,
          2.2042387607130225,
          0.5363583593827271,
          -0.3282709532102508,
          1.8928049631040889,
          -1.1260015336894462,
          0.6949648736475352,
          0.7222765625402395,
          0.24958033860760995,
          -1.7163837090135452,
          -0.7568130572220154,
          -0.13542338662983835,
          -0.13893830864817305,
          -1.2530513135516494,
          0.3013792980620921,
          0.6312530701902108,
          1.528341343156567,
          -0.11290283541221337,
          -1.2002544991759756,
          -0.012042900182959379
         ]
        },
        {
         "line": {
          "color": "rgba(128, 0, 128, 1.0)",
          "dash": "solid",
          "shape": "linear",
          "width": 1.3
         },
         "mode": "lines",
         "name": "D",
         "text": "",
         "type": "scatter",
         "x": [
          0,
          1,
          2,
          3,
          4,
          5,
          6,
          7,
          8,
          9,
          10,
          11,
          12,
          13,
          14,
          15,
          16,
          17,
          18,
          19,
          20,
          21,
          22,
          23,
          24,
          25,
          26,
          27,
          28,
          29,
          30,
          31,
          32,
          33,
          34,
          35,
          36,
          37,
          38,
          39,
          40,
          41,
          42,
          43,
          44,
          45,
          46,
          47,
          48,
          49,
          50,
          51,
          52,
          53,
          54,
          55,
          56,
          57,
          58,
          59,
          60,
          61,
          62,
          63,
          64,
          65,
          66,
          67,
          68,
          69,
          70,
          71,
          72,
          73,
          74,
          75,
          76,
          77,
          78,
          79,
          80,
          81,
          82,
          83,
          84,
          85,
          86,
          87,
          88,
          89,
          90,
          91,
          92,
          93,
          94,
          95,
          96,
          97,
          98,
          99
         ],
         "y": [
          -0.5370911808766012,
          -2.321571647104632,
          0.5794844976759298,
          2.6696847002422093,
          -0.0628802393351703,
          0.856143428566187,
          2.0621458131416266,
          -0.035648267009385046,
          0.030833795609075402,
          0.3415158116578078,
          -0.3859012363140178,
          0.3609972035587406,
          1.0482829284088313,
          0.06821914391373095,
          -0.7610923046981812,
          0.6125951666149811,
          -1.380189032931467,
          0.4191665325951915,
          1.7739917406385555,
          0.2168226670444201,
          0.7405402700307281,
          -0.42256301034062066,
          0.018111319601031753,
          1.1155892412982806,
          -1.4999055926396876,
          -0.5947774111653107,
          0.018381646786778092,
          0.4044101964543374,
          1.162393959229401,
          1.2635861650539149,
          -1.6585120591216127,
          0.3745359867443123,
          -0.6042965058041246,
          -0.36500191273588045,
          0.07695854943740069,
          -0.4920978112467595,
          0.7815104260905494,
          -0.9342677462715024,
          -1.085311716713249,
          -1.2238414271897249,
          -0.0986622209609241,
          -1.3598393083357998,
          0.4351701843515012,
          -0.605292022362214,
          -1.9990675344070585,
          0.8198496193265,
          -0.7174341412363682,
          -0.467798063088864,
          -0.6395896099981112,
          -0.8137340650012729,
          1.3388149301350298,
          -0.07729452529534941,
          -0.32006894334242303,
          -0.5212376005619955,
          0.34826697009878055,
          0.04322596472394743,
          -0.8751630591683667,
          0.5282407958690774,
          -1.5245554906639394,
          -0.7114075014623907,
          0.6136614058445458,
          -0.6899539400539682,
          1.3383065365015576,
          -0.4687534641720835,
          0.31663129352505415,
          1.6430350068157462,
          -2.6193481946114083,
          -0.584449208207381,
          2.4382321153223065,
          0.7346470725692921,
          -1.4689518757597313,
          0.618524439084242,
          2.305276107304658,
          0.11527745916872338,
          1.0768495073439397,
          1.113330117936661,
          0.5688144051873003,
          1.4269619333427306,
          0.2861659530349212,
          1.6124139653612652,
          0.40249953609561223,
          1.1503513623086212,
          -1.3142430021494809,
          -0.1533860479957921,
          0.7026210178016035,
          -0.25140673295468247,
          0.03108806949108133,
          0.12245461656442247,
          -1.045151787506711,
          0.5103129915132618,
          -1.9976116086927933,
          1.6266100462323916,
          0.13527513123569643,
          -1.0360016372607777,
          1.6998818717986037,
          0.7079484991419566,
          1.4649518107345052,
          0.5280813775901442,
          0.5204694722261566,
          -0.11769449274516725
         ]
        }
       ],
       "layout": {
        "legend": {
         "bgcolor": "#F5F6F9",
         "font": {
          "color": "#4D5663"
         }
        },
        "paper_bgcolor": "#F5F6F9",
        "plot_bgcolor": "#F5F6F9",
        "template": {
         "data": {
          "bar": [
           {
            "error_x": {
             "color": "#2a3f5f"
            },
            "error_y": {
             "color": "#2a3f5f"
            },
            "marker": {
             "line": {
              "color": "#E5ECF6",
              "width": 0.5
             },
             "pattern": {
              "fillmode": "overlay",
              "size": 10,
              "solidity": 0.2
             }
            },
            "type": "bar"
           }
          ],
          "barpolar": [
           {
            "marker": {
             "line": {
              "color": "#E5ECF6",
              "width": 0.5
             },
             "pattern": {
              "fillmode": "overlay",
              "size": 10,
              "solidity": 0.2
             }
            },
            "type": "barpolar"
           }
          ],
          "carpet": [
           {
            "aaxis": {
             "endlinecolor": "#2a3f5f",
             "gridcolor": "white",
             "linecolor": "white",
             "minorgridcolor": "white",
             "startlinecolor": "#2a3f5f"
            },
            "baxis": {
             "endlinecolor": "#2a3f5f",
             "gridcolor": "white",
             "linecolor": "white",
             "minorgridcolor": "white",
             "startlinecolor": "#2a3f5f"
            },
            "type": "carpet"
           }
          ],
          "choropleth": [
           {
            "colorbar": {
             "outlinewidth": 0,
             "ticks": ""
            },
            "type": "choropleth"
           }
          ],
          "contour": [
           {
            "colorbar": {
             "outlinewidth": 0,
             "ticks": ""
            },
            "colorscale": [
             [
              0,
              "#0d0887"
             ],
             [
              0.1111111111111111,
              "#46039f"
             ],
             [
              0.2222222222222222,
              "#7201a8"
             ],
             [
              0.3333333333333333,
              "#9c179e"
             ],
             [
              0.4444444444444444,
              "#bd3786"
             ],
             [
              0.5555555555555556,
              "#d8576b"
             ],
             [
              0.6666666666666666,
              "#ed7953"
             ],
             [
              0.7777777777777778,
              "#fb9f3a"
             ],
             [
              0.8888888888888888,
              "#fdca26"
             ],
             [
              1,
              "#f0f921"
             ]
            ],
            "type": "contour"
           }
          ],
          "contourcarpet": [
           {
            "colorbar": {
             "outlinewidth": 0,
             "ticks": ""
            },
            "type": "contourcarpet"
           }
          ],
          "heatmap": [
           {
            "colorbar": {
             "outlinewidth": 0,
             "ticks": ""
            },
            "colorscale": [
             [
              0,
              "#0d0887"
             ],
             [
              0.1111111111111111,
              "#46039f"
             ],
             [
              0.2222222222222222,
              "#7201a8"
             ],
             [
              0.3333333333333333,
              "#9c179e"
             ],
             [
              0.4444444444444444,
              "#bd3786"
             ],
             [
              0.5555555555555556,
              "#d8576b"
             ],
             [
              0.6666666666666666,
              "#ed7953"
             ],
             [
              0.7777777777777778,
              "#fb9f3a"
             ],
             [
              0.8888888888888888,
              "#fdca26"
             ],
             [
              1,
              "#f0f921"
             ]
            ],
            "type": "heatmap"
           }
          ],
          "heatmapgl": [
           {
            "colorbar": {
             "outlinewidth": 0,
             "ticks": ""
            },
            "colorscale": [
             [
              0,
              "#0d0887"
             ],
             [
              0.1111111111111111,
              "#46039f"
             ],
             [
              0.2222222222222222,
              "#7201a8"
             ],
             [
              0.3333333333333333,
              "#9c179e"
             ],
             [
              0.4444444444444444,
              "#bd3786"
             ],
             [
              0.5555555555555556,
              "#d8576b"
             ],
             [
              0.6666666666666666,
              "#ed7953"
             ],
             [
              0.7777777777777778,
              "#fb9f3a"
             ],
             [
              0.8888888888888888,
              "#fdca26"
             ],
             [
              1,
              "#f0f921"
             ]
            ],
            "type": "heatmapgl"
           }
          ],
          "histogram": [
           {
            "marker": {
             "pattern": {
              "fillmode": "overlay",
              "size": 10,
              "solidity": 0.2
             }
            },
            "type": "histogram"
           }
          ],
          "histogram2d": [
           {
            "colorbar": {
             "outlinewidth": 0,
             "ticks": ""
            },
            "colorscale": [
             [
              0,
              "#0d0887"
             ],
             [
              0.1111111111111111,
              "#46039f"
             ],
             [
              0.2222222222222222,
              "#7201a8"
             ],
             [
              0.3333333333333333,
              "#9c179e"
             ],
             [
              0.4444444444444444,
              "#bd3786"
             ],
             [
              0.5555555555555556,
              "#d8576b"
             ],
             [
              0.6666666666666666,
              "#ed7953"
             ],
             [
              0.7777777777777778,
              "#fb9f3a"
             ],
             [
              0.8888888888888888,
              "#fdca26"
             ],
             [
              1,
              "#f0f921"
             ]
            ],
            "type": "histogram2d"
           }
          ],
          "histogram2dcontour": [
           {
            "colorbar": {
             "outlinewidth": 0,
             "ticks": ""
            },
            "colorscale": [
             [
              0,
              "#0d0887"
             ],
             [
              0.1111111111111111,
              "#46039f"
             ],
             [
              0.2222222222222222,
              "#7201a8"
             ],
             [
              0.3333333333333333,
              "#9c179e"
             ],
             [
              0.4444444444444444,
              "#bd3786"
             ],
             [
              0.5555555555555556,
              "#d8576b"
             ],
             [
              0.6666666666666666,
              "#ed7953"
             ],
             [
              0.7777777777777778,
              "#fb9f3a"
             ],
             [
              0.8888888888888888,
              "#fdca26"
             ],
             [
              1,
              "#f0f921"
             ]
            ],
            "type": "histogram2dcontour"
           }
          ],
          "mesh3d": [
           {
            "colorbar": {
             "outlinewidth": 0,
             "ticks": ""
            },
            "type": "mesh3d"
           }
          ],
          "parcoords": [
           {
            "line": {
             "colorbar": {
              "outlinewidth": 0,
              "ticks": ""
             }
            },
            "type": "parcoords"
           }
          ],
          "pie": [
           {
            "automargin": true,
            "type": "pie"
           }
          ],
          "scatter": [
           {
            "fillpattern": {
             "fillmode": "overlay",
             "size": 10,
             "solidity": 0.2
            },
            "type": "scatter"
           }
          ],
          "scatter3d": [
           {
            "line": {
             "colorbar": {
              "outlinewidth": 0,
              "ticks": ""
             }
            },
            "marker": {
             "colorbar": {
              "outlinewidth": 0,
              "ticks": ""
             }
            },
            "type": "scatter3d"
           }
          ],
          "scattercarpet": [
           {
            "marker": {
             "colorbar": {
              "outlinewidth": 0,
              "ticks": ""
             }
            },
            "type": "scattercarpet"
           }
          ],
          "scattergeo": [
           {
            "marker": {
             "colorbar": {
              "outlinewidth": 0,
              "ticks": ""
             }
            },
            "type": "scattergeo"
           }
          ],
          "scattergl": [
           {
            "marker": {
             "colorbar": {
              "outlinewidth": 0,
              "ticks": ""
             }
            },
            "type": "scattergl"
           }
          ],
          "scattermapbox": [
           {
            "marker": {
             "colorbar": {
              "outlinewidth": 0,
              "ticks": ""
             }
            },
            "type": "scattermapbox"
           }
          ],
          "scatterpolar": [
           {
            "marker": {
             "colorbar": {
              "outlinewidth": 0,
              "ticks": ""
             }
            },
            "type": "scatterpolar"
           }
          ],
          "scatterpolargl": [
           {
            "marker": {
             "colorbar": {
              "outlinewidth": 0,
              "ticks": ""
             }
            },
            "type": "scatterpolargl"
           }
          ],
          "scatterternary": [
           {
            "marker": {
             "colorbar": {
              "outlinewidth": 0,
              "ticks": ""
             }
            },
            "type": "scatterternary"
           }
          ],
          "surface": [
           {
            "colorbar": {
             "outlinewidth": 0,
             "ticks": ""
            },
            "colorscale": [
             [
              0,
              "#0d0887"
             ],
             [
              0.1111111111111111,
              "#46039f"
             ],
             [
              0.2222222222222222,
              "#7201a8"
             ],
             [
              0.3333333333333333,
              "#9c179e"
             ],
             [
              0.4444444444444444,
              "#bd3786"
             ],
             [
              0.5555555555555556,
              "#d8576b"
             ],
             [
              0.6666666666666666,
              "#ed7953"
             ],
             [
              0.7777777777777778,
              "#fb9f3a"
             ],
             [
              0.8888888888888888,
              "#fdca26"
             ],
             [
              1,
              "#f0f921"
             ]
            ],
            "type": "surface"
           }
          ],
          "table": [
           {
            "cells": {
             "fill": {
              "color": "#EBF0F8"
             },
             "line": {
              "color": "white"
             }
            },
            "header": {
             "fill": {
              "color": "#C8D4E3"
             },
             "line": {
              "color": "white"
             }
            },
            "type": "table"
           }
          ]
         },
         "layout": {
          "annotationdefaults": {
           "arrowcolor": "#2a3f5f",
           "arrowhead": 0,
           "arrowwidth": 1
          },
          "autotypenumbers": "strict",
          "coloraxis": {
           "colorbar": {
            "outlinewidth": 0,
            "ticks": ""
           }
          },
          "colorscale": {
           "diverging": [
            [
             0,
             "#8e0152"
            ],
            [
             0.1,
             "#c51b7d"
            ],
            [
             0.2,
             "#de77ae"
            ],
            [
             0.3,
             "#f1b6da"
            ],
            [
             0.4,
             "#fde0ef"
            ],
            [
             0.5,
             "#f7f7f7"
            ],
            [
             0.6,
             "#e6f5d0"
            ],
            [
             0.7,
             "#b8e186"
            ],
            [
             0.8,
             "#7fbc41"
            ],
            [
             0.9,
             "#4d9221"
            ],
            [
             1,
             "#276419"
            ]
           ],
           "sequential": [
            [
             0,
             "#0d0887"
            ],
            [
             0.1111111111111111,
             "#46039f"
            ],
            [
             0.2222222222222222,
             "#7201a8"
            ],
            [
             0.3333333333333333,
             "#9c179e"
            ],
            [
             0.4444444444444444,
             "#bd3786"
            ],
            [
             0.5555555555555556,
             "#d8576b"
            ],
            [
             0.6666666666666666,
             "#ed7953"
            ],
            [
             0.7777777777777778,
             "#fb9f3a"
            ],
            [
             0.8888888888888888,
             "#fdca26"
            ],
            [
             1,
             "#f0f921"
            ]
           ],
           "sequentialminus": [
            [
             0,
             "#0d0887"
            ],
            [
             0.1111111111111111,
             "#46039f"
            ],
            [
             0.2222222222222222,
             "#7201a8"
            ],
            [
             0.3333333333333333,
             "#9c179e"
            ],
            [
             0.4444444444444444,
             "#bd3786"
            ],
            [
             0.5555555555555556,
             "#d8576b"
            ],
            [
             0.6666666666666666,
             "#ed7953"
            ],
            [
             0.7777777777777778,
             "#fb9f3a"
            ],
            [
             0.8888888888888888,
             "#fdca26"
            ],
            [
             1,
             "#f0f921"
            ]
           ]
          },
          "colorway": [
           "#636efa",
           "#EF553B",
           "#00cc96",
           "#ab63fa",
           "#FFA15A",
           "#19d3f3",
           "#FF6692",
           "#B6E880",
           "#FF97FF",
           "#FECB52"
          ],
          "font": {
           "color": "#2a3f5f"
          },
          "geo": {
           "bgcolor": "white",
           "lakecolor": "white",
           "landcolor": "#E5ECF6",
           "showlakes": true,
           "showland": true,
           "subunitcolor": "white"
          },
          "hoverlabel": {
           "align": "left"
          },
          "hovermode": "closest",
          "mapbox": {
           "style": "light"
          },
          "paper_bgcolor": "white",
          "plot_bgcolor": "#E5ECF6",
          "polar": {
           "angularaxis": {
            "gridcolor": "white",
            "linecolor": "white",
            "ticks": ""
           },
           "bgcolor": "#E5ECF6",
           "radialaxis": {
            "gridcolor": "white",
            "linecolor": "white",
            "ticks": ""
           }
          },
          "scene": {
           "xaxis": {
            "backgroundcolor": "#E5ECF6",
            "gridcolor": "white",
            "gridwidth": 2,
            "linecolor": "white",
            "showbackground": true,
            "ticks": "",
            "zerolinecolor": "white"
           },
           "yaxis": {
            "backgroundcolor": "#E5ECF6",
            "gridcolor": "white",
            "gridwidth": 2,
            "linecolor": "white",
            "showbackground": true,
            "ticks": "",
            "zerolinecolor": "white"
           },
           "zaxis": {
            "backgroundcolor": "#E5ECF6",
            "gridcolor": "white",
            "gridwidth": 2,
            "linecolor": "white",
            "showbackground": true,
            "ticks": "",
            "zerolinecolor": "white"
           }
          },
          "shapedefaults": {
           "line": {
            "color": "#2a3f5f"
           }
          },
          "ternary": {
           "aaxis": {
            "gridcolor": "white",
            "linecolor": "white",
            "ticks": ""
           },
           "baxis": {
            "gridcolor": "white",
            "linecolor": "white",
            "ticks": ""
           },
           "bgcolor": "#E5ECF6",
           "caxis": {
            "gridcolor": "white",
            "linecolor": "white",
            "ticks": ""
           }
          },
          "title": {
           "x": 0.05
          },
          "xaxis": {
           "automargin": true,
           "gridcolor": "white",
           "linecolor": "white",
           "ticks": "",
           "title": {
            "standoff": 15
           },
           "zerolinecolor": "white",
           "zerolinewidth": 2
          },
          "yaxis": {
           "automargin": true,
           "gridcolor": "white",
           "linecolor": "white",
           "ticks": "",
           "title": {
            "standoff": 15
           },
           "zerolinecolor": "white",
           "zerolinewidth": 2
          }
         }
        },
        "title": {
         "font": {
          "color": "#4D5663"
         }
        },
        "xaxis": {
         "gridcolor": "#E1E5ED",
         "showgrid": true,
         "tickfont": {
          "color": "#4D5663"
         },
         "title": {
          "font": {
           "color": "#4D5663"
          },
          "text": ""
         },
         "zerolinecolor": "#E1E5ED"
        },
        "yaxis": {
         "gridcolor": "#E1E5ED",
         "showgrid": true,
         "tickfont": {
          "color": "#4D5663"
         },
         "title": {
          "font": {
           "color": "#4D5663"
          },
          "text": ""
         },
         "zerolinecolor": "#E1E5ED"
        }
       }
      },
      "text/html": [
       "<div>                            <div id=\"68e4677b-baeb-47e6-bae4-a8575565e306\" class=\"plotly-graph-div\" style=\"height:525px; width:100%;\"></div>            <script type=\"text/javascript\">                require([\"plotly\"], function(Plotly) {                    window.PLOTLYENV=window.PLOTLYENV || {};\n",
       "                    window.PLOTLYENV.BASE_URL='https://plot.ly';                                    if (document.getElementById(\"68e4677b-baeb-47e6-bae4-a8575565e306\")) {                    Plotly.newPlot(                        \"68e4677b-baeb-47e6-bae4-a8575565e306\",                        [{\"line\":{\"color\":\"rgba(255, 153, 51, 1.0)\",\"dash\":\"solid\",\"shape\":\"linear\",\"width\":1.3},\"mode\":\"lines\",\"name\":\"A\",\"text\":\"\",\"x\":[0,1,2,3,4,5,6,7,8,9,10,11,12,13,14,15,16,17,18,19,20,21,22,23,24,25,26,27,28,29,30,31,32,33,34,35,36,37,38,39,40,41,42,43,44,45,46,47,48,49,50,51,52,53,54,55,56,57,58,59,60,61,62,63,64,65,66,67,68,69,70,71,72,73,74,75,76,77,78,79,80,81,82,83,84,85,86,87,88,89,90,91,92,93,94,95,96,97,98,99],\"y\":[-0.013575241110450833,0.2014623469983288,-0.0899174937991628,0.14630244753708072,-1.4024321759431153,0.9439764762749664,-0.06382546259278613,0.9982777327924083,-0.4738871296179397,-1.7479270508567541,1.2896284502503772,-0.04094150702985916,1.1814727250692378,-0.04157675514734971,-1.6784201398008336,0.47505030888120736,0.7132508636230379,-0.24799219632184952,0.498384065116775,-0.7430537436978263,-0.5943008339808885,-0.33906026487962165,1.4230113577354255,-1.1356125023659205,-0.7194920556774836,0.40350687564521937,0.09680216062296426,1.4865354363232182,1.2837062691204009,-1.0449294104369733,-0.6046026297845802,1.035080585844793,-0.4781821091586237,0.5065245619851478,-0.054456558223678724,-0.2900838094108421,1.2672416269601274,1.5008075582806726,-1.194091196522751,0.2698019492376579,-1.3824745155019331,-0.6850572186353427,-0.19631292310626414,-1.7805521599361438,0.3631036285353618,0.6483575919989167,-0.8944577060934934,-0.45196364550134455,1.1847861292974133,-1.8807707543177625,-1.2730083730328554,-0.985849891541202,1.515677949465927,2.0874223263641296,0.2095676374486414,-1.8683151904123785,-0.6105186098607324,-1.5130203096464259,-0.0003192758589660021,-0.2349119693895656,2.1403613710248126,0.5017449877885893,-0.8644251613155253,-0.18257031359149076,0.4680037222306966,1.0298039480230532,1.6891500537933402,-1.6723929936831465,-1.5452705113745921,1.7062784160701598,-0.9945442447534536,-0.7774222561957261,-0.340371918308804,0.4775565849235679,-0.1464000856716878,-0.6662999728881014,-0.346476421279362,1.1186333582116288,1.7342334819205307,-0.15328405276518267,1.3265505703328604,0.2757959579792867,0.7440128032532201,0.5657951535956439,-1.2062365572122227,-1.146436230453736,-1.196647336791392,0.4486528374273348,0.8709122796607749,1.6626797853566428,1.291632918517345,-0.4326167764627019,0.010208309112078297,-0.4199867337686686,-2.454723215844547,0.06614779474923367,-0.2915800212075181,2.1053698664072478,-0.3762600092064639,0.6001534852873674],\"type\":\"scatter\"},{\"line\":{\"color\":\"rgba(55, 128, 191, 1.0)\",\"dash\":\"solid\",\"shape\":\"linear\",\"width\":1.3},\"mode\":\"lines\",\"name\":\"B\",\"text\":\"\",\"x\":[0,1,2,3,4,5,6,7,8,9,10,11,12,13,14,15,16,17,18,19,20,21,22,23,24,25,26,27,28,29,30,31,32,33,34,35,36,37,38,39,40,41,42,43,44,45,46,47,48,49,50,51,52,53,54,55,56,57,58,59,60,61,62,63,64,65,66,67,68,69,70,71,72,73,74,75,76,77,78,79,80,81,82,83,84,85,86,87,88,89,90,91,92,93,94,95,96,97,98,99],\"y\":[-0.4998086521162006,0.8638138888466803,0.7388639050818845,-2.5351516106839127,-0.6241965970069808,1.5863209972469399,-1.0272668926051103,0.5002535232220292,-0.5200660025824956,1.3047727610507056,-0.08212568013725245,-1.0235664200651708,-0.6235439639220131,-0.5117151989397963,-1.3452522320083882,0.07491224307445563,-0.9858627810630309,0.48812466598017146,-1.5781779944879513,0.7523712855310276,1.1558049361093523,-1.2137704432592629,1.5327616425683321,0.466351019069615,0.10177591740341613,1.6724484500498018,-0.5864709129917581,0.8044521979893766,-1.7788829295501853,1.8365955689749571,1.1633726863223617,-1.0242007875588857,1.0954568746844986,-2.2346848698945556,0.39266228174684914,0.8404729296808121,-0.2442692234613969,-1.3538759957921003,-1.0071264286913437,-0.511299082282564,-1.243464143501981,1.53226091738115,0.3787947928421932,0.7937415890066196,0.09369302886706242,1.3665228041204913,-0.07540557834451925,1.12960511549684,-1.0969114092610217,-0.5256619286736163,-0.1255995227222061,1.1299806924847526,1.842176499039704,0.9223553718749332,0.9624408464070193,-1.5949382147241815,0.10358617230626112,0.629926007568259,0.23282104595070716,0.34926447605244215,0.6210082966455818,1.3575286778092086,0.15034415981621055,-0.8319500033867744,-0.23994802321186406,-0.9917052396304813,-0.2101515420007641,-0.4604086451895767,-0.4103810500625088,-0.19193031808972585,-1.618290060509264,0.19680333078802792,-1.3695862380868853,-0.016764656229118585,1.491314290176382,0.5257097682782415,-0.10641544036555185,-1.664002357709959,0.6116037639332458,-0.49482872597775346,-0.06595019550852914,-0.7228448984081656,0.40190328495696986,0.7587437246052716,-0.25076469773656773,0.0903897080544539,-0.49465980470031895,1.0241171735974268,-0.5792698354452798,0.5420021881562249,0.1396869935373383,-0.5245699273060564,-0.4550638669849926,-2.4864659332530863,2.5638197096368796,-1.6643846707072714,-0.14449922089190276,-0.25589607049514157,-1.0290835991474259,-1.099958347108077],\"type\":\"scatter\"},{\"line\":{\"color\":\"rgba(50, 171, 96, 1.0)\",\"dash\":\"solid\",\"shape\":\"linear\",\"width\":1.3},\"mode\":\"lines\",\"name\":\"C\",\"text\":\"\",\"x\":[0,1,2,3,4,5,6,7,8,9,10,11,12,13,14,15,16,17,18,19,20,21,22,23,24,25,26,27,28,29,30,31,32,33,34,35,36,37,38,39,40,41,42,43,44,45,46,47,48,49,50,51,52,53,54,55,56,57,58,59,60,61,62,63,64,65,66,67,68,69,70,71,72,73,74,75,76,77,78,79,80,81,82,83,84,85,86,87,88,89,90,91,92,93,94,95,96,97,98,99],\"y\":[-0.03897819554267246,-0.45237410422813007,-0.9148037122545782,0.9535472502455863,-1.4048943076631102,-0.02552396525986394,-0.16999014234229043,-0.8005195292528466,0.489122269331501,-0.9738843159490248,-0.16020281396152478,-0.8295315084912306,-1.0710559926834227,0.9997766978884247,-1.4310237129930352,1.3070106872583303,0.7313254595552003,0.15605963803369327,0.2792068851428407,-0.28606270041226173,0.16570192386801588,0.7399897481613859,-1.4060667670740261,-0.4062331404164582,-0.40689761889533727,0.4589588634993919,1.0892311839862554,-0.6626451338834085,0.13797262053600742,-1.0517178921409511,-0.167038781526083,-0.4538040326345461,1.093561476437651,-1.847917830900397,-1.812934611548087,0.5460453823483944,-0.9523449183934559,1.3681088221219067,-0.4087585732632988,-0.4689630871848432,0.33113790981162516,1.7995374767983916,-1.9716431639594623,-0.7185553355541259,-0.4831753129690847,-0.1303610300940544,0.5535500317467342,1.7397571813169999,0.7074500660163463,-0.15749934931347762,0.5451645569926603,0.36244176948027973,0.7832399338190531,-1.6479214934825983,0.6947094604228694,-0.026321189640635765,0.6298127853299399,0.09497079558586638,0.5682270338122841,-0.32624841707502206,-0.14150138830677372,-0.5826441247263411,-0.37155778050514765,0.45433186240226353,-1.8486182555766015,-0.4272754688339868,1.3379923933370492,1.1030836835459426,0.33123816871353917,-0.365209036376047,0.44198159795425157,1.130722922509479,1.4431836867831143,-0.059577614635175885,0.8068824260031981,-1.061563464126283,2.3168102767827747,-0.1533249969025579,0.9323611166718686,0.8602968645952596,-3.3123992506170787,2.2042387607130225,0.5363583593827271,-0.3282709532102508,1.8928049631040889,-1.1260015336894462,0.6949648736475352,0.7222765625402395,0.24958033860760995,-1.7163837090135452,-0.7568130572220154,-0.13542338662983835,-0.13893830864817305,-1.2530513135516494,0.3013792980620921,0.6312530701902108,1.528341343156567,-0.11290283541221337,-1.2002544991759756,-0.012042900182959379],\"type\":\"scatter\"},{\"line\":{\"color\":\"rgba(128, 0, 128, 1.0)\",\"dash\":\"solid\",\"shape\":\"linear\",\"width\":1.3},\"mode\":\"lines\",\"name\":\"D\",\"text\":\"\",\"x\":[0,1,2,3,4,5,6,7,8,9,10,11,12,13,14,15,16,17,18,19,20,21,22,23,24,25,26,27,28,29,30,31,32,33,34,35,36,37,38,39,40,41,42,43,44,45,46,47,48,49,50,51,52,53,54,55,56,57,58,59,60,61,62,63,64,65,66,67,68,69,70,71,72,73,74,75,76,77,78,79,80,81,82,83,84,85,86,87,88,89,90,91,92,93,94,95,96,97,98,99],\"y\":[-0.5370911808766012,-2.321571647104632,0.5794844976759298,2.6696847002422093,-0.0628802393351703,0.856143428566187,2.0621458131416266,-0.035648267009385046,0.030833795609075402,0.3415158116578078,-0.3859012363140178,0.3609972035587406,1.0482829284088313,0.06821914391373095,-0.7610923046981812,0.6125951666149811,-1.380189032931467,0.4191665325951915,1.7739917406385555,0.2168226670444201,0.7405402700307281,-0.42256301034062066,0.018111319601031753,1.1155892412982806,-1.4999055926396876,-0.5947774111653107,0.018381646786778092,0.4044101964543374,1.162393959229401,1.2635861650539149,-1.6585120591216127,0.3745359867443123,-0.6042965058041246,-0.36500191273588045,0.07695854943740069,-0.4920978112467595,0.7815104260905494,-0.9342677462715024,-1.085311716713249,-1.2238414271897249,-0.0986622209609241,-1.3598393083357998,0.4351701843515012,-0.605292022362214,-1.9990675344070585,0.8198496193265,-0.7174341412363682,-0.467798063088864,-0.6395896099981112,-0.8137340650012729,1.3388149301350298,-0.07729452529534941,-0.32006894334242303,-0.5212376005619955,0.34826697009878055,0.04322596472394743,-0.8751630591683667,0.5282407958690774,-1.5245554906639394,-0.7114075014623907,0.6136614058445458,-0.6899539400539682,1.3383065365015576,-0.4687534641720835,0.31663129352505415,1.6430350068157462,-2.6193481946114083,-0.584449208207381,2.4382321153223065,0.7346470725692921,-1.4689518757597313,0.618524439084242,2.305276107304658,0.11527745916872338,1.0768495073439397,1.113330117936661,0.5688144051873003,1.4269619333427306,0.2861659530349212,1.6124139653612652,0.40249953609561223,1.1503513623086212,-1.3142430021494809,-0.1533860479957921,0.7026210178016035,-0.25140673295468247,0.03108806949108133,0.12245461656442247,-1.045151787506711,0.5103129915132618,-1.9976116086927933,1.6266100462323916,0.13527513123569643,-1.0360016372607777,1.6998818717986037,0.7079484991419566,1.4649518107345052,0.5280813775901442,0.5204694722261566,-0.11769449274516725],\"type\":\"scatter\"}],                        {\"legend\":{\"bgcolor\":\"#F5F6F9\",\"font\":{\"color\":\"#4D5663\"}},\"paper_bgcolor\":\"#F5F6F9\",\"plot_bgcolor\":\"#F5F6F9\",\"template\":{\"data\":{\"barpolar\":[{\"marker\":{\"line\":{\"color\":\"#E5ECF6\",\"width\":0.5},\"pattern\":{\"fillmode\":\"overlay\",\"size\":10,\"solidity\":0.2}},\"type\":\"barpolar\"}],\"bar\":[{\"error_x\":{\"color\":\"#2a3f5f\"},\"error_y\":{\"color\":\"#2a3f5f\"},\"marker\":{\"line\":{\"color\":\"#E5ECF6\",\"width\":0.5},\"pattern\":{\"fillmode\":\"overlay\",\"size\":10,\"solidity\":0.2}},\"type\":\"bar\"}],\"carpet\":[{\"aaxis\":{\"endlinecolor\":\"#2a3f5f\",\"gridcolor\":\"white\",\"linecolor\":\"white\",\"minorgridcolor\":\"white\",\"startlinecolor\":\"#2a3f5f\"},\"baxis\":{\"endlinecolor\":\"#2a3f5f\",\"gridcolor\":\"white\",\"linecolor\":\"white\",\"minorgridcolor\":\"white\",\"startlinecolor\":\"#2a3f5f\"},\"type\":\"carpet\"}],\"choropleth\":[{\"colorbar\":{\"outlinewidth\":0,\"ticks\":\"\"},\"type\":\"choropleth\"}],\"contourcarpet\":[{\"colorbar\":{\"outlinewidth\":0,\"ticks\":\"\"},\"type\":\"contourcarpet\"}],\"contour\":[{\"colorbar\":{\"outlinewidth\":0,\"ticks\":\"\"},\"colorscale\":[[0.0,\"#0d0887\"],[0.1111111111111111,\"#46039f\"],[0.2222222222222222,\"#7201a8\"],[0.3333333333333333,\"#9c179e\"],[0.4444444444444444,\"#bd3786\"],[0.5555555555555556,\"#d8576b\"],[0.6666666666666666,\"#ed7953\"],[0.7777777777777778,\"#fb9f3a\"],[0.8888888888888888,\"#fdca26\"],[1.0,\"#f0f921\"]],\"type\":\"contour\"}],\"heatmapgl\":[{\"colorbar\":{\"outlinewidth\":0,\"ticks\":\"\"},\"colorscale\":[[0.0,\"#0d0887\"],[0.1111111111111111,\"#46039f\"],[0.2222222222222222,\"#7201a8\"],[0.3333333333333333,\"#9c179e\"],[0.4444444444444444,\"#bd3786\"],[0.5555555555555556,\"#d8576b\"],[0.6666666666666666,\"#ed7953\"],[0.7777777777777778,\"#fb9f3a\"],[0.8888888888888888,\"#fdca26\"],[1.0,\"#f0f921\"]],\"type\":\"heatmapgl\"}],\"heatmap\":[{\"colorbar\":{\"outlinewidth\":0,\"ticks\":\"\"},\"colorscale\":[[0.0,\"#0d0887\"],[0.1111111111111111,\"#46039f\"],[0.2222222222222222,\"#7201a8\"],[0.3333333333333333,\"#9c179e\"],[0.4444444444444444,\"#bd3786\"],[0.5555555555555556,\"#d8576b\"],[0.6666666666666666,\"#ed7953\"],[0.7777777777777778,\"#fb9f3a\"],[0.8888888888888888,\"#fdca26\"],[1.0,\"#f0f921\"]],\"type\":\"heatmap\"}],\"histogram2dcontour\":[{\"colorbar\":{\"outlinewidth\":0,\"ticks\":\"\"},\"colorscale\":[[0.0,\"#0d0887\"],[0.1111111111111111,\"#46039f\"],[0.2222222222222222,\"#7201a8\"],[0.3333333333333333,\"#9c179e\"],[0.4444444444444444,\"#bd3786\"],[0.5555555555555556,\"#d8576b\"],[0.6666666666666666,\"#ed7953\"],[0.7777777777777778,\"#fb9f3a\"],[0.8888888888888888,\"#fdca26\"],[1.0,\"#f0f921\"]],\"type\":\"histogram2dcontour\"}],\"histogram2d\":[{\"colorbar\":{\"outlinewidth\":0,\"ticks\":\"\"},\"colorscale\":[[0.0,\"#0d0887\"],[0.1111111111111111,\"#46039f\"],[0.2222222222222222,\"#7201a8\"],[0.3333333333333333,\"#9c179e\"],[0.4444444444444444,\"#bd3786\"],[0.5555555555555556,\"#d8576b\"],[0.6666666666666666,\"#ed7953\"],[0.7777777777777778,\"#fb9f3a\"],[0.8888888888888888,\"#fdca26\"],[1.0,\"#f0f921\"]],\"type\":\"histogram2d\"}],\"histogram\":[{\"marker\":{\"pattern\":{\"fillmode\":\"overlay\",\"size\":10,\"solidity\":0.2}},\"type\":\"histogram\"}],\"mesh3d\":[{\"colorbar\":{\"outlinewidth\":0,\"ticks\":\"\"},\"type\":\"mesh3d\"}],\"parcoords\":[{\"line\":{\"colorbar\":{\"outlinewidth\":0,\"ticks\":\"\"}},\"type\":\"parcoords\"}],\"pie\":[{\"automargin\":true,\"type\":\"pie\"}],\"scatter3d\":[{\"line\":{\"colorbar\":{\"outlinewidth\":0,\"ticks\":\"\"}},\"marker\":{\"colorbar\":{\"outlinewidth\":0,\"ticks\":\"\"}},\"type\":\"scatter3d\"}],\"scattercarpet\":[{\"marker\":{\"colorbar\":{\"outlinewidth\":0,\"ticks\":\"\"}},\"type\":\"scattercarpet\"}],\"scattergeo\":[{\"marker\":{\"colorbar\":{\"outlinewidth\":0,\"ticks\":\"\"}},\"type\":\"scattergeo\"}],\"scattergl\":[{\"marker\":{\"colorbar\":{\"outlinewidth\":0,\"ticks\":\"\"}},\"type\":\"scattergl\"}],\"scattermapbox\":[{\"marker\":{\"colorbar\":{\"outlinewidth\":0,\"ticks\":\"\"}},\"type\":\"scattermapbox\"}],\"scatterpolargl\":[{\"marker\":{\"colorbar\":{\"outlinewidth\":0,\"ticks\":\"\"}},\"type\":\"scatterpolargl\"}],\"scatterpolar\":[{\"marker\":{\"colorbar\":{\"outlinewidth\":0,\"ticks\":\"\"}},\"type\":\"scatterpolar\"}],\"scatter\":[{\"fillpattern\":{\"fillmode\":\"overlay\",\"size\":10,\"solidity\":0.2},\"type\":\"scatter\"}],\"scatterternary\":[{\"marker\":{\"colorbar\":{\"outlinewidth\":0,\"ticks\":\"\"}},\"type\":\"scatterternary\"}],\"surface\":[{\"colorbar\":{\"outlinewidth\":0,\"ticks\":\"\"},\"colorscale\":[[0.0,\"#0d0887\"],[0.1111111111111111,\"#46039f\"],[0.2222222222222222,\"#7201a8\"],[0.3333333333333333,\"#9c179e\"],[0.4444444444444444,\"#bd3786\"],[0.5555555555555556,\"#d8576b\"],[0.6666666666666666,\"#ed7953\"],[0.7777777777777778,\"#fb9f3a\"],[0.8888888888888888,\"#fdca26\"],[1.0,\"#f0f921\"]],\"type\":\"surface\"}],\"table\":[{\"cells\":{\"fill\":{\"color\":\"#EBF0F8\"},\"line\":{\"color\":\"white\"}},\"header\":{\"fill\":{\"color\":\"#C8D4E3\"},\"line\":{\"color\":\"white\"}},\"type\":\"table\"}]},\"layout\":{\"annotationdefaults\":{\"arrowcolor\":\"#2a3f5f\",\"arrowhead\":0,\"arrowwidth\":1},\"autotypenumbers\":\"strict\",\"coloraxis\":{\"colorbar\":{\"outlinewidth\":0,\"ticks\":\"\"}},\"colorscale\":{\"diverging\":[[0,\"#8e0152\"],[0.1,\"#c51b7d\"],[0.2,\"#de77ae\"],[0.3,\"#f1b6da\"],[0.4,\"#fde0ef\"],[0.5,\"#f7f7f7\"],[0.6,\"#e6f5d0\"],[0.7,\"#b8e186\"],[0.8,\"#7fbc41\"],[0.9,\"#4d9221\"],[1,\"#276419\"]],\"sequential\":[[0.0,\"#0d0887\"],[0.1111111111111111,\"#46039f\"],[0.2222222222222222,\"#7201a8\"],[0.3333333333333333,\"#9c179e\"],[0.4444444444444444,\"#bd3786\"],[0.5555555555555556,\"#d8576b\"],[0.6666666666666666,\"#ed7953\"],[0.7777777777777778,\"#fb9f3a\"],[0.8888888888888888,\"#fdca26\"],[1.0,\"#f0f921\"]],\"sequentialminus\":[[0.0,\"#0d0887\"],[0.1111111111111111,\"#46039f\"],[0.2222222222222222,\"#7201a8\"],[0.3333333333333333,\"#9c179e\"],[0.4444444444444444,\"#bd3786\"],[0.5555555555555556,\"#d8576b\"],[0.6666666666666666,\"#ed7953\"],[0.7777777777777778,\"#fb9f3a\"],[0.8888888888888888,\"#fdca26\"],[1.0,\"#f0f921\"]]},\"colorway\":[\"#636efa\",\"#EF553B\",\"#00cc96\",\"#ab63fa\",\"#FFA15A\",\"#19d3f3\",\"#FF6692\",\"#B6E880\",\"#FF97FF\",\"#FECB52\"],\"font\":{\"color\":\"#2a3f5f\"},\"geo\":{\"bgcolor\":\"white\",\"lakecolor\":\"white\",\"landcolor\":\"#E5ECF6\",\"showlakes\":true,\"showland\":true,\"subunitcolor\":\"white\"},\"hoverlabel\":{\"align\":\"left\"},\"hovermode\":\"closest\",\"mapbox\":{\"style\":\"light\"},\"paper_bgcolor\":\"white\",\"plot_bgcolor\":\"#E5ECF6\",\"polar\":{\"angularaxis\":{\"gridcolor\":\"white\",\"linecolor\":\"white\",\"ticks\":\"\"},\"bgcolor\":\"#E5ECF6\",\"radialaxis\":{\"gridcolor\":\"white\",\"linecolor\":\"white\",\"ticks\":\"\"}},\"scene\":{\"xaxis\":{\"backgroundcolor\":\"#E5ECF6\",\"gridcolor\":\"white\",\"gridwidth\":2,\"linecolor\":\"white\",\"showbackground\":true,\"ticks\":\"\",\"zerolinecolor\":\"white\"},\"yaxis\":{\"backgroundcolor\":\"#E5ECF6\",\"gridcolor\":\"white\",\"gridwidth\":2,\"linecolor\":\"white\",\"showbackground\":true,\"ticks\":\"\",\"zerolinecolor\":\"white\"},\"zaxis\":{\"backgroundcolor\":\"#E5ECF6\",\"gridcolor\":\"white\",\"gridwidth\":2,\"linecolor\":\"white\",\"showbackground\":true,\"ticks\":\"\",\"zerolinecolor\":\"white\"}},\"shapedefaults\":{\"line\":{\"color\":\"#2a3f5f\"}},\"ternary\":{\"aaxis\":{\"gridcolor\":\"white\",\"linecolor\":\"white\",\"ticks\":\"\"},\"baxis\":{\"gridcolor\":\"white\",\"linecolor\":\"white\",\"ticks\":\"\"},\"bgcolor\":\"#E5ECF6\",\"caxis\":{\"gridcolor\":\"white\",\"linecolor\":\"white\",\"ticks\":\"\"}},\"title\":{\"x\":0.05},\"xaxis\":{\"automargin\":true,\"gridcolor\":\"white\",\"linecolor\":\"white\",\"ticks\":\"\",\"title\":{\"standoff\":15},\"zerolinecolor\":\"white\",\"zerolinewidth\":2},\"yaxis\":{\"automargin\":true,\"gridcolor\":\"white\",\"linecolor\":\"white\",\"ticks\":\"\",\"title\":{\"standoff\":15},\"zerolinecolor\":\"white\",\"zerolinewidth\":2}}},\"title\":{\"font\":{\"color\":\"#4D5663\"}},\"xaxis\":{\"gridcolor\":\"#E1E5ED\",\"showgrid\":true,\"tickfont\":{\"color\":\"#4D5663\"},\"title\":{\"font\":{\"color\":\"#4D5663\"},\"text\":\"\"},\"zerolinecolor\":\"#E1E5ED\"},\"yaxis\":{\"gridcolor\":\"#E1E5ED\",\"showgrid\":true,\"tickfont\":{\"color\":\"#4D5663\"},\"title\":{\"font\":{\"color\":\"#4D5663\"},\"text\":\"\"},\"zerolinecolor\":\"#E1E5ED\"}},                        {\"showLink\": true, \"linkText\": \"Export to plot.ly\", \"plotlyServerURL\": \"https://plot.ly\", \"responsive\": true}                    ).then(function(){\n",
       "                            \n",
       "var gd = document.getElementById('68e4677b-baeb-47e6-bae4-a8575565e306');\n",
       "var x = new MutationObserver(function (mutations, observer) {{\n",
       "        var display = window.getComputedStyle(gd).display;\n",
       "        if (!display || display === 'none') {{\n",
       "            console.log([gd, 'removed!']);\n",
       "            Plotly.purge(gd);\n",
       "            observer.disconnect();\n",
       "        }}\n",
       "}});\n",
       "\n",
       "// Listen for the removal of the full notebook cells\n",
       "var notebookContainer = gd.closest('#notebook-container');\n",
       "if (notebookContainer) {{\n",
       "    x.observe(notebookContainer, {childList: true});\n",
       "}}\n",
       "\n",
       "// Listen for the clearing of the current output cell\n",
       "var outputEl = gd.closest('.output');\n",
       "if (outputEl) {{\n",
       "    x.observe(outputEl, {childList: true});\n",
       "}}\n",
       "\n",
       "                        })                };                });            </script>        </div>"
      ]
     },
     "metadata": {},
     "output_type": "display_data"
    }
   ],
   "source": [
    "df.iplot()\n",
    "# now the plot is converted to a plotly interactive image"
   ]
  },
  {
   "cell_type": "code",
   "execution_count": 34,
   "metadata": {},
   "outputs": [
    {
     "data": {
      "application/vnd.plotly.v1+json": {
       "config": {
        "linkText": "Export to plot.ly",
        "plotlyServerURL": "https://plot.ly",
        "showLink": true
       },
       "data": [
        {
         "line": {
          "color": "rgba(255, 153, 51, 1.0)",
          "dash": "solid",
          "shape": "linear",
          "width": 1.3
         },
         "marker": {
          "size": 12,
          "symbol": "circle"
         },
         "mode": "markers",
         "name": "B",
         "text": "",
         "type": "scatter",
         "x": [
          -0.013575241110450833,
          0.2014623469983288,
          -0.0899174937991628,
          0.14630244753708072,
          -1.4024321759431153,
          0.9439764762749664,
          -0.06382546259278613,
          0.9982777327924083,
          -0.4738871296179397,
          -1.7479270508567541,
          1.2896284502503772,
          -0.04094150702985916,
          1.1814727250692378,
          -0.04157675514734971,
          -1.6784201398008336,
          0.47505030888120736,
          0.7132508636230379,
          -0.24799219632184952,
          0.498384065116775,
          -0.7430537436978263,
          -0.5943008339808885,
          -0.33906026487962165,
          1.4230113577354255,
          -1.1356125023659205,
          -0.7194920556774836,
          0.40350687564521937,
          0.09680216062296426,
          1.4865354363232182,
          1.2837062691204009,
          -1.0449294104369733,
          -0.6046026297845802,
          1.035080585844793,
          -0.4781821091586237,
          0.5065245619851478,
          -0.054456558223678724,
          -0.2900838094108421,
          1.2672416269601274,
          1.5008075582806726,
          -1.194091196522751,
          0.2698019492376579,
          -1.3824745155019331,
          -0.6850572186353427,
          -0.19631292310626414,
          -1.7805521599361438,
          0.3631036285353618,
          0.6483575919989167,
          -0.8944577060934934,
          -0.45196364550134455,
          1.1847861292974133,
          -1.8807707543177625,
          -1.2730083730328554,
          -0.985849891541202,
          1.515677949465927,
          2.0874223263641296,
          0.2095676374486414,
          -1.8683151904123785,
          -0.6105186098607324,
          -1.5130203096464259,
          -0.0003192758589660021,
          -0.2349119693895656,
          2.1403613710248126,
          0.5017449877885893,
          -0.8644251613155253,
          -0.18257031359149076,
          0.4680037222306966,
          1.0298039480230532,
          1.6891500537933402,
          -1.6723929936831465,
          -1.5452705113745921,
          1.7062784160701598,
          -0.9945442447534536,
          -0.7774222561957261,
          -0.340371918308804,
          0.4775565849235679,
          -0.1464000856716878,
          -0.6662999728881014,
          -0.346476421279362,
          1.1186333582116288,
          1.7342334819205307,
          -0.15328405276518267,
          1.3265505703328604,
          0.2757959579792867,
          0.7440128032532201,
          0.5657951535956439,
          -1.2062365572122227,
          -1.146436230453736,
          -1.196647336791392,
          0.4486528374273348,
          0.8709122796607749,
          1.6626797853566428,
          1.291632918517345,
          -0.4326167764627019,
          0.010208309112078297,
          -0.4199867337686686,
          -2.454723215844547,
          0.06614779474923367,
          -0.2915800212075181,
          2.1053698664072478,
          -0.3762600092064639,
          0.6001534852873674
         ],
         "y": [
          -0.4998086521162006,
          0.8638138888466803,
          0.7388639050818845,
          -2.5351516106839127,
          -0.6241965970069808,
          1.5863209972469399,
          -1.0272668926051103,
          0.5002535232220292,
          -0.5200660025824956,
          1.3047727610507056,
          -0.08212568013725245,
          -1.0235664200651708,
          -0.6235439639220131,
          -0.5117151989397963,
          -1.3452522320083882,
          0.07491224307445563,
          -0.9858627810630309,
          0.48812466598017146,
          -1.5781779944879513,
          0.7523712855310276,
          1.1558049361093523,
          -1.2137704432592629,
          1.5327616425683321,
          0.466351019069615,
          0.10177591740341613,
          1.6724484500498018,
          -0.5864709129917581,
          0.8044521979893766,
          -1.7788829295501853,
          1.8365955689749571,
          1.1633726863223617,
          -1.0242007875588857,
          1.0954568746844986,
          -2.2346848698945556,
          0.39266228174684914,
          0.8404729296808121,
          -0.2442692234613969,
          -1.3538759957921003,
          -1.0071264286913437,
          -0.511299082282564,
          -1.243464143501981,
          1.53226091738115,
          0.3787947928421932,
          0.7937415890066196,
          0.09369302886706242,
          1.3665228041204913,
          -0.07540557834451925,
          1.12960511549684,
          -1.0969114092610217,
          -0.5256619286736163,
          -0.1255995227222061,
          1.1299806924847526,
          1.842176499039704,
          0.9223553718749332,
          0.9624408464070193,
          -1.5949382147241815,
          0.10358617230626112,
          0.629926007568259,
          0.23282104595070716,
          0.34926447605244215,
          0.6210082966455818,
          1.3575286778092086,
          0.15034415981621055,
          -0.8319500033867744,
          -0.23994802321186406,
          -0.9917052396304813,
          -0.2101515420007641,
          -0.4604086451895767,
          -0.4103810500625088,
          -0.19193031808972585,
          -1.618290060509264,
          0.19680333078802792,
          -1.3695862380868853,
          -0.016764656229118585,
          1.491314290176382,
          0.5257097682782415,
          -0.10641544036555185,
          -1.664002357709959,
          0.6116037639332458,
          -0.49482872597775346,
          -0.06595019550852914,
          -0.7228448984081656,
          0.40190328495696986,
          0.7587437246052716,
          -0.25076469773656773,
          0.0903897080544539,
          -0.49465980470031895,
          1.0241171735974268,
          -0.5792698354452798,
          0.5420021881562249,
          0.1396869935373383,
          -0.5245699273060564,
          -0.4550638669849926,
          -2.4864659332530863,
          2.5638197096368796,
          -1.6643846707072714,
          -0.14449922089190276,
          -0.25589607049514157,
          -1.0290835991474259,
          -1.099958347108077
         ]
        }
       ],
       "layout": {
        "legend": {
         "bgcolor": "#F5F6F9",
         "font": {
          "color": "#4D5663"
         }
        },
        "paper_bgcolor": "#F5F6F9",
        "plot_bgcolor": "#F5F6F9",
        "template": {
         "data": {
          "bar": [
           {
            "error_x": {
             "color": "#2a3f5f"
            },
            "error_y": {
             "color": "#2a3f5f"
            },
            "marker": {
             "line": {
              "color": "#E5ECF6",
              "width": 0.5
             },
             "pattern": {
              "fillmode": "overlay",
              "size": 10,
              "solidity": 0.2
             }
            },
            "type": "bar"
           }
          ],
          "barpolar": [
           {
            "marker": {
             "line": {
              "color": "#E5ECF6",
              "width": 0.5
             },
             "pattern": {
              "fillmode": "overlay",
              "size": 10,
              "solidity": 0.2
             }
            },
            "type": "barpolar"
           }
          ],
          "carpet": [
           {
            "aaxis": {
             "endlinecolor": "#2a3f5f",
             "gridcolor": "white",
             "linecolor": "white",
             "minorgridcolor": "white",
             "startlinecolor": "#2a3f5f"
            },
            "baxis": {
             "endlinecolor": "#2a3f5f",
             "gridcolor": "white",
             "linecolor": "white",
             "minorgridcolor": "white",
             "startlinecolor": "#2a3f5f"
            },
            "type": "carpet"
           }
          ],
          "choropleth": [
           {
            "colorbar": {
             "outlinewidth": 0,
             "ticks": ""
            },
            "type": "choropleth"
           }
          ],
          "contour": [
           {
            "colorbar": {
             "outlinewidth": 0,
             "ticks": ""
            },
            "colorscale": [
             [
              0,
              "#0d0887"
             ],
             [
              0.1111111111111111,
              "#46039f"
             ],
             [
              0.2222222222222222,
              "#7201a8"
             ],
             [
              0.3333333333333333,
              "#9c179e"
             ],
             [
              0.4444444444444444,
              "#bd3786"
             ],
             [
              0.5555555555555556,
              "#d8576b"
             ],
             [
              0.6666666666666666,
              "#ed7953"
             ],
             [
              0.7777777777777778,
              "#fb9f3a"
             ],
             [
              0.8888888888888888,
              "#fdca26"
             ],
             [
              1,
              "#f0f921"
             ]
            ],
            "type": "contour"
           }
          ],
          "contourcarpet": [
           {
            "colorbar": {
             "outlinewidth": 0,
             "ticks": ""
            },
            "type": "contourcarpet"
           }
          ],
          "heatmap": [
           {
            "colorbar": {
             "outlinewidth": 0,
             "ticks": ""
            },
            "colorscale": [
             [
              0,
              "#0d0887"
             ],
             [
              0.1111111111111111,
              "#46039f"
             ],
             [
              0.2222222222222222,
              "#7201a8"
             ],
             [
              0.3333333333333333,
              "#9c179e"
             ],
             [
              0.4444444444444444,
              "#bd3786"
             ],
             [
              0.5555555555555556,
              "#d8576b"
             ],
             [
              0.6666666666666666,
              "#ed7953"
             ],
             [
              0.7777777777777778,
              "#fb9f3a"
             ],
             [
              0.8888888888888888,
              "#fdca26"
             ],
             [
              1,
              "#f0f921"
             ]
            ],
            "type": "heatmap"
           }
          ],
          "heatmapgl": [
           {
            "colorbar": {
             "outlinewidth": 0,
             "ticks": ""
            },
            "colorscale": [
             [
              0,
              "#0d0887"
             ],
             [
              0.1111111111111111,
              "#46039f"
             ],
             [
              0.2222222222222222,
              "#7201a8"
             ],
             [
              0.3333333333333333,
              "#9c179e"
             ],
             [
              0.4444444444444444,
              "#bd3786"
             ],
             [
              0.5555555555555556,
              "#d8576b"
             ],
             [
              0.6666666666666666,
              "#ed7953"
             ],
             [
              0.7777777777777778,
              "#fb9f3a"
             ],
             [
              0.8888888888888888,
              "#fdca26"
             ],
             [
              1,
              "#f0f921"
             ]
            ],
            "type": "heatmapgl"
           }
          ],
          "histogram": [
           {
            "marker": {
             "pattern": {
              "fillmode": "overlay",
              "size": 10,
              "solidity": 0.2
             }
            },
            "type": "histogram"
           }
          ],
          "histogram2d": [
           {
            "colorbar": {
             "outlinewidth": 0,
             "ticks": ""
            },
            "colorscale": [
             [
              0,
              "#0d0887"
             ],
             [
              0.1111111111111111,
              "#46039f"
             ],
             [
              0.2222222222222222,
              "#7201a8"
             ],
             [
              0.3333333333333333,
              "#9c179e"
             ],
             [
              0.4444444444444444,
              "#bd3786"
             ],
             [
              0.5555555555555556,
              "#d8576b"
             ],
             [
              0.6666666666666666,
              "#ed7953"
             ],
             [
              0.7777777777777778,
              "#fb9f3a"
             ],
             [
              0.8888888888888888,
              "#fdca26"
             ],
             [
              1,
              "#f0f921"
             ]
            ],
            "type": "histogram2d"
           }
          ],
          "histogram2dcontour": [
           {
            "colorbar": {
             "outlinewidth": 0,
             "ticks": ""
            },
            "colorscale": [
             [
              0,
              "#0d0887"
             ],
             [
              0.1111111111111111,
              "#46039f"
             ],
             [
              0.2222222222222222,
              "#7201a8"
             ],
             [
              0.3333333333333333,
              "#9c179e"
             ],
             [
              0.4444444444444444,
              "#bd3786"
             ],
             [
              0.5555555555555556,
              "#d8576b"
             ],
             [
              0.6666666666666666,
              "#ed7953"
             ],
             [
              0.7777777777777778,
              "#fb9f3a"
             ],
             [
              0.8888888888888888,
              "#fdca26"
             ],
             [
              1,
              "#f0f921"
             ]
            ],
            "type": "histogram2dcontour"
           }
          ],
          "mesh3d": [
           {
            "colorbar": {
             "outlinewidth": 0,
             "ticks": ""
            },
            "type": "mesh3d"
           }
          ],
          "parcoords": [
           {
            "line": {
             "colorbar": {
              "outlinewidth": 0,
              "ticks": ""
             }
            },
            "type": "parcoords"
           }
          ],
          "pie": [
           {
            "automargin": true,
            "type": "pie"
           }
          ],
          "scatter": [
           {
            "fillpattern": {
             "fillmode": "overlay",
             "size": 10,
             "solidity": 0.2
            },
            "type": "scatter"
           }
          ],
          "scatter3d": [
           {
            "line": {
             "colorbar": {
              "outlinewidth": 0,
              "ticks": ""
             }
            },
            "marker": {
             "colorbar": {
              "outlinewidth": 0,
              "ticks": ""
             }
            },
            "type": "scatter3d"
           }
          ],
          "scattercarpet": [
           {
            "marker": {
             "colorbar": {
              "outlinewidth": 0,
              "ticks": ""
             }
            },
            "type": "scattercarpet"
           }
          ],
          "scattergeo": [
           {
            "marker": {
             "colorbar": {
              "outlinewidth": 0,
              "ticks": ""
             }
            },
            "type": "scattergeo"
           }
          ],
          "scattergl": [
           {
            "marker": {
             "colorbar": {
              "outlinewidth": 0,
              "ticks": ""
             }
            },
            "type": "scattergl"
           }
          ],
          "scattermapbox": [
           {
            "marker": {
             "colorbar": {
              "outlinewidth": 0,
              "ticks": ""
             }
            },
            "type": "scattermapbox"
           }
          ],
          "scatterpolar": [
           {
            "marker": {
             "colorbar": {
              "outlinewidth": 0,
              "ticks": ""
             }
            },
            "type": "scatterpolar"
           }
          ],
          "scatterpolargl": [
           {
            "marker": {
             "colorbar": {
              "outlinewidth": 0,
              "ticks": ""
             }
            },
            "type": "scatterpolargl"
           }
          ],
          "scatterternary": [
           {
            "marker": {
             "colorbar": {
              "outlinewidth": 0,
              "ticks": ""
             }
            },
            "type": "scatterternary"
           }
          ],
          "surface": [
           {
            "colorbar": {
             "outlinewidth": 0,
             "ticks": ""
            },
            "colorscale": [
             [
              0,
              "#0d0887"
             ],
             [
              0.1111111111111111,
              "#46039f"
             ],
             [
              0.2222222222222222,
              "#7201a8"
             ],
             [
              0.3333333333333333,
              "#9c179e"
             ],
             [
              0.4444444444444444,
              "#bd3786"
             ],
             [
              0.5555555555555556,
              "#d8576b"
             ],
             [
              0.6666666666666666,
              "#ed7953"
             ],
             [
              0.7777777777777778,
              "#fb9f3a"
             ],
             [
              0.8888888888888888,
              "#fdca26"
             ],
             [
              1,
              "#f0f921"
             ]
            ],
            "type": "surface"
           }
          ],
          "table": [
           {
            "cells": {
             "fill": {
              "color": "#EBF0F8"
             },
             "line": {
              "color": "white"
             }
            },
            "header": {
             "fill": {
              "color": "#C8D4E3"
             },
             "line": {
              "color": "white"
             }
            },
            "type": "table"
           }
          ]
         },
         "layout": {
          "annotationdefaults": {
           "arrowcolor": "#2a3f5f",
           "arrowhead": 0,
           "arrowwidth": 1
          },
          "autotypenumbers": "strict",
          "coloraxis": {
           "colorbar": {
            "outlinewidth": 0,
            "ticks": ""
           }
          },
          "colorscale": {
           "diverging": [
            [
             0,
             "#8e0152"
            ],
            [
             0.1,
             "#c51b7d"
            ],
            [
             0.2,
             "#de77ae"
            ],
            [
             0.3,
             "#f1b6da"
            ],
            [
             0.4,
             "#fde0ef"
            ],
            [
             0.5,
             "#f7f7f7"
            ],
            [
             0.6,
             "#e6f5d0"
            ],
            [
             0.7,
             "#b8e186"
            ],
            [
             0.8,
             "#7fbc41"
            ],
            [
             0.9,
             "#4d9221"
            ],
            [
             1,
             "#276419"
            ]
           ],
           "sequential": [
            [
             0,
             "#0d0887"
            ],
            [
             0.1111111111111111,
             "#46039f"
            ],
            [
             0.2222222222222222,
             "#7201a8"
            ],
            [
             0.3333333333333333,
             "#9c179e"
            ],
            [
             0.4444444444444444,
             "#bd3786"
            ],
            [
             0.5555555555555556,
             "#d8576b"
            ],
            [
             0.6666666666666666,
             "#ed7953"
            ],
            [
             0.7777777777777778,
             "#fb9f3a"
            ],
            [
             0.8888888888888888,
             "#fdca26"
            ],
            [
             1,
             "#f0f921"
            ]
           ],
           "sequentialminus": [
            [
             0,
             "#0d0887"
            ],
            [
             0.1111111111111111,
             "#46039f"
            ],
            [
             0.2222222222222222,
             "#7201a8"
            ],
            [
             0.3333333333333333,
             "#9c179e"
            ],
            [
             0.4444444444444444,
             "#bd3786"
            ],
            [
             0.5555555555555556,
             "#d8576b"
            ],
            [
             0.6666666666666666,
             "#ed7953"
            ],
            [
             0.7777777777777778,
             "#fb9f3a"
            ],
            [
             0.8888888888888888,
             "#fdca26"
            ],
            [
             1,
             "#f0f921"
            ]
           ]
          },
          "colorway": [
           "#636efa",
           "#EF553B",
           "#00cc96",
           "#ab63fa",
           "#FFA15A",
           "#19d3f3",
           "#FF6692",
           "#B6E880",
           "#FF97FF",
           "#FECB52"
          ],
          "font": {
           "color": "#2a3f5f"
          },
          "geo": {
           "bgcolor": "white",
           "lakecolor": "white",
           "landcolor": "#E5ECF6",
           "showlakes": true,
           "showland": true,
           "subunitcolor": "white"
          },
          "hoverlabel": {
           "align": "left"
          },
          "hovermode": "closest",
          "mapbox": {
           "style": "light"
          },
          "paper_bgcolor": "white",
          "plot_bgcolor": "#E5ECF6",
          "polar": {
           "angularaxis": {
            "gridcolor": "white",
            "linecolor": "white",
            "ticks": ""
           },
           "bgcolor": "#E5ECF6",
           "radialaxis": {
            "gridcolor": "white",
            "linecolor": "white",
            "ticks": ""
           }
          },
          "scene": {
           "xaxis": {
            "backgroundcolor": "#E5ECF6",
            "gridcolor": "white",
            "gridwidth": 2,
            "linecolor": "white",
            "showbackground": true,
            "ticks": "",
            "zerolinecolor": "white"
           },
           "yaxis": {
            "backgroundcolor": "#E5ECF6",
            "gridcolor": "white",
            "gridwidth": 2,
            "linecolor": "white",
            "showbackground": true,
            "ticks": "",
            "zerolinecolor": "white"
           },
           "zaxis": {
            "backgroundcolor": "#E5ECF6",
            "gridcolor": "white",
            "gridwidth": 2,
            "linecolor": "white",
            "showbackground": true,
            "ticks": "",
            "zerolinecolor": "white"
           }
          },
          "shapedefaults": {
           "line": {
            "color": "#2a3f5f"
           }
          },
          "ternary": {
           "aaxis": {
            "gridcolor": "white",
            "linecolor": "white",
            "ticks": ""
           },
           "baxis": {
            "gridcolor": "white",
            "linecolor": "white",
            "ticks": ""
           },
           "bgcolor": "#E5ECF6",
           "caxis": {
            "gridcolor": "white",
            "linecolor": "white",
            "ticks": ""
           }
          },
          "title": {
           "x": 0.05
          },
          "xaxis": {
           "automargin": true,
           "gridcolor": "white",
           "linecolor": "white",
           "ticks": "",
           "title": {
            "standoff": 15
           },
           "zerolinecolor": "white",
           "zerolinewidth": 2
          },
          "yaxis": {
           "automargin": true,
           "gridcolor": "white",
           "linecolor": "white",
           "ticks": "",
           "title": {
            "standoff": 15
           },
           "zerolinecolor": "white",
           "zerolinewidth": 2
          }
         }
        },
        "title": {
         "font": {
          "color": "#4D5663"
         }
        },
        "xaxis": {
         "gridcolor": "#E1E5ED",
         "showgrid": true,
         "tickfont": {
          "color": "#4D5663"
         },
         "title": {
          "font": {
           "color": "#4D5663"
          },
          "text": ""
         },
         "zerolinecolor": "#E1E5ED"
        },
        "yaxis": {
         "gridcolor": "#E1E5ED",
         "showgrid": true,
         "tickfont": {
          "color": "#4D5663"
         },
         "title": {
          "font": {
           "color": "#4D5663"
          },
          "text": ""
         },
         "zerolinecolor": "#E1E5ED"
        }
       }
      },
      "text/html": [
       "<div>                            <div id=\"4a2b25e7-9a61-41ce-8e72-a4be67bd5d6a\" class=\"plotly-graph-div\" style=\"height:525px; width:100%;\"></div>            <script type=\"text/javascript\">                require([\"plotly\"], function(Plotly) {                    window.PLOTLYENV=window.PLOTLYENV || {};\n",
       "                    window.PLOTLYENV.BASE_URL='https://plot.ly';                                    if (document.getElementById(\"4a2b25e7-9a61-41ce-8e72-a4be67bd5d6a\")) {                    Plotly.newPlot(                        \"4a2b25e7-9a61-41ce-8e72-a4be67bd5d6a\",                        [{\"line\":{\"color\":\"rgba(255, 153, 51, 1.0)\",\"dash\":\"solid\",\"shape\":\"linear\",\"width\":1.3},\"marker\":{\"size\":12,\"symbol\":\"circle\"},\"mode\":\"markers\",\"name\":\"B\",\"text\":\"\",\"x\":[-0.013575241110450833,0.2014623469983288,-0.0899174937991628,0.14630244753708072,-1.4024321759431153,0.9439764762749664,-0.06382546259278613,0.9982777327924083,-0.4738871296179397,-1.7479270508567541,1.2896284502503772,-0.04094150702985916,1.1814727250692378,-0.04157675514734971,-1.6784201398008336,0.47505030888120736,0.7132508636230379,-0.24799219632184952,0.498384065116775,-0.7430537436978263,-0.5943008339808885,-0.33906026487962165,1.4230113577354255,-1.1356125023659205,-0.7194920556774836,0.40350687564521937,0.09680216062296426,1.4865354363232182,1.2837062691204009,-1.0449294104369733,-0.6046026297845802,1.035080585844793,-0.4781821091586237,0.5065245619851478,-0.054456558223678724,-0.2900838094108421,1.2672416269601274,1.5008075582806726,-1.194091196522751,0.2698019492376579,-1.3824745155019331,-0.6850572186353427,-0.19631292310626414,-1.7805521599361438,0.3631036285353618,0.6483575919989167,-0.8944577060934934,-0.45196364550134455,1.1847861292974133,-1.8807707543177625,-1.2730083730328554,-0.985849891541202,1.515677949465927,2.0874223263641296,0.2095676374486414,-1.8683151904123785,-0.6105186098607324,-1.5130203096464259,-0.0003192758589660021,-0.2349119693895656,2.1403613710248126,0.5017449877885893,-0.8644251613155253,-0.18257031359149076,0.4680037222306966,1.0298039480230532,1.6891500537933402,-1.6723929936831465,-1.5452705113745921,1.7062784160701598,-0.9945442447534536,-0.7774222561957261,-0.340371918308804,0.4775565849235679,-0.1464000856716878,-0.6662999728881014,-0.346476421279362,1.1186333582116288,1.7342334819205307,-0.15328405276518267,1.3265505703328604,0.2757959579792867,0.7440128032532201,0.5657951535956439,-1.2062365572122227,-1.146436230453736,-1.196647336791392,0.4486528374273348,0.8709122796607749,1.6626797853566428,1.291632918517345,-0.4326167764627019,0.010208309112078297,-0.4199867337686686,-2.454723215844547,0.06614779474923367,-0.2915800212075181,2.1053698664072478,-0.3762600092064639,0.6001534852873674],\"y\":[-0.4998086521162006,0.8638138888466803,0.7388639050818845,-2.5351516106839127,-0.6241965970069808,1.5863209972469399,-1.0272668926051103,0.5002535232220292,-0.5200660025824956,1.3047727610507056,-0.08212568013725245,-1.0235664200651708,-0.6235439639220131,-0.5117151989397963,-1.3452522320083882,0.07491224307445563,-0.9858627810630309,0.48812466598017146,-1.5781779944879513,0.7523712855310276,1.1558049361093523,-1.2137704432592629,1.5327616425683321,0.466351019069615,0.10177591740341613,1.6724484500498018,-0.5864709129917581,0.8044521979893766,-1.7788829295501853,1.8365955689749571,1.1633726863223617,-1.0242007875588857,1.0954568746844986,-2.2346848698945556,0.39266228174684914,0.8404729296808121,-0.2442692234613969,-1.3538759957921003,-1.0071264286913437,-0.511299082282564,-1.243464143501981,1.53226091738115,0.3787947928421932,0.7937415890066196,0.09369302886706242,1.3665228041204913,-0.07540557834451925,1.12960511549684,-1.0969114092610217,-0.5256619286736163,-0.1255995227222061,1.1299806924847526,1.842176499039704,0.9223553718749332,0.9624408464070193,-1.5949382147241815,0.10358617230626112,0.629926007568259,0.23282104595070716,0.34926447605244215,0.6210082966455818,1.3575286778092086,0.15034415981621055,-0.8319500033867744,-0.23994802321186406,-0.9917052396304813,-0.2101515420007641,-0.4604086451895767,-0.4103810500625088,-0.19193031808972585,-1.618290060509264,0.19680333078802792,-1.3695862380868853,-0.016764656229118585,1.491314290176382,0.5257097682782415,-0.10641544036555185,-1.664002357709959,0.6116037639332458,-0.49482872597775346,-0.06595019550852914,-0.7228448984081656,0.40190328495696986,0.7587437246052716,-0.25076469773656773,0.0903897080544539,-0.49465980470031895,1.0241171735974268,-0.5792698354452798,0.5420021881562249,0.1396869935373383,-0.5245699273060564,-0.4550638669849926,-2.4864659332530863,2.5638197096368796,-1.6643846707072714,-0.14449922089190276,-0.25589607049514157,-1.0290835991474259,-1.099958347108077],\"type\":\"scatter\"}],                        {\"legend\":{\"bgcolor\":\"#F5F6F9\",\"font\":{\"color\":\"#4D5663\"}},\"paper_bgcolor\":\"#F5F6F9\",\"plot_bgcolor\":\"#F5F6F9\",\"template\":{\"data\":{\"barpolar\":[{\"marker\":{\"line\":{\"color\":\"#E5ECF6\",\"width\":0.5},\"pattern\":{\"fillmode\":\"overlay\",\"size\":10,\"solidity\":0.2}},\"type\":\"barpolar\"}],\"bar\":[{\"error_x\":{\"color\":\"#2a3f5f\"},\"error_y\":{\"color\":\"#2a3f5f\"},\"marker\":{\"line\":{\"color\":\"#E5ECF6\",\"width\":0.5},\"pattern\":{\"fillmode\":\"overlay\",\"size\":10,\"solidity\":0.2}},\"type\":\"bar\"}],\"carpet\":[{\"aaxis\":{\"endlinecolor\":\"#2a3f5f\",\"gridcolor\":\"white\",\"linecolor\":\"white\",\"minorgridcolor\":\"white\",\"startlinecolor\":\"#2a3f5f\"},\"baxis\":{\"endlinecolor\":\"#2a3f5f\",\"gridcolor\":\"white\",\"linecolor\":\"white\",\"minorgridcolor\":\"white\",\"startlinecolor\":\"#2a3f5f\"},\"type\":\"carpet\"}],\"choropleth\":[{\"colorbar\":{\"outlinewidth\":0,\"ticks\":\"\"},\"type\":\"choropleth\"}],\"contourcarpet\":[{\"colorbar\":{\"outlinewidth\":0,\"ticks\":\"\"},\"type\":\"contourcarpet\"}],\"contour\":[{\"colorbar\":{\"outlinewidth\":0,\"ticks\":\"\"},\"colorscale\":[[0.0,\"#0d0887\"],[0.1111111111111111,\"#46039f\"],[0.2222222222222222,\"#7201a8\"],[0.3333333333333333,\"#9c179e\"],[0.4444444444444444,\"#bd3786\"],[0.5555555555555556,\"#d8576b\"],[0.6666666666666666,\"#ed7953\"],[0.7777777777777778,\"#fb9f3a\"],[0.8888888888888888,\"#fdca26\"],[1.0,\"#f0f921\"]],\"type\":\"contour\"}],\"heatmapgl\":[{\"colorbar\":{\"outlinewidth\":0,\"ticks\":\"\"},\"colorscale\":[[0.0,\"#0d0887\"],[0.1111111111111111,\"#46039f\"],[0.2222222222222222,\"#7201a8\"],[0.3333333333333333,\"#9c179e\"],[0.4444444444444444,\"#bd3786\"],[0.5555555555555556,\"#d8576b\"],[0.6666666666666666,\"#ed7953\"],[0.7777777777777778,\"#fb9f3a\"],[0.8888888888888888,\"#fdca26\"],[1.0,\"#f0f921\"]],\"type\":\"heatmapgl\"}],\"heatmap\":[{\"colorbar\":{\"outlinewidth\":0,\"ticks\":\"\"},\"colorscale\":[[0.0,\"#0d0887\"],[0.1111111111111111,\"#46039f\"],[0.2222222222222222,\"#7201a8\"],[0.3333333333333333,\"#9c179e\"],[0.4444444444444444,\"#bd3786\"],[0.5555555555555556,\"#d8576b\"],[0.6666666666666666,\"#ed7953\"],[0.7777777777777778,\"#fb9f3a\"],[0.8888888888888888,\"#fdca26\"],[1.0,\"#f0f921\"]],\"type\":\"heatmap\"}],\"histogram2dcontour\":[{\"colorbar\":{\"outlinewidth\":0,\"ticks\":\"\"},\"colorscale\":[[0.0,\"#0d0887\"],[0.1111111111111111,\"#46039f\"],[0.2222222222222222,\"#7201a8\"],[0.3333333333333333,\"#9c179e\"],[0.4444444444444444,\"#bd3786\"],[0.5555555555555556,\"#d8576b\"],[0.6666666666666666,\"#ed7953\"],[0.7777777777777778,\"#fb9f3a\"],[0.8888888888888888,\"#fdca26\"],[1.0,\"#f0f921\"]],\"type\":\"histogram2dcontour\"}],\"histogram2d\":[{\"colorbar\":{\"outlinewidth\":0,\"ticks\":\"\"},\"colorscale\":[[0.0,\"#0d0887\"],[0.1111111111111111,\"#46039f\"],[0.2222222222222222,\"#7201a8\"],[0.3333333333333333,\"#9c179e\"],[0.4444444444444444,\"#bd3786\"],[0.5555555555555556,\"#d8576b\"],[0.6666666666666666,\"#ed7953\"],[0.7777777777777778,\"#fb9f3a\"],[0.8888888888888888,\"#fdca26\"],[1.0,\"#f0f921\"]],\"type\":\"histogram2d\"}],\"histogram\":[{\"marker\":{\"pattern\":{\"fillmode\":\"overlay\",\"size\":10,\"solidity\":0.2}},\"type\":\"histogram\"}],\"mesh3d\":[{\"colorbar\":{\"outlinewidth\":0,\"ticks\":\"\"},\"type\":\"mesh3d\"}],\"parcoords\":[{\"line\":{\"colorbar\":{\"outlinewidth\":0,\"ticks\":\"\"}},\"type\":\"parcoords\"}],\"pie\":[{\"automargin\":true,\"type\":\"pie\"}],\"scatter3d\":[{\"line\":{\"colorbar\":{\"outlinewidth\":0,\"ticks\":\"\"}},\"marker\":{\"colorbar\":{\"outlinewidth\":0,\"ticks\":\"\"}},\"type\":\"scatter3d\"}],\"scattercarpet\":[{\"marker\":{\"colorbar\":{\"outlinewidth\":0,\"ticks\":\"\"}},\"type\":\"scattercarpet\"}],\"scattergeo\":[{\"marker\":{\"colorbar\":{\"outlinewidth\":0,\"ticks\":\"\"}},\"type\":\"scattergeo\"}],\"scattergl\":[{\"marker\":{\"colorbar\":{\"outlinewidth\":0,\"ticks\":\"\"}},\"type\":\"scattergl\"}],\"scattermapbox\":[{\"marker\":{\"colorbar\":{\"outlinewidth\":0,\"ticks\":\"\"}},\"type\":\"scattermapbox\"}],\"scatterpolargl\":[{\"marker\":{\"colorbar\":{\"outlinewidth\":0,\"ticks\":\"\"}},\"type\":\"scatterpolargl\"}],\"scatterpolar\":[{\"marker\":{\"colorbar\":{\"outlinewidth\":0,\"ticks\":\"\"}},\"type\":\"scatterpolar\"}],\"scatter\":[{\"fillpattern\":{\"fillmode\":\"overlay\",\"size\":10,\"solidity\":0.2},\"type\":\"scatter\"}],\"scatterternary\":[{\"marker\":{\"colorbar\":{\"outlinewidth\":0,\"ticks\":\"\"}},\"type\":\"scatterternary\"}],\"surface\":[{\"colorbar\":{\"outlinewidth\":0,\"ticks\":\"\"},\"colorscale\":[[0.0,\"#0d0887\"],[0.1111111111111111,\"#46039f\"],[0.2222222222222222,\"#7201a8\"],[0.3333333333333333,\"#9c179e\"],[0.4444444444444444,\"#bd3786\"],[0.5555555555555556,\"#d8576b\"],[0.6666666666666666,\"#ed7953\"],[0.7777777777777778,\"#fb9f3a\"],[0.8888888888888888,\"#fdca26\"],[1.0,\"#f0f921\"]],\"type\":\"surface\"}],\"table\":[{\"cells\":{\"fill\":{\"color\":\"#EBF0F8\"},\"line\":{\"color\":\"white\"}},\"header\":{\"fill\":{\"color\":\"#C8D4E3\"},\"line\":{\"color\":\"white\"}},\"type\":\"table\"}]},\"layout\":{\"annotationdefaults\":{\"arrowcolor\":\"#2a3f5f\",\"arrowhead\":0,\"arrowwidth\":1},\"autotypenumbers\":\"strict\",\"coloraxis\":{\"colorbar\":{\"outlinewidth\":0,\"ticks\":\"\"}},\"colorscale\":{\"diverging\":[[0,\"#8e0152\"],[0.1,\"#c51b7d\"],[0.2,\"#de77ae\"],[0.3,\"#f1b6da\"],[0.4,\"#fde0ef\"],[0.5,\"#f7f7f7\"],[0.6,\"#e6f5d0\"],[0.7,\"#b8e186\"],[0.8,\"#7fbc41\"],[0.9,\"#4d9221\"],[1,\"#276419\"]],\"sequential\":[[0.0,\"#0d0887\"],[0.1111111111111111,\"#46039f\"],[0.2222222222222222,\"#7201a8\"],[0.3333333333333333,\"#9c179e\"],[0.4444444444444444,\"#bd3786\"],[0.5555555555555556,\"#d8576b\"],[0.6666666666666666,\"#ed7953\"],[0.7777777777777778,\"#fb9f3a\"],[0.8888888888888888,\"#fdca26\"],[1.0,\"#f0f921\"]],\"sequentialminus\":[[0.0,\"#0d0887\"],[0.1111111111111111,\"#46039f\"],[0.2222222222222222,\"#7201a8\"],[0.3333333333333333,\"#9c179e\"],[0.4444444444444444,\"#bd3786\"],[0.5555555555555556,\"#d8576b\"],[0.6666666666666666,\"#ed7953\"],[0.7777777777777778,\"#fb9f3a\"],[0.8888888888888888,\"#fdca26\"],[1.0,\"#f0f921\"]]},\"colorway\":[\"#636efa\",\"#EF553B\",\"#00cc96\",\"#ab63fa\",\"#FFA15A\",\"#19d3f3\",\"#FF6692\",\"#B6E880\",\"#FF97FF\",\"#FECB52\"],\"font\":{\"color\":\"#2a3f5f\"},\"geo\":{\"bgcolor\":\"white\",\"lakecolor\":\"white\",\"landcolor\":\"#E5ECF6\",\"showlakes\":true,\"showland\":true,\"subunitcolor\":\"white\"},\"hoverlabel\":{\"align\":\"left\"},\"hovermode\":\"closest\",\"mapbox\":{\"style\":\"light\"},\"paper_bgcolor\":\"white\",\"plot_bgcolor\":\"#E5ECF6\",\"polar\":{\"angularaxis\":{\"gridcolor\":\"white\",\"linecolor\":\"white\",\"ticks\":\"\"},\"bgcolor\":\"#E5ECF6\",\"radialaxis\":{\"gridcolor\":\"white\",\"linecolor\":\"white\",\"ticks\":\"\"}},\"scene\":{\"xaxis\":{\"backgroundcolor\":\"#E5ECF6\",\"gridcolor\":\"white\",\"gridwidth\":2,\"linecolor\":\"white\",\"showbackground\":true,\"ticks\":\"\",\"zerolinecolor\":\"white\"},\"yaxis\":{\"backgroundcolor\":\"#E5ECF6\",\"gridcolor\":\"white\",\"gridwidth\":2,\"linecolor\":\"white\",\"showbackground\":true,\"ticks\":\"\",\"zerolinecolor\":\"white\"},\"zaxis\":{\"backgroundcolor\":\"#E5ECF6\",\"gridcolor\":\"white\",\"gridwidth\":2,\"linecolor\":\"white\",\"showbackground\":true,\"ticks\":\"\",\"zerolinecolor\":\"white\"}},\"shapedefaults\":{\"line\":{\"color\":\"#2a3f5f\"}},\"ternary\":{\"aaxis\":{\"gridcolor\":\"white\",\"linecolor\":\"white\",\"ticks\":\"\"},\"baxis\":{\"gridcolor\":\"white\",\"linecolor\":\"white\",\"ticks\":\"\"},\"bgcolor\":\"#E5ECF6\",\"caxis\":{\"gridcolor\":\"white\",\"linecolor\":\"white\",\"ticks\":\"\"}},\"title\":{\"x\":0.05},\"xaxis\":{\"automargin\":true,\"gridcolor\":\"white\",\"linecolor\":\"white\",\"ticks\":\"\",\"title\":{\"standoff\":15},\"zerolinecolor\":\"white\",\"zerolinewidth\":2},\"yaxis\":{\"automargin\":true,\"gridcolor\":\"white\",\"linecolor\":\"white\",\"ticks\":\"\",\"title\":{\"standoff\":15},\"zerolinecolor\":\"white\",\"zerolinewidth\":2}}},\"title\":{\"font\":{\"color\":\"#4D5663\"}},\"xaxis\":{\"gridcolor\":\"#E1E5ED\",\"showgrid\":true,\"tickfont\":{\"color\":\"#4D5663\"},\"title\":{\"font\":{\"color\":\"#4D5663\"},\"text\":\"\"},\"zerolinecolor\":\"#E1E5ED\"},\"yaxis\":{\"gridcolor\":\"#E1E5ED\",\"showgrid\":true,\"tickfont\":{\"color\":\"#4D5663\"},\"title\":{\"font\":{\"color\":\"#4D5663\"},\"text\":\"\"},\"zerolinecolor\":\"#E1E5ED\"}},                        {\"showLink\": true, \"linkText\": \"Export to plot.ly\", \"plotlyServerURL\": \"https://plot.ly\", \"responsive\": true}                    ).then(function(){\n",
       "                            \n",
       "var gd = document.getElementById('4a2b25e7-9a61-41ce-8e72-a4be67bd5d6a');\n",
       "var x = new MutationObserver(function (mutations, observer) {{\n",
       "        var display = window.getComputedStyle(gd).display;\n",
       "        if (!display || display === 'none') {{\n",
       "            console.log([gd, 'removed!']);\n",
       "            Plotly.purge(gd);\n",
       "            observer.disconnect();\n",
       "        }}\n",
       "}});\n",
       "\n",
       "// Listen for the removal of the full notebook cells\n",
       "var notebookContainer = gd.closest('#notebook-container');\n",
       "if (notebookContainer) {{\n",
       "    x.observe(notebookContainer, {childList: true});\n",
       "}}\n",
       "\n",
       "// Listen for the clearing of the current output cell\n",
       "var outputEl = gd.closest('.output');\n",
       "if (outputEl) {{\n",
       "    x.observe(outputEl, {childList: true});\n",
       "}}\n",
       "\n",
       "                        })                };                });            </script>        </div>"
      ]
     },
     "metadata": {},
     "output_type": "display_data"
    }
   ],
   "source": [
    "# interactive scatter plot\n",
    "df.iplot(kind='scatter', x='A', y='B', mode='markers')"
   ]
  },
  {
   "cell_type": "code",
   "execution_count": 35,
   "metadata": {},
   "outputs": [
    {
     "data": {
      "application/vnd.plotly.v1+json": {
       "config": {
        "linkText": "Export to plot.ly",
        "plotlyServerURL": "https://plot.ly",
        "showLink": true
       },
       "data": [
        {
         "marker": {
          "color": "rgba(255, 153, 51, 0.6)",
          "line": {
           "color": "rgba(255, 153, 51, 1.0)",
           "width": 1
          }
         },
         "name": "Values",
         "orientation": "v",
         "text": "",
         "type": "bar",
         "x": [
          "A",
          "B",
          "C"
         ],
         "y": [
          32,
          43,
          50
         ]
        }
       ],
       "layout": {
        "legend": {
         "bgcolor": "#F5F6F9",
         "font": {
          "color": "#4D5663"
         }
        },
        "paper_bgcolor": "#F5F6F9",
        "plot_bgcolor": "#F5F6F9",
        "template": {
         "data": {
          "bar": [
           {
            "error_x": {
             "color": "#2a3f5f"
            },
            "error_y": {
             "color": "#2a3f5f"
            },
            "marker": {
             "line": {
              "color": "#E5ECF6",
              "width": 0.5
             },
             "pattern": {
              "fillmode": "overlay",
              "size": 10,
              "solidity": 0.2
             }
            },
            "type": "bar"
           }
          ],
          "barpolar": [
           {
            "marker": {
             "line": {
              "color": "#E5ECF6",
              "width": 0.5
             },
             "pattern": {
              "fillmode": "overlay",
              "size": 10,
              "solidity": 0.2
             }
            },
            "type": "barpolar"
           }
          ],
          "carpet": [
           {
            "aaxis": {
             "endlinecolor": "#2a3f5f",
             "gridcolor": "white",
             "linecolor": "white",
             "minorgridcolor": "white",
             "startlinecolor": "#2a3f5f"
            },
            "baxis": {
             "endlinecolor": "#2a3f5f",
             "gridcolor": "white",
             "linecolor": "white",
             "minorgridcolor": "white",
             "startlinecolor": "#2a3f5f"
            },
            "type": "carpet"
           }
          ],
          "choropleth": [
           {
            "colorbar": {
             "outlinewidth": 0,
             "ticks": ""
            },
            "type": "choropleth"
           }
          ],
          "contour": [
           {
            "colorbar": {
             "outlinewidth": 0,
             "ticks": ""
            },
            "colorscale": [
             [
              0,
              "#0d0887"
             ],
             [
              0.1111111111111111,
              "#46039f"
             ],
             [
              0.2222222222222222,
              "#7201a8"
             ],
             [
              0.3333333333333333,
              "#9c179e"
             ],
             [
              0.4444444444444444,
              "#bd3786"
             ],
             [
              0.5555555555555556,
              "#d8576b"
             ],
             [
              0.6666666666666666,
              "#ed7953"
             ],
             [
              0.7777777777777778,
              "#fb9f3a"
             ],
             [
              0.8888888888888888,
              "#fdca26"
             ],
             [
              1,
              "#f0f921"
             ]
            ],
            "type": "contour"
           }
          ],
          "contourcarpet": [
           {
            "colorbar": {
             "outlinewidth": 0,
             "ticks": ""
            },
            "type": "contourcarpet"
           }
          ],
          "heatmap": [
           {
            "colorbar": {
             "outlinewidth": 0,
             "ticks": ""
            },
            "colorscale": [
             [
              0,
              "#0d0887"
             ],
             [
              0.1111111111111111,
              "#46039f"
             ],
             [
              0.2222222222222222,
              "#7201a8"
             ],
             [
              0.3333333333333333,
              "#9c179e"
             ],
             [
              0.4444444444444444,
              "#bd3786"
             ],
             [
              0.5555555555555556,
              "#d8576b"
             ],
             [
              0.6666666666666666,
              "#ed7953"
             ],
             [
              0.7777777777777778,
              "#fb9f3a"
             ],
             [
              0.8888888888888888,
              "#fdca26"
             ],
             [
              1,
              "#f0f921"
             ]
            ],
            "type": "heatmap"
           }
          ],
          "heatmapgl": [
           {
            "colorbar": {
             "outlinewidth": 0,
             "ticks": ""
            },
            "colorscale": [
             [
              0,
              "#0d0887"
             ],
             [
              0.1111111111111111,
              "#46039f"
             ],
             [
              0.2222222222222222,
              "#7201a8"
             ],
             [
              0.3333333333333333,
              "#9c179e"
             ],
             [
              0.4444444444444444,
              "#bd3786"
             ],
             [
              0.5555555555555556,
              "#d8576b"
             ],
             [
              0.6666666666666666,
              "#ed7953"
             ],
             [
              0.7777777777777778,
              "#fb9f3a"
             ],
             [
              0.8888888888888888,
              "#fdca26"
             ],
             [
              1,
              "#f0f921"
             ]
            ],
            "type": "heatmapgl"
           }
          ],
          "histogram": [
           {
            "marker": {
             "pattern": {
              "fillmode": "overlay",
              "size": 10,
              "solidity": 0.2
             }
            },
            "type": "histogram"
           }
          ],
          "histogram2d": [
           {
            "colorbar": {
             "outlinewidth": 0,
             "ticks": ""
            },
            "colorscale": [
             [
              0,
              "#0d0887"
             ],
             [
              0.1111111111111111,
              "#46039f"
             ],
             [
              0.2222222222222222,
              "#7201a8"
             ],
             [
              0.3333333333333333,
              "#9c179e"
             ],
             [
              0.4444444444444444,
              "#bd3786"
             ],
             [
              0.5555555555555556,
              "#d8576b"
             ],
             [
              0.6666666666666666,
              "#ed7953"
             ],
             [
              0.7777777777777778,
              "#fb9f3a"
             ],
             [
              0.8888888888888888,
              "#fdca26"
             ],
             [
              1,
              "#f0f921"
             ]
            ],
            "type": "histogram2d"
           }
          ],
          "histogram2dcontour": [
           {
            "colorbar": {
             "outlinewidth": 0,
             "ticks": ""
            },
            "colorscale": [
             [
              0,
              "#0d0887"
             ],
             [
              0.1111111111111111,
              "#46039f"
             ],
             [
              0.2222222222222222,
              "#7201a8"
             ],
             [
              0.3333333333333333,
              "#9c179e"
             ],
             [
              0.4444444444444444,
              "#bd3786"
             ],
             [
              0.5555555555555556,
              "#d8576b"
             ],
             [
              0.6666666666666666,
              "#ed7953"
             ],
             [
              0.7777777777777778,
              "#fb9f3a"
             ],
             [
              0.8888888888888888,
              "#fdca26"
             ],
             [
              1,
              "#f0f921"
             ]
            ],
            "type": "histogram2dcontour"
           }
          ],
          "mesh3d": [
           {
            "colorbar": {
             "outlinewidth": 0,
             "ticks": ""
            },
            "type": "mesh3d"
           }
          ],
          "parcoords": [
           {
            "line": {
             "colorbar": {
              "outlinewidth": 0,
              "ticks": ""
             }
            },
            "type": "parcoords"
           }
          ],
          "pie": [
           {
            "automargin": true,
            "type": "pie"
           }
          ],
          "scatter": [
           {
            "fillpattern": {
             "fillmode": "overlay",
             "size": 10,
             "solidity": 0.2
            },
            "type": "scatter"
           }
          ],
          "scatter3d": [
           {
            "line": {
             "colorbar": {
              "outlinewidth": 0,
              "ticks": ""
             }
            },
            "marker": {
             "colorbar": {
              "outlinewidth": 0,
              "ticks": ""
             }
            },
            "type": "scatter3d"
           }
          ],
          "scattercarpet": [
           {
            "marker": {
             "colorbar": {
              "outlinewidth": 0,
              "ticks": ""
             }
            },
            "type": "scattercarpet"
           }
          ],
          "scattergeo": [
           {
            "marker": {
             "colorbar": {
              "outlinewidth": 0,
              "ticks": ""
             }
            },
            "type": "scattergeo"
           }
          ],
          "scattergl": [
           {
            "marker": {
             "colorbar": {
              "outlinewidth": 0,
              "ticks": ""
             }
            },
            "type": "scattergl"
           }
          ],
          "scattermapbox": [
           {
            "marker": {
             "colorbar": {
              "outlinewidth": 0,
              "ticks": ""
             }
            },
            "type": "scattermapbox"
           }
          ],
          "scatterpolar": [
           {
            "marker": {
             "colorbar": {
              "outlinewidth": 0,
              "ticks": ""
             }
            },
            "type": "scatterpolar"
           }
          ],
          "scatterpolargl": [
           {
            "marker": {
             "colorbar": {
              "outlinewidth": 0,
              "ticks": ""
             }
            },
            "type": "scatterpolargl"
           }
          ],
          "scatterternary": [
           {
            "marker": {
             "colorbar": {
              "outlinewidth": 0,
              "ticks": ""
             }
            },
            "type": "scatterternary"
           }
          ],
          "surface": [
           {
            "colorbar": {
             "outlinewidth": 0,
             "ticks": ""
            },
            "colorscale": [
             [
              0,
              "#0d0887"
             ],
             [
              0.1111111111111111,
              "#46039f"
             ],
             [
              0.2222222222222222,
              "#7201a8"
             ],
             [
              0.3333333333333333,
              "#9c179e"
             ],
             [
              0.4444444444444444,
              "#bd3786"
             ],
             [
              0.5555555555555556,
              "#d8576b"
             ],
             [
              0.6666666666666666,
              "#ed7953"
             ],
             [
              0.7777777777777778,
              "#fb9f3a"
             ],
             [
              0.8888888888888888,
              "#fdca26"
             ],
             [
              1,
              "#f0f921"
             ]
            ],
            "type": "surface"
           }
          ],
          "table": [
           {
            "cells": {
             "fill": {
              "color": "#EBF0F8"
             },
             "line": {
              "color": "white"
             }
            },
            "header": {
             "fill": {
              "color": "#C8D4E3"
             },
             "line": {
              "color": "white"
             }
            },
            "type": "table"
           }
          ]
         },
         "layout": {
          "annotationdefaults": {
           "arrowcolor": "#2a3f5f",
           "arrowhead": 0,
           "arrowwidth": 1
          },
          "autotypenumbers": "strict",
          "coloraxis": {
           "colorbar": {
            "outlinewidth": 0,
            "ticks": ""
           }
          },
          "colorscale": {
           "diverging": [
            [
             0,
             "#8e0152"
            ],
            [
             0.1,
             "#c51b7d"
            ],
            [
             0.2,
             "#de77ae"
            ],
            [
             0.3,
             "#f1b6da"
            ],
            [
             0.4,
             "#fde0ef"
            ],
            [
             0.5,
             "#f7f7f7"
            ],
            [
             0.6,
             "#e6f5d0"
            ],
            [
             0.7,
             "#b8e186"
            ],
            [
             0.8,
             "#7fbc41"
            ],
            [
             0.9,
             "#4d9221"
            ],
            [
             1,
             "#276419"
            ]
           ],
           "sequential": [
            [
             0,
             "#0d0887"
            ],
            [
             0.1111111111111111,
             "#46039f"
            ],
            [
             0.2222222222222222,
             "#7201a8"
            ],
            [
             0.3333333333333333,
             "#9c179e"
            ],
            [
             0.4444444444444444,
             "#bd3786"
            ],
            [
             0.5555555555555556,
             "#d8576b"
            ],
            [
             0.6666666666666666,
             "#ed7953"
            ],
            [
             0.7777777777777778,
             "#fb9f3a"
            ],
            [
             0.8888888888888888,
             "#fdca26"
            ],
            [
             1,
             "#f0f921"
            ]
           ],
           "sequentialminus": [
            [
             0,
             "#0d0887"
            ],
            [
             0.1111111111111111,
             "#46039f"
            ],
            [
             0.2222222222222222,
             "#7201a8"
            ],
            [
             0.3333333333333333,
             "#9c179e"
            ],
            [
             0.4444444444444444,
             "#bd3786"
            ],
            [
             0.5555555555555556,
             "#d8576b"
            ],
            [
             0.6666666666666666,
             "#ed7953"
            ],
            [
             0.7777777777777778,
             "#fb9f3a"
            ],
            [
             0.8888888888888888,
             "#fdca26"
            ],
            [
             1,
             "#f0f921"
            ]
           ]
          },
          "colorway": [
           "#636efa",
           "#EF553B",
           "#00cc96",
           "#ab63fa",
           "#FFA15A",
           "#19d3f3",
           "#FF6692",
           "#B6E880",
           "#FF97FF",
           "#FECB52"
          ],
          "font": {
           "color": "#2a3f5f"
          },
          "geo": {
           "bgcolor": "white",
           "lakecolor": "white",
           "landcolor": "#E5ECF6",
           "showlakes": true,
           "showland": true,
           "subunitcolor": "white"
          },
          "hoverlabel": {
           "align": "left"
          },
          "hovermode": "closest",
          "mapbox": {
           "style": "light"
          },
          "paper_bgcolor": "white",
          "plot_bgcolor": "#E5ECF6",
          "polar": {
           "angularaxis": {
            "gridcolor": "white",
            "linecolor": "white",
            "ticks": ""
           },
           "bgcolor": "#E5ECF6",
           "radialaxis": {
            "gridcolor": "white",
            "linecolor": "white",
            "ticks": ""
           }
          },
          "scene": {
           "xaxis": {
            "backgroundcolor": "#E5ECF6",
            "gridcolor": "white",
            "gridwidth": 2,
            "linecolor": "white",
            "showbackground": true,
            "ticks": "",
            "zerolinecolor": "white"
           },
           "yaxis": {
            "backgroundcolor": "#E5ECF6",
            "gridcolor": "white",
            "gridwidth": 2,
            "linecolor": "white",
            "showbackground": true,
            "ticks": "",
            "zerolinecolor": "white"
           },
           "zaxis": {
            "backgroundcolor": "#E5ECF6",
            "gridcolor": "white",
            "gridwidth": 2,
            "linecolor": "white",
            "showbackground": true,
            "ticks": "",
            "zerolinecolor": "white"
           }
          },
          "shapedefaults": {
           "line": {
            "color": "#2a3f5f"
           }
          },
          "ternary": {
           "aaxis": {
            "gridcolor": "white",
            "linecolor": "white",
            "ticks": ""
           },
           "baxis": {
            "gridcolor": "white",
            "linecolor": "white",
            "ticks": ""
           },
           "bgcolor": "#E5ECF6",
           "caxis": {
            "gridcolor": "white",
            "linecolor": "white",
            "ticks": ""
           }
          },
          "title": {
           "x": 0.05
          },
          "xaxis": {
           "automargin": true,
           "gridcolor": "white",
           "linecolor": "white",
           "ticks": "",
           "title": {
            "standoff": 15
           },
           "zerolinecolor": "white",
           "zerolinewidth": 2
          },
          "yaxis": {
           "automargin": true,
           "gridcolor": "white",
           "linecolor": "white",
           "ticks": "",
           "title": {
            "standoff": 15
           },
           "zerolinecolor": "white",
           "zerolinewidth": 2
          }
         }
        },
        "title": {
         "font": {
          "color": "#4D5663"
         }
        },
        "xaxis": {
         "gridcolor": "#E1E5ED",
         "showgrid": true,
         "tickfont": {
          "color": "#4D5663"
         },
         "title": {
          "font": {
           "color": "#4D5663"
          },
          "text": ""
         },
         "zerolinecolor": "#E1E5ED"
        },
        "yaxis": {
         "gridcolor": "#E1E5ED",
         "showgrid": true,
         "tickfont": {
          "color": "#4D5663"
         },
         "title": {
          "font": {
           "color": "#4D5663"
          },
          "text": ""
         },
         "zerolinecolor": "#E1E5ED"
        }
       }
      },
      "text/html": [
       "<div>                            <div id=\"0587bee1-9c4a-4e72-b7f2-4478ecb317e6\" class=\"plotly-graph-div\" style=\"height:525px; width:100%;\"></div>            <script type=\"text/javascript\">                require([\"plotly\"], function(Plotly) {                    window.PLOTLYENV=window.PLOTLYENV || {};\n",
       "                    window.PLOTLYENV.BASE_URL='https://plot.ly';                                    if (document.getElementById(\"0587bee1-9c4a-4e72-b7f2-4478ecb317e6\")) {                    Plotly.newPlot(                        \"0587bee1-9c4a-4e72-b7f2-4478ecb317e6\",                        [{\"marker\":{\"color\":\"rgba(255, 153, 51, 0.6)\",\"line\":{\"color\":\"rgba(255, 153, 51, 1.0)\",\"width\":1}},\"name\":\"Values\",\"orientation\":\"v\",\"text\":\"\",\"x\":[\"A\",\"B\",\"C\"],\"y\":[32,43,50],\"type\":\"bar\"}],                        {\"legend\":{\"bgcolor\":\"#F5F6F9\",\"font\":{\"color\":\"#4D5663\"}},\"paper_bgcolor\":\"#F5F6F9\",\"plot_bgcolor\":\"#F5F6F9\",\"template\":{\"data\":{\"barpolar\":[{\"marker\":{\"line\":{\"color\":\"#E5ECF6\",\"width\":0.5},\"pattern\":{\"fillmode\":\"overlay\",\"size\":10,\"solidity\":0.2}},\"type\":\"barpolar\"}],\"bar\":[{\"error_x\":{\"color\":\"#2a3f5f\"},\"error_y\":{\"color\":\"#2a3f5f\"},\"marker\":{\"line\":{\"color\":\"#E5ECF6\",\"width\":0.5},\"pattern\":{\"fillmode\":\"overlay\",\"size\":10,\"solidity\":0.2}},\"type\":\"bar\"}],\"carpet\":[{\"aaxis\":{\"endlinecolor\":\"#2a3f5f\",\"gridcolor\":\"white\",\"linecolor\":\"white\",\"minorgridcolor\":\"white\",\"startlinecolor\":\"#2a3f5f\"},\"baxis\":{\"endlinecolor\":\"#2a3f5f\",\"gridcolor\":\"white\",\"linecolor\":\"white\",\"minorgridcolor\":\"white\",\"startlinecolor\":\"#2a3f5f\"},\"type\":\"carpet\"}],\"choropleth\":[{\"colorbar\":{\"outlinewidth\":0,\"ticks\":\"\"},\"type\":\"choropleth\"}],\"contourcarpet\":[{\"colorbar\":{\"outlinewidth\":0,\"ticks\":\"\"},\"type\":\"contourcarpet\"}],\"contour\":[{\"colorbar\":{\"outlinewidth\":0,\"ticks\":\"\"},\"colorscale\":[[0.0,\"#0d0887\"],[0.1111111111111111,\"#46039f\"],[0.2222222222222222,\"#7201a8\"],[0.3333333333333333,\"#9c179e\"],[0.4444444444444444,\"#bd3786\"],[0.5555555555555556,\"#d8576b\"],[0.6666666666666666,\"#ed7953\"],[0.7777777777777778,\"#fb9f3a\"],[0.8888888888888888,\"#fdca26\"],[1.0,\"#f0f921\"]],\"type\":\"contour\"}],\"heatmapgl\":[{\"colorbar\":{\"outlinewidth\":0,\"ticks\":\"\"},\"colorscale\":[[0.0,\"#0d0887\"],[0.1111111111111111,\"#46039f\"],[0.2222222222222222,\"#7201a8\"],[0.3333333333333333,\"#9c179e\"],[0.4444444444444444,\"#bd3786\"],[0.5555555555555556,\"#d8576b\"],[0.6666666666666666,\"#ed7953\"],[0.7777777777777778,\"#fb9f3a\"],[0.8888888888888888,\"#fdca26\"],[1.0,\"#f0f921\"]],\"type\":\"heatmapgl\"}],\"heatmap\":[{\"colorbar\":{\"outlinewidth\":0,\"ticks\":\"\"},\"colorscale\":[[0.0,\"#0d0887\"],[0.1111111111111111,\"#46039f\"],[0.2222222222222222,\"#7201a8\"],[0.3333333333333333,\"#9c179e\"],[0.4444444444444444,\"#bd3786\"],[0.5555555555555556,\"#d8576b\"],[0.6666666666666666,\"#ed7953\"],[0.7777777777777778,\"#fb9f3a\"],[0.8888888888888888,\"#fdca26\"],[1.0,\"#f0f921\"]],\"type\":\"heatmap\"}],\"histogram2dcontour\":[{\"colorbar\":{\"outlinewidth\":0,\"ticks\":\"\"},\"colorscale\":[[0.0,\"#0d0887\"],[0.1111111111111111,\"#46039f\"],[0.2222222222222222,\"#7201a8\"],[0.3333333333333333,\"#9c179e\"],[0.4444444444444444,\"#bd3786\"],[0.5555555555555556,\"#d8576b\"],[0.6666666666666666,\"#ed7953\"],[0.7777777777777778,\"#fb9f3a\"],[0.8888888888888888,\"#fdca26\"],[1.0,\"#f0f921\"]],\"type\":\"histogram2dcontour\"}],\"histogram2d\":[{\"colorbar\":{\"outlinewidth\":0,\"ticks\":\"\"},\"colorscale\":[[0.0,\"#0d0887\"],[0.1111111111111111,\"#46039f\"],[0.2222222222222222,\"#7201a8\"],[0.3333333333333333,\"#9c179e\"],[0.4444444444444444,\"#bd3786\"],[0.5555555555555556,\"#d8576b\"],[0.6666666666666666,\"#ed7953\"],[0.7777777777777778,\"#fb9f3a\"],[0.8888888888888888,\"#fdca26\"],[1.0,\"#f0f921\"]],\"type\":\"histogram2d\"}],\"histogram\":[{\"marker\":{\"pattern\":{\"fillmode\":\"overlay\",\"size\":10,\"solidity\":0.2}},\"type\":\"histogram\"}],\"mesh3d\":[{\"colorbar\":{\"outlinewidth\":0,\"ticks\":\"\"},\"type\":\"mesh3d\"}],\"parcoords\":[{\"line\":{\"colorbar\":{\"outlinewidth\":0,\"ticks\":\"\"}},\"type\":\"parcoords\"}],\"pie\":[{\"automargin\":true,\"type\":\"pie\"}],\"scatter3d\":[{\"line\":{\"colorbar\":{\"outlinewidth\":0,\"ticks\":\"\"}},\"marker\":{\"colorbar\":{\"outlinewidth\":0,\"ticks\":\"\"}},\"type\":\"scatter3d\"}],\"scattercarpet\":[{\"marker\":{\"colorbar\":{\"outlinewidth\":0,\"ticks\":\"\"}},\"type\":\"scattercarpet\"}],\"scattergeo\":[{\"marker\":{\"colorbar\":{\"outlinewidth\":0,\"ticks\":\"\"}},\"type\":\"scattergeo\"}],\"scattergl\":[{\"marker\":{\"colorbar\":{\"outlinewidth\":0,\"ticks\":\"\"}},\"type\":\"scattergl\"}],\"scattermapbox\":[{\"marker\":{\"colorbar\":{\"outlinewidth\":0,\"ticks\":\"\"}},\"type\":\"scattermapbox\"}],\"scatterpolargl\":[{\"marker\":{\"colorbar\":{\"outlinewidth\":0,\"ticks\":\"\"}},\"type\":\"scatterpolargl\"}],\"scatterpolar\":[{\"marker\":{\"colorbar\":{\"outlinewidth\":0,\"ticks\":\"\"}},\"type\":\"scatterpolar\"}],\"scatter\":[{\"fillpattern\":{\"fillmode\":\"overlay\",\"size\":10,\"solidity\":0.2},\"type\":\"scatter\"}],\"scatterternary\":[{\"marker\":{\"colorbar\":{\"outlinewidth\":0,\"ticks\":\"\"}},\"type\":\"scatterternary\"}],\"surface\":[{\"colorbar\":{\"outlinewidth\":0,\"ticks\":\"\"},\"colorscale\":[[0.0,\"#0d0887\"],[0.1111111111111111,\"#46039f\"],[0.2222222222222222,\"#7201a8\"],[0.3333333333333333,\"#9c179e\"],[0.4444444444444444,\"#bd3786\"],[0.5555555555555556,\"#d8576b\"],[0.6666666666666666,\"#ed7953\"],[0.7777777777777778,\"#fb9f3a\"],[0.8888888888888888,\"#fdca26\"],[1.0,\"#f0f921\"]],\"type\":\"surface\"}],\"table\":[{\"cells\":{\"fill\":{\"color\":\"#EBF0F8\"},\"line\":{\"color\":\"white\"}},\"header\":{\"fill\":{\"color\":\"#C8D4E3\"},\"line\":{\"color\":\"white\"}},\"type\":\"table\"}]},\"layout\":{\"annotationdefaults\":{\"arrowcolor\":\"#2a3f5f\",\"arrowhead\":0,\"arrowwidth\":1},\"autotypenumbers\":\"strict\",\"coloraxis\":{\"colorbar\":{\"outlinewidth\":0,\"ticks\":\"\"}},\"colorscale\":{\"diverging\":[[0,\"#8e0152\"],[0.1,\"#c51b7d\"],[0.2,\"#de77ae\"],[0.3,\"#f1b6da\"],[0.4,\"#fde0ef\"],[0.5,\"#f7f7f7\"],[0.6,\"#e6f5d0\"],[0.7,\"#b8e186\"],[0.8,\"#7fbc41\"],[0.9,\"#4d9221\"],[1,\"#276419\"]],\"sequential\":[[0.0,\"#0d0887\"],[0.1111111111111111,\"#46039f\"],[0.2222222222222222,\"#7201a8\"],[0.3333333333333333,\"#9c179e\"],[0.4444444444444444,\"#bd3786\"],[0.5555555555555556,\"#d8576b\"],[0.6666666666666666,\"#ed7953\"],[0.7777777777777778,\"#fb9f3a\"],[0.8888888888888888,\"#fdca26\"],[1.0,\"#f0f921\"]],\"sequentialminus\":[[0.0,\"#0d0887\"],[0.1111111111111111,\"#46039f\"],[0.2222222222222222,\"#7201a8\"],[0.3333333333333333,\"#9c179e\"],[0.4444444444444444,\"#bd3786\"],[0.5555555555555556,\"#d8576b\"],[0.6666666666666666,\"#ed7953\"],[0.7777777777777778,\"#fb9f3a\"],[0.8888888888888888,\"#fdca26\"],[1.0,\"#f0f921\"]]},\"colorway\":[\"#636efa\",\"#EF553B\",\"#00cc96\",\"#ab63fa\",\"#FFA15A\",\"#19d3f3\",\"#FF6692\",\"#B6E880\",\"#FF97FF\",\"#FECB52\"],\"font\":{\"color\":\"#2a3f5f\"},\"geo\":{\"bgcolor\":\"white\",\"lakecolor\":\"white\",\"landcolor\":\"#E5ECF6\",\"showlakes\":true,\"showland\":true,\"subunitcolor\":\"white\"},\"hoverlabel\":{\"align\":\"left\"},\"hovermode\":\"closest\",\"mapbox\":{\"style\":\"light\"},\"paper_bgcolor\":\"white\",\"plot_bgcolor\":\"#E5ECF6\",\"polar\":{\"angularaxis\":{\"gridcolor\":\"white\",\"linecolor\":\"white\",\"ticks\":\"\"},\"bgcolor\":\"#E5ECF6\",\"radialaxis\":{\"gridcolor\":\"white\",\"linecolor\":\"white\",\"ticks\":\"\"}},\"scene\":{\"xaxis\":{\"backgroundcolor\":\"#E5ECF6\",\"gridcolor\":\"white\",\"gridwidth\":2,\"linecolor\":\"white\",\"showbackground\":true,\"ticks\":\"\",\"zerolinecolor\":\"white\"},\"yaxis\":{\"backgroundcolor\":\"#E5ECF6\",\"gridcolor\":\"white\",\"gridwidth\":2,\"linecolor\":\"white\",\"showbackground\":true,\"ticks\":\"\",\"zerolinecolor\":\"white\"},\"zaxis\":{\"backgroundcolor\":\"#E5ECF6\",\"gridcolor\":\"white\",\"gridwidth\":2,\"linecolor\":\"white\",\"showbackground\":true,\"ticks\":\"\",\"zerolinecolor\":\"white\"}},\"shapedefaults\":{\"line\":{\"color\":\"#2a3f5f\"}},\"ternary\":{\"aaxis\":{\"gridcolor\":\"white\",\"linecolor\":\"white\",\"ticks\":\"\"},\"baxis\":{\"gridcolor\":\"white\",\"linecolor\":\"white\",\"ticks\":\"\"},\"bgcolor\":\"#E5ECF6\",\"caxis\":{\"gridcolor\":\"white\",\"linecolor\":\"white\",\"ticks\":\"\"}},\"title\":{\"x\":0.05},\"xaxis\":{\"automargin\":true,\"gridcolor\":\"white\",\"linecolor\":\"white\",\"ticks\":\"\",\"title\":{\"standoff\":15},\"zerolinecolor\":\"white\",\"zerolinewidth\":2},\"yaxis\":{\"automargin\":true,\"gridcolor\":\"white\",\"linecolor\":\"white\",\"ticks\":\"\",\"title\":{\"standoff\":15},\"zerolinecolor\":\"white\",\"zerolinewidth\":2}}},\"title\":{\"font\":{\"color\":\"#4D5663\"}},\"xaxis\":{\"gridcolor\":\"#E1E5ED\",\"showgrid\":true,\"tickfont\":{\"color\":\"#4D5663\"},\"title\":{\"font\":{\"color\":\"#4D5663\"},\"text\":\"\"},\"zerolinecolor\":\"#E1E5ED\"},\"yaxis\":{\"gridcolor\":\"#E1E5ED\",\"showgrid\":true,\"tickfont\":{\"color\":\"#4D5663\"},\"title\":{\"font\":{\"color\":\"#4D5663\"},\"text\":\"\"},\"zerolinecolor\":\"#E1E5ED\"}},                        {\"showLink\": true, \"linkText\": \"Export to plot.ly\", \"plotlyServerURL\": \"https://plot.ly\", \"responsive\": true}                    ).then(function(){\n",
       "                            \n",
       "var gd = document.getElementById('0587bee1-9c4a-4e72-b7f2-4478ecb317e6');\n",
       "var x = new MutationObserver(function (mutations, observer) {{\n",
       "        var display = window.getComputedStyle(gd).display;\n",
       "        if (!display || display === 'none') {{\n",
       "            console.log([gd, 'removed!']);\n",
       "            Plotly.purge(gd);\n",
       "            observer.disconnect();\n",
       "        }}\n",
       "}});\n",
       "\n",
       "// Listen for the removal of the full notebook cells\n",
       "var notebookContainer = gd.closest('#notebook-container');\n",
       "if (notebookContainer) {{\n",
       "    x.observe(notebookContainer, {childList: true});\n",
       "}}\n",
       "\n",
       "// Listen for the clearing of the current output cell\n",
       "var outputEl = gd.closest('.output');\n",
       "if (outputEl) {{\n",
       "    x.observe(outputEl, {childList: true});\n",
       "}}\n",
       "\n",
       "                        })                };                });            </script>        </div>"
      ]
     },
     "metadata": {},
     "output_type": "display_data"
    }
   ],
   "source": [
    "# interactive bar plot \n",
    "df2.iplot(kind='bar', x='Category', y='Values')"
   ]
  },
  {
   "cell_type": "code",
   "execution_count": 36,
   "metadata": {},
   "outputs": [
    {
     "data": {
      "application/vnd.plotly.v1+json": {
       "config": {
        "linkText": "Export to plot.ly",
        "plotlyServerURL": "https://plot.ly",
        "showLink": true
       },
       "data": [
        {
         "marker": {
          "color": "rgba(255, 153, 51, 0.6)",
          "line": {
           "color": "rgba(255, 153, 51, 1.0)",
           "width": 1
          }
         },
         "name": "A",
         "orientation": "v",
         "text": "",
         "type": "bar",
         "x": [
          0,
          1,
          2,
          3,
          4,
          5,
          6,
          7,
          8,
          9,
          10,
          11,
          12,
          13,
          14,
          15,
          16,
          17,
          18,
          19,
          20,
          21,
          22,
          23,
          24,
          25,
          26,
          27,
          28,
          29,
          30,
          31,
          32,
          33,
          34,
          35,
          36,
          37,
          38,
          39,
          40,
          41,
          42,
          43,
          44,
          45,
          46,
          47,
          48,
          49,
          50,
          51,
          52,
          53,
          54,
          55,
          56,
          57,
          58,
          59,
          60,
          61,
          62,
          63,
          64,
          65,
          66,
          67,
          68,
          69,
          70,
          71,
          72,
          73,
          74,
          75,
          76,
          77,
          78,
          79,
          80,
          81,
          82,
          83,
          84,
          85,
          86,
          87,
          88,
          89,
          90,
          91,
          92,
          93,
          94,
          95,
          96,
          97,
          98,
          99
         ],
         "y": [
          -0.013575241110450833,
          0.2014623469983288,
          -0.0899174937991628,
          0.14630244753708072,
          -1.4024321759431153,
          0.9439764762749664,
          -0.06382546259278613,
          0.9982777327924083,
          -0.4738871296179397,
          -1.7479270508567541,
          1.2896284502503772,
          -0.04094150702985916,
          1.1814727250692378,
          -0.04157675514734971,
          -1.6784201398008336,
          0.47505030888120736,
          0.7132508636230379,
          -0.24799219632184952,
          0.498384065116775,
          -0.7430537436978263,
          -0.5943008339808885,
          -0.33906026487962165,
          1.4230113577354255,
          -1.1356125023659205,
          -0.7194920556774836,
          0.40350687564521937,
          0.09680216062296426,
          1.4865354363232182,
          1.2837062691204009,
          -1.0449294104369733,
          -0.6046026297845802,
          1.035080585844793,
          -0.4781821091586237,
          0.5065245619851478,
          -0.054456558223678724,
          -0.2900838094108421,
          1.2672416269601274,
          1.5008075582806726,
          -1.194091196522751,
          0.2698019492376579,
          -1.3824745155019331,
          -0.6850572186353427,
          -0.19631292310626414,
          -1.7805521599361438,
          0.3631036285353618,
          0.6483575919989167,
          -0.8944577060934934,
          -0.45196364550134455,
          1.1847861292974133,
          -1.8807707543177625,
          -1.2730083730328554,
          -0.985849891541202,
          1.515677949465927,
          2.0874223263641296,
          0.2095676374486414,
          -1.8683151904123785,
          -0.6105186098607324,
          -1.5130203096464259,
          -0.0003192758589660021,
          -0.2349119693895656,
          2.1403613710248126,
          0.5017449877885893,
          -0.8644251613155253,
          -0.18257031359149076,
          0.4680037222306966,
          1.0298039480230532,
          1.6891500537933402,
          -1.6723929936831465,
          -1.5452705113745921,
          1.7062784160701598,
          -0.9945442447534536,
          -0.7774222561957261,
          -0.340371918308804,
          0.4775565849235679,
          -0.1464000856716878,
          -0.6662999728881014,
          -0.346476421279362,
          1.1186333582116288,
          1.7342334819205307,
          -0.15328405276518267,
          1.3265505703328604,
          0.2757959579792867,
          0.7440128032532201,
          0.5657951535956439,
          -1.2062365572122227,
          -1.146436230453736,
          -1.196647336791392,
          0.4486528374273348,
          0.8709122796607749,
          1.6626797853566428,
          1.291632918517345,
          -0.4326167764627019,
          0.010208309112078297,
          -0.4199867337686686,
          -2.454723215844547,
          0.06614779474923367,
          -0.2915800212075181,
          2.1053698664072478,
          -0.3762600092064639,
          0.6001534852873674
         ]
        },
        {
         "marker": {
          "color": "rgba(55, 128, 191, 0.6)",
          "line": {
           "color": "rgba(55, 128, 191, 1.0)",
           "width": 1
          }
         },
         "name": "B",
         "orientation": "v",
         "text": "",
         "type": "bar",
         "x": [
          0,
          1,
          2,
          3,
          4,
          5,
          6,
          7,
          8,
          9,
          10,
          11,
          12,
          13,
          14,
          15,
          16,
          17,
          18,
          19,
          20,
          21,
          22,
          23,
          24,
          25,
          26,
          27,
          28,
          29,
          30,
          31,
          32,
          33,
          34,
          35,
          36,
          37,
          38,
          39,
          40,
          41,
          42,
          43,
          44,
          45,
          46,
          47,
          48,
          49,
          50,
          51,
          52,
          53,
          54,
          55,
          56,
          57,
          58,
          59,
          60,
          61,
          62,
          63,
          64,
          65,
          66,
          67,
          68,
          69,
          70,
          71,
          72,
          73,
          74,
          75,
          76,
          77,
          78,
          79,
          80,
          81,
          82,
          83,
          84,
          85,
          86,
          87,
          88,
          89,
          90,
          91,
          92,
          93,
          94,
          95,
          96,
          97,
          98,
          99
         ],
         "y": [
          -0.4998086521162006,
          0.8638138888466803,
          0.7388639050818845,
          -2.5351516106839127,
          -0.6241965970069808,
          1.5863209972469399,
          -1.0272668926051103,
          0.5002535232220292,
          -0.5200660025824956,
          1.3047727610507056,
          -0.08212568013725245,
          -1.0235664200651708,
          -0.6235439639220131,
          -0.5117151989397963,
          -1.3452522320083882,
          0.07491224307445563,
          -0.9858627810630309,
          0.48812466598017146,
          -1.5781779944879513,
          0.7523712855310276,
          1.1558049361093523,
          -1.2137704432592629,
          1.5327616425683321,
          0.466351019069615,
          0.10177591740341613,
          1.6724484500498018,
          -0.5864709129917581,
          0.8044521979893766,
          -1.7788829295501853,
          1.8365955689749571,
          1.1633726863223617,
          -1.0242007875588857,
          1.0954568746844986,
          -2.2346848698945556,
          0.39266228174684914,
          0.8404729296808121,
          -0.2442692234613969,
          -1.3538759957921003,
          -1.0071264286913437,
          -0.511299082282564,
          -1.243464143501981,
          1.53226091738115,
          0.3787947928421932,
          0.7937415890066196,
          0.09369302886706242,
          1.3665228041204913,
          -0.07540557834451925,
          1.12960511549684,
          -1.0969114092610217,
          -0.5256619286736163,
          -0.1255995227222061,
          1.1299806924847526,
          1.842176499039704,
          0.9223553718749332,
          0.9624408464070193,
          -1.5949382147241815,
          0.10358617230626112,
          0.629926007568259,
          0.23282104595070716,
          0.34926447605244215,
          0.6210082966455818,
          1.3575286778092086,
          0.15034415981621055,
          -0.8319500033867744,
          -0.23994802321186406,
          -0.9917052396304813,
          -0.2101515420007641,
          -0.4604086451895767,
          -0.4103810500625088,
          -0.19193031808972585,
          -1.618290060509264,
          0.19680333078802792,
          -1.3695862380868853,
          -0.016764656229118585,
          1.491314290176382,
          0.5257097682782415,
          -0.10641544036555185,
          -1.664002357709959,
          0.6116037639332458,
          -0.49482872597775346,
          -0.06595019550852914,
          -0.7228448984081656,
          0.40190328495696986,
          0.7587437246052716,
          -0.25076469773656773,
          0.0903897080544539,
          -0.49465980470031895,
          1.0241171735974268,
          -0.5792698354452798,
          0.5420021881562249,
          0.1396869935373383,
          -0.5245699273060564,
          -0.4550638669849926,
          -2.4864659332530863,
          2.5638197096368796,
          -1.6643846707072714,
          -0.14449922089190276,
          -0.25589607049514157,
          -1.0290835991474259,
          -1.099958347108077
         ]
        },
        {
         "marker": {
          "color": "rgba(50, 171, 96, 0.6)",
          "line": {
           "color": "rgba(50, 171, 96, 1.0)",
           "width": 1
          }
         },
         "name": "C",
         "orientation": "v",
         "text": "",
         "type": "bar",
         "x": [
          0,
          1,
          2,
          3,
          4,
          5,
          6,
          7,
          8,
          9,
          10,
          11,
          12,
          13,
          14,
          15,
          16,
          17,
          18,
          19,
          20,
          21,
          22,
          23,
          24,
          25,
          26,
          27,
          28,
          29,
          30,
          31,
          32,
          33,
          34,
          35,
          36,
          37,
          38,
          39,
          40,
          41,
          42,
          43,
          44,
          45,
          46,
          47,
          48,
          49,
          50,
          51,
          52,
          53,
          54,
          55,
          56,
          57,
          58,
          59,
          60,
          61,
          62,
          63,
          64,
          65,
          66,
          67,
          68,
          69,
          70,
          71,
          72,
          73,
          74,
          75,
          76,
          77,
          78,
          79,
          80,
          81,
          82,
          83,
          84,
          85,
          86,
          87,
          88,
          89,
          90,
          91,
          92,
          93,
          94,
          95,
          96,
          97,
          98,
          99
         ],
         "y": [
          -0.03897819554267246,
          -0.45237410422813007,
          -0.9148037122545782,
          0.9535472502455863,
          -1.4048943076631102,
          -0.02552396525986394,
          -0.16999014234229043,
          -0.8005195292528466,
          0.489122269331501,
          -0.9738843159490248,
          -0.16020281396152478,
          -0.8295315084912306,
          -1.0710559926834227,
          0.9997766978884247,
          -1.4310237129930352,
          1.3070106872583303,
          0.7313254595552003,
          0.15605963803369327,
          0.2792068851428407,
          -0.28606270041226173,
          0.16570192386801588,
          0.7399897481613859,
          -1.4060667670740261,
          -0.4062331404164582,
          -0.40689761889533727,
          0.4589588634993919,
          1.0892311839862554,
          -0.6626451338834085,
          0.13797262053600742,
          -1.0517178921409511,
          -0.167038781526083,
          -0.4538040326345461,
          1.093561476437651,
          -1.847917830900397,
          -1.812934611548087,
          0.5460453823483944,
          -0.9523449183934559,
          1.3681088221219067,
          -0.4087585732632988,
          -0.4689630871848432,
          0.33113790981162516,
          1.7995374767983916,
          -1.9716431639594623,
          -0.7185553355541259,
          -0.4831753129690847,
          -0.1303610300940544,
          0.5535500317467342,
          1.7397571813169999,
          0.7074500660163463,
          -0.15749934931347762,
          0.5451645569926603,
          0.36244176948027973,
          0.7832399338190531,
          -1.6479214934825983,
          0.6947094604228694,
          -0.026321189640635765,
          0.6298127853299399,
          0.09497079558586638,
          0.5682270338122841,
          -0.32624841707502206,
          -0.14150138830677372,
          -0.5826441247263411,
          -0.37155778050514765,
          0.45433186240226353,
          -1.8486182555766015,
          -0.4272754688339868,
          1.3379923933370492,
          1.1030836835459426,
          0.33123816871353917,
          -0.365209036376047,
          0.44198159795425157,
          1.130722922509479,
          1.4431836867831143,
          -0.059577614635175885,
          0.8068824260031981,
          -1.061563464126283,
          2.3168102767827747,
          -0.1533249969025579,
          0.9323611166718686,
          0.8602968645952596,
          -3.3123992506170787,
          2.2042387607130225,
          0.5363583593827271,
          -0.3282709532102508,
          1.8928049631040889,
          -1.1260015336894462,
          0.6949648736475352,
          0.7222765625402395,
          0.24958033860760995,
          -1.7163837090135452,
          -0.7568130572220154,
          -0.13542338662983835,
          -0.13893830864817305,
          -1.2530513135516494,
          0.3013792980620921,
          0.6312530701902108,
          1.528341343156567,
          -0.11290283541221337,
          -1.2002544991759756,
          -0.012042900182959379
         ]
        },
        {
         "marker": {
          "color": "rgba(128, 0, 128, 0.6)",
          "line": {
           "color": "rgba(128, 0, 128, 1.0)",
           "width": 1
          }
         },
         "name": "D",
         "orientation": "v",
         "text": "",
         "type": "bar",
         "x": [
          0,
          1,
          2,
          3,
          4,
          5,
          6,
          7,
          8,
          9,
          10,
          11,
          12,
          13,
          14,
          15,
          16,
          17,
          18,
          19,
          20,
          21,
          22,
          23,
          24,
          25,
          26,
          27,
          28,
          29,
          30,
          31,
          32,
          33,
          34,
          35,
          36,
          37,
          38,
          39,
          40,
          41,
          42,
          43,
          44,
          45,
          46,
          47,
          48,
          49,
          50,
          51,
          52,
          53,
          54,
          55,
          56,
          57,
          58,
          59,
          60,
          61,
          62,
          63,
          64,
          65,
          66,
          67,
          68,
          69,
          70,
          71,
          72,
          73,
          74,
          75,
          76,
          77,
          78,
          79,
          80,
          81,
          82,
          83,
          84,
          85,
          86,
          87,
          88,
          89,
          90,
          91,
          92,
          93,
          94,
          95,
          96,
          97,
          98,
          99
         ],
         "y": [
          -0.5370911808766012,
          -2.321571647104632,
          0.5794844976759298,
          2.6696847002422093,
          -0.0628802393351703,
          0.856143428566187,
          2.0621458131416266,
          -0.035648267009385046,
          0.030833795609075402,
          0.3415158116578078,
          -0.3859012363140178,
          0.3609972035587406,
          1.0482829284088313,
          0.06821914391373095,
          -0.7610923046981812,
          0.6125951666149811,
          -1.380189032931467,
          0.4191665325951915,
          1.7739917406385555,
          0.2168226670444201,
          0.7405402700307281,
          -0.42256301034062066,
          0.018111319601031753,
          1.1155892412982806,
          -1.4999055926396876,
          -0.5947774111653107,
          0.018381646786778092,
          0.4044101964543374,
          1.162393959229401,
          1.2635861650539149,
          -1.6585120591216127,
          0.3745359867443123,
          -0.6042965058041246,
          -0.36500191273588045,
          0.07695854943740069,
          -0.4920978112467595,
          0.7815104260905494,
          -0.9342677462715024,
          -1.085311716713249,
          -1.2238414271897249,
          -0.0986622209609241,
          -1.3598393083357998,
          0.4351701843515012,
          -0.605292022362214,
          -1.9990675344070585,
          0.8198496193265,
          -0.7174341412363682,
          -0.467798063088864,
          -0.6395896099981112,
          -0.8137340650012729,
          1.3388149301350298,
          -0.07729452529534941,
          -0.32006894334242303,
          -0.5212376005619955,
          0.34826697009878055,
          0.04322596472394743,
          -0.8751630591683667,
          0.5282407958690774,
          -1.5245554906639394,
          -0.7114075014623907,
          0.6136614058445458,
          -0.6899539400539682,
          1.3383065365015576,
          -0.4687534641720835,
          0.31663129352505415,
          1.6430350068157462,
          -2.6193481946114083,
          -0.584449208207381,
          2.4382321153223065,
          0.7346470725692921,
          -1.4689518757597313,
          0.618524439084242,
          2.305276107304658,
          0.11527745916872338,
          1.0768495073439397,
          1.113330117936661,
          0.5688144051873003,
          1.4269619333427306,
          0.2861659530349212,
          1.6124139653612652,
          0.40249953609561223,
          1.1503513623086212,
          -1.3142430021494809,
          -0.1533860479957921,
          0.7026210178016035,
          -0.25140673295468247,
          0.03108806949108133,
          0.12245461656442247,
          -1.045151787506711,
          0.5103129915132618,
          -1.9976116086927933,
          1.6266100462323916,
          0.13527513123569643,
          -1.0360016372607777,
          1.6998818717986037,
          0.7079484991419566,
          1.4649518107345052,
          0.5280813775901442,
          0.5204694722261566,
          -0.11769449274516725
         ]
        }
       ],
       "layout": {
        "legend": {
         "bgcolor": "#F5F6F9",
         "font": {
          "color": "#4D5663"
         }
        },
        "paper_bgcolor": "#F5F6F9",
        "plot_bgcolor": "#F5F6F9",
        "template": {
         "data": {
          "bar": [
           {
            "error_x": {
             "color": "#2a3f5f"
            },
            "error_y": {
             "color": "#2a3f5f"
            },
            "marker": {
             "line": {
              "color": "#E5ECF6",
              "width": 0.5
             },
             "pattern": {
              "fillmode": "overlay",
              "size": 10,
              "solidity": 0.2
             }
            },
            "type": "bar"
           }
          ],
          "barpolar": [
           {
            "marker": {
             "line": {
              "color": "#E5ECF6",
              "width": 0.5
             },
             "pattern": {
              "fillmode": "overlay",
              "size": 10,
              "solidity": 0.2
             }
            },
            "type": "barpolar"
           }
          ],
          "carpet": [
           {
            "aaxis": {
             "endlinecolor": "#2a3f5f",
             "gridcolor": "white",
             "linecolor": "white",
             "minorgridcolor": "white",
             "startlinecolor": "#2a3f5f"
            },
            "baxis": {
             "endlinecolor": "#2a3f5f",
             "gridcolor": "white",
             "linecolor": "white",
             "minorgridcolor": "white",
             "startlinecolor": "#2a3f5f"
            },
            "type": "carpet"
           }
          ],
          "choropleth": [
           {
            "colorbar": {
             "outlinewidth": 0,
             "ticks": ""
            },
            "type": "choropleth"
           }
          ],
          "contour": [
           {
            "colorbar": {
             "outlinewidth": 0,
             "ticks": ""
            },
            "colorscale": [
             [
              0,
              "#0d0887"
             ],
             [
              0.1111111111111111,
              "#46039f"
             ],
             [
              0.2222222222222222,
              "#7201a8"
             ],
             [
              0.3333333333333333,
              "#9c179e"
             ],
             [
              0.4444444444444444,
              "#bd3786"
             ],
             [
              0.5555555555555556,
              "#d8576b"
             ],
             [
              0.6666666666666666,
              "#ed7953"
             ],
             [
              0.7777777777777778,
              "#fb9f3a"
             ],
             [
              0.8888888888888888,
              "#fdca26"
             ],
             [
              1,
              "#f0f921"
             ]
            ],
            "type": "contour"
           }
          ],
          "contourcarpet": [
           {
            "colorbar": {
             "outlinewidth": 0,
             "ticks": ""
            },
            "type": "contourcarpet"
           }
          ],
          "heatmap": [
           {
            "colorbar": {
             "outlinewidth": 0,
             "ticks": ""
            },
            "colorscale": [
             [
              0,
              "#0d0887"
             ],
             [
              0.1111111111111111,
              "#46039f"
             ],
             [
              0.2222222222222222,
              "#7201a8"
             ],
             [
              0.3333333333333333,
              "#9c179e"
             ],
             [
              0.4444444444444444,
              "#bd3786"
             ],
             [
              0.5555555555555556,
              "#d8576b"
             ],
             [
              0.6666666666666666,
              "#ed7953"
             ],
             [
              0.7777777777777778,
              "#fb9f3a"
             ],
             [
              0.8888888888888888,
              "#fdca26"
             ],
             [
              1,
              "#f0f921"
             ]
            ],
            "type": "heatmap"
           }
          ],
          "heatmapgl": [
           {
            "colorbar": {
             "outlinewidth": 0,
             "ticks": ""
            },
            "colorscale": [
             [
              0,
              "#0d0887"
             ],
             [
              0.1111111111111111,
              "#46039f"
             ],
             [
              0.2222222222222222,
              "#7201a8"
             ],
             [
              0.3333333333333333,
              "#9c179e"
             ],
             [
              0.4444444444444444,
              "#bd3786"
             ],
             [
              0.5555555555555556,
              "#d8576b"
             ],
             [
              0.6666666666666666,
              "#ed7953"
             ],
             [
              0.7777777777777778,
              "#fb9f3a"
             ],
             [
              0.8888888888888888,
              "#fdca26"
             ],
             [
              1,
              "#f0f921"
             ]
            ],
            "type": "heatmapgl"
           }
          ],
          "histogram": [
           {
            "marker": {
             "pattern": {
              "fillmode": "overlay",
              "size": 10,
              "solidity": 0.2
             }
            },
            "type": "histogram"
           }
          ],
          "histogram2d": [
           {
            "colorbar": {
             "outlinewidth": 0,
             "ticks": ""
            },
            "colorscale": [
             [
              0,
              "#0d0887"
             ],
             [
              0.1111111111111111,
              "#46039f"
             ],
             [
              0.2222222222222222,
              "#7201a8"
             ],
             [
              0.3333333333333333,
              "#9c179e"
             ],
             [
              0.4444444444444444,
              "#bd3786"
             ],
             [
              0.5555555555555556,
              "#d8576b"
             ],
             [
              0.6666666666666666,
              "#ed7953"
             ],
             [
              0.7777777777777778,
              "#fb9f3a"
             ],
             [
              0.8888888888888888,
              "#fdca26"
             ],
             [
              1,
              "#f0f921"
             ]
            ],
            "type": "histogram2d"
           }
          ],
          "histogram2dcontour": [
           {
            "colorbar": {
             "outlinewidth": 0,
             "ticks": ""
            },
            "colorscale": [
             [
              0,
              "#0d0887"
             ],
             [
              0.1111111111111111,
              "#46039f"
             ],
             [
              0.2222222222222222,
              "#7201a8"
             ],
             [
              0.3333333333333333,
              "#9c179e"
             ],
             [
              0.4444444444444444,
              "#bd3786"
             ],
             [
              0.5555555555555556,
              "#d8576b"
             ],
             [
              0.6666666666666666,
              "#ed7953"
             ],
             [
              0.7777777777777778,
              "#fb9f3a"
             ],
             [
              0.8888888888888888,
              "#fdca26"
             ],
             [
              1,
              "#f0f921"
             ]
            ],
            "type": "histogram2dcontour"
           }
          ],
          "mesh3d": [
           {
            "colorbar": {
             "outlinewidth": 0,
             "ticks": ""
            },
            "type": "mesh3d"
           }
          ],
          "parcoords": [
           {
            "line": {
             "colorbar": {
              "outlinewidth": 0,
              "ticks": ""
             }
            },
            "type": "parcoords"
           }
          ],
          "pie": [
           {
            "automargin": true,
            "type": "pie"
           }
          ],
          "scatter": [
           {
            "fillpattern": {
             "fillmode": "overlay",
             "size": 10,
             "solidity": 0.2
            },
            "type": "scatter"
           }
          ],
          "scatter3d": [
           {
            "line": {
             "colorbar": {
              "outlinewidth": 0,
              "ticks": ""
             }
            },
            "marker": {
             "colorbar": {
              "outlinewidth": 0,
              "ticks": ""
             }
            },
            "type": "scatter3d"
           }
          ],
          "scattercarpet": [
           {
            "marker": {
             "colorbar": {
              "outlinewidth": 0,
              "ticks": ""
             }
            },
            "type": "scattercarpet"
           }
          ],
          "scattergeo": [
           {
            "marker": {
             "colorbar": {
              "outlinewidth": 0,
              "ticks": ""
             }
            },
            "type": "scattergeo"
           }
          ],
          "scattergl": [
           {
            "marker": {
             "colorbar": {
              "outlinewidth": 0,
              "ticks": ""
             }
            },
            "type": "scattergl"
           }
          ],
          "scattermapbox": [
           {
            "marker": {
             "colorbar": {
              "outlinewidth": 0,
              "ticks": ""
             }
            },
            "type": "scattermapbox"
           }
          ],
          "scatterpolar": [
           {
            "marker": {
             "colorbar": {
              "outlinewidth": 0,
              "ticks": ""
             }
            },
            "type": "scatterpolar"
           }
          ],
          "scatterpolargl": [
           {
            "marker": {
             "colorbar": {
              "outlinewidth": 0,
              "ticks": ""
             }
            },
            "type": "scatterpolargl"
           }
          ],
          "scatterternary": [
           {
            "marker": {
             "colorbar": {
              "outlinewidth": 0,
              "ticks": ""
             }
            },
            "type": "scatterternary"
           }
          ],
          "surface": [
           {
            "colorbar": {
             "outlinewidth": 0,
             "ticks": ""
            },
            "colorscale": [
             [
              0,
              "#0d0887"
             ],
             [
              0.1111111111111111,
              "#46039f"
             ],
             [
              0.2222222222222222,
              "#7201a8"
             ],
             [
              0.3333333333333333,
              "#9c179e"
             ],
             [
              0.4444444444444444,
              "#bd3786"
             ],
             [
              0.5555555555555556,
              "#d8576b"
             ],
             [
              0.6666666666666666,
              "#ed7953"
             ],
             [
              0.7777777777777778,
              "#fb9f3a"
             ],
             [
              0.8888888888888888,
              "#fdca26"
             ],
             [
              1,
              "#f0f921"
             ]
            ],
            "type": "surface"
           }
          ],
          "table": [
           {
            "cells": {
             "fill": {
              "color": "#EBF0F8"
             },
             "line": {
              "color": "white"
             }
            },
            "header": {
             "fill": {
              "color": "#C8D4E3"
             },
             "line": {
              "color": "white"
             }
            },
            "type": "table"
           }
          ]
         },
         "layout": {
          "annotationdefaults": {
           "arrowcolor": "#2a3f5f",
           "arrowhead": 0,
           "arrowwidth": 1
          },
          "autotypenumbers": "strict",
          "coloraxis": {
           "colorbar": {
            "outlinewidth": 0,
            "ticks": ""
           }
          },
          "colorscale": {
           "diverging": [
            [
             0,
             "#8e0152"
            ],
            [
             0.1,
             "#c51b7d"
            ],
            [
             0.2,
             "#de77ae"
            ],
            [
             0.3,
             "#f1b6da"
            ],
            [
             0.4,
             "#fde0ef"
            ],
            [
             0.5,
             "#f7f7f7"
            ],
            [
             0.6,
             "#e6f5d0"
            ],
            [
             0.7,
             "#b8e186"
            ],
            [
             0.8,
             "#7fbc41"
            ],
            [
             0.9,
             "#4d9221"
            ],
            [
             1,
             "#276419"
            ]
           ],
           "sequential": [
            [
             0,
             "#0d0887"
            ],
            [
             0.1111111111111111,
             "#46039f"
            ],
            [
             0.2222222222222222,
             "#7201a8"
            ],
            [
             0.3333333333333333,
             "#9c179e"
            ],
            [
             0.4444444444444444,
             "#bd3786"
            ],
            [
             0.5555555555555556,
             "#d8576b"
            ],
            [
             0.6666666666666666,
             "#ed7953"
            ],
            [
             0.7777777777777778,
             "#fb9f3a"
            ],
            [
             0.8888888888888888,
             "#fdca26"
            ],
            [
             1,
             "#f0f921"
            ]
           ],
           "sequentialminus": [
            [
             0,
             "#0d0887"
            ],
            [
             0.1111111111111111,
             "#46039f"
            ],
            [
             0.2222222222222222,
             "#7201a8"
            ],
            [
             0.3333333333333333,
             "#9c179e"
            ],
            [
             0.4444444444444444,
             "#bd3786"
            ],
            [
             0.5555555555555556,
             "#d8576b"
            ],
            [
             0.6666666666666666,
             "#ed7953"
            ],
            [
             0.7777777777777778,
             "#fb9f3a"
            ],
            [
             0.8888888888888888,
             "#fdca26"
            ],
            [
             1,
             "#f0f921"
            ]
           ]
          },
          "colorway": [
           "#636efa",
           "#EF553B",
           "#00cc96",
           "#ab63fa",
           "#FFA15A",
           "#19d3f3",
           "#FF6692",
           "#B6E880",
           "#FF97FF",
           "#FECB52"
          ],
          "font": {
           "color": "#2a3f5f"
          },
          "geo": {
           "bgcolor": "white",
           "lakecolor": "white",
           "landcolor": "#E5ECF6",
           "showlakes": true,
           "showland": true,
           "subunitcolor": "white"
          },
          "hoverlabel": {
           "align": "left"
          },
          "hovermode": "closest",
          "mapbox": {
           "style": "light"
          },
          "paper_bgcolor": "white",
          "plot_bgcolor": "#E5ECF6",
          "polar": {
           "angularaxis": {
            "gridcolor": "white",
            "linecolor": "white",
            "ticks": ""
           },
           "bgcolor": "#E5ECF6",
           "radialaxis": {
            "gridcolor": "white",
            "linecolor": "white",
            "ticks": ""
           }
          },
          "scene": {
           "xaxis": {
            "backgroundcolor": "#E5ECF6",
            "gridcolor": "white",
            "gridwidth": 2,
            "linecolor": "white",
            "showbackground": true,
            "ticks": "",
            "zerolinecolor": "white"
           },
           "yaxis": {
            "backgroundcolor": "#E5ECF6",
            "gridcolor": "white",
            "gridwidth": 2,
            "linecolor": "white",
            "showbackground": true,
            "ticks": "",
            "zerolinecolor": "white"
           },
           "zaxis": {
            "backgroundcolor": "#E5ECF6",
            "gridcolor": "white",
            "gridwidth": 2,
            "linecolor": "white",
            "showbackground": true,
            "ticks": "",
            "zerolinecolor": "white"
           }
          },
          "shapedefaults": {
           "line": {
            "color": "#2a3f5f"
           }
          },
          "ternary": {
           "aaxis": {
            "gridcolor": "white",
            "linecolor": "white",
            "ticks": ""
           },
           "baxis": {
            "gridcolor": "white",
            "linecolor": "white",
            "ticks": ""
           },
           "bgcolor": "#E5ECF6",
           "caxis": {
            "gridcolor": "white",
            "linecolor": "white",
            "ticks": ""
           }
          },
          "title": {
           "x": 0.05
          },
          "xaxis": {
           "automargin": true,
           "gridcolor": "white",
           "linecolor": "white",
           "ticks": "",
           "title": {
            "standoff": 15
           },
           "zerolinecolor": "white",
           "zerolinewidth": 2
          },
          "yaxis": {
           "automargin": true,
           "gridcolor": "white",
           "linecolor": "white",
           "ticks": "",
           "title": {
            "standoff": 15
           },
           "zerolinecolor": "white",
           "zerolinewidth": 2
          }
         }
        },
        "title": {
         "font": {
          "color": "#4D5663"
         }
        },
        "xaxis": {
         "gridcolor": "#E1E5ED",
         "showgrid": true,
         "tickfont": {
          "color": "#4D5663"
         },
         "title": {
          "font": {
           "color": "#4D5663"
          },
          "text": ""
         },
         "zerolinecolor": "#E1E5ED"
        },
        "yaxis": {
         "gridcolor": "#E1E5ED",
         "showgrid": true,
         "tickfont": {
          "color": "#4D5663"
         },
         "title": {
          "font": {
           "color": "#4D5663"
          },
          "text": ""
         },
         "zerolinecolor": "#E1E5ED"
        }
       }
      },
      "text/html": [
       "<div>                            <div id=\"92dbb8be-c621-4c44-8871-33c9fde9a856\" class=\"plotly-graph-div\" style=\"height:525px; width:100%;\"></div>            <script type=\"text/javascript\">                require([\"plotly\"], function(Plotly) {                    window.PLOTLYENV=window.PLOTLYENV || {};\n",
       "                    window.PLOTLYENV.BASE_URL='https://plot.ly';                                    if (document.getElementById(\"92dbb8be-c621-4c44-8871-33c9fde9a856\")) {                    Plotly.newPlot(                        \"92dbb8be-c621-4c44-8871-33c9fde9a856\",                        [{\"marker\":{\"color\":\"rgba(255, 153, 51, 0.6)\",\"line\":{\"color\":\"rgba(255, 153, 51, 1.0)\",\"width\":1}},\"name\":\"A\",\"orientation\":\"v\",\"text\":\"\",\"x\":[0,1,2,3,4,5,6,7,8,9,10,11,12,13,14,15,16,17,18,19,20,21,22,23,24,25,26,27,28,29,30,31,32,33,34,35,36,37,38,39,40,41,42,43,44,45,46,47,48,49,50,51,52,53,54,55,56,57,58,59,60,61,62,63,64,65,66,67,68,69,70,71,72,73,74,75,76,77,78,79,80,81,82,83,84,85,86,87,88,89,90,91,92,93,94,95,96,97,98,99],\"y\":[-0.013575241110450833,0.2014623469983288,-0.0899174937991628,0.14630244753708072,-1.4024321759431153,0.9439764762749664,-0.06382546259278613,0.9982777327924083,-0.4738871296179397,-1.7479270508567541,1.2896284502503772,-0.04094150702985916,1.1814727250692378,-0.04157675514734971,-1.6784201398008336,0.47505030888120736,0.7132508636230379,-0.24799219632184952,0.498384065116775,-0.7430537436978263,-0.5943008339808885,-0.33906026487962165,1.4230113577354255,-1.1356125023659205,-0.7194920556774836,0.40350687564521937,0.09680216062296426,1.4865354363232182,1.2837062691204009,-1.0449294104369733,-0.6046026297845802,1.035080585844793,-0.4781821091586237,0.5065245619851478,-0.054456558223678724,-0.2900838094108421,1.2672416269601274,1.5008075582806726,-1.194091196522751,0.2698019492376579,-1.3824745155019331,-0.6850572186353427,-0.19631292310626414,-1.7805521599361438,0.3631036285353618,0.6483575919989167,-0.8944577060934934,-0.45196364550134455,1.1847861292974133,-1.8807707543177625,-1.2730083730328554,-0.985849891541202,1.515677949465927,2.0874223263641296,0.2095676374486414,-1.8683151904123785,-0.6105186098607324,-1.5130203096464259,-0.0003192758589660021,-0.2349119693895656,2.1403613710248126,0.5017449877885893,-0.8644251613155253,-0.18257031359149076,0.4680037222306966,1.0298039480230532,1.6891500537933402,-1.6723929936831465,-1.5452705113745921,1.7062784160701598,-0.9945442447534536,-0.7774222561957261,-0.340371918308804,0.4775565849235679,-0.1464000856716878,-0.6662999728881014,-0.346476421279362,1.1186333582116288,1.7342334819205307,-0.15328405276518267,1.3265505703328604,0.2757959579792867,0.7440128032532201,0.5657951535956439,-1.2062365572122227,-1.146436230453736,-1.196647336791392,0.4486528374273348,0.8709122796607749,1.6626797853566428,1.291632918517345,-0.4326167764627019,0.010208309112078297,-0.4199867337686686,-2.454723215844547,0.06614779474923367,-0.2915800212075181,2.1053698664072478,-0.3762600092064639,0.6001534852873674],\"type\":\"bar\"},{\"marker\":{\"color\":\"rgba(55, 128, 191, 0.6)\",\"line\":{\"color\":\"rgba(55, 128, 191, 1.0)\",\"width\":1}},\"name\":\"B\",\"orientation\":\"v\",\"text\":\"\",\"x\":[0,1,2,3,4,5,6,7,8,9,10,11,12,13,14,15,16,17,18,19,20,21,22,23,24,25,26,27,28,29,30,31,32,33,34,35,36,37,38,39,40,41,42,43,44,45,46,47,48,49,50,51,52,53,54,55,56,57,58,59,60,61,62,63,64,65,66,67,68,69,70,71,72,73,74,75,76,77,78,79,80,81,82,83,84,85,86,87,88,89,90,91,92,93,94,95,96,97,98,99],\"y\":[-0.4998086521162006,0.8638138888466803,0.7388639050818845,-2.5351516106839127,-0.6241965970069808,1.5863209972469399,-1.0272668926051103,0.5002535232220292,-0.5200660025824956,1.3047727610507056,-0.08212568013725245,-1.0235664200651708,-0.6235439639220131,-0.5117151989397963,-1.3452522320083882,0.07491224307445563,-0.9858627810630309,0.48812466598017146,-1.5781779944879513,0.7523712855310276,1.1558049361093523,-1.2137704432592629,1.5327616425683321,0.466351019069615,0.10177591740341613,1.6724484500498018,-0.5864709129917581,0.8044521979893766,-1.7788829295501853,1.8365955689749571,1.1633726863223617,-1.0242007875588857,1.0954568746844986,-2.2346848698945556,0.39266228174684914,0.8404729296808121,-0.2442692234613969,-1.3538759957921003,-1.0071264286913437,-0.511299082282564,-1.243464143501981,1.53226091738115,0.3787947928421932,0.7937415890066196,0.09369302886706242,1.3665228041204913,-0.07540557834451925,1.12960511549684,-1.0969114092610217,-0.5256619286736163,-0.1255995227222061,1.1299806924847526,1.842176499039704,0.9223553718749332,0.9624408464070193,-1.5949382147241815,0.10358617230626112,0.629926007568259,0.23282104595070716,0.34926447605244215,0.6210082966455818,1.3575286778092086,0.15034415981621055,-0.8319500033867744,-0.23994802321186406,-0.9917052396304813,-0.2101515420007641,-0.4604086451895767,-0.4103810500625088,-0.19193031808972585,-1.618290060509264,0.19680333078802792,-1.3695862380868853,-0.016764656229118585,1.491314290176382,0.5257097682782415,-0.10641544036555185,-1.664002357709959,0.6116037639332458,-0.49482872597775346,-0.06595019550852914,-0.7228448984081656,0.40190328495696986,0.7587437246052716,-0.25076469773656773,0.0903897080544539,-0.49465980470031895,1.0241171735974268,-0.5792698354452798,0.5420021881562249,0.1396869935373383,-0.5245699273060564,-0.4550638669849926,-2.4864659332530863,2.5638197096368796,-1.6643846707072714,-0.14449922089190276,-0.25589607049514157,-1.0290835991474259,-1.099958347108077],\"type\":\"bar\"},{\"marker\":{\"color\":\"rgba(50, 171, 96, 0.6)\",\"line\":{\"color\":\"rgba(50, 171, 96, 1.0)\",\"width\":1}},\"name\":\"C\",\"orientation\":\"v\",\"text\":\"\",\"x\":[0,1,2,3,4,5,6,7,8,9,10,11,12,13,14,15,16,17,18,19,20,21,22,23,24,25,26,27,28,29,30,31,32,33,34,35,36,37,38,39,40,41,42,43,44,45,46,47,48,49,50,51,52,53,54,55,56,57,58,59,60,61,62,63,64,65,66,67,68,69,70,71,72,73,74,75,76,77,78,79,80,81,82,83,84,85,86,87,88,89,90,91,92,93,94,95,96,97,98,99],\"y\":[-0.03897819554267246,-0.45237410422813007,-0.9148037122545782,0.9535472502455863,-1.4048943076631102,-0.02552396525986394,-0.16999014234229043,-0.8005195292528466,0.489122269331501,-0.9738843159490248,-0.16020281396152478,-0.8295315084912306,-1.0710559926834227,0.9997766978884247,-1.4310237129930352,1.3070106872583303,0.7313254595552003,0.15605963803369327,0.2792068851428407,-0.28606270041226173,0.16570192386801588,0.7399897481613859,-1.4060667670740261,-0.4062331404164582,-0.40689761889533727,0.4589588634993919,1.0892311839862554,-0.6626451338834085,0.13797262053600742,-1.0517178921409511,-0.167038781526083,-0.4538040326345461,1.093561476437651,-1.847917830900397,-1.812934611548087,0.5460453823483944,-0.9523449183934559,1.3681088221219067,-0.4087585732632988,-0.4689630871848432,0.33113790981162516,1.7995374767983916,-1.9716431639594623,-0.7185553355541259,-0.4831753129690847,-0.1303610300940544,0.5535500317467342,1.7397571813169999,0.7074500660163463,-0.15749934931347762,0.5451645569926603,0.36244176948027973,0.7832399338190531,-1.6479214934825983,0.6947094604228694,-0.026321189640635765,0.6298127853299399,0.09497079558586638,0.5682270338122841,-0.32624841707502206,-0.14150138830677372,-0.5826441247263411,-0.37155778050514765,0.45433186240226353,-1.8486182555766015,-0.4272754688339868,1.3379923933370492,1.1030836835459426,0.33123816871353917,-0.365209036376047,0.44198159795425157,1.130722922509479,1.4431836867831143,-0.059577614635175885,0.8068824260031981,-1.061563464126283,2.3168102767827747,-0.1533249969025579,0.9323611166718686,0.8602968645952596,-3.3123992506170787,2.2042387607130225,0.5363583593827271,-0.3282709532102508,1.8928049631040889,-1.1260015336894462,0.6949648736475352,0.7222765625402395,0.24958033860760995,-1.7163837090135452,-0.7568130572220154,-0.13542338662983835,-0.13893830864817305,-1.2530513135516494,0.3013792980620921,0.6312530701902108,1.528341343156567,-0.11290283541221337,-1.2002544991759756,-0.012042900182959379],\"type\":\"bar\"},{\"marker\":{\"color\":\"rgba(128, 0, 128, 0.6)\",\"line\":{\"color\":\"rgba(128, 0, 128, 1.0)\",\"width\":1}},\"name\":\"D\",\"orientation\":\"v\",\"text\":\"\",\"x\":[0,1,2,3,4,5,6,7,8,9,10,11,12,13,14,15,16,17,18,19,20,21,22,23,24,25,26,27,28,29,30,31,32,33,34,35,36,37,38,39,40,41,42,43,44,45,46,47,48,49,50,51,52,53,54,55,56,57,58,59,60,61,62,63,64,65,66,67,68,69,70,71,72,73,74,75,76,77,78,79,80,81,82,83,84,85,86,87,88,89,90,91,92,93,94,95,96,97,98,99],\"y\":[-0.5370911808766012,-2.321571647104632,0.5794844976759298,2.6696847002422093,-0.0628802393351703,0.856143428566187,2.0621458131416266,-0.035648267009385046,0.030833795609075402,0.3415158116578078,-0.3859012363140178,0.3609972035587406,1.0482829284088313,0.06821914391373095,-0.7610923046981812,0.6125951666149811,-1.380189032931467,0.4191665325951915,1.7739917406385555,0.2168226670444201,0.7405402700307281,-0.42256301034062066,0.018111319601031753,1.1155892412982806,-1.4999055926396876,-0.5947774111653107,0.018381646786778092,0.4044101964543374,1.162393959229401,1.2635861650539149,-1.6585120591216127,0.3745359867443123,-0.6042965058041246,-0.36500191273588045,0.07695854943740069,-0.4920978112467595,0.7815104260905494,-0.9342677462715024,-1.085311716713249,-1.2238414271897249,-0.0986622209609241,-1.3598393083357998,0.4351701843515012,-0.605292022362214,-1.9990675344070585,0.8198496193265,-0.7174341412363682,-0.467798063088864,-0.6395896099981112,-0.8137340650012729,1.3388149301350298,-0.07729452529534941,-0.32006894334242303,-0.5212376005619955,0.34826697009878055,0.04322596472394743,-0.8751630591683667,0.5282407958690774,-1.5245554906639394,-0.7114075014623907,0.6136614058445458,-0.6899539400539682,1.3383065365015576,-0.4687534641720835,0.31663129352505415,1.6430350068157462,-2.6193481946114083,-0.584449208207381,2.4382321153223065,0.7346470725692921,-1.4689518757597313,0.618524439084242,2.305276107304658,0.11527745916872338,1.0768495073439397,1.113330117936661,0.5688144051873003,1.4269619333427306,0.2861659530349212,1.6124139653612652,0.40249953609561223,1.1503513623086212,-1.3142430021494809,-0.1533860479957921,0.7026210178016035,-0.25140673295468247,0.03108806949108133,0.12245461656442247,-1.045151787506711,0.5103129915132618,-1.9976116086927933,1.6266100462323916,0.13527513123569643,-1.0360016372607777,1.6998818717986037,0.7079484991419566,1.4649518107345052,0.5280813775901442,0.5204694722261566,-0.11769449274516725],\"type\":\"bar\"}],                        {\"legend\":{\"bgcolor\":\"#F5F6F9\",\"font\":{\"color\":\"#4D5663\"}},\"paper_bgcolor\":\"#F5F6F9\",\"plot_bgcolor\":\"#F5F6F9\",\"template\":{\"data\":{\"barpolar\":[{\"marker\":{\"line\":{\"color\":\"#E5ECF6\",\"width\":0.5},\"pattern\":{\"fillmode\":\"overlay\",\"size\":10,\"solidity\":0.2}},\"type\":\"barpolar\"}],\"bar\":[{\"error_x\":{\"color\":\"#2a3f5f\"},\"error_y\":{\"color\":\"#2a3f5f\"},\"marker\":{\"line\":{\"color\":\"#E5ECF6\",\"width\":0.5},\"pattern\":{\"fillmode\":\"overlay\",\"size\":10,\"solidity\":0.2}},\"type\":\"bar\"}],\"carpet\":[{\"aaxis\":{\"endlinecolor\":\"#2a3f5f\",\"gridcolor\":\"white\",\"linecolor\":\"white\",\"minorgridcolor\":\"white\",\"startlinecolor\":\"#2a3f5f\"},\"baxis\":{\"endlinecolor\":\"#2a3f5f\",\"gridcolor\":\"white\",\"linecolor\":\"white\",\"minorgridcolor\":\"white\",\"startlinecolor\":\"#2a3f5f\"},\"type\":\"carpet\"}],\"choropleth\":[{\"colorbar\":{\"outlinewidth\":0,\"ticks\":\"\"},\"type\":\"choropleth\"}],\"contourcarpet\":[{\"colorbar\":{\"outlinewidth\":0,\"ticks\":\"\"},\"type\":\"contourcarpet\"}],\"contour\":[{\"colorbar\":{\"outlinewidth\":0,\"ticks\":\"\"},\"colorscale\":[[0.0,\"#0d0887\"],[0.1111111111111111,\"#46039f\"],[0.2222222222222222,\"#7201a8\"],[0.3333333333333333,\"#9c179e\"],[0.4444444444444444,\"#bd3786\"],[0.5555555555555556,\"#d8576b\"],[0.6666666666666666,\"#ed7953\"],[0.7777777777777778,\"#fb9f3a\"],[0.8888888888888888,\"#fdca26\"],[1.0,\"#f0f921\"]],\"type\":\"contour\"}],\"heatmapgl\":[{\"colorbar\":{\"outlinewidth\":0,\"ticks\":\"\"},\"colorscale\":[[0.0,\"#0d0887\"],[0.1111111111111111,\"#46039f\"],[0.2222222222222222,\"#7201a8\"],[0.3333333333333333,\"#9c179e\"],[0.4444444444444444,\"#bd3786\"],[0.5555555555555556,\"#d8576b\"],[0.6666666666666666,\"#ed7953\"],[0.7777777777777778,\"#fb9f3a\"],[0.8888888888888888,\"#fdca26\"],[1.0,\"#f0f921\"]],\"type\":\"heatmapgl\"}],\"heatmap\":[{\"colorbar\":{\"outlinewidth\":0,\"ticks\":\"\"},\"colorscale\":[[0.0,\"#0d0887\"],[0.1111111111111111,\"#46039f\"],[0.2222222222222222,\"#7201a8\"],[0.3333333333333333,\"#9c179e\"],[0.4444444444444444,\"#bd3786\"],[0.5555555555555556,\"#d8576b\"],[0.6666666666666666,\"#ed7953\"],[0.7777777777777778,\"#fb9f3a\"],[0.8888888888888888,\"#fdca26\"],[1.0,\"#f0f921\"]],\"type\":\"heatmap\"}],\"histogram2dcontour\":[{\"colorbar\":{\"outlinewidth\":0,\"ticks\":\"\"},\"colorscale\":[[0.0,\"#0d0887\"],[0.1111111111111111,\"#46039f\"],[0.2222222222222222,\"#7201a8\"],[0.3333333333333333,\"#9c179e\"],[0.4444444444444444,\"#bd3786\"],[0.5555555555555556,\"#d8576b\"],[0.6666666666666666,\"#ed7953\"],[0.7777777777777778,\"#fb9f3a\"],[0.8888888888888888,\"#fdca26\"],[1.0,\"#f0f921\"]],\"type\":\"histogram2dcontour\"}],\"histogram2d\":[{\"colorbar\":{\"outlinewidth\":0,\"ticks\":\"\"},\"colorscale\":[[0.0,\"#0d0887\"],[0.1111111111111111,\"#46039f\"],[0.2222222222222222,\"#7201a8\"],[0.3333333333333333,\"#9c179e\"],[0.4444444444444444,\"#bd3786\"],[0.5555555555555556,\"#d8576b\"],[0.6666666666666666,\"#ed7953\"],[0.7777777777777778,\"#fb9f3a\"],[0.8888888888888888,\"#fdca26\"],[1.0,\"#f0f921\"]],\"type\":\"histogram2d\"}],\"histogram\":[{\"marker\":{\"pattern\":{\"fillmode\":\"overlay\",\"size\":10,\"solidity\":0.2}},\"type\":\"histogram\"}],\"mesh3d\":[{\"colorbar\":{\"outlinewidth\":0,\"ticks\":\"\"},\"type\":\"mesh3d\"}],\"parcoords\":[{\"line\":{\"colorbar\":{\"outlinewidth\":0,\"ticks\":\"\"}},\"type\":\"parcoords\"}],\"pie\":[{\"automargin\":true,\"type\":\"pie\"}],\"scatter3d\":[{\"line\":{\"colorbar\":{\"outlinewidth\":0,\"ticks\":\"\"}},\"marker\":{\"colorbar\":{\"outlinewidth\":0,\"ticks\":\"\"}},\"type\":\"scatter3d\"}],\"scattercarpet\":[{\"marker\":{\"colorbar\":{\"outlinewidth\":0,\"ticks\":\"\"}},\"type\":\"scattercarpet\"}],\"scattergeo\":[{\"marker\":{\"colorbar\":{\"outlinewidth\":0,\"ticks\":\"\"}},\"type\":\"scattergeo\"}],\"scattergl\":[{\"marker\":{\"colorbar\":{\"outlinewidth\":0,\"ticks\":\"\"}},\"type\":\"scattergl\"}],\"scattermapbox\":[{\"marker\":{\"colorbar\":{\"outlinewidth\":0,\"ticks\":\"\"}},\"type\":\"scattermapbox\"}],\"scatterpolargl\":[{\"marker\":{\"colorbar\":{\"outlinewidth\":0,\"ticks\":\"\"}},\"type\":\"scatterpolargl\"}],\"scatterpolar\":[{\"marker\":{\"colorbar\":{\"outlinewidth\":0,\"ticks\":\"\"}},\"type\":\"scatterpolar\"}],\"scatter\":[{\"fillpattern\":{\"fillmode\":\"overlay\",\"size\":10,\"solidity\":0.2},\"type\":\"scatter\"}],\"scatterternary\":[{\"marker\":{\"colorbar\":{\"outlinewidth\":0,\"ticks\":\"\"}},\"type\":\"scatterternary\"}],\"surface\":[{\"colorbar\":{\"outlinewidth\":0,\"ticks\":\"\"},\"colorscale\":[[0.0,\"#0d0887\"],[0.1111111111111111,\"#46039f\"],[0.2222222222222222,\"#7201a8\"],[0.3333333333333333,\"#9c179e\"],[0.4444444444444444,\"#bd3786\"],[0.5555555555555556,\"#d8576b\"],[0.6666666666666666,\"#ed7953\"],[0.7777777777777778,\"#fb9f3a\"],[0.8888888888888888,\"#fdca26\"],[1.0,\"#f0f921\"]],\"type\":\"surface\"}],\"table\":[{\"cells\":{\"fill\":{\"color\":\"#EBF0F8\"},\"line\":{\"color\":\"white\"}},\"header\":{\"fill\":{\"color\":\"#C8D4E3\"},\"line\":{\"color\":\"white\"}},\"type\":\"table\"}]},\"layout\":{\"annotationdefaults\":{\"arrowcolor\":\"#2a3f5f\",\"arrowhead\":0,\"arrowwidth\":1},\"autotypenumbers\":\"strict\",\"coloraxis\":{\"colorbar\":{\"outlinewidth\":0,\"ticks\":\"\"}},\"colorscale\":{\"diverging\":[[0,\"#8e0152\"],[0.1,\"#c51b7d\"],[0.2,\"#de77ae\"],[0.3,\"#f1b6da\"],[0.4,\"#fde0ef\"],[0.5,\"#f7f7f7\"],[0.6,\"#e6f5d0\"],[0.7,\"#b8e186\"],[0.8,\"#7fbc41\"],[0.9,\"#4d9221\"],[1,\"#276419\"]],\"sequential\":[[0.0,\"#0d0887\"],[0.1111111111111111,\"#46039f\"],[0.2222222222222222,\"#7201a8\"],[0.3333333333333333,\"#9c179e\"],[0.4444444444444444,\"#bd3786\"],[0.5555555555555556,\"#d8576b\"],[0.6666666666666666,\"#ed7953\"],[0.7777777777777778,\"#fb9f3a\"],[0.8888888888888888,\"#fdca26\"],[1.0,\"#f0f921\"]],\"sequentialminus\":[[0.0,\"#0d0887\"],[0.1111111111111111,\"#46039f\"],[0.2222222222222222,\"#7201a8\"],[0.3333333333333333,\"#9c179e\"],[0.4444444444444444,\"#bd3786\"],[0.5555555555555556,\"#d8576b\"],[0.6666666666666666,\"#ed7953\"],[0.7777777777777778,\"#fb9f3a\"],[0.8888888888888888,\"#fdca26\"],[1.0,\"#f0f921\"]]},\"colorway\":[\"#636efa\",\"#EF553B\",\"#00cc96\",\"#ab63fa\",\"#FFA15A\",\"#19d3f3\",\"#FF6692\",\"#B6E880\",\"#FF97FF\",\"#FECB52\"],\"font\":{\"color\":\"#2a3f5f\"},\"geo\":{\"bgcolor\":\"white\",\"lakecolor\":\"white\",\"landcolor\":\"#E5ECF6\",\"showlakes\":true,\"showland\":true,\"subunitcolor\":\"white\"},\"hoverlabel\":{\"align\":\"left\"},\"hovermode\":\"closest\",\"mapbox\":{\"style\":\"light\"},\"paper_bgcolor\":\"white\",\"plot_bgcolor\":\"#E5ECF6\",\"polar\":{\"angularaxis\":{\"gridcolor\":\"white\",\"linecolor\":\"white\",\"ticks\":\"\"},\"bgcolor\":\"#E5ECF6\",\"radialaxis\":{\"gridcolor\":\"white\",\"linecolor\":\"white\",\"ticks\":\"\"}},\"scene\":{\"xaxis\":{\"backgroundcolor\":\"#E5ECF6\",\"gridcolor\":\"white\",\"gridwidth\":2,\"linecolor\":\"white\",\"showbackground\":true,\"ticks\":\"\",\"zerolinecolor\":\"white\"},\"yaxis\":{\"backgroundcolor\":\"#E5ECF6\",\"gridcolor\":\"white\",\"gridwidth\":2,\"linecolor\":\"white\",\"showbackground\":true,\"ticks\":\"\",\"zerolinecolor\":\"white\"},\"zaxis\":{\"backgroundcolor\":\"#E5ECF6\",\"gridcolor\":\"white\",\"gridwidth\":2,\"linecolor\":\"white\",\"showbackground\":true,\"ticks\":\"\",\"zerolinecolor\":\"white\"}},\"shapedefaults\":{\"line\":{\"color\":\"#2a3f5f\"}},\"ternary\":{\"aaxis\":{\"gridcolor\":\"white\",\"linecolor\":\"white\",\"ticks\":\"\"},\"baxis\":{\"gridcolor\":\"white\",\"linecolor\":\"white\",\"ticks\":\"\"},\"bgcolor\":\"#E5ECF6\",\"caxis\":{\"gridcolor\":\"white\",\"linecolor\":\"white\",\"ticks\":\"\"}},\"title\":{\"x\":0.05},\"xaxis\":{\"automargin\":true,\"gridcolor\":\"white\",\"linecolor\":\"white\",\"ticks\":\"\",\"title\":{\"standoff\":15},\"zerolinecolor\":\"white\",\"zerolinewidth\":2},\"yaxis\":{\"automargin\":true,\"gridcolor\":\"white\",\"linecolor\":\"white\",\"ticks\":\"\",\"title\":{\"standoff\":15},\"zerolinecolor\":\"white\",\"zerolinewidth\":2}}},\"title\":{\"font\":{\"color\":\"#4D5663\"}},\"xaxis\":{\"gridcolor\":\"#E1E5ED\",\"showgrid\":true,\"tickfont\":{\"color\":\"#4D5663\"},\"title\":{\"font\":{\"color\":\"#4D5663\"},\"text\":\"\"},\"zerolinecolor\":\"#E1E5ED\"},\"yaxis\":{\"gridcolor\":\"#E1E5ED\",\"showgrid\":true,\"tickfont\":{\"color\":\"#4D5663\"},\"title\":{\"font\":{\"color\":\"#4D5663\"},\"text\":\"\"},\"zerolinecolor\":\"#E1E5ED\"}},                        {\"showLink\": true, \"linkText\": \"Export to plot.ly\", \"plotlyServerURL\": \"https://plot.ly\", \"responsive\": true}                    ).then(function(){\n",
       "                            \n",
       "var gd = document.getElementById('92dbb8be-c621-4c44-8871-33c9fde9a856');\n",
       "var x = new MutationObserver(function (mutations, observer) {{\n",
       "        var display = window.getComputedStyle(gd).display;\n",
       "        if (!display || display === 'none') {{\n",
       "            console.log([gd, 'removed!']);\n",
       "            Plotly.purge(gd);\n",
       "            observer.disconnect();\n",
       "        }}\n",
       "}});\n",
       "\n",
       "// Listen for the removal of the full notebook cells\n",
       "var notebookContainer = gd.closest('#notebook-container');\n",
       "if (notebookContainer) {{\n",
       "    x.observe(notebookContainer, {childList: true});\n",
       "}}\n",
       "\n",
       "// Listen for the clearing of the current output cell\n",
       "var outputEl = gd.closest('.output');\n",
       "if (outputEl) {{\n",
       "    x.observe(outputEl, {childList: true});\n",
       "}}\n",
       "\n",
       "                        })                };                });            </script>        </div>"
      ]
     },
     "metadata": {},
     "output_type": "display_data"
    }
   ],
   "source": [
    "# you can call aggregate functions on your data\n",
    "df.iplot(kind='bar')\n",
    "# simply the plot of all data points"
   ]
  },
  {
   "cell_type": "code",
   "execution_count": 37,
   "metadata": {},
   "outputs": [
    {
     "data": {
      "application/vnd.plotly.v1+json": {
       "config": {
        "linkText": "Export to plot.ly",
        "plotlyServerURL": "https://plot.ly",
        "showLink": true
       },
       "data": [
        {
         "marker": {
          "color": "rgba(255, 153, 51, 0.6)",
          "line": {
           "color": "rgba(255, 153, 51, 1.0)",
           "width": 1
          }
         },
         "name": "None",
         "orientation": "v",
         "text": "",
         "type": "bar",
         "x": [
          "A",
          "B",
          "C",
          "D"
         ],
         "y": [
          100,
          100,
          100,
          100
         ]
        }
       ],
       "layout": {
        "legend": {
         "bgcolor": "#F5F6F9",
         "font": {
          "color": "#4D5663"
         }
        },
        "paper_bgcolor": "#F5F6F9",
        "plot_bgcolor": "#F5F6F9",
        "template": {
         "data": {
          "bar": [
           {
            "error_x": {
             "color": "#2a3f5f"
            },
            "error_y": {
             "color": "#2a3f5f"
            },
            "marker": {
             "line": {
              "color": "#E5ECF6",
              "width": 0.5
             },
             "pattern": {
              "fillmode": "overlay",
              "size": 10,
              "solidity": 0.2
             }
            },
            "type": "bar"
           }
          ],
          "barpolar": [
           {
            "marker": {
             "line": {
              "color": "#E5ECF6",
              "width": 0.5
             },
             "pattern": {
              "fillmode": "overlay",
              "size": 10,
              "solidity": 0.2
             }
            },
            "type": "barpolar"
           }
          ],
          "carpet": [
           {
            "aaxis": {
             "endlinecolor": "#2a3f5f",
             "gridcolor": "white",
             "linecolor": "white",
             "minorgridcolor": "white",
             "startlinecolor": "#2a3f5f"
            },
            "baxis": {
             "endlinecolor": "#2a3f5f",
             "gridcolor": "white",
             "linecolor": "white",
             "minorgridcolor": "white",
             "startlinecolor": "#2a3f5f"
            },
            "type": "carpet"
           }
          ],
          "choropleth": [
           {
            "colorbar": {
             "outlinewidth": 0,
             "ticks": ""
            },
            "type": "choropleth"
           }
          ],
          "contour": [
           {
            "colorbar": {
             "outlinewidth": 0,
             "ticks": ""
            },
            "colorscale": [
             [
              0,
              "#0d0887"
             ],
             [
              0.1111111111111111,
              "#46039f"
             ],
             [
              0.2222222222222222,
              "#7201a8"
             ],
             [
              0.3333333333333333,
              "#9c179e"
             ],
             [
              0.4444444444444444,
              "#bd3786"
             ],
             [
              0.5555555555555556,
              "#d8576b"
             ],
             [
              0.6666666666666666,
              "#ed7953"
             ],
             [
              0.7777777777777778,
              "#fb9f3a"
             ],
             [
              0.8888888888888888,
              "#fdca26"
             ],
             [
              1,
              "#f0f921"
             ]
            ],
            "type": "contour"
           }
          ],
          "contourcarpet": [
           {
            "colorbar": {
             "outlinewidth": 0,
             "ticks": ""
            },
            "type": "contourcarpet"
           }
          ],
          "heatmap": [
           {
            "colorbar": {
             "outlinewidth": 0,
             "ticks": ""
            },
            "colorscale": [
             [
              0,
              "#0d0887"
             ],
             [
              0.1111111111111111,
              "#46039f"
             ],
             [
              0.2222222222222222,
              "#7201a8"
             ],
             [
              0.3333333333333333,
              "#9c179e"
             ],
             [
              0.4444444444444444,
              "#bd3786"
             ],
             [
              0.5555555555555556,
              "#d8576b"
             ],
             [
              0.6666666666666666,
              "#ed7953"
             ],
             [
              0.7777777777777778,
              "#fb9f3a"
             ],
             [
              0.8888888888888888,
              "#fdca26"
             ],
             [
              1,
              "#f0f921"
             ]
            ],
            "type": "heatmap"
           }
          ],
          "heatmapgl": [
           {
            "colorbar": {
             "outlinewidth": 0,
             "ticks": ""
            },
            "colorscale": [
             [
              0,
              "#0d0887"
             ],
             [
              0.1111111111111111,
              "#46039f"
             ],
             [
              0.2222222222222222,
              "#7201a8"
             ],
             [
              0.3333333333333333,
              "#9c179e"
             ],
             [
              0.4444444444444444,
              "#bd3786"
             ],
             [
              0.5555555555555556,
              "#d8576b"
             ],
             [
              0.6666666666666666,
              "#ed7953"
             ],
             [
              0.7777777777777778,
              "#fb9f3a"
             ],
             [
              0.8888888888888888,
              "#fdca26"
             ],
             [
              1,
              "#f0f921"
             ]
            ],
            "type": "heatmapgl"
           }
          ],
          "histogram": [
           {
            "marker": {
             "pattern": {
              "fillmode": "overlay",
              "size": 10,
              "solidity": 0.2
             }
            },
            "type": "histogram"
           }
          ],
          "histogram2d": [
           {
            "colorbar": {
             "outlinewidth": 0,
             "ticks": ""
            },
            "colorscale": [
             [
              0,
              "#0d0887"
             ],
             [
              0.1111111111111111,
              "#46039f"
             ],
             [
              0.2222222222222222,
              "#7201a8"
             ],
             [
              0.3333333333333333,
              "#9c179e"
             ],
             [
              0.4444444444444444,
              "#bd3786"
             ],
             [
              0.5555555555555556,
              "#d8576b"
             ],
             [
              0.6666666666666666,
              "#ed7953"
             ],
             [
              0.7777777777777778,
              "#fb9f3a"
             ],
             [
              0.8888888888888888,
              "#fdca26"
             ],
             [
              1,
              "#f0f921"
             ]
            ],
            "type": "histogram2d"
           }
          ],
          "histogram2dcontour": [
           {
            "colorbar": {
             "outlinewidth": 0,
             "ticks": ""
            },
            "colorscale": [
             [
              0,
              "#0d0887"
             ],
             [
              0.1111111111111111,
              "#46039f"
             ],
             [
              0.2222222222222222,
              "#7201a8"
             ],
             [
              0.3333333333333333,
              "#9c179e"
             ],
             [
              0.4444444444444444,
              "#bd3786"
             ],
             [
              0.5555555555555556,
              "#d8576b"
             ],
             [
              0.6666666666666666,
              "#ed7953"
             ],
             [
              0.7777777777777778,
              "#fb9f3a"
             ],
             [
              0.8888888888888888,
              "#fdca26"
             ],
             [
              1,
              "#f0f921"
             ]
            ],
            "type": "histogram2dcontour"
           }
          ],
          "mesh3d": [
           {
            "colorbar": {
             "outlinewidth": 0,
             "ticks": ""
            },
            "type": "mesh3d"
           }
          ],
          "parcoords": [
           {
            "line": {
             "colorbar": {
              "outlinewidth": 0,
              "ticks": ""
             }
            },
            "type": "parcoords"
           }
          ],
          "pie": [
           {
            "automargin": true,
            "type": "pie"
           }
          ],
          "scatter": [
           {
            "fillpattern": {
             "fillmode": "overlay",
             "size": 10,
             "solidity": 0.2
            },
            "type": "scatter"
           }
          ],
          "scatter3d": [
           {
            "line": {
             "colorbar": {
              "outlinewidth": 0,
              "ticks": ""
             }
            },
            "marker": {
             "colorbar": {
              "outlinewidth": 0,
              "ticks": ""
             }
            },
            "type": "scatter3d"
           }
          ],
          "scattercarpet": [
           {
            "marker": {
             "colorbar": {
              "outlinewidth": 0,
              "ticks": ""
             }
            },
            "type": "scattercarpet"
           }
          ],
          "scattergeo": [
           {
            "marker": {
             "colorbar": {
              "outlinewidth": 0,
              "ticks": ""
             }
            },
            "type": "scattergeo"
           }
          ],
          "scattergl": [
           {
            "marker": {
             "colorbar": {
              "outlinewidth": 0,
              "ticks": ""
             }
            },
            "type": "scattergl"
           }
          ],
          "scattermapbox": [
           {
            "marker": {
             "colorbar": {
              "outlinewidth": 0,
              "ticks": ""
             }
            },
            "type": "scattermapbox"
           }
          ],
          "scatterpolar": [
           {
            "marker": {
             "colorbar": {
              "outlinewidth": 0,
              "ticks": ""
             }
            },
            "type": "scatterpolar"
           }
          ],
          "scatterpolargl": [
           {
            "marker": {
             "colorbar": {
              "outlinewidth": 0,
              "ticks": ""
             }
            },
            "type": "scatterpolargl"
           }
          ],
          "scatterternary": [
           {
            "marker": {
             "colorbar": {
              "outlinewidth": 0,
              "ticks": ""
             }
            },
            "type": "scatterternary"
           }
          ],
          "surface": [
           {
            "colorbar": {
             "outlinewidth": 0,
             "ticks": ""
            },
            "colorscale": [
             [
              0,
              "#0d0887"
             ],
             [
              0.1111111111111111,
              "#46039f"
             ],
             [
              0.2222222222222222,
              "#7201a8"
             ],
             [
              0.3333333333333333,
              "#9c179e"
             ],
             [
              0.4444444444444444,
              "#bd3786"
             ],
             [
              0.5555555555555556,
              "#d8576b"
             ],
             [
              0.6666666666666666,
              "#ed7953"
             ],
             [
              0.7777777777777778,
              "#fb9f3a"
             ],
             [
              0.8888888888888888,
              "#fdca26"
             ],
             [
              1,
              "#f0f921"
             ]
            ],
            "type": "surface"
           }
          ],
          "table": [
           {
            "cells": {
             "fill": {
              "color": "#EBF0F8"
             },
             "line": {
              "color": "white"
             }
            },
            "header": {
             "fill": {
              "color": "#C8D4E3"
             },
             "line": {
              "color": "white"
             }
            },
            "type": "table"
           }
          ]
         },
         "layout": {
          "annotationdefaults": {
           "arrowcolor": "#2a3f5f",
           "arrowhead": 0,
           "arrowwidth": 1
          },
          "autotypenumbers": "strict",
          "coloraxis": {
           "colorbar": {
            "outlinewidth": 0,
            "ticks": ""
           }
          },
          "colorscale": {
           "diverging": [
            [
             0,
             "#8e0152"
            ],
            [
             0.1,
             "#c51b7d"
            ],
            [
             0.2,
             "#de77ae"
            ],
            [
             0.3,
             "#f1b6da"
            ],
            [
             0.4,
             "#fde0ef"
            ],
            [
             0.5,
             "#f7f7f7"
            ],
            [
             0.6,
             "#e6f5d0"
            ],
            [
             0.7,
             "#b8e186"
            ],
            [
             0.8,
             "#7fbc41"
            ],
            [
             0.9,
             "#4d9221"
            ],
            [
             1,
             "#276419"
            ]
           ],
           "sequential": [
            [
             0,
             "#0d0887"
            ],
            [
             0.1111111111111111,
             "#46039f"
            ],
            [
             0.2222222222222222,
             "#7201a8"
            ],
            [
             0.3333333333333333,
             "#9c179e"
            ],
            [
             0.4444444444444444,
             "#bd3786"
            ],
            [
             0.5555555555555556,
             "#d8576b"
            ],
            [
             0.6666666666666666,
             "#ed7953"
            ],
            [
             0.7777777777777778,
             "#fb9f3a"
            ],
            [
             0.8888888888888888,
             "#fdca26"
            ],
            [
             1,
             "#f0f921"
            ]
           ],
           "sequentialminus": [
            [
             0,
             "#0d0887"
            ],
            [
             0.1111111111111111,
             "#46039f"
            ],
            [
             0.2222222222222222,
             "#7201a8"
            ],
            [
             0.3333333333333333,
             "#9c179e"
            ],
            [
             0.4444444444444444,
             "#bd3786"
            ],
            [
             0.5555555555555556,
             "#d8576b"
            ],
            [
             0.6666666666666666,
             "#ed7953"
            ],
            [
             0.7777777777777778,
             "#fb9f3a"
            ],
            [
             0.8888888888888888,
             "#fdca26"
            ],
            [
             1,
             "#f0f921"
            ]
           ]
          },
          "colorway": [
           "#636efa",
           "#EF553B",
           "#00cc96",
           "#ab63fa",
           "#FFA15A",
           "#19d3f3",
           "#FF6692",
           "#B6E880",
           "#FF97FF",
           "#FECB52"
          ],
          "font": {
           "color": "#2a3f5f"
          },
          "geo": {
           "bgcolor": "white",
           "lakecolor": "white",
           "landcolor": "#E5ECF6",
           "showlakes": true,
           "showland": true,
           "subunitcolor": "white"
          },
          "hoverlabel": {
           "align": "left"
          },
          "hovermode": "closest",
          "mapbox": {
           "style": "light"
          },
          "paper_bgcolor": "white",
          "plot_bgcolor": "#E5ECF6",
          "polar": {
           "angularaxis": {
            "gridcolor": "white",
            "linecolor": "white",
            "ticks": ""
           },
           "bgcolor": "#E5ECF6",
           "radialaxis": {
            "gridcolor": "white",
            "linecolor": "white",
            "ticks": ""
           }
          },
          "scene": {
           "xaxis": {
            "backgroundcolor": "#E5ECF6",
            "gridcolor": "white",
            "gridwidth": 2,
            "linecolor": "white",
            "showbackground": true,
            "ticks": "",
            "zerolinecolor": "white"
           },
           "yaxis": {
            "backgroundcolor": "#E5ECF6",
            "gridcolor": "white",
            "gridwidth": 2,
            "linecolor": "white",
            "showbackground": true,
            "ticks": "",
            "zerolinecolor": "white"
           },
           "zaxis": {
            "backgroundcolor": "#E5ECF6",
            "gridcolor": "white",
            "gridwidth": 2,
            "linecolor": "white",
            "showbackground": true,
            "ticks": "",
            "zerolinecolor": "white"
           }
          },
          "shapedefaults": {
           "line": {
            "color": "#2a3f5f"
           }
          },
          "ternary": {
           "aaxis": {
            "gridcolor": "white",
            "linecolor": "white",
            "ticks": ""
           },
           "baxis": {
            "gridcolor": "white",
            "linecolor": "white",
            "ticks": ""
           },
           "bgcolor": "#E5ECF6",
           "caxis": {
            "gridcolor": "white",
            "linecolor": "white",
            "ticks": ""
           }
          },
          "title": {
           "x": 0.05
          },
          "xaxis": {
           "automargin": true,
           "gridcolor": "white",
           "linecolor": "white",
           "ticks": "",
           "title": {
            "standoff": 15
           },
           "zerolinecolor": "white",
           "zerolinewidth": 2
          },
          "yaxis": {
           "automargin": true,
           "gridcolor": "white",
           "linecolor": "white",
           "ticks": "",
           "title": {
            "standoff": 15
           },
           "zerolinecolor": "white",
           "zerolinewidth": 2
          }
         }
        },
        "title": {
         "font": {
          "color": "#4D5663"
         }
        },
        "xaxis": {
         "gridcolor": "#E1E5ED",
         "showgrid": true,
         "tickfont": {
          "color": "#4D5663"
         },
         "title": {
          "font": {
           "color": "#4D5663"
          },
          "text": ""
         },
         "zerolinecolor": "#E1E5ED"
        },
        "yaxis": {
         "gridcolor": "#E1E5ED",
         "showgrid": true,
         "tickfont": {
          "color": "#4D5663"
         },
         "title": {
          "font": {
           "color": "#4D5663"
          },
          "text": ""
         },
         "zerolinecolor": "#E1E5ED"
        }
       }
      },
      "text/html": [
       "<div>                            <div id=\"d02396b4-4508-433e-86f8-cf8202dac369\" class=\"plotly-graph-div\" style=\"height:525px; width:100%;\"></div>            <script type=\"text/javascript\">                require([\"plotly\"], function(Plotly) {                    window.PLOTLYENV=window.PLOTLYENV || {};\n",
       "                    window.PLOTLYENV.BASE_URL='https://plot.ly';                                    if (document.getElementById(\"d02396b4-4508-433e-86f8-cf8202dac369\")) {                    Plotly.newPlot(                        \"d02396b4-4508-433e-86f8-cf8202dac369\",                        [{\"marker\":{\"color\":\"rgba(255, 153, 51, 0.6)\",\"line\":{\"color\":\"rgba(255, 153, 51, 1.0)\",\"width\":1}},\"name\":\"None\",\"orientation\":\"v\",\"text\":\"\",\"x\":[\"A\",\"B\",\"C\",\"D\"],\"y\":[100,100,100,100],\"type\":\"bar\"}],                        {\"legend\":{\"bgcolor\":\"#F5F6F9\",\"font\":{\"color\":\"#4D5663\"}},\"paper_bgcolor\":\"#F5F6F9\",\"plot_bgcolor\":\"#F5F6F9\",\"template\":{\"data\":{\"barpolar\":[{\"marker\":{\"line\":{\"color\":\"#E5ECF6\",\"width\":0.5},\"pattern\":{\"fillmode\":\"overlay\",\"size\":10,\"solidity\":0.2}},\"type\":\"barpolar\"}],\"bar\":[{\"error_x\":{\"color\":\"#2a3f5f\"},\"error_y\":{\"color\":\"#2a3f5f\"},\"marker\":{\"line\":{\"color\":\"#E5ECF6\",\"width\":0.5},\"pattern\":{\"fillmode\":\"overlay\",\"size\":10,\"solidity\":0.2}},\"type\":\"bar\"}],\"carpet\":[{\"aaxis\":{\"endlinecolor\":\"#2a3f5f\",\"gridcolor\":\"white\",\"linecolor\":\"white\",\"minorgridcolor\":\"white\",\"startlinecolor\":\"#2a3f5f\"},\"baxis\":{\"endlinecolor\":\"#2a3f5f\",\"gridcolor\":\"white\",\"linecolor\":\"white\",\"minorgridcolor\":\"white\",\"startlinecolor\":\"#2a3f5f\"},\"type\":\"carpet\"}],\"choropleth\":[{\"colorbar\":{\"outlinewidth\":0,\"ticks\":\"\"},\"type\":\"choropleth\"}],\"contourcarpet\":[{\"colorbar\":{\"outlinewidth\":0,\"ticks\":\"\"},\"type\":\"contourcarpet\"}],\"contour\":[{\"colorbar\":{\"outlinewidth\":0,\"ticks\":\"\"},\"colorscale\":[[0.0,\"#0d0887\"],[0.1111111111111111,\"#46039f\"],[0.2222222222222222,\"#7201a8\"],[0.3333333333333333,\"#9c179e\"],[0.4444444444444444,\"#bd3786\"],[0.5555555555555556,\"#d8576b\"],[0.6666666666666666,\"#ed7953\"],[0.7777777777777778,\"#fb9f3a\"],[0.8888888888888888,\"#fdca26\"],[1.0,\"#f0f921\"]],\"type\":\"contour\"}],\"heatmapgl\":[{\"colorbar\":{\"outlinewidth\":0,\"ticks\":\"\"},\"colorscale\":[[0.0,\"#0d0887\"],[0.1111111111111111,\"#46039f\"],[0.2222222222222222,\"#7201a8\"],[0.3333333333333333,\"#9c179e\"],[0.4444444444444444,\"#bd3786\"],[0.5555555555555556,\"#d8576b\"],[0.6666666666666666,\"#ed7953\"],[0.7777777777777778,\"#fb9f3a\"],[0.8888888888888888,\"#fdca26\"],[1.0,\"#f0f921\"]],\"type\":\"heatmapgl\"}],\"heatmap\":[{\"colorbar\":{\"outlinewidth\":0,\"ticks\":\"\"},\"colorscale\":[[0.0,\"#0d0887\"],[0.1111111111111111,\"#46039f\"],[0.2222222222222222,\"#7201a8\"],[0.3333333333333333,\"#9c179e\"],[0.4444444444444444,\"#bd3786\"],[0.5555555555555556,\"#d8576b\"],[0.6666666666666666,\"#ed7953\"],[0.7777777777777778,\"#fb9f3a\"],[0.8888888888888888,\"#fdca26\"],[1.0,\"#f0f921\"]],\"type\":\"heatmap\"}],\"histogram2dcontour\":[{\"colorbar\":{\"outlinewidth\":0,\"ticks\":\"\"},\"colorscale\":[[0.0,\"#0d0887\"],[0.1111111111111111,\"#46039f\"],[0.2222222222222222,\"#7201a8\"],[0.3333333333333333,\"#9c179e\"],[0.4444444444444444,\"#bd3786\"],[0.5555555555555556,\"#d8576b\"],[0.6666666666666666,\"#ed7953\"],[0.7777777777777778,\"#fb9f3a\"],[0.8888888888888888,\"#fdca26\"],[1.0,\"#f0f921\"]],\"type\":\"histogram2dcontour\"}],\"histogram2d\":[{\"colorbar\":{\"outlinewidth\":0,\"ticks\":\"\"},\"colorscale\":[[0.0,\"#0d0887\"],[0.1111111111111111,\"#46039f\"],[0.2222222222222222,\"#7201a8\"],[0.3333333333333333,\"#9c179e\"],[0.4444444444444444,\"#bd3786\"],[0.5555555555555556,\"#d8576b\"],[0.6666666666666666,\"#ed7953\"],[0.7777777777777778,\"#fb9f3a\"],[0.8888888888888888,\"#fdca26\"],[1.0,\"#f0f921\"]],\"type\":\"histogram2d\"}],\"histogram\":[{\"marker\":{\"pattern\":{\"fillmode\":\"overlay\",\"size\":10,\"solidity\":0.2}},\"type\":\"histogram\"}],\"mesh3d\":[{\"colorbar\":{\"outlinewidth\":0,\"ticks\":\"\"},\"type\":\"mesh3d\"}],\"parcoords\":[{\"line\":{\"colorbar\":{\"outlinewidth\":0,\"ticks\":\"\"}},\"type\":\"parcoords\"}],\"pie\":[{\"automargin\":true,\"type\":\"pie\"}],\"scatter3d\":[{\"line\":{\"colorbar\":{\"outlinewidth\":0,\"ticks\":\"\"}},\"marker\":{\"colorbar\":{\"outlinewidth\":0,\"ticks\":\"\"}},\"type\":\"scatter3d\"}],\"scattercarpet\":[{\"marker\":{\"colorbar\":{\"outlinewidth\":0,\"ticks\":\"\"}},\"type\":\"scattercarpet\"}],\"scattergeo\":[{\"marker\":{\"colorbar\":{\"outlinewidth\":0,\"ticks\":\"\"}},\"type\":\"scattergeo\"}],\"scattergl\":[{\"marker\":{\"colorbar\":{\"outlinewidth\":0,\"ticks\":\"\"}},\"type\":\"scattergl\"}],\"scattermapbox\":[{\"marker\":{\"colorbar\":{\"outlinewidth\":0,\"ticks\":\"\"}},\"type\":\"scattermapbox\"}],\"scatterpolargl\":[{\"marker\":{\"colorbar\":{\"outlinewidth\":0,\"ticks\":\"\"}},\"type\":\"scatterpolargl\"}],\"scatterpolar\":[{\"marker\":{\"colorbar\":{\"outlinewidth\":0,\"ticks\":\"\"}},\"type\":\"scatterpolar\"}],\"scatter\":[{\"fillpattern\":{\"fillmode\":\"overlay\",\"size\":10,\"solidity\":0.2},\"type\":\"scatter\"}],\"scatterternary\":[{\"marker\":{\"colorbar\":{\"outlinewidth\":0,\"ticks\":\"\"}},\"type\":\"scatterternary\"}],\"surface\":[{\"colorbar\":{\"outlinewidth\":0,\"ticks\":\"\"},\"colorscale\":[[0.0,\"#0d0887\"],[0.1111111111111111,\"#46039f\"],[0.2222222222222222,\"#7201a8\"],[0.3333333333333333,\"#9c179e\"],[0.4444444444444444,\"#bd3786\"],[0.5555555555555556,\"#d8576b\"],[0.6666666666666666,\"#ed7953\"],[0.7777777777777778,\"#fb9f3a\"],[0.8888888888888888,\"#fdca26\"],[1.0,\"#f0f921\"]],\"type\":\"surface\"}],\"table\":[{\"cells\":{\"fill\":{\"color\":\"#EBF0F8\"},\"line\":{\"color\":\"white\"}},\"header\":{\"fill\":{\"color\":\"#C8D4E3\"},\"line\":{\"color\":\"white\"}},\"type\":\"table\"}]},\"layout\":{\"annotationdefaults\":{\"arrowcolor\":\"#2a3f5f\",\"arrowhead\":0,\"arrowwidth\":1},\"autotypenumbers\":\"strict\",\"coloraxis\":{\"colorbar\":{\"outlinewidth\":0,\"ticks\":\"\"}},\"colorscale\":{\"diverging\":[[0,\"#8e0152\"],[0.1,\"#c51b7d\"],[0.2,\"#de77ae\"],[0.3,\"#f1b6da\"],[0.4,\"#fde0ef\"],[0.5,\"#f7f7f7\"],[0.6,\"#e6f5d0\"],[0.7,\"#b8e186\"],[0.8,\"#7fbc41\"],[0.9,\"#4d9221\"],[1,\"#276419\"]],\"sequential\":[[0.0,\"#0d0887\"],[0.1111111111111111,\"#46039f\"],[0.2222222222222222,\"#7201a8\"],[0.3333333333333333,\"#9c179e\"],[0.4444444444444444,\"#bd3786\"],[0.5555555555555556,\"#d8576b\"],[0.6666666666666666,\"#ed7953\"],[0.7777777777777778,\"#fb9f3a\"],[0.8888888888888888,\"#fdca26\"],[1.0,\"#f0f921\"]],\"sequentialminus\":[[0.0,\"#0d0887\"],[0.1111111111111111,\"#46039f\"],[0.2222222222222222,\"#7201a8\"],[0.3333333333333333,\"#9c179e\"],[0.4444444444444444,\"#bd3786\"],[0.5555555555555556,\"#d8576b\"],[0.6666666666666666,\"#ed7953\"],[0.7777777777777778,\"#fb9f3a\"],[0.8888888888888888,\"#fdca26\"],[1.0,\"#f0f921\"]]},\"colorway\":[\"#636efa\",\"#EF553B\",\"#00cc96\",\"#ab63fa\",\"#FFA15A\",\"#19d3f3\",\"#FF6692\",\"#B6E880\",\"#FF97FF\",\"#FECB52\"],\"font\":{\"color\":\"#2a3f5f\"},\"geo\":{\"bgcolor\":\"white\",\"lakecolor\":\"white\",\"landcolor\":\"#E5ECF6\",\"showlakes\":true,\"showland\":true,\"subunitcolor\":\"white\"},\"hoverlabel\":{\"align\":\"left\"},\"hovermode\":\"closest\",\"mapbox\":{\"style\":\"light\"},\"paper_bgcolor\":\"white\",\"plot_bgcolor\":\"#E5ECF6\",\"polar\":{\"angularaxis\":{\"gridcolor\":\"white\",\"linecolor\":\"white\",\"ticks\":\"\"},\"bgcolor\":\"#E5ECF6\",\"radialaxis\":{\"gridcolor\":\"white\",\"linecolor\":\"white\",\"ticks\":\"\"}},\"scene\":{\"xaxis\":{\"backgroundcolor\":\"#E5ECF6\",\"gridcolor\":\"white\",\"gridwidth\":2,\"linecolor\":\"white\",\"showbackground\":true,\"ticks\":\"\",\"zerolinecolor\":\"white\"},\"yaxis\":{\"backgroundcolor\":\"#E5ECF6\",\"gridcolor\":\"white\",\"gridwidth\":2,\"linecolor\":\"white\",\"showbackground\":true,\"ticks\":\"\",\"zerolinecolor\":\"white\"},\"zaxis\":{\"backgroundcolor\":\"#E5ECF6\",\"gridcolor\":\"white\",\"gridwidth\":2,\"linecolor\":\"white\",\"showbackground\":true,\"ticks\":\"\",\"zerolinecolor\":\"white\"}},\"shapedefaults\":{\"line\":{\"color\":\"#2a3f5f\"}},\"ternary\":{\"aaxis\":{\"gridcolor\":\"white\",\"linecolor\":\"white\",\"ticks\":\"\"},\"baxis\":{\"gridcolor\":\"white\",\"linecolor\":\"white\",\"ticks\":\"\"},\"bgcolor\":\"#E5ECF6\",\"caxis\":{\"gridcolor\":\"white\",\"linecolor\":\"white\",\"ticks\":\"\"}},\"title\":{\"x\":0.05},\"xaxis\":{\"automargin\":true,\"gridcolor\":\"white\",\"linecolor\":\"white\",\"ticks\":\"\",\"title\":{\"standoff\":15},\"zerolinecolor\":\"white\",\"zerolinewidth\":2},\"yaxis\":{\"automargin\":true,\"gridcolor\":\"white\",\"linecolor\":\"white\",\"ticks\":\"\",\"title\":{\"standoff\":15},\"zerolinecolor\":\"white\",\"zerolinewidth\":2}}},\"title\":{\"font\":{\"color\":\"#4D5663\"}},\"xaxis\":{\"gridcolor\":\"#E1E5ED\",\"showgrid\":true,\"tickfont\":{\"color\":\"#4D5663\"},\"title\":{\"font\":{\"color\":\"#4D5663\"},\"text\":\"\"},\"zerolinecolor\":\"#E1E5ED\"},\"yaxis\":{\"gridcolor\":\"#E1E5ED\",\"showgrid\":true,\"tickfont\":{\"color\":\"#4D5663\"},\"title\":{\"font\":{\"color\":\"#4D5663\"},\"text\":\"\"},\"zerolinecolor\":\"#E1E5ED\"}},                        {\"showLink\": true, \"linkText\": \"Export to plot.ly\", \"plotlyServerURL\": \"https://plot.ly\", \"responsive\": true}                    ).then(function(){\n",
       "                            \n",
       "var gd = document.getElementById('d02396b4-4508-433e-86f8-cf8202dac369');\n",
       "var x = new MutationObserver(function (mutations, observer) {{\n",
       "        var display = window.getComputedStyle(gd).display;\n",
       "        if (!display || display === 'none') {{\n",
       "            console.log([gd, 'removed!']);\n",
       "            Plotly.purge(gd);\n",
       "            observer.disconnect();\n",
       "        }}\n",
       "}});\n",
       "\n",
       "// Listen for the removal of the full notebook cells\n",
       "var notebookContainer = gd.closest('#notebook-container');\n",
       "if (notebookContainer) {{\n",
       "    x.observe(notebookContainer, {childList: true});\n",
       "}}\n",
       "\n",
       "// Listen for the clearing of the current output cell\n",
       "var outputEl = gd.closest('.output');\n",
       "if (outputEl) {{\n",
       "    x.observe(outputEl, {childList: true});\n",
       "}}\n",
       "\n",
       "                        })                };                });            </script>        </div>"
      ]
     },
     "metadata": {},
     "output_type": "display_data"
    }
   ],
   "source": [
    "# use aggregate functions\n",
    "df.count().iplot(kind='bar')"
   ]
  },
  {
   "cell_type": "code",
   "execution_count": 38,
   "metadata": {},
   "outputs": [
    {
     "data": {
      "application/vnd.plotly.v1+json": {
       "config": {
        "linkText": "Export to plot.ly",
        "plotlyServerURL": "https://plot.ly",
        "showLink": true
       },
       "data": [
        {
         "marker": {
          "color": "rgba(255, 153, 51, 0.6)",
          "line": {
           "color": "rgba(255, 153, 51, 1.0)",
           "width": 1
          }
         },
         "name": "None",
         "orientation": "v",
         "text": "",
         "type": "bar",
         "x": [
          "A",
          "B",
          "C",
          "D"
         ],
         "y": [
          0.5935791251068296,
          -5.0393366604477565,
          0.07605391992506096,
          9.477097596482873
         ]
        }
       ],
       "layout": {
        "legend": {
         "bgcolor": "#F5F6F9",
         "font": {
          "color": "#4D5663"
         }
        },
        "paper_bgcolor": "#F5F6F9",
        "plot_bgcolor": "#F5F6F9",
        "template": {
         "data": {
          "bar": [
           {
            "error_x": {
             "color": "#2a3f5f"
            },
            "error_y": {
             "color": "#2a3f5f"
            },
            "marker": {
             "line": {
              "color": "#E5ECF6",
              "width": 0.5
             },
             "pattern": {
              "fillmode": "overlay",
              "size": 10,
              "solidity": 0.2
             }
            },
            "type": "bar"
           }
          ],
          "barpolar": [
           {
            "marker": {
             "line": {
              "color": "#E5ECF6",
              "width": 0.5
             },
             "pattern": {
              "fillmode": "overlay",
              "size": 10,
              "solidity": 0.2
             }
            },
            "type": "barpolar"
           }
          ],
          "carpet": [
           {
            "aaxis": {
             "endlinecolor": "#2a3f5f",
             "gridcolor": "white",
             "linecolor": "white",
             "minorgridcolor": "white",
             "startlinecolor": "#2a3f5f"
            },
            "baxis": {
             "endlinecolor": "#2a3f5f",
             "gridcolor": "white",
             "linecolor": "white",
             "minorgridcolor": "white",
             "startlinecolor": "#2a3f5f"
            },
            "type": "carpet"
           }
          ],
          "choropleth": [
           {
            "colorbar": {
             "outlinewidth": 0,
             "ticks": ""
            },
            "type": "choropleth"
           }
          ],
          "contour": [
           {
            "colorbar": {
             "outlinewidth": 0,
             "ticks": ""
            },
            "colorscale": [
             [
              0,
              "#0d0887"
             ],
             [
              0.1111111111111111,
              "#46039f"
             ],
             [
              0.2222222222222222,
              "#7201a8"
             ],
             [
              0.3333333333333333,
              "#9c179e"
             ],
             [
              0.4444444444444444,
              "#bd3786"
             ],
             [
              0.5555555555555556,
              "#d8576b"
             ],
             [
              0.6666666666666666,
              "#ed7953"
             ],
             [
              0.7777777777777778,
              "#fb9f3a"
             ],
             [
              0.8888888888888888,
              "#fdca26"
             ],
             [
              1,
              "#f0f921"
             ]
            ],
            "type": "contour"
           }
          ],
          "contourcarpet": [
           {
            "colorbar": {
             "outlinewidth": 0,
             "ticks": ""
            },
            "type": "contourcarpet"
           }
          ],
          "heatmap": [
           {
            "colorbar": {
             "outlinewidth": 0,
             "ticks": ""
            },
            "colorscale": [
             [
              0,
              "#0d0887"
             ],
             [
              0.1111111111111111,
              "#46039f"
             ],
             [
              0.2222222222222222,
              "#7201a8"
             ],
             [
              0.3333333333333333,
              "#9c179e"
             ],
             [
              0.4444444444444444,
              "#bd3786"
             ],
             [
              0.5555555555555556,
              "#d8576b"
             ],
             [
              0.6666666666666666,
              "#ed7953"
             ],
             [
              0.7777777777777778,
              "#fb9f3a"
             ],
             [
              0.8888888888888888,
              "#fdca26"
             ],
             [
              1,
              "#f0f921"
             ]
            ],
            "type": "heatmap"
           }
          ],
          "heatmapgl": [
           {
            "colorbar": {
             "outlinewidth": 0,
             "ticks": ""
            },
            "colorscale": [
             [
              0,
              "#0d0887"
             ],
             [
              0.1111111111111111,
              "#46039f"
             ],
             [
              0.2222222222222222,
              "#7201a8"
             ],
             [
              0.3333333333333333,
              "#9c179e"
             ],
             [
              0.4444444444444444,
              "#bd3786"
             ],
             [
              0.5555555555555556,
              "#d8576b"
             ],
             [
              0.6666666666666666,
              "#ed7953"
             ],
             [
              0.7777777777777778,
              "#fb9f3a"
             ],
             [
              0.8888888888888888,
              "#fdca26"
             ],
             [
              1,
              "#f0f921"
             ]
            ],
            "type": "heatmapgl"
           }
          ],
          "histogram": [
           {
            "marker": {
             "pattern": {
              "fillmode": "overlay",
              "size": 10,
              "solidity": 0.2
             }
            },
            "type": "histogram"
           }
          ],
          "histogram2d": [
           {
            "colorbar": {
             "outlinewidth": 0,
             "ticks": ""
            },
            "colorscale": [
             [
              0,
              "#0d0887"
             ],
             [
              0.1111111111111111,
              "#46039f"
             ],
             [
              0.2222222222222222,
              "#7201a8"
             ],
             [
              0.3333333333333333,
              "#9c179e"
             ],
             [
              0.4444444444444444,
              "#bd3786"
             ],
             [
              0.5555555555555556,
              "#d8576b"
             ],
             [
              0.6666666666666666,
              "#ed7953"
             ],
             [
              0.7777777777777778,
              "#fb9f3a"
             ],
             [
              0.8888888888888888,
              "#fdca26"
             ],
             [
              1,
              "#f0f921"
             ]
            ],
            "type": "histogram2d"
           }
          ],
          "histogram2dcontour": [
           {
            "colorbar": {
             "outlinewidth": 0,
             "ticks": ""
            },
            "colorscale": [
             [
              0,
              "#0d0887"
             ],
             [
              0.1111111111111111,
              "#46039f"
             ],
             [
              0.2222222222222222,
              "#7201a8"
             ],
             [
              0.3333333333333333,
              "#9c179e"
             ],
             [
              0.4444444444444444,
              "#bd3786"
             ],
             [
              0.5555555555555556,
              "#d8576b"
             ],
             [
              0.6666666666666666,
              "#ed7953"
             ],
             [
              0.7777777777777778,
              "#fb9f3a"
             ],
             [
              0.8888888888888888,
              "#fdca26"
             ],
             [
              1,
              "#f0f921"
             ]
            ],
            "type": "histogram2dcontour"
           }
          ],
          "mesh3d": [
           {
            "colorbar": {
             "outlinewidth": 0,
             "ticks": ""
            },
            "type": "mesh3d"
           }
          ],
          "parcoords": [
           {
            "line": {
             "colorbar": {
              "outlinewidth": 0,
              "ticks": ""
             }
            },
            "type": "parcoords"
           }
          ],
          "pie": [
           {
            "automargin": true,
            "type": "pie"
           }
          ],
          "scatter": [
           {
            "fillpattern": {
             "fillmode": "overlay",
             "size": 10,
             "solidity": 0.2
            },
            "type": "scatter"
           }
          ],
          "scatter3d": [
           {
            "line": {
             "colorbar": {
              "outlinewidth": 0,
              "ticks": ""
             }
            },
            "marker": {
             "colorbar": {
              "outlinewidth": 0,
              "ticks": ""
             }
            },
            "type": "scatter3d"
           }
          ],
          "scattercarpet": [
           {
            "marker": {
             "colorbar": {
              "outlinewidth": 0,
              "ticks": ""
             }
            },
            "type": "scattercarpet"
           }
          ],
          "scattergeo": [
           {
            "marker": {
             "colorbar": {
              "outlinewidth": 0,
              "ticks": ""
             }
            },
            "type": "scattergeo"
           }
          ],
          "scattergl": [
           {
            "marker": {
             "colorbar": {
              "outlinewidth": 0,
              "ticks": ""
             }
            },
            "type": "scattergl"
           }
          ],
          "scattermapbox": [
           {
            "marker": {
             "colorbar": {
              "outlinewidth": 0,
              "ticks": ""
             }
            },
            "type": "scattermapbox"
           }
          ],
          "scatterpolar": [
           {
            "marker": {
             "colorbar": {
              "outlinewidth": 0,
              "ticks": ""
             }
            },
            "type": "scatterpolar"
           }
          ],
          "scatterpolargl": [
           {
            "marker": {
             "colorbar": {
              "outlinewidth": 0,
              "ticks": ""
             }
            },
            "type": "scatterpolargl"
           }
          ],
          "scatterternary": [
           {
            "marker": {
             "colorbar": {
              "outlinewidth": 0,
              "ticks": ""
             }
            },
            "type": "scatterternary"
           }
          ],
          "surface": [
           {
            "colorbar": {
             "outlinewidth": 0,
             "ticks": ""
            },
            "colorscale": [
             [
              0,
              "#0d0887"
             ],
             [
              0.1111111111111111,
              "#46039f"
             ],
             [
              0.2222222222222222,
              "#7201a8"
             ],
             [
              0.3333333333333333,
              "#9c179e"
             ],
             [
              0.4444444444444444,
              "#bd3786"
             ],
             [
              0.5555555555555556,
              "#d8576b"
             ],
             [
              0.6666666666666666,
              "#ed7953"
             ],
             [
              0.7777777777777778,
              "#fb9f3a"
             ],
             [
              0.8888888888888888,
              "#fdca26"
             ],
             [
              1,
              "#f0f921"
             ]
            ],
            "type": "surface"
           }
          ],
          "table": [
           {
            "cells": {
             "fill": {
              "color": "#EBF0F8"
             },
             "line": {
              "color": "white"
             }
            },
            "header": {
             "fill": {
              "color": "#C8D4E3"
             },
             "line": {
              "color": "white"
             }
            },
            "type": "table"
           }
          ]
         },
         "layout": {
          "annotationdefaults": {
           "arrowcolor": "#2a3f5f",
           "arrowhead": 0,
           "arrowwidth": 1
          },
          "autotypenumbers": "strict",
          "coloraxis": {
           "colorbar": {
            "outlinewidth": 0,
            "ticks": ""
           }
          },
          "colorscale": {
           "diverging": [
            [
             0,
             "#8e0152"
            ],
            [
             0.1,
             "#c51b7d"
            ],
            [
             0.2,
             "#de77ae"
            ],
            [
             0.3,
             "#f1b6da"
            ],
            [
             0.4,
             "#fde0ef"
            ],
            [
             0.5,
             "#f7f7f7"
            ],
            [
             0.6,
             "#e6f5d0"
            ],
            [
             0.7,
             "#b8e186"
            ],
            [
             0.8,
             "#7fbc41"
            ],
            [
             0.9,
             "#4d9221"
            ],
            [
             1,
             "#276419"
            ]
           ],
           "sequential": [
            [
             0,
             "#0d0887"
            ],
            [
             0.1111111111111111,
             "#46039f"
            ],
            [
             0.2222222222222222,
             "#7201a8"
            ],
            [
             0.3333333333333333,
             "#9c179e"
            ],
            [
             0.4444444444444444,
             "#bd3786"
            ],
            [
             0.5555555555555556,
             "#d8576b"
            ],
            [
             0.6666666666666666,
             "#ed7953"
            ],
            [
             0.7777777777777778,
             "#fb9f3a"
            ],
            [
             0.8888888888888888,
             "#fdca26"
            ],
            [
             1,
             "#f0f921"
            ]
           ],
           "sequentialminus": [
            [
             0,
             "#0d0887"
            ],
            [
             0.1111111111111111,
             "#46039f"
            ],
            [
             0.2222222222222222,
             "#7201a8"
            ],
            [
             0.3333333333333333,
             "#9c179e"
            ],
            [
             0.4444444444444444,
             "#bd3786"
            ],
            [
             0.5555555555555556,
             "#d8576b"
            ],
            [
             0.6666666666666666,
             "#ed7953"
            ],
            [
             0.7777777777777778,
             "#fb9f3a"
            ],
            [
             0.8888888888888888,
             "#fdca26"
            ],
            [
             1,
             "#f0f921"
            ]
           ]
          },
          "colorway": [
           "#636efa",
           "#EF553B",
           "#00cc96",
           "#ab63fa",
           "#FFA15A",
           "#19d3f3",
           "#FF6692",
           "#B6E880",
           "#FF97FF",
           "#FECB52"
          ],
          "font": {
           "color": "#2a3f5f"
          },
          "geo": {
           "bgcolor": "white",
           "lakecolor": "white",
           "landcolor": "#E5ECF6",
           "showlakes": true,
           "showland": true,
           "subunitcolor": "white"
          },
          "hoverlabel": {
           "align": "left"
          },
          "hovermode": "closest",
          "mapbox": {
           "style": "light"
          },
          "paper_bgcolor": "white",
          "plot_bgcolor": "#E5ECF6",
          "polar": {
           "angularaxis": {
            "gridcolor": "white",
            "linecolor": "white",
            "ticks": ""
           },
           "bgcolor": "#E5ECF6",
           "radialaxis": {
            "gridcolor": "white",
            "linecolor": "white",
            "ticks": ""
           }
          },
          "scene": {
           "xaxis": {
            "backgroundcolor": "#E5ECF6",
            "gridcolor": "white",
            "gridwidth": 2,
            "linecolor": "white",
            "showbackground": true,
            "ticks": "",
            "zerolinecolor": "white"
           },
           "yaxis": {
            "backgroundcolor": "#E5ECF6",
            "gridcolor": "white",
            "gridwidth": 2,
            "linecolor": "white",
            "showbackground": true,
            "ticks": "",
            "zerolinecolor": "white"
           },
           "zaxis": {
            "backgroundcolor": "#E5ECF6",
            "gridcolor": "white",
            "gridwidth": 2,
            "linecolor": "white",
            "showbackground": true,
            "ticks": "",
            "zerolinecolor": "white"
           }
          },
          "shapedefaults": {
           "line": {
            "color": "#2a3f5f"
           }
          },
          "ternary": {
           "aaxis": {
            "gridcolor": "white",
            "linecolor": "white",
            "ticks": ""
           },
           "baxis": {
            "gridcolor": "white",
            "linecolor": "white",
            "ticks": ""
           },
           "bgcolor": "#E5ECF6",
           "caxis": {
            "gridcolor": "white",
            "linecolor": "white",
            "ticks": ""
           }
          },
          "title": {
           "x": 0.05
          },
          "xaxis": {
           "automargin": true,
           "gridcolor": "white",
           "linecolor": "white",
           "ticks": "",
           "title": {
            "standoff": 15
           },
           "zerolinecolor": "white",
           "zerolinewidth": 2
          },
          "yaxis": {
           "automargin": true,
           "gridcolor": "white",
           "linecolor": "white",
           "ticks": "",
           "title": {
            "standoff": 15
           },
           "zerolinecolor": "white",
           "zerolinewidth": 2
          }
         }
        },
        "title": {
         "font": {
          "color": "#4D5663"
         }
        },
        "xaxis": {
         "gridcolor": "#E1E5ED",
         "showgrid": true,
         "tickfont": {
          "color": "#4D5663"
         },
         "title": {
          "font": {
           "color": "#4D5663"
          },
          "text": ""
         },
         "zerolinecolor": "#E1E5ED"
        },
        "yaxis": {
         "gridcolor": "#E1E5ED",
         "showgrid": true,
         "tickfont": {
          "color": "#4D5663"
         },
         "title": {
          "font": {
           "color": "#4D5663"
          },
          "text": ""
         },
         "zerolinecolor": "#E1E5ED"
        }
       }
      },
      "text/html": [
       "<div>                            <div id=\"49d68e26-af50-4f8f-83a5-bb460086fcea\" class=\"plotly-graph-div\" style=\"height:525px; width:100%;\"></div>            <script type=\"text/javascript\">                require([\"plotly\"], function(Plotly) {                    window.PLOTLYENV=window.PLOTLYENV || {};\n",
       "                    window.PLOTLYENV.BASE_URL='https://plot.ly';                                    if (document.getElementById(\"49d68e26-af50-4f8f-83a5-bb460086fcea\")) {                    Plotly.newPlot(                        \"49d68e26-af50-4f8f-83a5-bb460086fcea\",                        [{\"marker\":{\"color\":\"rgba(255, 153, 51, 0.6)\",\"line\":{\"color\":\"rgba(255, 153, 51, 1.0)\",\"width\":1}},\"name\":\"None\",\"orientation\":\"v\",\"text\":\"\",\"x\":[\"A\",\"B\",\"C\",\"D\"],\"y\":[0.5935791251068296,-5.0393366604477565,0.07605391992506096,9.477097596482873],\"type\":\"bar\"}],                        {\"legend\":{\"bgcolor\":\"#F5F6F9\",\"font\":{\"color\":\"#4D5663\"}},\"paper_bgcolor\":\"#F5F6F9\",\"plot_bgcolor\":\"#F5F6F9\",\"template\":{\"data\":{\"barpolar\":[{\"marker\":{\"line\":{\"color\":\"#E5ECF6\",\"width\":0.5},\"pattern\":{\"fillmode\":\"overlay\",\"size\":10,\"solidity\":0.2}},\"type\":\"barpolar\"}],\"bar\":[{\"error_x\":{\"color\":\"#2a3f5f\"},\"error_y\":{\"color\":\"#2a3f5f\"},\"marker\":{\"line\":{\"color\":\"#E5ECF6\",\"width\":0.5},\"pattern\":{\"fillmode\":\"overlay\",\"size\":10,\"solidity\":0.2}},\"type\":\"bar\"}],\"carpet\":[{\"aaxis\":{\"endlinecolor\":\"#2a3f5f\",\"gridcolor\":\"white\",\"linecolor\":\"white\",\"minorgridcolor\":\"white\",\"startlinecolor\":\"#2a3f5f\"},\"baxis\":{\"endlinecolor\":\"#2a3f5f\",\"gridcolor\":\"white\",\"linecolor\":\"white\",\"minorgridcolor\":\"white\",\"startlinecolor\":\"#2a3f5f\"},\"type\":\"carpet\"}],\"choropleth\":[{\"colorbar\":{\"outlinewidth\":0,\"ticks\":\"\"},\"type\":\"choropleth\"}],\"contourcarpet\":[{\"colorbar\":{\"outlinewidth\":0,\"ticks\":\"\"},\"type\":\"contourcarpet\"}],\"contour\":[{\"colorbar\":{\"outlinewidth\":0,\"ticks\":\"\"},\"colorscale\":[[0.0,\"#0d0887\"],[0.1111111111111111,\"#46039f\"],[0.2222222222222222,\"#7201a8\"],[0.3333333333333333,\"#9c179e\"],[0.4444444444444444,\"#bd3786\"],[0.5555555555555556,\"#d8576b\"],[0.6666666666666666,\"#ed7953\"],[0.7777777777777778,\"#fb9f3a\"],[0.8888888888888888,\"#fdca26\"],[1.0,\"#f0f921\"]],\"type\":\"contour\"}],\"heatmapgl\":[{\"colorbar\":{\"outlinewidth\":0,\"ticks\":\"\"},\"colorscale\":[[0.0,\"#0d0887\"],[0.1111111111111111,\"#46039f\"],[0.2222222222222222,\"#7201a8\"],[0.3333333333333333,\"#9c179e\"],[0.4444444444444444,\"#bd3786\"],[0.5555555555555556,\"#d8576b\"],[0.6666666666666666,\"#ed7953\"],[0.7777777777777778,\"#fb9f3a\"],[0.8888888888888888,\"#fdca26\"],[1.0,\"#f0f921\"]],\"type\":\"heatmapgl\"}],\"heatmap\":[{\"colorbar\":{\"outlinewidth\":0,\"ticks\":\"\"},\"colorscale\":[[0.0,\"#0d0887\"],[0.1111111111111111,\"#46039f\"],[0.2222222222222222,\"#7201a8\"],[0.3333333333333333,\"#9c179e\"],[0.4444444444444444,\"#bd3786\"],[0.5555555555555556,\"#d8576b\"],[0.6666666666666666,\"#ed7953\"],[0.7777777777777778,\"#fb9f3a\"],[0.8888888888888888,\"#fdca26\"],[1.0,\"#f0f921\"]],\"type\":\"heatmap\"}],\"histogram2dcontour\":[{\"colorbar\":{\"outlinewidth\":0,\"ticks\":\"\"},\"colorscale\":[[0.0,\"#0d0887\"],[0.1111111111111111,\"#46039f\"],[0.2222222222222222,\"#7201a8\"],[0.3333333333333333,\"#9c179e\"],[0.4444444444444444,\"#bd3786\"],[0.5555555555555556,\"#d8576b\"],[0.6666666666666666,\"#ed7953\"],[0.7777777777777778,\"#fb9f3a\"],[0.8888888888888888,\"#fdca26\"],[1.0,\"#f0f921\"]],\"type\":\"histogram2dcontour\"}],\"histogram2d\":[{\"colorbar\":{\"outlinewidth\":0,\"ticks\":\"\"},\"colorscale\":[[0.0,\"#0d0887\"],[0.1111111111111111,\"#46039f\"],[0.2222222222222222,\"#7201a8\"],[0.3333333333333333,\"#9c179e\"],[0.4444444444444444,\"#bd3786\"],[0.5555555555555556,\"#d8576b\"],[0.6666666666666666,\"#ed7953\"],[0.7777777777777778,\"#fb9f3a\"],[0.8888888888888888,\"#fdca26\"],[1.0,\"#f0f921\"]],\"type\":\"histogram2d\"}],\"histogram\":[{\"marker\":{\"pattern\":{\"fillmode\":\"overlay\",\"size\":10,\"solidity\":0.2}},\"type\":\"histogram\"}],\"mesh3d\":[{\"colorbar\":{\"outlinewidth\":0,\"ticks\":\"\"},\"type\":\"mesh3d\"}],\"parcoords\":[{\"line\":{\"colorbar\":{\"outlinewidth\":0,\"ticks\":\"\"}},\"type\":\"parcoords\"}],\"pie\":[{\"automargin\":true,\"type\":\"pie\"}],\"scatter3d\":[{\"line\":{\"colorbar\":{\"outlinewidth\":0,\"ticks\":\"\"}},\"marker\":{\"colorbar\":{\"outlinewidth\":0,\"ticks\":\"\"}},\"type\":\"scatter3d\"}],\"scattercarpet\":[{\"marker\":{\"colorbar\":{\"outlinewidth\":0,\"ticks\":\"\"}},\"type\":\"scattercarpet\"}],\"scattergeo\":[{\"marker\":{\"colorbar\":{\"outlinewidth\":0,\"ticks\":\"\"}},\"type\":\"scattergeo\"}],\"scattergl\":[{\"marker\":{\"colorbar\":{\"outlinewidth\":0,\"ticks\":\"\"}},\"type\":\"scattergl\"}],\"scattermapbox\":[{\"marker\":{\"colorbar\":{\"outlinewidth\":0,\"ticks\":\"\"}},\"type\":\"scattermapbox\"}],\"scatterpolargl\":[{\"marker\":{\"colorbar\":{\"outlinewidth\":0,\"ticks\":\"\"}},\"type\":\"scatterpolargl\"}],\"scatterpolar\":[{\"marker\":{\"colorbar\":{\"outlinewidth\":0,\"ticks\":\"\"}},\"type\":\"scatterpolar\"}],\"scatter\":[{\"fillpattern\":{\"fillmode\":\"overlay\",\"size\":10,\"solidity\":0.2},\"type\":\"scatter\"}],\"scatterternary\":[{\"marker\":{\"colorbar\":{\"outlinewidth\":0,\"ticks\":\"\"}},\"type\":\"scatterternary\"}],\"surface\":[{\"colorbar\":{\"outlinewidth\":0,\"ticks\":\"\"},\"colorscale\":[[0.0,\"#0d0887\"],[0.1111111111111111,\"#46039f\"],[0.2222222222222222,\"#7201a8\"],[0.3333333333333333,\"#9c179e\"],[0.4444444444444444,\"#bd3786\"],[0.5555555555555556,\"#d8576b\"],[0.6666666666666666,\"#ed7953\"],[0.7777777777777778,\"#fb9f3a\"],[0.8888888888888888,\"#fdca26\"],[1.0,\"#f0f921\"]],\"type\":\"surface\"}],\"table\":[{\"cells\":{\"fill\":{\"color\":\"#EBF0F8\"},\"line\":{\"color\":\"white\"}},\"header\":{\"fill\":{\"color\":\"#C8D4E3\"},\"line\":{\"color\":\"white\"}},\"type\":\"table\"}]},\"layout\":{\"annotationdefaults\":{\"arrowcolor\":\"#2a3f5f\",\"arrowhead\":0,\"arrowwidth\":1},\"autotypenumbers\":\"strict\",\"coloraxis\":{\"colorbar\":{\"outlinewidth\":0,\"ticks\":\"\"}},\"colorscale\":{\"diverging\":[[0,\"#8e0152\"],[0.1,\"#c51b7d\"],[0.2,\"#de77ae\"],[0.3,\"#f1b6da\"],[0.4,\"#fde0ef\"],[0.5,\"#f7f7f7\"],[0.6,\"#e6f5d0\"],[0.7,\"#b8e186\"],[0.8,\"#7fbc41\"],[0.9,\"#4d9221\"],[1,\"#276419\"]],\"sequential\":[[0.0,\"#0d0887\"],[0.1111111111111111,\"#46039f\"],[0.2222222222222222,\"#7201a8\"],[0.3333333333333333,\"#9c179e\"],[0.4444444444444444,\"#bd3786\"],[0.5555555555555556,\"#d8576b\"],[0.6666666666666666,\"#ed7953\"],[0.7777777777777778,\"#fb9f3a\"],[0.8888888888888888,\"#fdca26\"],[1.0,\"#f0f921\"]],\"sequentialminus\":[[0.0,\"#0d0887\"],[0.1111111111111111,\"#46039f\"],[0.2222222222222222,\"#7201a8\"],[0.3333333333333333,\"#9c179e\"],[0.4444444444444444,\"#bd3786\"],[0.5555555555555556,\"#d8576b\"],[0.6666666666666666,\"#ed7953\"],[0.7777777777777778,\"#fb9f3a\"],[0.8888888888888888,\"#fdca26\"],[1.0,\"#f0f921\"]]},\"colorway\":[\"#636efa\",\"#EF553B\",\"#00cc96\",\"#ab63fa\",\"#FFA15A\",\"#19d3f3\",\"#FF6692\",\"#B6E880\",\"#FF97FF\",\"#FECB52\"],\"font\":{\"color\":\"#2a3f5f\"},\"geo\":{\"bgcolor\":\"white\",\"lakecolor\":\"white\",\"landcolor\":\"#E5ECF6\",\"showlakes\":true,\"showland\":true,\"subunitcolor\":\"white\"},\"hoverlabel\":{\"align\":\"left\"},\"hovermode\":\"closest\",\"mapbox\":{\"style\":\"light\"},\"paper_bgcolor\":\"white\",\"plot_bgcolor\":\"#E5ECF6\",\"polar\":{\"angularaxis\":{\"gridcolor\":\"white\",\"linecolor\":\"white\",\"ticks\":\"\"},\"bgcolor\":\"#E5ECF6\",\"radialaxis\":{\"gridcolor\":\"white\",\"linecolor\":\"white\",\"ticks\":\"\"}},\"scene\":{\"xaxis\":{\"backgroundcolor\":\"#E5ECF6\",\"gridcolor\":\"white\",\"gridwidth\":2,\"linecolor\":\"white\",\"showbackground\":true,\"ticks\":\"\",\"zerolinecolor\":\"white\"},\"yaxis\":{\"backgroundcolor\":\"#E5ECF6\",\"gridcolor\":\"white\",\"gridwidth\":2,\"linecolor\":\"white\",\"showbackground\":true,\"ticks\":\"\",\"zerolinecolor\":\"white\"},\"zaxis\":{\"backgroundcolor\":\"#E5ECF6\",\"gridcolor\":\"white\",\"gridwidth\":2,\"linecolor\":\"white\",\"showbackground\":true,\"ticks\":\"\",\"zerolinecolor\":\"white\"}},\"shapedefaults\":{\"line\":{\"color\":\"#2a3f5f\"}},\"ternary\":{\"aaxis\":{\"gridcolor\":\"white\",\"linecolor\":\"white\",\"ticks\":\"\"},\"baxis\":{\"gridcolor\":\"white\",\"linecolor\":\"white\",\"ticks\":\"\"},\"bgcolor\":\"#E5ECF6\",\"caxis\":{\"gridcolor\":\"white\",\"linecolor\":\"white\",\"ticks\":\"\"}},\"title\":{\"x\":0.05},\"xaxis\":{\"automargin\":true,\"gridcolor\":\"white\",\"linecolor\":\"white\",\"ticks\":\"\",\"title\":{\"standoff\":15},\"zerolinecolor\":\"white\",\"zerolinewidth\":2},\"yaxis\":{\"automargin\":true,\"gridcolor\":\"white\",\"linecolor\":\"white\",\"ticks\":\"\",\"title\":{\"standoff\":15},\"zerolinecolor\":\"white\",\"zerolinewidth\":2}}},\"title\":{\"font\":{\"color\":\"#4D5663\"}},\"xaxis\":{\"gridcolor\":\"#E1E5ED\",\"showgrid\":true,\"tickfont\":{\"color\":\"#4D5663\"},\"title\":{\"font\":{\"color\":\"#4D5663\"},\"text\":\"\"},\"zerolinecolor\":\"#E1E5ED\"},\"yaxis\":{\"gridcolor\":\"#E1E5ED\",\"showgrid\":true,\"tickfont\":{\"color\":\"#4D5663\"},\"title\":{\"font\":{\"color\":\"#4D5663\"},\"text\":\"\"},\"zerolinecolor\":\"#E1E5ED\"}},                        {\"showLink\": true, \"linkText\": \"Export to plot.ly\", \"plotlyServerURL\": \"https://plot.ly\", \"responsive\": true}                    ).then(function(){\n",
       "                            \n",
       "var gd = document.getElementById('49d68e26-af50-4f8f-83a5-bb460086fcea');\n",
       "var x = new MutationObserver(function (mutations, observer) {{\n",
       "        var display = window.getComputedStyle(gd).display;\n",
       "        if (!display || display === 'none') {{\n",
       "            console.log([gd, 'removed!']);\n",
       "            Plotly.purge(gd);\n",
       "            observer.disconnect();\n",
       "        }}\n",
       "}});\n",
       "\n",
       "// Listen for the removal of the full notebook cells\n",
       "var notebookContainer = gd.closest('#notebook-container');\n",
       "if (notebookContainer) {{\n",
       "    x.observe(notebookContainer, {childList: true});\n",
       "}}\n",
       "\n",
       "// Listen for the clearing of the current output cell\n",
       "var outputEl = gd.closest('.output');\n",
       "if (outputEl) {{\n",
       "    x.observe(outputEl, {childList: true});\n",
       "}}\n",
       "\n",
       "                        })                };                });            </script>        </div>"
      ]
     },
     "metadata": {},
     "output_type": "display_data"
    }
   ],
   "source": [
    "df.sum().iplot(kind='bar')"
   ]
  },
  {
   "cell_type": "code",
   "execution_count": 39,
   "metadata": {},
   "outputs": [
    {
     "data": {
      "application/vnd.plotly.v1+json": {
       "config": {
        "linkText": "Export to plot.ly",
        "plotlyServerURL": "https://plot.ly",
        "showLink": true
       },
       "data": [
        {
         "boxpoints": false,
         "line": {
          "width": 1.3
         },
         "marker": {
          "color": "rgba(255, 153, 51, 1.0)"
         },
         "name": "A",
         "orientation": "v",
         "type": "box",
         "y": [
          -0.013575241110450833,
          0.2014623469983288,
          -0.0899174937991628,
          0.14630244753708072,
          -1.4024321759431153,
          0.9439764762749664,
          -0.06382546259278613,
          0.9982777327924083,
          -0.4738871296179397,
          -1.7479270508567541,
          1.2896284502503772,
          -0.04094150702985916,
          1.1814727250692378,
          -0.04157675514734971,
          -1.6784201398008336,
          0.47505030888120736,
          0.7132508636230379,
          -0.24799219632184952,
          0.498384065116775,
          -0.7430537436978263,
          -0.5943008339808885,
          -0.33906026487962165,
          1.4230113577354255,
          -1.1356125023659205,
          -0.7194920556774836,
          0.40350687564521937,
          0.09680216062296426,
          1.4865354363232182,
          1.2837062691204009,
          -1.0449294104369733,
          -0.6046026297845802,
          1.035080585844793,
          -0.4781821091586237,
          0.5065245619851478,
          -0.054456558223678724,
          -0.2900838094108421,
          1.2672416269601274,
          1.5008075582806726,
          -1.194091196522751,
          0.2698019492376579,
          -1.3824745155019331,
          -0.6850572186353427,
          -0.19631292310626414,
          -1.7805521599361438,
          0.3631036285353618,
          0.6483575919989167,
          -0.8944577060934934,
          -0.45196364550134455,
          1.1847861292974133,
          -1.8807707543177625,
          -1.2730083730328554,
          -0.985849891541202,
          1.515677949465927,
          2.0874223263641296,
          0.2095676374486414,
          -1.8683151904123785,
          -0.6105186098607324,
          -1.5130203096464259,
          -0.0003192758589660021,
          -0.2349119693895656,
          2.1403613710248126,
          0.5017449877885893,
          -0.8644251613155253,
          -0.18257031359149076,
          0.4680037222306966,
          1.0298039480230532,
          1.6891500537933402,
          -1.6723929936831465,
          -1.5452705113745921,
          1.7062784160701598,
          -0.9945442447534536,
          -0.7774222561957261,
          -0.340371918308804,
          0.4775565849235679,
          -0.1464000856716878,
          -0.6662999728881014,
          -0.346476421279362,
          1.1186333582116288,
          1.7342334819205307,
          -0.15328405276518267,
          1.3265505703328604,
          0.2757959579792867,
          0.7440128032532201,
          0.5657951535956439,
          -1.2062365572122227,
          -1.146436230453736,
          -1.196647336791392,
          0.4486528374273348,
          0.8709122796607749,
          1.6626797853566428,
          1.291632918517345,
          -0.4326167764627019,
          0.010208309112078297,
          -0.4199867337686686,
          -2.454723215844547,
          0.06614779474923367,
          -0.2915800212075181,
          2.1053698664072478,
          -0.3762600092064639,
          0.6001534852873674
         ]
        },
        {
         "boxpoints": false,
         "line": {
          "width": 1.3
         },
         "marker": {
          "color": "rgba(55, 128, 191, 1.0)"
         },
         "name": "B",
         "orientation": "v",
         "type": "box",
         "y": [
          -0.4998086521162006,
          0.8638138888466803,
          0.7388639050818845,
          -2.5351516106839127,
          -0.6241965970069808,
          1.5863209972469399,
          -1.0272668926051103,
          0.5002535232220292,
          -0.5200660025824956,
          1.3047727610507056,
          -0.08212568013725245,
          -1.0235664200651708,
          -0.6235439639220131,
          -0.5117151989397963,
          -1.3452522320083882,
          0.07491224307445563,
          -0.9858627810630309,
          0.48812466598017146,
          -1.5781779944879513,
          0.7523712855310276,
          1.1558049361093523,
          -1.2137704432592629,
          1.5327616425683321,
          0.466351019069615,
          0.10177591740341613,
          1.6724484500498018,
          -0.5864709129917581,
          0.8044521979893766,
          -1.7788829295501853,
          1.8365955689749571,
          1.1633726863223617,
          -1.0242007875588857,
          1.0954568746844986,
          -2.2346848698945556,
          0.39266228174684914,
          0.8404729296808121,
          -0.2442692234613969,
          -1.3538759957921003,
          -1.0071264286913437,
          -0.511299082282564,
          -1.243464143501981,
          1.53226091738115,
          0.3787947928421932,
          0.7937415890066196,
          0.09369302886706242,
          1.3665228041204913,
          -0.07540557834451925,
          1.12960511549684,
          -1.0969114092610217,
          -0.5256619286736163,
          -0.1255995227222061,
          1.1299806924847526,
          1.842176499039704,
          0.9223553718749332,
          0.9624408464070193,
          -1.5949382147241815,
          0.10358617230626112,
          0.629926007568259,
          0.23282104595070716,
          0.34926447605244215,
          0.6210082966455818,
          1.3575286778092086,
          0.15034415981621055,
          -0.8319500033867744,
          -0.23994802321186406,
          -0.9917052396304813,
          -0.2101515420007641,
          -0.4604086451895767,
          -0.4103810500625088,
          -0.19193031808972585,
          -1.618290060509264,
          0.19680333078802792,
          -1.3695862380868853,
          -0.016764656229118585,
          1.491314290176382,
          0.5257097682782415,
          -0.10641544036555185,
          -1.664002357709959,
          0.6116037639332458,
          -0.49482872597775346,
          -0.06595019550852914,
          -0.7228448984081656,
          0.40190328495696986,
          0.7587437246052716,
          -0.25076469773656773,
          0.0903897080544539,
          -0.49465980470031895,
          1.0241171735974268,
          -0.5792698354452798,
          0.5420021881562249,
          0.1396869935373383,
          -0.5245699273060564,
          -0.4550638669849926,
          -2.4864659332530863,
          2.5638197096368796,
          -1.6643846707072714,
          -0.14449922089190276,
          -0.25589607049514157,
          -1.0290835991474259,
          -1.099958347108077
         ]
        },
        {
         "boxpoints": false,
         "line": {
          "width": 1.3
         },
         "marker": {
          "color": "rgba(50, 171, 96, 1.0)"
         },
         "name": "C",
         "orientation": "v",
         "type": "box",
         "y": [
          -0.03897819554267246,
          -0.45237410422813007,
          -0.9148037122545782,
          0.9535472502455863,
          -1.4048943076631102,
          -0.02552396525986394,
          -0.16999014234229043,
          -0.8005195292528466,
          0.489122269331501,
          -0.9738843159490248,
          -0.16020281396152478,
          -0.8295315084912306,
          -1.0710559926834227,
          0.9997766978884247,
          -1.4310237129930352,
          1.3070106872583303,
          0.7313254595552003,
          0.15605963803369327,
          0.2792068851428407,
          -0.28606270041226173,
          0.16570192386801588,
          0.7399897481613859,
          -1.4060667670740261,
          -0.4062331404164582,
          -0.40689761889533727,
          0.4589588634993919,
          1.0892311839862554,
          -0.6626451338834085,
          0.13797262053600742,
          -1.0517178921409511,
          -0.167038781526083,
          -0.4538040326345461,
          1.093561476437651,
          -1.847917830900397,
          -1.812934611548087,
          0.5460453823483944,
          -0.9523449183934559,
          1.3681088221219067,
          -0.4087585732632988,
          -0.4689630871848432,
          0.33113790981162516,
          1.7995374767983916,
          -1.9716431639594623,
          -0.7185553355541259,
          -0.4831753129690847,
          -0.1303610300940544,
          0.5535500317467342,
          1.7397571813169999,
          0.7074500660163463,
          -0.15749934931347762,
          0.5451645569926603,
          0.36244176948027973,
          0.7832399338190531,
          -1.6479214934825983,
          0.6947094604228694,
          -0.026321189640635765,
          0.6298127853299399,
          0.09497079558586638,
          0.5682270338122841,
          -0.32624841707502206,
          -0.14150138830677372,
          -0.5826441247263411,
          -0.37155778050514765,
          0.45433186240226353,
          -1.8486182555766015,
          -0.4272754688339868,
          1.3379923933370492,
          1.1030836835459426,
          0.33123816871353917,
          -0.365209036376047,
          0.44198159795425157,
          1.130722922509479,
          1.4431836867831143,
          -0.059577614635175885,
          0.8068824260031981,
          -1.061563464126283,
          2.3168102767827747,
          -0.1533249969025579,
          0.9323611166718686,
          0.8602968645952596,
          -3.3123992506170787,
          2.2042387607130225,
          0.5363583593827271,
          -0.3282709532102508,
          1.8928049631040889,
          -1.1260015336894462,
          0.6949648736475352,
          0.7222765625402395,
          0.24958033860760995,
          -1.7163837090135452,
          -0.7568130572220154,
          -0.13542338662983835,
          -0.13893830864817305,
          -1.2530513135516494,
          0.3013792980620921,
          0.6312530701902108,
          1.528341343156567,
          -0.11290283541221337,
          -1.2002544991759756,
          -0.012042900182959379
         ]
        },
        {
         "boxpoints": false,
         "line": {
          "width": 1.3
         },
         "marker": {
          "color": "rgba(128, 0, 128, 1.0)"
         },
         "name": "D",
         "orientation": "v",
         "type": "box",
         "y": [
          -0.5370911808766012,
          -2.321571647104632,
          0.5794844976759298,
          2.6696847002422093,
          -0.0628802393351703,
          0.856143428566187,
          2.0621458131416266,
          -0.035648267009385046,
          0.030833795609075402,
          0.3415158116578078,
          -0.3859012363140178,
          0.3609972035587406,
          1.0482829284088313,
          0.06821914391373095,
          -0.7610923046981812,
          0.6125951666149811,
          -1.380189032931467,
          0.4191665325951915,
          1.7739917406385555,
          0.2168226670444201,
          0.7405402700307281,
          -0.42256301034062066,
          0.018111319601031753,
          1.1155892412982806,
          -1.4999055926396876,
          -0.5947774111653107,
          0.018381646786778092,
          0.4044101964543374,
          1.162393959229401,
          1.2635861650539149,
          -1.6585120591216127,
          0.3745359867443123,
          -0.6042965058041246,
          -0.36500191273588045,
          0.07695854943740069,
          -0.4920978112467595,
          0.7815104260905494,
          -0.9342677462715024,
          -1.085311716713249,
          -1.2238414271897249,
          -0.0986622209609241,
          -1.3598393083357998,
          0.4351701843515012,
          -0.605292022362214,
          -1.9990675344070585,
          0.8198496193265,
          -0.7174341412363682,
          -0.467798063088864,
          -0.6395896099981112,
          -0.8137340650012729,
          1.3388149301350298,
          -0.07729452529534941,
          -0.32006894334242303,
          -0.5212376005619955,
          0.34826697009878055,
          0.04322596472394743,
          -0.8751630591683667,
          0.5282407958690774,
          -1.5245554906639394,
          -0.7114075014623907,
          0.6136614058445458,
          -0.6899539400539682,
          1.3383065365015576,
          -0.4687534641720835,
          0.31663129352505415,
          1.6430350068157462,
          -2.6193481946114083,
          -0.584449208207381,
          2.4382321153223065,
          0.7346470725692921,
          -1.4689518757597313,
          0.618524439084242,
          2.305276107304658,
          0.11527745916872338,
          1.0768495073439397,
          1.113330117936661,
          0.5688144051873003,
          1.4269619333427306,
          0.2861659530349212,
          1.6124139653612652,
          0.40249953609561223,
          1.1503513623086212,
          -1.3142430021494809,
          -0.1533860479957921,
          0.7026210178016035,
          -0.25140673295468247,
          0.03108806949108133,
          0.12245461656442247,
          -1.045151787506711,
          0.5103129915132618,
          -1.9976116086927933,
          1.6266100462323916,
          0.13527513123569643,
          -1.0360016372607777,
          1.6998818717986037,
          0.7079484991419566,
          1.4649518107345052,
          0.5280813775901442,
          0.5204694722261566,
          -0.11769449274516725
         ]
        }
       ],
       "layout": {
        "legend": {
         "bgcolor": "#F5F6F9",
         "font": {
          "color": "#4D5663"
         }
        },
        "paper_bgcolor": "#F5F6F9",
        "plot_bgcolor": "#F5F6F9",
        "template": {
         "data": {
          "bar": [
           {
            "error_x": {
             "color": "#2a3f5f"
            },
            "error_y": {
             "color": "#2a3f5f"
            },
            "marker": {
             "line": {
              "color": "#E5ECF6",
              "width": 0.5
             },
             "pattern": {
              "fillmode": "overlay",
              "size": 10,
              "solidity": 0.2
             }
            },
            "type": "bar"
           }
          ],
          "barpolar": [
           {
            "marker": {
             "line": {
              "color": "#E5ECF6",
              "width": 0.5
             },
             "pattern": {
              "fillmode": "overlay",
              "size": 10,
              "solidity": 0.2
             }
            },
            "type": "barpolar"
           }
          ],
          "carpet": [
           {
            "aaxis": {
             "endlinecolor": "#2a3f5f",
             "gridcolor": "white",
             "linecolor": "white",
             "minorgridcolor": "white",
             "startlinecolor": "#2a3f5f"
            },
            "baxis": {
             "endlinecolor": "#2a3f5f",
             "gridcolor": "white",
             "linecolor": "white",
             "minorgridcolor": "white",
             "startlinecolor": "#2a3f5f"
            },
            "type": "carpet"
           }
          ],
          "choropleth": [
           {
            "colorbar": {
             "outlinewidth": 0,
             "ticks": ""
            },
            "type": "choropleth"
           }
          ],
          "contour": [
           {
            "colorbar": {
             "outlinewidth": 0,
             "ticks": ""
            },
            "colorscale": [
             [
              0,
              "#0d0887"
             ],
             [
              0.1111111111111111,
              "#46039f"
             ],
             [
              0.2222222222222222,
              "#7201a8"
             ],
             [
              0.3333333333333333,
              "#9c179e"
             ],
             [
              0.4444444444444444,
              "#bd3786"
             ],
             [
              0.5555555555555556,
              "#d8576b"
             ],
             [
              0.6666666666666666,
              "#ed7953"
             ],
             [
              0.7777777777777778,
              "#fb9f3a"
             ],
             [
              0.8888888888888888,
              "#fdca26"
             ],
             [
              1,
              "#f0f921"
             ]
            ],
            "type": "contour"
           }
          ],
          "contourcarpet": [
           {
            "colorbar": {
             "outlinewidth": 0,
             "ticks": ""
            },
            "type": "contourcarpet"
           }
          ],
          "heatmap": [
           {
            "colorbar": {
             "outlinewidth": 0,
             "ticks": ""
            },
            "colorscale": [
             [
              0,
              "#0d0887"
             ],
             [
              0.1111111111111111,
              "#46039f"
             ],
             [
              0.2222222222222222,
              "#7201a8"
             ],
             [
              0.3333333333333333,
              "#9c179e"
             ],
             [
              0.4444444444444444,
              "#bd3786"
             ],
             [
              0.5555555555555556,
              "#d8576b"
             ],
             [
              0.6666666666666666,
              "#ed7953"
             ],
             [
              0.7777777777777778,
              "#fb9f3a"
             ],
             [
              0.8888888888888888,
              "#fdca26"
             ],
             [
              1,
              "#f0f921"
             ]
            ],
            "type": "heatmap"
           }
          ],
          "heatmapgl": [
           {
            "colorbar": {
             "outlinewidth": 0,
             "ticks": ""
            },
            "colorscale": [
             [
              0,
              "#0d0887"
             ],
             [
              0.1111111111111111,
              "#46039f"
             ],
             [
              0.2222222222222222,
              "#7201a8"
             ],
             [
              0.3333333333333333,
              "#9c179e"
             ],
             [
              0.4444444444444444,
              "#bd3786"
             ],
             [
              0.5555555555555556,
              "#d8576b"
             ],
             [
              0.6666666666666666,
              "#ed7953"
             ],
             [
              0.7777777777777778,
              "#fb9f3a"
             ],
             [
              0.8888888888888888,
              "#fdca26"
             ],
             [
              1,
              "#f0f921"
             ]
            ],
            "type": "heatmapgl"
           }
          ],
          "histogram": [
           {
            "marker": {
             "pattern": {
              "fillmode": "overlay",
              "size": 10,
              "solidity": 0.2
             }
            },
            "type": "histogram"
           }
          ],
          "histogram2d": [
           {
            "colorbar": {
             "outlinewidth": 0,
             "ticks": ""
            },
            "colorscale": [
             [
              0,
              "#0d0887"
             ],
             [
              0.1111111111111111,
              "#46039f"
             ],
             [
              0.2222222222222222,
              "#7201a8"
             ],
             [
              0.3333333333333333,
              "#9c179e"
             ],
             [
              0.4444444444444444,
              "#bd3786"
             ],
             [
              0.5555555555555556,
              "#d8576b"
             ],
             [
              0.6666666666666666,
              "#ed7953"
             ],
             [
              0.7777777777777778,
              "#fb9f3a"
             ],
             [
              0.8888888888888888,
              "#fdca26"
             ],
             [
              1,
              "#f0f921"
             ]
            ],
            "type": "histogram2d"
           }
          ],
          "histogram2dcontour": [
           {
            "colorbar": {
             "outlinewidth": 0,
             "ticks": ""
            },
            "colorscale": [
             [
              0,
              "#0d0887"
             ],
             [
              0.1111111111111111,
              "#46039f"
             ],
             [
              0.2222222222222222,
              "#7201a8"
             ],
             [
              0.3333333333333333,
              "#9c179e"
             ],
             [
              0.4444444444444444,
              "#bd3786"
             ],
             [
              0.5555555555555556,
              "#d8576b"
             ],
             [
              0.6666666666666666,
              "#ed7953"
             ],
             [
              0.7777777777777778,
              "#fb9f3a"
             ],
             [
              0.8888888888888888,
              "#fdca26"
             ],
             [
              1,
              "#f0f921"
             ]
            ],
            "type": "histogram2dcontour"
           }
          ],
          "mesh3d": [
           {
            "colorbar": {
             "outlinewidth": 0,
             "ticks": ""
            },
            "type": "mesh3d"
           }
          ],
          "parcoords": [
           {
            "line": {
             "colorbar": {
              "outlinewidth": 0,
              "ticks": ""
             }
            },
            "type": "parcoords"
           }
          ],
          "pie": [
           {
            "automargin": true,
            "type": "pie"
           }
          ],
          "scatter": [
           {
            "fillpattern": {
             "fillmode": "overlay",
             "size": 10,
             "solidity": 0.2
            },
            "type": "scatter"
           }
          ],
          "scatter3d": [
           {
            "line": {
             "colorbar": {
              "outlinewidth": 0,
              "ticks": ""
             }
            },
            "marker": {
             "colorbar": {
              "outlinewidth": 0,
              "ticks": ""
             }
            },
            "type": "scatter3d"
           }
          ],
          "scattercarpet": [
           {
            "marker": {
             "colorbar": {
              "outlinewidth": 0,
              "ticks": ""
             }
            },
            "type": "scattercarpet"
           }
          ],
          "scattergeo": [
           {
            "marker": {
             "colorbar": {
              "outlinewidth": 0,
              "ticks": ""
             }
            },
            "type": "scattergeo"
           }
          ],
          "scattergl": [
           {
            "marker": {
             "colorbar": {
              "outlinewidth": 0,
              "ticks": ""
             }
            },
            "type": "scattergl"
           }
          ],
          "scattermapbox": [
           {
            "marker": {
             "colorbar": {
              "outlinewidth": 0,
              "ticks": ""
             }
            },
            "type": "scattermapbox"
           }
          ],
          "scatterpolar": [
           {
            "marker": {
             "colorbar": {
              "outlinewidth": 0,
              "ticks": ""
             }
            },
            "type": "scatterpolar"
           }
          ],
          "scatterpolargl": [
           {
            "marker": {
             "colorbar": {
              "outlinewidth": 0,
              "ticks": ""
             }
            },
            "type": "scatterpolargl"
           }
          ],
          "scatterternary": [
           {
            "marker": {
             "colorbar": {
              "outlinewidth": 0,
              "ticks": ""
             }
            },
            "type": "scatterternary"
           }
          ],
          "surface": [
           {
            "colorbar": {
             "outlinewidth": 0,
             "ticks": ""
            },
            "colorscale": [
             [
              0,
              "#0d0887"
             ],
             [
              0.1111111111111111,
              "#46039f"
             ],
             [
              0.2222222222222222,
              "#7201a8"
             ],
             [
              0.3333333333333333,
              "#9c179e"
             ],
             [
              0.4444444444444444,
              "#bd3786"
             ],
             [
              0.5555555555555556,
              "#d8576b"
             ],
             [
              0.6666666666666666,
              "#ed7953"
             ],
             [
              0.7777777777777778,
              "#fb9f3a"
             ],
             [
              0.8888888888888888,
              "#fdca26"
             ],
             [
              1,
              "#f0f921"
             ]
            ],
            "type": "surface"
           }
          ],
          "table": [
           {
            "cells": {
             "fill": {
              "color": "#EBF0F8"
             },
             "line": {
              "color": "white"
             }
            },
            "header": {
             "fill": {
              "color": "#C8D4E3"
             },
             "line": {
              "color": "white"
             }
            },
            "type": "table"
           }
          ]
         },
         "layout": {
          "annotationdefaults": {
           "arrowcolor": "#2a3f5f",
           "arrowhead": 0,
           "arrowwidth": 1
          },
          "autotypenumbers": "strict",
          "coloraxis": {
           "colorbar": {
            "outlinewidth": 0,
            "ticks": ""
           }
          },
          "colorscale": {
           "diverging": [
            [
             0,
             "#8e0152"
            ],
            [
             0.1,
             "#c51b7d"
            ],
            [
             0.2,
             "#de77ae"
            ],
            [
             0.3,
             "#f1b6da"
            ],
            [
             0.4,
             "#fde0ef"
            ],
            [
             0.5,
             "#f7f7f7"
            ],
            [
             0.6,
             "#e6f5d0"
            ],
            [
             0.7,
             "#b8e186"
            ],
            [
             0.8,
             "#7fbc41"
            ],
            [
             0.9,
             "#4d9221"
            ],
            [
             1,
             "#276419"
            ]
           ],
           "sequential": [
            [
             0,
             "#0d0887"
            ],
            [
             0.1111111111111111,
             "#46039f"
            ],
            [
             0.2222222222222222,
             "#7201a8"
            ],
            [
             0.3333333333333333,
             "#9c179e"
            ],
            [
             0.4444444444444444,
             "#bd3786"
            ],
            [
             0.5555555555555556,
             "#d8576b"
            ],
            [
             0.6666666666666666,
             "#ed7953"
            ],
            [
             0.7777777777777778,
             "#fb9f3a"
            ],
            [
             0.8888888888888888,
             "#fdca26"
            ],
            [
             1,
             "#f0f921"
            ]
           ],
           "sequentialminus": [
            [
             0,
             "#0d0887"
            ],
            [
             0.1111111111111111,
             "#46039f"
            ],
            [
             0.2222222222222222,
             "#7201a8"
            ],
            [
             0.3333333333333333,
             "#9c179e"
            ],
            [
             0.4444444444444444,
             "#bd3786"
            ],
            [
             0.5555555555555556,
             "#d8576b"
            ],
            [
             0.6666666666666666,
             "#ed7953"
            ],
            [
             0.7777777777777778,
             "#fb9f3a"
            ],
            [
             0.8888888888888888,
             "#fdca26"
            ],
            [
             1,
             "#f0f921"
            ]
           ]
          },
          "colorway": [
           "#636efa",
           "#EF553B",
           "#00cc96",
           "#ab63fa",
           "#FFA15A",
           "#19d3f3",
           "#FF6692",
           "#B6E880",
           "#FF97FF",
           "#FECB52"
          ],
          "font": {
           "color": "#2a3f5f"
          },
          "geo": {
           "bgcolor": "white",
           "lakecolor": "white",
           "landcolor": "#E5ECF6",
           "showlakes": true,
           "showland": true,
           "subunitcolor": "white"
          },
          "hoverlabel": {
           "align": "left"
          },
          "hovermode": "closest",
          "mapbox": {
           "style": "light"
          },
          "paper_bgcolor": "white",
          "plot_bgcolor": "#E5ECF6",
          "polar": {
           "angularaxis": {
            "gridcolor": "white",
            "linecolor": "white",
            "ticks": ""
           },
           "bgcolor": "#E5ECF6",
           "radialaxis": {
            "gridcolor": "white",
            "linecolor": "white",
            "ticks": ""
           }
          },
          "scene": {
           "xaxis": {
            "backgroundcolor": "#E5ECF6",
            "gridcolor": "white",
            "gridwidth": 2,
            "linecolor": "white",
            "showbackground": true,
            "ticks": "",
            "zerolinecolor": "white"
           },
           "yaxis": {
            "backgroundcolor": "#E5ECF6",
            "gridcolor": "white",
            "gridwidth": 2,
            "linecolor": "white",
            "showbackground": true,
            "ticks": "",
            "zerolinecolor": "white"
           },
           "zaxis": {
            "backgroundcolor": "#E5ECF6",
            "gridcolor": "white",
            "gridwidth": 2,
            "linecolor": "white",
            "showbackground": true,
            "ticks": "",
            "zerolinecolor": "white"
           }
          },
          "shapedefaults": {
           "line": {
            "color": "#2a3f5f"
           }
          },
          "ternary": {
           "aaxis": {
            "gridcolor": "white",
            "linecolor": "white",
            "ticks": ""
           },
           "baxis": {
            "gridcolor": "white",
            "linecolor": "white",
            "ticks": ""
           },
           "bgcolor": "#E5ECF6",
           "caxis": {
            "gridcolor": "white",
            "linecolor": "white",
            "ticks": ""
           }
          },
          "title": {
           "x": 0.05
          },
          "xaxis": {
           "automargin": true,
           "gridcolor": "white",
           "linecolor": "white",
           "ticks": "",
           "title": {
            "standoff": 15
           },
           "zerolinecolor": "white",
           "zerolinewidth": 2
          },
          "yaxis": {
           "automargin": true,
           "gridcolor": "white",
           "linecolor": "white",
           "ticks": "",
           "title": {
            "standoff": 15
           },
           "zerolinecolor": "white",
           "zerolinewidth": 2
          }
         }
        },
        "title": {
         "font": {
          "color": "#4D5663"
         }
        },
        "xaxis": {
         "gridcolor": "#E1E5ED",
         "showgrid": true,
         "tickfont": {
          "color": "#4D5663"
         },
         "title": {
          "font": {
           "color": "#4D5663"
          },
          "text": ""
         },
         "zerolinecolor": "#E1E5ED"
        },
        "yaxis": {
         "gridcolor": "#E1E5ED",
         "showgrid": true,
         "tickfont": {
          "color": "#4D5663"
         },
         "title": {
          "font": {
           "color": "#4D5663"
          },
          "text": ""
         },
         "zerolinecolor": "#E1E5ED"
        }
       }
      },
      "text/html": [
       "<div>                            <div id=\"3a9ebd0b-0dcb-4f54-a6e9-8e806b24ee47\" class=\"plotly-graph-div\" style=\"height:525px; width:100%;\"></div>            <script type=\"text/javascript\">                require([\"plotly\"], function(Plotly) {                    window.PLOTLYENV=window.PLOTLYENV || {};\n",
       "                    window.PLOTLYENV.BASE_URL='https://plot.ly';                                    if (document.getElementById(\"3a9ebd0b-0dcb-4f54-a6e9-8e806b24ee47\")) {                    Plotly.newPlot(                        \"3a9ebd0b-0dcb-4f54-a6e9-8e806b24ee47\",                        [{\"boxpoints\":false,\"line\":{\"width\":1.3},\"marker\":{\"color\":\"rgba(255, 153, 51, 1.0)\"},\"name\":\"A\",\"orientation\":\"v\",\"y\":[-0.013575241110450833,0.2014623469983288,-0.0899174937991628,0.14630244753708072,-1.4024321759431153,0.9439764762749664,-0.06382546259278613,0.9982777327924083,-0.4738871296179397,-1.7479270508567541,1.2896284502503772,-0.04094150702985916,1.1814727250692378,-0.04157675514734971,-1.6784201398008336,0.47505030888120736,0.7132508636230379,-0.24799219632184952,0.498384065116775,-0.7430537436978263,-0.5943008339808885,-0.33906026487962165,1.4230113577354255,-1.1356125023659205,-0.7194920556774836,0.40350687564521937,0.09680216062296426,1.4865354363232182,1.2837062691204009,-1.0449294104369733,-0.6046026297845802,1.035080585844793,-0.4781821091586237,0.5065245619851478,-0.054456558223678724,-0.2900838094108421,1.2672416269601274,1.5008075582806726,-1.194091196522751,0.2698019492376579,-1.3824745155019331,-0.6850572186353427,-0.19631292310626414,-1.7805521599361438,0.3631036285353618,0.6483575919989167,-0.8944577060934934,-0.45196364550134455,1.1847861292974133,-1.8807707543177625,-1.2730083730328554,-0.985849891541202,1.515677949465927,2.0874223263641296,0.2095676374486414,-1.8683151904123785,-0.6105186098607324,-1.5130203096464259,-0.0003192758589660021,-0.2349119693895656,2.1403613710248126,0.5017449877885893,-0.8644251613155253,-0.18257031359149076,0.4680037222306966,1.0298039480230532,1.6891500537933402,-1.6723929936831465,-1.5452705113745921,1.7062784160701598,-0.9945442447534536,-0.7774222561957261,-0.340371918308804,0.4775565849235679,-0.1464000856716878,-0.6662999728881014,-0.346476421279362,1.1186333582116288,1.7342334819205307,-0.15328405276518267,1.3265505703328604,0.2757959579792867,0.7440128032532201,0.5657951535956439,-1.2062365572122227,-1.146436230453736,-1.196647336791392,0.4486528374273348,0.8709122796607749,1.6626797853566428,1.291632918517345,-0.4326167764627019,0.010208309112078297,-0.4199867337686686,-2.454723215844547,0.06614779474923367,-0.2915800212075181,2.1053698664072478,-0.3762600092064639,0.6001534852873674],\"type\":\"box\"},{\"boxpoints\":false,\"line\":{\"width\":1.3},\"marker\":{\"color\":\"rgba(55, 128, 191, 1.0)\"},\"name\":\"B\",\"orientation\":\"v\",\"y\":[-0.4998086521162006,0.8638138888466803,0.7388639050818845,-2.5351516106839127,-0.6241965970069808,1.5863209972469399,-1.0272668926051103,0.5002535232220292,-0.5200660025824956,1.3047727610507056,-0.08212568013725245,-1.0235664200651708,-0.6235439639220131,-0.5117151989397963,-1.3452522320083882,0.07491224307445563,-0.9858627810630309,0.48812466598017146,-1.5781779944879513,0.7523712855310276,1.1558049361093523,-1.2137704432592629,1.5327616425683321,0.466351019069615,0.10177591740341613,1.6724484500498018,-0.5864709129917581,0.8044521979893766,-1.7788829295501853,1.8365955689749571,1.1633726863223617,-1.0242007875588857,1.0954568746844986,-2.2346848698945556,0.39266228174684914,0.8404729296808121,-0.2442692234613969,-1.3538759957921003,-1.0071264286913437,-0.511299082282564,-1.243464143501981,1.53226091738115,0.3787947928421932,0.7937415890066196,0.09369302886706242,1.3665228041204913,-0.07540557834451925,1.12960511549684,-1.0969114092610217,-0.5256619286736163,-0.1255995227222061,1.1299806924847526,1.842176499039704,0.9223553718749332,0.9624408464070193,-1.5949382147241815,0.10358617230626112,0.629926007568259,0.23282104595070716,0.34926447605244215,0.6210082966455818,1.3575286778092086,0.15034415981621055,-0.8319500033867744,-0.23994802321186406,-0.9917052396304813,-0.2101515420007641,-0.4604086451895767,-0.4103810500625088,-0.19193031808972585,-1.618290060509264,0.19680333078802792,-1.3695862380868853,-0.016764656229118585,1.491314290176382,0.5257097682782415,-0.10641544036555185,-1.664002357709959,0.6116037639332458,-0.49482872597775346,-0.06595019550852914,-0.7228448984081656,0.40190328495696986,0.7587437246052716,-0.25076469773656773,0.0903897080544539,-0.49465980470031895,1.0241171735974268,-0.5792698354452798,0.5420021881562249,0.1396869935373383,-0.5245699273060564,-0.4550638669849926,-2.4864659332530863,2.5638197096368796,-1.6643846707072714,-0.14449922089190276,-0.25589607049514157,-1.0290835991474259,-1.099958347108077],\"type\":\"box\"},{\"boxpoints\":false,\"line\":{\"width\":1.3},\"marker\":{\"color\":\"rgba(50, 171, 96, 1.0)\"},\"name\":\"C\",\"orientation\":\"v\",\"y\":[-0.03897819554267246,-0.45237410422813007,-0.9148037122545782,0.9535472502455863,-1.4048943076631102,-0.02552396525986394,-0.16999014234229043,-0.8005195292528466,0.489122269331501,-0.9738843159490248,-0.16020281396152478,-0.8295315084912306,-1.0710559926834227,0.9997766978884247,-1.4310237129930352,1.3070106872583303,0.7313254595552003,0.15605963803369327,0.2792068851428407,-0.28606270041226173,0.16570192386801588,0.7399897481613859,-1.4060667670740261,-0.4062331404164582,-0.40689761889533727,0.4589588634993919,1.0892311839862554,-0.6626451338834085,0.13797262053600742,-1.0517178921409511,-0.167038781526083,-0.4538040326345461,1.093561476437651,-1.847917830900397,-1.812934611548087,0.5460453823483944,-0.9523449183934559,1.3681088221219067,-0.4087585732632988,-0.4689630871848432,0.33113790981162516,1.7995374767983916,-1.9716431639594623,-0.7185553355541259,-0.4831753129690847,-0.1303610300940544,0.5535500317467342,1.7397571813169999,0.7074500660163463,-0.15749934931347762,0.5451645569926603,0.36244176948027973,0.7832399338190531,-1.6479214934825983,0.6947094604228694,-0.026321189640635765,0.6298127853299399,0.09497079558586638,0.5682270338122841,-0.32624841707502206,-0.14150138830677372,-0.5826441247263411,-0.37155778050514765,0.45433186240226353,-1.8486182555766015,-0.4272754688339868,1.3379923933370492,1.1030836835459426,0.33123816871353917,-0.365209036376047,0.44198159795425157,1.130722922509479,1.4431836867831143,-0.059577614635175885,0.8068824260031981,-1.061563464126283,2.3168102767827747,-0.1533249969025579,0.9323611166718686,0.8602968645952596,-3.3123992506170787,2.2042387607130225,0.5363583593827271,-0.3282709532102508,1.8928049631040889,-1.1260015336894462,0.6949648736475352,0.7222765625402395,0.24958033860760995,-1.7163837090135452,-0.7568130572220154,-0.13542338662983835,-0.13893830864817305,-1.2530513135516494,0.3013792980620921,0.6312530701902108,1.528341343156567,-0.11290283541221337,-1.2002544991759756,-0.012042900182959379],\"type\":\"box\"},{\"boxpoints\":false,\"line\":{\"width\":1.3},\"marker\":{\"color\":\"rgba(128, 0, 128, 1.0)\"},\"name\":\"D\",\"orientation\":\"v\",\"y\":[-0.5370911808766012,-2.321571647104632,0.5794844976759298,2.6696847002422093,-0.0628802393351703,0.856143428566187,2.0621458131416266,-0.035648267009385046,0.030833795609075402,0.3415158116578078,-0.3859012363140178,0.3609972035587406,1.0482829284088313,0.06821914391373095,-0.7610923046981812,0.6125951666149811,-1.380189032931467,0.4191665325951915,1.7739917406385555,0.2168226670444201,0.7405402700307281,-0.42256301034062066,0.018111319601031753,1.1155892412982806,-1.4999055926396876,-0.5947774111653107,0.018381646786778092,0.4044101964543374,1.162393959229401,1.2635861650539149,-1.6585120591216127,0.3745359867443123,-0.6042965058041246,-0.36500191273588045,0.07695854943740069,-0.4920978112467595,0.7815104260905494,-0.9342677462715024,-1.085311716713249,-1.2238414271897249,-0.0986622209609241,-1.3598393083357998,0.4351701843515012,-0.605292022362214,-1.9990675344070585,0.8198496193265,-0.7174341412363682,-0.467798063088864,-0.6395896099981112,-0.8137340650012729,1.3388149301350298,-0.07729452529534941,-0.32006894334242303,-0.5212376005619955,0.34826697009878055,0.04322596472394743,-0.8751630591683667,0.5282407958690774,-1.5245554906639394,-0.7114075014623907,0.6136614058445458,-0.6899539400539682,1.3383065365015576,-0.4687534641720835,0.31663129352505415,1.6430350068157462,-2.6193481946114083,-0.584449208207381,2.4382321153223065,0.7346470725692921,-1.4689518757597313,0.618524439084242,2.305276107304658,0.11527745916872338,1.0768495073439397,1.113330117936661,0.5688144051873003,1.4269619333427306,0.2861659530349212,1.6124139653612652,0.40249953609561223,1.1503513623086212,-1.3142430021494809,-0.1533860479957921,0.7026210178016035,-0.25140673295468247,0.03108806949108133,0.12245461656442247,-1.045151787506711,0.5103129915132618,-1.9976116086927933,1.6266100462323916,0.13527513123569643,-1.0360016372607777,1.6998818717986037,0.7079484991419566,1.4649518107345052,0.5280813775901442,0.5204694722261566,-0.11769449274516725],\"type\":\"box\"}],                        {\"legend\":{\"bgcolor\":\"#F5F6F9\",\"font\":{\"color\":\"#4D5663\"}},\"paper_bgcolor\":\"#F5F6F9\",\"plot_bgcolor\":\"#F5F6F9\",\"template\":{\"data\":{\"barpolar\":[{\"marker\":{\"line\":{\"color\":\"#E5ECF6\",\"width\":0.5},\"pattern\":{\"fillmode\":\"overlay\",\"size\":10,\"solidity\":0.2}},\"type\":\"barpolar\"}],\"bar\":[{\"error_x\":{\"color\":\"#2a3f5f\"},\"error_y\":{\"color\":\"#2a3f5f\"},\"marker\":{\"line\":{\"color\":\"#E5ECF6\",\"width\":0.5},\"pattern\":{\"fillmode\":\"overlay\",\"size\":10,\"solidity\":0.2}},\"type\":\"bar\"}],\"carpet\":[{\"aaxis\":{\"endlinecolor\":\"#2a3f5f\",\"gridcolor\":\"white\",\"linecolor\":\"white\",\"minorgridcolor\":\"white\",\"startlinecolor\":\"#2a3f5f\"},\"baxis\":{\"endlinecolor\":\"#2a3f5f\",\"gridcolor\":\"white\",\"linecolor\":\"white\",\"minorgridcolor\":\"white\",\"startlinecolor\":\"#2a3f5f\"},\"type\":\"carpet\"}],\"choropleth\":[{\"colorbar\":{\"outlinewidth\":0,\"ticks\":\"\"},\"type\":\"choropleth\"}],\"contourcarpet\":[{\"colorbar\":{\"outlinewidth\":0,\"ticks\":\"\"},\"type\":\"contourcarpet\"}],\"contour\":[{\"colorbar\":{\"outlinewidth\":0,\"ticks\":\"\"},\"colorscale\":[[0.0,\"#0d0887\"],[0.1111111111111111,\"#46039f\"],[0.2222222222222222,\"#7201a8\"],[0.3333333333333333,\"#9c179e\"],[0.4444444444444444,\"#bd3786\"],[0.5555555555555556,\"#d8576b\"],[0.6666666666666666,\"#ed7953\"],[0.7777777777777778,\"#fb9f3a\"],[0.8888888888888888,\"#fdca26\"],[1.0,\"#f0f921\"]],\"type\":\"contour\"}],\"heatmapgl\":[{\"colorbar\":{\"outlinewidth\":0,\"ticks\":\"\"},\"colorscale\":[[0.0,\"#0d0887\"],[0.1111111111111111,\"#46039f\"],[0.2222222222222222,\"#7201a8\"],[0.3333333333333333,\"#9c179e\"],[0.4444444444444444,\"#bd3786\"],[0.5555555555555556,\"#d8576b\"],[0.6666666666666666,\"#ed7953\"],[0.7777777777777778,\"#fb9f3a\"],[0.8888888888888888,\"#fdca26\"],[1.0,\"#f0f921\"]],\"type\":\"heatmapgl\"}],\"heatmap\":[{\"colorbar\":{\"outlinewidth\":0,\"ticks\":\"\"},\"colorscale\":[[0.0,\"#0d0887\"],[0.1111111111111111,\"#46039f\"],[0.2222222222222222,\"#7201a8\"],[0.3333333333333333,\"#9c179e\"],[0.4444444444444444,\"#bd3786\"],[0.5555555555555556,\"#d8576b\"],[0.6666666666666666,\"#ed7953\"],[0.7777777777777778,\"#fb9f3a\"],[0.8888888888888888,\"#fdca26\"],[1.0,\"#f0f921\"]],\"type\":\"heatmap\"}],\"histogram2dcontour\":[{\"colorbar\":{\"outlinewidth\":0,\"ticks\":\"\"},\"colorscale\":[[0.0,\"#0d0887\"],[0.1111111111111111,\"#46039f\"],[0.2222222222222222,\"#7201a8\"],[0.3333333333333333,\"#9c179e\"],[0.4444444444444444,\"#bd3786\"],[0.5555555555555556,\"#d8576b\"],[0.6666666666666666,\"#ed7953\"],[0.7777777777777778,\"#fb9f3a\"],[0.8888888888888888,\"#fdca26\"],[1.0,\"#f0f921\"]],\"type\":\"histogram2dcontour\"}],\"histogram2d\":[{\"colorbar\":{\"outlinewidth\":0,\"ticks\":\"\"},\"colorscale\":[[0.0,\"#0d0887\"],[0.1111111111111111,\"#46039f\"],[0.2222222222222222,\"#7201a8\"],[0.3333333333333333,\"#9c179e\"],[0.4444444444444444,\"#bd3786\"],[0.5555555555555556,\"#d8576b\"],[0.6666666666666666,\"#ed7953\"],[0.7777777777777778,\"#fb9f3a\"],[0.8888888888888888,\"#fdca26\"],[1.0,\"#f0f921\"]],\"type\":\"histogram2d\"}],\"histogram\":[{\"marker\":{\"pattern\":{\"fillmode\":\"overlay\",\"size\":10,\"solidity\":0.2}},\"type\":\"histogram\"}],\"mesh3d\":[{\"colorbar\":{\"outlinewidth\":0,\"ticks\":\"\"},\"type\":\"mesh3d\"}],\"parcoords\":[{\"line\":{\"colorbar\":{\"outlinewidth\":0,\"ticks\":\"\"}},\"type\":\"parcoords\"}],\"pie\":[{\"automargin\":true,\"type\":\"pie\"}],\"scatter3d\":[{\"line\":{\"colorbar\":{\"outlinewidth\":0,\"ticks\":\"\"}},\"marker\":{\"colorbar\":{\"outlinewidth\":0,\"ticks\":\"\"}},\"type\":\"scatter3d\"}],\"scattercarpet\":[{\"marker\":{\"colorbar\":{\"outlinewidth\":0,\"ticks\":\"\"}},\"type\":\"scattercarpet\"}],\"scattergeo\":[{\"marker\":{\"colorbar\":{\"outlinewidth\":0,\"ticks\":\"\"}},\"type\":\"scattergeo\"}],\"scattergl\":[{\"marker\":{\"colorbar\":{\"outlinewidth\":0,\"ticks\":\"\"}},\"type\":\"scattergl\"}],\"scattermapbox\":[{\"marker\":{\"colorbar\":{\"outlinewidth\":0,\"ticks\":\"\"}},\"type\":\"scattermapbox\"}],\"scatterpolargl\":[{\"marker\":{\"colorbar\":{\"outlinewidth\":0,\"ticks\":\"\"}},\"type\":\"scatterpolargl\"}],\"scatterpolar\":[{\"marker\":{\"colorbar\":{\"outlinewidth\":0,\"ticks\":\"\"}},\"type\":\"scatterpolar\"}],\"scatter\":[{\"fillpattern\":{\"fillmode\":\"overlay\",\"size\":10,\"solidity\":0.2},\"type\":\"scatter\"}],\"scatterternary\":[{\"marker\":{\"colorbar\":{\"outlinewidth\":0,\"ticks\":\"\"}},\"type\":\"scatterternary\"}],\"surface\":[{\"colorbar\":{\"outlinewidth\":0,\"ticks\":\"\"},\"colorscale\":[[0.0,\"#0d0887\"],[0.1111111111111111,\"#46039f\"],[0.2222222222222222,\"#7201a8\"],[0.3333333333333333,\"#9c179e\"],[0.4444444444444444,\"#bd3786\"],[0.5555555555555556,\"#d8576b\"],[0.6666666666666666,\"#ed7953\"],[0.7777777777777778,\"#fb9f3a\"],[0.8888888888888888,\"#fdca26\"],[1.0,\"#f0f921\"]],\"type\":\"surface\"}],\"table\":[{\"cells\":{\"fill\":{\"color\":\"#EBF0F8\"},\"line\":{\"color\":\"white\"}},\"header\":{\"fill\":{\"color\":\"#C8D4E3\"},\"line\":{\"color\":\"white\"}},\"type\":\"table\"}]},\"layout\":{\"annotationdefaults\":{\"arrowcolor\":\"#2a3f5f\",\"arrowhead\":0,\"arrowwidth\":1},\"autotypenumbers\":\"strict\",\"coloraxis\":{\"colorbar\":{\"outlinewidth\":0,\"ticks\":\"\"}},\"colorscale\":{\"diverging\":[[0,\"#8e0152\"],[0.1,\"#c51b7d\"],[0.2,\"#de77ae\"],[0.3,\"#f1b6da\"],[0.4,\"#fde0ef\"],[0.5,\"#f7f7f7\"],[0.6,\"#e6f5d0\"],[0.7,\"#b8e186\"],[0.8,\"#7fbc41\"],[0.9,\"#4d9221\"],[1,\"#276419\"]],\"sequential\":[[0.0,\"#0d0887\"],[0.1111111111111111,\"#46039f\"],[0.2222222222222222,\"#7201a8\"],[0.3333333333333333,\"#9c179e\"],[0.4444444444444444,\"#bd3786\"],[0.5555555555555556,\"#d8576b\"],[0.6666666666666666,\"#ed7953\"],[0.7777777777777778,\"#fb9f3a\"],[0.8888888888888888,\"#fdca26\"],[1.0,\"#f0f921\"]],\"sequentialminus\":[[0.0,\"#0d0887\"],[0.1111111111111111,\"#46039f\"],[0.2222222222222222,\"#7201a8\"],[0.3333333333333333,\"#9c179e\"],[0.4444444444444444,\"#bd3786\"],[0.5555555555555556,\"#d8576b\"],[0.6666666666666666,\"#ed7953\"],[0.7777777777777778,\"#fb9f3a\"],[0.8888888888888888,\"#fdca26\"],[1.0,\"#f0f921\"]]},\"colorway\":[\"#636efa\",\"#EF553B\",\"#00cc96\",\"#ab63fa\",\"#FFA15A\",\"#19d3f3\",\"#FF6692\",\"#B6E880\",\"#FF97FF\",\"#FECB52\"],\"font\":{\"color\":\"#2a3f5f\"},\"geo\":{\"bgcolor\":\"white\",\"lakecolor\":\"white\",\"landcolor\":\"#E5ECF6\",\"showlakes\":true,\"showland\":true,\"subunitcolor\":\"white\"},\"hoverlabel\":{\"align\":\"left\"},\"hovermode\":\"closest\",\"mapbox\":{\"style\":\"light\"},\"paper_bgcolor\":\"white\",\"plot_bgcolor\":\"#E5ECF6\",\"polar\":{\"angularaxis\":{\"gridcolor\":\"white\",\"linecolor\":\"white\",\"ticks\":\"\"},\"bgcolor\":\"#E5ECF6\",\"radialaxis\":{\"gridcolor\":\"white\",\"linecolor\":\"white\",\"ticks\":\"\"}},\"scene\":{\"xaxis\":{\"backgroundcolor\":\"#E5ECF6\",\"gridcolor\":\"white\",\"gridwidth\":2,\"linecolor\":\"white\",\"showbackground\":true,\"ticks\":\"\",\"zerolinecolor\":\"white\"},\"yaxis\":{\"backgroundcolor\":\"#E5ECF6\",\"gridcolor\":\"white\",\"gridwidth\":2,\"linecolor\":\"white\",\"showbackground\":true,\"ticks\":\"\",\"zerolinecolor\":\"white\"},\"zaxis\":{\"backgroundcolor\":\"#E5ECF6\",\"gridcolor\":\"white\",\"gridwidth\":2,\"linecolor\":\"white\",\"showbackground\":true,\"ticks\":\"\",\"zerolinecolor\":\"white\"}},\"shapedefaults\":{\"line\":{\"color\":\"#2a3f5f\"}},\"ternary\":{\"aaxis\":{\"gridcolor\":\"white\",\"linecolor\":\"white\",\"ticks\":\"\"},\"baxis\":{\"gridcolor\":\"white\",\"linecolor\":\"white\",\"ticks\":\"\"},\"bgcolor\":\"#E5ECF6\",\"caxis\":{\"gridcolor\":\"white\",\"linecolor\":\"white\",\"ticks\":\"\"}},\"title\":{\"x\":0.05},\"xaxis\":{\"automargin\":true,\"gridcolor\":\"white\",\"linecolor\":\"white\",\"ticks\":\"\",\"title\":{\"standoff\":15},\"zerolinecolor\":\"white\",\"zerolinewidth\":2},\"yaxis\":{\"automargin\":true,\"gridcolor\":\"white\",\"linecolor\":\"white\",\"ticks\":\"\",\"title\":{\"standoff\":15},\"zerolinecolor\":\"white\",\"zerolinewidth\":2}}},\"title\":{\"font\":{\"color\":\"#4D5663\"}},\"xaxis\":{\"gridcolor\":\"#E1E5ED\",\"showgrid\":true,\"tickfont\":{\"color\":\"#4D5663\"},\"title\":{\"font\":{\"color\":\"#4D5663\"},\"text\":\"\"},\"zerolinecolor\":\"#E1E5ED\"},\"yaxis\":{\"gridcolor\":\"#E1E5ED\",\"showgrid\":true,\"tickfont\":{\"color\":\"#4D5663\"},\"title\":{\"font\":{\"color\":\"#4D5663\"},\"text\":\"\"},\"zerolinecolor\":\"#E1E5ED\"}},                        {\"showLink\": true, \"linkText\": \"Export to plot.ly\", \"plotlyServerURL\": \"https://plot.ly\", \"responsive\": true}                    ).then(function(){\n",
       "                            \n",
       "var gd = document.getElementById('3a9ebd0b-0dcb-4f54-a6e9-8e806b24ee47');\n",
       "var x = new MutationObserver(function (mutations, observer) {{\n",
       "        var display = window.getComputedStyle(gd).display;\n",
       "        if (!display || display === 'none') {{\n",
       "            console.log([gd, 'removed!']);\n",
       "            Plotly.purge(gd);\n",
       "            observer.disconnect();\n",
       "        }}\n",
       "}});\n",
       "\n",
       "// Listen for the removal of the full notebook cells\n",
       "var notebookContainer = gd.closest('#notebook-container');\n",
       "if (notebookContainer) {{\n",
       "    x.observe(notebookContainer, {childList: true});\n",
       "}}\n",
       "\n",
       "// Listen for the clearing of the current output cell\n",
       "var outputEl = gd.closest('.output');\n",
       "if (outputEl) {{\n",
       "    x.observe(outputEl, {childList: true});\n",
       "}}\n",
       "\n",
       "                        })                };                });            </script>        </div>"
      ]
     },
     "metadata": {},
     "output_type": "display_data"
    }
   ],
   "source": [
    "# interactive box plot\n",
    "df.iplot(kind='box')"
   ]
  },
  {
   "cell_type": "code",
   "execution_count": 40,
   "metadata": {},
   "outputs": [
    {
     "data": {
      "text/html": [
       "<div>\n",
       "<style scoped>\n",
       "    .dataframe tbody tr th:only-of-type {\n",
       "        vertical-align: middle;\n",
       "    }\n",
       "\n",
       "    .dataframe tbody tr th {\n",
       "        vertical-align: top;\n",
       "    }\n",
       "\n",
       "    .dataframe thead th {\n",
       "        text-align: right;\n",
       "    }\n",
       "</style>\n",
       "<table border=\"1\" class=\"dataframe\">\n",
       "  <thead>\n",
       "    <tr style=\"text-align: right;\">\n",
       "      <th></th>\n",
       "      <th>x</th>\n",
       "      <th>y</th>\n",
       "      <th>z</th>\n",
       "    </tr>\n",
       "  </thead>\n",
       "  <tbody>\n",
       "    <tr>\n",
       "      <th>0</th>\n",
       "      <td>1</td>\n",
       "      <td>10</td>\n",
       "      <td>100</td>\n",
       "    </tr>\n",
       "    <tr>\n",
       "      <th>1</th>\n",
       "      <td>2</td>\n",
       "      <td>20</td>\n",
       "      <td>200</td>\n",
       "    </tr>\n",
       "    <tr>\n",
       "      <th>2</th>\n",
       "      <td>3</td>\n",
       "      <td>30</td>\n",
       "      <td>300</td>\n",
       "    </tr>\n",
       "    <tr>\n",
       "      <th>3</th>\n",
       "      <td>4</td>\n",
       "      <td>40</td>\n",
       "      <td>400</td>\n",
       "    </tr>\n",
       "    <tr>\n",
       "      <th>4</th>\n",
       "      <td>5</td>\n",
       "      <td>50</td>\n",
       "      <td>500</td>\n",
       "    </tr>\n",
       "  </tbody>\n",
       "</table>\n",
       "</div>"
      ],
      "text/plain": [
       "   x   y    z\n",
       "0  1  10  100\n",
       "1  2  20  200\n",
       "2  3  30  300\n",
       "3  4  40  400\n",
       "4  5  50  500"
      ]
     },
     "execution_count": 40,
     "metadata": {},
     "output_type": "execute_result"
    }
   ],
   "source": [
    "# interactive 3D surface plot\n",
    "\n",
    "df3 = pd.DataFrame({'x':[1,2,3,4,5],'y':[10,20,30,40,50],'z':[100,200,300,400,500]})\n",
    "df3"
   ]
  },
  {
   "cell_type": "code",
   "execution_count": 41,
   "metadata": {},
   "outputs": [
    {
     "data": {
      "application/vnd.plotly.v1+json": {
       "config": {
        "linkText": "Export to plot.ly",
        "plotlyServerURL": "https://plot.ly",
        "showLink": true
       },
       "data": [
        {
         "colorscale": [
          [
           0,
           "rgb(255, 153, 51)"
          ],
          [
           0.1111111111111111,
           "rgb(55, 128, 191)"
          ],
          [
           0.2222222222222222,
           "rgb(50, 171, 96)"
          ],
          [
           0.3333333333333333,
           "rgb(128, 0, 128)"
          ],
          [
           0.4444444444444444,
           "rgb(219, 64, 82)"
          ],
          [
           0.5555555555555556,
           "rgb(0, 128, 128)"
          ],
          [
           0.6666666666666666,
           "rgb(255, 255, 51)"
          ],
          [
           0.7777777777777778,
           "rgb(128, 128, 0)"
          ],
          [
           0.8888888888888888,
           "rgb(251, 128, 114)"
          ],
          [
           1,
           "rgb(128, 177, 211)"
          ]
         ],
         "type": "surface",
         "x": [
          0,
          1,
          2,
          3,
          4
         ],
         "y": [
          "x",
          "y",
          "z"
         ],
         "z": [
          [
           1,
           2,
           3,
           4,
           5
          ],
          [
           10,
           20,
           30,
           40,
           50
          ],
          [
           100,
           200,
           300,
           400,
           500
          ]
         ]
        }
       ],
       "layout": {
        "legend": {
         "bgcolor": "#F5F6F9",
         "font": {
          "color": "#4D5663"
         }
        },
        "paper_bgcolor": "#F5F6F9",
        "plot_bgcolor": "#F5F6F9",
        "template": {
         "data": {
          "bar": [
           {
            "error_x": {
             "color": "#2a3f5f"
            },
            "error_y": {
             "color": "#2a3f5f"
            },
            "marker": {
             "line": {
              "color": "#E5ECF6",
              "width": 0.5
             },
             "pattern": {
              "fillmode": "overlay",
              "size": 10,
              "solidity": 0.2
             }
            },
            "type": "bar"
           }
          ],
          "barpolar": [
           {
            "marker": {
             "line": {
              "color": "#E5ECF6",
              "width": 0.5
             },
             "pattern": {
              "fillmode": "overlay",
              "size": 10,
              "solidity": 0.2
             }
            },
            "type": "barpolar"
           }
          ],
          "carpet": [
           {
            "aaxis": {
             "endlinecolor": "#2a3f5f",
             "gridcolor": "white",
             "linecolor": "white",
             "minorgridcolor": "white",
             "startlinecolor": "#2a3f5f"
            },
            "baxis": {
             "endlinecolor": "#2a3f5f",
             "gridcolor": "white",
             "linecolor": "white",
             "minorgridcolor": "white",
             "startlinecolor": "#2a3f5f"
            },
            "type": "carpet"
           }
          ],
          "choropleth": [
           {
            "colorbar": {
             "outlinewidth": 0,
             "ticks": ""
            },
            "type": "choropleth"
           }
          ],
          "contour": [
           {
            "colorbar": {
             "outlinewidth": 0,
             "ticks": ""
            },
            "colorscale": [
             [
              0,
              "#0d0887"
             ],
             [
              0.1111111111111111,
              "#46039f"
             ],
             [
              0.2222222222222222,
              "#7201a8"
             ],
             [
              0.3333333333333333,
              "#9c179e"
             ],
             [
              0.4444444444444444,
              "#bd3786"
             ],
             [
              0.5555555555555556,
              "#d8576b"
             ],
             [
              0.6666666666666666,
              "#ed7953"
             ],
             [
              0.7777777777777778,
              "#fb9f3a"
             ],
             [
              0.8888888888888888,
              "#fdca26"
             ],
             [
              1,
              "#f0f921"
             ]
            ],
            "type": "contour"
           }
          ],
          "contourcarpet": [
           {
            "colorbar": {
             "outlinewidth": 0,
             "ticks": ""
            },
            "type": "contourcarpet"
           }
          ],
          "heatmap": [
           {
            "colorbar": {
             "outlinewidth": 0,
             "ticks": ""
            },
            "colorscale": [
             [
              0,
              "#0d0887"
             ],
             [
              0.1111111111111111,
              "#46039f"
             ],
             [
              0.2222222222222222,
              "#7201a8"
             ],
             [
              0.3333333333333333,
              "#9c179e"
             ],
             [
              0.4444444444444444,
              "#bd3786"
             ],
             [
              0.5555555555555556,
              "#d8576b"
             ],
             [
              0.6666666666666666,
              "#ed7953"
             ],
             [
              0.7777777777777778,
              "#fb9f3a"
             ],
             [
              0.8888888888888888,
              "#fdca26"
             ],
             [
              1,
              "#f0f921"
             ]
            ],
            "type": "heatmap"
           }
          ],
          "heatmapgl": [
           {
            "colorbar": {
             "outlinewidth": 0,
             "ticks": ""
            },
            "colorscale": [
             [
              0,
              "#0d0887"
             ],
             [
              0.1111111111111111,
              "#46039f"
             ],
             [
              0.2222222222222222,
              "#7201a8"
             ],
             [
              0.3333333333333333,
              "#9c179e"
             ],
             [
              0.4444444444444444,
              "#bd3786"
             ],
             [
              0.5555555555555556,
              "#d8576b"
             ],
             [
              0.6666666666666666,
              "#ed7953"
             ],
             [
              0.7777777777777778,
              "#fb9f3a"
             ],
             [
              0.8888888888888888,
              "#fdca26"
             ],
             [
              1,
              "#f0f921"
             ]
            ],
            "type": "heatmapgl"
           }
          ],
          "histogram": [
           {
            "marker": {
             "pattern": {
              "fillmode": "overlay",
              "size": 10,
              "solidity": 0.2
             }
            },
            "type": "histogram"
           }
          ],
          "histogram2d": [
           {
            "colorbar": {
             "outlinewidth": 0,
             "ticks": ""
            },
            "colorscale": [
             [
              0,
              "#0d0887"
             ],
             [
              0.1111111111111111,
              "#46039f"
             ],
             [
              0.2222222222222222,
              "#7201a8"
             ],
             [
              0.3333333333333333,
              "#9c179e"
             ],
             [
              0.4444444444444444,
              "#bd3786"
             ],
             [
              0.5555555555555556,
              "#d8576b"
             ],
             [
              0.6666666666666666,
              "#ed7953"
             ],
             [
              0.7777777777777778,
              "#fb9f3a"
             ],
             [
              0.8888888888888888,
              "#fdca26"
             ],
             [
              1,
              "#f0f921"
             ]
            ],
            "type": "histogram2d"
           }
          ],
          "histogram2dcontour": [
           {
            "colorbar": {
             "outlinewidth": 0,
             "ticks": ""
            },
            "colorscale": [
             [
              0,
              "#0d0887"
             ],
             [
              0.1111111111111111,
              "#46039f"
             ],
             [
              0.2222222222222222,
              "#7201a8"
             ],
             [
              0.3333333333333333,
              "#9c179e"
             ],
             [
              0.4444444444444444,
              "#bd3786"
             ],
             [
              0.5555555555555556,
              "#d8576b"
             ],
             [
              0.6666666666666666,
              "#ed7953"
             ],
             [
              0.7777777777777778,
              "#fb9f3a"
             ],
             [
              0.8888888888888888,
              "#fdca26"
             ],
             [
              1,
              "#f0f921"
             ]
            ],
            "type": "histogram2dcontour"
           }
          ],
          "mesh3d": [
           {
            "colorbar": {
             "outlinewidth": 0,
             "ticks": ""
            },
            "type": "mesh3d"
           }
          ],
          "parcoords": [
           {
            "line": {
             "colorbar": {
              "outlinewidth": 0,
              "ticks": ""
             }
            },
            "type": "parcoords"
           }
          ],
          "pie": [
           {
            "automargin": true,
            "type": "pie"
           }
          ],
          "scatter": [
           {
            "fillpattern": {
             "fillmode": "overlay",
             "size": 10,
             "solidity": 0.2
            },
            "type": "scatter"
           }
          ],
          "scatter3d": [
           {
            "line": {
             "colorbar": {
              "outlinewidth": 0,
              "ticks": ""
             }
            },
            "marker": {
             "colorbar": {
              "outlinewidth": 0,
              "ticks": ""
             }
            },
            "type": "scatter3d"
           }
          ],
          "scattercarpet": [
           {
            "marker": {
             "colorbar": {
              "outlinewidth": 0,
              "ticks": ""
             }
            },
            "type": "scattercarpet"
           }
          ],
          "scattergeo": [
           {
            "marker": {
             "colorbar": {
              "outlinewidth": 0,
              "ticks": ""
             }
            },
            "type": "scattergeo"
           }
          ],
          "scattergl": [
           {
            "marker": {
             "colorbar": {
              "outlinewidth": 0,
              "ticks": ""
             }
            },
            "type": "scattergl"
           }
          ],
          "scattermapbox": [
           {
            "marker": {
             "colorbar": {
              "outlinewidth": 0,
              "ticks": ""
             }
            },
            "type": "scattermapbox"
           }
          ],
          "scatterpolar": [
           {
            "marker": {
             "colorbar": {
              "outlinewidth": 0,
              "ticks": ""
             }
            },
            "type": "scatterpolar"
           }
          ],
          "scatterpolargl": [
           {
            "marker": {
             "colorbar": {
              "outlinewidth": 0,
              "ticks": ""
             }
            },
            "type": "scatterpolargl"
           }
          ],
          "scatterternary": [
           {
            "marker": {
             "colorbar": {
              "outlinewidth": 0,
              "ticks": ""
             }
            },
            "type": "scatterternary"
           }
          ],
          "surface": [
           {
            "colorbar": {
             "outlinewidth": 0,
             "ticks": ""
            },
            "colorscale": [
             [
              0,
              "#0d0887"
             ],
             [
              0.1111111111111111,
              "#46039f"
             ],
             [
              0.2222222222222222,
              "#7201a8"
             ],
             [
              0.3333333333333333,
              "#9c179e"
             ],
             [
              0.4444444444444444,
              "#bd3786"
             ],
             [
              0.5555555555555556,
              "#d8576b"
             ],
             [
              0.6666666666666666,
              "#ed7953"
             ],
             [
              0.7777777777777778,
              "#fb9f3a"
             ],
             [
              0.8888888888888888,
              "#fdca26"
             ],
             [
              1,
              "#f0f921"
             ]
            ],
            "type": "surface"
           }
          ],
          "table": [
           {
            "cells": {
             "fill": {
              "color": "#EBF0F8"
             },
             "line": {
              "color": "white"
             }
            },
            "header": {
             "fill": {
              "color": "#C8D4E3"
             },
             "line": {
              "color": "white"
             }
            },
            "type": "table"
           }
          ]
         },
         "layout": {
          "annotationdefaults": {
           "arrowcolor": "#2a3f5f",
           "arrowhead": 0,
           "arrowwidth": 1
          },
          "autotypenumbers": "strict",
          "coloraxis": {
           "colorbar": {
            "outlinewidth": 0,
            "ticks": ""
           }
          },
          "colorscale": {
           "diverging": [
            [
             0,
             "#8e0152"
            ],
            [
             0.1,
             "#c51b7d"
            ],
            [
             0.2,
             "#de77ae"
            ],
            [
             0.3,
             "#f1b6da"
            ],
            [
             0.4,
             "#fde0ef"
            ],
            [
             0.5,
             "#f7f7f7"
            ],
            [
             0.6,
             "#e6f5d0"
            ],
            [
             0.7,
             "#b8e186"
            ],
            [
             0.8,
             "#7fbc41"
            ],
            [
             0.9,
             "#4d9221"
            ],
            [
             1,
             "#276419"
            ]
           ],
           "sequential": [
            [
             0,
             "#0d0887"
            ],
            [
             0.1111111111111111,
             "#46039f"
            ],
            [
             0.2222222222222222,
             "#7201a8"
            ],
            [
             0.3333333333333333,
             "#9c179e"
            ],
            [
             0.4444444444444444,
             "#bd3786"
            ],
            [
             0.5555555555555556,
             "#d8576b"
            ],
            [
             0.6666666666666666,
             "#ed7953"
            ],
            [
             0.7777777777777778,
             "#fb9f3a"
            ],
            [
             0.8888888888888888,
             "#fdca26"
            ],
            [
             1,
             "#f0f921"
            ]
           ],
           "sequentialminus": [
            [
             0,
             "#0d0887"
            ],
            [
             0.1111111111111111,
             "#46039f"
            ],
            [
             0.2222222222222222,
             "#7201a8"
            ],
            [
             0.3333333333333333,
             "#9c179e"
            ],
            [
             0.4444444444444444,
             "#bd3786"
            ],
            [
             0.5555555555555556,
             "#d8576b"
            ],
            [
             0.6666666666666666,
             "#ed7953"
            ],
            [
             0.7777777777777778,
             "#fb9f3a"
            ],
            [
             0.8888888888888888,
             "#fdca26"
            ],
            [
             1,
             "#f0f921"
            ]
           ]
          },
          "colorway": [
           "#636efa",
           "#EF553B",
           "#00cc96",
           "#ab63fa",
           "#FFA15A",
           "#19d3f3",
           "#FF6692",
           "#B6E880",
           "#FF97FF",
           "#FECB52"
          ],
          "font": {
           "color": "#2a3f5f"
          },
          "geo": {
           "bgcolor": "white",
           "lakecolor": "white",
           "landcolor": "#E5ECF6",
           "showlakes": true,
           "showland": true,
           "subunitcolor": "white"
          },
          "hoverlabel": {
           "align": "left"
          },
          "hovermode": "closest",
          "mapbox": {
           "style": "light"
          },
          "paper_bgcolor": "white",
          "plot_bgcolor": "#E5ECF6",
          "polar": {
           "angularaxis": {
            "gridcolor": "white",
            "linecolor": "white",
            "ticks": ""
           },
           "bgcolor": "#E5ECF6",
           "radialaxis": {
            "gridcolor": "white",
            "linecolor": "white",
            "ticks": ""
           }
          },
          "scene": {
           "xaxis": {
            "backgroundcolor": "#E5ECF6",
            "gridcolor": "white",
            "gridwidth": 2,
            "linecolor": "white",
            "showbackground": true,
            "ticks": "",
            "zerolinecolor": "white"
           },
           "yaxis": {
            "backgroundcolor": "#E5ECF6",
            "gridcolor": "white",
            "gridwidth": 2,
            "linecolor": "white",
            "showbackground": true,
            "ticks": "",
            "zerolinecolor": "white"
           },
           "zaxis": {
            "backgroundcolor": "#E5ECF6",
            "gridcolor": "white",
            "gridwidth": 2,
            "linecolor": "white",
            "showbackground": true,
            "ticks": "",
            "zerolinecolor": "white"
           }
          },
          "shapedefaults": {
           "line": {
            "color": "#2a3f5f"
           }
          },
          "ternary": {
           "aaxis": {
            "gridcolor": "white",
            "linecolor": "white",
            "ticks": ""
           },
           "baxis": {
            "gridcolor": "white",
            "linecolor": "white",
            "ticks": ""
           },
           "bgcolor": "#E5ECF6",
           "caxis": {
            "gridcolor": "white",
            "linecolor": "white",
            "ticks": ""
           }
          },
          "title": {
           "x": 0.05
          },
          "xaxis": {
           "automargin": true,
           "gridcolor": "white",
           "linecolor": "white",
           "ticks": "",
           "title": {
            "standoff": 15
           },
           "zerolinecolor": "white",
           "zerolinewidth": 2
          },
          "yaxis": {
           "automargin": true,
           "gridcolor": "white",
           "linecolor": "white",
           "ticks": "",
           "title": {
            "standoff": 15
           },
           "zerolinecolor": "white",
           "zerolinewidth": 2
          }
         }
        },
        "title": {
         "font": {
          "color": "#4D5663"
         }
        },
        "xaxis": {
         "gridcolor": "#E1E5ED",
         "showgrid": true,
         "tickfont": {
          "color": "#4D5663"
         },
         "title": {
          "font": {
           "color": "#4D5663"
          },
          "text": ""
         },
         "zerolinecolor": "#E1E5ED"
        },
        "yaxis": {
         "gridcolor": "#E1E5ED",
         "showgrid": true,
         "tickfont": {
          "color": "#4D5663"
         },
         "title": {
          "font": {
           "color": "#4D5663"
          },
          "text": ""
         },
         "zerolinecolor": "#E1E5ED"
        }
       }
      },
      "text/html": [
       "<div>                            <div id=\"5dc61000-e0b0-42cb-b4f1-056d312e7117\" class=\"plotly-graph-div\" style=\"height:525px; width:100%;\"></div>            <script type=\"text/javascript\">                require([\"plotly\"], function(Plotly) {                    window.PLOTLYENV=window.PLOTLYENV || {};\n",
       "                    window.PLOTLYENV.BASE_URL='https://plot.ly';                                    if (document.getElementById(\"5dc61000-e0b0-42cb-b4f1-056d312e7117\")) {                    Plotly.newPlot(                        \"5dc61000-e0b0-42cb-b4f1-056d312e7117\",                        [{\"colorscale\":[[0.0,\"rgb(255, 153, 51)\"],[0.1111111111111111,\"rgb(55, 128, 191)\"],[0.2222222222222222,\"rgb(50, 171, 96)\"],[0.3333333333333333,\"rgb(128, 0, 128)\"],[0.4444444444444444,\"rgb(219, 64, 82)\"],[0.5555555555555556,\"rgb(0, 128, 128)\"],[0.6666666666666666,\"rgb(255, 255, 51)\"],[0.7777777777777778,\"rgb(128, 128, 0)\"],[0.8888888888888888,\"rgb(251, 128, 114)\"],[1.0,\"rgb(128, 177, 211)\"]],\"x\":[0,1,2,3,4],\"y\":[\"x\",\"y\",\"z\"],\"z\":[[1,2,3,4,5],[10,20,30,40,50],[100,200,300,400,500]],\"type\":\"surface\"}],                        {\"legend\":{\"bgcolor\":\"#F5F6F9\",\"font\":{\"color\":\"#4D5663\"}},\"paper_bgcolor\":\"#F5F6F9\",\"plot_bgcolor\":\"#F5F6F9\",\"template\":{\"data\":{\"barpolar\":[{\"marker\":{\"line\":{\"color\":\"#E5ECF6\",\"width\":0.5},\"pattern\":{\"fillmode\":\"overlay\",\"size\":10,\"solidity\":0.2}},\"type\":\"barpolar\"}],\"bar\":[{\"error_x\":{\"color\":\"#2a3f5f\"},\"error_y\":{\"color\":\"#2a3f5f\"},\"marker\":{\"line\":{\"color\":\"#E5ECF6\",\"width\":0.5},\"pattern\":{\"fillmode\":\"overlay\",\"size\":10,\"solidity\":0.2}},\"type\":\"bar\"}],\"carpet\":[{\"aaxis\":{\"endlinecolor\":\"#2a3f5f\",\"gridcolor\":\"white\",\"linecolor\":\"white\",\"minorgridcolor\":\"white\",\"startlinecolor\":\"#2a3f5f\"},\"baxis\":{\"endlinecolor\":\"#2a3f5f\",\"gridcolor\":\"white\",\"linecolor\":\"white\",\"minorgridcolor\":\"white\",\"startlinecolor\":\"#2a3f5f\"},\"type\":\"carpet\"}],\"choropleth\":[{\"colorbar\":{\"outlinewidth\":0,\"ticks\":\"\"},\"type\":\"choropleth\"}],\"contourcarpet\":[{\"colorbar\":{\"outlinewidth\":0,\"ticks\":\"\"},\"type\":\"contourcarpet\"}],\"contour\":[{\"colorbar\":{\"outlinewidth\":0,\"ticks\":\"\"},\"colorscale\":[[0.0,\"#0d0887\"],[0.1111111111111111,\"#46039f\"],[0.2222222222222222,\"#7201a8\"],[0.3333333333333333,\"#9c179e\"],[0.4444444444444444,\"#bd3786\"],[0.5555555555555556,\"#d8576b\"],[0.6666666666666666,\"#ed7953\"],[0.7777777777777778,\"#fb9f3a\"],[0.8888888888888888,\"#fdca26\"],[1.0,\"#f0f921\"]],\"type\":\"contour\"}],\"heatmapgl\":[{\"colorbar\":{\"outlinewidth\":0,\"ticks\":\"\"},\"colorscale\":[[0.0,\"#0d0887\"],[0.1111111111111111,\"#46039f\"],[0.2222222222222222,\"#7201a8\"],[0.3333333333333333,\"#9c179e\"],[0.4444444444444444,\"#bd3786\"],[0.5555555555555556,\"#d8576b\"],[0.6666666666666666,\"#ed7953\"],[0.7777777777777778,\"#fb9f3a\"],[0.8888888888888888,\"#fdca26\"],[1.0,\"#f0f921\"]],\"type\":\"heatmapgl\"}],\"heatmap\":[{\"colorbar\":{\"outlinewidth\":0,\"ticks\":\"\"},\"colorscale\":[[0.0,\"#0d0887\"],[0.1111111111111111,\"#46039f\"],[0.2222222222222222,\"#7201a8\"],[0.3333333333333333,\"#9c179e\"],[0.4444444444444444,\"#bd3786\"],[0.5555555555555556,\"#d8576b\"],[0.6666666666666666,\"#ed7953\"],[0.7777777777777778,\"#fb9f3a\"],[0.8888888888888888,\"#fdca26\"],[1.0,\"#f0f921\"]],\"type\":\"heatmap\"}],\"histogram2dcontour\":[{\"colorbar\":{\"outlinewidth\":0,\"ticks\":\"\"},\"colorscale\":[[0.0,\"#0d0887\"],[0.1111111111111111,\"#46039f\"],[0.2222222222222222,\"#7201a8\"],[0.3333333333333333,\"#9c179e\"],[0.4444444444444444,\"#bd3786\"],[0.5555555555555556,\"#d8576b\"],[0.6666666666666666,\"#ed7953\"],[0.7777777777777778,\"#fb9f3a\"],[0.8888888888888888,\"#fdca26\"],[1.0,\"#f0f921\"]],\"type\":\"histogram2dcontour\"}],\"histogram2d\":[{\"colorbar\":{\"outlinewidth\":0,\"ticks\":\"\"},\"colorscale\":[[0.0,\"#0d0887\"],[0.1111111111111111,\"#46039f\"],[0.2222222222222222,\"#7201a8\"],[0.3333333333333333,\"#9c179e\"],[0.4444444444444444,\"#bd3786\"],[0.5555555555555556,\"#d8576b\"],[0.6666666666666666,\"#ed7953\"],[0.7777777777777778,\"#fb9f3a\"],[0.8888888888888888,\"#fdca26\"],[1.0,\"#f0f921\"]],\"type\":\"histogram2d\"}],\"histogram\":[{\"marker\":{\"pattern\":{\"fillmode\":\"overlay\",\"size\":10,\"solidity\":0.2}},\"type\":\"histogram\"}],\"mesh3d\":[{\"colorbar\":{\"outlinewidth\":0,\"ticks\":\"\"},\"type\":\"mesh3d\"}],\"parcoords\":[{\"line\":{\"colorbar\":{\"outlinewidth\":0,\"ticks\":\"\"}},\"type\":\"parcoords\"}],\"pie\":[{\"automargin\":true,\"type\":\"pie\"}],\"scatter3d\":[{\"line\":{\"colorbar\":{\"outlinewidth\":0,\"ticks\":\"\"}},\"marker\":{\"colorbar\":{\"outlinewidth\":0,\"ticks\":\"\"}},\"type\":\"scatter3d\"}],\"scattercarpet\":[{\"marker\":{\"colorbar\":{\"outlinewidth\":0,\"ticks\":\"\"}},\"type\":\"scattercarpet\"}],\"scattergeo\":[{\"marker\":{\"colorbar\":{\"outlinewidth\":0,\"ticks\":\"\"}},\"type\":\"scattergeo\"}],\"scattergl\":[{\"marker\":{\"colorbar\":{\"outlinewidth\":0,\"ticks\":\"\"}},\"type\":\"scattergl\"}],\"scattermapbox\":[{\"marker\":{\"colorbar\":{\"outlinewidth\":0,\"ticks\":\"\"}},\"type\":\"scattermapbox\"}],\"scatterpolargl\":[{\"marker\":{\"colorbar\":{\"outlinewidth\":0,\"ticks\":\"\"}},\"type\":\"scatterpolargl\"}],\"scatterpolar\":[{\"marker\":{\"colorbar\":{\"outlinewidth\":0,\"ticks\":\"\"}},\"type\":\"scatterpolar\"}],\"scatter\":[{\"fillpattern\":{\"fillmode\":\"overlay\",\"size\":10,\"solidity\":0.2},\"type\":\"scatter\"}],\"scatterternary\":[{\"marker\":{\"colorbar\":{\"outlinewidth\":0,\"ticks\":\"\"}},\"type\":\"scatterternary\"}],\"surface\":[{\"colorbar\":{\"outlinewidth\":0,\"ticks\":\"\"},\"colorscale\":[[0.0,\"#0d0887\"],[0.1111111111111111,\"#46039f\"],[0.2222222222222222,\"#7201a8\"],[0.3333333333333333,\"#9c179e\"],[0.4444444444444444,\"#bd3786\"],[0.5555555555555556,\"#d8576b\"],[0.6666666666666666,\"#ed7953\"],[0.7777777777777778,\"#fb9f3a\"],[0.8888888888888888,\"#fdca26\"],[1.0,\"#f0f921\"]],\"type\":\"surface\"}],\"table\":[{\"cells\":{\"fill\":{\"color\":\"#EBF0F8\"},\"line\":{\"color\":\"white\"}},\"header\":{\"fill\":{\"color\":\"#C8D4E3\"},\"line\":{\"color\":\"white\"}},\"type\":\"table\"}]},\"layout\":{\"annotationdefaults\":{\"arrowcolor\":\"#2a3f5f\",\"arrowhead\":0,\"arrowwidth\":1},\"autotypenumbers\":\"strict\",\"coloraxis\":{\"colorbar\":{\"outlinewidth\":0,\"ticks\":\"\"}},\"colorscale\":{\"diverging\":[[0,\"#8e0152\"],[0.1,\"#c51b7d\"],[0.2,\"#de77ae\"],[0.3,\"#f1b6da\"],[0.4,\"#fde0ef\"],[0.5,\"#f7f7f7\"],[0.6,\"#e6f5d0\"],[0.7,\"#b8e186\"],[0.8,\"#7fbc41\"],[0.9,\"#4d9221\"],[1,\"#276419\"]],\"sequential\":[[0.0,\"#0d0887\"],[0.1111111111111111,\"#46039f\"],[0.2222222222222222,\"#7201a8\"],[0.3333333333333333,\"#9c179e\"],[0.4444444444444444,\"#bd3786\"],[0.5555555555555556,\"#d8576b\"],[0.6666666666666666,\"#ed7953\"],[0.7777777777777778,\"#fb9f3a\"],[0.8888888888888888,\"#fdca26\"],[1.0,\"#f0f921\"]],\"sequentialminus\":[[0.0,\"#0d0887\"],[0.1111111111111111,\"#46039f\"],[0.2222222222222222,\"#7201a8\"],[0.3333333333333333,\"#9c179e\"],[0.4444444444444444,\"#bd3786\"],[0.5555555555555556,\"#d8576b\"],[0.6666666666666666,\"#ed7953\"],[0.7777777777777778,\"#fb9f3a\"],[0.8888888888888888,\"#fdca26\"],[1.0,\"#f0f921\"]]},\"colorway\":[\"#636efa\",\"#EF553B\",\"#00cc96\",\"#ab63fa\",\"#FFA15A\",\"#19d3f3\",\"#FF6692\",\"#B6E880\",\"#FF97FF\",\"#FECB52\"],\"font\":{\"color\":\"#2a3f5f\"},\"geo\":{\"bgcolor\":\"white\",\"lakecolor\":\"white\",\"landcolor\":\"#E5ECF6\",\"showlakes\":true,\"showland\":true,\"subunitcolor\":\"white\"},\"hoverlabel\":{\"align\":\"left\"},\"hovermode\":\"closest\",\"mapbox\":{\"style\":\"light\"},\"paper_bgcolor\":\"white\",\"plot_bgcolor\":\"#E5ECF6\",\"polar\":{\"angularaxis\":{\"gridcolor\":\"white\",\"linecolor\":\"white\",\"ticks\":\"\"},\"bgcolor\":\"#E5ECF6\",\"radialaxis\":{\"gridcolor\":\"white\",\"linecolor\":\"white\",\"ticks\":\"\"}},\"scene\":{\"xaxis\":{\"backgroundcolor\":\"#E5ECF6\",\"gridcolor\":\"white\",\"gridwidth\":2,\"linecolor\":\"white\",\"showbackground\":true,\"ticks\":\"\",\"zerolinecolor\":\"white\"},\"yaxis\":{\"backgroundcolor\":\"#E5ECF6\",\"gridcolor\":\"white\",\"gridwidth\":2,\"linecolor\":\"white\",\"showbackground\":true,\"ticks\":\"\",\"zerolinecolor\":\"white\"},\"zaxis\":{\"backgroundcolor\":\"#E5ECF6\",\"gridcolor\":\"white\",\"gridwidth\":2,\"linecolor\":\"white\",\"showbackground\":true,\"ticks\":\"\",\"zerolinecolor\":\"white\"}},\"shapedefaults\":{\"line\":{\"color\":\"#2a3f5f\"}},\"ternary\":{\"aaxis\":{\"gridcolor\":\"white\",\"linecolor\":\"white\",\"ticks\":\"\"},\"baxis\":{\"gridcolor\":\"white\",\"linecolor\":\"white\",\"ticks\":\"\"},\"bgcolor\":\"#E5ECF6\",\"caxis\":{\"gridcolor\":\"white\",\"linecolor\":\"white\",\"ticks\":\"\"}},\"title\":{\"x\":0.05},\"xaxis\":{\"automargin\":true,\"gridcolor\":\"white\",\"linecolor\":\"white\",\"ticks\":\"\",\"title\":{\"standoff\":15},\"zerolinecolor\":\"white\",\"zerolinewidth\":2},\"yaxis\":{\"automargin\":true,\"gridcolor\":\"white\",\"linecolor\":\"white\",\"ticks\":\"\",\"title\":{\"standoff\":15},\"zerolinecolor\":\"white\",\"zerolinewidth\":2}}},\"title\":{\"font\":{\"color\":\"#4D5663\"}},\"xaxis\":{\"gridcolor\":\"#E1E5ED\",\"showgrid\":true,\"tickfont\":{\"color\":\"#4D5663\"},\"title\":{\"font\":{\"color\":\"#4D5663\"},\"text\":\"\"},\"zerolinecolor\":\"#E1E5ED\"},\"yaxis\":{\"gridcolor\":\"#E1E5ED\",\"showgrid\":true,\"tickfont\":{\"color\":\"#4D5663\"},\"title\":{\"font\":{\"color\":\"#4D5663\"},\"text\":\"\"},\"zerolinecolor\":\"#E1E5ED\"}},                        {\"showLink\": true, \"linkText\": \"Export to plot.ly\", \"plotlyServerURL\": \"https://plot.ly\", \"responsive\": true}                    ).then(function(){\n",
       "                            \n",
       "var gd = document.getElementById('5dc61000-e0b0-42cb-b4f1-056d312e7117');\n",
       "var x = new MutationObserver(function (mutations, observer) {{\n",
       "        var display = window.getComputedStyle(gd).display;\n",
       "        if (!display || display === 'none') {{\n",
       "            console.log([gd, 'removed!']);\n",
       "            Plotly.purge(gd);\n",
       "            observer.disconnect();\n",
       "        }}\n",
       "}});\n",
       "\n",
       "// Listen for the removal of the full notebook cells\n",
       "var notebookContainer = gd.closest('#notebook-container');\n",
       "if (notebookContainer) {{\n",
       "    x.observe(notebookContainer, {childList: true});\n",
       "}}\n",
       "\n",
       "// Listen for the clearing of the current output cell\n",
       "var outputEl = gd.closest('.output');\n",
       "if (outputEl) {{\n",
       "    x.observe(outputEl, {childList: true});\n",
       "}}\n",
       "\n",
       "                        })                };                });            </script>        </div>"
      ]
     },
     "metadata": {},
     "output_type": "display_data"
    }
   ],
   "source": [
    "df3.iplot(kind='surface')"
   ]
  },
  {
   "cell_type": "code",
   "execution_count": 42,
   "metadata": {},
   "outputs": [
    {
     "data": {
      "application/vnd.plotly.v1+json": {
       "config": {
        "linkText": "Export to plot.ly",
        "plotlyServerURL": "https://plot.ly",
        "showLink": true
       },
       "data": [
        {
         "colorscale": [
          [
           0,
           "rgb(165,0,38)"
          ],
          [
           0.1,
           "rgb(215,48,39)"
          ],
          [
           0.2,
           "rgb(244,109,67)"
          ],
          [
           0.3,
           "rgb(253,174,97)"
          ],
          [
           0.4,
           "rgb(254,224,144)"
          ],
          [
           0.5,
           "rgb(255,255,191)"
          ],
          [
           0.6,
           "rgb(224,243,248)"
          ],
          [
           0.7,
           "rgb(171,217,233)"
          ],
          [
           0.8,
           "rgb(116,173,209)"
          ],
          [
           0.9,
           "rgb(69,117,180)"
          ],
          [
           1,
           "rgb(49,54,149)"
          ]
         ],
         "type": "surface",
         "x": [
          0,
          1,
          2,
          3,
          4
         ],
         "y": [
          "x",
          "y",
          "z"
         ],
         "z": [
          [
           1,
           2,
           3,
           4,
           5
          ],
          [
           10,
           20,
           30,
           40,
           50
          ],
          [
           100,
           200,
           300,
           400,
           500
          ]
         ]
        }
       ],
       "layout": {
        "legend": {
         "bgcolor": "#F5F6F9",
         "font": {
          "color": "#4D5663"
         }
        },
        "paper_bgcolor": "#F5F6F9",
        "plot_bgcolor": "#F5F6F9",
        "template": {
         "data": {
          "bar": [
           {
            "error_x": {
             "color": "#2a3f5f"
            },
            "error_y": {
             "color": "#2a3f5f"
            },
            "marker": {
             "line": {
              "color": "#E5ECF6",
              "width": 0.5
             },
             "pattern": {
              "fillmode": "overlay",
              "size": 10,
              "solidity": 0.2
             }
            },
            "type": "bar"
           }
          ],
          "barpolar": [
           {
            "marker": {
             "line": {
              "color": "#E5ECF6",
              "width": 0.5
             },
             "pattern": {
              "fillmode": "overlay",
              "size": 10,
              "solidity": 0.2
             }
            },
            "type": "barpolar"
           }
          ],
          "carpet": [
           {
            "aaxis": {
             "endlinecolor": "#2a3f5f",
             "gridcolor": "white",
             "linecolor": "white",
             "minorgridcolor": "white",
             "startlinecolor": "#2a3f5f"
            },
            "baxis": {
             "endlinecolor": "#2a3f5f",
             "gridcolor": "white",
             "linecolor": "white",
             "minorgridcolor": "white",
             "startlinecolor": "#2a3f5f"
            },
            "type": "carpet"
           }
          ],
          "choropleth": [
           {
            "colorbar": {
             "outlinewidth": 0,
             "ticks": ""
            },
            "type": "choropleth"
           }
          ],
          "contour": [
           {
            "colorbar": {
             "outlinewidth": 0,
             "ticks": ""
            },
            "colorscale": [
             [
              0,
              "#0d0887"
             ],
             [
              0.1111111111111111,
              "#46039f"
             ],
             [
              0.2222222222222222,
              "#7201a8"
             ],
             [
              0.3333333333333333,
              "#9c179e"
             ],
             [
              0.4444444444444444,
              "#bd3786"
             ],
             [
              0.5555555555555556,
              "#d8576b"
             ],
             [
              0.6666666666666666,
              "#ed7953"
             ],
             [
              0.7777777777777778,
              "#fb9f3a"
             ],
             [
              0.8888888888888888,
              "#fdca26"
             ],
             [
              1,
              "#f0f921"
             ]
            ],
            "type": "contour"
           }
          ],
          "contourcarpet": [
           {
            "colorbar": {
             "outlinewidth": 0,
             "ticks": ""
            },
            "type": "contourcarpet"
           }
          ],
          "heatmap": [
           {
            "colorbar": {
             "outlinewidth": 0,
             "ticks": ""
            },
            "colorscale": [
             [
              0,
              "#0d0887"
             ],
             [
              0.1111111111111111,
              "#46039f"
             ],
             [
              0.2222222222222222,
              "#7201a8"
             ],
             [
              0.3333333333333333,
              "#9c179e"
             ],
             [
              0.4444444444444444,
              "#bd3786"
             ],
             [
              0.5555555555555556,
              "#d8576b"
             ],
             [
              0.6666666666666666,
              "#ed7953"
             ],
             [
              0.7777777777777778,
              "#fb9f3a"
             ],
             [
              0.8888888888888888,
              "#fdca26"
             ],
             [
              1,
              "#f0f921"
             ]
            ],
            "type": "heatmap"
           }
          ],
          "heatmapgl": [
           {
            "colorbar": {
             "outlinewidth": 0,
             "ticks": ""
            },
            "colorscale": [
             [
              0,
              "#0d0887"
             ],
             [
              0.1111111111111111,
              "#46039f"
             ],
             [
              0.2222222222222222,
              "#7201a8"
             ],
             [
              0.3333333333333333,
              "#9c179e"
             ],
             [
              0.4444444444444444,
              "#bd3786"
             ],
             [
              0.5555555555555556,
              "#d8576b"
             ],
             [
              0.6666666666666666,
              "#ed7953"
             ],
             [
              0.7777777777777778,
              "#fb9f3a"
             ],
             [
              0.8888888888888888,
              "#fdca26"
             ],
             [
              1,
              "#f0f921"
             ]
            ],
            "type": "heatmapgl"
           }
          ],
          "histogram": [
           {
            "marker": {
             "pattern": {
              "fillmode": "overlay",
              "size": 10,
              "solidity": 0.2
             }
            },
            "type": "histogram"
           }
          ],
          "histogram2d": [
           {
            "colorbar": {
             "outlinewidth": 0,
             "ticks": ""
            },
            "colorscale": [
             [
              0,
              "#0d0887"
             ],
             [
              0.1111111111111111,
              "#46039f"
             ],
             [
              0.2222222222222222,
              "#7201a8"
             ],
             [
              0.3333333333333333,
              "#9c179e"
             ],
             [
              0.4444444444444444,
              "#bd3786"
             ],
             [
              0.5555555555555556,
              "#d8576b"
             ],
             [
              0.6666666666666666,
              "#ed7953"
             ],
             [
              0.7777777777777778,
              "#fb9f3a"
             ],
             [
              0.8888888888888888,
              "#fdca26"
             ],
             [
              1,
              "#f0f921"
             ]
            ],
            "type": "histogram2d"
           }
          ],
          "histogram2dcontour": [
           {
            "colorbar": {
             "outlinewidth": 0,
             "ticks": ""
            },
            "colorscale": [
             [
              0,
              "#0d0887"
             ],
             [
              0.1111111111111111,
              "#46039f"
             ],
             [
              0.2222222222222222,
              "#7201a8"
             ],
             [
              0.3333333333333333,
              "#9c179e"
             ],
             [
              0.4444444444444444,
              "#bd3786"
             ],
             [
              0.5555555555555556,
              "#d8576b"
             ],
             [
              0.6666666666666666,
              "#ed7953"
             ],
             [
              0.7777777777777778,
              "#fb9f3a"
             ],
             [
              0.8888888888888888,
              "#fdca26"
             ],
             [
              1,
              "#f0f921"
             ]
            ],
            "type": "histogram2dcontour"
           }
          ],
          "mesh3d": [
           {
            "colorbar": {
             "outlinewidth": 0,
             "ticks": ""
            },
            "type": "mesh3d"
           }
          ],
          "parcoords": [
           {
            "line": {
             "colorbar": {
              "outlinewidth": 0,
              "ticks": ""
             }
            },
            "type": "parcoords"
           }
          ],
          "pie": [
           {
            "automargin": true,
            "type": "pie"
           }
          ],
          "scatter": [
           {
            "fillpattern": {
             "fillmode": "overlay",
             "size": 10,
             "solidity": 0.2
            },
            "type": "scatter"
           }
          ],
          "scatter3d": [
           {
            "line": {
             "colorbar": {
              "outlinewidth": 0,
              "ticks": ""
             }
            },
            "marker": {
             "colorbar": {
              "outlinewidth": 0,
              "ticks": ""
             }
            },
            "type": "scatter3d"
           }
          ],
          "scattercarpet": [
           {
            "marker": {
             "colorbar": {
              "outlinewidth": 0,
              "ticks": ""
             }
            },
            "type": "scattercarpet"
           }
          ],
          "scattergeo": [
           {
            "marker": {
             "colorbar": {
              "outlinewidth": 0,
              "ticks": ""
             }
            },
            "type": "scattergeo"
           }
          ],
          "scattergl": [
           {
            "marker": {
             "colorbar": {
              "outlinewidth": 0,
              "ticks": ""
             }
            },
            "type": "scattergl"
           }
          ],
          "scattermapbox": [
           {
            "marker": {
             "colorbar": {
              "outlinewidth": 0,
              "ticks": ""
             }
            },
            "type": "scattermapbox"
           }
          ],
          "scatterpolar": [
           {
            "marker": {
             "colorbar": {
              "outlinewidth": 0,
              "ticks": ""
             }
            },
            "type": "scatterpolar"
           }
          ],
          "scatterpolargl": [
           {
            "marker": {
             "colorbar": {
              "outlinewidth": 0,
              "ticks": ""
             }
            },
            "type": "scatterpolargl"
           }
          ],
          "scatterternary": [
           {
            "marker": {
             "colorbar": {
              "outlinewidth": 0,
              "ticks": ""
             }
            },
            "type": "scatterternary"
           }
          ],
          "surface": [
           {
            "colorbar": {
             "outlinewidth": 0,
             "ticks": ""
            },
            "colorscale": [
             [
              0,
              "#0d0887"
             ],
             [
              0.1111111111111111,
              "#46039f"
             ],
             [
              0.2222222222222222,
              "#7201a8"
             ],
             [
              0.3333333333333333,
              "#9c179e"
             ],
             [
              0.4444444444444444,
              "#bd3786"
             ],
             [
              0.5555555555555556,
              "#d8576b"
             ],
             [
              0.6666666666666666,
              "#ed7953"
             ],
             [
              0.7777777777777778,
              "#fb9f3a"
             ],
             [
              0.8888888888888888,
              "#fdca26"
             ],
             [
              1,
              "#f0f921"
             ]
            ],
            "type": "surface"
           }
          ],
          "table": [
           {
            "cells": {
             "fill": {
              "color": "#EBF0F8"
             },
             "line": {
              "color": "white"
             }
            },
            "header": {
             "fill": {
              "color": "#C8D4E3"
             },
             "line": {
              "color": "white"
             }
            },
            "type": "table"
           }
          ]
         },
         "layout": {
          "annotationdefaults": {
           "arrowcolor": "#2a3f5f",
           "arrowhead": 0,
           "arrowwidth": 1
          },
          "autotypenumbers": "strict",
          "coloraxis": {
           "colorbar": {
            "outlinewidth": 0,
            "ticks": ""
           }
          },
          "colorscale": {
           "diverging": [
            [
             0,
             "#8e0152"
            ],
            [
             0.1,
             "#c51b7d"
            ],
            [
             0.2,
             "#de77ae"
            ],
            [
             0.3,
             "#f1b6da"
            ],
            [
             0.4,
             "#fde0ef"
            ],
            [
             0.5,
             "#f7f7f7"
            ],
            [
             0.6,
             "#e6f5d0"
            ],
            [
             0.7,
             "#b8e186"
            ],
            [
             0.8,
             "#7fbc41"
            ],
            [
             0.9,
             "#4d9221"
            ],
            [
             1,
             "#276419"
            ]
           ],
           "sequential": [
            [
             0,
             "#0d0887"
            ],
            [
             0.1111111111111111,
             "#46039f"
            ],
            [
             0.2222222222222222,
             "#7201a8"
            ],
            [
             0.3333333333333333,
             "#9c179e"
            ],
            [
             0.4444444444444444,
             "#bd3786"
            ],
            [
             0.5555555555555556,
             "#d8576b"
            ],
            [
             0.6666666666666666,
             "#ed7953"
            ],
            [
             0.7777777777777778,
             "#fb9f3a"
            ],
            [
             0.8888888888888888,
             "#fdca26"
            ],
            [
             1,
             "#f0f921"
            ]
           ],
           "sequentialminus": [
            [
             0,
             "#0d0887"
            ],
            [
             0.1111111111111111,
             "#46039f"
            ],
            [
             0.2222222222222222,
             "#7201a8"
            ],
            [
             0.3333333333333333,
             "#9c179e"
            ],
            [
             0.4444444444444444,
             "#bd3786"
            ],
            [
             0.5555555555555556,
             "#d8576b"
            ],
            [
             0.6666666666666666,
             "#ed7953"
            ],
            [
             0.7777777777777778,
             "#fb9f3a"
            ],
            [
             0.8888888888888888,
             "#fdca26"
            ],
            [
             1,
             "#f0f921"
            ]
           ]
          },
          "colorway": [
           "#636efa",
           "#EF553B",
           "#00cc96",
           "#ab63fa",
           "#FFA15A",
           "#19d3f3",
           "#FF6692",
           "#B6E880",
           "#FF97FF",
           "#FECB52"
          ],
          "font": {
           "color": "#2a3f5f"
          },
          "geo": {
           "bgcolor": "white",
           "lakecolor": "white",
           "landcolor": "#E5ECF6",
           "showlakes": true,
           "showland": true,
           "subunitcolor": "white"
          },
          "hoverlabel": {
           "align": "left"
          },
          "hovermode": "closest",
          "mapbox": {
           "style": "light"
          },
          "paper_bgcolor": "white",
          "plot_bgcolor": "#E5ECF6",
          "polar": {
           "angularaxis": {
            "gridcolor": "white",
            "linecolor": "white",
            "ticks": ""
           },
           "bgcolor": "#E5ECF6",
           "radialaxis": {
            "gridcolor": "white",
            "linecolor": "white",
            "ticks": ""
           }
          },
          "scene": {
           "xaxis": {
            "backgroundcolor": "#E5ECF6",
            "gridcolor": "white",
            "gridwidth": 2,
            "linecolor": "white",
            "showbackground": true,
            "ticks": "",
            "zerolinecolor": "white"
           },
           "yaxis": {
            "backgroundcolor": "#E5ECF6",
            "gridcolor": "white",
            "gridwidth": 2,
            "linecolor": "white",
            "showbackground": true,
            "ticks": "",
            "zerolinecolor": "white"
           },
           "zaxis": {
            "backgroundcolor": "#E5ECF6",
            "gridcolor": "white",
            "gridwidth": 2,
            "linecolor": "white",
            "showbackground": true,
            "ticks": "",
            "zerolinecolor": "white"
           }
          },
          "shapedefaults": {
           "line": {
            "color": "#2a3f5f"
           }
          },
          "ternary": {
           "aaxis": {
            "gridcolor": "white",
            "linecolor": "white",
            "ticks": ""
           },
           "baxis": {
            "gridcolor": "white",
            "linecolor": "white",
            "ticks": ""
           },
           "bgcolor": "#E5ECF6",
           "caxis": {
            "gridcolor": "white",
            "linecolor": "white",
            "ticks": ""
           }
          },
          "title": {
           "x": 0.05
          },
          "xaxis": {
           "automargin": true,
           "gridcolor": "white",
           "linecolor": "white",
           "ticks": "",
           "title": {
            "standoff": 15
           },
           "zerolinecolor": "white",
           "zerolinewidth": 2
          },
          "yaxis": {
           "automargin": true,
           "gridcolor": "white",
           "linecolor": "white",
           "ticks": "",
           "title": {
            "standoff": 15
           },
           "zerolinecolor": "white",
           "zerolinewidth": 2
          }
         }
        },
        "title": {
         "font": {
          "color": "#4D5663"
         }
        },
        "xaxis": {
         "gridcolor": "#E1E5ED",
         "showgrid": true,
         "tickfont": {
          "color": "#4D5663"
         },
         "title": {
          "font": {
           "color": "#4D5663"
          },
          "text": ""
         },
         "zerolinecolor": "#E1E5ED"
        },
        "yaxis": {
         "gridcolor": "#E1E5ED",
         "showgrid": true,
         "tickfont": {
          "color": "#4D5663"
         },
         "title": {
          "font": {
           "color": "#4D5663"
          },
          "text": ""
         },
         "zerolinecolor": "#E1E5ED"
        }
       }
      },
      "text/html": [
       "<div>                            <div id=\"a134d9e9-dffb-4123-9d6c-7f6b192c6caa\" class=\"plotly-graph-div\" style=\"height:525px; width:100%;\"></div>            <script type=\"text/javascript\">                require([\"plotly\"], function(Plotly) {                    window.PLOTLYENV=window.PLOTLYENV || {};\n",
       "                    window.PLOTLYENV.BASE_URL='https://plot.ly';                                    if (document.getElementById(\"a134d9e9-dffb-4123-9d6c-7f6b192c6caa\")) {                    Plotly.newPlot(                        \"a134d9e9-dffb-4123-9d6c-7f6b192c6caa\",                        [{\"colorscale\":[[0.0,\"rgb(165,0,38)\"],[0.1,\"rgb(215,48,39)\"],[0.2,\"rgb(244,109,67)\"],[0.3,\"rgb(253,174,97)\"],[0.4,\"rgb(254,224,144)\"],[0.5,\"rgb(255,255,191)\"],[0.6,\"rgb(224,243,248)\"],[0.7,\"rgb(171,217,233)\"],[0.8,\"rgb(116,173,209)\"],[0.9,\"rgb(69,117,180)\"],[1.0,\"rgb(49,54,149)\"]],\"x\":[0,1,2,3,4],\"y\":[\"x\",\"y\",\"z\"],\"z\":[[1,2,3,4,5],[10,20,30,40,50],[100,200,300,400,500]],\"type\":\"surface\"}],                        {\"legend\":{\"bgcolor\":\"#F5F6F9\",\"font\":{\"color\":\"#4D5663\"}},\"paper_bgcolor\":\"#F5F6F9\",\"plot_bgcolor\":\"#F5F6F9\",\"template\":{\"data\":{\"barpolar\":[{\"marker\":{\"line\":{\"color\":\"#E5ECF6\",\"width\":0.5},\"pattern\":{\"fillmode\":\"overlay\",\"size\":10,\"solidity\":0.2}},\"type\":\"barpolar\"}],\"bar\":[{\"error_x\":{\"color\":\"#2a3f5f\"},\"error_y\":{\"color\":\"#2a3f5f\"},\"marker\":{\"line\":{\"color\":\"#E5ECF6\",\"width\":0.5},\"pattern\":{\"fillmode\":\"overlay\",\"size\":10,\"solidity\":0.2}},\"type\":\"bar\"}],\"carpet\":[{\"aaxis\":{\"endlinecolor\":\"#2a3f5f\",\"gridcolor\":\"white\",\"linecolor\":\"white\",\"minorgridcolor\":\"white\",\"startlinecolor\":\"#2a3f5f\"},\"baxis\":{\"endlinecolor\":\"#2a3f5f\",\"gridcolor\":\"white\",\"linecolor\":\"white\",\"minorgridcolor\":\"white\",\"startlinecolor\":\"#2a3f5f\"},\"type\":\"carpet\"}],\"choropleth\":[{\"colorbar\":{\"outlinewidth\":0,\"ticks\":\"\"},\"type\":\"choropleth\"}],\"contourcarpet\":[{\"colorbar\":{\"outlinewidth\":0,\"ticks\":\"\"},\"type\":\"contourcarpet\"}],\"contour\":[{\"colorbar\":{\"outlinewidth\":0,\"ticks\":\"\"},\"colorscale\":[[0.0,\"#0d0887\"],[0.1111111111111111,\"#46039f\"],[0.2222222222222222,\"#7201a8\"],[0.3333333333333333,\"#9c179e\"],[0.4444444444444444,\"#bd3786\"],[0.5555555555555556,\"#d8576b\"],[0.6666666666666666,\"#ed7953\"],[0.7777777777777778,\"#fb9f3a\"],[0.8888888888888888,\"#fdca26\"],[1.0,\"#f0f921\"]],\"type\":\"contour\"}],\"heatmapgl\":[{\"colorbar\":{\"outlinewidth\":0,\"ticks\":\"\"},\"colorscale\":[[0.0,\"#0d0887\"],[0.1111111111111111,\"#46039f\"],[0.2222222222222222,\"#7201a8\"],[0.3333333333333333,\"#9c179e\"],[0.4444444444444444,\"#bd3786\"],[0.5555555555555556,\"#d8576b\"],[0.6666666666666666,\"#ed7953\"],[0.7777777777777778,\"#fb9f3a\"],[0.8888888888888888,\"#fdca26\"],[1.0,\"#f0f921\"]],\"type\":\"heatmapgl\"}],\"heatmap\":[{\"colorbar\":{\"outlinewidth\":0,\"ticks\":\"\"},\"colorscale\":[[0.0,\"#0d0887\"],[0.1111111111111111,\"#46039f\"],[0.2222222222222222,\"#7201a8\"],[0.3333333333333333,\"#9c179e\"],[0.4444444444444444,\"#bd3786\"],[0.5555555555555556,\"#d8576b\"],[0.6666666666666666,\"#ed7953\"],[0.7777777777777778,\"#fb9f3a\"],[0.8888888888888888,\"#fdca26\"],[1.0,\"#f0f921\"]],\"type\":\"heatmap\"}],\"histogram2dcontour\":[{\"colorbar\":{\"outlinewidth\":0,\"ticks\":\"\"},\"colorscale\":[[0.0,\"#0d0887\"],[0.1111111111111111,\"#46039f\"],[0.2222222222222222,\"#7201a8\"],[0.3333333333333333,\"#9c179e\"],[0.4444444444444444,\"#bd3786\"],[0.5555555555555556,\"#d8576b\"],[0.6666666666666666,\"#ed7953\"],[0.7777777777777778,\"#fb9f3a\"],[0.8888888888888888,\"#fdca26\"],[1.0,\"#f0f921\"]],\"type\":\"histogram2dcontour\"}],\"histogram2d\":[{\"colorbar\":{\"outlinewidth\":0,\"ticks\":\"\"},\"colorscale\":[[0.0,\"#0d0887\"],[0.1111111111111111,\"#46039f\"],[0.2222222222222222,\"#7201a8\"],[0.3333333333333333,\"#9c179e\"],[0.4444444444444444,\"#bd3786\"],[0.5555555555555556,\"#d8576b\"],[0.6666666666666666,\"#ed7953\"],[0.7777777777777778,\"#fb9f3a\"],[0.8888888888888888,\"#fdca26\"],[1.0,\"#f0f921\"]],\"type\":\"histogram2d\"}],\"histogram\":[{\"marker\":{\"pattern\":{\"fillmode\":\"overlay\",\"size\":10,\"solidity\":0.2}},\"type\":\"histogram\"}],\"mesh3d\":[{\"colorbar\":{\"outlinewidth\":0,\"ticks\":\"\"},\"type\":\"mesh3d\"}],\"parcoords\":[{\"line\":{\"colorbar\":{\"outlinewidth\":0,\"ticks\":\"\"}},\"type\":\"parcoords\"}],\"pie\":[{\"automargin\":true,\"type\":\"pie\"}],\"scatter3d\":[{\"line\":{\"colorbar\":{\"outlinewidth\":0,\"ticks\":\"\"}},\"marker\":{\"colorbar\":{\"outlinewidth\":0,\"ticks\":\"\"}},\"type\":\"scatter3d\"}],\"scattercarpet\":[{\"marker\":{\"colorbar\":{\"outlinewidth\":0,\"ticks\":\"\"}},\"type\":\"scattercarpet\"}],\"scattergeo\":[{\"marker\":{\"colorbar\":{\"outlinewidth\":0,\"ticks\":\"\"}},\"type\":\"scattergeo\"}],\"scattergl\":[{\"marker\":{\"colorbar\":{\"outlinewidth\":0,\"ticks\":\"\"}},\"type\":\"scattergl\"}],\"scattermapbox\":[{\"marker\":{\"colorbar\":{\"outlinewidth\":0,\"ticks\":\"\"}},\"type\":\"scattermapbox\"}],\"scatterpolargl\":[{\"marker\":{\"colorbar\":{\"outlinewidth\":0,\"ticks\":\"\"}},\"type\":\"scatterpolargl\"}],\"scatterpolar\":[{\"marker\":{\"colorbar\":{\"outlinewidth\":0,\"ticks\":\"\"}},\"type\":\"scatterpolar\"}],\"scatter\":[{\"fillpattern\":{\"fillmode\":\"overlay\",\"size\":10,\"solidity\":0.2},\"type\":\"scatter\"}],\"scatterternary\":[{\"marker\":{\"colorbar\":{\"outlinewidth\":0,\"ticks\":\"\"}},\"type\":\"scatterternary\"}],\"surface\":[{\"colorbar\":{\"outlinewidth\":0,\"ticks\":\"\"},\"colorscale\":[[0.0,\"#0d0887\"],[0.1111111111111111,\"#46039f\"],[0.2222222222222222,\"#7201a8\"],[0.3333333333333333,\"#9c179e\"],[0.4444444444444444,\"#bd3786\"],[0.5555555555555556,\"#d8576b\"],[0.6666666666666666,\"#ed7953\"],[0.7777777777777778,\"#fb9f3a\"],[0.8888888888888888,\"#fdca26\"],[1.0,\"#f0f921\"]],\"type\":\"surface\"}],\"table\":[{\"cells\":{\"fill\":{\"color\":\"#EBF0F8\"},\"line\":{\"color\":\"white\"}},\"header\":{\"fill\":{\"color\":\"#C8D4E3\"},\"line\":{\"color\":\"white\"}},\"type\":\"table\"}]},\"layout\":{\"annotationdefaults\":{\"arrowcolor\":\"#2a3f5f\",\"arrowhead\":0,\"arrowwidth\":1},\"autotypenumbers\":\"strict\",\"coloraxis\":{\"colorbar\":{\"outlinewidth\":0,\"ticks\":\"\"}},\"colorscale\":{\"diverging\":[[0,\"#8e0152\"],[0.1,\"#c51b7d\"],[0.2,\"#de77ae\"],[0.3,\"#f1b6da\"],[0.4,\"#fde0ef\"],[0.5,\"#f7f7f7\"],[0.6,\"#e6f5d0\"],[0.7,\"#b8e186\"],[0.8,\"#7fbc41\"],[0.9,\"#4d9221\"],[1,\"#276419\"]],\"sequential\":[[0.0,\"#0d0887\"],[0.1111111111111111,\"#46039f\"],[0.2222222222222222,\"#7201a8\"],[0.3333333333333333,\"#9c179e\"],[0.4444444444444444,\"#bd3786\"],[0.5555555555555556,\"#d8576b\"],[0.6666666666666666,\"#ed7953\"],[0.7777777777777778,\"#fb9f3a\"],[0.8888888888888888,\"#fdca26\"],[1.0,\"#f0f921\"]],\"sequentialminus\":[[0.0,\"#0d0887\"],[0.1111111111111111,\"#46039f\"],[0.2222222222222222,\"#7201a8\"],[0.3333333333333333,\"#9c179e\"],[0.4444444444444444,\"#bd3786\"],[0.5555555555555556,\"#d8576b\"],[0.6666666666666666,\"#ed7953\"],[0.7777777777777778,\"#fb9f3a\"],[0.8888888888888888,\"#fdca26\"],[1.0,\"#f0f921\"]]},\"colorway\":[\"#636efa\",\"#EF553B\",\"#00cc96\",\"#ab63fa\",\"#FFA15A\",\"#19d3f3\",\"#FF6692\",\"#B6E880\",\"#FF97FF\",\"#FECB52\"],\"font\":{\"color\":\"#2a3f5f\"},\"geo\":{\"bgcolor\":\"white\",\"lakecolor\":\"white\",\"landcolor\":\"#E5ECF6\",\"showlakes\":true,\"showland\":true,\"subunitcolor\":\"white\"},\"hoverlabel\":{\"align\":\"left\"},\"hovermode\":\"closest\",\"mapbox\":{\"style\":\"light\"},\"paper_bgcolor\":\"white\",\"plot_bgcolor\":\"#E5ECF6\",\"polar\":{\"angularaxis\":{\"gridcolor\":\"white\",\"linecolor\":\"white\",\"ticks\":\"\"},\"bgcolor\":\"#E5ECF6\",\"radialaxis\":{\"gridcolor\":\"white\",\"linecolor\":\"white\",\"ticks\":\"\"}},\"scene\":{\"xaxis\":{\"backgroundcolor\":\"#E5ECF6\",\"gridcolor\":\"white\",\"gridwidth\":2,\"linecolor\":\"white\",\"showbackground\":true,\"ticks\":\"\",\"zerolinecolor\":\"white\"},\"yaxis\":{\"backgroundcolor\":\"#E5ECF6\",\"gridcolor\":\"white\",\"gridwidth\":2,\"linecolor\":\"white\",\"showbackground\":true,\"ticks\":\"\",\"zerolinecolor\":\"white\"},\"zaxis\":{\"backgroundcolor\":\"#E5ECF6\",\"gridcolor\":\"white\",\"gridwidth\":2,\"linecolor\":\"white\",\"showbackground\":true,\"ticks\":\"\",\"zerolinecolor\":\"white\"}},\"shapedefaults\":{\"line\":{\"color\":\"#2a3f5f\"}},\"ternary\":{\"aaxis\":{\"gridcolor\":\"white\",\"linecolor\":\"white\",\"ticks\":\"\"},\"baxis\":{\"gridcolor\":\"white\",\"linecolor\":\"white\",\"ticks\":\"\"},\"bgcolor\":\"#E5ECF6\",\"caxis\":{\"gridcolor\":\"white\",\"linecolor\":\"white\",\"ticks\":\"\"}},\"title\":{\"x\":0.05},\"xaxis\":{\"automargin\":true,\"gridcolor\":\"white\",\"linecolor\":\"white\",\"ticks\":\"\",\"title\":{\"standoff\":15},\"zerolinecolor\":\"white\",\"zerolinewidth\":2},\"yaxis\":{\"automargin\":true,\"gridcolor\":\"white\",\"linecolor\":\"white\",\"ticks\":\"\",\"title\":{\"standoff\":15},\"zerolinecolor\":\"white\",\"zerolinewidth\":2}}},\"title\":{\"font\":{\"color\":\"#4D5663\"}},\"xaxis\":{\"gridcolor\":\"#E1E5ED\",\"showgrid\":true,\"tickfont\":{\"color\":\"#4D5663\"},\"title\":{\"font\":{\"color\":\"#4D5663\"},\"text\":\"\"},\"zerolinecolor\":\"#E1E5ED\"},\"yaxis\":{\"gridcolor\":\"#E1E5ED\",\"showgrid\":true,\"tickfont\":{\"color\":\"#4D5663\"},\"title\":{\"font\":{\"color\":\"#4D5663\"},\"text\":\"\"},\"zerolinecolor\":\"#E1E5ED\"}},                        {\"showLink\": true, \"linkText\": \"Export to plot.ly\", \"plotlyServerURL\": \"https://plot.ly\", \"responsive\": true}                    ).then(function(){\n",
       "                            \n",
       "var gd = document.getElementById('a134d9e9-dffb-4123-9d6c-7f6b192c6caa');\n",
       "var x = new MutationObserver(function (mutations, observer) {{\n",
       "        var display = window.getComputedStyle(gd).display;\n",
       "        if (!display || display === 'none') {{\n",
       "            console.log([gd, 'removed!']);\n",
       "            Plotly.purge(gd);\n",
       "            observer.disconnect();\n",
       "        }}\n",
       "}});\n",
       "\n",
       "// Listen for the removal of the full notebook cells\n",
       "var notebookContainer = gd.closest('#notebook-container');\n",
       "if (notebookContainer) {{\n",
       "    x.observe(notebookContainer, {childList: true});\n",
       "}}\n",
       "\n",
       "// Listen for the clearing of the current output cell\n",
       "var outputEl = gd.closest('.output');\n",
       "if (outputEl) {{\n",
       "    x.observe(outputEl, {childList: true});\n",
       "}}\n",
       "\n",
       "                        })                };                });            </script>        </div>"
      ]
     },
     "metadata": {},
     "output_type": "display_data"
    }
   ],
   "source": [
    "# change color scheme\n",
    "df3.iplot(kind='surface', colorscale='rdylbu')"
   ]
  },
  {
   "cell_type": "code",
   "execution_count": 43,
   "metadata": {},
   "outputs": [
    {
     "data": {
      "application/vnd.plotly.v1+json": {
       "config": {
        "linkText": "Export to plot.ly",
        "plotlyServerURL": "https://plot.ly",
        "showLink": true
       },
       "data": [
        {
         "histfunc": "count",
         "histnorm": "",
         "marker": {
          "color": "rgba(255, 153, 51, 1.0)",
          "line": {
           "color": "#4D5663",
           "width": 1.3
          }
         },
         "name": "A",
         "nbinsx": 50,
         "opacity": 0.8,
         "orientation": "v",
         "type": "histogram",
         "x": [
          -0.013575241110450833,
          0.2014623469983288,
          -0.0899174937991628,
          0.14630244753708072,
          -1.4024321759431153,
          0.9439764762749664,
          -0.06382546259278613,
          0.9982777327924083,
          -0.4738871296179397,
          -1.7479270508567541,
          1.2896284502503772,
          -0.04094150702985916,
          1.1814727250692378,
          -0.04157675514734971,
          -1.6784201398008336,
          0.47505030888120736,
          0.7132508636230379,
          -0.24799219632184952,
          0.498384065116775,
          -0.7430537436978263,
          -0.5943008339808885,
          -0.33906026487962165,
          1.4230113577354255,
          -1.1356125023659205,
          -0.7194920556774836,
          0.40350687564521937,
          0.09680216062296426,
          1.4865354363232182,
          1.2837062691204009,
          -1.0449294104369733,
          -0.6046026297845802,
          1.035080585844793,
          -0.4781821091586237,
          0.5065245619851478,
          -0.054456558223678724,
          -0.2900838094108421,
          1.2672416269601274,
          1.5008075582806726,
          -1.194091196522751,
          0.2698019492376579,
          -1.3824745155019331,
          -0.6850572186353427,
          -0.19631292310626414,
          -1.7805521599361438,
          0.3631036285353618,
          0.6483575919989167,
          -0.8944577060934934,
          -0.45196364550134455,
          1.1847861292974133,
          -1.8807707543177625,
          -1.2730083730328554,
          -0.985849891541202,
          1.515677949465927,
          2.0874223263641296,
          0.2095676374486414,
          -1.8683151904123785,
          -0.6105186098607324,
          -1.5130203096464259,
          -0.0003192758589660021,
          -0.2349119693895656,
          2.1403613710248126,
          0.5017449877885893,
          -0.8644251613155253,
          -0.18257031359149076,
          0.4680037222306966,
          1.0298039480230532,
          1.6891500537933402,
          -1.6723929936831465,
          -1.5452705113745921,
          1.7062784160701598,
          -0.9945442447534536,
          -0.7774222561957261,
          -0.340371918308804,
          0.4775565849235679,
          -0.1464000856716878,
          -0.6662999728881014,
          -0.346476421279362,
          1.1186333582116288,
          1.7342334819205307,
          -0.15328405276518267,
          1.3265505703328604,
          0.2757959579792867,
          0.7440128032532201,
          0.5657951535956439,
          -1.2062365572122227,
          -1.146436230453736,
          -1.196647336791392,
          0.4486528374273348,
          0.8709122796607749,
          1.6626797853566428,
          1.291632918517345,
          -0.4326167764627019,
          0.010208309112078297,
          -0.4199867337686686,
          -2.454723215844547,
          0.06614779474923367,
          -0.2915800212075181,
          2.1053698664072478,
          -0.3762600092064639,
          0.6001534852873674
         ]
        }
       ],
       "layout": {
        "barmode": "overlay",
        "legend": {
         "bgcolor": "#F5F6F9",
         "font": {
          "color": "#4D5663"
         }
        },
        "paper_bgcolor": "#F5F6F9",
        "plot_bgcolor": "#F5F6F9",
        "template": {
         "data": {
          "bar": [
           {
            "error_x": {
             "color": "#2a3f5f"
            },
            "error_y": {
             "color": "#2a3f5f"
            },
            "marker": {
             "line": {
              "color": "#E5ECF6",
              "width": 0.5
             },
             "pattern": {
              "fillmode": "overlay",
              "size": 10,
              "solidity": 0.2
             }
            },
            "type": "bar"
           }
          ],
          "barpolar": [
           {
            "marker": {
             "line": {
              "color": "#E5ECF6",
              "width": 0.5
             },
             "pattern": {
              "fillmode": "overlay",
              "size": 10,
              "solidity": 0.2
             }
            },
            "type": "barpolar"
           }
          ],
          "carpet": [
           {
            "aaxis": {
             "endlinecolor": "#2a3f5f",
             "gridcolor": "white",
             "linecolor": "white",
             "minorgridcolor": "white",
             "startlinecolor": "#2a3f5f"
            },
            "baxis": {
             "endlinecolor": "#2a3f5f",
             "gridcolor": "white",
             "linecolor": "white",
             "minorgridcolor": "white",
             "startlinecolor": "#2a3f5f"
            },
            "type": "carpet"
           }
          ],
          "choropleth": [
           {
            "colorbar": {
             "outlinewidth": 0,
             "ticks": ""
            },
            "type": "choropleth"
           }
          ],
          "contour": [
           {
            "colorbar": {
             "outlinewidth": 0,
             "ticks": ""
            },
            "colorscale": [
             [
              0,
              "#0d0887"
             ],
             [
              0.1111111111111111,
              "#46039f"
             ],
             [
              0.2222222222222222,
              "#7201a8"
             ],
             [
              0.3333333333333333,
              "#9c179e"
             ],
             [
              0.4444444444444444,
              "#bd3786"
             ],
             [
              0.5555555555555556,
              "#d8576b"
             ],
             [
              0.6666666666666666,
              "#ed7953"
             ],
             [
              0.7777777777777778,
              "#fb9f3a"
             ],
             [
              0.8888888888888888,
              "#fdca26"
             ],
             [
              1,
              "#f0f921"
             ]
            ],
            "type": "contour"
           }
          ],
          "contourcarpet": [
           {
            "colorbar": {
             "outlinewidth": 0,
             "ticks": ""
            },
            "type": "contourcarpet"
           }
          ],
          "heatmap": [
           {
            "colorbar": {
             "outlinewidth": 0,
             "ticks": ""
            },
            "colorscale": [
             [
              0,
              "#0d0887"
             ],
             [
              0.1111111111111111,
              "#46039f"
             ],
             [
              0.2222222222222222,
              "#7201a8"
             ],
             [
              0.3333333333333333,
              "#9c179e"
             ],
             [
              0.4444444444444444,
              "#bd3786"
             ],
             [
              0.5555555555555556,
              "#d8576b"
             ],
             [
              0.6666666666666666,
              "#ed7953"
             ],
             [
              0.7777777777777778,
              "#fb9f3a"
             ],
             [
              0.8888888888888888,
              "#fdca26"
             ],
             [
              1,
              "#f0f921"
             ]
            ],
            "type": "heatmap"
           }
          ],
          "heatmapgl": [
           {
            "colorbar": {
             "outlinewidth": 0,
             "ticks": ""
            },
            "colorscale": [
             [
              0,
              "#0d0887"
             ],
             [
              0.1111111111111111,
              "#46039f"
             ],
             [
              0.2222222222222222,
              "#7201a8"
             ],
             [
              0.3333333333333333,
              "#9c179e"
             ],
             [
              0.4444444444444444,
              "#bd3786"
             ],
             [
              0.5555555555555556,
              "#d8576b"
             ],
             [
              0.6666666666666666,
              "#ed7953"
             ],
             [
              0.7777777777777778,
              "#fb9f3a"
             ],
             [
              0.8888888888888888,
              "#fdca26"
             ],
             [
              1,
              "#f0f921"
             ]
            ],
            "type": "heatmapgl"
           }
          ],
          "histogram": [
           {
            "marker": {
             "pattern": {
              "fillmode": "overlay",
              "size": 10,
              "solidity": 0.2
             }
            },
            "type": "histogram"
           }
          ],
          "histogram2d": [
           {
            "colorbar": {
             "outlinewidth": 0,
             "ticks": ""
            },
            "colorscale": [
             [
              0,
              "#0d0887"
             ],
             [
              0.1111111111111111,
              "#46039f"
             ],
             [
              0.2222222222222222,
              "#7201a8"
             ],
             [
              0.3333333333333333,
              "#9c179e"
             ],
             [
              0.4444444444444444,
              "#bd3786"
             ],
             [
              0.5555555555555556,
              "#d8576b"
             ],
             [
              0.6666666666666666,
              "#ed7953"
             ],
             [
              0.7777777777777778,
              "#fb9f3a"
             ],
             [
              0.8888888888888888,
              "#fdca26"
             ],
             [
              1,
              "#f0f921"
             ]
            ],
            "type": "histogram2d"
           }
          ],
          "histogram2dcontour": [
           {
            "colorbar": {
             "outlinewidth": 0,
             "ticks": ""
            },
            "colorscale": [
             [
              0,
              "#0d0887"
             ],
             [
              0.1111111111111111,
              "#46039f"
             ],
             [
              0.2222222222222222,
              "#7201a8"
             ],
             [
              0.3333333333333333,
              "#9c179e"
             ],
             [
              0.4444444444444444,
              "#bd3786"
             ],
             [
              0.5555555555555556,
              "#d8576b"
             ],
             [
              0.6666666666666666,
              "#ed7953"
             ],
             [
              0.7777777777777778,
              "#fb9f3a"
             ],
             [
              0.8888888888888888,
              "#fdca26"
             ],
             [
              1,
              "#f0f921"
             ]
            ],
            "type": "histogram2dcontour"
           }
          ],
          "mesh3d": [
           {
            "colorbar": {
             "outlinewidth": 0,
             "ticks": ""
            },
            "type": "mesh3d"
           }
          ],
          "parcoords": [
           {
            "line": {
             "colorbar": {
              "outlinewidth": 0,
              "ticks": ""
             }
            },
            "type": "parcoords"
           }
          ],
          "pie": [
           {
            "automargin": true,
            "type": "pie"
           }
          ],
          "scatter": [
           {
            "fillpattern": {
             "fillmode": "overlay",
             "size": 10,
             "solidity": 0.2
            },
            "type": "scatter"
           }
          ],
          "scatter3d": [
           {
            "line": {
             "colorbar": {
              "outlinewidth": 0,
              "ticks": ""
             }
            },
            "marker": {
             "colorbar": {
              "outlinewidth": 0,
              "ticks": ""
             }
            },
            "type": "scatter3d"
           }
          ],
          "scattercarpet": [
           {
            "marker": {
             "colorbar": {
              "outlinewidth": 0,
              "ticks": ""
             }
            },
            "type": "scattercarpet"
           }
          ],
          "scattergeo": [
           {
            "marker": {
             "colorbar": {
              "outlinewidth": 0,
              "ticks": ""
             }
            },
            "type": "scattergeo"
           }
          ],
          "scattergl": [
           {
            "marker": {
             "colorbar": {
              "outlinewidth": 0,
              "ticks": ""
             }
            },
            "type": "scattergl"
           }
          ],
          "scattermapbox": [
           {
            "marker": {
             "colorbar": {
              "outlinewidth": 0,
              "ticks": ""
             }
            },
            "type": "scattermapbox"
           }
          ],
          "scatterpolar": [
           {
            "marker": {
             "colorbar": {
              "outlinewidth": 0,
              "ticks": ""
             }
            },
            "type": "scatterpolar"
           }
          ],
          "scatterpolargl": [
           {
            "marker": {
             "colorbar": {
              "outlinewidth": 0,
              "ticks": ""
             }
            },
            "type": "scatterpolargl"
           }
          ],
          "scatterternary": [
           {
            "marker": {
             "colorbar": {
              "outlinewidth": 0,
              "ticks": ""
             }
            },
            "type": "scatterternary"
           }
          ],
          "surface": [
           {
            "colorbar": {
             "outlinewidth": 0,
             "ticks": ""
            },
            "colorscale": [
             [
              0,
              "#0d0887"
             ],
             [
              0.1111111111111111,
              "#46039f"
             ],
             [
              0.2222222222222222,
              "#7201a8"
             ],
             [
              0.3333333333333333,
              "#9c179e"
             ],
             [
              0.4444444444444444,
              "#bd3786"
             ],
             [
              0.5555555555555556,
              "#d8576b"
             ],
             [
              0.6666666666666666,
              "#ed7953"
             ],
             [
              0.7777777777777778,
              "#fb9f3a"
             ],
             [
              0.8888888888888888,
              "#fdca26"
             ],
             [
              1,
              "#f0f921"
             ]
            ],
            "type": "surface"
           }
          ],
          "table": [
           {
            "cells": {
             "fill": {
              "color": "#EBF0F8"
             },
             "line": {
              "color": "white"
             }
            },
            "header": {
             "fill": {
              "color": "#C8D4E3"
             },
             "line": {
              "color": "white"
             }
            },
            "type": "table"
           }
          ]
         },
         "layout": {
          "annotationdefaults": {
           "arrowcolor": "#2a3f5f",
           "arrowhead": 0,
           "arrowwidth": 1
          },
          "autotypenumbers": "strict",
          "coloraxis": {
           "colorbar": {
            "outlinewidth": 0,
            "ticks": ""
           }
          },
          "colorscale": {
           "diverging": [
            [
             0,
             "#8e0152"
            ],
            [
             0.1,
             "#c51b7d"
            ],
            [
             0.2,
             "#de77ae"
            ],
            [
             0.3,
             "#f1b6da"
            ],
            [
             0.4,
             "#fde0ef"
            ],
            [
             0.5,
             "#f7f7f7"
            ],
            [
             0.6,
             "#e6f5d0"
            ],
            [
             0.7,
             "#b8e186"
            ],
            [
             0.8,
             "#7fbc41"
            ],
            [
             0.9,
             "#4d9221"
            ],
            [
             1,
             "#276419"
            ]
           ],
           "sequential": [
            [
             0,
             "#0d0887"
            ],
            [
             0.1111111111111111,
             "#46039f"
            ],
            [
             0.2222222222222222,
             "#7201a8"
            ],
            [
             0.3333333333333333,
             "#9c179e"
            ],
            [
             0.4444444444444444,
             "#bd3786"
            ],
            [
             0.5555555555555556,
             "#d8576b"
            ],
            [
             0.6666666666666666,
             "#ed7953"
            ],
            [
             0.7777777777777778,
             "#fb9f3a"
            ],
            [
             0.8888888888888888,
             "#fdca26"
            ],
            [
             1,
             "#f0f921"
            ]
           ],
           "sequentialminus": [
            [
             0,
             "#0d0887"
            ],
            [
             0.1111111111111111,
             "#46039f"
            ],
            [
             0.2222222222222222,
             "#7201a8"
            ],
            [
             0.3333333333333333,
             "#9c179e"
            ],
            [
             0.4444444444444444,
             "#bd3786"
            ],
            [
             0.5555555555555556,
             "#d8576b"
            ],
            [
             0.6666666666666666,
             "#ed7953"
            ],
            [
             0.7777777777777778,
             "#fb9f3a"
            ],
            [
             0.8888888888888888,
             "#fdca26"
            ],
            [
             1,
             "#f0f921"
            ]
           ]
          },
          "colorway": [
           "#636efa",
           "#EF553B",
           "#00cc96",
           "#ab63fa",
           "#FFA15A",
           "#19d3f3",
           "#FF6692",
           "#B6E880",
           "#FF97FF",
           "#FECB52"
          ],
          "font": {
           "color": "#2a3f5f"
          },
          "geo": {
           "bgcolor": "white",
           "lakecolor": "white",
           "landcolor": "#E5ECF6",
           "showlakes": true,
           "showland": true,
           "subunitcolor": "white"
          },
          "hoverlabel": {
           "align": "left"
          },
          "hovermode": "closest",
          "mapbox": {
           "style": "light"
          },
          "paper_bgcolor": "white",
          "plot_bgcolor": "#E5ECF6",
          "polar": {
           "angularaxis": {
            "gridcolor": "white",
            "linecolor": "white",
            "ticks": ""
           },
           "bgcolor": "#E5ECF6",
           "radialaxis": {
            "gridcolor": "white",
            "linecolor": "white",
            "ticks": ""
           }
          },
          "scene": {
           "xaxis": {
            "backgroundcolor": "#E5ECF6",
            "gridcolor": "white",
            "gridwidth": 2,
            "linecolor": "white",
            "showbackground": true,
            "ticks": "",
            "zerolinecolor": "white"
           },
           "yaxis": {
            "backgroundcolor": "#E5ECF6",
            "gridcolor": "white",
            "gridwidth": 2,
            "linecolor": "white",
            "showbackground": true,
            "ticks": "",
            "zerolinecolor": "white"
           },
           "zaxis": {
            "backgroundcolor": "#E5ECF6",
            "gridcolor": "white",
            "gridwidth": 2,
            "linecolor": "white",
            "showbackground": true,
            "ticks": "",
            "zerolinecolor": "white"
           }
          },
          "shapedefaults": {
           "line": {
            "color": "#2a3f5f"
           }
          },
          "ternary": {
           "aaxis": {
            "gridcolor": "white",
            "linecolor": "white",
            "ticks": ""
           },
           "baxis": {
            "gridcolor": "white",
            "linecolor": "white",
            "ticks": ""
           },
           "bgcolor": "#E5ECF6",
           "caxis": {
            "gridcolor": "white",
            "linecolor": "white",
            "ticks": ""
           }
          },
          "title": {
           "x": 0.05
          },
          "xaxis": {
           "automargin": true,
           "gridcolor": "white",
           "linecolor": "white",
           "ticks": "",
           "title": {
            "standoff": 15
           },
           "zerolinecolor": "white",
           "zerolinewidth": 2
          },
          "yaxis": {
           "automargin": true,
           "gridcolor": "white",
           "linecolor": "white",
           "ticks": "",
           "title": {
            "standoff": 15
           },
           "zerolinecolor": "white",
           "zerolinewidth": 2
          }
         }
        },
        "title": {
         "font": {
          "color": "#4D5663"
         }
        },
        "xaxis": {
         "gridcolor": "#E1E5ED",
         "showgrid": true,
         "tickfont": {
          "color": "#4D5663"
         },
         "title": {
          "font": {
           "color": "#4D5663"
          },
          "text": ""
         },
         "zerolinecolor": "#E1E5ED"
        },
        "yaxis": {
         "gridcolor": "#E1E5ED",
         "showgrid": true,
         "tickfont": {
          "color": "#4D5663"
         },
         "title": {
          "font": {
           "color": "#4D5663"
          },
          "text": ""
         },
         "zerolinecolor": "#E1E5ED"
        }
       }
      },
      "text/html": [
       "<div>                            <div id=\"d36d5a42-a00e-48ee-a44a-7b9f26771b39\" class=\"plotly-graph-div\" style=\"height:525px; width:100%;\"></div>            <script type=\"text/javascript\">                require([\"plotly\"], function(Plotly) {                    window.PLOTLYENV=window.PLOTLYENV || {};\n",
       "                    window.PLOTLYENV.BASE_URL='https://plot.ly';                                    if (document.getElementById(\"d36d5a42-a00e-48ee-a44a-7b9f26771b39\")) {                    Plotly.newPlot(                        \"d36d5a42-a00e-48ee-a44a-7b9f26771b39\",                        [{\"histfunc\":\"count\",\"histnorm\":\"\",\"marker\":{\"color\":\"rgba(255, 153, 51, 1.0)\",\"line\":{\"color\":\"#4D5663\",\"width\":1.3}},\"name\":\"A\",\"nbinsx\":50,\"opacity\":0.8,\"orientation\":\"v\",\"x\":[-0.013575241110450833,0.2014623469983288,-0.0899174937991628,0.14630244753708072,-1.4024321759431153,0.9439764762749664,-0.06382546259278613,0.9982777327924083,-0.4738871296179397,-1.7479270508567541,1.2896284502503772,-0.04094150702985916,1.1814727250692378,-0.04157675514734971,-1.6784201398008336,0.47505030888120736,0.7132508636230379,-0.24799219632184952,0.498384065116775,-0.7430537436978263,-0.5943008339808885,-0.33906026487962165,1.4230113577354255,-1.1356125023659205,-0.7194920556774836,0.40350687564521937,0.09680216062296426,1.4865354363232182,1.2837062691204009,-1.0449294104369733,-0.6046026297845802,1.035080585844793,-0.4781821091586237,0.5065245619851478,-0.054456558223678724,-0.2900838094108421,1.2672416269601274,1.5008075582806726,-1.194091196522751,0.2698019492376579,-1.3824745155019331,-0.6850572186353427,-0.19631292310626414,-1.7805521599361438,0.3631036285353618,0.6483575919989167,-0.8944577060934934,-0.45196364550134455,1.1847861292974133,-1.8807707543177625,-1.2730083730328554,-0.985849891541202,1.515677949465927,2.0874223263641296,0.2095676374486414,-1.8683151904123785,-0.6105186098607324,-1.5130203096464259,-0.0003192758589660021,-0.2349119693895656,2.1403613710248126,0.5017449877885893,-0.8644251613155253,-0.18257031359149076,0.4680037222306966,1.0298039480230532,1.6891500537933402,-1.6723929936831465,-1.5452705113745921,1.7062784160701598,-0.9945442447534536,-0.7774222561957261,-0.340371918308804,0.4775565849235679,-0.1464000856716878,-0.6662999728881014,-0.346476421279362,1.1186333582116288,1.7342334819205307,-0.15328405276518267,1.3265505703328604,0.2757959579792867,0.7440128032532201,0.5657951535956439,-1.2062365572122227,-1.146436230453736,-1.196647336791392,0.4486528374273348,0.8709122796607749,1.6626797853566428,1.291632918517345,-0.4326167764627019,0.010208309112078297,-0.4199867337686686,-2.454723215844547,0.06614779474923367,-0.2915800212075181,2.1053698664072478,-0.3762600092064639,0.6001534852873674],\"type\":\"histogram\"}],                        {\"barmode\":\"overlay\",\"legend\":{\"bgcolor\":\"#F5F6F9\",\"font\":{\"color\":\"#4D5663\"}},\"paper_bgcolor\":\"#F5F6F9\",\"plot_bgcolor\":\"#F5F6F9\",\"template\":{\"data\":{\"barpolar\":[{\"marker\":{\"line\":{\"color\":\"#E5ECF6\",\"width\":0.5},\"pattern\":{\"fillmode\":\"overlay\",\"size\":10,\"solidity\":0.2}},\"type\":\"barpolar\"}],\"bar\":[{\"error_x\":{\"color\":\"#2a3f5f\"},\"error_y\":{\"color\":\"#2a3f5f\"},\"marker\":{\"line\":{\"color\":\"#E5ECF6\",\"width\":0.5},\"pattern\":{\"fillmode\":\"overlay\",\"size\":10,\"solidity\":0.2}},\"type\":\"bar\"}],\"carpet\":[{\"aaxis\":{\"endlinecolor\":\"#2a3f5f\",\"gridcolor\":\"white\",\"linecolor\":\"white\",\"minorgridcolor\":\"white\",\"startlinecolor\":\"#2a3f5f\"},\"baxis\":{\"endlinecolor\":\"#2a3f5f\",\"gridcolor\":\"white\",\"linecolor\":\"white\",\"minorgridcolor\":\"white\",\"startlinecolor\":\"#2a3f5f\"},\"type\":\"carpet\"}],\"choropleth\":[{\"colorbar\":{\"outlinewidth\":0,\"ticks\":\"\"},\"type\":\"choropleth\"}],\"contourcarpet\":[{\"colorbar\":{\"outlinewidth\":0,\"ticks\":\"\"},\"type\":\"contourcarpet\"}],\"contour\":[{\"colorbar\":{\"outlinewidth\":0,\"ticks\":\"\"},\"colorscale\":[[0.0,\"#0d0887\"],[0.1111111111111111,\"#46039f\"],[0.2222222222222222,\"#7201a8\"],[0.3333333333333333,\"#9c179e\"],[0.4444444444444444,\"#bd3786\"],[0.5555555555555556,\"#d8576b\"],[0.6666666666666666,\"#ed7953\"],[0.7777777777777778,\"#fb9f3a\"],[0.8888888888888888,\"#fdca26\"],[1.0,\"#f0f921\"]],\"type\":\"contour\"}],\"heatmapgl\":[{\"colorbar\":{\"outlinewidth\":0,\"ticks\":\"\"},\"colorscale\":[[0.0,\"#0d0887\"],[0.1111111111111111,\"#46039f\"],[0.2222222222222222,\"#7201a8\"],[0.3333333333333333,\"#9c179e\"],[0.4444444444444444,\"#bd3786\"],[0.5555555555555556,\"#d8576b\"],[0.6666666666666666,\"#ed7953\"],[0.7777777777777778,\"#fb9f3a\"],[0.8888888888888888,\"#fdca26\"],[1.0,\"#f0f921\"]],\"type\":\"heatmapgl\"}],\"heatmap\":[{\"colorbar\":{\"outlinewidth\":0,\"ticks\":\"\"},\"colorscale\":[[0.0,\"#0d0887\"],[0.1111111111111111,\"#46039f\"],[0.2222222222222222,\"#7201a8\"],[0.3333333333333333,\"#9c179e\"],[0.4444444444444444,\"#bd3786\"],[0.5555555555555556,\"#d8576b\"],[0.6666666666666666,\"#ed7953\"],[0.7777777777777778,\"#fb9f3a\"],[0.8888888888888888,\"#fdca26\"],[1.0,\"#f0f921\"]],\"type\":\"heatmap\"}],\"histogram2dcontour\":[{\"colorbar\":{\"outlinewidth\":0,\"ticks\":\"\"},\"colorscale\":[[0.0,\"#0d0887\"],[0.1111111111111111,\"#46039f\"],[0.2222222222222222,\"#7201a8\"],[0.3333333333333333,\"#9c179e\"],[0.4444444444444444,\"#bd3786\"],[0.5555555555555556,\"#d8576b\"],[0.6666666666666666,\"#ed7953\"],[0.7777777777777778,\"#fb9f3a\"],[0.8888888888888888,\"#fdca26\"],[1.0,\"#f0f921\"]],\"type\":\"histogram2dcontour\"}],\"histogram2d\":[{\"colorbar\":{\"outlinewidth\":0,\"ticks\":\"\"},\"colorscale\":[[0.0,\"#0d0887\"],[0.1111111111111111,\"#46039f\"],[0.2222222222222222,\"#7201a8\"],[0.3333333333333333,\"#9c179e\"],[0.4444444444444444,\"#bd3786\"],[0.5555555555555556,\"#d8576b\"],[0.6666666666666666,\"#ed7953\"],[0.7777777777777778,\"#fb9f3a\"],[0.8888888888888888,\"#fdca26\"],[1.0,\"#f0f921\"]],\"type\":\"histogram2d\"}],\"histogram\":[{\"marker\":{\"pattern\":{\"fillmode\":\"overlay\",\"size\":10,\"solidity\":0.2}},\"type\":\"histogram\"}],\"mesh3d\":[{\"colorbar\":{\"outlinewidth\":0,\"ticks\":\"\"},\"type\":\"mesh3d\"}],\"parcoords\":[{\"line\":{\"colorbar\":{\"outlinewidth\":0,\"ticks\":\"\"}},\"type\":\"parcoords\"}],\"pie\":[{\"automargin\":true,\"type\":\"pie\"}],\"scatter3d\":[{\"line\":{\"colorbar\":{\"outlinewidth\":0,\"ticks\":\"\"}},\"marker\":{\"colorbar\":{\"outlinewidth\":0,\"ticks\":\"\"}},\"type\":\"scatter3d\"}],\"scattercarpet\":[{\"marker\":{\"colorbar\":{\"outlinewidth\":0,\"ticks\":\"\"}},\"type\":\"scattercarpet\"}],\"scattergeo\":[{\"marker\":{\"colorbar\":{\"outlinewidth\":0,\"ticks\":\"\"}},\"type\":\"scattergeo\"}],\"scattergl\":[{\"marker\":{\"colorbar\":{\"outlinewidth\":0,\"ticks\":\"\"}},\"type\":\"scattergl\"}],\"scattermapbox\":[{\"marker\":{\"colorbar\":{\"outlinewidth\":0,\"ticks\":\"\"}},\"type\":\"scattermapbox\"}],\"scatterpolargl\":[{\"marker\":{\"colorbar\":{\"outlinewidth\":0,\"ticks\":\"\"}},\"type\":\"scatterpolargl\"}],\"scatterpolar\":[{\"marker\":{\"colorbar\":{\"outlinewidth\":0,\"ticks\":\"\"}},\"type\":\"scatterpolar\"}],\"scatter\":[{\"fillpattern\":{\"fillmode\":\"overlay\",\"size\":10,\"solidity\":0.2},\"type\":\"scatter\"}],\"scatterternary\":[{\"marker\":{\"colorbar\":{\"outlinewidth\":0,\"ticks\":\"\"}},\"type\":\"scatterternary\"}],\"surface\":[{\"colorbar\":{\"outlinewidth\":0,\"ticks\":\"\"},\"colorscale\":[[0.0,\"#0d0887\"],[0.1111111111111111,\"#46039f\"],[0.2222222222222222,\"#7201a8\"],[0.3333333333333333,\"#9c179e\"],[0.4444444444444444,\"#bd3786\"],[0.5555555555555556,\"#d8576b\"],[0.6666666666666666,\"#ed7953\"],[0.7777777777777778,\"#fb9f3a\"],[0.8888888888888888,\"#fdca26\"],[1.0,\"#f0f921\"]],\"type\":\"surface\"}],\"table\":[{\"cells\":{\"fill\":{\"color\":\"#EBF0F8\"},\"line\":{\"color\":\"white\"}},\"header\":{\"fill\":{\"color\":\"#C8D4E3\"},\"line\":{\"color\":\"white\"}},\"type\":\"table\"}]},\"layout\":{\"annotationdefaults\":{\"arrowcolor\":\"#2a3f5f\",\"arrowhead\":0,\"arrowwidth\":1},\"autotypenumbers\":\"strict\",\"coloraxis\":{\"colorbar\":{\"outlinewidth\":0,\"ticks\":\"\"}},\"colorscale\":{\"diverging\":[[0,\"#8e0152\"],[0.1,\"#c51b7d\"],[0.2,\"#de77ae\"],[0.3,\"#f1b6da\"],[0.4,\"#fde0ef\"],[0.5,\"#f7f7f7\"],[0.6,\"#e6f5d0\"],[0.7,\"#b8e186\"],[0.8,\"#7fbc41\"],[0.9,\"#4d9221\"],[1,\"#276419\"]],\"sequential\":[[0.0,\"#0d0887\"],[0.1111111111111111,\"#46039f\"],[0.2222222222222222,\"#7201a8\"],[0.3333333333333333,\"#9c179e\"],[0.4444444444444444,\"#bd3786\"],[0.5555555555555556,\"#d8576b\"],[0.6666666666666666,\"#ed7953\"],[0.7777777777777778,\"#fb9f3a\"],[0.8888888888888888,\"#fdca26\"],[1.0,\"#f0f921\"]],\"sequentialminus\":[[0.0,\"#0d0887\"],[0.1111111111111111,\"#46039f\"],[0.2222222222222222,\"#7201a8\"],[0.3333333333333333,\"#9c179e\"],[0.4444444444444444,\"#bd3786\"],[0.5555555555555556,\"#d8576b\"],[0.6666666666666666,\"#ed7953\"],[0.7777777777777778,\"#fb9f3a\"],[0.8888888888888888,\"#fdca26\"],[1.0,\"#f0f921\"]]},\"colorway\":[\"#636efa\",\"#EF553B\",\"#00cc96\",\"#ab63fa\",\"#FFA15A\",\"#19d3f3\",\"#FF6692\",\"#B6E880\",\"#FF97FF\",\"#FECB52\"],\"font\":{\"color\":\"#2a3f5f\"},\"geo\":{\"bgcolor\":\"white\",\"lakecolor\":\"white\",\"landcolor\":\"#E5ECF6\",\"showlakes\":true,\"showland\":true,\"subunitcolor\":\"white\"},\"hoverlabel\":{\"align\":\"left\"},\"hovermode\":\"closest\",\"mapbox\":{\"style\":\"light\"},\"paper_bgcolor\":\"white\",\"plot_bgcolor\":\"#E5ECF6\",\"polar\":{\"angularaxis\":{\"gridcolor\":\"white\",\"linecolor\":\"white\",\"ticks\":\"\"},\"bgcolor\":\"#E5ECF6\",\"radialaxis\":{\"gridcolor\":\"white\",\"linecolor\":\"white\",\"ticks\":\"\"}},\"scene\":{\"xaxis\":{\"backgroundcolor\":\"#E5ECF6\",\"gridcolor\":\"white\",\"gridwidth\":2,\"linecolor\":\"white\",\"showbackground\":true,\"ticks\":\"\",\"zerolinecolor\":\"white\"},\"yaxis\":{\"backgroundcolor\":\"#E5ECF6\",\"gridcolor\":\"white\",\"gridwidth\":2,\"linecolor\":\"white\",\"showbackground\":true,\"ticks\":\"\",\"zerolinecolor\":\"white\"},\"zaxis\":{\"backgroundcolor\":\"#E5ECF6\",\"gridcolor\":\"white\",\"gridwidth\":2,\"linecolor\":\"white\",\"showbackground\":true,\"ticks\":\"\",\"zerolinecolor\":\"white\"}},\"shapedefaults\":{\"line\":{\"color\":\"#2a3f5f\"}},\"ternary\":{\"aaxis\":{\"gridcolor\":\"white\",\"linecolor\":\"white\",\"ticks\":\"\"},\"baxis\":{\"gridcolor\":\"white\",\"linecolor\":\"white\",\"ticks\":\"\"},\"bgcolor\":\"#E5ECF6\",\"caxis\":{\"gridcolor\":\"white\",\"linecolor\":\"white\",\"ticks\":\"\"}},\"title\":{\"x\":0.05},\"xaxis\":{\"automargin\":true,\"gridcolor\":\"white\",\"linecolor\":\"white\",\"ticks\":\"\",\"title\":{\"standoff\":15},\"zerolinecolor\":\"white\",\"zerolinewidth\":2},\"yaxis\":{\"automargin\":true,\"gridcolor\":\"white\",\"linecolor\":\"white\",\"ticks\":\"\",\"title\":{\"standoff\":15},\"zerolinecolor\":\"white\",\"zerolinewidth\":2}}},\"title\":{\"font\":{\"color\":\"#4D5663\"}},\"xaxis\":{\"gridcolor\":\"#E1E5ED\",\"showgrid\":true,\"tickfont\":{\"color\":\"#4D5663\"},\"title\":{\"font\":{\"color\":\"#4D5663\"},\"text\":\"\"},\"zerolinecolor\":\"#E1E5ED\"},\"yaxis\":{\"gridcolor\":\"#E1E5ED\",\"showgrid\":true,\"tickfont\":{\"color\":\"#4D5663\"},\"title\":{\"font\":{\"color\":\"#4D5663\"},\"text\":\"\"},\"zerolinecolor\":\"#E1E5ED\"}},                        {\"showLink\": true, \"linkText\": \"Export to plot.ly\", \"plotlyServerURL\": \"https://plot.ly\", \"responsive\": true}                    ).then(function(){\n",
       "                            \n",
       "var gd = document.getElementById('d36d5a42-a00e-48ee-a44a-7b9f26771b39');\n",
       "var x = new MutationObserver(function (mutations, observer) {{\n",
       "        var display = window.getComputedStyle(gd).display;\n",
       "        if (!display || display === 'none') {{\n",
       "            console.log([gd, 'removed!']);\n",
       "            Plotly.purge(gd);\n",
       "            observer.disconnect();\n",
       "        }}\n",
       "}});\n",
       "\n",
       "// Listen for the removal of the full notebook cells\n",
       "var notebookContainer = gd.closest('#notebook-container');\n",
       "if (notebookContainer) {{\n",
       "    x.observe(notebookContainer, {childList: true});\n",
       "}}\n",
       "\n",
       "// Listen for the clearing of the current output cell\n",
       "var outputEl = gd.closest('.output');\n",
       "if (outputEl) {{\n",
       "    x.observe(outputEl, {childList: true});\n",
       "}}\n",
       "\n",
       "                        })                };                });            </script>        </div>"
      ]
     },
     "metadata": {},
     "output_type": "display_data"
    }
   ],
   "source": [
    "# histogram\n",
    "df['A'].iplot(kind='hist', bins=50)"
   ]
  },
  {
   "cell_type": "code",
   "execution_count": 44,
   "metadata": {},
   "outputs": [
    {
     "data": {
      "application/vnd.plotly.v1+json": {
       "config": {
        "linkText": "Export to plot.ly",
        "plotlyServerURL": "https://plot.ly",
        "showLink": true
       },
       "data": [
        {
         "histfunc": "count",
         "histnorm": "",
         "marker": {
          "color": "rgba(255, 153, 51, 1.0)",
          "line": {
           "color": "#4D5663",
           "width": 1.3
          }
         },
         "name": "A",
         "opacity": 0.8,
         "orientation": "v",
         "type": "histogram",
         "x": [
          -0.013575241110450833,
          0.2014623469983288,
          -0.0899174937991628,
          0.14630244753708072,
          -1.4024321759431153,
          0.9439764762749664,
          -0.06382546259278613,
          0.9982777327924083,
          -0.4738871296179397,
          -1.7479270508567541,
          1.2896284502503772,
          -0.04094150702985916,
          1.1814727250692378,
          -0.04157675514734971,
          -1.6784201398008336,
          0.47505030888120736,
          0.7132508636230379,
          -0.24799219632184952,
          0.498384065116775,
          -0.7430537436978263,
          -0.5943008339808885,
          -0.33906026487962165,
          1.4230113577354255,
          -1.1356125023659205,
          -0.7194920556774836,
          0.40350687564521937,
          0.09680216062296426,
          1.4865354363232182,
          1.2837062691204009,
          -1.0449294104369733,
          -0.6046026297845802,
          1.035080585844793,
          -0.4781821091586237,
          0.5065245619851478,
          -0.054456558223678724,
          -0.2900838094108421,
          1.2672416269601274,
          1.5008075582806726,
          -1.194091196522751,
          0.2698019492376579,
          -1.3824745155019331,
          -0.6850572186353427,
          -0.19631292310626414,
          -1.7805521599361438,
          0.3631036285353618,
          0.6483575919989167,
          -0.8944577060934934,
          -0.45196364550134455,
          1.1847861292974133,
          -1.8807707543177625,
          -1.2730083730328554,
          -0.985849891541202,
          1.515677949465927,
          2.0874223263641296,
          0.2095676374486414,
          -1.8683151904123785,
          -0.6105186098607324,
          -1.5130203096464259,
          -0.0003192758589660021,
          -0.2349119693895656,
          2.1403613710248126,
          0.5017449877885893,
          -0.8644251613155253,
          -0.18257031359149076,
          0.4680037222306966,
          1.0298039480230532,
          1.6891500537933402,
          -1.6723929936831465,
          -1.5452705113745921,
          1.7062784160701598,
          -0.9945442447534536,
          -0.7774222561957261,
          -0.340371918308804,
          0.4775565849235679,
          -0.1464000856716878,
          -0.6662999728881014,
          -0.346476421279362,
          1.1186333582116288,
          1.7342334819205307,
          -0.15328405276518267,
          1.3265505703328604,
          0.2757959579792867,
          0.7440128032532201,
          0.5657951535956439,
          -1.2062365572122227,
          -1.146436230453736,
          -1.196647336791392,
          0.4486528374273348,
          0.8709122796607749,
          1.6626797853566428,
          1.291632918517345,
          -0.4326167764627019,
          0.010208309112078297,
          -0.4199867337686686,
          -2.454723215844547,
          0.06614779474923367,
          -0.2915800212075181,
          2.1053698664072478,
          -0.3762600092064639,
          0.6001534852873674
         ]
        },
        {
         "histfunc": "count",
         "histnorm": "",
         "marker": {
          "color": "rgba(55, 128, 191, 1.0)",
          "line": {
           "color": "#4D5663",
           "width": 1.3
          }
         },
         "name": "B",
         "opacity": 0.8,
         "orientation": "v",
         "type": "histogram",
         "x": [
          -0.4998086521162006,
          0.8638138888466803,
          0.7388639050818845,
          -2.5351516106839127,
          -0.6241965970069808,
          1.5863209972469399,
          -1.0272668926051103,
          0.5002535232220292,
          -0.5200660025824956,
          1.3047727610507056,
          -0.08212568013725245,
          -1.0235664200651708,
          -0.6235439639220131,
          -0.5117151989397963,
          -1.3452522320083882,
          0.07491224307445563,
          -0.9858627810630309,
          0.48812466598017146,
          -1.5781779944879513,
          0.7523712855310276,
          1.1558049361093523,
          -1.2137704432592629,
          1.5327616425683321,
          0.466351019069615,
          0.10177591740341613,
          1.6724484500498018,
          -0.5864709129917581,
          0.8044521979893766,
          -1.7788829295501853,
          1.8365955689749571,
          1.1633726863223617,
          -1.0242007875588857,
          1.0954568746844986,
          -2.2346848698945556,
          0.39266228174684914,
          0.8404729296808121,
          -0.2442692234613969,
          -1.3538759957921003,
          -1.0071264286913437,
          -0.511299082282564,
          -1.243464143501981,
          1.53226091738115,
          0.3787947928421932,
          0.7937415890066196,
          0.09369302886706242,
          1.3665228041204913,
          -0.07540557834451925,
          1.12960511549684,
          -1.0969114092610217,
          -0.5256619286736163,
          -0.1255995227222061,
          1.1299806924847526,
          1.842176499039704,
          0.9223553718749332,
          0.9624408464070193,
          -1.5949382147241815,
          0.10358617230626112,
          0.629926007568259,
          0.23282104595070716,
          0.34926447605244215,
          0.6210082966455818,
          1.3575286778092086,
          0.15034415981621055,
          -0.8319500033867744,
          -0.23994802321186406,
          -0.9917052396304813,
          -0.2101515420007641,
          -0.4604086451895767,
          -0.4103810500625088,
          -0.19193031808972585,
          -1.618290060509264,
          0.19680333078802792,
          -1.3695862380868853,
          -0.016764656229118585,
          1.491314290176382,
          0.5257097682782415,
          -0.10641544036555185,
          -1.664002357709959,
          0.6116037639332458,
          -0.49482872597775346,
          -0.06595019550852914,
          -0.7228448984081656,
          0.40190328495696986,
          0.7587437246052716,
          -0.25076469773656773,
          0.0903897080544539,
          -0.49465980470031895,
          1.0241171735974268,
          -0.5792698354452798,
          0.5420021881562249,
          0.1396869935373383,
          -0.5245699273060564,
          -0.4550638669849926,
          -2.4864659332530863,
          2.5638197096368796,
          -1.6643846707072714,
          -0.14449922089190276,
          -0.25589607049514157,
          -1.0290835991474259,
          -1.099958347108077
         ]
        },
        {
         "histfunc": "count",
         "histnorm": "",
         "marker": {
          "color": "rgba(50, 171, 96, 1.0)",
          "line": {
           "color": "#4D5663",
           "width": 1.3
          }
         },
         "name": "C",
         "opacity": 0.8,
         "orientation": "v",
         "type": "histogram",
         "x": [
          -0.03897819554267246,
          -0.45237410422813007,
          -0.9148037122545782,
          0.9535472502455863,
          -1.4048943076631102,
          -0.02552396525986394,
          -0.16999014234229043,
          -0.8005195292528466,
          0.489122269331501,
          -0.9738843159490248,
          -0.16020281396152478,
          -0.8295315084912306,
          -1.0710559926834227,
          0.9997766978884247,
          -1.4310237129930352,
          1.3070106872583303,
          0.7313254595552003,
          0.15605963803369327,
          0.2792068851428407,
          -0.28606270041226173,
          0.16570192386801588,
          0.7399897481613859,
          -1.4060667670740261,
          -0.4062331404164582,
          -0.40689761889533727,
          0.4589588634993919,
          1.0892311839862554,
          -0.6626451338834085,
          0.13797262053600742,
          -1.0517178921409511,
          -0.167038781526083,
          -0.4538040326345461,
          1.093561476437651,
          -1.847917830900397,
          -1.812934611548087,
          0.5460453823483944,
          -0.9523449183934559,
          1.3681088221219067,
          -0.4087585732632988,
          -0.4689630871848432,
          0.33113790981162516,
          1.7995374767983916,
          -1.9716431639594623,
          -0.7185553355541259,
          -0.4831753129690847,
          -0.1303610300940544,
          0.5535500317467342,
          1.7397571813169999,
          0.7074500660163463,
          -0.15749934931347762,
          0.5451645569926603,
          0.36244176948027973,
          0.7832399338190531,
          -1.6479214934825983,
          0.6947094604228694,
          -0.026321189640635765,
          0.6298127853299399,
          0.09497079558586638,
          0.5682270338122841,
          -0.32624841707502206,
          -0.14150138830677372,
          -0.5826441247263411,
          -0.37155778050514765,
          0.45433186240226353,
          -1.8486182555766015,
          -0.4272754688339868,
          1.3379923933370492,
          1.1030836835459426,
          0.33123816871353917,
          -0.365209036376047,
          0.44198159795425157,
          1.130722922509479,
          1.4431836867831143,
          -0.059577614635175885,
          0.8068824260031981,
          -1.061563464126283,
          2.3168102767827747,
          -0.1533249969025579,
          0.9323611166718686,
          0.8602968645952596,
          -3.3123992506170787,
          2.2042387607130225,
          0.5363583593827271,
          -0.3282709532102508,
          1.8928049631040889,
          -1.1260015336894462,
          0.6949648736475352,
          0.7222765625402395,
          0.24958033860760995,
          -1.7163837090135452,
          -0.7568130572220154,
          -0.13542338662983835,
          -0.13893830864817305,
          -1.2530513135516494,
          0.3013792980620921,
          0.6312530701902108,
          1.528341343156567,
          -0.11290283541221337,
          -1.2002544991759756,
          -0.012042900182959379
         ]
        },
        {
         "histfunc": "count",
         "histnorm": "",
         "marker": {
          "color": "rgba(128, 0, 128, 1.0)",
          "line": {
           "color": "#4D5663",
           "width": 1.3
          }
         },
         "name": "D",
         "opacity": 0.8,
         "orientation": "v",
         "type": "histogram",
         "x": [
          -0.5370911808766012,
          -2.321571647104632,
          0.5794844976759298,
          2.6696847002422093,
          -0.0628802393351703,
          0.856143428566187,
          2.0621458131416266,
          -0.035648267009385046,
          0.030833795609075402,
          0.3415158116578078,
          -0.3859012363140178,
          0.3609972035587406,
          1.0482829284088313,
          0.06821914391373095,
          -0.7610923046981812,
          0.6125951666149811,
          -1.380189032931467,
          0.4191665325951915,
          1.7739917406385555,
          0.2168226670444201,
          0.7405402700307281,
          -0.42256301034062066,
          0.018111319601031753,
          1.1155892412982806,
          -1.4999055926396876,
          -0.5947774111653107,
          0.018381646786778092,
          0.4044101964543374,
          1.162393959229401,
          1.2635861650539149,
          -1.6585120591216127,
          0.3745359867443123,
          -0.6042965058041246,
          -0.36500191273588045,
          0.07695854943740069,
          -0.4920978112467595,
          0.7815104260905494,
          -0.9342677462715024,
          -1.085311716713249,
          -1.2238414271897249,
          -0.0986622209609241,
          -1.3598393083357998,
          0.4351701843515012,
          -0.605292022362214,
          -1.9990675344070585,
          0.8198496193265,
          -0.7174341412363682,
          -0.467798063088864,
          -0.6395896099981112,
          -0.8137340650012729,
          1.3388149301350298,
          -0.07729452529534941,
          -0.32006894334242303,
          -0.5212376005619955,
          0.34826697009878055,
          0.04322596472394743,
          -0.8751630591683667,
          0.5282407958690774,
          -1.5245554906639394,
          -0.7114075014623907,
          0.6136614058445458,
          -0.6899539400539682,
          1.3383065365015576,
          -0.4687534641720835,
          0.31663129352505415,
          1.6430350068157462,
          -2.6193481946114083,
          -0.584449208207381,
          2.4382321153223065,
          0.7346470725692921,
          -1.4689518757597313,
          0.618524439084242,
          2.305276107304658,
          0.11527745916872338,
          1.0768495073439397,
          1.113330117936661,
          0.5688144051873003,
          1.4269619333427306,
          0.2861659530349212,
          1.6124139653612652,
          0.40249953609561223,
          1.1503513623086212,
          -1.3142430021494809,
          -0.1533860479957921,
          0.7026210178016035,
          -0.25140673295468247,
          0.03108806949108133,
          0.12245461656442247,
          -1.045151787506711,
          0.5103129915132618,
          -1.9976116086927933,
          1.6266100462323916,
          0.13527513123569643,
          -1.0360016372607777,
          1.6998818717986037,
          0.7079484991419566,
          1.4649518107345052,
          0.5280813775901442,
          0.5204694722261566,
          -0.11769449274516725
         ]
        }
       ],
       "layout": {
        "barmode": "overlay",
        "legend": {
         "bgcolor": "#F5F6F9",
         "font": {
          "color": "#4D5663"
         }
        },
        "paper_bgcolor": "#F5F6F9",
        "plot_bgcolor": "#F5F6F9",
        "template": {
         "data": {
          "bar": [
           {
            "error_x": {
             "color": "#2a3f5f"
            },
            "error_y": {
             "color": "#2a3f5f"
            },
            "marker": {
             "line": {
              "color": "#E5ECF6",
              "width": 0.5
             },
             "pattern": {
              "fillmode": "overlay",
              "size": 10,
              "solidity": 0.2
             }
            },
            "type": "bar"
           }
          ],
          "barpolar": [
           {
            "marker": {
             "line": {
              "color": "#E5ECF6",
              "width": 0.5
             },
             "pattern": {
              "fillmode": "overlay",
              "size": 10,
              "solidity": 0.2
             }
            },
            "type": "barpolar"
           }
          ],
          "carpet": [
           {
            "aaxis": {
             "endlinecolor": "#2a3f5f",
             "gridcolor": "white",
             "linecolor": "white",
             "minorgridcolor": "white",
             "startlinecolor": "#2a3f5f"
            },
            "baxis": {
             "endlinecolor": "#2a3f5f",
             "gridcolor": "white",
             "linecolor": "white",
             "minorgridcolor": "white",
             "startlinecolor": "#2a3f5f"
            },
            "type": "carpet"
           }
          ],
          "choropleth": [
           {
            "colorbar": {
             "outlinewidth": 0,
             "ticks": ""
            },
            "type": "choropleth"
           }
          ],
          "contour": [
           {
            "colorbar": {
             "outlinewidth": 0,
             "ticks": ""
            },
            "colorscale": [
             [
              0,
              "#0d0887"
             ],
             [
              0.1111111111111111,
              "#46039f"
             ],
             [
              0.2222222222222222,
              "#7201a8"
             ],
             [
              0.3333333333333333,
              "#9c179e"
             ],
             [
              0.4444444444444444,
              "#bd3786"
             ],
             [
              0.5555555555555556,
              "#d8576b"
             ],
             [
              0.6666666666666666,
              "#ed7953"
             ],
             [
              0.7777777777777778,
              "#fb9f3a"
             ],
             [
              0.8888888888888888,
              "#fdca26"
             ],
             [
              1,
              "#f0f921"
             ]
            ],
            "type": "contour"
           }
          ],
          "contourcarpet": [
           {
            "colorbar": {
             "outlinewidth": 0,
             "ticks": ""
            },
            "type": "contourcarpet"
           }
          ],
          "heatmap": [
           {
            "colorbar": {
             "outlinewidth": 0,
             "ticks": ""
            },
            "colorscale": [
             [
              0,
              "#0d0887"
             ],
             [
              0.1111111111111111,
              "#46039f"
             ],
             [
              0.2222222222222222,
              "#7201a8"
             ],
             [
              0.3333333333333333,
              "#9c179e"
             ],
             [
              0.4444444444444444,
              "#bd3786"
             ],
             [
              0.5555555555555556,
              "#d8576b"
             ],
             [
              0.6666666666666666,
              "#ed7953"
             ],
             [
              0.7777777777777778,
              "#fb9f3a"
             ],
             [
              0.8888888888888888,
              "#fdca26"
             ],
             [
              1,
              "#f0f921"
             ]
            ],
            "type": "heatmap"
           }
          ],
          "heatmapgl": [
           {
            "colorbar": {
             "outlinewidth": 0,
             "ticks": ""
            },
            "colorscale": [
             [
              0,
              "#0d0887"
             ],
             [
              0.1111111111111111,
              "#46039f"
             ],
             [
              0.2222222222222222,
              "#7201a8"
             ],
             [
              0.3333333333333333,
              "#9c179e"
             ],
             [
              0.4444444444444444,
              "#bd3786"
             ],
             [
              0.5555555555555556,
              "#d8576b"
             ],
             [
              0.6666666666666666,
              "#ed7953"
             ],
             [
              0.7777777777777778,
              "#fb9f3a"
             ],
             [
              0.8888888888888888,
              "#fdca26"
             ],
             [
              1,
              "#f0f921"
             ]
            ],
            "type": "heatmapgl"
           }
          ],
          "histogram": [
           {
            "marker": {
             "pattern": {
              "fillmode": "overlay",
              "size": 10,
              "solidity": 0.2
             }
            },
            "type": "histogram"
           }
          ],
          "histogram2d": [
           {
            "colorbar": {
             "outlinewidth": 0,
             "ticks": ""
            },
            "colorscale": [
             [
              0,
              "#0d0887"
             ],
             [
              0.1111111111111111,
              "#46039f"
             ],
             [
              0.2222222222222222,
              "#7201a8"
             ],
             [
              0.3333333333333333,
              "#9c179e"
             ],
             [
              0.4444444444444444,
              "#bd3786"
             ],
             [
              0.5555555555555556,
              "#d8576b"
             ],
             [
              0.6666666666666666,
              "#ed7953"
             ],
             [
              0.7777777777777778,
              "#fb9f3a"
             ],
             [
              0.8888888888888888,
              "#fdca26"
             ],
             [
              1,
              "#f0f921"
             ]
            ],
            "type": "histogram2d"
           }
          ],
          "histogram2dcontour": [
           {
            "colorbar": {
             "outlinewidth": 0,
             "ticks": ""
            },
            "colorscale": [
             [
              0,
              "#0d0887"
             ],
             [
              0.1111111111111111,
              "#46039f"
             ],
             [
              0.2222222222222222,
              "#7201a8"
             ],
             [
              0.3333333333333333,
              "#9c179e"
             ],
             [
              0.4444444444444444,
              "#bd3786"
             ],
             [
              0.5555555555555556,
              "#d8576b"
             ],
             [
              0.6666666666666666,
              "#ed7953"
             ],
             [
              0.7777777777777778,
              "#fb9f3a"
             ],
             [
              0.8888888888888888,
              "#fdca26"
             ],
             [
              1,
              "#f0f921"
             ]
            ],
            "type": "histogram2dcontour"
           }
          ],
          "mesh3d": [
           {
            "colorbar": {
             "outlinewidth": 0,
             "ticks": ""
            },
            "type": "mesh3d"
           }
          ],
          "parcoords": [
           {
            "line": {
             "colorbar": {
              "outlinewidth": 0,
              "ticks": ""
             }
            },
            "type": "parcoords"
           }
          ],
          "pie": [
           {
            "automargin": true,
            "type": "pie"
           }
          ],
          "scatter": [
           {
            "fillpattern": {
             "fillmode": "overlay",
             "size": 10,
             "solidity": 0.2
            },
            "type": "scatter"
           }
          ],
          "scatter3d": [
           {
            "line": {
             "colorbar": {
              "outlinewidth": 0,
              "ticks": ""
             }
            },
            "marker": {
             "colorbar": {
              "outlinewidth": 0,
              "ticks": ""
             }
            },
            "type": "scatter3d"
           }
          ],
          "scattercarpet": [
           {
            "marker": {
             "colorbar": {
              "outlinewidth": 0,
              "ticks": ""
             }
            },
            "type": "scattercarpet"
           }
          ],
          "scattergeo": [
           {
            "marker": {
             "colorbar": {
              "outlinewidth": 0,
              "ticks": ""
             }
            },
            "type": "scattergeo"
           }
          ],
          "scattergl": [
           {
            "marker": {
             "colorbar": {
              "outlinewidth": 0,
              "ticks": ""
             }
            },
            "type": "scattergl"
           }
          ],
          "scattermapbox": [
           {
            "marker": {
             "colorbar": {
              "outlinewidth": 0,
              "ticks": ""
             }
            },
            "type": "scattermapbox"
           }
          ],
          "scatterpolar": [
           {
            "marker": {
             "colorbar": {
              "outlinewidth": 0,
              "ticks": ""
             }
            },
            "type": "scatterpolar"
           }
          ],
          "scatterpolargl": [
           {
            "marker": {
             "colorbar": {
              "outlinewidth": 0,
              "ticks": ""
             }
            },
            "type": "scatterpolargl"
           }
          ],
          "scatterternary": [
           {
            "marker": {
             "colorbar": {
              "outlinewidth": 0,
              "ticks": ""
             }
            },
            "type": "scatterternary"
           }
          ],
          "surface": [
           {
            "colorbar": {
             "outlinewidth": 0,
             "ticks": ""
            },
            "colorscale": [
             [
              0,
              "#0d0887"
             ],
             [
              0.1111111111111111,
              "#46039f"
             ],
             [
              0.2222222222222222,
              "#7201a8"
             ],
             [
              0.3333333333333333,
              "#9c179e"
             ],
             [
              0.4444444444444444,
              "#bd3786"
             ],
             [
              0.5555555555555556,
              "#d8576b"
             ],
             [
              0.6666666666666666,
              "#ed7953"
             ],
             [
              0.7777777777777778,
              "#fb9f3a"
             ],
             [
              0.8888888888888888,
              "#fdca26"
             ],
             [
              1,
              "#f0f921"
             ]
            ],
            "type": "surface"
           }
          ],
          "table": [
           {
            "cells": {
             "fill": {
              "color": "#EBF0F8"
             },
             "line": {
              "color": "white"
             }
            },
            "header": {
             "fill": {
              "color": "#C8D4E3"
             },
             "line": {
              "color": "white"
             }
            },
            "type": "table"
           }
          ]
         },
         "layout": {
          "annotationdefaults": {
           "arrowcolor": "#2a3f5f",
           "arrowhead": 0,
           "arrowwidth": 1
          },
          "autotypenumbers": "strict",
          "coloraxis": {
           "colorbar": {
            "outlinewidth": 0,
            "ticks": ""
           }
          },
          "colorscale": {
           "diverging": [
            [
             0,
             "#8e0152"
            ],
            [
             0.1,
             "#c51b7d"
            ],
            [
             0.2,
             "#de77ae"
            ],
            [
             0.3,
             "#f1b6da"
            ],
            [
             0.4,
             "#fde0ef"
            ],
            [
             0.5,
             "#f7f7f7"
            ],
            [
             0.6,
             "#e6f5d0"
            ],
            [
             0.7,
             "#b8e186"
            ],
            [
             0.8,
             "#7fbc41"
            ],
            [
             0.9,
             "#4d9221"
            ],
            [
             1,
             "#276419"
            ]
           ],
           "sequential": [
            [
             0,
             "#0d0887"
            ],
            [
             0.1111111111111111,
             "#46039f"
            ],
            [
             0.2222222222222222,
             "#7201a8"
            ],
            [
             0.3333333333333333,
             "#9c179e"
            ],
            [
             0.4444444444444444,
             "#bd3786"
            ],
            [
             0.5555555555555556,
             "#d8576b"
            ],
            [
             0.6666666666666666,
             "#ed7953"
            ],
            [
             0.7777777777777778,
             "#fb9f3a"
            ],
            [
             0.8888888888888888,
             "#fdca26"
            ],
            [
             1,
             "#f0f921"
            ]
           ],
           "sequentialminus": [
            [
             0,
             "#0d0887"
            ],
            [
             0.1111111111111111,
             "#46039f"
            ],
            [
             0.2222222222222222,
             "#7201a8"
            ],
            [
             0.3333333333333333,
             "#9c179e"
            ],
            [
             0.4444444444444444,
             "#bd3786"
            ],
            [
             0.5555555555555556,
             "#d8576b"
            ],
            [
             0.6666666666666666,
             "#ed7953"
            ],
            [
             0.7777777777777778,
             "#fb9f3a"
            ],
            [
             0.8888888888888888,
             "#fdca26"
            ],
            [
             1,
             "#f0f921"
            ]
           ]
          },
          "colorway": [
           "#636efa",
           "#EF553B",
           "#00cc96",
           "#ab63fa",
           "#FFA15A",
           "#19d3f3",
           "#FF6692",
           "#B6E880",
           "#FF97FF",
           "#FECB52"
          ],
          "font": {
           "color": "#2a3f5f"
          },
          "geo": {
           "bgcolor": "white",
           "lakecolor": "white",
           "landcolor": "#E5ECF6",
           "showlakes": true,
           "showland": true,
           "subunitcolor": "white"
          },
          "hoverlabel": {
           "align": "left"
          },
          "hovermode": "closest",
          "mapbox": {
           "style": "light"
          },
          "paper_bgcolor": "white",
          "plot_bgcolor": "#E5ECF6",
          "polar": {
           "angularaxis": {
            "gridcolor": "white",
            "linecolor": "white",
            "ticks": ""
           },
           "bgcolor": "#E5ECF6",
           "radialaxis": {
            "gridcolor": "white",
            "linecolor": "white",
            "ticks": ""
           }
          },
          "scene": {
           "xaxis": {
            "backgroundcolor": "#E5ECF6",
            "gridcolor": "white",
            "gridwidth": 2,
            "linecolor": "white",
            "showbackground": true,
            "ticks": "",
            "zerolinecolor": "white"
           },
           "yaxis": {
            "backgroundcolor": "#E5ECF6",
            "gridcolor": "white",
            "gridwidth": 2,
            "linecolor": "white",
            "showbackground": true,
            "ticks": "",
            "zerolinecolor": "white"
           },
           "zaxis": {
            "backgroundcolor": "#E5ECF6",
            "gridcolor": "white",
            "gridwidth": 2,
            "linecolor": "white",
            "showbackground": true,
            "ticks": "",
            "zerolinecolor": "white"
           }
          },
          "shapedefaults": {
           "line": {
            "color": "#2a3f5f"
           }
          },
          "ternary": {
           "aaxis": {
            "gridcolor": "white",
            "linecolor": "white",
            "ticks": ""
           },
           "baxis": {
            "gridcolor": "white",
            "linecolor": "white",
            "ticks": ""
           },
           "bgcolor": "#E5ECF6",
           "caxis": {
            "gridcolor": "white",
            "linecolor": "white",
            "ticks": ""
           }
          },
          "title": {
           "x": 0.05
          },
          "xaxis": {
           "automargin": true,
           "gridcolor": "white",
           "linecolor": "white",
           "ticks": "",
           "title": {
            "standoff": 15
           },
           "zerolinecolor": "white",
           "zerolinewidth": 2
          },
          "yaxis": {
           "automargin": true,
           "gridcolor": "white",
           "linecolor": "white",
           "ticks": "",
           "title": {
            "standoff": 15
           },
           "zerolinecolor": "white",
           "zerolinewidth": 2
          }
         }
        },
        "title": {
         "font": {
          "color": "#4D5663"
         }
        },
        "xaxis": {
         "gridcolor": "#E1E5ED",
         "showgrid": true,
         "tickfont": {
          "color": "#4D5663"
         },
         "title": {
          "font": {
           "color": "#4D5663"
          },
          "text": ""
         },
         "zerolinecolor": "#E1E5ED"
        },
        "yaxis": {
         "gridcolor": "#E1E5ED",
         "showgrid": true,
         "tickfont": {
          "color": "#4D5663"
         },
         "title": {
          "font": {
           "color": "#4D5663"
          },
          "text": ""
         },
         "zerolinecolor": "#E1E5ED"
        }
       }
      },
      "text/html": [
       "<div>                            <div id=\"0f739df4-2d25-477c-83e4-1e0a752ccad2\" class=\"plotly-graph-div\" style=\"height:525px; width:100%;\"></div>            <script type=\"text/javascript\">                require([\"plotly\"], function(Plotly) {                    window.PLOTLYENV=window.PLOTLYENV || {};\n",
       "                    window.PLOTLYENV.BASE_URL='https://plot.ly';                                    if (document.getElementById(\"0f739df4-2d25-477c-83e4-1e0a752ccad2\")) {                    Plotly.newPlot(                        \"0f739df4-2d25-477c-83e4-1e0a752ccad2\",                        [{\"histfunc\":\"count\",\"histnorm\":\"\",\"marker\":{\"color\":\"rgba(255, 153, 51, 1.0)\",\"line\":{\"color\":\"#4D5663\",\"width\":1.3}},\"name\":\"A\",\"opacity\":0.8,\"orientation\":\"v\",\"x\":[-0.013575241110450833,0.2014623469983288,-0.0899174937991628,0.14630244753708072,-1.4024321759431153,0.9439764762749664,-0.06382546259278613,0.9982777327924083,-0.4738871296179397,-1.7479270508567541,1.2896284502503772,-0.04094150702985916,1.1814727250692378,-0.04157675514734971,-1.6784201398008336,0.47505030888120736,0.7132508636230379,-0.24799219632184952,0.498384065116775,-0.7430537436978263,-0.5943008339808885,-0.33906026487962165,1.4230113577354255,-1.1356125023659205,-0.7194920556774836,0.40350687564521937,0.09680216062296426,1.4865354363232182,1.2837062691204009,-1.0449294104369733,-0.6046026297845802,1.035080585844793,-0.4781821091586237,0.5065245619851478,-0.054456558223678724,-0.2900838094108421,1.2672416269601274,1.5008075582806726,-1.194091196522751,0.2698019492376579,-1.3824745155019331,-0.6850572186353427,-0.19631292310626414,-1.7805521599361438,0.3631036285353618,0.6483575919989167,-0.8944577060934934,-0.45196364550134455,1.1847861292974133,-1.8807707543177625,-1.2730083730328554,-0.985849891541202,1.515677949465927,2.0874223263641296,0.2095676374486414,-1.8683151904123785,-0.6105186098607324,-1.5130203096464259,-0.0003192758589660021,-0.2349119693895656,2.1403613710248126,0.5017449877885893,-0.8644251613155253,-0.18257031359149076,0.4680037222306966,1.0298039480230532,1.6891500537933402,-1.6723929936831465,-1.5452705113745921,1.7062784160701598,-0.9945442447534536,-0.7774222561957261,-0.340371918308804,0.4775565849235679,-0.1464000856716878,-0.6662999728881014,-0.346476421279362,1.1186333582116288,1.7342334819205307,-0.15328405276518267,1.3265505703328604,0.2757959579792867,0.7440128032532201,0.5657951535956439,-1.2062365572122227,-1.146436230453736,-1.196647336791392,0.4486528374273348,0.8709122796607749,1.6626797853566428,1.291632918517345,-0.4326167764627019,0.010208309112078297,-0.4199867337686686,-2.454723215844547,0.06614779474923367,-0.2915800212075181,2.1053698664072478,-0.3762600092064639,0.6001534852873674],\"type\":\"histogram\"},{\"histfunc\":\"count\",\"histnorm\":\"\",\"marker\":{\"color\":\"rgba(55, 128, 191, 1.0)\",\"line\":{\"color\":\"#4D5663\",\"width\":1.3}},\"name\":\"B\",\"opacity\":0.8,\"orientation\":\"v\",\"x\":[-0.4998086521162006,0.8638138888466803,0.7388639050818845,-2.5351516106839127,-0.6241965970069808,1.5863209972469399,-1.0272668926051103,0.5002535232220292,-0.5200660025824956,1.3047727610507056,-0.08212568013725245,-1.0235664200651708,-0.6235439639220131,-0.5117151989397963,-1.3452522320083882,0.07491224307445563,-0.9858627810630309,0.48812466598017146,-1.5781779944879513,0.7523712855310276,1.1558049361093523,-1.2137704432592629,1.5327616425683321,0.466351019069615,0.10177591740341613,1.6724484500498018,-0.5864709129917581,0.8044521979893766,-1.7788829295501853,1.8365955689749571,1.1633726863223617,-1.0242007875588857,1.0954568746844986,-2.2346848698945556,0.39266228174684914,0.8404729296808121,-0.2442692234613969,-1.3538759957921003,-1.0071264286913437,-0.511299082282564,-1.243464143501981,1.53226091738115,0.3787947928421932,0.7937415890066196,0.09369302886706242,1.3665228041204913,-0.07540557834451925,1.12960511549684,-1.0969114092610217,-0.5256619286736163,-0.1255995227222061,1.1299806924847526,1.842176499039704,0.9223553718749332,0.9624408464070193,-1.5949382147241815,0.10358617230626112,0.629926007568259,0.23282104595070716,0.34926447605244215,0.6210082966455818,1.3575286778092086,0.15034415981621055,-0.8319500033867744,-0.23994802321186406,-0.9917052396304813,-0.2101515420007641,-0.4604086451895767,-0.4103810500625088,-0.19193031808972585,-1.618290060509264,0.19680333078802792,-1.3695862380868853,-0.016764656229118585,1.491314290176382,0.5257097682782415,-0.10641544036555185,-1.664002357709959,0.6116037639332458,-0.49482872597775346,-0.06595019550852914,-0.7228448984081656,0.40190328495696986,0.7587437246052716,-0.25076469773656773,0.0903897080544539,-0.49465980470031895,1.0241171735974268,-0.5792698354452798,0.5420021881562249,0.1396869935373383,-0.5245699273060564,-0.4550638669849926,-2.4864659332530863,2.5638197096368796,-1.6643846707072714,-0.14449922089190276,-0.25589607049514157,-1.0290835991474259,-1.099958347108077],\"type\":\"histogram\"},{\"histfunc\":\"count\",\"histnorm\":\"\",\"marker\":{\"color\":\"rgba(50, 171, 96, 1.0)\",\"line\":{\"color\":\"#4D5663\",\"width\":1.3}},\"name\":\"C\",\"opacity\":0.8,\"orientation\":\"v\",\"x\":[-0.03897819554267246,-0.45237410422813007,-0.9148037122545782,0.9535472502455863,-1.4048943076631102,-0.02552396525986394,-0.16999014234229043,-0.8005195292528466,0.489122269331501,-0.9738843159490248,-0.16020281396152478,-0.8295315084912306,-1.0710559926834227,0.9997766978884247,-1.4310237129930352,1.3070106872583303,0.7313254595552003,0.15605963803369327,0.2792068851428407,-0.28606270041226173,0.16570192386801588,0.7399897481613859,-1.4060667670740261,-0.4062331404164582,-0.40689761889533727,0.4589588634993919,1.0892311839862554,-0.6626451338834085,0.13797262053600742,-1.0517178921409511,-0.167038781526083,-0.4538040326345461,1.093561476437651,-1.847917830900397,-1.812934611548087,0.5460453823483944,-0.9523449183934559,1.3681088221219067,-0.4087585732632988,-0.4689630871848432,0.33113790981162516,1.7995374767983916,-1.9716431639594623,-0.7185553355541259,-0.4831753129690847,-0.1303610300940544,0.5535500317467342,1.7397571813169999,0.7074500660163463,-0.15749934931347762,0.5451645569926603,0.36244176948027973,0.7832399338190531,-1.6479214934825983,0.6947094604228694,-0.026321189640635765,0.6298127853299399,0.09497079558586638,0.5682270338122841,-0.32624841707502206,-0.14150138830677372,-0.5826441247263411,-0.37155778050514765,0.45433186240226353,-1.8486182555766015,-0.4272754688339868,1.3379923933370492,1.1030836835459426,0.33123816871353917,-0.365209036376047,0.44198159795425157,1.130722922509479,1.4431836867831143,-0.059577614635175885,0.8068824260031981,-1.061563464126283,2.3168102767827747,-0.1533249969025579,0.9323611166718686,0.8602968645952596,-3.3123992506170787,2.2042387607130225,0.5363583593827271,-0.3282709532102508,1.8928049631040889,-1.1260015336894462,0.6949648736475352,0.7222765625402395,0.24958033860760995,-1.7163837090135452,-0.7568130572220154,-0.13542338662983835,-0.13893830864817305,-1.2530513135516494,0.3013792980620921,0.6312530701902108,1.528341343156567,-0.11290283541221337,-1.2002544991759756,-0.012042900182959379],\"type\":\"histogram\"},{\"histfunc\":\"count\",\"histnorm\":\"\",\"marker\":{\"color\":\"rgba(128, 0, 128, 1.0)\",\"line\":{\"color\":\"#4D5663\",\"width\":1.3}},\"name\":\"D\",\"opacity\":0.8,\"orientation\":\"v\",\"x\":[-0.5370911808766012,-2.321571647104632,0.5794844976759298,2.6696847002422093,-0.0628802393351703,0.856143428566187,2.0621458131416266,-0.035648267009385046,0.030833795609075402,0.3415158116578078,-0.3859012363140178,0.3609972035587406,1.0482829284088313,0.06821914391373095,-0.7610923046981812,0.6125951666149811,-1.380189032931467,0.4191665325951915,1.7739917406385555,0.2168226670444201,0.7405402700307281,-0.42256301034062066,0.018111319601031753,1.1155892412982806,-1.4999055926396876,-0.5947774111653107,0.018381646786778092,0.4044101964543374,1.162393959229401,1.2635861650539149,-1.6585120591216127,0.3745359867443123,-0.6042965058041246,-0.36500191273588045,0.07695854943740069,-0.4920978112467595,0.7815104260905494,-0.9342677462715024,-1.085311716713249,-1.2238414271897249,-0.0986622209609241,-1.3598393083357998,0.4351701843515012,-0.605292022362214,-1.9990675344070585,0.8198496193265,-0.7174341412363682,-0.467798063088864,-0.6395896099981112,-0.8137340650012729,1.3388149301350298,-0.07729452529534941,-0.32006894334242303,-0.5212376005619955,0.34826697009878055,0.04322596472394743,-0.8751630591683667,0.5282407958690774,-1.5245554906639394,-0.7114075014623907,0.6136614058445458,-0.6899539400539682,1.3383065365015576,-0.4687534641720835,0.31663129352505415,1.6430350068157462,-2.6193481946114083,-0.584449208207381,2.4382321153223065,0.7346470725692921,-1.4689518757597313,0.618524439084242,2.305276107304658,0.11527745916872338,1.0768495073439397,1.113330117936661,0.5688144051873003,1.4269619333427306,0.2861659530349212,1.6124139653612652,0.40249953609561223,1.1503513623086212,-1.3142430021494809,-0.1533860479957921,0.7026210178016035,-0.25140673295468247,0.03108806949108133,0.12245461656442247,-1.045151787506711,0.5103129915132618,-1.9976116086927933,1.6266100462323916,0.13527513123569643,-1.0360016372607777,1.6998818717986037,0.7079484991419566,1.4649518107345052,0.5280813775901442,0.5204694722261566,-0.11769449274516725],\"type\":\"histogram\"}],                        {\"barmode\":\"overlay\",\"legend\":{\"bgcolor\":\"#F5F6F9\",\"font\":{\"color\":\"#4D5663\"}},\"paper_bgcolor\":\"#F5F6F9\",\"plot_bgcolor\":\"#F5F6F9\",\"template\":{\"data\":{\"barpolar\":[{\"marker\":{\"line\":{\"color\":\"#E5ECF6\",\"width\":0.5},\"pattern\":{\"fillmode\":\"overlay\",\"size\":10,\"solidity\":0.2}},\"type\":\"barpolar\"}],\"bar\":[{\"error_x\":{\"color\":\"#2a3f5f\"},\"error_y\":{\"color\":\"#2a3f5f\"},\"marker\":{\"line\":{\"color\":\"#E5ECF6\",\"width\":0.5},\"pattern\":{\"fillmode\":\"overlay\",\"size\":10,\"solidity\":0.2}},\"type\":\"bar\"}],\"carpet\":[{\"aaxis\":{\"endlinecolor\":\"#2a3f5f\",\"gridcolor\":\"white\",\"linecolor\":\"white\",\"minorgridcolor\":\"white\",\"startlinecolor\":\"#2a3f5f\"},\"baxis\":{\"endlinecolor\":\"#2a3f5f\",\"gridcolor\":\"white\",\"linecolor\":\"white\",\"minorgridcolor\":\"white\",\"startlinecolor\":\"#2a3f5f\"},\"type\":\"carpet\"}],\"choropleth\":[{\"colorbar\":{\"outlinewidth\":0,\"ticks\":\"\"},\"type\":\"choropleth\"}],\"contourcarpet\":[{\"colorbar\":{\"outlinewidth\":0,\"ticks\":\"\"},\"type\":\"contourcarpet\"}],\"contour\":[{\"colorbar\":{\"outlinewidth\":0,\"ticks\":\"\"},\"colorscale\":[[0.0,\"#0d0887\"],[0.1111111111111111,\"#46039f\"],[0.2222222222222222,\"#7201a8\"],[0.3333333333333333,\"#9c179e\"],[0.4444444444444444,\"#bd3786\"],[0.5555555555555556,\"#d8576b\"],[0.6666666666666666,\"#ed7953\"],[0.7777777777777778,\"#fb9f3a\"],[0.8888888888888888,\"#fdca26\"],[1.0,\"#f0f921\"]],\"type\":\"contour\"}],\"heatmapgl\":[{\"colorbar\":{\"outlinewidth\":0,\"ticks\":\"\"},\"colorscale\":[[0.0,\"#0d0887\"],[0.1111111111111111,\"#46039f\"],[0.2222222222222222,\"#7201a8\"],[0.3333333333333333,\"#9c179e\"],[0.4444444444444444,\"#bd3786\"],[0.5555555555555556,\"#d8576b\"],[0.6666666666666666,\"#ed7953\"],[0.7777777777777778,\"#fb9f3a\"],[0.8888888888888888,\"#fdca26\"],[1.0,\"#f0f921\"]],\"type\":\"heatmapgl\"}],\"heatmap\":[{\"colorbar\":{\"outlinewidth\":0,\"ticks\":\"\"},\"colorscale\":[[0.0,\"#0d0887\"],[0.1111111111111111,\"#46039f\"],[0.2222222222222222,\"#7201a8\"],[0.3333333333333333,\"#9c179e\"],[0.4444444444444444,\"#bd3786\"],[0.5555555555555556,\"#d8576b\"],[0.6666666666666666,\"#ed7953\"],[0.7777777777777778,\"#fb9f3a\"],[0.8888888888888888,\"#fdca26\"],[1.0,\"#f0f921\"]],\"type\":\"heatmap\"}],\"histogram2dcontour\":[{\"colorbar\":{\"outlinewidth\":0,\"ticks\":\"\"},\"colorscale\":[[0.0,\"#0d0887\"],[0.1111111111111111,\"#46039f\"],[0.2222222222222222,\"#7201a8\"],[0.3333333333333333,\"#9c179e\"],[0.4444444444444444,\"#bd3786\"],[0.5555555555555556,\"#d8576b\"],[0.6666666666666666,\"#ed7953\"],[0.7777777777777778,\"#fb9f3a\"],[0.8888888888888888,\"#fdca26\"],[1.0,\"#f0f921\"]],\"type\":\"histogram2dcontour\"}],\"histogram2d\":[{\"colorbar\":{\"outlinewidth\":0,\"ticks\":\"\"},\"colorscale\":[[0.0,\"#0d0887\"],[0.1111111111111111,\"#46039f\"],[0.2222222222222222,\"#7201a8\"],[0.3333333333333333,\"#9c179e\"],[0.4444444444444444,\"#bd3786\"],[0.5555555555555556,\"#d8576b\"],[0.6666666666666666,\"#ed7953\"],[0.7777777777777778,\"#fb9f3a\"],[0.8888888888888888,\"#fdca26\"],[1.0,\"#f0f921\"]],\"type\":\"histogram2d\"}],\"histogram\":[{\"marker\":{\"pattern\":{\"fillmode\":\"overlay\",\"size\":10,\"solidity\":0.2}},\"type\":\"histogram\"}],\"mesh3d\":[{\"colorbar\":{\"outlinewidth\":0,\"ticks\":\"\"},\"type\":\"mesh3d\"}],\"parcoords\":[{\"line\":{\"colorbar\":{\"outlinewidth\":0,\"ticks\":\"\"}},\"type\":\"parcoords\"}],\"pie\":[{\"automargin\":true,\"type\":\"pie\"}],\"scatter3d\":[{\"line\":{\"colorbar\":{\"outlinewidth\":0,\"ticks\":\"\"}},\"marker\":{\"colorbar\":{\"outlinewidth\":0,\"ticks\":\"\"}},\"type\":\"scatter3d\"}],\"scattercarpet\":[{\"marker\":{\"colorbar\":{\"outlinewidth\":0,\"ticks\":\"\"}},\"type\":\"scattercarpet\"}],\"scattergeo\":[{\"marker\":{\"colorbar\":{\"outlinewidth\":0,\"ticks\":\"\"}},\"type\":\"scattergeo\"}],\"scattergl\":[{\"marker\":{\"colorbar\":{\"outlinewidth\":0,\"ticks\":\"\"}},\"type\":\"scattergl\"}],\"scattermapbox\":[{\"marker\":{\"colorbar\":{\"outlinewidth\":0,\"ticks\":\"\"}},\"type\":\"scattermapbox\"}],\"scatterpolargl\":[{\"marker\":{\"colorbar\":{\"outlinewidth\":0,\"ticks\":\"\"}},\"type\":\"scatterpolargl\"}],\"scatterpolar\":[{\"marker\":{\"colorbar\":{\"outlinewidth\":0,\"ticks\":\"\"}},\"type\":\"scatterpolar\"}],\"scatter\":[{\"fillpattern\":{\"fillmode\":\"overlay\",\"size\":10,\"solidity\":0.2},\"type\":\"scatter\"}],\"scatterternary\":[{\"marker\":{\"colorbar\":{\"outlinewidth\":0,\"ticks\":\"\"}},\"type\":\"scatterternary\"}],\"surface\":[{\"colorbar\":{\"outlinewidth\":0,\"ticks\":\"\"},\"colorscale\":[[0.0,\"#0d0887\"],[0.1111111111111111,\"#46039f\"],[0.2222222222222222,\"#7201a8\"],[0.3333333333333333,\"#9c179e\"],[0.4444444444444444,\"#bd3786\"],[0.5555555555555556,\"#d8576b\"],[0.6666666666666666,\"#ed7953\"],[0.7777777777777778,\"#fb9f3a\"],[0.8888888888888888,\"#fdca26\"],[1.0,\"#f0f921\"]],\"type\":\"surface\"}],\"table\":[{\"cells\":{\"fill\":{\"color\":\"#EBF0F8\"},\"line\":{\"color\":\"white\"}},\"header\":{\"fill\":{\"color\":\"#C8D4E3\"},\"line\":{\"color\":\"white\"}},\"type\":\"table\"}]},\"layout\":{\"annotationdefaults\":{\"arrowcolor\":\"#2a3f5f\",\"arrowhead\":0,\"arrowwidth\":1},\"autotypenumbers\":\"strict\",\"coloraxis\":{\"colorbar\":{\"outlinewidth\":0,\"ticks\":\"\"}},\"colorscale\":{\"diverging\":[[0,\"#8e0152\"],[0.1,\"#c51b7d\"],[0.2,\"#de77ae\"],[0.3,\"#f1b6da\"],[0.4,\"#fde0ef\"],[0.5,\"#f7f7f7\"],[0.6,\"#e6f5d0\"],[0.7,\"#b8e186\"],[0.8,\"#7fbc41\"],[0.9,\"#4d9221\"],[1,\"#276419\"]],\"sequential\":[[0.0,\"#0d0887\"],[0.1111111111111111,\"#46039f\"],[0.2222222222222222,\"#7201a8\"],[0.3333333333333333,\"#9c179e\"],[0.4444444444444444,\"#bd3786\"],[0.5555555555555556,\"#d8576b\"],[0.6666666666666666,\"#ed7953\"],[0.7777777777777778,\"#fb9f3a\"],[0.8888888888888888,\"#fdca26\"],[1.0,\"#f0f921\"]],\"sequentialminus\":[[0.0,\"#0d0887\"],[0.1111111111111111,\"#46039f\"],[0.2222222222222222,\"#7201a8\"],[0.3333333333333333,\"#9c179e\"],[0.4444444444444444,\"#bd3786\"],[0.5555555555555556,\"#d8576b\"],[0.6666666666666666,\"#ed7953\"],[0.7777777777777778,\"#fb9f3a\"],[0.8888888888888888,\"#fdca26\"],[1.0,\"#f0f921\"]]},\"colorway\":[\"#636efa\",\"#EF553B\",\"#00cc96\",\"#ab63fa\",\"#FFA15A\",\"#19d3f3\",\"#FF6692\",\"#B6E880\",\"#FF97FF\",\"#FECB52\"],\"font\":{\"color\":\"#2a3f5f\"},\"geo\":{\"bgcolor\":\"white\",\"lakecolor\":\"white\",\"landcolor\":\"#E5ECF6\",\"showlakes\":true,\"showland\":true,\"subunitcolor\":\"white\"},\"hoverlabel\":{\"align\":\"left\"},\"hovermode\":\"closest\",\"mapbox\":{\"style\":\"light\"},\"paper_bgcolor\":\"white\",\"plot_bgcolor\":\"#E5ECF6\",\"polar\":{\"angularaxis\":{\"gridcolor\":\"white\",\"linecolor\":\"white\",\"ticks\":\"\"},\"bgcolor\":\"#E5ECF6\",\"radialaxis\":{\"gridcolor\":\"white\",\"linecolor\":\"white\",\"ticks\":\"\"}},\"scene\":{\"xaxis\":{\"backgroundcolor\":\"#E5ECF6\",\"gridcolor\":\"white\",\"gridwidth\":2,\"linecolor\":\"white\",\"showbackground\":true,\"ticks\":\"\",\"zerolinecolor\":\"white\"},\"yaxis\":{\"backgroundcolor\":\"#E5ECF6\",\"gridcolor\":\"white\",\"gridwidth\":2,\"linecolor\":\"white\",\"showbackground\":true,\"ticks\":\"\",\"zerolinecolor\":\"white\"},\"zaxis\":{\"backgroundcolor\":\"#E5ECF6\",\"gridcolor\":\"white\",\"gridwidth\":2,\"linecolor\":\"white\",\"showbackground\":true,\"ticks\":\"\",\"zerolinecolor\":\"white\"}},\"shapedefaults\":{\"line\":{\"color\":\"#2a3f5f\"}},\"ternary\":{\"aaxis\":{\"gridcolor\":\"white\",\"linecolor\":\"white\",\"ticks\":\"\"},\"baxis\":{\"gridcolor\":\"white\",\"linecolor\":\"white\",\"ticks\":\"\"},\"bgcolor\":\"#E5ECF6\",\"caxis\":{\"gridcolor\":\"white\",\"linecolor\":\"white\",\"ticks\":\"\"}},\"title\":{\"x\":0.05},\"xaxis\":{\"automargin\":true,\"gridcolor\":\"white\",\"linecolor\":\"white\",\"ticks\":\"\",\"title\":{\"standoff\":15},\"zerolinecolor\":\"white\",\"zerolinewidth\":2},\"yaxis\":{\"automargin\":true,\"gridcolor\":\"white\",\"linecolor\":\"white\",\"ticks\":\"\",\"title\":{\"standoff\":15},\"zerolinecolor\":\"white\",\"zerolinewidth\":2}}},\"title\":{\"font\":{\"color\":\"#4D5663\"}},\"xaxis\":{\"gridcolor\":\"#E1E5ED\",\"showgrid\":true,\"tickfont\":{\"color\":\"#4D5663\"},\"title\":{\"font\":{\"color\":\"#4D5663\"},\"text\":\"\"},\"zerolinecolor\":\"#E1E5ED\"},\"yaxis\":{\"gridcolor\":\"#E1E5ED\",\"showgrid\":true,\"tickfont\":{\"color\":\"#4D5663\"},\"title\":{\"font\":{\"color\":\"#4D5663\"},\"text\":\"\"},\"zerolinecolor\":\"#E1E5ED\"}},                        {\"showLink\": true, \"linkText\": \"Export to plot.ly\", \"plotlyServerURL\": \"https://plot.ly\", \"responsive\": true}                    ).then(function(){\n",
       "                            \n",
       "var gd = document.getElementById('0f739df4-2d25-477c-83e4-1e0a752ccad2');\n",
       "var x = new MutationObserver(function (mutations, observer) {{\n",
       "        var display = window.getComputedStyle(gd).display;\n",
       "        if (!display || display === 'none') {{\n",
       "            console.log([gd, 'removed!']);\n",
       "            Plotly.purge(gd);\n",
       "            observer.disconnect();\n",
       "        }}\n",
       "}});\n",
       "\n",
       "// Listen for the removal of the full notebook cells\n",
       "var notebookContainer = gd.closest('#notebook-container');\n",
       "if (notebookContainer) {{\n",
       "    x.observe(notebookContainer, {childList: true});\n",
       "}}\n",
       "\n",
       "// Listen for the clearing of the current output cell\n",
       "var outputEl = gd.closest('.output');\n",
       "if (outputEl) {{\n",
       "    x.observe(outputEl, {childList: true});\n",
       "}}\n",
       "\n",
       "                        })                };                });            </script>        </div>"
      ]
     },
     "metadata": {},
     "output_type": "display_data"
    }
   ],
   "source": [
    "df.iplot(kind='hist')\n",
    "# if you make for all data then youll get kind of overlapping histogram so you can compare "
   ]
  },
  {
   "cell_type": "code",
   "execution_count": 45,
   "metadata": {},
   "outputs": [
    {
     "name": "stderr",
     "output_type": "stream",
     "text": [
      "d:\\Anaconda\\anaconda\\Lib\\site-packages\\cufflinks\\plotlytools.py:848: FutureWarning:\n",
      "\n",
      "Series.__getitem__ treating keys as positions is deprecated. In a future version, integer keys will always be treated as labels (consistent with DataFrame behavior). To access a value by position, use `ser.iloc[pos]`\n",
      "\n"
     ]
    },
    {
     "ename": "AttributeError",
     "evalue": "module 'pandas' has no attribute 'np'",
     "output_type": "error",
     "traceback": [
      "\u001b[1;31m---------------------------------------------------------------------------\u001b[0m",
      "\u001b[1;31mAttributeError\u001b[0m                            Traceback (most recent call last)",
      "Cell \u001b[1;32mIn[45], line 2\u001b[0m\n\u001b[0;32m      1\u001b[0m \u001b[38;5;66;03m# spread data (mostly used for stocks type data)\u001b[39;00m\n\u001b[1;32m----> 2\u001b[0m \u001b[43mdf\u001b[49m\u001b[43m[\u001b[49m\u001b[43m[\u001b[49m\u001b[38;5;124;43m'\u001b[39;49m\u001b[38;5;124;43mA\u001b[39;49m\u001b[38;5;124;43m'\u001b[39;49m\u001b[43m,\u001b[49m\u001b[38;5;124;43m'\u001b[39;49m\u001b[38;5;124;43mB\u001b[39;49m\u001b[38;5;124;43m'\u001b[39;49m\u001b[43m]\u001b[49m\u001b[43m]\u001b[49m\u001b[38;5;241;43m.\u001b[39;49m\u001b[43miplot\u001b[49m\u001b[43m(\u001b[49m\u001b[43mkind\u001b[49m\u001b[38;5;241;43m=\u001b[39;49m\u001b[38;5;124;43m'\u001b[39;49m\u001b[38;5;124;43mspread\u001b[39;49m\u001b[38;5;124;43m'\u001b[39;49m\u001b[43m)\u001b[49m\n",
      "File \u001b[1;32md:\\Anaconda\\anaconda\\Lib\\site-packages\\cufflinks\\plotlytools.py:849\u001b[0m, in \u001b[0;36m_iplot\u001b[1;34m(self, kind, data, layout, filename, sharing, title, xTitle, yTitle, zTitle, theme, colors, colorscale, fill, width, dash, mode, interpolation, symbol, size, barmode, sortbars, bargap, bargroupgap, bins, histnorm, histfunc, orientation, boxpoints, annotations, keys, bestfit, bestfit_colors, mean, mean_colors, categories, x, y, z, text, gridcolor, zerolinecolor, margin, labels, values, secondary_y, secondary_y_title, subplots, shape, error_x, error_y, error_type, locations, lon, lat, asFrame, asDates, asFigure, asImage, dimensions, asPlot, asUrl, online, **kwargs)\u001b[0m\n\u001b[0;32m    847\u001b[0m \u001b[38;5;28;01mif\u001b[39;00m kind\u001b[38;5;241m==\u001b[39m\u001b[38;5;124m'\u001b[39m\u001b[38;5;124mspread\u001b[39m\u001b[38;5;124m'\u001b[39m:\n\u001b[0;32m    848\u001b[0m \ttrace\u001b[38;5;241m=\u001b[39m\u001b[38;5;28mself\u001b[39m\u001b[38;5;241m.\u001b[39mapply(\u001b[38;5;28;01mlambda\u001b[39;00m x:x[\u001b[38;5;241m0\u001b[39m]\u001b[38;5;241m-\u001b[39mx[\u001b[38;5;241m1\u001b[39m],axis\u001b[38;5;241m=\u001b[39m\u001b[38;5;241m1\u001b[39m)\n\u001b[1;32m--> 849\u001b[0m \tpositive\u001b[38;5;241m=\u001b[39m\u001b[43mtrace\u001b[49m\u001b[38;5;241;43m.\u001b[39;49m\u001b[43mapply\u001b[49m\u001b[43m(\u001b[49m\u001b[38;5;28;43;01mlambda\u001b[39;49;00m\u001b[43m \u001b[49m\u001b[43mx\u001b[49m\u001b[43m:\u001b[49m\u001b[43mx\u001b[49m\u001b[43m \u001b[49m\u001b[38;5;28;43;01mif\u001b[39;49;00m\u001b[43m \u001b[49m\u001b[43mx\u001b[49m\u001b[38;5;241;43m>\u001b[39;49m\u001b[38;5;241;43m=\u001b[39;49m\u001b[38;5;241;43m0\u001b[39;49m\u001b[43m \u001b[49m\u001b[38;5;28;43;01melse\u001b[39;49;00m\u001b[43m \u001b[49m\u001b[43mpd\u001b[49m\u001b[38;5;241;43m.\u001b[39;49m\u001b[43mnp\u001b[49m\u001b[38;5;241;43m.\u001b[39;49m\u001b[43mnan\u001b[49m\u001b[43m)\u001b[49m\n\u001b[0;32m    850\u001b[0m \tnegative\u001b[38;5;241m=\u001b[39mtrace\u001b[38;5;241m.\u001b[39mapply(\u001b[38;5;28;01mlambda\u001b[39;00m x:x \u001b[38;5;28;01mif\u001b[39;00m x\u001b[38;5;241m<\u001b[39m\u001b[38;5;241m0\u001b[39m \u001b[38;5;28;01melse\u001b[39;00m pd\u001b[38;5;241m.\u001b[39mnp\u001b[38;5;241m.\u001b[39mnan)\n\u001b[0;32m    851\u001b[0m \ttrace\u001b[38;5;241m=\u001b[39mpd\u001b[38;5;241m.\u001b[39mDataFrame({\u001b[38;5;124m'\u001b[39m\u001b[38;5;124mpositive\u001b[39m\u001b[38;5;124m'\u001b[39m:positive,\u001b[38;5;124m'\u001b[39m\u001b[38;5;124mnegative\u001b[39m\u001b[38;5;124m'\u001b[39m:negative})\n",
      "File \u001b[1;32md:\\Anaconda\\anaconda\\Lib\\site-packages\\pandas\\core\\series.py:4924\u001b[0m, in \u001b[0;36mSeries.apply\u001b[1;34m(self, func, convert_dtype, args, by_row, **kwargs)\u001b[0m\n\u001b[0;32m   4789\u001b[0m \u001b[38;5;28;01mdef\u001b[39;00m \u001b[38;5;21mapply\u001b[39m(\n\u001b[0;32m   4790\u001b[0m     \u001b[38;5;28mself\u001b[39m,\n\u001b[0;32m   4791\u001b[0m     func: AggFuncType,\n\u001b[1;32m   (...)\u001b[0m\n\u001b[0;32m   4796\u001b[0m     \u001b[38;5;241m*\u001b[39m\u001b[38;5;241m*\u001b[39mkwargs,\n\u001b[0;32m   4797\u001b[0m ) \u001b[38;5;241m-\u001b[39m\u001b[38;5;241m>\u001b[39m DataFrame \u001b[38;5;241m|\u001b[39m Series:\n\u001b[0;32m   4798\u001b[0m \u001b[38;5;250m    \u001b[39m\u001b[38;5;124;03m\"\"\"\u001b[39;00m\n\u001b[0;32m   4799\u001b[0m \u001b[38;5;124;03m    Invoke function on values of Series.\u001b[39;00m\n\u001b[0;32m   4800\u001b[0m \n\u001b[1;32m   (...)\u001b[0m\n\u001b[0;32m   4915\u001b[0m \u001b[38;5;124;03m    dtype: float64\u001b[39;00m\n\u001b[0;32m   4916\u001b[0m \u001b[38;5;124;03m    \"\"\"\u001b[39;00m\n\u001b[0;32m   4917\u001b[0m     \u001b[38;5;28;01mreturn\u001b[39;00m \u001b[43mSeriesApply\u001b[49m\u001b[43m(\u001b[49m\n\u001b[0;32m   4918\u001b[0m \u001b[43m        \u001b[49m\u001b[38;5;28;43mself\u001b[39;49m\u001b[43m,\u001b[49m\n\u001b[0;32m   4919\u001b[0m \u001b[43m        \u001b[49m\u001b[43mfunc\u001b[49m\u001b[43m,\u001b[49m\n\u001b[0;32m   4920\u001b[0m \u001b[43m        \u001b[49m\u001b[43mconvert_dtype\u001b[49m\u001b[38;5;241;43m=\u001b[39;49m\u001b[43mconvert_dtype\u001b[49m\u001b[43m,\u001b[49m\n\u001b[0;32m   4921\u001b[0m \u001b[43m        \u001b[49m\u001b[43mby_row\u001b[49m\u001b[38;5;241;43m=\u001b[39;49m\u001b[43mby_row\u001b[49m\u001b[43m,\u001b[49m\n\u001b[0;32m   4922\u001b[0m \u001b[43m        \u001b[49m\u001b[43margs\u001b[49m\u001b[38;5;241;43m=\u001b[39;49m\u001b[43margs\u001b[49m\u001b[43m,\u001b[49m\n\u001b[0;32m   4923\u001b[0m \u001b[43m        \u001b[49m\u001b[43mkwargs\u001b[49m\u001b[38;5;241;43m=\u001b[39;49m\u001b[43mkwargs\u001b[49m\u001b[43m,\u001b[49m\n\u001b[1;32m-> 4924\u001b[0m \u001b[43m    \u001b[49m\u001b[43m)\u001b[49m\u001b[38;5;241;43m.\u001b[39;49m\u001b[43mapply\u001b[49m\u001b[43m(\u001b[49m\u001b[43m)\u001b[49m\n",
      "File \u001b[1;32md:\\Anaconda\\anaconda\\Lib\\site-packages\\pandas\\core\\apply.py:1427\u001b[0m, in \u001b[0;36mSeriesApply.apply\u001b[1;34m(self)\u001b[0m\n\u001b[0;32m   1424\u001b[0m     \u001b[38;5;28;01mreturn\u001b[39;00m \u001b[38;5;28mself\u001b[39m\u001b[38;5;241m.\u001b[39mapply_compat()\n\u001b[0;32m   1426\u001b[0m \u001b[38;5;66;03m# self.func is Callable\u001b[39;00m\n\u001b[1;32m-> 1427\u001b[0m \u001b[38;5;28;01mreturn\u001b[39;00m \u001b[38;5;28;43mself\u001b[39;49m\u001b[38;5;241;43m.\u001b[39;49m\u001b[43mapply_standard\u001b[49m\u001b[43m(\u001b[49m\u001b[43m)\u001b[49m\n",
      "File \u001b[1;32md:\\Anaconda\\anaconda\\Lib\\site-packages\\pandas\\core\\apply.py:1507\u001b[0m, in \u001b[0;36mSeriesApply.apply_standard\u001b[1;34m(self)\u001b[0m\n\u001b[0;32m   1501\u001b[0m \u001b[38;5;66;03m# row-wise access\u001b[39;00m\n\u001b[0;32m   1502\u001b[0m \u001b[38;5;66;03m# apply doesn't have a `na_action` keyword and for backward compat reasons\u001b[39;00m\n\u001b[0;32m   1503\u001b[0m \u001b[38;5;66;03m# we need to give `na_action=\"ignore\"` for categorical data.\u001b[39;00m\n\u001b[0;32m   1504\u001b[0m \u001b[38;5;66;03m# TODO: remove the `na_action=\"ignore\"` when that default has been changed in\u001b[39;00m\n\u001b[0;32m   1505\u001b[0m \u001b[38;5;66;03m#  Categorical (GH51645).\u001b[39;00m\n\u001b[0;32m   1506\u001b[0m action \u001b[38;5;241m=\u001b[39m \u001b[38;5;124m\"\u001b[39m\u001b[38;5;124mignore\u001b[39m\u001b[38;5;124m\"\u001b[39m \u001b[38;5;28;01mif\u001b[39;00m \u001b[38;5;28misinstance\u001b[39m(obj\u001b[38;5;241m.\u001b[39mdtype, CategoricalDtype) \u001b[38;5;28;01melse\u001b[39;00m \u001b[38;5;28;01mNone\u001b[39;00m\n\u001b[1;32m-> 1507\u001b[0m mapped \u001b[38;5;241m=\u001b[39m \u001b[43mobj\u001b[49m\u001b[38;5;241;43m.\u001b[39;49m\u001b[43m_map_values\u001b[49m\u001b[43m(\u001b[49m\n\u001b[0;32m   1508\u001b[0m \u001b[43m    \u001b[49m\u001b[43mmapper\u001b[49m\u001b[38;5;241;43m=\u001b[39;49m\u001b[43mcurried\u001b[49m\u001b[43m,\u001b[49m\u001b[43m \u001b[49m\u001b[43mna_action\u001b[49m\u001b[38;5;241;43m=\u001b[39;49m\u001b[43maction\u001b[49m\u001b[43m,\u001b[49m\u001b[43m \u001b[49m\u001b[43mconvert\u001b[49m\u001b[38;5;241;43m=\u001b[39;49m\u001b[38;5;28;43mself\u001b[39;49m\u001b[38;5;241;43m.\u001b[39;49m\u001b[43mconvert_dtype\u001b[49m\n\u001b[0;32m   1509\u001b[0m \u001b[43m\u001b[49m\u001b[43m)\u001b[49m\n\u001b[0;32m   1511\u001b[0m \u001b[38;5;28;01mif\u001b[39;00m \u001b[38;5;28mlen\u001b[39m(mapped) \u001b[38;5;129;01mand\u001b[39;00m \u001b[38;5;28misinstance\u001b[39m(mapped[\u001b[38;5;241m0\u001b[39m], ABCSeries):\n\u001b[0;32m   1512\u001b[0m     \u001b[38;5;66;03m# GH#43986 Need to do list(mapped) in order to get treated as nested\u001b[39;00m\n\u001b[0;32m   1513\u001b[0m     \u001b[38;5;66;03m#  See also GH#25959 regarding EA support\u001b[39;00m\n\u001b[0;32m   1514\u001b[0m     \u001b[38;5;28;01mreturn\u001b[39;00m obj\u001b[38;5;241m.\u001b[39m_constructor_expanddim(\u001b[38;5;28mlist\u001b[39m(mapped), index\u001b[38;5;241m=\u001b[39mobj\u001b[38;5;241m.\u001b[39mindex)\n",
      "File \u001b[1;32md:\\Anaconda\\anaconda\\Lib\\site-packages\\pandas\\core\\base.py:921\u001b[0m, in \u001b[0;36mIndexOpsMixin._map_values\u001b[1;34m(self, mapper, na_action, convert)\u001b[0m\n\u001b[0;32m    918\u001b[0m \u001b[38;5;28;01mif\u001b[39;00m \u001b[38;5;28misinstance\u001b[39m(arr, ExtensionArray):\n\u001b[0;32m    919\u001b[0m     \u001b[38;5;28;01mreturn\u001b[39;00m arr\u001b[38;5;241m.\u001b[39mmap(mapper, na_action\u001b[38;5;241m=\u001b[39mna_action)\n\u001b[1;32m--> 921\u001b[0m \u001b[38;5;28;01mreturn\u001b[39;00m \u001b[43malgorithms\u001b[49m\u001b[38;5;241;43m.\u001b[39;49m\u001b[43mmap_array\u001b[49m\u001b[43m(\u001b[49m\u001b[43marr\u001b[49m\u001b[43m,\u001b[49m\u001b[43m \u001b[49m\u001b[43mmapper\u001b[49m\u001b[43m,\u001b[49m\u001b[43m \u001b[49m\u001b[43mna_action\u001b[49m\u001b[38;5;241;43m=\u001b[39;49m\u001b[43mna_action\u001b[49m\u001b[43m,\u001b[49m\u001b[43m \u001b[49m\u001b[43mconvert\u001b[49m\u001b[38;5;241;43m=\u001b[39;49m\u001b[43mconvert\u001b[49m\u001b[43m)\u001b[49m\n",
      "File \u001b[1;32md:\\Anaconda\\anaconda\\Lib\\site-packages\\pandas\\core\\algorithms.py:1743\u001b[0m, in \u001b[0;36mmap_array\u001b[1;34m(arr, mapper, na_action, convert)\u001b[0m\n\u001b[0;32m   1741\u001b[0m values \u001b[38;5;241m=\u001b[39m arr\u001b[38;5;241m.\u001b[39mastype(\u001b[38;5;28mobject\u001b[39m, copy\u001b[38;5;241m=\u001b[39m\u001b[38;5;28;01mFalse\u001b[39;00m)\n\u001b[0;32m   1742\u001b[0m \u001b[38;5;28;01mif\u001b[39;00m na_action \u001b[38;5;129;01mis\u001b[39;00m \u001b[38;5;28;01mNone\u001b[39;00m:\n\u001b[1;32m-> 1743\u001b[0m     \u001b[38;5;28;01mreturn\u001b[39;00m \u001b[43mlib\u001b[49m\u001b[38;5;241;43m.\u001b[39;49m\u001b[43mmap_infer\u001b[49m\u001b[43m(\u001b[49m\u001b[43mvalues\u001b[49m\u001b[43m,\u001b[49m\u001b[43m \u001b[49m\u001b[43mmapper\u001b[49m\u001b[43m,\u001b[49m\u001b[43m \u001b[49m\u001b[43mconvert\u001b[49m\u001b[38;5;241;43m=\u001b[39;49m\u001b[43mconvert\u001b[49m\u001b[43m)\u001b[49m\n\u001b[0;32m   1744\u001b[0m \u001b[38;5;28;01melse\u001b[39;00m:\n\u001b[0;32m   1745\u001b[0m     \u001b[38;5;28;01mreturn\u001b[39;00m lib\u001b[38;5;241m.\u001b[39mmap_infer_mask(\n\u001b[0;32m   1746\u001b[0m         values, mapper, mask\u001b[38;5;241m=\u001b[39misna(values)\u001b[38;5;241m.\u001b[39mview(np\u001b[38;5;241m.\u001b[39muint8), convert\u001b[38;5;241m=\u001b[39mconvert\n\u001b[0;32m   1747\u001b[0m     )\n",
      "File \u001b[1;32mlib.pyx:2972\u001b[0m, in \u001b[0;36mpandas._libs.lib.map_infer\u001b[1;34m()\u001b[0m\n",
      "File \u001b[1;32md:\\Anaconda\\anaconda\\Lib\\site-packages\\cufflinks\\plotlytools.py:849\u001b[0m, in \u001b[0;36m_iplot.<locals>.<lambda>\u001b[1;34m(x)\u001b[0m\n\u001b[0;32m    847\u001b[0m \u001b[38;5;28;01mif\u001b[39;00m kind\u001b[38;5;241m==\u001b[39m\u001b[38;5;124m'\u001b[39m\u001b[38;5;124mspread\u001b[39m\u001b[38;5;124m'\u001b[39m:\n\u001b[0;32m    848\u001b[0m \ttrace\u001b[38;5;241m=\u001b[39m\u001b[38;5;28mself\u001b[39m\u001b[38;5;241m.\u001b[39mapply(\u001b[38;5;28;01mlambda\u001b[39;00m x:x[\u001b[38;5;241m0\u001b[39m]\u001b[38;5;241m-\u001b[39mx[\u001b[38;5;241m1\u001b[39m],axis\u001b[38;5;241m=\u001b[39m\u001b[38;5;241m1\u001b[39m)\n\u001b[1;32m--> 849\u001b[0m \tpositive\u001b[38;5;241m=\u001b[39mtrace\u001b[38;5;241m.\u001b[39mapply(\u001b[38;5;28;01mlambda\u001b[39;00m x:x \u001b[38;5;28;01mif\u001b[39;00m x\u001b[38;5;241m>\u001b[39m\u001b[38;5;241m=\u001b[39m\u001b[38;5;241m0\u001b[39m \u001b[38;5;28;01melse\u001b[39;00m \u001b[43mpd\u001b[49m\u001b[38;5;241;43m.\u001b[39;49m\u001b[43mnp\u001b[49m\u001b[38;5;241m.\u001b[39mnan)\n\u001b[0;32m    850\u001b[0m \tnegative\u001b[38;5;241m=\u001b[39mtrace\u001b[38;5;241m.\u001b[39mapply(\u001b[38;5;28;01mlambda\u001b[39;00m x:x \u001b[38;5;28;01mif\u001b[39;00m x\u001b[38;5;241m<\u001b[39m\u001b[38;5;241m0\u001b[39m \u001b[38;5;28;01melse\u001b[39;00m pd\u001b[38;5;241m.\u001b[39mnp\u001b[38;5;241m.\u001b[39mnan)\n\u001b[0;32m    851\u001b[0m \ttrace\u001b[38;5;241m=\u001b[39mpd\u001b[38;5;241m.\u001b[39mDataFrame({\u001b[38;5;124m'\u001b[39m\u001b[38;5;124mpositive\u001b[39m\u001b[38;5;124m'\u001b[39m:positive,\u001b[38;5;124m'\u001b[39m\u001b[38;5;124mnegative\u001b[39m\u001b[38;5;124m'\u001b[39m:negative})\n",
      "\u001b[1;31mAttributeError\u001b[0m: module 'pandas' has no attribute 'np'"
     ]
    }
   ],
   "source": [
    "# spread data (mostly used for stocks type data)\n",
    "df[['A','B']].iplot(kind='spread')"
   ]
  },
  {
   "cell_type": "code",
   "execution_count": 53,
   "metadata": {},
   "outputs": [
    {
     "data": {
      "application/vnd.plotly.v1+json": {
       "config": {
        "linkText": "Export to plot.ly",
        "plotlyServerURL": "https://plot.ly",
        "showLink": true
       },
       "data": [
        {
         "marker": {
          "color": [
           "rgb(255, 153, 51)",
           "rgb(55, 128, 191)",
           "rgb(50, 171, 96)",
           "rgb(128, 0, 128)",
           "rgb(219, 64, 82)",
           "rgb(0, 128, 128)",
           "rgb(255, 255, 51)",
           "rgb(128, 128, 0)",
           "rgb(251, 128, 114)",
           "rgb(128, 177, 211)"
          ],
          "line": {
           "width": 1.3
          },
          "size": [
           78,
           40,
           69,
           56,
           74,
           24,
           39,
           12,
           35,
           56,
           46,
           24,
           94,
           27,
           50,
           72,
           35,
           65,
           41,
           32,
           31,
           40,
           89,
           39,
           50,
           16,
           35,
           17,
           60,
           76,
           59,
           58,
           64,
           42,
           62,
           99,
           70,
           43,
           20,
           51,
           55,
           69,
           37,
           62,
           48,
           53,
           27,
           38,
           35,
           40,
           38,
           28,
           32,
           54,
           40,
           65,
           47,
           48,
           49,
           64,
           32,
           37,
           64,
           60,
           109,
           47,
           80,
           56,
           56,
           60,
           34,
           47,
           68,
           59,
           46,
           15,
           63,
           84,
           32,
           61,
           41,
           27,
           70,
           17,
           58,
           52,
           45,
           47,
           46,
           53,
           61,
           62,
           32,
           63,
           63,
           27,
           30,
           111,
           112,
           26
          ],
          "symbol": "circle"
         },
         "mode": "markers",
         "text": "",
         "type": "scatter",
         "x": [
          -0.8954787537425822,
          1.3853378324685472,
          -1.228452817951252,
          -0.3424793683140804,
          -1.036680330412496,
          0.19015493165759942,
          0.17963978229923314,
          -0.9116175027522325,
          -0.21593023400594136,
          -0.2779506697081478,
          0.7235529276697348,
          0.1390777881070409,
          1.2405057033932279,
          1.6216724103072697,
          1.3643013806654916,
          -0.41731644398988027,
          -0.8458719596298891,
          -1.1215328734215342,
          0.09781894172468565,
          0.5551170140613797,
          1.290111091375146,
          -0.964709847431916,
          0.028727829996969215,
          -0.6151570639534203,
          0.8723196106463363,
          0.3424531500181427,
          -0.28768015582637674,
          0.40831304168242943,
          -2.519472311917223,
          0.3974550135542539,
          -0.3921532733587675,
          0.1490494785437309,
          -0.3121488819015316,
          -0.2358361304910559,
          -0.6027225763839881,
          0.7416273940186792,
          0.08286706737698286,
          0.4207503841010657,
          1.8624742014955278,
          1.625475305259574,
          0.10429331893932867,
          0.9184511642012367,
          2.181525124256408,
          -1.1563609727626594,
          0.028709521213927475,
          -0.2375569827884672,
          -0.23299649652787194,
          0.31775960186369745,
          0.7912388545129444,
          -0.21118301495412745,
          -0.8996836938704721,
          -1.5605972680456297,
          2.1567907489206997,
          -0.5279845006046894,
          0.7643241689489472,
          0.47619276965888035,
          1.4848901510475798,
          -0.15405129754079055,
          0.8961759234985016,
          0.007893186212914067,
          -0.20428335996163577,
          -0.6129935669515203,
          1.4101729802367804,
          -0.19045873408490974,
          -1.8784565574847774,
          2.2565342844087,
          0.5135638577038365,
          -0.2069560506724559,
          -1.8454699265247374,
          -1.7956926842182614,
          -0.15851038725001843,
          0.6048254421740097,
          -0.16118950550233477,
          -1.2631292300656045,
          -0.5435992120955132,
          0.5840495350623373,
          -0.8090900162261967,
          -0.6751748918388873,
          -0.4664535713177918,
          0.44326211987086894,
          -0.3723107881909927,
          -0.41126499674516737,
          -0.4313596702248325,
          1.1079793191944676,
          -1.5025325159282852,
          -1.1277676623437611,
          -1.7335456219153391,
          0.5006680549335961,
          0.9344649008180488,
          0.485724302055071,
          -0.9236043205237382,
          -0.06786370942009176,
          0.08506451564779151,
          -0.8354758300636222,
          0.5214516959248535,
          0.4445426788393895,
          0.7832318684627283,
          0.23712211426636307,
          -0.537220419964115,
          0.6795511371015246
         ],
         "y": [
          1.2330537097935343,
          0.11458097884445924,
          -0.9351958452452672,
          -1.4218432334766258,
          -0.5190303900137669,
          1.5102636903768525,
          0.4942950888284143,
          0.6148665809359691,
          -0.8295937565931014,
          0.5742665777687568,
          0.6179720652176569,
          -0.7936568541031073,
          -0.21054951866999908,
          -2.1682340263166604,
          1.7838858272054348,
          1.2954772761745392,
          1.160958828244452,
          -0.4351638102178348,
          0.016933996248292664,
          -1.8232969002549744,
          0.38222658174304364,
          -1.2234002835843565,
          -0.17849006665488779,
          -0.46825142508770273,
          -0.7776764077808724,
          -0.16925348148956473,
          0.4195825182870957,
          -0.3376038664622978,
          0.04256230459411407,
          0.2843192801057243,
          -0.20904498844493297,
          -0.0535713432493876,
          -0.27871118405401163,
          0.7633740996474665,
          -0.5589179635467679,
          0.4331240850095735,
          -1.1506589475828257,
          -0.3575813660429083,
          1.3808553736596048,
          -1.297070899438046,
          0.7987662356271483,
          -1.0321312971040055,
          0.6719707278520592,
          0.21750970397278124,
          -2.1679063088449477,
          -0.23340931400511625,
          1.885221125925643,
          -0.6051103392719552,
          -0.27336300038169786,
          0.19905980304961726,
          1.0604156655779047,
          -0.3875256103534181,
          -0.25910830497567866,
          1.2923851486789044,
          -0.2533139244859124,
          -0.2275319328040062,
          0.7814588386550321,
          0.47649873875247023,
          0.04115450706471839,
          1.7916876078845752,
          -0.4270194072726322,
          0.4012928155078483,
          -0.3404903856957402,
          0.8297506803029159,
          0.3803349840608319,
          -1.9805681304968268,
          -0.3562618372012064,
          0.3940265384863148,
          -0.5080704865712032,
          -1.5278762790472784,
          -0.1490674274164066,
          0.5278384946491753,
          0.4345439761886359,
          0.3159602633645175,
          0.58483340275023,
          1.3127414602070275,
          0.6934248167282844,
          0.010066619498830708,
          -2.656800549371415,
          2.4368587370924066,
          1.539961653073386,
          -1.8455500286996822,
          0.12066425443502592,
          -1.6728037334111137,
          0.19708640936661206,
          1.7030851208538846,
          0.5125284778379251,
          -1.1756952746509701,
          -1.4326974623177466,
          -1.4677571299667684,
          0.41472849932432676,
          -1.118729946802453,
          -0.8694882891178901,
          0.4371214376109995,
          1.11407701589781,
          0.5742729307504939,
          0.046112074600036246,
          -0.07648809484357338,
          -0.9350489671505954,
          -0.850019613995692
         ]
        }
       ],
       "layout": {
        "legend": {
         "bgcolor": "#F5F6F9",
         "font": {
          "color": "#4D5663"
         }
        },
        "paper_bgcolor": "#F5F6F9",
        "plot_bgcolor": "#F5F6F9",
        "template": {
         "data": {
          "bar": [
           {
            "error_x": {
             "color": "#2a3f5f"
            },
            "error_y": {
             "color": "#2a3f5f"
            },
            "marker": {
             "line": {
              "color": "#E5ECF6",
              "width": 0.5
             },
             "pattern": {
              "fillmode": "overlay",
              "size": 10,
              "solidity": 0.2
             }
            },
            "type": "bar"
           }
          ],
          "barpolar": [
           {
            "marker": {
             "line": {
              "color": "#E5ECF6",
              "width": 0.5
             },
             "pattern": {
              "fillmode": "overlay",
              "size": 10,
              "solidity": 0.2
             }
            },
            "type": "barpolar"
           }
          ],
          "carpet": [
           {
            "aaxis": {
             "endlinecolor": "#2a3f5f",
             "gridcolor": "white",
             "linecolor": "white",
             "minorgridcolor": "white",
             "startlinecolor": "#2a3f5f"
            },
            "baxis": {
             "endlinecolor": "#2a3f5f",
             "gridcolor": "white",
             "linecolor": "white",
             "minorgridcolor": "white",
             "startlinecolor": "#2a3f5f"
            },
            "type": "carpet"
           }
          ],
          "choropleth": [
           {
            "colorbar": {
             "outlinewidth": 0,
             "ticks": ""
            },
            "type": "choropleth"
           }
          ],
          "contour": [
           {
            "colorbar": {
             "outlinewidth": 0,
             "ticks": ""
            },
            "colorscale": [
             [
              0,
              "#0d0887"
             ],
             [
              0.1111111111111111,
              "#46039f"
             ],
             [
              0.2222222222222222,
              "#7201a8"
             ],
             [
              0.3333333333333333,
              "#9c179e"
             ],
             [
              0.4444444444444444,
              "#bd3786"
             ],
             [
              0.5555555555555556,
              "#d8576b"
             ],
             [
              0.6666666666666666,
              "#ed7953"
             ],
             [
              0.7777777777777778,
              "#fb9f3a"
             ],
             [
              0.8888888888888888,
              "#fdca26"
             ],
             [
              1,
              "#f0f921"
             ]
            ],
            "type": "contour"
           }
          ],
          "contourcarpet": [
           {
            "colorbar": {
             "outlinewidth": 0,
             "ticks": ""
            },
            "type": "contourcarpet"
           }
          ],
          "heatmap": [
           {
            "colorbar": {
             "outlinewidth": 0,
             "ticks": ""
            },
            "colorscale": [
             [
              0,
              "#0d0887"
             ],
             [
              0.1111111111111111,
              "#46039f"
             ],
             [
              0.2222222222222222,
              "#7201a8"
             ],
             [
              0.3333333333333333,
              "#9c179e"
             ],
             [
              0.4444444444444444,
              "#bd3786"
             ],
             [
              0.5555555555555556,
              "#d8576b"
             ],
             [
              0.6666666666666666,
              "#ed7953"
             ],
             [
              0.7777777777777778,
              "#fb9f3a"
             ],
             [
              0.8888888888888888,
              "#fdca26"
             ],
             [
              1,
              "#f0f921"
             ]
            ],
            "type": "heatmap"
           }
          ],
          "heatmapgl": [
           {
            "colorbar": {
             "outlinewidth": 0,
             "ticks": ""
            },
            "colorscale": [
             [
              0,
              "#0d0887"
             ],
             [
              0.1111111111111111,
              "#46039f"
             ],
             [
              0.2222222222222222,
              "#7201a8"
             ],
             [
              0.3333333333333333,
              "#9c179e"
             ],
             [
              0.4444444444444444,
              "#bd3786"
             ],
             [
              0.5555555555555556,
              "#d8576b"
             ],
             [
              0.6666666666666666,
              "#ed7953"
             ],
             [
              0.7777777777777778,
              "#fb9f3a"
             ],
             [
              0.8888888888888888,
              "#fdca26"
             ],
             [
              1,
              "#f0f921"
             ]
            ],
            "type": "heatmapgl"
           }
          ],
          "histogram": [
           {
            "marker": {
             "pattern": {
              "fillmode": "overlay",
              "size": 10,
              "solidity": 0.2
             }
            },
            "type": "histogram"
           }
          ],
          "histogram2d": [
           {
            "colorbar": {
             "outlinewidth": 0,
             "ticks": ""
            },
            "colorscale": [
             [
              0,
              "#0d0887"
             ],
             [
              0.1111111111111111,
              "#46039f"
             ],
             [
              0.2222222222222222,
              "#7201a8"
             ],
             [
              0.3333333333333333,
              "#9c179e"
             ],
             [
              0.4444444444444444,
              "#bd3786"
             ],
             [
              0.5555555555555556,
              "#d8576b"
             ],
             [
              0.6666666666666666,
              "#ed7953"
             ],
             [
              0.7777777777777778,
              "#fb9f3a"
             ],
             [
              0.8888888888888888,
              "#fdca26"
             ],
             [
              1,
              "#f0f921"
             ]
            ],
            "type": "histogram2d"
           }
          ],
          "histogram2dcontour": [
           {
            "colorbar": {
             "outlinewidth": 0,
             "ticks": ""
            },
            "colorscale": [
             [
              0,
              "#0d0887"
             ],
             [
              0.1111111111111111,
              "#46039f"
             ],
             [
              0.2222222222222222,
              "#7201a8"
             ],
             [
              0.3333333333333333,
              "#9c179e"
             ],
             [
              0.4444444444444444,
              "#bd3786"
             ],
             [
              0.5555555555555556,
              "#d8576b"
             ],
             [
              0.6666666666666666,
              "#ed7953"
             ],
             [
              0.7777777777777778,
              "#fb9f3a"
             ],
             [
              0.8888888888888888,
              "#fdca26"
             ],
             [
              1,
              "#f0f921"
             ]
            ],
            "type": "histogram2dcontour"
           }
          ],
          "mesh3d": [
           {
            "colorbar": {
             "outlinewidth": 0,
             "ticks": ""
            },
            "type": "mesh3d"
           }
          ],
          "parcoords": [
           {
            "line": {
             "colorbar": {
              "outlinewidth": 0,
              "ticks": ""
             }
            },
            "type": "parcoords"
           }
          ],
          "pie": [
           {
            "automargin": true,
            "type": "pie"
           }
          ],
          "scatter": [
           {
            "fillpattern": {
             "fillmode": "overlay",
             "size": 10,
             "solidity": 0.2
            },
            "type": "scatter"
           }
          ],
          "scatter3d": [
           {
            "line": {
             "colorbar": {
              "outlinewidth": 0,
              "ticks": ""
             }
            },
            "marker": {
             "colorbar": {
              "outlinewidth": 0,
              "ticks": ""
             }
            },
            "type": "scatter3d"
           }
          ],
          "scattercarpet": [
           {
            "marker": {
             "colorbar": {
              "outlinewidth": 0,
              "ticks": ""
             }
            },
            "type": "scattercarpet"
           }
          ],
          "scattergeo": [
           {
            "marker": {
             "colorbar": {
              "outlinewidth": 0,
              "ticks": ""
             }
            },
            "type": "scattergeo"
           }
          ],
          "scattergl": [
           {
            "marker": {
             "colorbar": {
              "outlinewidth": 0,
              "ticks": ""
             }
            },
            "type": "scattergl"
           }
          ],
          "scattermapbox": [
           {
            "marker": {
             "colorbar": {
              "outlinewidth": 0,
              "ticks": ""
             }
            },
            "type": "scattermapbox"
           }
          ],
          "scatterpolar": [
           {
            "marker": {
             "colorbar": {
              "outlinewidth": 0,
              "ticks": ""
             }
            },
            "type": "scatterpolar"
           }
          ],
          "scatterpolargl": [
           {
            "marker": {
             "colorbar": {
              "outlinewidth": 0,
              "ticks": ""
             }
            },
            "type": "scatterpolargl"
           }
          ],
          "scatterternary": [
           {
            "marker": {
             "colorbar": {
              "outlinewidth": 0,
              "ticks": ""
             }
            },
            "type": "scatterternary"
           }
          ],
          "surface": [
           {
            "colorbar": {
             "outlinewidth": 0,
             "ticks": ""
            },
            "colorscale": [
             [
              0,
              "#0d0887"
             ],
             [
              0.1111111111111111,
              "#46039f"
             ],
             [
              0.2222222222222222,
              "#7201a8"
             ],
             [
              0.3333333333333333,
              "#9c179e"
             ],
             [
              0.4444444444444444,
              "#bd3786"
             ],
             [
              0.5555555555555556,
              "#d8576b"
             ],
             [
              0.6666666666666666,
              "#ed7953"
             ],
             [
              0.7777777777777778,
              "#fb9f3a"
             ],
             [
              0.8888888888888888,
              "#fdca26"
             ],
             [
              1,
              "#f0f921"
             ]
            ],
            "type": "surface"
           }
          ],
          "table": [
           {
            "cells": {
             "fill": {
              "color": "#EBF0F8"
             },
             "line": {
              "color": "white"
             }
            },
            "header": {
             "fill": {
              "color": "#C8D4E3"
             },
             "line": {
              "color": "white"
             }
            },
            "type": "table"
           }
          ]
         },
         "layout": {
          "annotationdefaults": {
           "arrowcolor": "#2a3f5f",
           "arrowhead": 0,
           "arrowwidth": 1
          },
          "autotypenumbers": "strict",
          "coloraxis": {
           "colorbar": {
            "outlinewidth": 0,
            "ticks": ""
           }
          },
          "colorscale": {
           "diverging": [
            [
             0,
             "#8e0152"
            ],
            [
             0.1,
             "#c51b7d"
            ],
            [
             0.2,
             "#de77ae"
            ],
            [
             0.3,
             "#f1b6da"
            ],
            [
             0.4,
             "#fde0ef"
            ],
            [
             0.5,
             "#f7f7f7"
            ],
            [
             0.6,
             "#e6f5d0"
            ],
            [
             0.7,
             "#b8e186"
            ],
            [
             0.8,
             "#7fbc41"
            ],
            [
             0.9,
             "#4d9221"
            ],
            [
             1,
             "#276419"
            ]
           ],
           "sequential": [
            [
             0,
             "#0d0887"
            ],
            [
             0.1111111111111111,
             "#46039f"
            ],
            [
             0.2222222222222222,
             "#7201a8"
            ],
            [
             0.3333333333333333,
             "#9c179e"
            ],
            [
             0.4444444444444444,
             "#bd3786"
            ],
            [
             0.5555555555555556,
             "#d8576b"
            ],
            [
             0.6666666666666666,
             "#ed7953"
            ],
            [
             0.7777777777777778,
             "#fb9f3a"
            ],
            [
             0.8888888888888888,
             "#fdca26"
            ],
            [
             1,
             "#f0f921"
            ]
           ],
           "sequentialminus": [
            [
             0,
             "#0d0887"
            ],
            [
             0.1111111111111111,
             "#46039f"
            ],
            [
             0.2222222222222222,
             "#7201a8"
            ],
            [
             0.3333333333333333,
             "#9c179e"
            ],
            [
             0.4444444444444444,
             "#bd3786"
            ],
            [
             0.5555555555555556,
             "#d8576b"
            ],
            [
             0.6666666666666666,
             "#ed7953"
            ],
            [
             0.7777777777777778,
             "#fb9f3a"
            ],
            [
             0.8888888888888888,
             "#fdca26"
            ],
            [
             1,
             "#f0f921"
            ]
           ]
          },
          "colorway": [
           "#636efa",
           "#EF553B",
           "#00cc96",
           "#ab63fa",
           "#FFA15A",
           "#19d3f3",
           "#FF6692",
           "#B6E880",
           "#FF97FF",
           "#FECB52"
          ],
          "font": {
           "color": "#2a3f5f"
          },
          "geo": {
           "bgcolor": "white",
           "lakecolor": "white",
           "landcolor": "#E5ECF6",
           "showlakes": true,
           "showland": true,
           "subunitcolor": "white"
          },
          "hoverlabel": {
           "align": "left"
          },
          "hovermode": "closest",
          "mapbox": {
           "style": "light"
          },
          "paper_bgcolor": "white",
          "plot_bgcolor": "#E5ECF6",
          "polar": {
           "angularaxis": {
            "gridcolor": "white",
            "linecolor": "white",
            "ticks": ""
           },
           "bgcolor": "#E5ECF6",
           "radialaxis": {
            "gridcolor": "white",
            "linecolor": "white",
            "ticks": ""
           }
          },
          "scene": {
           "xaxis": {
            "backgroundcolor": "#E5ECF6",
            "gridcolor": "white",
            "gridwidth": 2,
            "linecolor": "white",
            "showbackground": true,
            "ticks": "",
            "zerolinecolor": "white"
           },
           "yaxis": {
            "backgroundcolor": "#E5ECF6",
            "gridcolor": "white",
            "gridwidth": 2,
            "linecolor": "white",
            "showbackground": true,
            "ticks": "",
            "zerolinecolor": "white"
           },
           "zaxis": {
            "backgroundcolor": "#E5ECF6",
            "gridcolor": "white",
            "gridwidth": 2,
            "linecolor": "white",
            "showbackground": true,
            "ticks": "",
            "zerolinecolor": "white"
           }
          },
          "shapedefaults": {
           "line": {
            "color": "#2a3f5f"
           }
          },
          "ternary": {
           "aaxis": {
            "gridcolor": "white",
            "linecolor": "white",
            "ticks": ""
           },
           "baxis": {
            "gridcolor": "white",
            "linecolor": "white",
            "ticks": ""
           },
           "bgcolor": "#E5ECF6",
           "caxis": {
            "gridcolor": "white",
            "linecolor": "white",
            "ticks": ""
           }
          },
          "title": {
           "x": 0.05
          },
          "xaxis": {
           "automargin": true,
           "gridcolor": "white",
           "linecolor": "white",
           "ticks": "",
           "title": {
            "standoff": 15
           },
           "zerolinecolor": "white",
           "zerolinewidth": 2
          },
          "yaxis": {
           "automargin": true,
           "gridcolor": "white",
           "linecolor": "white",
           "ticks": "",
           "title": {
            "standoff": 15
           },
           "zerolinecolor": "white",
           "zerolinewidth": 2
          }
         }
        },
        "title": {
         "font": {
          "color": "#4D5663"
         }
        },
        "xaxis": {
         "gridcolor": "#E1E5ED",
         "showgrid": true,
         "tickfont": {
          "color": "#4D5663"
         },
         "title": {
          "font": {
           "color": "#4D5663"
          },
          "text": ""
         },
         "zerolinecolor": "#E1E5ED"
        },
        "yaxis": {
         "gridcolor": "#E1E5ED",
         "showgrid": true,
         "tickfont": {
          "color": "#4D5663"
         },
         "title": {
          "font": {
           "color": "#4D5663"
          },
          "text": ""
         },
         "zerolinecolor": "#E1E5ED"
        }
       }
      },
      "text/html": [
       "<div>                            <div id=\"9ef9305a-4ef8-4056-b752-917a6cad0411\" class=\"plotly-graph-div\" style=\"height:525px; width:100%;\"></div>            <script type=\"text/javascript\">                require([\"plotly\"], function(Plotly) {                    window.PLOTLYENV=window.PLOTLYENV || {};\n",
       "                    window.PLOTLYENV.BASE_URL='https://plot.ly';                                    if (document.getElementById(\"9ef9305a-4ef8-4056-b752-917a6cad0411\")) {                    Plotly.newPlot(                        \"9ef9305a-4ef8-4056-b752-917a6cad0411\",                        [{\"marker\":{\"color\":[\"rgb(255, 153, 51)\",\"rgb(55, 128, 191)\",\"rgb(50, 171, 96)\",\"rgb(128, 0, 128)\",\"rgb(219, 64, 82)\",\"rgb(0, 128, 128)\",\"rgb(255, 255, 51)\",\"rgb(128, 128, 0)\",\"rgb(251, 128, 114)\",\"rgb(128, 177, 211)\"],\"line\":{\"width\":1.3},\"size\":[78,40,69,56,74,24,39,12,35,56,46,24,94,27,50,72,35,65,41,32,31,40,89,39,50,16,35,17,60,76,59,58,64,42,62,99,70,43,20,51,55,69,37,62,48,53,27,38,35,40,38,28,32,54,40,65,47,48,49,64,32,37,64,60,109,47,80,56,56,60,34,47,68,59,46,15,63,84,32,61,41,27,70,17,58,52,45,47,46,53,61,62,32,63,63,27,30,111,112,26],\"symbol\":\"circle\"},\"mode\":\"markers\",\"text\":\"\",\"x\":[-0.8954787537425822,1.3853378324685472,-1.228452817951252,-0.3424793683140804,-1.036680330412496,0.19015493165759942,0.17963978229923314,-0.9116175027522325,-0.21593023400594136,-0.2779506697081478,0.7235529276697348,0.1390777881070409,1.2405057033932279,1.6216724103072697,1.3643013806654916,-0.41731644398988027,-0.8458719596298891,-1.1215328734215342,0.09781894172468565,0.5551170140613797,1.290111091375146,-0.964709847431916,0.028727829996969215,-0.6151570639534203,0.8723196106463363,0.3424531500181427,-0.28768015582637674,0.40831304168242943,-2.519472311917223,0.3974550135542539,-0.3921532733587675,0.1490494785437309,-0.3121488819015316,-0.2358361304910559,-0.6027225763839881,0.7416273940186792,0.08286706737698286,0.4207503841010657,1.8624742014955278,1.625475305259574,0.10429331893932867,0.9184511642012367,2.181525124256408,-1.1563609727626594,0.028709521213927475,-0.2375569827884672,-0.23299649652787194,0.31775960186369745,0.7912388545129444,-0.21118301495412745,-0.8996836938704721,-1.5605972680456297,2.1567907489206997,-0.5279845006046894,0.7643241689489472,0.47619276965888035,1.4848901510475798,-0.15405129754079055,0.8961759234985016,0.007893186212914067,-0.20428335996163577,-0.6129935669515203,1.4101729802367804,-0.19045873408490974,-1.8784565574847774,2.2565342844087,0.5135638577038365,-0.2069560506724559,-1.8454699265247374,-1.7956926842182614,-0.15851038725001843,0.6048254421740097,-0.16118950550233477,-1.2631292300656045,-0.5435992120955132,0.5840495350623373,-0.8090900162261967,-0.6751748918388873,-0.4664535713177918,0.44326211987086894,-0.3723107881909927,-0.41126499674516737,-0.4313596702248325,1.1079793191944676,-1.5025325159282852,-1.1277676623437611,-1.7335456219153391,0.5006680549335961,0.9344649008180488,0.485724302055071,-0.9236043205237382,-0.06786370942009176,0.08506451564779151,-0.8354758300636222,0.5214516959248535,0.4445426788393895,0.7832318684627283,0.23712211426636307,-0.537220419964115,0.6795511371015246],\"y\":[1.2330537097935343,0.11458097884445924,-0.9351958452452672,-1.4218432334766258,-0.5190303900137669,1.5102636903768525,0.4942950888284143,0.6148665809359691,-0.8295937565931014,0.5742665777687568,0.6179720652176569,-0.7936568541031073,-0.21054951866999908,-2.1682340263166604,1.7838858272054348,1.2954772761745392,1.160958828244452,-0.4351638102178348,0.016933996248292664,-1.8232969002549744,0.38222658174304364,-1.2234002835843565,-0.17849006665488779,-0.46825142508770273,-0.7776764077808724,-0.16925348148956473,0.4195825182870957,-0.3376038664622978,0.04256230459411407,0.2843192801057243,-0.20904498844493297,-0.0535713432493876,-0.27871118405401163,0.7633740996474665,-0.5589179635467679,0.4331240850095735,-1.1506589475828257,-0.3575813660429083,1.3808553736596048,-1.297070899438046,0.7987662356271483,-1.0321312971040055,0.6719707278520592,0.21750970397278124,-2.1679063088449477,-0.23340931400511625,1.885221125925643,-0.6051103392719552,-0.27336300038169786,0.19905980304961726,1.0604156655779047,-0.3875256103534181,-0.25910830497567866,1.2923851486789044,-0.2533139244859124,-0.2275319328040062,0.7814588386550321,0.47649873875247023,0.04115450706471839,1.7916876078845752,-0.4270194072726322,0.4012928155078483,-0.3404903856957402,0.8297506803029159,0.3803349840608319,-1.9805681304968268,-0.3562618372012064,0.3940265384863148,-0.5080704865712032,-1.5278762790472784,-0.1490674274164066,0.5278384946491753,0.4345439761886359,0.3159602633645175,0.58483340275023,1.3127414602070275,0.6934248167282844,0.010066619498830708,-2.656800549371415,2.4368587370924066,1.539961653073386,-1.8455500286996822,0.12066425443502592,-1.6728037334111137,0.19708640936661206,1.7030851208538846,0.5125284778379251,-1.1756952746509701,-1.4326974623177466,-1.4677571299667684,0.41472849932432676,-1.118729946802453,-0.8694882891178901,0.4371214376109995,1.11407701589781,0.5742729307504939,0.046112074600036246,-0.07648809484357338,-0.9350489671505954,-0.850019613995692],\"type\":\"scatter\"}],                        {\"legend\":{\"bgcolor\":\"#F5F6F9\",\"font\":{\"color\":\"#4D5663\"}},\"paper_bgcolor\":\"#F5F6F9\",\"plot_bgcolor\":\"#F5F6F9\",\"template\":{\"data\":{\"barpolar\":[{\"marker\":{\"line\":{\"color\":\"#E5ECF6\",\"width\":0.5},\"pattern\":{\"fillmode\":\"overlay\",\"size\":10,\"solidity\":0.2}},\"type\":\"barpolar\"}],\"bar\":[{\"error_x\":{\"color\":\"#2a3f5f\"},\"error_y\":{\"color\":\"#2a3f5f\"},\"marker\":{\"line\":{\"color\":\"#E5ECF6\",\"width\":0.5},\"pattern\":{\"fillmode\":\"overlay\",\"size\":10,\"solidity\":0.2}},\"type\":\"bar\"}],\"carpet\":[{\"aaxis\":{\"endlinecolor\":\"#2a3f5f\",\"gridcolor\":\"white\",\"linecolor\":\"white\",\"minorgridcolor\":\"white\",\"startlinecolor\":\"#2a3f5f\"},\"baxis\":{\"endlinecolor\":\"#2a3f5f\",\"gridcolor\":\"white\",\"linecolor\":\"white\",\"minorgridcolor\":\"white\",\"startlinecolor\":\"#2a3f5f\"},\"type\":\"carpet\"}],\"choropleth\":[{\"colorbar\":{\"outlinewidth\":0,\"ticks\":\"\"},\"type\":\"choropleth\"}],\"contourcarpet\":[{\"colorbar\":{\"outlinewidth\":0,\"ticks\":\"\"},\"type\":\"contourcarpet\"}],\"contour\":[{\"colorbar\":{\"outlinewidth\":0,\"ticks\":\"\"},\"colorscale\":[[0.0,\"#0d0887\"],[0.1111111111111111,\"#46039f\"],[0.2222222222222222,\"#7201a8\"],[0.3333333333333333,\"#9c179e\"],[0.4444444444444444,\"#bd3786\"],[0.5555555555555556,\"#d8576b\"],[0.6666666666666666,\"#ed7953\"],[0.7777777777777778,\"#fb9f3a\"],[0.8888888888888888,\"#fdca26\"],[1.0,\"#f0f921\"]],\"type\":\"contour\"}],\"heatmapgl\":[{\"colorbar\":{\"outlinewidth\":0,\"ticks\":\"\"},\"colorscale\":[[0.0,\"#0d0887\"],[0.1111111111111111,\"#46039f\"],[0.2222222222222222,\"#7201a8\"],[0.3333333333333333,\"#9c179e\"],[0.4444444444444444,\"#bd3786\"],[0.5555555555555556,\"#d8576b\"],[0.6666666666666666,\"#ed7953\"],[0.7777777777777778,\"#fb9f3a\"],[0.8888888888888888,\"#fdca26\"],[1.0,\"#f0f921\"]],\"type\":\"heatmapgl\"}],\"heatmap\":[{\"colorbar\":{\"outlinewidth\":0,\"ticks\":\"\"},\"colorscale\":[[0.0,\"#0d0887\"],[0.1111111111111111,\"#46039f\"],[0.2222222222222222,\"#7201a8\"],[0.3333333333333333,\"#9c179e\"],[0.4444444444444444,\"#bd3786\"],[0.5555555555555556,\"#d8576b\"],[0.6666666666666666,\"#ed7953\"],[0.7777777777777778,\"#fb9f3a\"],[0.8888888888888888,\"#fdca26\"],[1.0,\"#f0f921\"]],\"type\":\"heatmap\"}],\"histogram2dcontour\":[{\"colorbar\":{\"outlinewidth\":0,\"ticks\":\"\"},\"colorscale\":[[0.0,\"#0d0887\"],[0.1111111111111111,\"#46039f\"],[0.2222222222222222,\"#7201a8\"],[0.3333333333333333,\"#9c179e\"],[0.4444444444444444,\"#bd3786\"],[0.5555555555555556,\"#d8576b\"],[0.6666666666666666,\"#ed7953\"],[0.7777777777777778,\"#fb9f3a\"],[0.8888888888888888,\"#fdca26\"],[1.0,\"#f0f921\"]],\"type\":\"histogram2dcontour\"}],\"histogram2d\":[{\"colorbar\":{\"outlinewidth\":0,\"ticks\":\"\"},\"colorscale\":[[0.0,\"#0d0887\"],[0.1111111111111111,\"#46039f\"],[0.2222222222222222,\"#7201a8\"],[0.3333333333333333,\"#9c179e\"],[0.4444444444444444,\"#bd3786\"],[0.5555555555555556,\"#d8576b\"],[0.6666666666666666,\"#ed7953\"],[0.7777777777777778,\"#fb9f3a\"],[0.8888888888888888,\"#fdca26\"],[1.0,\"#f0f921\"]],\"type\":\"histogram2d\"}],\"histogram\":[{\"marker\":{\"pattern\":{\"fillmode\":\"overlay\",\"size\":10,\"solidity\":0.2}},\"type\":\"histogram\"}],\"mesh3d\":[{\"colorbar\":{\"outlinewidth\":0,\"ticks\":\"\"},\"type\":\"mesh3d\"}],\"parcoords\":[{\"line\":{\"colorbar\":{\"outlinewidth\":0,\"ticks\":\"\"}},\"type\":\"parcoords\"}],\"pie\":[{\"automargin\":true,\"type\":\"pie\"}],\"scatter3d\":[{\"line\":{\"colorbar\":{\"outlinewidth\":0,\"ticks\":\"\"}},\"marker\":{\"colorbar\":{\"outlinewidth\":0,\"ticks\":\"\"}},\"type\":\"scatter3d\"}],\"scattercarpet\":[{\"marker\":{\"colorbar\":{\"outlinewidth\":0,\"ticks\":\"\"}},\"type\":\"scattercarpet\"}],\"scattergeo\":[{\"marker\":{\"colorbar\":{\"outlinewidth\":0,\"ticks\":\"\"}},\"type\":\"scattergeo\"}],\"scattergl\":[{\"marker\":{\"colorbar\":{\"outlinewidth\":0,\"ticks\":\"\"}},\"type\":\"scattergl\"}],\"scattermapbox\":[{\"marker\":{\"colorbar\":{\"outlinewidth\":0,\"ticks\":\"\"}},\"type\":\"scattermapbox\"}],\"scatterpolargl\":[{\"marker\":{\"colorbar\":{\"outlinewidth\":0,\"ticks\":\"\"}},\"type\":\"scatterpolargl\"}],\"scatterpolar\":[{\"marker\":{\"colorbar\":{\"outlinewidth\":0,\"ticks\":\"\"}},\"type\":\"scatterpolar\"}],\"scatter\":[{\"fillpattern\":{\"fillmode\":\"overlay\",\"size\":10,\"solidity\":0.2},\"type\":\"scatter\"}],\"scatterternary\":[{\"marker\":{\"colorbar\":{\"outlinewidth\":0,\"ticks\":\"\"}},\"type\":\"scatterternary\"}],\"surface\":[{\"colorbar\":{\"outlinewidth\":0,\"ticks\":\"\"},\"colorscale\":[[0.0,\"#0d0887\"],[0.1111111111111111,\"#46039f\"],[0.2222222222222222,\"#7201a8\"],[0.3333333333333333,\"#9c179e\"],[0.4444444444444444,\"#bd3786\"],[0.5555555555555556,\"#d8576b\"],[0.6666666666666666,\"#ed7953\"],[0.7777777777777778,\"#fb9f3a\"],[0.8888888888888888,\"#fdca26\"],[1.0,\"#f0f921\"]],\"type\":\"surface\"}],\"table\":[{\"cells\":{\"fill\":{\"color\":\"#EBF0F8\"},\"line\":{\"color\":\"white\"}},\"header\":{\"fill\":{\"color\":\"#C8D4E3\"},\"line\":{\"color\":\"white\"}},\"type\":\"table\"}]},\"layout\":{\"annotationdefaults\":{\"arrowcolor\":\"#2a3f5f\",\"arrowhead\":0,\"arrowwidth\":1},\"autotypenumbers\":\"strict\",\"coloraxis\":{\"colorbar\":{\"outlinewidth\":0,\"ticks\":\"\"}},\"colorscale\":{\"diverging\":[[0,\"#8e0152\"],[0.1,\"#c51b7d\"],[0.2,\"#de77ae\"],[0.3,\"#f1b6da\"],[0.4,\"#fde0ef\"],[0.5,\"#f7f7f7\"],[0.6,\"#e6f5d0\"],[0.7,\"#b8e186\"],[0.8,\"#7fbc41\"],[0.9,\"#4d9221\"],[1,\"#276419\"]],\"sequential\":[[0.0,\"#0d0887\"],[0.1111111111111111,\"#46039f\"],[0.2222222222222222,\"#7201a8\"],[0.3333333333333333,\"#9c179e\"],[0.4444444444444444,\"#bd3786\"],[0.5555555555555556,\"#d8576b\"],[0.6666666666666666,\"#ed7953\"],[0.7777777777777778,\"#fb9f3a\"],[0.8888888888888888,\"#fdca26\"],[1.0,\"#f0f921\"]],\"sequentialminus\":[[0.0,\"#0d0887\"],[0.1111111111111111,\"#46039f\"],[0.2222222222222222,\"#7201a8\"],[0.3333333333333333,\"#9c179e\"],[0.4444444444444444,\"#bd3786\"],[0.5555555555555556,\"#d8576b\"],[0.6666666666666666,\"#ed7953\"],[0.7777777777777778,\"#fb9f3a\"],[0.8888888888888888,\"#fdca26\"],[1.0,\"#f0f921\"]]},\"colorway\":[\"#636efa\",\"#EF553B\",\"#00cc96\",\"#ab63fa\",\"#FFA15A\",\"#19d3f3\",\"#FF6692\",\"#B6E880\",\"#FF97FF\",\"#FECB52\"],\"font\":{\"color\":\"#2a3f5f\"},\"geo\":{\"bgcolor\":\"white\",\"lakecolor\":\"white\",\"landcolor\":\"#E5ECF6\",\"showlakes\":true,\"showland\":true,\"subunitcolor\":\"white\"},\"hoverlabel\":{\"align\":\"left\"},\"hovermode\":\"closest\",\"mapbox\":{\"style\":\"light\"},\"paper_bgcolor\":\"white\",\"plot_bgcolor\":\"#E5ECF6\",\"polar\":{\"angularaxis\":{\"gridcolor\":\"white\",\"linecolor\":\"white\",\"ticks\":\"\"},\"bgcolor\":\"#E5ECF6\",\"radialaxis\":{\"gridcolor\":\"white\",\"linecolor\":\"white\",\"ticks\":\"\"}},\"scene\":{\"xaxis\":{\"backgroundcolor\":\"#E5ECF6\",\"gridcolor\":\"white\",\"gridwidth\":2,\"linecolor\":\"white\",\"showbackground\":true,\"ticks\":\"\",\"zerolinecolor\":\"white\"},\"yaxis\":{\"backgroundcolor\":\"#E5ECF6\",\"gridcolor\":\"white\",\"gridwidth\":2,\"linecolor\":\"white\",\"showbackground\":true,\"ticks\":\"\",\"zerolinecolor\":\"white\"},\"zaxis\":{\"backgroundcolor\":\"#E5ECF6\",\"gridcolor\":\"white\",\"gridwidth\":2,\"linecolor\":\"white\",\"showbackground\":true,\"ticks\":\"\",\"zerolinecolor\":\"white\"}},\"shapedefaults\":{\"line\":{\"color\":\"#2a3f5f\"}},\"ternary\":{\"aaxis\":{\"gridcolor\":\"white\",\"linecolor\":\"white\",\"ticks\":\"\"},\"baxis\":{\"gridcolor\":\"white\",\"linecolor\":\"white\",\"ticks\":\"\"},\"bgcolor\":\"#E5ECF6\",\"caxis\":{\"gridcolor\":\"white\",\"linecolor\":\"white\",\"ticks\":\"\"}},\"title\":{\"x\":0.05},\"xaxis\":{\"automargin\":true,\"gridcolor\":\"white\",\"linecolor\":\"white\",\"ticks\":\"\",\"title\":{\"standoff\":15},\"zerolinecolor\":\"white\",\"zerolinewidth\":2},\"yaxis\":{\"automargin\":true,\"gridcolor\":\"white\",\"linecolor\":\"white\",\"ticks\":\"\",\"title\":{\"standoff\":15},\"zerolinecolor\":\"white\",\"zerolinewidth\":2}}},\"title\":{\"font\":{\"color\":\"#4D5663\"}},\"xaxis\":{\"gridcolor\":\"#E1E5ED\",\"showgrid\":true,\"tickfont\":{\"color\":\"#4D5663\"},\"title\":{\"font\":{\"color\":\"#4D5663\"},\"text\":\"\"},\"zerolinecolor\":\"#E1E5ED\"},\"yaxis\":{\"gridcolor\":\"#E1E5ED\",\"showgrid\":true,\"tickfont\":{\"color\":\"#4D5663\"},\"title\":{\"font\":{\"color\":\"#4D5663\"},\"text\":\"\"},\"zerolinecolor\":\"#E1E5ED\"}},                        {\"showLink\": true, \"linkText\": \"Export to plot.ly\", \"plotlyServerURL\": \"https://plot.ly\", \"responsive\": true}                    ).then(function(){\n",
       "                            \n",
       "var gd = document.getElementById('9ef9305a-4ef8-4056-b752-917a6cad0411');\n",
       "var x = new MutationObserver(function (mutations, observer) {{\n",
       "        var display = window.getComputedStyle(gd).display;\n",
       "        if (!display || display === 'none') {{\n",
       "            console.log([gd, 'removed!']);\n",
       "            Plotly.purge(gd);\n",
       "            observer.disconnect();\n",
       "        }}\n",
       "}});\n",
       "\n",
       "// Listen for the removal of the full notebook cells\n",
       "var notebookContainer = gd.closest('#notebook-container');\n",
       "if (notebookContainer) {{\n",
       "    x.observe(notebookContainer, {childList: true});\n",
       "}}\n",
       "\n",
       "// Listen for the clearing of the current output cell\n",
       "var outputEl = gd.closest('.output');\n",
       "if (outputEl) {{\n",
       "    x.observe(outputEl, {childList: true});\n",
       "}}\n",
       "\n",
       "                        })                };                });            </script>        </div>"
      ]
     },
     "metadata": {},
     "output_type": "display_data"
    }
   ],
   "source": [
    "# bubble plot (oftenly used for world gdp in comparision to population maybe or something)\n",
    "# size of the bubble is based off of another column value\n",
    "df.iplot(kind='bubble', x='A',y='B', size='C')"
   ]
  },
  {
   "cell_type": "code",
   "execution_count": 54,
   "metadata": {},
   "outputs": [
    {
     "data": {
      "application/vnd.plotly.v1+json": {
       "config": {
        "linkText": "Export to plot.ly",
        "plotlyServerURL": "https://plot.ly",
        "showLink": true
       },
       "data": [
        {
         "histfunc": "count",
         "histnorm": "",
         "marker": {
          "color": "rgba(255, 153, 51, 1.0)",
          "line": {
           "color": "#4D5663",
           "width": 1.3
          }
         },
         "name": "A",
         "nbinsx": 10,
         "opacity": 0.8,
         "orientation": "v",
         "type": "histogram",
         "x": [
          -0.8954787537425822,
          1.3853378324685472,
          -1.228452817951252,
          -0.3424793683140804,
          -1.036680330412496,
          0.19015493165759942,
          0.17963978229923314,
          -0.9116175027522325,
          -0.21593023400594136,
          -0.2779506697081478,
          0.7235529276697348,
          0.1390777881070409,
          1.2405057033932279,
          1.6216724103072697,
          1.3643013806654916,
          -0.41731644398988027,
          -0.8458719596298891,
          -1.1215328734215342,
          0.09781894172468565,
          0.5551170140613797,
          1.290111091375146,
          -0.964709847431916,
          0.028727829996969215,
          -0.6151570639534203,
          0.8723196106463363,
          0.3424531500181427,
          -0.28768015582637674,
          0.40831304168242943,
          -2.519472311917223,
          0.3974550135542539,
          -0.3921532733587675,
          0.1490494785437309,
          -0.3121488819015316,
          -0.2358361304910559,
          -0.6027225763839881,
          0.7416273940186792,
          0.08286706737698286,
          0.4207503841010657,
          1.8624742014955278,
          1.625475305259574,
          0.10429331893932867,
          0.9184511642012367,
          2.181525124256408,
          -1.1563609727626594,
          0.028709521213927475,
          -0.2375569827884672,
          -0.23299649652787194,
          0.31775960186369745,
          0.7912388545129444,
          -0.21118301495412745,
          -0.8996836938704721,
          -1.5605972680456297,
          2.1567907489206997,
          -0.5279845006046894,
          0.7643241689489472,
          0.47619276965888035,
          1.4848901510475798,
          -0.15405129754079055,
          0.8961759234985016,
          0.007893186212914067,
          -0.20428335996163577,
          -0.6129935669515203,
          1.4101729802367804,
          -0.19045873408490974,
          -1.8784565574847774,
          2.2565342844087,
          0.5135638577038365,
          -0.2069560506724559,
          -1.8454699265247374,
          -1.7956926842182614,
          -0.15851038725001843,
          0.6048254421740097,
          -0.16118950550233477,
          -1.2631292300656045,
          -0.5435992120955132,
          0.5840495350623373,
          -0.8090900162261967,
          -0.6751748918388873,
          -0.4664535713177918,
          0.44326211987086894,
          -0.3723107881909927,
          -0.41126499674516737,
          -0.4313596702248325,
          1.1079793191944676,
          -1.5025325159282852,
          -1.1277676623437611,
          -1.7335456219153391,
          0.5006680549335961,
          0.9344649008180488,
          0.485724302055071,
          -0.9236043205237382,
          -0.06786370942009176,
          0.08506451564779151,
          -0.8354758300636222,
          0.5214516959248535,
          0.4445426788393895,
          0.7832318684627283,
          0.23712211426636307,
          -0.537220419964115,
          0.6795511371015246
         ],
         "xaxis": "x",
         "yaxis": "y"
        },
        {
         "line": {
          "color": "rgba(128, 128, 128, 1.0)",
          "dash": "solid",
          "shape": "linear",
          "width": 1.3
         },
         "marker": {
          "size": 2,
          "symbol": "circle"
         },
         "mode": "markers",
         "name": "A",
         "text": "",
         "type": "scatter",
         "x": [
          1.2330537097935343,
          0.11458097884445924,
          -0.9351958452452672,
          -1.4218432334766258,
          -0.5190303900137669,
          1.5102636903768525,
          0.4942950888284143,
          0.6148665809359691,
          -0.8295937565931014,
          0.5742665777687568,
          0.6179720652176569,
          -0.7936568541031073,
          -0.21054951866999908,
          -2.1682340263166604,
          1.7838858272054348,
          1.2954772761745392,
          1.160958828244452,
          -0.4351638102178348,
          0.016933996248292664,
          -1.8232969002549744,
          0.38222658174304364,
          -1.2234002835843565,
          -0.17849006665488779,
          -0.46825142508770273,
          -0.7776764077808724,
          -0.16925348148956473,
          0.4195825182870957,
          -0.3376038664622978,
          0.04256230459411407,
          0.2843192801057243,
          -0.20904498844493297,
          -0.0535713432493876,
          -0.27871118405401163,
          0.7633740996474665,
          -0.5589179635467679,
          0.4331240850095735,
          -1.1506589475828257,
          -0.3575813660429083,
          1.3808553736596048,
          -1.297070899438046,
          0.7987662356271483,
          -1.0321312971040055,
          0.6719707278520592,
          0.21750970397278124,
          -2.1679063088449477,
          -0.23340931400511625,
          1.885221125925643,
          -0.6051103392719552,
          -0.27336300038169786,
          0.19905980304961726,
          1.0604156655779047,
          -0.3875256103534181,
          -0.25910830497567866,
          1.2923851486789044,
          -0.2533139244859124,
          -0.2275319328040062,
          0.7814588386550321,
          0.47649873875247023,
          0.04115450706471839,
          1.7916876078845752,
          -0.4270194072726322,
          0.4012928155078483,
          -0.3404903856957402,
          0.8297506803029159,
          0.3803349840608319,
          -1.9805681304968268,
          -0.3562618372012064,
          0.3940265384863148,
          -0.5080704865712032,
          -1.5278762790472784,
          -0.1490674274164066,
          0.5278384946491753,
          0.4345439761886359,
          0.3159602633645175,
          0.58483340275023,
          1.3127414602070275,
          0.6934248167282844,
          0.010066619498830708,
          -2.656800549371415,
          2.4368587370924066,
          1.539961653073386,
          -1.8455500286996822,
          0.12066425443502592,
          -1.6728037334111137,
          0.19708640936661206,
          1.7030851208538846,
          0.5125284778379251,
          -1.1756952746509701,
          -1.4326974623177466,
          -1.4677571299667684,
          0.41472849932432676,
          -1.118729946802453,
          -0.8694882891178901,
          0.4371214376109995,
          1.11407701589781,
          0.5742729307504939,
          0.046112074600036246,
          -0.07648809484357338,
          -0.9350489671505954,
          -0.850019613995692
         ],
         "xaxis": "x2",
         "y": [
          -0.8954787537425822,
          1.3853378324685472,
          -1.228452817951252,
          -0.3424793683140804,
          -1.036680330412496,
          0.19015493165759942,
          0.17963978229923314,
          -0.9116175027522325,
          -0.21593023400594136,
          -0.2779506697081478,
          0.7235529276697348,
          0.1390777881070409,
          1.2405057033932279,
          1.6216724103072697,
          1.3643013806654916,
          -0.41731644398988027,
          -0.8458719596298891,
          -1.1215328734215342,
          0.09781894172468565,
          0.5551170140613797,
          1.290111091375146,
          -0.964709847431916,
          0.028727829996969215,
          -0.6151570639534203,
          0.8723196106463363,
          0.3424531500181427,
          -0.28768015582637674,
          0.40831304168242943,
          -2.519472311917223,
          0.3974550135542539,
          -0.3921532733587675,
          0.1490494785437309,
          -0.3121488819015316,
          -0.2358361304910559,
          -0.6027225763839881,
          0.7416273940186792,
          0.08286706737698286,
          0.4207503841010657,
          1.8624742014955278,
          1.625475305259574,
          0.10429331893932867,
          0.9184511642012367,
          2.181525124256408,
          -1.1563609727626594,
          0.028709521213927475,
          -0.2375569827884672,
          -0.23299649652787194,
          0.31775960186369745,
          0.7912388545129444,
          -0.21118301495412745,
          -0.8996836938704721,
          -1.5605972680456297,
          2.1567907489206997,
          -0.5279845006046894,
          0.7643241689489472,
          0.47619276965888035,
          1.4848901510475798,
          -0.15405129754079055,
          0.8961759234985016,
          0.007893186212914067,
          -0.20428335996163577,
          -0.6129935669515203,
          1.4101729802367804,
          -0.19045873408490974,
          -1.8784565574847774,
          2.2565342844087,
          0.5135638577038365,
          -0.2069560506724559,
          -1.8454699265247374,
          -1.7956926842182614,
          -0.15851038725001843,
          0.6048254421740097,
          -0.16118950550233477,
          -1.2631292300656045,
          -0.5435992120955132,
          0.5840495350623373,
          -0.8090900162261967,
          -0.6751748918388873,
          -0.4664535713177918,
          0.44326211987086894,
          -0.3723107881909927,
          -0.41126499674516737,
          -0.4313596702248325,
          1.1079793191944676,
          -1.5025325159282852,
          -1.1277676623437611,
          -1.7335456219153391,
          0.5006680549335961,
          0.9344649008180488,
          0.485724302055071,
          -0.9236043205237382,
          -0.06786370942009176,
          0.08506451564779151,
          -0.8354758300636222,
          0.5214516959248535,
          0.4445426788393895,
          0.7832318684627283,
          0.23712211426636307,
          -0.537220419964115,
          0.6795511371015246
         ],
         "yaxis": "y2"
        },
        {
         "line": {
          "color": "rgba(128, 128, 128, 1.0)",
          "dash": "solid",
          "shape": "linear",
          "width": 1.3
         },
         "marker": {
          "size": 2,
          "symbol": "circle"
         },
         "mode": "markers",
         "name": "A",
         "text": "",
         "type": "scatter",
         "x": [
          1.2540720025146939,
          -0.46348347804251594,
          0.8129900423838404,
          0.22558850655681598,
          1.0646082853925278,
          -1.2185398755773857,
          -0.5133096197633565,
          -1.7726289036539224,
          -0.6956687985457533,
          0.24638886117842979,
          -0.2085382599832432,
          -1.1966412336116758,
          1.9526735154066548,
          -1.0581396474225,
          -0.026803359631144896,
          0.942738373952409,
          -0.7032990030686955,
          0.6289776349050559,
          -0.45564836257152447,
          -0.8335534360924648,
          -0.8820690924132405,
          -0.48975727791272505,
          1.7342519208764964,
          -0.533611868232763,
          -0.013705704854208323,
          -1.559238918217703,
          -0.7115577837292104,
          -1.5197709071141035,
          0.414113896297385,
          1.135360209092376,
          0.35100492418777596,
          0.3155999081909583,
          0.5988257083723294,
          -0.4133617345891343,
          0.5276400176872953,
          2.1790283947520366,
          0.8577136733639124,
          -0.34802998568452126,
          -1.399957964709555,
          0.006840099473515165,
          0.19269122119900958,
          0.8085603214070403,
          -0.6334402995606099,
          0.5243078086142938,
          -0.10293473421740021,
          0.09638337472435361,
          -1.0792067023982235,
          -0.5555187022137702,
          -0.7306806924316841,
          -0.4937820145857264,
          -0.5883585549895289,
          -1.0088028829097302,
          -0.8326337378080267,
          0.14571549480607143,
          -0.5055939284109676,
          0.6339493852237317,
          -0.16689281522043833,
          -0.13698728341557384,
          -0.08731294616271265,
          0.6009814848540755,
          -0.8330649294271425,
          -0.6034855372763794,
          0.6001393394038157,
          0.4406682648736641,
          2.6305707725663567,
          -0.16117059347015686,
          1.3193927981285256,
          0.24144273114842546,
          0.22735735795970022,
          0.4061251145045263,
          -0.760449220001816,
          -0.18708265134714938,
          0.7673030966613456,
          0.3823550527274153,
          -0.20516177928449067,
          -1.6191140140100544,
          0.5697773812819106,
          1.491596168302561,
          -0.835594311153154,
          0.4708819285809997,
          -0.4565506490383945,
          -1.051954053844487,
          0.8815774579654665,
          -1.503289233521424,
          0.3069578287223192,
          0.07603192925943901,
          -0.25529212175141863,
          -0.15131250845339583,
          -0.22378344227813943,
          0.12054900006272487,
          0.45048086475925303,
          0.5218269347268745,
          -0.8272000682526426,
          0.5366289433076256,
          0.5766881025550059,
          -1.0852229950367518,
          -0.9329742411250744,
          2.7192803209677368,
          2.7456592044275347,
          -1.1191829425685236
         ],
         "xaxis": "x3",
         "y": [
          -0.8954787537425822,
          1.3853378324685472,
          -1.228452817951252,
          -0.3424793683140804,
          -1.036680330412496,
          0.19015493165759942,
          0.17963978229923314,
          -0.9116175027522325,
          -0.21593023400594136,
          -0.2779506697081478,
          0.7235529276697348,
          0.1390777881070409,
          1.2405057033932279,
          1.6216724103072697,
          1.3643013806654916,
          -0.41731644398988027,
          -0.8458719596298891,
          -1.1215328734215342,
          0.09781894172468565,
          0.5551170140613797,
          1.290111091375146,
          -0.964709847431916,
          0.028727829996969215,
          -0.6151570639534203,
          0.8723196106463363,
          0.3424531500181427,
          -0.28768015582637674,
          0.40831304168242943,
          -2.519472311917223,
          0.3974550135542539,
          -0.3921532733587675,
          0.1490494785437309,
          -0.3121488819015316,
          -0.2358361304910559,
          -0.6027225763839881,
          0.7416273940186792,
          0.08286706737698286,
          0.4207503841010657,
          1.8624742014955278,
          1.625475305259574,
          0.10429331893932867,
          0.9184511642012367,
          2.181525124256408,
          -1.1563609727626594,
          0.028709521213927475,
          -0.2375569827884672,
          -0.23299649652787194,
          0.31775960186369745,
          0.7912388545129444,
          -0.21118301495412745,
          -0.8996836938704721,
          -1.5605972680456297,
          2.1567907489206997,
          -0.5279845006046894,
          0.7643241689489472,
          0.47619276965888035,
          1.4848901510475798,
          -0.15405129754079055,
          0.8961759234985016,
          0.007893186212914067,
          -0.20428335996163577,
          -0.6129935669515203,
          1.4101729802367804,
          -0.19045873408490974,
          -1.8784565574847774,
          2.2565342844087,
          0.5135638577038365,
          -0.2069560506724559,
          -1.8454699265247374,
          -1.7956926842182614,
          -0.15851038725001843,
          0.6048254421740097,
          -0.16118950550233477,
          -1.2631292300656045,
          -0.5435992120955132,
          0.5840495350623373,
          -0.8090900162261967,
          -0.6751748918388873,
          -0.4664535713177918,
          0.44326211987086894,
          -0.3723107881909927,
          -0.41126499674516737,
          -0.4313596702248325,
          1.1079793191944676,
          -1.5025325159282852,
          -1.1277676623437611,
          -1.7335456219153391,
          0.5006680549335961,
          0.9344649008180488,
          0.485724302055071,
          -0.9236043205237382,
          -0.06786370942009176,
          0.08506451564779151,
          -0.8354758300636222,
          0.5214516959248535,
          0.4445426788393895,
          0.7832318684627283,
          0.23712211426636307,
          -0.537220419964115,
          0.6795511371015246
         ],
         "yaxis": "y3"
        },
        {
         "line": {
          "color": "rgba(128, 128, 128, 1.0)",
          "dash": "solid",
          "shape": "linear",
          "width": 1.3
         },
         "marker": {
          "size": 2,
          "symbol": "circle"
         },
         "mode": "markers",
         "name": "A",
         "text": "",
         "type": "scatter",
         "x": [
          -0.506431628353634,
          -0.9545627013552734,
          -0.6107578249298709,
          -0.2844012167833867,
          -0.24847951128175225,
          -0.16531988235387118,
          -0.5388526720770379,
          1.494236018723017,
          0.6764267494848006,
          1.3874374441685948,
          -0.6916948476272538,
          0.45804108935416515,
          -2.2785804773584384,
          -2.231695849012556,
          1.39640190824559,
          -0.34652512717463446,
          0.005012423210220804,
          -0.36622774842919115,
          0.9892340159077968,
          0.9958449336538285,
          1.072446926640326,
          0.10480553334605108,
          -0.1072913850287637,
          2.585374563106729,
          -0.7868209943668756,
          0.6357919304480281,
          -1.9019608571986026,
          0.6470967689148188,
          -0.34659722915597024,
          0.9009669273500246,
          0.44368968149214133,
          -0.816300325008195,
          -0.36918333942125575,
          -0.7904449025161164,
          -1.8329107877968558,
          -1.5052446706255638,
          2.2341564203319213,
          0.6933333424439637,
          0.10781753043118078,
          -0.6983319509319129,
          -1.8529605231144097,
          -0.3312520928151987,
          -0.06083557916973807,
          -1.0558403893364163,
          -0.11473050573186004,
          0.5367377799501659,
          0.5429848386466027,
          -0.15573887507276518,
          2.261983496607472,
          1.005623826641129,
          -1.1104615244362885,
          2.1720522898731516,
          0.4698535971799291,
          -0.40098034758335677,
          -1.0102064591930502,
          -0.4458193157723049,
          -0.8733441645567254,
          0.1862847435286084,
          -1.2579957930555954,
          -1.1043619686193111,
          -3.4871280415309034,
          -0.30888131901352556,
          -1.0168340547952937,
          0.05252339360085888,
          -1.6363483777428562,
          0.050098599667050964,
          1.492477344156051,
          -0.5950441421475866,
          -0.988044218679561,
          0.19394334000726457,
          1.320158817073657,
          -0.5845318293100731,
          -0.11801295505794744,
          0.34618091647399774,
          1.4006292606846895,
          1.3329454464611699,
          0.8052403630487593,
          -1.1658716966254594,
          0.6272391710042999,
          -0.1412684370393452,
          -0.5878439970417628,
          -2.071189328202661,
          -0.4221789429959931,
          -0.3921830957173968,
          -0.052514265212202434,
          -0.17406572786031835,
          -0.5564886914052667,
          -0.46283435259659644,
          0.5991258594373452,
          -1.640921815833674,
          -0.13673329352987804,
          -0.07249204402135874,
          1.0025880668762868,
          -0.19040803325211011,
          -1.2573637736597831,
          -0.799280522358143,
          -0.5119431534249542,
          -0.38571247560118155,
          0.420319537810664,
          0.5149150150647253
         ],
         "xaxis": "x4",
         "y": [
          -0.8954787537425822,
          1.3853378324685472,
          -1.228452817951252,
          -0.3424793683140804,
          -1.036680330412496,
          0.19015493165759942,
          0.17963978229923314,
          -0.9116175027522325,
          -0.21593023400594136,
          -0.2779506697081478,
          0.7235529276697348,
          0.1390777881070409,
          1.2405057033932279,
          1.6216724103072697,
          1.3643013806654916,
          -0.41731644398988027,
          -0.8458719596298891,
          -1.1215328734215342,
          0.09781894172468565,
          0.5551170140613797,
          1.290111091375146,
          -0.964709847431916,
          0.028727829996969215,
          -0.6151570639534203,
          0.8723196106463363,
          0.3424531500181427,
          -0.28768015582637674,
          0.40831304168242943,
          -2.519472311917223,
          0.3974550135542539,
          -0.3921532733587675,
          0.1490494785437309,
          -0.3121488819015316,
          -0.2358361304910559,
          -0.6027225763839881,
          0.7416273940186792,
          0.08286706737698286,
          0.4207503841010657,
          1.8624742014955278,
          1.625475305259574,
          0.10429331893932867,
          0.9184511642012367,
          2.181525124256408,
          -1.1563609727626594,
          0.028709521213927475,
          -0.2375569827884672,
          -0.23299649652787194,
          0.31775960186369745,
          0.7912388545129444,
          -0.21118301495412745,
          -0.8996836938704721,
          -1.5605972680456297,
          2.1567907489206997,
          -0.5279845006046894,
          0.7643241689489472,
          0.47619276965888035,
          1.4848901510475798,
          -0.15405129754079055,
          0.8961759234985016,
          0.007893186212914067,
          -0.20428335996163577,
          -0.6129935669515203,
          1.4101729802367804,
          -0.19045873408490974,
          -1.8784565574847774,
          2.2565342844087,
          0.5135638577038365,
          -0.2069560506724559,
          -1.8454699265247374,
          -1.7956926842182614,
          -0.15851038725001843,
          0.6048254421740097,
          -0.16118950550233477,
          -1.2631292300656045,
          -0.5435992120955132,
          0.5840495350623373,
          -0.8090900162261967,
          -0.6751748918388873,
          -0.4664535713177918,
          0.44326211987086894,
          -0.3723107881909927,
          -0.41126499674516737,
          -0.4313596702248325,
          1.1079793191944676,
          -1.5025325159282852,
          -1.1277676623437611,
          -1.7335456219153391,
          0.5006680549335961,
          0.9344649008180488,
          0.485724302055071,
          -0.9236043205237382,
          -0.06786370942009176,
          0.08506451564779151,
          -0.8354758300636222,
          0.5214516959248535,
          0.4445426788393895,
          0.7832318684627283,
          0.23712211426636307,
          -0.537220419964115,
          0.6795511371015246
         ],
         "yaxis": "y4"
        },
        {
         "line": {
          "color": "rgba(128, 128, 128, 1.0)",
          "dash": "solid",
          "shape": "linear",
          "width": 1.3
         },
         "marker": {
          "size": 2,
          "symbol": "circle"
         },
         "mode": "markers",
         "name": "B",
         "text": "",
         "type": "scatter",
         "x": [
          -0.8954787537425822,
          1.3853378324685472,
          -1.228452817951252,
          -0.3424793683140804,
          -1.036680330412496,
          0.19015493165759942,
          0.17963978229923314,
          -0.9116175027522325,
          -0.21593023400594136,
          -0.2779506697081478,
          0.7235529276697348,
          0.1390777881070409,
          1.2405057033932279,
          1.6216724103072697,
          1.3643013806654916,
          -0.41731644398988027,
          -0.8458719596298891,
          -1.1215328734215342,
          0.09781894172468565,
          0.5551170140613797,
          1.290111091375146,
          -0.964709847431916,
          0.028727829996969215,
          -0.6151570639534203,
          0.8723196106463363,
          0.3424531500181427,
          -0.28768015582637674,
          0.40831304168242943,
          -2.519472311917223,
          0.3974550135542539,
          -0.3921532733587675,
          0.1490494785437309,
          -0.3121488819015316,
          -0.2358361304910559,
          -0.6027225763839881,
          0.7416273940186792,
          0.08286706737698286,
          0.4207503841010657,
          1.8624742014955278,
          1.625475305259574,
          0.10429331893932867,
          0.9184511642012367,
          2.181525124256408,
          -1.1563609727626594,
          0.028709521213927475,
          -0.2375569827884672,
          -0.23299649652787194,
          0.31775960186369745,
          0.7912388545129444,
          -0.21118301495412745,
          -0.8996836938704721,
          -1.5605972680456297,
          2.1567907489206997,
          -0.5279845006046894,
          0.7643241689489472,
          0.47619276965888035,
          1.4848901510475798,
          -0.15405129754079055,
          0.8961759234985016,
          0.007893186212914067,
          -0.20428335996163577,
          -0.6129935669515203,
          1.4101729802367804,
          -0.19045873408490974,
          -1.8784565574847774,
          2.2565342844087,
          0.5135638577038365,
          -0.2069560506724559,
          -1.8454699265247374,
          -1.7956926842182614,
          -0.15851038725001843,
          0.6048254421740097,
          -0.16118950550233477,
          -1.2631292300656045,
          -0.5435992120955132,
          0.5840495350623373,
          -0.8090900162261967,
          -0.6751748918388873,
          -0.4664535713177918,
          0.44326211987086894,
          -0.3723107881909927,
          -0.41126499674516737,
          -0.4313596702248325,
          1.1079793191944676,
          -1.5025325159282852,
          -1.1277676623437611,
          -1.7335456219153391,
          0.5006680549335961,
          0.9344649008180488,
          0.485724302055071,
          -0.9236043205237382,
          -0.06786370942009176,
          0.08506451564779151,
          -0.8354758300636222,
          0.5214516959248535,
          0.4445426788393895,
          0.7832318684627283,
          0.23712211426636307,
          -0.537220419964115,
          0.6795511371015246
         ],
         "xaxis": "x5",
         "y": [
          1.2330537097935343,
          0.11458097884445924,
          -0.9351958452452672,
          -1.4218432334766258,
          -0.5190303900137669,
          1.5102636903768525,
          0.4942950888284143,
          0.6148665809359691,
          -0.8295937565931014,
          0.5742665777687568,
          0.6179720652176569,
          -0.7936568541031073,
          -0.21054951866999908,
          -2.1682340263166604,
          1.7838858272054348,
          1.2954772761745392,
          1.160958828244452,
          -0.4351638102178348,
          0.016933996248292664,
          -1.8232969002549744,
          0.38222658174304364,
          -1.2234002835843565,
          -0.17849006665488779,
          -0.46825142508770273,
          -0.7776764077808724,
          -0.16925348148956473,
          0.4195825182870957,
          -0.3376038664622978,
          0.04256230459411407,
          0.2843192801057243,
          -0.20904498844493297,
          -0.0535713432493876,
          -0.27871118405401163,
          0.7633740996474665,
          -0.5589179635467679,
          0.4331240850095735,
          -1.1506589475828257,
          -0.3575813660429083,
          1.3808553736596048,
          -1.297070899438046,
          0.7987662356271483,
          -1.0321312971040055,
          0.6719707278520592,
          0.21750970397278124,
          -2.1679063088449477,
          -0.23340931400511625,
          1.885221125925643,
          -0.6051103392719552,
          -0.27336300038169786,
          0.19905980304961726,
          1.0604156655779047,
          -0.3875256103534181,
          -0.25910830497567866,
          1.2923851486789044,
          -0.2533139244859124,
          -0.2275319328040062,
          0.7814588386550321,
          0.47649873875247023,
          0.04115450706471839,
          1.7916876078845752,
          -0.4270194072726322,
          0.4012928155078483,
          -0.3404903856957402,
          0.8297506803029159,
          0.3803349840608319,
          -1.9805681304968268,
          -0.3562618372012064,
          0.3940265384863148,
          -0.5080704865712032,
          -1.5278762790472784,
          -0.1490674274164066,
          0.5278384946491753,
          0.4345439761886359,
          0.3159602633645175,
          0.58483340275023,
          1.3127414602070275,
          0.6934248167282844,
          0.010066619498830708,
          -2.656800549371415,
          2.4368587370924066,
          1.539961653073386,
          -1.8455500286996822,
          0.12066425443502592,
          -1.6728037334111137,
          0.19708640936661206,
          1.7030851208538846,
          0.5125284778379251,
          -1.1756952746509701,
          -1.4326974623177466,
          -1.4677571299667684,
          0.41472849932432676,
          -1.118729946802453,
          -0.8694882891178901,
          0.4371214376109995,
          1.11407701589781,
          0.5742729307504939,
          0.046112074600036246,
          -0.07648809484357338,
          -0.9350489671505954,
          -0.850019613995692
         ],
         "yaxis": "y5"
        },
        {
         "histfunc": "count",
         "histnorm": "",
         "marker": {
          "color": "rgba(55, 128, 191, 1.0)",
          "line": {
           "color": "#4D5663",
           "width": 1.3
          }
         },
         "name": "B",
         "nbinsx": 10,
         "opacity": 0.8,
         "orientation": "v",
         "type": "histogram",
         "x": [
          1.2330537097935343,
          0.11458097884445924,
          -0.9351958452452672,
          -1.4218432334766258,
          -0.5190303900137669,
          1.5102636903768525,
          0.4942950888284143,
          0.6148665809359691,
          -0.8295937565931014,
          0.5742665777687568,
          0.6179720652176569,
          -0.7936568541031073,
          -0.21054951866999908,
          -2.1682340263166604,
          1.7838858272054348,
          1.2954772761745392,
          1.160958828244452,
          -0.4351638102178348,
          0.016933996248292664,
          -1.8232969002549744,
          0.38222658174304364,
          -1.2234002835843565,
          -0.17849006665488779,
          -0.46825142508770273,
          -0.7776764077808724,
          -0.16925348148956473,
          0.4195825182870957,
          -0.3376038664622978,
          0.04256230459411407,
          0.2843192801057243,
          -0.20904498844493297,
          -0.0535713432493876,
          -0.27871118405401163,
          0.7633740996474665,
          -0.5589179635467679,
          0.4331240850095735,
          -1.1506589475828257,
          -0.3575813660429083,
          1.3808553736596048,
          -1.297070899438046,
          0.7987662356271483,
          -1.0321312971040055,
          0.6719707278520592,
          0.21750970397278124,
          -2.1679063088449477,
          -0.23340931400511625,
          1.885221125925643,
          -0.6051103392719552,
          -0.27336300038169786,
          0.19905980304961726,
          1.0604156655779047,
          -0.3875256103534181,
          -0.25910830497567866,
          1.2923851486789044,
          -0.2533139244859124,
          -0.2275319328040062,
          0.7814588386550321,
          0.47649873875247023,
          0.04115450706471839,
          1.7916876078845752,
          -0.4270194072726322,
          0.4012928155078483,
          -0.3404903856957402,
          0.8297506803029159,
          0.3803349840608319,
          -1.9805681304968268,
          -0.3562618372012064,
          0.3940265384863148,
          -0.5080704865712032,
          -1.5278762790472784,
          -0.1490674274164066,
          0.5278384946491753,
          0.4345439761886359,
          0.3159602633645175,
          0.58483340275023,
          1.3127414602070275,
          0.6934248167282844,
          0.010066619498830708,
          -2.656800549371415,
          2.4368587370924066,
          1.539961653073386,
          -1.8455500286996822,
          0.12066425443502592,
          -1.6728037334111137,
          0.19708640936661206,
          1.7030851208538846,
          0.5125284778379251,
          -1.1756952746509701,
          -1.4326974623177466,
          -1.4677571299667684,
          0.41472849932432676,
          -1.118729946802453,
          -0.8694882891178901,
          0.4371214376109995,
          1.11407701589781,
          0.5742729307504939,
          0.046112074600036246,
          -0.07648809484357338,
          -0.9350489671505954,
          -0.850019613995692
         ],
         "xaxis": "x6",
         "yaxis": "y6"
        },
        {
         "line": {
          "color": "rgba(128, 128, 128, 1.0)",
          "dash": "solid",
          "shape": "linear",
          "width": 1.3
         },
         "marker": {
          "size": 2,
          "symbol": "circle"
         },
         "mode": "markers",
         "name": "B",
         "text": "",
         "type": "scatter",
         "x": [
          1.2540720025146939,
          -0.46348347804251594,
          0.8129900423838404,
          0.22558850655681598,
          1.0646082853925278,
          -1.2185398755773857,
          -0.5133096197633565,
          -1.7726289036539224,
          -0.6956687985457533,
          0.24638886117842979,
          -0.2085382599832432,
          -1.1966412336116758,
          1.9526735154066548,
          -1.0581396474225,
          -0.026803359631144896,
          0.942738373952409,
          -0.7032990030686955,
          0.6289776349050559,
          -0.45564836257152447,
          -0.8335534360924648,
          -0.8820690924132405,
          -0.48975727791272505,
          1.7342519208764964,
          -0.533611868232763,
          -0.013705704854208323,
          -1.559238918217703,
          -0.7115577837292104,
          -1.5197709071141035,
          0.414113896297385,
          1.135360209092376,
          0.35100492418777596,
          0.3155999081909583,
          0.5988257083723294,
          -0.4133617345891343,
          0.5276400176872953,
          2.1790283947520366,
          0.8577136733639124,
          -0.34802998568452126,
          -1.399957964709555,
          0.006840099473515165,
          0.19269122119900958,
          0.8085603214070403,
          -0.6334402995606099,
          0.5243078086142938,
          -0.10293473421740021,
          0.09638337472435361,
          -1.0792067023982235,
          -0.5555187022137702,
          -0.7306806924316841,
          -0.4937820145857264,
          -0.5883585549895289,
          -1.0088028829097302,
          -0.8326337378080267,
          0.14571549480607143,
          -0.5055939284109676,
          0.6339493852237317,
          -0.16689281522043833,
          -0.13698728341557384,
          -0.08731294616271265,
          0.6009814848540755,
          -0.8330649294271425,
          -0.6034855372763794,
          0.6001393394038157,
          0.4406682648736641,
          2.6305707725663567,
          -0.16117059347015686,
          1.3193927981285256,
          0.24144273114842546,
          0.22735735795970022,
          0.4061251145045263,
          -0.760449220001816,
          -0.18708265134714938,
          0.7673030966613456,
          0.3823550527274153,
          -0.20516177928449067,
          -1.6191140140100544,
          0.5697773812819106,
          1.491596168302561,
          -0.835594311153154,
          0.4708819285809997,
          -0.4565506490383945,
          -1.051954053844487,
          0.8815774579654665,
          -1.503289233521424,
          0.3069578287223192,
          0.07603192925943901,
          -0.25529212175141863,
          -0.15131250845339583,
          -0.22378344227813943,
          0.12054900006272487,
          0.45048086475925303,
          0.5218269347268745,
          -0.8272000682526426,
          0.5366289433076256,
          0.5766881025550059,
          -1.0852229950367518,
          -0.9329742411250744,
          2.7192803209677368,
          2.7456592044275347,
          -1.1191829425685236
         ],
         "xaxis": "x7",
         "y": [
          1.2330537097935343,
          0.11458097884445924,
          -0.9351958452452672,
          -1.4218432334766258,
          -0.5190303900137669,
          1.5102636903768525,
          0.4942950888284143,
          0.6148665809359691,
          -0.8295937565931014,
          0.5742665777687568,
          0.6179720652176569,
          -0.7936568541031073,
          -0.21054951866999908,
          -2.1682340263166604,
          1.7838858272054348,
          1.2954772761745392,
          1.160958828244452,
          -0.4351638102178348,
          0.016933996248292664,
          -1.8232969002549744,
          0.38222658174304364,
          -1.2234002835843565,
          -0.17849006665488779,
          -0.46825142508770273,
          -0.7776764077808724,
          -0.16925348148956473,
          0.4195825182870957,
          -0.3376038664622978,
          0.04256230459411407,
          0.2843192801057243,
          -0.20904498844493297,
          -0.0535713432493876,
          -0.27871118405401163,
          0.7633740996474665,
          -0.5589179635467679,
          0.4331240850095735,
          -1.1506589475828257,
          -0.3575813660429083,
          1.3808553736596048,
          -1.297070899438046,
          0.7987662356271483,
          -1.0321312971040055,
          0.6719707278520592,
          0.21750970397278124,
          -2.1679063088449477,
          -0.23340931400511625,
          1.885221125925643,
          -0.6051103392719552,
          -0.27336300038169786,
          0.19905980304961726,
          1.0604156655779047,
          -0.3875256103534181,
          -0.25910830497567866,
          1.2923851486789044,
          -0.2533139244859124,
          -0.2275319328040062,
          0.7814588386550321,
          0.47649873875247023,
          0.04115450706471839,
          1.7916876078845752,
          -0.4270194072726322,
          0.4012928155078483,
          -0.3404903856957402,
          0.8297506803029159,
          0.3803349840608319,
          -1.9805681304968268,
          -0.3562618372012064,
          0.3940265384863148,
          -0.5080704865712032,
          -1.5278762790472784,
          -0.1490674274164066,
          0.5278384946491753,
          0.4345439761886359,
          0.3159602633645175,
          0.58483340275023,
          1.3127414602070275,
          0.6934248167282844,
          0.010066619498830708,
          -2.656800549371415,
          2.4368587370924066,
          1.539961653073386,
          -1.8455500286996822,
          0.12066425443502592,
          -1.6728037334111137,
          0.19708640936661206,
          1.7030851208538846,
          0.5125284778379251,
          -1.1756952746509701,
          -1.4326974623177466,
          -1.4677571299667684,
          0.41472849932432676,
          -1.118729946802453,
          -0.8694882891178901,
          0.4371214376109995,
          1.11407701589781,
          0.5742729307504939,
          0.046112074600036246,
          -0.07648809484357338,
          -0.9350489671505954,
          -0.850019613995692
         ],
         "yaxis": "y7"
        },
        {
         "line": {
          "color": "rgba(128, 128, 128, 1.0)",
          "dash": "solid",
          "shape": "linear",
          "width": 1.3
         },
         "marker": {
          "size": 2,
          "symbol": "circle"
         },
         "mode": "markers",
         "name": "B",
         "text": "",
         "type": "scatter",
         "x": [
          -0.506431628353634,
          -0.9545627013552734,
          -0.6107578249298709,
          -0.2844012167833867,
          -0.24847951128175225,
          -0.16531988235387118,
          -0.5388526720770379,
          1.494236018723017,
          0.6764267494848006,
          1.3874374441685948,
          -0.6916948476272538,
          0.45804108935416515,
          -2.2785804773584384,
          -2.231695849012556,
          1.39640190824559,
          -0.34652512717463446,
          0.005012423210220804,
          -0.36622774842919115,
          0.9892340159077968,
          0.9958449336538285,
          1.072446926640326,
          0.10480553334605108,
          -0.1072913850287637,
          2.585374563106729,
          -0.7868209943668756,
          0.6357919304480281,
          -1.9019608571986026,
          0.6470967689148188,
          -0.34659722915597024,
          0.9009669273500246,
          0.44368968149214133,
          -0.816300325008195,
          -0.36918333942125575,
          -0.7904449025161164,
          -1.8329107877968558,
          -1.5052446706255638,
          2.2341564203319213,
          0.6933333424439637,
          0.10781753043118078,
          -0.6983319509319129,
          -1.8529605231144097,
          -0.3312520928151987,
          -0.06083557916973807,
          -1.0558403893364163,
          -0.11473050573186004,
          0.5367377799501659,
          0.5429848386466027,
          -0.15573887507276518,
          2.261983496607472,
          1.005623826641129,
          -1.1104615244362885,
          2.1720522898731516,
          0.4698535971799291,
          -0.40098034758335677,
          -1.0102064591930502,
          -0.4458193157723049,
          -0.8733441645567254,
          0.1862847435286084,
          -1.2579957930555954,
          -1.1043619686193111,
          -3.4871280415309034,
          -0.30888131901352556,
          -1.0168340547952937,
          0.05252339360085888,
          -1.6363483777428562,
          0.050098599667050964,
          1.492477344156051,
          -0.5950441421475866,
          -0.988044218679561,
          0.19394334000726457,
          1.320158817073657,
          -0.5845318293100731,
          -0.11801295505794744,
          0.34618091647399774,
          1.4006292606846895,
          1.3329454464611699,
          0.8052403630487593,
          -1.1658716966254594,
          0.6272391710042999,
          -0.1412684370393452,
          -0.5878439970417628,
          -2.071189328202661,
          -0.4221789429959931,
          -0.3921830957173968,
          -0.052514265212202434,
          -0.17406572786031835,
          -0.5564886914052667,
          -0.46283435259659644,
          0.5991258594373452,
          -1.640921815833674,
          -0.13673329352987804,
          -0.07249204402135874,
          1.0025880668762868,
          -0.19040803325211011,
          -1.2573637736597831,
          -0.799280522358143,
          -0.5119431534249542,
          -0.38571247560118155,
          0.420319537810664,
          0.5149150150647253
         ],
         "xaxis": "x8",
         "y": [
          1.2330537097935343,
          0.11458097884445924,
          -0.9351958452452672,
          -1.4218432334766258,
          -0.5190303900137669,
          1.5102636903768525,
          0.4942950888284143,
          0.6148665809359691,
          -0.8295937565931014,
          0.5742665777687568,
          0.6179720652176569,
          -0.7936568541031073,
          -0.21054951866999908,
          -2.1682340263166604,
          1.7838858272054348,
          1.2954772761745392,
          1.160958828244452,
          -0.4351638102178348,
          0.016933996248292664,
          -1.8232969002549744,
          0.38222658174304364,
          -1.2234002835843565,
          -0.17849006665488779,
          -0.46825142508770273,
          -0.7776764077808724,
          -0.16925348148956473,
          0.4195825182870957,
          -0.3376038664622978,
          0.04256230459411407,
          0.2843192801057243,
          -0.20904498844493297,
          -0.0535713432493876,
          -0.27871118405401163,
          0.7633740996474665,
          -0.5589179635467679,
          0.4331240850095735,
          -1.1506589475828257,
          -0.3575813660429083,
          1.3808553736596048,
          -1.297070899438046,
          0.7987662356271483,
          -1.0321312971040055,
          0.6719707278520592,
          0.21750970397278124,
          -2.1679063088449477,
          -0.23340931400511625,
          1.885221125925643,
          -0.6051103392719552,
          -0.27336300038169786,
          0.19905980304961726,
          1.0604156655779047,
          -0.3875256103534181,
          -0.25910830497567866,
          1.2923851486789044,
          -0.2533139244859124,
          -0.2275319328040062,
          0.7814588386550321,
          0.47649873875247023,
          0.04115450706471839,
          1.7916876078845752,
          -0.4270194072726322,
          0.4012928155078483,
          -0.3404903856957402,
          0.8297506803029159,
          0.3803349840608319,
          -1.9805681304968268,
          -0.3562618372012064,
          0.3940265384863148,
          -0.5080704865712032,
          -1.5278762790472784,
          -0.1490674274164066,
          0.5278384946491753,
          0.4345439761886359,
          0.3159602633645175,
          0.58483340275023,
          1.3127414602070275,
          0.6934248167282844,
          0.010066619498830708,
          -2.656800549371415,
          2.4368587370924066,
          1.539961653073386,
          -1.8455500286996822,
          0.12066425443502592,
          -1.6728037334111137,
          0.19708640936661206,
          1.7030851208538846,
          0.5125284778379251,
          -1.1756952746509701,
          -1.4326974623177466,
          -1.4677571299667684,
          0.41472849932432676,
          -1.118729946802453,
          -0.8694882891178901,
          0.4371214376109995,
          1.11407701589781,
          0.5742729307504939,
          0.046112074600036246,
          -0.07648809484357338,
          -0.9350489671505954,
          -0.850019613995692
         ],
         "yaxis": "y8"
        },
        {
         "line": {
          "color": "rgba(128, 128, 128, 1.0)",
          "dash": "solid",
          "shape": "linear",
          "width": 1.3
         },
         "marker": {
          "size": 2,
          "symbol": "circle"
         },
         "mode": "markers",
         "name": "C",
         "text": "",
         "type": "scatter",
         "x": [
          -0.8954787537425822,
          1.3853378324685472,
          -1.228452817951252,
          -0.3424793683140804,
          -1.036680330412496,
          0.19015493165759942,
          0.17963978229923314,
          -0.9116175027522325,
          -0.21593023400594136,
          -0.2779506697081478,
          0.7235529276697348,
          0.1390777881070409,
          1.2405057033932279,
          1.6216724103072697,
          1.3643013806654916,
          -0.41731644398988027,
          -0.8458719596298891,
          -1.1215328734215342,
          0.09781894172468565,
          0.5551170140613797,
          1.290111091375146,
          -0.964709847431916,
          0.028727829996969215,
          -0.6151570639534203,
          0.8723196106463363,
          0.3424531500181427,
          -0.28768015582637674,
          0.40831304168242943,
          -2.519472311917223,
          0.3974550135542539,
          -0.3921532733587675,
          0.1490494785437309,
          -0.3121488819015316,
          -0.2358361304910559,
          -0.6027225763839881,
          0.7416273940186792,
          0.08286706737698286,
          0.4207503841010657,
          1.8624742014955278,
          1.625475305259574,
          0.10429331893932867,
          0.9184511642012367,
          2.181525124256408,
          -1.1563609727626594,
          0.028709521213927475,
          -0.2375569827884672,
          -0.23299649652787194,
          0.31775960186369745,
          0.7912388545129444,
          -0.21118301495412745,
          -0.8996836938704721,
          -1.5605972680456297,
          2.1567907489206997,
          -0.5279845006046894,
          0.7643241689489472,
          0.47619276965888035,
          1.4848901510475798,
          -0.15405129754079055,
          0.8961759234985016,
          0.007893186212914067,
          -0.20428335996163577,
          -0.6129935669515203,
          1.4101729802367804,
          -0.19045873408490974,
          -1.8784565574847774,
          2.2565342844087,
          0.5135638577038365,
          -0.2069560506724559,
          -1.8454699265247374,
          -1.7956926842182614,
          -0.15851038725001843,
          0.6048254421740097,
          -0.16118950550233477,
          -1.2631292300656045,
          -0.5435992120955132,
          0.5840495350623373,
          -0.8090900162261967,
          -0.6751748918388873,
          -0.4664535713177918,
          0.44326211987086894,
          -0.3723107881909927,
          -0.41126499674516737,
          -0.4313596702248325,
          1.1079793191944676,
          -1.5025325159282852,
          -1.1277676623437611,
          -1.7335456219153391,
          0.5006680549335961,
          0.9344649008180488,
          0.485724302055071,
          -0.9236043205237382,
          -0.06786370942009176,
          0.08506451564779151,
          -0.8354758300636222,
          0.5214516959248535,
          0.4445426788393895,
          0.7832318684627283,
          0.23712211426636307,
          -0.537220419964115,
          0.6795511371015246
         ],
         "xaxis": "x9",
         "y": [
          1.2540720025146939,
          -0.46348347804251594,
          0.8129900423838404,
          0.22558850655681598,
          1.0646082853925278,
          -1.2185398755773857,
          -0.5133096197633565,
          -1.7726289036539224,
          -0.6956687985457533,
          0.24638886117842979,
          -0.2085382599832432,
          -1.1966412336116758,
          1.9526735154066548,
          -1.0581396474225,
          -0.026803359631144896,
          0.942738373952409,
          -0.7032990030686955,
          0.6289776349050559,
          -0.45564836257152447,
          -0.8335534360924648,
          -0.8820690924132405,
          -0.48975727791272505,
          1.7342519208764964,
          -0.533611868232763,
          -0.013705704854208323,
          -1.559238918217703,
          -0.7115577837292104,
          -1.5197709071141035,
          0.414113896297385,
          1.135360209092376,
          0.35100492418777596,
          0.3155999081909583,
          0.5988257083723294,
          -0.4133617345891343,
          0.5276400176872953,
          2.1790283947520366,
          0.8577136733639124,
          -0.34802998568452126,
          -1.399957964709555,
          0.006840099473515165,
          0.19269122119900958,
          0.8085603214070403,
          -0.6334402995606099,
          0.5243078086142938,
          -0.10293473421740021,
          0.09638337472435361,
          -1.0792067023982235,
          -0.5555187022137702,
          -0.7306806924316841,
          -0.4937820145857264,
          -0.5883585549895289,
          -1.0088028829097302,
          -0.8326337378080267,
          0.14571549480607143,
          -0.5055939284109676,
          0.6339493852237317,
          -0.16689281522043833,
          -0.13698728341557384,
          -0.08731294616271265,
          0.6009814848540755,
          -0.8330649294271425,
          -0.6034855372763794,
          0.6001393394038157,
          0.4406682648736641,
          2.6305707725663567,
          -0.16117059347015686,
          1.3193927981285256,
          0.24144273114842546,
          0.22735735795970022,
          0.4061251145045263,
          -0.760449220001816,
          -0.18708265134714938,
          0.7673030966613456,
          0.3823550527274153,
          -0.20516177928449067,
          -1.6191140140100544,
          0.5697773812819106,
          1.491596168302561,
          -0.835594311153154,
          0.4708819285809997,
          -0.4565506490383945,
          -1.051954053844487,
          0.8815774579654665,
          -1.503289233521424,
          0.3069578287223192,
          0.07603192925943901,
          -0.25529212175141863,
          -0.15131250845339583,
          -0.22378344227813943,
          0.12054900006272487,
          0.45048086475925303,
          0.5218269347268745,
          -0.8272000682526426,
          0.5366289433076256,
          0.5766881025550059,
          -1.0852229950367518,
          -0.9329742411250744,
          2.7192803209677368,
          2.7456592044275347,
          -1.1191829425685236
         ],
         "yaxis": "y9"
        },
        {
         "line": {
          "color": "rgba(128, 128, 128, 1.0)",
          "dash": "solid",
          "shape": "linear",
          "width": 1.3
         },
         "marker": {
          "size": 2,
          "symbol": "circle"
         },
         "mode": "markers",
         "name": "C",
         "text": "",
         "type": "scatter",
         "x": [
          1.2330537097935343,
          0.11458097884445924,
          -0.9351958452452672,
          -1.4218432334766258,
          -0.5190303900137669,
          1.5102636903768525,
          0.4942950888284143,
          0.6148665809359691,
          -0.8295937565931014,
          0.5742665777687568,
          0.6179720652176569,
          -0.7936568541031073,
          -0.21054951866999908,
          -2.1682340263166604,
          1.7838858272054348,
          1.2954772761745392,
          1.160958828244452,
          -0.4351638102178348,
          0.016933996248292664,
          -1.8232969002549744,
          0.38222658174304364,
          -1.2234002835843565,
          -0.17849006665488779,
          -0.46825142508770273,
          -0.7776764077808724,
          -0.16925348148956473,
          0.4195825182870957,
          -0.3376038664622978,
          0.04256230459411407,
          0.2843192801057243,
          -0.20904498844493297,
          -0.0535713432493876,
          -0.27871118405401163,
          0.7633740996474665,
          -0.5589179635467679,
          0.4331240850095735,
          -1.1506589475828257,
          -0.3575813660429083,
          1.3808553736596048,
          -1.297070899438046,
          0.7987662356271483,
          -1.0321312971040055,
          0.6719707278520592,
          0.21750970397278124,
          -2.1679063088449477,
          -0.23340931400511625,
          1.885221125925643,
          -0.6051103392719552,
          -0.27336300038169786,
          0.19905980304961726,
          1.0604156655779047,
          -0.3875256103534181,
          -0.25910830497567866,
          1.2923851486789044,
          -0.2533139244859124,
          -0.2275319328040062,
          0.7814588386550321,
          0.47649873875247023,
          0.04115450706471839,
          1.7916876078845752,
          -0.4270194072726322,
          0.4012928155078483,
          -0.3404903856957402,
          0.8297506803029159,
          0.3803349840608319,
          -1.9805681304968268,
          -0.3562618372012064,
          0.3940265384863148,
          -0.5080704865712032,
          -1.5278762790472784,
          -0.1490674274164066,
          0.5278384946491753,
          0.4345439761886359,
          0.3159602633645175,
          0.58483340275023,
          1.3127414602070275,
          0.6934248167282844,
          0.010066619498830708,
          -2.656800549371415,
          2.4368587370924066,
          1.539961653073386,
          -1.8455500286996822,
          0.12066425443502592,
          -1.6728037334111137,
          0.19708640936661206,
          1.7030851208538846,
          0.5125284778379251,
          -1.1756952746509701,
          -1.4326974623177466,
          -1.4677571299667684,
          0.41472849932432676,
          -1.118729946802453,
          -0.8694882891178901,
          0.4371214376109995,
          1.11407701589781,
          0.5742729307504939,
          0.046112074600036246,
          -0.07648809484357338,
          -0.9350489671505954,
          -0.850019613995692
         ],
         "xaxis": "x10",
         "y": [
          1.2540720025146939,
          -0.46348347804251594,
          0.8129900423838404,
          0.22558850655681598,
          1.0646082853925278,
          -1.2185398755773857,
          -0.5133096197633565,
          -1.7726289036539224,
          -0.6956687985457533,
          0.24638886117842979,
          -0.2085382599832432,
          -1.1966412336116758,
          1.9526735154066548,
          -1.0581396474225,
          -0.026803359631144896,
          0.942738373952409,
          -0.7032990030686955,
          0.6289776349050559,
          -0.45564836257152447,
          -0.8335534360924648,
          -0.8820690924132405,
          -0.48975727791272505,
          1.7342519208764964,
          -0.533611868232763,
          -0.013705704854208323,
          -1.559238918217703,
          -0.7115577837292104,
          -1.5197709071141035,
          0.414113896297385,
          1.135360209092376,
          0.35100492418777596,
          0.3155999081909583,
          0.5988257083723294,
          -0.4133617345891343,
          0.5276400176872953,
          2.1790283947520366,
          0.8577136733639124,
          -0.34802998568452126,
          -1.399957964709555,
          0.006840099473515165,
          0.19269122119900958,
          0.8085603214070403,
          -0.6334402995606099,
          0.5243078086142938,
          -0.10293473421740021,
          0.09638337472435361,
          -1.0792067023982235,
          -0.5555187022137702,
          -0.7306806924316841,
          -0.4937820145857264,
          -0.5883585549895289,
          -1.0088028829097302,
          -0.8326337378080267,
          0.14571549480607143,
          -0.5055939284109676,
          0.6339493852237317,
          -0.16689281522043833,
          -0.13698728341557384,
          -0.08731294616271265,
          0.6009814848540755,
          -0.8330649294271425,
          -0.6034855372763794,
          0.6001393394038157,
          0.4406682648736641,
          2.6305707725663567,
          -0.16117059347015686,
          1.3193927981285256,
          0.24144273114842546,
          0.22735735795970022,
          0.4061251145045263,
          -0.760449220001816,
          -0.18708265134714938,
          0.7673030966613456,
          0.3823550527274153,
          -0.20516177928449067,
          -1.6191140140100544,
          0.5697773812819106,
          1.491596168302561,
          -0.835594311153154,
          0.4708819285809997,
          -0.4565506490383945,
          -1.051954053844487,
          0.8815774579654665,
          -1.503289233521424,
          0.3069578287223192,
          0.07603192925943901,
          -0.25529212175141863,
          -0.15131250845339583,
          -0.22378344227813943,
          0.12054900006272487,
          0.45048086475925303,
          0.5218269347268745,
          -0.8272000682526426,
          0.5366289433076256,
          0.5766881025550059,
          -1.0852229950367518,
          -0.9329742411250744,
          2.7192803209677368,
          2.7456592044275347,
          -1.1191829425685236
         ],
         "yaxis": "y10"
        },
        {
         "histfunc": "count",
         "histnorm": "",
         "marker": {
          "color": "rgba(50, 171, 96, 1.0)",
          "line": {
           "color": "#4D5663",
           "width": 1.3
          }
         },
         "name": "C",
         "nbinsx": 10,
         "opacity": 0.8,
         "orientation": "v",
         "type": "histogram",
         "x": [
          1.2540720025146939,
          -0.46348347804251594,
          0.8129900423838404,
          0.22558850655681598,
          1.0646082853925278,
          -1.2185398755773857,
          -0.5133096197633565,
          -1.7726289036539224,
          -0.6956687985457533,
          0.24638886117842979,
          -0.2085382599832432,
          -1.1966412336116758,
          1.9526735154066548,
          -1.0581396474225,
          -0.026803359631144896,
          0.942738373952409,
          -0.7032990030686955,
          0.6289776349050559,
          -0.45564836257152447,
          -0.8335534360924648,
          -0.8820690924132405,
          -0.48975727791272505,
          1.7342519208764964,
          -0.533611868232763,
          -0.013705704854208323,
          -1.559238918217703,
          -0.7115577837292104,
          -1.5197709071141035,
          0.414113896297385,
          1.135360209092376,
          0.35100492418777596,
          0.3155999081909583,
          0.5988257083723294,
          -0.4133617345891343,
          0.5276400176872953,
          2.1790283947520366,
          0.8577136733639124,
          -0.34802998568452126,
          -1.399957964709555,
          0.006840099473515165,
          0.19269122119900958,
          0.8085603214070403,
          -0.6334402995606099,
          0.5243078086142938,
          -0.10293473421740021,
          0.09638337472435361,
          -1.0792067023982235,
          -0.5555187022137702,
          -0.7306806924316841,
          -0.4937820145857264,
          -0.5883585549895289,
          -1.0088028829097302,
          -0.8326337378080267,
          0.14571549480607143,
          -0.5055939284109676,
          0.6339493852237317,
          -0.16689281522043833,
          -0.13698728341557384,
          -0.08731294616271265,
          0.6009814848540755,
          -0.8330649294271425,
          -0.6034855372763794,
          0.6001393394038157,
          0.4406682648736641,
          2.6305707725663567,
          -0.16117059347015686,
          1.3193927981285256,
          0.24144273114842546,
          0.22735735795970022,
          0.4061251145045263,
          -0.760449220001816,
          -0.18708265134714938,
          0.7673030966613456,
          0.3823550527274153,
          -0.20516177928449067,
          -1.6191140140100544,
          0.5697773812819106,
          1.491596168302561,
          -0.835594311153154,
          0.4708819285809997,
          -0.4565506490383945,
          -1.051954053844487,
          0.8815774579654665,
          -1.503289233521424,
          0.3069578287223192,
          0.07603192925943901,
          -0.25529212175141863,
          -0.15131250845339583,
          -0.22378344227813943,
          0.12054900006272487,
          0.45048086475925303,
          0.5218269347268745,
          -0.8272000682526426,
          0.5366289433076256,
          0.5766881025550059,
          -1.0852229950367518,
          -0.9329742411250744,
          2.7192803209677368,
          2.7456592044275347,
          -1.1191829425685236
         ],
         "xaxis": "x11",
         "yaxis": "y11"
        },
        {
         "line": {
          "color": "rgba(128, 128, 128, 1.0)",
          "dash": "solid",
          "shape": "linear",
          "width": 1.3
         },
         "marker": {
          "size": 2,
          "symbol": "circle"
         },
         "mode": "markers",
         "name": "C",
         "text": "",
         "type": "scatter",
         "x": [
          -0.506431628353634,
          -0.9545627013552734,
          -0.6107578249298709,
          -0.2844012167833867,
          -0.24847951128175225,
          -0.16531988235387118,
          -0.5388526720770379,
          1.494236018723017,
          0.6764267494848006,
          1.3874374441685948,
          -0.6916948476272538,
          0.45804108935416515,
          -2.2785804773584384,
          -2.231695849012556,
          1.39640190824559,
          -0.34652512717463446,
          0.005012423210220804,
          -0.36622774842919115,
          0.9892340159077968,
          0.9958449336538285,
          1.072446926640326,
          0.10480553334605108,
          -0.1072913850287637,
          2.585374563106729,
          -0.7868209943668756,
          0.6357919304480281,
          -1.9019608571986026,
          0.6470967689148188,
          -0.34659722915597024,
          0.9009669273500246,
          0.44368968149214133,
          -0.816300325008195,
          -0.36918333942125575,
          -0.7904449025161164,
          -1.8329107877968558,
          -1.5052446706255638,
          2.2341564203319213,
          0.6933333424439637,
          0.10781753043118078,
          -0.6983319509319129,
          -1.8529605231144097,
          -0.3312520928151987,
          -0.06083557916973807,
          -1.0558403893364163,
          -0.11473050573186004,
          0.5367377799501659,
          0.5429848386466027,
          -0.15573887507276518,
          2.261983496607472,
          1.005623826641129,
          -1.1104615244362885,
          2.1720522898731516,
          0.4698535971799291,
          -0.40098034758335677,
          -1.0102064591930502,
          -0.4458193157723049,
          -0.8733441645567254,
          0.1862847435286084,
          -1.2579957930555954,
          -1.1043619686193111,
          -3.4871280415309034,
          -0.30888131901352556,
          -1.0168340547952937,
          0.05252339360085888,
          -1.6363483777428562,
          0.050098599667050964,
          1.492477344156051,
          -0.5950441421475866,
          -0.988044218679561,
          0.19394334000726457,
          1.320158817073657,
          -0.5845318293100731,
          -0.11801295505794744,
          0.34618091647399774,
          1.4006292606846895,
          1.3329454464611699,
          0.8052403630487593,
          -1.1658716966254594,
          0.6272391710042999,
          -0.1412684370393452,
          -0.5878439970417628,
          -2.071189328202661,
          -0.4221789429959931,
          -0.3921830957173968,
          -0.052514265212202434,
          -0.17406572786031835,
          -0.5564886914052667,
          -0.46283435259659644,
          0.5991258594373452,
          -1.640921815833674,
          -0.13673329352987804,
          -0.07249204402135874,
          1.0025880668762868,
          -0.19040803325211011,
          -1.2573637736597831,
          -0.799280522358143,
          -0.5119431534249542,
          -0.38571247560118155,
          0.420319537810664,
          0.5149150150647253
         ],
         "xaxis": "x12",
         "y": [
          1.2540720025146939,
          -0.46348347804251594,
          0.8129900423838404,
          0.22558850655681598,
          1.0646082853925278,
          -1.2185398755773857,
          -0.5133096197633565,
          -1.7726289036539224,
          -0.6956687985457533,
          0.24638886117842979,
          -0.2085382599832432,
          -1.1966412336116758,
          1.9526735154066548,
          -1.0581396474225,
          -0.026803359631144896,
          0.942738373952409,
          -0.7032990030686955,
          0.6289776349050559,
          -0.45564836257152447,
          -0.8335534360924648,
          -0.8820690924132405,
          -0.48975727791272505,
          1.7342519208764964,
          -0.533611868232763,
          -0.013705704854208323,
          -1.559238918217703,
          -0.7115577837292104,
          -1.5197709071141035,
          0.414113896297385,
          1.135360209092376,
          0.35100492418777596,
          0.3155999081909583,
          0.5988257083723294,
          -0.4133617345891343,
          0.5276400176872953,
          2.1790283947520366,
          0.8577136733639124,
          -0.34802998568452126,
          -1.399957964709555,
          0.006840099473515165,
          0.19269122119900958,
          0.8085603214070403,
          -0.6334402995606099,
          0.5243078086142938,
          -0.10293473421740021,
          0.09638337472435361,
          -1.0792067023982235,
          -0.5555187022137702,
          -0.7306806924316841,
          -0.4937820145857264,
          -0.5883585549895289,
          -1.0088028829097302,
          -0.8326337378080267,
          0.14571549480607143,
          -0.5055939284109676,
          0.6339493852237317,
          -0.16689281522043833,
          -0.13698728341557384,
          -0.08731294616271265,
          0.6009814848540755,
          -0.8330649294271425,
          -0.6034855372763794,
          0.6001393394038157,
          0.4406682648736641,
          2.6305707725663567,
          -0.16117059347015686,
          1.3193927981285256,
          0.24144273114842546,
          0.22735735795970022,
          0.4061251145045263,
          -0.760449220001816,
          -0.18708265134714938,
          0.7673030966613456,
          0.3823550527274153,
          -0.20516177928449067,
          -1.6191140140100544,
          0.5697773812819106,
          1.491596168302561,
          -0.835594311153154,
          0.4708819285809997,
          -0.4565506490383945,
          -1.051954053844487,
          0.8815774579654665,
          -1.503289233521424,
          0.3069578287223192,
          0.07603192925943901,
          -0.25529212175141863,
          -0.15131250845339583,
          -0.22378344227813943,
          0.12054900006272487,
          0.45048086475925303,
          0.5218269347268745,
          -0.8272000682526426,
          0.5366289433076256,
          0.5766881025550059,
          -1.0852229950367518,
          -0.9329742411250744,
          2.7192803209677368,
          2.7456592044275347,
          -1.1191829425685236
         ],
         "yaxis": "y12"
        },
        {
         "line": {
          "color": "rgba(128, 128, 128, 1.0)",
          "dash": "solid",
          "shape": "linear",
          "width": 1.3
         },
         "marker": {
          "size": 2,
          "symbol": "circle"
         },
         "mode": "markers",
         "name": "D",
         "text": "",
         "type": "scatter",
         "x": [
          -0.8954787537425822,
          1.3853378324685472,
          -1.228452817951252,
          -0.3424793683140804,
          -1.036680330412496,
          0.19015493165759942,
          0.17963978229923314,
          -0.9116175027522325,
          -0.21593023400594136,
          -0.2779506697081478,
          0.7235529276697348,
          0.1390777881070409,
          1.2405057033932279,
          1.6216724103072697,
          1.3643013806654916,
          -0.41731644398988027,
          -0.8458719596298891,
          -1.1215328734215342,
          0.09781894172468565,
          0.5551170140613797,
          1.290111091375146,
          -0.964709847431916,
          0.028727829996969215,
          -0.6151570639534203,
          0.8723196106463363,
          0.3424531500181427,
          -0.28768015582637674,
          0.40831304168242943,
          -2.519472311917223,
          0.3974550135542539,
          -0.3921532733587675,
          0.1490494785437309,
          -0.3121488819015316,
          -0.2358361304910559,
          -0.6027225763839881,
          0.7416273940186792,
          0.08286706737698286,
          0.4207503841010657,
          1.8624742014955278,
          1.625475305259574,
          0.10429331893932867,
          0.9184511642012367,
          2.181525124256408,
          -1.1563609727626594,
          0.028709521213927475,
          -0.2375569827884672,
          -0.23299649652787194,
          0.31775960186369745,
          0.7912388545129444,
          -0.21118301495412745,
          -0.8996836938704721,
          -1.5605972680456297,
          2.1567907489206997,
          -0.5279845006046894,
          0.7643241689489472,
          0.47619276965888035,
          1.4848901510475798,
          -0.15405129754079055,
          0.8961759234985016,
          0.007893186212914067,
          -0.20428335996163577,
          -0.6129935669515203,
          1.4101729802367804,
          -0.19045873408490974,
          -1.8784565574847774,
          2.2565342844087,
          0.5135638577038365,
          -0.2069560506724559,
          -1.8454699265247374,
          -1.7956926842182614,
          -0.15851038725001843,
          0.6048254421740097,
          -0.16118950550233477,
          -1.2631292300656045,
          -0.5435992120955132,
          0.5840495350623373,
          -0.8090900162261967,
          -0.6751748918388873,
          -0.4664535713177918,
          0.44326211987086894,
          -0.3723107881909927,
          -0.41126499674516737,
          -0.4313596702248325,
          1.1079793191944676,
          -1.5025325159282852,
          -1.1277676623437611,
          -1.7335456219153391,
          0.5006680549335961,
          0.9344649008180488,
          0.485724302055071,
          -0.9236043205237382,
          -0.06786370942009176,
          0.08506451564779151,
          -0.8354758300636222,
          0.5214516959248535,
          0.4445426788393895,
          0.7832318684627283,
          0.23712211426636307,
          -0.537220419964115,
          0.6795511371015246
         ],
         "xaxis": "x13",
         "y": [
          -0.506431628353634,
          -0.9545627013552734,
          -0.6107578249298709,
          -0.2844012167833867,
          -0.24847951128175225,
          -0.16531988235387118,
          -0.5388526720770379,
          1.494236018723017,
          0.6764267494848006,
          1.3874374441685948,
          -0.6916948476272538,
          0.45804108935416515,
          -2.2785804773584384,
          -2.231695849012556,
          1.39640190824559,
          -0.34652512717463446,
          0.005012423210220804,
          -0.36622774842919115,
          0.9892340159077968,
          0.9958449336538285,
          1.072446926640326,
          0.10480553334605108,
          -0.1072913850287637,
          2.585374563106729,
          -0.7868209943668756,
          0.6357919304480281,
          -1.9019608571986026,
          0.6470967689148188,
          -0.34659722915597024,
          0.9009669273500246,
          0.44368968149214133,
          -0.816300325008195,
          -0.36918333942125575,
          -0.7904449025161164,
          -1.8329107877968558,
          -1.5052446706255638,
          2.2341564203319213,
          0.6933333424439637,
          0.10781753043118078,
          -0.6983319509319129,
          -1.8529605231144097,
          -0.3312520928151987,
          -0.06083557916973807,
          -1.0558403893364163,
          -0.11473050573186004,
          0.5367377799501659,
          0.5429848386466027,
          -0.15573887507276518,
          2.261983496607472,
          1.005623826641129,
          -1.1104615244362885,
          2.1720522898731516,
          0.4698535971799291,
          -0.40098034758335677,
          -1.0102064591930502,
          -0.4458193157723049,
          -0.8733441645567254,
          0.1862847435286084,
          -1.2579957930555954,
          -1.1043619686193111,
          -3.4871280415309034,
          -0.30888131901352556,
          -1.0168340547952937,
          0.05252339360085888,
          -1.6363483777428562,
          0.050098599667050964,
          1.492477344156051,
          -0.5950441421475866,
          -0.988044218679561,
          0.19394334000726457,
          1.320158817073657,
          -0.5845318293100731,
          -0.11801295505794744,
          0.34618091647399774,
          1.4006292606846895,
          1.3329454464611699,
          0.8052403630487593,
          -1.1658716966254594,
          0.6272391710042999,
          -0.1412684370393452,
          -0.5878439970417628,
          -2.071189328202661,
          -0.4221789429959931,
          -0.3921830957173968,
          -0.052514265212202434,
          -0.17406572786031835,
          -0.5564886914052667,
          -0.46283435259659644,
          0.5991258594373452,
          -1.640921815833674,
          -0.13673329352987804,
          -0.07249204402135874,
          1.0025880668762868,
          -0.19040803325211011,
          -1.2573637736597831,
          -0.799280522358143,
          -0.5119431534249542,
          -0.38571247560118155,
          0.420319537810664,
          0.5149150150647253
         ],
         "yaxis": "y13"
        },
        {
         "line": {
          "color": "rgba(128, 128, 128, 1.0)",
          "dash": "solid",
          "shape": "linear",
          "width": 1.3
         },
         "marker": {
          "size": 2,
          "symbol": "circle"
         },
         "mode": "markers",
         "name": "D",
         "text": "",
         "type": "scatter",
         "x": [
          1.2330537097935343,
          0.11458097884445924,
          -0.9351958452452672,
          -1.4218432334766258,
          -0.5190303900137669,
          1.5102636903768525,
          0.4942950888284143,
          0.6148665809359691,
          -0.8295937565931014,
          0.5742665777687568,
          0.6179720652176569,
          -0.7936568541031073,
          -0.21054951866999908,
          -2.1682340263166604,
          1.7838858272054348,
          1.2954772761745392,
          1.160958828244452,
          -0.4351638102178348,
          0.016933996248292664,
          -1.8232969002549744,
          0.38222658174304364,
          -1.2234002835843565,
          -0.17849006665488779,
          -0.46825142508770273,
          -0.7776764077808724,
          -0.16925348148956473,
          0.4195825182870957,
          -0.3376038664622978,
          0.04256230459411407,
          0.2843192801057243,
          -0.20904498844493297,
          -0.0535713432493876,
          -0.27871118405401163,
          0.7633740996474665,
          -0.5589179635467679,
          0.4331240850095735,
          -1.1506589475828257,
          -0.3575813660429083,
          1.3808553736596048,
          -1.297070899438046,
          0.7987662356271483,
          -1.0321312971040055,
          0.6719707278520592,
          0.21750970397278124,
          -2.1679063088449477,
          -0.23340931400511625,
          1.885221125925643,
          -0.6051103392719552,
          -0.27336300038169786,
          0.19905980304961726,
          1.0604156655779047,
          -0.3875256103534181,
          -0.25910830497567866,
          1.2923851486789044,
          -0.2533139244859124,
          -0.2275319328040062,
          0.7814588386550321,
          0.47649873875247023,
          0.04115450706471839,
          1.7916876078845752,
          -0.4270194072726322,
          0.4012928155078483,
          -0.3404903856957402,
          0.8297506803029159,
          0.3803349840608319,
          -1.9805681304968268,
          -0.3562618372012064,
          0.3940265384863148,
          -0.5080704865712032,
          -1.5278762790472784,
          -0.1490674274164066,
          0.5278384946491753,
          0.4345439761886359,
          0.3159602633645175,
          0.58483340275023,
          1.3127414602070275,
          0.6934248167282844,
          0.010066619498830708,
          -2.656800549371415,
          2.4368587370924066,
          1.539961653073386,
          -1.8455500286996822,
          0.12066425443502592,
          -1.6728037334111137,
          0.19708640936661206,
          1.7030851208538846,
          0.5125284778379251,
          -1.1756952746509701,
          -1.4326974623177466,
          -1.4677571299667684,
          0.41472849932432676,
          -1.118729946802453,
          -0.8694882891178901,
          0.4371214376109995,
          1.11407701589781,
          0.5742729307504939,
          0.046112074600036246,
          -0.07648809484357338,
          -0.9350489671505954,
          -0.850019613995692
         ],
         "xaxis": "x14",
         "y": [
          -0.506431628353634,
          -0.9545627013552734,
          -0.6107578249298709,
          -0.2844012167833867,
          -0.24847951128175225,
          -0.16531988235387118,
          -0.5388526720770379,
          1.494236018723017,
          0.6764267494848006,
          1.3874374441685948,
          -0.6916948476272538,
          0.45804108935416515,
          -2.2785804773584384,
          -2.231695849012556,
          1.39640190824559,
          -0.34652512717463446,
          0.005012423210220804,
          -0.36622774842919115,
          0.9892340159077968,
          0.9958449336538285,
          1.072446926640326,
          0.10480553334605108,
          -0.1072913850287637,
          2.585374563106729,
          -0.7868209943668756,
          0.6357919304480281,
          -1.9019608571986026,
          0.6470967689148188,
          -0.34659722915597024,
          0.9009669273500246,
          0.44368968149214133,
          -0.816300325008195,
          -0.36918333942125575,
          -0.7904449025161164,
          -1.8329107877968558,
          -1.5052446706255638,
          2.2341564203319213,
          0.6933333424439637,
          0.10781753043118078,
          -0.6983319509319129,
          -1.8529605231144097,
          -0.3312520928151987,
          -0.06083557916973807,
          -1.0558403893364163,
          -0.11473050573186004,
          0.5367377799501659,
          0.5429848386466027,
          -0.15573887507276518,
          2.261983496607472,
          1.005623826641129,
          -1.1104615244362885,
          2.1720522898731516,
          0.4698535971799291,
          -0.40098034758335677,
          -1.0102064591930502,
          -0.4458193157723049,
          -0.8733441645567254,
          0.1862847435286084,
          -1.2579957930555954,
          -1.1043619686193111,
          -3.4871280415309034,
          -0.30888131901352556,
          -1.0168340547952937,
          0.05252339360085888,
          -1.6363483777428562,
          0.050098599667050964,
          1.492477344156051,
          -0.5950441421475866,
          -0.988044218679561,
          0.19394334000726457,
          1.320158817073657,
          -0.5845318293100731,
          -0.11801295505794744,
          0.34618091647399774,
          1.4006292606846895,
          1.3329454464611699,
          0.8052403630487593,
          -1.1658716966254594,
          0.6272391710042999,
          -0.1412684370393452,
          -0.5878439970417628,
          -2.071189328202661,
          -0.4221789429959931,
          -0.3921830957173968,
          -0.052514265212202434,
          -0.17406572786031835,
          -0.5564886914052667,
          -0.46283435259659644,
          0.5991258594373452,
          -1.640921815833674,
          -0.13673329352987804,
          -0.07249204402135874,
          1.0025880668762868,
          -0.19040803325211011,
          -1.2573637736597831,
          -0.799280522358143,
          -0.5119431534249542,
          -0.38571247560118155,
          0.420319537810664,
          0.5149150150647253
         ],
         "yaxis": "y14"
        },
        {
         "line": {
          "color": "rgba(128, 128, 128, 1.0)",
          "dash": "solid",
          "shape": "linear",
          "width": 1.3
         },
         "marker": {
          "size": 2,
          "symbol": "circle"
         },
         "mode": "markers",
         "name": "D",
         "text": "",
         "type": "scatter",
         "x": [
          1.2540720025146939,
          -0.46348347804251594,
          0.8129900423838404,
          0.22558850655681598,
          1.0646082853925278,
          -1.2185398755773857,
          -0.5133096197633565,
          -1.7726289036539224,
          -0.6956687985457533,
          0.24638886117842979,
          -0.2085382599832432,
          -1.1966412336116758,
          1.9526735154066548,
          -1.0581396474225,
          -0.026803359631144896,
          0.942738373952409,
          -0.7032990030686955,
          0.6289776349050559,
          -0.45564836257152447,
          -0.8335534360924648,
          -0.8820690924132405,
          -0.48975727791272505,
          1.7342519208764964,
          -0.533611868232763,
          -0.013705704854208323,
          -1.559238918217703,
          -0.7115577837292104,
          -1.5197709071141035,
          0.414113896297385,
          1.135360209092376,
          0.35100492418777596,
          0.3155999081909583,
          0.5988257083723294,
          -0.4133617345891343,
          0.5276400176872953,
          2.1790283947520366,
          0.8577136733639124,
          -0.34802998568452126,
          -1.399957964709555,
          0.006840099473515165,
          0.19269122119900958,
          0.8085603214070403,
          -0.6334402995606099,
          0.5243078086142938,
          -0.10293473421740021,
          0.09638337472435361,
          -1.0792067023982235,
          -0.5555187022137702,
          -0.7306806924316841,
          -0.4937820145857264,
          -0.5883585549895289,
          -1.0088028829097302,
          -0.8326337378080267,
          0.14571549480607143,
          -0.5055939284109676,
          0.6339493852237317,
          -0.16689281522043833,
          -0.13698728341557384,
          -0.08731294616271265,
          0.6009814848540755,
          -0.8330649294271425,
          -0.6034855372763794,
          0.6001393394038157,
          0.4406682648736641,
          2.6305707725663567,
          -0.16117059347015686,
          1.3193927981285256,
          0.24144273114842546,
          0.22735735795970022,
          0.4061251145045263,
          -0.760449220001816,
          -0.18708265134714938,
          0.7673030966613456,
          0.3823550527274153,
          -0.20516177928449067,
          -1.6191140140100544,
          0.5697773812819106,
          1.491596168302561,
          -0.835594311153154,
          0.4708819285809997,
          -0.4565506490383945,
          -1.051954053844487,
          0.8815774579654665,
          -1.503289233521424,
          0.3069578287223192,
          0.07603192925943901,
          -0.25529212175141863,
          -0.15131250845339583,
          -0.22378344227813943,
          0.12054900006272487,
          0.45048086475925303,
          0.5218269347268745,
          -0.8272000682526426,
          0.5366289433076256,
          0.5766881025550059,
          -1.0852229950367518,
          -0.9329742411250744,
          2.7192803209677368,
          2.7456592044275347,
          -1.1191829425685236
         ],
         "xaxis": "x15",
         "y": [
          -0.506431628353634,
          -0.9545627013552734,
          -0.6107578249298709,
          -0.2844012167833867,
          -0.24847951128175225,
          -0.16531988235387118,
          -0.5388526720770379,
          1.494236018723017,
          0.6764267494848006,
          1.3874374441685948,
          -0.6916948476272538,
          0.45804108935416515,
          -2.2785804773584384,
          -2.231695849012556,
          1.39640190824559,
          -0.34652512717463446,
          0.005012423210220804,
          -0.36622774842919115,
          0.9892340159077968,
          0.9958449336538285,
          1.072446926640326,
          0.10480553334605108,
          -0.1072913850287637,
          2.585374563106729,
          -0.7868209943668756,
          0.6357919304480281,
          -1.9019608571986026,
          0.6470967689148188,
          -0.34659722915597024,
          0.9009669273500246,
          0.44368968149214133,
          -0.816300325008195,
          -0.36918333942125575,
          -0.7904449025161164,
          -1.8329107877968558,
          -1.5052446706255638,
          2.2341564203319213,
          0.6933333424439637,
          0.10781753043118078,
          -0.6983319509319129,
          -1.8529605231144097,
          -0.3312520928151987,
          -0.06083557916973807,
          -1.0558403893364163,
          -0.11473050573186004,
          0.5367377799501659,
          0.5429848386466027,
          -0.15573887507276518,
          2.261983496607472,
          1.005623826641129,
          -1.1104615244362885,
          2.1720522898731516,
          0.4698535971799291,
          -0.40098034758335677,
          -1.0102064591930502,
          -0.4458193157723049,
          -0.8733441645567254,
          0.1862847435286084,
          -1.2579957930555954,
          -1.1043619686193111,
          -3.4871280415309034,
          -0.30888131901352556,
          -1.0168340547952937,
          0.05252339360085888,
          -1.6363483777428562,
          0.050098599667050964,
          1.492477344156051,
          -0.5950441421475866,
          -0.988044218679561,
          0.19394334000726457,
          1.320158817073657,
          -0.5845318293100731,
          -0.11801295505794744,
          0.34618091647399774,
          1.4006292606846895,
          1.3329454464611699,
          0.8052403630487593,
          -1.1658716966254594,
          0.6272391710042999,
          -0.1412684370393452,
          -0.5878439970417628,
          -2.071189328202661,
          -0.4221789429959931,
          -0.3921830957173968,
          -0.052514265212202434,
          -0.17406572786031835,
          -0.5564886914052667,
          -0.46283435259659644,
          0.5991258594373452,
          -1.640921815833674,
          -0.13673329352987804,
          -0.07249204402135874,
          1.0025880668762868,
          -0.19040803325211011,
          -1.2573637736597831,
          -0.799280522358143,
          -0.5119431534249542,
          -0.38571247560118155,
          0.420319537810664,
          0.5149150150647253
         ],
         "yaxis": "y15"
        },
        {
         "histfunc": "count",
         "histnorm": "",
         "marker": {
          "color": "rgba(128, 0, 128, 1.0)",
          "line": {
           "color": "#4D5663",
           "width": 1.3
          }
         },
         "name": "D",
         "nbinsx": 10,
         "opacity": 0.8,
         "orientation": "v",
         "type": "histogram",
         "x": [
          -0.506431628353634,
          -0.9545627013552734,
          -0.6107578249298709,
          -0.2844012167833867,
          -0.24847951128175225,
          -0.16531988235387118,
          -0.5388526720770379,
          1.494236018723017,
          0.6764267494848006,
          1.3874374441685948,
          -0.6916948476272538,
          0.45804108935416515,
          -2.2785804773584384,
          -2.231695849012556,
          1.39640190824559,
          -0.34652512717463446,
          0.005012423210220804,
          -0.36622774842919115,
          0.9892340159077968,
          0.9958449336538285,
          1.072446926640326,
          0.10480553334605108,
          -0.1072913850287637,
          2.585374563106729,
          -0.7868209943668756,
          0.6357919304480281,
          -1.9019608571986026,
          0.6470967689148188,
          -0.34659722915597024,
          0.9009669273500246,
          0.44368968149214133,
          -0.816300325008195,
          -0.36918333942125575,
          -0.7904449025161164,
          -1.8329107877968558,
          -1.5052446706255638,
          2.2341564203319213,
          0.6933333424439637,
          0.10781753043118078,
          -0.6983319509319129,
          -1.8529605231144097,
          -0.3312520928151987,
          -0.06083557916973807,
          -1.0558403893364163,
          -0.11473050573186004,
          0.5367377799501659,
          0.5429848386466027,
          -0.15573887507276518,
          2.261983496607472,
          1.005623826641129,
          -1.1104615244362885,
          2.1720522898731516,
          0.4698535971799291,
          -0.40098034758335677,
          -1.0102064591930502,
          -0.4458193157723049,
          -0.8733441645567254,
          0.1862847435286084,
          -1.2579957930555954,
          -1.1043619686193111,
          -3.4871280415309034,
          -0.30888131901352556,
          -1.0168340547952937,
          0.05252339360085888,
          -1.6363483777428562,
          0.050098599667050964,
          1.492477344156051,
          -0.5950441421475866,
          -0.988044218679561,
          0.19394334000726457,
          1.320158817073657,
          -0.5845318293100731,
          -0.11801295505794744,
          0.34618091647399774,
          1.4006292606846895,
          1.3329454464611699,
          0.8052403630487593,
          -1.1658716966254594,
          0.6272391710042999,
          -0.1412684370393452,
          -0.5878439970417628,
          -2.071189328202661,
          -0.4221789429959931,
          -0.3921830957173968,
          -0.052514265212202434,
          -0.17406572786031835,
          -0.5564886914052667,
          -0.46283435259659644,
          0.5991258594373452,
          -1.640921815833674,
          -0.13673329352987804,
          -0.07249204402135874,
          1.0025880668762868,
          -0.19040803325211011,
          -1.2573637736597831,
          -0.799280522358143,
          -0.5119431534249542,
          -0.38571247560118155,
          0.420319537810664,
          0.5149150150647253
         ],
         "xaxis": "x16",
         "yaxis": "y16"
        }
       ],
       "layout": {
        "bargap": 0.02,
        "legend": {
         "bgcolor": "#F5F6F9",
         "font": {
          "color": "#4D5663"
         }
        },
        "paper_bgcolor": "#F5F6F9",
        "plot_bgcolor": "#F5F6F9",
        "showlegend": false,
        "template": {
         "data": {
          "bar": [
           {
            "error_x": {
             "color": "#2a3f5f"
            },
            "error_y": {
             "color": "#2a3f5f"
            },
            "marker": {
             "line": {
              "color": "#E5ECF6",
              "width": 0.5
             },
             "pattern": {
              "fillmode": "overlay",
              "size": 10,
              "solidity": 0.2
             }
            },
            "type": "bar"
           }
          ],
          "barpolar": [
           {
            "marker": {
             "line": {
              "color": "#E5ECF6",
              "width": 0.5
             },
             "pattern": {
              "fillmode": "overlay",
              "size": 10,
              "solidity": 0.2
             }
            },
            "type": "barpolar"
           }
          ],
          "carpet": [
           {
            "aaxis": {
             "endlinecolor": "#2a3f5f",
             "gridcolor": "white",
             "linecolor": "white",
             "minorgridcolor": "white",
             "startlinecolor": "#2a3f5f"
            },
            "baxis": {
             "endlinecolor": "#2a3f5f",
             "gridcolor": "white",
             "linecolor": "white",
             "minorgridcolor": "white",
             "startlinecolor": "#2a3f5f"
            },
            "type": "carpet"
           }
          ],
          "choropleth": [
           {
            "colorbar": {
             "outlinewidth": 0,
             "ticks": ""
            },
            "type": "choropleth"
           }
          ],
          "contour": [
           {
            "colorbar": {
             "outlinewidth": 0,
             "ticks": ""
            },
            "colorscale": [
             [
              0,
              "#0d0887"
             ],
             [
              0.1111111111111111,
              "#46039f"
             ],
             [
              0.2222222222222222,
              "#7201a8"
             ],
             [
              0.3333333333333333,
              "#9c179e"
             ],
             [
              0.4444444444444444,
              "#bd3786"
             ],
             [
              0.5555555555555556,
              "#d8576b"
             ],
             [
              0.6666666666666666,
              "#ed7953"
             ],
             [
              0.7777777777777778,
              "#fb9f3a"
             ],
             [
              0.8888888888888888,
              "#fdca26"
             ],
             [
              1,
              "#f0f921"
             ]
            ],
            "type": "contour"
           }
          ],
          "contourcarpet": [
           {
            "colorbar": {
             "outlinewidth": 0,
             "ticks": ""
            },
            "type": "contourcarpet"
           }
          ],
          "heatmap": [
           {
            "colorbar": {
             "outlinewidth": 0,
             "ticks": ""
            },
            "colorscale": [
             [
              0,
              "#0d0887"
             ],
             [
              0.1111111111111111,
              "#46039f"
             ],
             [
              0.2222222222222222,
              "#7201a8"
             ],
             [
              0.3333333333333333,
              "#9c179e"
             ],
             [
              0.4444444444444444,
              "#bd3786"
             ],
             [
              0.5555555555555556,
              "#d8576b"
             ],
             [
              0.6666666666666666,
              "#ed7953"
             ],
             [
              0.7777777777777778,
              "#fb9f3a"
             ],
             [
              0.8888888888888888,
              "#fdca26"
             ],
             [
              1,
              "#f0f921"
             ]
            ],
            "type": "heatmap"
           }
          ],
          "heatmapgl": [
           {
            "colorbar": {
             "outlinewidth": 0,
             "ticks": ""
            },
            "colorscale": [
             [
              0,
              "#0d0887"
             ],
             [
              0.1111111111111111,
              "#46039f"
             ],
             [
              0.2222222222222222,
              "#7201a8"
             ],
             [
              0.3333333333333333,
              "#9c179e"
             ],
             [
              0.4444444444444444,
              "#bd3786"
             ],
             [
              0.5555555555555556,
              "#d8576b"
             ],
             [
              0.6666666666666666,
              "#ed7953"
             ],
             [
              0.7777777777777778,
              "#fb9f3a"
             ],
             [
              0.8888888888888888,
              "#fdca26"
             ],
             [
              1,
              "#f0f921"
             ]
            ],
            "type": "heatmapgl"
           }
          ],
          "histogram": [
           {
            "marker": {
             "pattern": {
              "fillmode": "overlay",
              "size": 10,
              "solidity": 0.2
             }
            },
            "type": "histogram"
           }
          ],
          "histogram2d": [
           {
            "colorbar": {
             "outlinewidth": 0,
             "ticks": ""
            },
            "colorscale": [
             [
              0,
              "#0d0887"
             ],
             [
              0.1111111111111111,
              "#46039f"
             ],
             [
              0.2222222222222222,
              "#7201a8"
             ],
             [
              0.3333333333333333,
              "#9c179e"
             ],
             [
              0.4444444444444444,
              "#bd3786"
             ],
             [
              0.5555555555555556,
              "#d8576b"
             ],
             [
              0.6666666666666666,
              "#ed7953"
             ],
             [
              0.7777777777777778,
              "#fb9f3a"
             ],
             [
              0.8888888888888888,
              "#fdca26"
             ],
             [
              1,
              "#f0f921"
             ]
            ],
            "type": "histogram2d"
           }
          ],
          "histogram2dcontour": [
           {
            "colorbar": {
             "outlinewidth": 0,
             "ticks": ""
            },
            "colorscale": [
             [
              0,
              "#0d0887"
             ],
             [
              0.1111111111111111,
              "#46039f"
             ],
             [
              0.2222222222222222,
              "#7201a8"
             ],
             [
              0.3333333333333333,
              "#9c179e"
             ],
             [
              0.4444444444444444,
              "#bd3786"
             ],
             [
              0.5555555555555556,
              "#d8576b"
             ],
             [
              0.6666666666666666,
              "#ed7953"
             ],
             [
              0.7777777777777778,
              "#fb9f3a"
             ],
             [
              0.8888888888888888,
              "#fdca26"
             ],
             [
              1,
              "#f0f921"
             ]
            ],
            "type": "histogram2dcontour"
           }
          ],
          "mesh3d": [
           {
            "colorbar": {
             "outlinewidth": 0,
             "ticks": ""
            },
            "type": "mesh3d"
           }
          ],
          "parcoords": [
           {
            "line": {
             "colorbar": {
              "outlinewidth": 0,
              "ticks": ""
             }
            },
            "type": "parcoords"
           }
          ],
          "pie": [
           {
            "automargin": true,
            "type": "pie"
           }
          ],
          "scatter": [
           {
            "fillpattern": {
             "fillmode": "overlay",
             "size": 10,
             "solidity": 0.2
            },
            "type": "scatter"
           }
          ],
          "scatter3d": [
           {
            "line": {
             "colorbar": {
              "outlinewidth": 0,
              "ticks": ""
             }
            },
            "marker": {
             "colorbar": {
              "outlinewidth": 0,
              "ticks": ""
             }
            },
            "type": "scatter3d"
           }
          ],
          "scattercarpet": [
           {
            "marker": {
             "colorbar": {
              "outlinewidth": 0,
              "ticks": ""
             }
            },
            "type": "scattercarpet"
           }
          ],
          "scattergeo": [
           {
            "marker": {
             "colorbar": {
              "outlinewidth": 0,
              "ticks": ""
             }
            },
            "type": "scattergeo"
           }
          ],
          "scattergl": [
           {
            "marker": {
             "colorbar": {
              "outlinewidth": 0,
              "ticks": ""
             }
            },
            "type": "scattergl"
           }
          ],
          "scattermapbox": [
           {
            "marker": {
             "colorbar": {
              "outlinewidth": 0,
              "ticks": ""
             }
            },
            "type": "scattermapbox"
           }
          ],
          "scatterpolar": [
           {
            "marker": {
             "colorbar": {
              "outlinewidth": 0,
              "ticks": ""
             }
            },
            "type": "scatterpolar"
           }
          ],
          "scatterpolargl": [
           {
            "marker": {
             "colorbar": {
              "outlinewidth": 0,
              "ticks": ""
             }
            },
            "type": "scatterpolargl"
           }
          ],
          "scatterternary": [
           {
            "marker": {
             "colorbar": {
              "outlinewidth": 0,
              "ticks": ""
             }
            },
            "type": "scatterternary"
           }
          ],
          "surface": [
           {
            "colorbar": {
             "outlinewidth": 0,
             "ticks": ""
            },
            "colorscale": [
             [
              0,
              "#0d0887"
             ],
             [
              0.1111111111111111,
              "#46039f"
             ],
             [
              0.2222222222222222,
              "#7201a8"
             ],
             [
              0.3333333333333333,
              "#9c179e"
             ],
             [
              0.4444444444444444,
              "#bd3786"
             ],
             [
              0.5555555555555556,
              "#d8576b"
             ],
             [
              0.6666666666666666,
              "#ed7953"
             ],
             [
              0.7777777777777778,
              "#fb9f3a"
             ],
             [
              0.8888888888888888,
              "#fdca26"
             ],
             [
              1,
              "#f0f921"
             ]
            ],
            "type": "surface"
           }
          ],
          "table": [
           {
            "cells": {
             "fill": {
              "color": "#EBF0F8"
             },
             "line": {
              "color": "white"
             }
            },
            "header": {
             "fill": {
              "color": "#C8D4E3"
             },
             "line": {
              "color": "white"
             }
            },
            "type": "table"
           }
          ]
         },
         "layout": {
          "annotationdefaults": {
           "arrowcolor": "#2a3f5f",
           "arrowhead": 0,
           "arrowwidth": 1
          },
          "autotypenumbers": "strict",
          "coloraxis": {
           "colorbar": {
            "outlinewidth": 0,
            "ticks": ""
           }
          },
          "colorscale": {
           "diverging": [
            [
             0,
             "#8e0152"
            ],
            [
             0.1,
             "#c51b7d"
            ],
            [
             0.2,
             "#de77ae"
            ],
            [
             0.3,
             "#f1b6da"
            ],
            [
             0.4,
             "#fde0ef"
            ],
            [
             0.5,
             "#f7f7f7"
            ],
            [
             0.6,
             "#e6f5d0"
            ],
            [
             0.7,
             "#b8e186"
            ],
            [
             0.8,
             "#7fbc41"
            ],
            [
             0.9,
             "#4d9221"
            ],
            [
             1,
             "#276419"
            ]
           ],
           "sequential": [
            [
             0,
             "#0d0887"
            ],
            [
             0.1111111111111111,
             "#46039f"
            ],
            [
             0.2222222222222222,
             "#7201a8"
            ],
            [
             0.3333333333333333,
             "#9c179e"
            ],
            [
             0.4444444444444444,
             "#bd3786"
            ],
            [
             0.5555555555555556,
             "#d8576b"
            ],
            [
             0.6666666666666666,
             "#ed7953"
            ],
            [
             0.7777777777777778,
             "#fb9f3a"
            ],
            [
             0.8888888888888888,
             "#fdca26"
            ],
            [
             1,
             "#f0f921"
            ]
           ],
           "sequentialminus": [
            [
             0,
             "#0d0887"
            ],
            [
             0.1111111111111111,
             "#46039f"
            ],
            [
             0.2222222222222222,
             "#7201a8"
            ],
            [
             0.3333333333333333,
             "#9c179e"
            ],
            [
             0.4444444444444444,
             "#bd3786"
            ],
            [
             0.5555555555555556,
             "#d8576b"
            ],
            [
             0.6666666666666666,
             "#ed7953"
            ],
            [
             0.7777777777777778,
             "#fb9f3a"
            ],
            [
             0.8888888888888888,
             "#fdca26"
            ],
            [
             1,
             "#f0f921"
            ]
           ]
          },
          "colorway": [
           "#636efa",
           "#EF553B",
           "#00cc96",
           "#ab63fa",
           "#FFA15A",
           "#19d3f3",
           "#FF6692",
           "#B6E880",
           "#FF97FF",
           "#FECB52"
          ],
          "font": {
           "color": "#2a3f5f"
          },
          "geo": {
           "bgcolor": "white",
           "lakecolor": "white",
           "landcolor": "#E5ECF6",
           "showlakes": true,
           "showland": true,
           "subunitcolor": "white"
          },
          "hoverlabel": {
           "align": "left"
          },
          "hovermode": "closest",
          "mapbox": {
           "style": "light"
          },
          "paper_bgcolor": "white",
          "plot_bgcolor": "#E5ECF6",
          "polar": {
           "angularaxis": {
            "gridcolor": "white",
            "linecolor": "white",
            "ticks": ""
           },
           "bgcolor": "#E5ECF6",
           "radialaxis": {
            "gridcolor": "white",
            "linecolor": "white",
            "ticks": ""
           }
          },
          "scene": {
           "xaxis": {
            "backgroundcolor": "#E5ECF6",
            "gridcolor": "white",
            "gridwidth": 2,
            "linecolor": "white",
            "showbackground": true,
            "ticks": "",
            "zerolinecolor": "white"
           },
           "yaxis": {
            "backgroundcolor": "#E5ECF6",
            "gridcolor": "white",
            "gridwidth": 2,
            "linecolor": "white",
            "showbackground": true,
            "ticks": "",
            "zerolinecolor": "white"
           },
           "zaxis": {
            "backgroundcolor": "#E5ECF6",
            "gridcolor": "white",
            "gridwidth": 2,
            "linecolor": "white",
            "showbackground": true,
            "ticks": "",
            "zerolinecolor": "white"
           }
          },
          "shapedefaults": {
           "line": {
            "color": "#2a3f5f"
           }
          },
          "ternary": {
           "aaxis": {
            "gridcolor": "white",
            "linecolor": "white",
            "ticks": ""
           },
           "baxis": {
            "gridcolor": "white",
            "linecolor": "white",
            "ticks": ""
           },
           "bgcolor": "#E5ECF6",
           "caxis": {
            "gridcolor": "white",
            "linecolor": "white",
            "ticks": ""
           }
          },
          "title": {
           "x": 0.05
          },
          "xaxis": {
           "automargin": true,
           "gridcolor": "white",
           "linecolor": "white",
           "ticks": "",
           "title": {
            "standoff": 15
           },
           "zerolinecolor": "white",
           "zerolinewidth": 2
          },
          "yaxis": {
           "automargin": true,
           "gridcolor": "white",
           "linecolor": "white",
           "ticks": "",
           "title": {
            "standoff": 15
           },
           "zerolinecolor": "white",
           "zerolinewidth": 2
          }
         }
        },
        "title": {
         "font": {
          "color": "#4D5663"
         }
        },
        "xaxis": {
         "anchor": "y",
         "domain": [
          0,
          0.2125
         ],
         "gridcolor": "#E1E5ED",
         "showgrid": false,
         "tickfont": {
          "color": "#4D5663"
         },
         "title": {
          "font": {
           "color": "#4D5663"
          },
          "text": ""
         },
         "zerolinecolor": "#E1E5ED"
        },
        "xaxis10": {
         "anchor": "y10",
         "domain": [
          0.2625,
          0.475
         ],
         "gridcolor": "#E1E5ED",
         "showgrid": false,
         "tickfont": {
          "color": "#4D5663"
         },
         "title": {
          "font": {
           "color": "#4D5663"
          },
          "text": ""
         },
         "zerolinecolor": "#E1E5ED"
        },
        "xaxis11": {
         "anchor": "y11",
         "domain": [
          0.525,
          0.7375
         ],
         "gridcolor": "#E1E5ED",
         "showgrid": false,
         "tickfont": {
          "color": "#4D5663"
         },
         "title": {
          "font": {
           "color": "#4D5663"
          },
          "text": ""
         },
         "zerolinecolor": "#E1E5ED"
        },
        "xaxis12": {
         "anchor": "y12",
         "domain": [
          0.7875,
          1
         ],
         "gridcolor": "#E1E5ED",
         "showgrid": false,
         "tickfont": {
          "color": "#4D5663"
         },
         "title": {
          "font": {
           "color": "#4D5663"
          },
          "text": ""
         },
         "zerolinecolor": "#E1E5ED"
        },
        "xaxis13": {
         "anchor": "y13",
         "domain": [
          0,
          0.2125
         ],
         "gridcolor": "#E1E5ED",
         "showgrid": false,
         "tickfont": {
          "color": "#4D5663"
         },
         "title": {
          "font": {
           "color": "#4D5663"
          },
          "text": ""
         },
         "zerolinecolor": "#E1E5ED"
        },
        "xaxis14": {
         "anchor": "y14",
         "domain": [
          0.2625,
          0.475
         ],
         "gridcolor": "#E1E5ED",
         "showgrid": false,
         "tickfont": {
          "color": "#4D5663"
         },
         "title": {
          "font": {
           "color": "#4D5663"
          },
          "text": ""
         },
         "zerolinecolor": "#E1E5ED"
        },
        "xaxis15": {
         "anchor": "y15",
         "domain": [
          0.525,
          0.7375
         ],
         "gridcolor": "#E1E5ED",
         "showgrid": false,
         "tickfont": {
          "color": "#4D5663"
         },
         "title": {
          "font": {
           "color": "#4D5663"
          },
          "text": ""
         },
         "zerolinecolor": "#E1E5ED"
        },
        "xaxis16": {
         "anchor": "y16",
         "domain": [
          0.7875,
          1
         ],
         "gridcolor": "#E1E5ED",
         "showgrid": false,
         "tickfont": {
          "color": "#4D5663"
         },
         "title": {
          "font": {
           "color": "#4D5663"
          },
          "text": ""
         },
         "zerolinecolor": "#E1E5ED"
        },
        "xaxis2": {
         "anchor": "y2",
         "domain": [
          0.2625,
          0.475
         ],
         "gridcolor": "#E1E5ED",
         "showgrid": false,
         "tickfont": {
          "color": "#4D5663"
         },
         "title": {
          "font": {
           "color": "#4D5663"
          },
          "text": ""
         },
         "zerolinecolor": "#E1E5ED"
        },
        "xaxis3": {
         "anchor": "y3",
         "domain": [
          0.525,
          0.7375
         ],
         "gridcolor": "#E1E5ED",
         "showgrid": false,
         "tickfont": {
          "color": "#4D5663"
         },
         "title": {
          "font": {
           "color": "#4D5663"
          },
          "text": ""
         },
         "zerolinecolor": "#E1E5ED"
        },
        "xaxis4": {
         "anchor": "y4",
         "domain": [
          0.7875,
          1
         ],
         "gridcolor": "#E1E5ED",
         "showgrid": false,
         "tickfont": {
          "color": "#4D5663"
         },
         "title": {
          "font": {
           "color": "#4D5663"
          },
          "text": ""
         },
         "zerolinecolor": "#E1E5ED"
        },
        "xaxis5": {
         "anchor": "y5",
         "domain": [
          0,
          0.2125
         ],
         "gridcolor": "#E1E5ED",
         "showgrid": false,
         "tickfont": {
          "color": "#4D5663"
         },
         "title": {
          "font": {
           "color": "#4D5663"
          },
          "text": ""
         },
         "zerolinecolor": "#E1E5ED"
        },
        "xaxis6": {
         "anchor": "y6",
         "domain": [
          0.2625,
          0.475
         ],
         "gridcolor": "#E1E5ED",
         "showgrid": false,
         "tickfont": {
          "color": "#4D5663"
         },
         "title": {
          "font": {
           "color": "#4D5663"
          },
          "text": ""
         },
         "zerolinecolor": "#E1E5ED"
        },
        "xaxis7": {
         "anchor": "y7",
         "domain": [
          0.525,
          0.7375
         ],
         "gridcolor": "#E1E5ED",
         "showgrid": false,
         "tickfont": {
          "color": "#4D5663"
         },
         "title": {
          "font": {
           "color": "#4D5663"
          },
          "text": ""
         },
         "zerolinecolor": "#E1E5ED"
        },
        "xaxis8": {
         "anchor": "y8",
         "domain": [
          0.7875,
          1
         ],
         "gridcolor": "#E1E5ED",
         "showgrid": false,
         "tickfont": {
          "color": "#4D5663"
         },
         "title": {
          "font": {
           "color": "#4D5663"
          },
          "text": ""
         },
         "zerolinecolor": "#E1E5ED"
        },
        "xaxis9": {
         "anchor": "y9",
         "domain": [
          0,
          0.2125
         ],
         "gridcolor": "#E1E5ED",
         "showgrid": false,
         "tickfont": {
          "color": "#4D5663"
         },
         "title": {
          "font": {
           "color": "#4D5663"
          },
          "text": ""
         },
         "zerolinecolor": "#E1E5ED"
        },
        "yaxis": {
         "anchor": "x",
         "domain": [
          0.8025,
          1
         ],
         "gridcolor": "#E1E5ED",
         "showgrid": false,
         "tickfont": {
          "color": "#4D5663"
         },
         "title": {
          "font": {
           "color": "#4D5663"
          },
          "text": ""
         },
         "zerolinecolor": "#E1E5ED"
        },
        "yaxis10": {
         "anchor": "x10",
         "domain": [
          0.2675,
          0.465
         ],
         "gridcolor": "#E1E5ED",
         "showgrid": false,
         "tickfont": {
          "color": "#4D5663"
         },
         "title": {
          "font": {
           "color": "#4D5663"
          },
          "text": ""
         },
         "zerolinecolor": "#E1E5ED"
        },
        "yaxis11": {
         "anchor": "x11",
         "domain": [
          0.2675,
          0.465
         ],
         "gridcolor": "#E1E5ED",
         "showgrid": false,
         "tickfont": {
          "color": "#4D5663"
         },
         "title": {
          "font": {
           "color": "#4D5663"
          },
          "text": ""
         },
         "zerolinecolor": "#E1E5ED"
        },
        "yaxis12": {
         "anchor": "x12",
         "domain": [
          0.2675,
          0.465
         ],
         "gridcolor": "#E1E5ED",
         "showgrid": false,
         "tickfont": {
          "color": "#4D5663"
         },
         "title": {
          "font": {
           "color": "#4D5663"
          },
          "text": ""
         },
         "zerolinecolor": "#E1E5ED"
        },
        "yaxis13": {
         "anchor": "x13",
         "domain": [
          0,
          0.1975
         ],
         "gridcolor": "#E1E5ED",
         "showgrid": false,
         "tickfont": {
          "color": "#4D5663"
         },
         "title": {
          "font": {
           "color": "#4D5663"
          },
          "text": ""
         },
         "zerolinecolor": "#E1E5ED"
        },
        "yaxis14": {
         "anchor": "x14",
         "domain": [
          0,
          0.1975
         ],
         "gridcolor": "#E1E5ED",
         "showgrid": false,
         "tickfont": {
          "color": "#4D5663"
         },
         "title": {
          "font": {
           "color": "#4D5663"
          },
          "text": ""
         },
         "zerolinecolor": "#E1E5ED"
        },
        "yaxis15": {
         "anchor": "x15",
         "domain": [
          0,
          0.1975
         ],
         "gridcolor": "#E1E5ED",
         "showgrid": false,
         "tickfont": {
          "color": "#4D5663"
         },
         "title": {
          "font": {
           "color": "#4D5663"
          },
          "text": ""
         },
         "zerolinecolor": "#E1E5ED"
        },
        "yaxis16": {
         "anchor": "x16",
         "domain": [
          0,
          0.1975
         ],
         "gridcolor": "#E1E5ED",
         "showgrid": false,
         "tickfont": {
          "color": "#4D5663"
         },
         "title": {
          "font": {
           "color": "#4D5663"
          },
          "text": ""
         },
         "zerolinecolor": "#E1E5ED"
        },
        "yaxis2": {
         "anchor": "x2",
         "domain": [
          0.8025,
          1
         ],
         "gridcolor": "#E1E5ED",
         "showgrid": false,
         "tickfont": {
          "color": "#4D5663"
         },
         "title": {
          "font": {
           "color": "#4D5663"
          },
          "text": ""
         },
         "zerolinecolor": "#E1E5ED"
        },
        "yaxis3": {
         "anchor": "x3",
         "domain": [
          0.8025,
          1
         ],
         "gridcolor": "#E1E5ED",
         "showgrid": false,
         "tickfont": {
          "color": "#4D5663"
         },
         "title": {
          "font": {
           "color": "#4D5663"
          },
          "text": ""
         },
         "zerolinecolor": "#E1E5ED"
        },
        "yaxis4": {
         "anchor": "x4",
         "domain": [
          0.8025,
          1
         ],
         "gridcolor": "#E1E5ED",
         "showgrid": false,
         "tickfont": {
          "color": "#4D5663"
         },
         "title": {
          "font": {
           "color": "#4D5663"
          },
          "text": ""
         },
         "zerolinecolor": "#E1E5ED"
        },
        "yaxis5": {
         "anchor": "x5",
         "domain": [
          0.535,
          0.7325
         ],
         "gridcolor": "#E1E5ED",
         "showgrid": false,
         "tickfont": {
          "color": "#4D5663"
         },
         "title": {
          "font": {
           "color": "#4D5663"
          },
          "text": ""
         },
         "zerolinecolor": "#E1E5ED"
        },
        "yaxis6": {
         "anchor": "x6",
         "domain": [
          0.535,
          0.7325
         ],
         "gridcolor": "#E1E5ED",
         "showgrid": false,
         "tickfont": {
          "color": "#4D5663"
         },
         "title": {
          "font": {
           "color": "#4D5663"
          },
          "text": ""
         },
         "zerolinecolor": "#E1E5ED"
        },
        "yaxis7": {
         "anchor": "x7",
         "domain": [
          0.535,
          0.7325
         ],
         "gridcolor": "#E1E5ED",
         "showgrid": false,
         "tickfont": {
          "color": "#4D5663"
         },
         "title": {
          "font": {
           "color": "#4D5663"
          },
          "text": ""
         },
         "zerolinecolor": "#E1E5ED"
        },
        "yaxis8": {
         "anchor": "x8",
         "domain": [
          0.535,
          0.7325
         ],
         "gridcolor": "#E1E5ED",
         "showgrid": false,
         "tickfont": {
          "color": "#4D5663"
         },
         "title": {
          "font": {
           "color": "#4D5663"
          },
          "text": ""
         },
         "zerolinecolor": "#E1E5ED"
        },
        "yaxis9": {
         "anchor": "x9",
         "domain": [
          0.2675,
          0.465
         ],
         "gridcolor": "#E1E5ED",
         "showgrid": false,
         "tickfont": {
          "color": "#4D5663"
         },
         "title": {
          "font": {
           "color": "#4D5663"
          },
          "text": ""
         },
         "zerolinecolor": "#E1E5ED"
        }
       }
      },
      "text/html": [
       "<div>                            <div id=\"9a5f44e9-235f-4784-a39f-b398bd0c0993\" class=\"plotly-graph-div\" style=\"height:525px; width:100%;\"></div>            <script type=\"text/javascript\">                require([\"plotly\"], function(Plotly) {                    window.PLOTLYENV=window.PLOTLYENV || {};\n",
       "                    window.PLOTLYENV.BASE_URL='https://plot.ly';                                    if (document.getElementById(\"9a5f44e9-235f-4784-a39f-b398bd0c0993\")) {                    Plotly.newPlot(                        \"9a5f44e9-235f-4784-a39f-b398bd0c0993\",                        [{\"histfunc\":\"count\",\"histnorm\":\"\",\"marker\":{\"color\":\"rgba(255, 153, 51, 1.0)\",\"line\":{\"color\":\"#4D5663\",\"width\":1.3}},\"name\":\"A\",\"nbinsx\":10,\"opacity\":0.8,\"orientation\":\"v\",\"x\":[-0.8954787537425822,1.3853378324685472,-1.228452817951252,-0.3424793683140804,-1.036680330412496,0.19015493165759942,0.17963978229923314,-0.9116175027522325,-0.21593023400594136,-0.2779506697081478,0.7235529276697348,0.1390777881070409,1.2405057033932279,1.6216724103072697,1.3643013806654916,-0.41731644398988027,-0.8458719596298891,-1.1215328734215342,0.09781894172468565,0.5551170140613797,1.290111091375146,-0.964709847431916,0.028727829996969215,-0.6151570639534203,0.8723196106463363,0.3424531500181427,-0.28768015582637674,0.40831304168242943,-2.519472311917223,0.3974550135542539,-0.3921532733587675,0.1490494785437309,-0.3121488819015316,-0.2358361304910559,-0.6027225763839881,0.7416273940186792,0.08286706737698286,0.4207503841010657,1.8624742014955278,1.625475305259574,0.10429331893932867,0.9184511642012367,2.181525124256408,-1.1563609727626594,0.028709521213927475,-0.2375569827884672,-0.23299649652787194,0.31775960186369745,0.7912388545129444,-0.21118301495412745,-0.8996836938704721,-1.5605972680456297,2.1567907489206997,-0.5279845006046894,0.7643241689489472,0.47619276965888035,1.4848901510475798,-0.15405129754079055,0.8961759234985016,0.007893186212914067,-0.20428335996163577,-0.6129935669515203,1.4101729802367804,-0.19045873408490974,-1.8784565574847774,2.2565342844087,0.5135638577038365,-0.2069560506724559,-1.8454699265247374,-1.7956926842182614,-0.15851038725001843,0.6048254421740097,-0.16118950550233477,-1.2631292300656045,-0.5435992120955132,0.5840495350623373,-0.8090900162261967,-0.6751748918388873,-0.4664535713177918,0.44326211987086894,-0.3723107881909927,-0.41126499674516737,-0.4313596702248325,1.1079793191944676,-1.5025325159282852,-1.1277676623437611,-1.7335456219153391,0.5006680549335961,0.9344649008180488,0.485724302055071,-0.9236043205237382,-0.06786370942009176,0.08506451564779151,-0.8354758300636222,0.5214516959248535,0.4445426788393895,0.7832318684627283,0.23712211426636307,-0.537220419964115,0.6795511371015246],\"xaxis\":\"x\",\"yaxis\":\"y\",\"type\":\"histogram\"},{\"line\":{\"color\":\"rgba(128, 128, 128, 1.0)\",\"dash\":\"solid\",\"shape\":\"linear\",\"width\":1.3},\"marker\":{\"size\":2,\"symbol\":\"circle\"},\"mode\":\"markers\",\"name\":\"A\",\"text\":\"\",\"x\":[1.2330537097935343,0.11458097884445924,-0.9351958452452672,-1.4218432334766258,-0.5190303900137669,1.5102636903768525,0.4942950888284143,0.6148665809359691,-0.8295937565931014,0.5742665777687568,0.6179720652176569,-0.7936568541031073,-0.21054951866999908,-2.1682340263166604,1.7838858272054348,1.2954772761745392,1.160958828244452,-0.4351638102178348,0.016933996248292664,-1.8232969002549744,0.38222658174304364,-1.2234002835843565,-0.17849006665488779,-0.46825142508770273,-0.7776764077808724,-0.16925348148956473,0.4195825182870957,-0.3376038664622978,0.04256230459411407,0.2843192801057243,-0.20904498844493297,-0.0535713432493876,-0.27871118405401163,0.7633740996474665,-0.5589179635467679,0.4331240850095735,-1.1506589475828257,-0.3575813660429083,1.3808553736596048,-1.297070899438046,0.7987662356271483,-1.0321312971040055,0.6719707278520592,0.21750970397278124,-2.1679063088449477,-0.23340931400511625,1.885221125925643,-0.6051103392719552,-0.27336300038169786,0.19905980304961726,1.0604156655779047,-0.3875256103534181,-0.25910830497567866,1.2923851486789044,-0.2533139244859124,-0.2275319328040062,0.7814588386550321,0.47649873875247023,0.04115450706471839,1.7916876078845752,-0.4270194072726322,0.4012928155078483,-0.3404903856957402,0.8297506803029159,0.3803349840608319,-1.9805681304968268,-0.3562618372012064,0.3940265384863148,-0.5080704865712032,-1.5278762790472784,-0.1490674274164066,0.5278384946491753,0.4345439761886359,0.3159602633645175,0.58483340275023,1.3127414602070275,0.6934248167282844,0.010066619498830708,-2.656800549371415,2.4368587370924066,1.539961653073386,-1.8455500286996822,0.12066425443502592,-1.6728037334111137,0.19708640936661206,1.7030851208538846,0.5125284778379251,-1.1756952746509701,-1.4326974623177466,-1.4677571299667684,0.41472849932432676,-1.118729946802453,-0.8694882891178901,0.4371214376109995,1.11407701589781,0.5742729307504939,0.046112074600036246,-0.07648809484357338,-0.9350489671505954,-0.850019613995692],\"xaxis\":\"x2\",\"y\":[-0.8954787537425822,1.3853378324685472,-1.228452817951252,-0.3424793683140804,-1.036680330412496,0.19015493165759942,0.17963978229923314,-0.9116175027522325,-0.21593023400594136,-0.2779506697081478,0.7235529276697348,0.1390777881070409,1.2405057033932279,1.6216724103072697,1.3643013806654916,-0.41731644398988027,-0.8458719596298891,-1.1215328734215342,0.09781894172468565,0.5551170140613797,1.290111091375146,-0.964709847431916,0.028727829996969215,-0.6151570639534203,0.8723196106463363,0.3424531500181427,-0.28768015582637674,0.40831304168242943,-2.519472311917223,0.3974550135542539,-0.3921532733587675,0.1490494785437309,-0.3121488819015316,-0.2358361304910559,-0.6027225763839881,0.7416273940186792,0.08286706737698286,0.4207503841010657,1.8624742014955278,1.625475305259574,0.10429331893932867,0.9184511642012367,2.181525124256408,-1.1563609727626594,0.028709521213927475,-0.2375569827884672,-0.23299649652787194,0.31775960186369745,0.7912388545129444,-0.21118301495412745,-0.8996836938704721,-1.5605972680456297,2.1567907489206997,-0.5279845006046894,0.7643241689489472,0.47619276965888035,1.4848901510475798,-0.15405129754079055,0.8961759234985016,0.007893186212914067,-0.20428335996163577,-0.6129935669515203,1.4101729802367804,-0.19045873408490974,-1.8784565574847774,2.2565342844087,0.5135638577038365,-0.2069560506724559,-1.8454699265247374,-1.7956926842182614,-0.15851038725001843,0.6048254421740097,-0.16118950550233477,-1.2631292300656045,-0.5435992120955132,0.5840495350623373,-0.8090900162261967,-0.6751748918388873,-0.4664535713177918,0.44326211987086894,-0.3723107881909927,-0.41126499674516737,-0.4313596702248325,1.1079793191944676,-1.5025325159282852,-1.1277676623437611,-1.7335456219153391,0.5006680549335961,0.9344649008180488,0.485724302055071,-0.9236043205237382,-0.06786370942009176,0.08506451564779151,-0.8354758300636222,0.5214516959248535,0.4445426788393895,0.7832318684627283,0.23712211426636307,-0.537220419964115,0.6795511371015246],\"yaxis\":\"y2\",\"type\":\"scatter\"},{\"line\":{\"color\":\"rgba(128, 128, 128, 1.0)\",\"dash\":\"solid\",\"shape\":\"linear\",\"width\":1.3},\"marker\":{\"size\":2,\"symbol\":\"circle\"},\"mode\":\"markers\",\"name\":\"A\",\"text\":\"\",\"x\":[1.2540720025146939,-0.46348347804251594,0.8129900423838404,0.22558850655681598,1.0646082853925278,-1.2185398755773857,-0.5133096197633565,-1.7726289036539224,-0.6956687985457533,0.24638886117842979,-0.2085382599832432,-1.1966412336116758,1.9526735154066548,-1.0581396474225,-0.026803359631144896,0.942738373952409,-0.7032990030686955,0.6289776349050559,-0.45564836257152447,-0.8335534360924648,-0.8820690924132405,-0.48975727791272505,1.7342519208764964,-0.533611868232763,-0.013705704854208323,-1.559238918217703,-0.7115577837292104,-1.5197709071141035,0.414113896297385,1.135360209092376,0.35100492418777596,0.3155999081909583,0.5988257083723294,-0.4133617345891343,0.5276400176872953,2.1790283947520366,0.8577136733639124,-0.34802998568452126,-1.399957964709555,0.006840099473515165,0.19269122119900958,0.8085603214070403,-0.6334402995606099,0.5243078086142938,-0.10293473421740021,0.09638337472435361,-1.0792067023982235,-0.5555187022137702,-0.7306806924316841,-0.4937820145857264,-0.5883585549895289,-1.0088028829097302,-0.8326337378080267,0.14571549480607143,-0.5055939284109676,0.6339493852237317,-0.16689281522043833,-0.13698728341557384,-0.08731294616271265,0.6009814848540755,-0.8330649294271425,-0.6034855372763794,0.6001393394038157,0.4406682648736641,2.6305707725663567,-0.16117059347015686,1.3193927981285256,0.24144273114842546,0.22735735795970022,0.4061251145045263,-0.760449220001816,-0.18708265134714938,0.7673030966613456,0.3823550527274153,-0.20516177928449067,-1.6191140140100544,0.5697773812819106,1.491596168302561,-0.835594311153154,0.4708819285809997,-0.4565506490383945,-1.051954053844487,0.8815774579654665,-1.503289233521424,0.3069578287223192,0.07603192925943901,-0.25529212175141863,-0.15131250845339583,-0.22378344227813943,0.12054900006272487,0.45048086475925303,0.5218269347268745,-0.8272000682526426,0.5366289433076256,0.5766881025550059,-1.0852229950367518,-0.9329742411250744,2.7192803209677368,2.7456592044275347,-1.1191829425685236],\"xaxis\":\"x3\",\"y\":[-0.8954787537425822,1.3853378324685472,-1.228452817951252,-0.3424793683140804,-1.036680330412496,0.19015493165759942,0.17963978229923314,-0.9116175027522325,-0.21593023400594136,-0.2779506697081478,0.7235529276697348,0.1390777881070409,1.2405057033932279,1.6216724103072697,1.3643013806654916,-0.41731644398988027,-0.8458719596298891,-1.1215328734215342,0.09781894172468565,0.5551170140613797,1.290111091375146,-0.964709847431916,0.028727829996969215,-0.6151570639534203,0.8723196106463363,0.3424531500181427,-0.28768015582637674,0.40831304168242943,-2.519472311917223,0.3974550135542539,-0.3921532733587675,0.1490494785437309,-0.3121488819015316,-0.2358361304910559,-0.6027225763839881,0.7416273940186792,0.08286706737698286,0.4207503841010657,1.8624742014955278,1.625475305259574,0.10429331893932867,0.9184511642012367,2.181525124256408,-1.1563609727626594,0.028709521213927475,-0.2375569827884672,-0.23299649652787194,0.31775960186369745,0.7912388545129444,-0.21118301495412745,-0.8996836938704721,-1.5605972680456297,2.1567907489206997,-0.5279845006046894,0.7643241689489472,0.47619276965888035,1.4848901510475798,-0.15405129754079055,0.8961759234985016,0.007893186212914067,-0.20428335996163577,-0.6129935669515203,1.4101729802367804,-0.19045873408490974,-1.8784565574847774,2.2565342844087,0.5135638577038365,-0.2069560506724559,-1.8454699265247374,-1.7956926842182614,-0.15851038725001843,0.6048254421740097,-0.16118950550233477,-1.2631292300656045,-0.5435992120955132,0.5840495350623373,-0.8090900162261967,-0.6751748918388873,-0.4664535713177918,0.44326211987086894,-0.3723107881909927,-0.41126499674516737,-0.4313596702248325,1.1079793191944676,-1.5025325159282852,-1.1277676623437611,-1.7335456219153391,0.5006680549335961,0.9344649008180488,0.485724302055071,-0.9236043205237382,-0.06786370942009176,0.08506451564779151,-0.8354758300636222,0.5214516959248535,0.4445426788393895,0.7832318684627283,0.23712211426636307,-0.537220419964115,0.6795511371015246],\"yaxis\":\"y3\",\"type\":\"scatter\"},{\"line\":{\"color\":\"rgba(128, 128, 128, 1.0)\",\"dash\":\"solid\",\"shape\":\"linear\",\"width\":1.3},\"marker\":{\"size\":2,\"symbol\":\"circle\"},\"mode\":\"markers\",\"name\":\"A\",\"text\":\"\",\"x\":[-0.506431628353634,-0.9545627013552734,-0.6107578249298709,-0.2844012167833867,-0.24847951128175225,-0.16531988235387118,-0.5388526720770379,1.494236018723017,0.6764267494848006,1.3874374441685948,-0.6916948476272538,0.45804108935416515,-2.2785804773584384,-2.231695849012556,1.39640190824559,-0.34652512717463446,0.005012423210220804,-0.36622774842919115,0.9892340159077968,0.9958449336538285,1.072446926640326,0.10480553334605108,-0.1072913850287637,2.585374563106729,-0.7868209943668756,0.6357919304480281,-1.9019608571986026,0.6470967689148188,-0.34659722915597024,0.9009669273500246,0.44368968149214133,-0.816300325008195,-0.36918333942125575,-0.7904449025161164,-1.8329107877968558,-1.5052446706255638,2.2341564203319213,0.6933333424439637,0.10781753043118078,-0.6983319509319129,-1.8529605231144097,-0.3312520928151987,-0.06083557916973807,-1.0558403893364163,-0.11473050573186004,0.5367377799501659,0.5429848386466027,-0.15573887507276518,2.261983496607472,1.005623826641129,-1.1104615244362885,2.1720522898731516,0.4698535971799291,-0.40098034758335677,-1.0102064591930502,-0.4458193157723049,-0.8733441645567254,0.1862847435286084,-1.2579957930555954,-1.1043619686193111,-3.4871280415309034,-0.30888131901352556,-1.0168340547952937,0.05252339360085888,-1.6363483777428562,0.050098599667050964,1.492477344156051,-0.5950441421475866,-0.988044218679561,0.19394334000726457,1.320158817073657,-0.5845318293100731,-0.11801295505794744,0.34618091647399774,1.4006292606846895,1.3329454464611699,0.8052403630487593,-1.1658716966254594,0.6272391710042999,-0.1412684370393452,-0.5878439970417628,-2.071189328202661,-0.4221789429959931,-0.3921830957173968,-0.052514265212202434,-0.17406572786031835,-0.5564886914052667,-0.46283435259659644,0.5991258594373452,-1.640921815833674,-0.13673329352987804,-0.07249204402135874,1.0025880668762868,-0.19040803325211011,-1.2573637736597831,-0.799280522358143,-0.5119431534249542,-0.38571247560118155,0.420319537810664,0.5149150150647253],\"xaxis\":\"x4\",\"y\":[-0.8954787537425822,1.3853378324685472,-1.228452817951252,-0.3424793683140804,-1.036680330412496,0.19015493165759942,0.17963978229923314,-0.9116175027522325,-0.21593023400594136,-0.2779506697081478,0.7235529276697348,0.1390777881070409,1.2405057033932279,1.6216724103072697,1.3643013806654916,-0.41731644398988027,-0.8458719596298891,-1.1215328734215342,0.09781894172468565,0.5551170140613797,1.290111091375146,-0.964709847431916,0.028727829996969215,-0.6151570639534203,0.8723196106463363,0.3424531500181427,-0.28768015582637674,0.40831304168242943,-2.519472311917223,0.3974550135542539,-0.3921532733587675,0.1490494785437309,-0.3121488819015316,-0.2358361304910559,-0.6027225763839881,0.7416273940186792,0.08286706737698286,0.4207503841010657,1.8624742014955278,1.625475305259574,0.10429331893932867,0.9184511642012367,2.181525124256408,-1.1563609727626594,0.028709521213927475,-0.2375569827884672,-0.23299649652787194,0.31775960186369745,0.7912388545129444,-0.21118301495412745,-0.8996836938704721,-1.5605972680456297,2.1567907489206997,-0.5279845006046894,0.7643241689489472,0.47619276965888035,1.4848901510475798,-0.15405129754079055,0.8961759234985016,0.007893186212914067,-0.20428335996163577,-0.6129935669515203,1.4101729802367804,-0.19045873408490974,-1.8784565574847774,2.2565342844087,0.5135638577038365,-0.2069560506724559,-1.8454699265247374,-1.7956926842182614,-0.15851038725001843,0.6048254421740097,-0.16118950550233477,-1.2631292300656045,-0.5435992120955132,0.5840495350623373,-0.8090900162261967,-0.6751748918388873,-0.4664535713177918,0.44326211987086894,-0.3723107881909927,-0.41126499674516737,-0.4313596702248325,1.1079793191944676,-1.5025325159282852,-1.1277676623437611,-1.7335456219153391,0.5006680549335961,0.9344649008180488,0.485724302055071,-0.9236043205237382,-0.06786370942009176,0.08506451564779151,-0.8354758300636222,0.5214516959248535,0.4445426788393895,0.7832318684627283,0.23712211426636307,-0.537220419964115,0.6795511371015246],\"yaxis\":\"y4\",\"type\":\"scatter\"},{\"line\":{\"color\":\"rgba(128, 128, 128, 1.0)\",\"dash\":\"solid\",\"shape\":\"linear\",\"width\":1.3},\"marker\":{\"size\":2,\"symbol\":\"circle\"},\"mode\":\"markers\",\"name\":\"B\",\"text\":\"\",\"x\":[-0.8954787537425822,1.3853378324685472,-1.228452817951252,-0.3424793683140804,-1.036680330412496,0.19015493165759942,0.17963978229923314,-0.9116175027522325,-0.21593023400594136,-0.2779506697081478,0.7235529276697348,0.1390777881070409,1.2405057033932279,1.6216724103072697,1.3643013806654916,-0.41731644398988027,-0.8458719596298891,-1.1215328734215342,0.09781894172468565,0.5551170140613797,1.290111091375146,-0.964709847431916,0.028727829996969215,-0.6151570639534203,0.8723196106463363,0.3424531500181427,-0.28768015582637674,0.40831304168242943,-2.519472311917223,0.3974550135542539,-0.3921532733587675,0.1490494785437309,-0.3121488819015316,-0.2358361304910559,-0.6027225763839881,0.7416273940186792,0.08286706737698286,0.4207503841010657,1.8624742014955278,1.625475305259574,0.10429331893932867,0.9184511642012367,2.181525124256408,-1.1563609727626594,0.028709521213927475,-0.2375569827884672,-0.23299649652787194,0.31775960186369745,0.7912388545129444,-0.21118301495412745,-0.8996836938704721,-1.5605972680456297,2.1567907489206997,-0.5279845006046894,0.7643241689489472,0.47619276965888035,1.4848901510475798,-0.15405129754079055,0.8961759234985016,0.007893186212914067,-0.20428335996163577,-0.6129935669515203,1.4101729802367804,-0.19045873408490974,-1.8784565574847774,2.2565342844087,0.5135638577038365,-0.2069560506724559,-1.8454699265247374,-1.7956926842182614,-0.15851038725001843,0.6048254421740097,-0.16118950550233477,-1.2631292300656045,-0.5435992120955132,0.5840495350623373,-0.8090900162261967,-0.6751748918388873,-0.4664535713177918,0.44326211987086894,-0.3723107881909927,-0.41126499674516737,-0.4313596702248325,1.1079793191944676,-1.5025325159282852,-1.1277676623437611,-1.7335456219153391,0.5006680549335961,0.9344649008180488,0.485724302055071,-0.9236043205237382,-0.06786370942009176,0.08506451564779151,-0.8354758300636222,0.5214516959248535,0.4445426788393895,0.7832318684627283,0.23712211426636307,-0.537220419964115,0.6795511371015246],\"xaxis\":\"x5\",\"y\":[1.2330537097935343,0.11458097884445924,-0.9351958452452672,-1.4218432334766258,-0.5190303900137669,1.5102636903768525,0.4942950888284143,0.6148665809359691,-0.8295937565931014,0.5742665777687568,0.6179720652176569,-0.7936568541031073,-0.21054951866999908,-2.1682340263166604,1.7838858272054348,1.2954772761745392,1.160958828244452,-0.4351638102178348,0.016933996248292664,-1.8232969002549744,0.38222658174304364,-1.2234002835843565,-0.17849006665488779,-0.46825142508770273,-0.7776764077808724,-0.16925348148956473,0.4195825182870957,-0.3376038664622978,0.04256230459411407,0.2843192801057243,-0.20904498844493297,-0.0535713432493876,-0.27871118405401163,0.7633740996474665,-0.5589179635467679,0.4331240850095735,-1.1506589475828257,-0.3575813660429083,1.3808553736596048,-1.297070899438046,0.7987662356271483,-1.0321312971040055,0.6719707278520592,0.21750970397278124,-2.1679063088449477,-0.23340931400511625,1.885221125925643,-0.6051103392719552,-0.27336300038169786,0.19905980304961726,1.0604156655779047,-0.3875256103534181,-0.25910830497567866,1.2923851486789044,-0.2533139244859124,-0.2275319328040062,0.7814588386550321,0.47649873875247023,0.04115450706471839,1.7916876078845752,-0.4270194072726322,0.4012928155078483,-0.3404903856957402,0.8297506803029159,0.3803349840608319,-1.9805681304968268,-0.3562618372012064,0.3940265384863148,-0.5080704865712032,-1.5278762790472784,-0.1490674274164066,0.5278384946491753,0.4345439761886359,0.3159602633645175,0.58483340275023,1.3127414602070275,0.6934248167282844,0.010066619498830708,-2.656800549371415,2.4368587370924066,1.539961653073386,-1.8455500286996822,0.12066425443502592,-1.6728037334111137,0.19708640936661206,1.7030851208538846,0.5125284778379251,-1.1756952746509701,-1.4326974623177466,-1.4677571299667684,0.41472849932432676,-1.118729946802453,-0.8694882891178901,0.4371214376109995,1.11407701589781,0.5742729307504939,0.046112074600036246,-0.07648809484357338,-0.9350489671505954,-0.850019613995692],\"yaxis\":\"y5\",\"type\":\"scatter\"},{\"histfunc\":\"count\",\"histnorm\":\"\",\"marker\":{\"color\":\"rgba(55, 128, 191, 1.0)\",\"line\":{\"color\":\"#4D5663\",\"width\":1.3}},\"name\":\"B\",\"nbinsx\":10,\"opacity\":0.8,\"orientation\":\"v\",\"x\":[1.2330537097935343,0.11458097884445924,-0.9351958452452672,-1.4218432334766258,-0.5190303900137669,1.5102636903768525,0.4942950888284143,0.6148665809359691,-0.8295937565931014,0.5742665777687568,0.6179720652176569,-0.7936568541031073,-0.21054951866999908,-2.1682340263166604,1.7838858272054348,1.2954772761745392,1.160958828244452,-0.4351638102178348,0.016933996248292664,-1.8232969002549744,0.38222658174304364,-1.2234002835843565,-0.17849006665488779,-0.46825142508770273,-0.7776764077808724,-0.16925348148956473,0.4195825182870957,-0.3376038664622978,0.04256230459411407,0.2843192801057243,-0.20904498844493297,-0.0535713432493876,-0.27871118405401163,0.7633740996474665,-0.5589179635467679,0.4331240850095735,-1.1506589475828257,-0.3575813660429083,1.3808553736596048,-1.297070899438046,0.7987662356271483,-1.0321312971040055,0.6719707278520592,0.21750970397278124,-2.1679063088449477,-0.23340931400511625,1.885221125925643,-0.6051103392719552,-0.27336300038169786,0.19905980304961726,1.0604156655779047,-0.3875256103534181,-0.25910830497567866,1.2923851486789044,-0.2533139244859124,-0.2275319328040062,0.7814588386550321,0.47649873875247023,0.04115450706471839,1.7916876078845752,-0.4270194072726322,0.4012928155078483,-0.3404903856957402,0.8297506803029159,0.3803349840608319,-1.9805681304968268,-0.3562618372012064,0.3940265384863148,-0.5080704865712032,-1.5278762790472784,-0.1490674274164066,0.5278384946491753,0.4345439761886359,0.3159602633645175,0.58483340275023,1.3127414602070275,0.6934248167282844,0.010066619498830708,-2.656800549371415,2.4368587370924066,1.539961653073386,-1.8455500286996822,0.12066425443502592,-1.6728037334111137,0.19708640936661206,1.7030851208538846,0.5125284778379251,-1.1756952746509701,-1.4326974623177466,-1.4677571299667684,0.41472849932432676,-1.118729946802453,-0.8694882891178901,0.4371214376109995,1.11407701589781,0.5742729307504939,0.046112074600036246,-0.07648809484357338,-0.9350489671505954,-0.850019613995692],\"xaxis\":\"x6\",\"yaxis\":\"y6\",\"type\":\"histogram\"},{\"line\":{\"color\":\"rgba(128, 128, 128, 1.0)\",\"dash\":\"solid\",\"shape\":\"linear\",\"width\":1.3},\"marker\":{\"size\":2,\"symbol\":\"circle\"},\"mode\":\"markers\",\"name\":\"B\",\"text\":\"\",\"x\":[1.2540720025146939,-0.46348347804251594,0.8129900423838404,0.22558850655681598,1.0646082853925278,-1.2185398755773857,-0.5133096197633565,-1.7726289036539224,-0.6956687985457533,0.24638886117842979,-0.2085382599832432,-1.1966412336116758,1.9526735154066548,-1.0581396474225,-0.026803359631144896,0.942738373952409,-0.7032990030686955,0.6289776349050559,-0.45564836257152447,-0.8335534360924648,-0.8820690924132405,-0.48975727791272505,1.7342519208764964,-0.533611868232763,-0.013705704854208323,-1.559238918217703,-0.7115577837292104,-1.5197709071141035,0.414113896297385,1.135360209092376,0.35100492418777596,0.3155999081909583,0.5988257083723294,-0.4133617345891343,0.5276400176872953,2.1790283947520366,0.8577136733639124,-0.34802998568452126,-1.399957964709555,0.006840099473515165,0.19269122119900958,0.8085603214070403,-0.6334402995606099,0.5243078086142938,-0.10293473421740021,0.09638337472435361,-1.0792067023982235,-0.5555187022137702,-0.7306806924316841,-0.4937820145857264,-0.5883585549895289,-1.0088028829097302,-0.8326337378080267,0.14571549480607143,-0.5055939284109676,0.6339493852237317,-0.16689281522043833,-0.13698728341557384,-0.08731294616271265,0.6009814848540755,-0.8330649294271425,-0.6034855372763794,0.6001393394038157,0.4406682648736641,2.6305707725663567,-0.16117059347015686,1.3193927981285256,0.24144273114842546,0.22735735795970022,0.4061251145045263,-0.760449220001816,-0.18708265134714938,0.7673030966613456,0.3823550527274153,-0.20516177928449067,-1.6191140140100544,0.5697773812819106,1.491596168302561,-0.835594311153154,0.4708819285809997,-0.4565506490383945,-1.051954053844487,0.8815774579654665,-1.503289233521424,0.3069578287223192,0.07603192925943901,-0.25529212175141863,-0.15131250845339583,-0.22378344227813943,0.12054900006272487,0.45048086475925303,0.5218269347268745,-0.8272000682526426,0.5366289433076256,0.5766881025550059,-1.0852229950367518,-0.9329742411250744,2.7192803209677368,2.7456592044275347,-1.1191829425685236],\"xaxis\":\"x7\",\"y\":[1.2330537097935343,0.11458097884445924,-0.9351958452452672,-1.4218432334766258,-0.5190303900137669,1.5102636903768525,0.4942950888284143,0.6148665809359691,-0.8295937565931014,0.5742665777687568,0.6179720652176569,-0.7936568541031073,-0.21054951866999908,-2.1682340263166604,1.7838858272054348,1.2954772761745392,1.160958828244452,-0.4351638102178348,0.016933996248292664,-1.8232969002549744,0.38222658174304364,-1.2234002835843565,-0.17849006665488779,-0.46825142508770273,-0.7776764077808724,-0.16925348148956473,0.4195825182870957,-0.3376038664622978,0.04256230459411407,0.2843192801057243,-0.20904498844493297,-0.0535713432493876,-0.27871118405401163,0.7633740996474665,-0.5589179635467679,0.4331240850095735,-1.1506589475828257,-0.3575813660429083,1.3808553736596048,-1.297070899438046,0.7987662356271483,-1.0321312971040055,0.6719707278520592,0.21750970397278124,-2.1679063088449477,-0.23340931400511625,1.885221125925643,-0.6051103392719552,-0.27336300038169786,0.19905980304961726,1.0604156655779047,-0.3875256103534181,-0.25910830497567866,1.2923851486789044,-0.2533139244859124,-0.2275319328040062,0.7814588386550321,0.47649873875247023,0.04115450706471839,1.7916876078845752,-0.4270194072726322,0.4012928155078483,-0.3404903856957402,0.8297506803029159,0.3803349840608319,-1.9805681304968268,-0.3562618372012064,0.3940265384863148,-0.5080704865712032,-1.5278762790472784,-0.1490674274164066,0.5278384946491753,0.4345439761886359,0.3159602633645175,0.58483340275023,1.3127414602070275,0.6934248167282844,0.010066619498830708,-2.656800549371415,2.4368587370924066,1.539961653073386,-1.8455500286996822,0.12066425443502592,-1.6728037334111137,0.19708640936661206,1.7030851208538846,0.5125284778379251,-1.1756952746509701,-1.4326974623177466,-1.4677571299667684,0.41472849932432676,-1.118729946802453,-0.8694882891178901,0.4371214376109995,1.11407701589781,0.5742729307504939,0.046112074600036246,-0.07648809484357338,-0.9350489671505954,-0.850019613995692],\"yaxis\":\"y7\",\"type\":\"scatter\"},{\"line\":{\"color\":\"rgba(128, 128, 128, 1.0)\",\"dash\":\"solid\",\"shape\":\"linear\",\"width\":1.3},\"marker\":{\"size\":2,\"symbol\":\"circle\"},\"mode\":\"markers\",\"name\":\"B\",\"text\":\"\",\"x\":[-0.506431628353634,-0.9545627013552734,-0.6107578249298709,-0.2844012167833867,-0.24847951128175225,-0.16531988235387118,-0.5388526720770379,1.494236018723017,0.6764267494848006,1.3874374441685948,-0.6916948476272538,0.45804108935416515,-2.2785804773584384,-2.231695849012556,1.39640190824559,-0.34652512717463446,0.005012423210220804,-0.36622774842919115,0.9892340159077968,0.9958449336538285,1.072446926640326,0.10480553334605108,-0.1072913850287637,2.585374563106729,-0.7868209943668756,0.6357919304480281,-1.9019608571986026,0.6470967689148188,-0.34659722915597024,0.9009669273500246,0.44368968149214133,-0.816300325008195,-0.36918333942125575,-0.7904449025161164,-1.8329107877968558,-1.5052446706255638,2.2341564203319213,0.6933333424439637,0.10781753043118078,-0.6983319509319129,-1.8529605231144097,-0.3312520928151987,-0.06083557916973807,-1.0558403893364163,-0.11473050573186004,0.5367377799501659,0.5429848386466027,-0.15573887507276518,2.261983496607472,1.005623826641129,-1.1104615244362885,2.1720522898731516,0.4698535971799291,-0.40098034758335677,-1.0102064591930502,-0.4458193157723049,-0.8733441645567254,0.1862847435286084,-1.2579957930555954,-1.1043619686193111,-3.4871280415309034,-0.30888131901352556,-1.0168340547952937,0.05252339360085888,-1.6363483777428562,0.050098599667050964,1.492477344156051,-0.5950441421475866,-0.988044218679561,0.19394334000726457,1.320158817073657,-0.5845318293100731,-0.11801295505794744,0.34618091647399774,1.4006292606846895,1.3329454464611699,0.8052403630487593,-1.1658716966254594,0.6272391710042999,-0.1412684370393452,-0.5878439970417628,-2.071189328202661,-0.4221789429959931,-0.3921830957173968,-0.052514265212202434,-0.17406572786031835,-0.5564886914052667,-0.46283435259659644,0.5991258594373452,-1.640921815833674,-0.13673329352987804,-0.07249204402135874,1.0025880668762868,-0.19040803325211011,-1.2573637736597831,-0.799280522358143,-0.5119431534249542,-0.38571247560118155,0.420319537810664,0.5149150150647253],\"xaxis\":\"x8\",\"y\":[1.2330537097935343,0.11458097884445924,-0.9351958452452672,-1.4218432334766258,-0.5190303900137669,1.5102636903768525,0.4942950888284143,0.6148665809359691,-0.8295937565931014,0.5742665777687568,0.6179720652176569,-0.7936568541031073,-0.21054951866999908,-2.1682340263166604,1.7838858272054348,1.2954772761745392,1.160958828244452,-0.4351638102178348,0.016933996248292664,-1.8232969002549744,0.38222658174304364,-1.2234002835843565,-0.17849006665488779,-0.46825142508770273,-0.7776764077808724,-0.16925348148956473,0.4195825182870957,-0.3376038664622978,0.04256230459411407,0.2843192801057243,-0.20904498844493297,-0.0535713432493876,-0.27871118405401163,0.7633740996474665,-0.5589179635467679,0.4331240850095735,-1.1506589475828257,-0.3575813660429083,1.3808553736596048,-1.297070899438046,0.7987662356271483,-1.0321312971040055,0.6719707278520592,0.21750970397278124,-2.1679063088449477,-0.23340931400511625,1.885221125925643,-0.6051103392719552,-0.27336300038169786,0.19905980304961726,1.0604156655779047,-0.3875256103534181,-0.25910830497567866,1.2923851486789044,-0.2533139244859124,-0.2275319328040062,0.7814588386550321,0.47649873875247023,0.04115450706471839,1.7916876078845752,-0.4270194072726322,0.4012928155078483,-0.3404903856957402,0.8297506803029159,0.3803349840608319,-1.9805681304968268,-0.3562618372012064,0.3940265384863148,-0.5080704865712032,-1.5278762790472784,-0.1490674274164066,0.5278384946491753,0.4345439761886359,0.3159602633645175,0.58483340275023,1.3127414602070275,0.6934248167282844,0.010066619498830708,-2.656800549371415,2.4368587370924066,1.539961653073386,-1.8455500286996822,0.12066425443502592,-1.6728037334111137,0.19708640936661206,1.7030851208538846,0.5125284778379251,-1.1756952746509701,-1.4326974623177466,-1.4677571299667684,0.41472849932432676,-1.118729946802453,-0.8694882891178901,0.4371214376109995,1.11407701589781,0.5742729307504939,0.046112074600036246,-0.07648809484357338,-0.9350489671505954,-0.850019613995692],\"yaxis\":\"y8\",\"type\":\"scatter\"},{\"line\":{\"color\":\"rgba(128, 128, 128, 1.0)\",\"dash\":\"solid\",\"shape\":\"linear\",\"width\":1.3},\"marker\":{\"size\":2,\"symbol\":\"circle\"},\"mode\":\"markers\",\"name\":\"C\",\"text\":\"\",\"x\":[-0.8954787537425822,1.3853378324685472,-1.228452817951252,-0.3424793683140804,-1.036680330412496,0.19015493165759942,0.17963978229923314,-0.9116175027522325,-0.21593023400594136,-0.2779506697081478,0.7235529276697348,0.1390777881070409,1.2405057033932279,1.6216724103072697,1.3643013806654916,-0.41731644398988027,-0.8458719596298891,-1.1215328734215342,0.09781894172468565,0.5551170140613797,1.290111091375146,-0.964709847431916,0.028727829996969215,-0.6151570639534203,0.8723196106463363,0.3424531500181427,-0.28768015582637674,0.40831304168242943,-2.519472311917223,0.3974550135542539,-0.3921532733587675,0.1490494785437309,-0.3121488819015316,-0.2358361304910559,-0.6027225763839881,0.7416273940186792,0.08286706737698286,0.4207503841010657,1.8624742014955278,1.625475305259574,0.10429331893932867,0.9184511642012367,2.181525124256408,-1.1563609727626594,0.028709521213927475,-0.2375569827884672,-0.23299649652787194,0.31775960186369745,0.7912388545129444,-0.21118301495412745,-0.8996836938704721,-1.5605972680456297,2.1567907489206997,-0.5279845006046894,0.7643241689489472,0.47619276965888035,1.4848901510475798,-0.15405129754079055,0.8961759234985016,0.007893186212914067,-0.20428335996163577,-0.6129935669515203,1.4101729802367804,-0.19045873408490974,-1.8784565574847774,2.2565342844087,0.5135638577038365,-0.2069560506724559,-1.8454699265247374,-1.7956926842182614,-0.15851038725001843,0.6048254421740097,-0.16118950550233477,-1.2631292300656045,-0.5435992120955132,0.5840495350623373,-0.8090900162261967,-0.6751748918388873,-0.4664535713177918,0.44326211987086894,-0.3723107881909927,-0.41126499674516737,-0.4313596702248325,1.1079793191944676,-1.5025325159282852,-1.1277676623437611,-1.7335456219153391,0.5006680549335961,0.9344649008180488,0.485724302055071,-0.9236043205237382,-0.06786370942009176,0.08506451564779151,-0.8354758300636222,0.5214516959248535,0.4445426788393895,0.7832318684627283,0.23712211426636307,-0.537220419964115,0.6795511371015246],\"xaxis\":\"x9\",\"y\":[1.2540720025146939,-0.46348347804251594,0.8129900423838404,0.22558850655681598,1.0646082853925278,-1.2185398755773857,-0.5133096197633565,-1.7726289036539224,-0.6956687985457533,0.24638886117842979,-0.2085382599832432,-1.1966412336116758,1.9526735154066548,-1.0581396474225,-0.026803359631144896,0.942738373952409,-0.7032990030686955,0.6289776349050559,-0.45564836257152447,-0.8335534360924648,-0.8820690924132405,-0.48975727791272505,1.7342519208764964,-0.533611868232763,-0.013705704854208323,-1.559238918217703,-0.7115577837292104,-1.5197709071141035,0.414113896297385,1.135360209092376,0.35100492418777596,0.3155999081909583,0.5988257083723294,-0.4133617345891343,0.5276400176872953,2.1790283947520366,0.8577136733639124,-0.34802998568452126,-1.399957964709555,0.006840099473515165,0.19269122119900958,0.8085603214070403,-0.6334402995606099,0.5243078086142938,-0.10293473421740021,0.09638337472435361,-1.0792067023982235,-0.5555187022137702,-0.7306806924316841,-0.4937820145857264,-0.5883585549895289,-1.0088028829097302,-0.8326337378080267,0.14571549480607143,-0.5055939284109676,0.6339493852237317,-0.16689281522043833,-0.13698728341557384,-0.08731294616271265,0.6009814848540755,-0.8330649294271425,-0.6034855372763794,0.6001393394038157,0.4406682648736641,2.6305707725663567,-0.16117059347015686,1.3193927981285256,0.24144273114842546,0.22735735795970022,0.4061251145045263,-0.760449220001816,-0.18708265134714938,0.7673030966613456,0.3823550527274153,-0.20516177928449067,-1.6191140140100544,0.5697773812819106,1.491596168302561,-0.835594311153154,0.4708819285809997,-0.4565506490383945,-1.051954053844487,0.8815774579654665,-1.503289233521424,0.3069578287223192,0.07603192925943901,-0.25529212175141863,-0.15131250845339583,-0.22378344227813943,0.12054900006272487,0.45048086475925303,0.5218269347268745,-0.8272000682526426,0.5366289433076256,0.5766881025550059,-1.0852229950367518,-0.9329742411250744,2.7192803209677368,2.7456592044275347,-1.1191829425685236],\"yaxis\":\"y9\",\"type\":\"scatter\"},{\"line\":{\"color\":\"rgba(128, 128, 128, 1.0)\",\"dash\":\"solid\",\"shape\":\"linear\",\"width\":1.3},\"marker\":{\"size\":2,\"symbol\":\"circle\"},\"mode\":\"markers\",\"name\":\"C\",\"text\":\"\",\"x\":[1.2330537097935343,0.11458097884445924,-0.9351958452452672,-1.4218432334766258,-0.5190303900137669,1.5102636903768525,0.4942950888284143,0.6148665809359691,-0.8295937565931014,0.5742665777687568,0.6179720652176569,-0.7936568541031073,-0.21054951866999908,-2.1682340263166604,1.7838858272054348,1.2954772761745392,1.160958828244452,-0.4351638102178348,0.016933996248292664,-1.8232969002549744,0.38222658174304364,-1.2234002835843565,-0.17849006665488779,-0.46825142508770273,-0.7776764077808724,-0.16925348148956473,0.4195825182870957,-0.3376038664622978,0.04256230459411407,0.2843192801057243,-0.20904498844493297,-0.0535713432493876,-0.27871118405401163,0.7633740996474665,-0.5589179635467679,0.4331240850095735,-1.1506589475828257,-0.3575813660429083,1.3808553736596048,-1.297070899438046,0.7987662356271483,-1.0321312971040055,0.6719707278520592,0.21750970397278124,-2.1679063088449477,-0.23340931400511625,1.885221125925643,-0.6051103392719552,-0.27336300038169786,0.19905980304961726,1.0604156655779047,-0.3875256103534181,-0.25910830497567866,1.2923851486789044,-0.2533139244859124,-0.2275319328040062,0.7814588386550321,0.47649873875247023,0.04115450706471839,1.7916876078845752,-0.4270194072726322,0.4012928155078483,-0.3404903856957402,0.8297506803029159,0.3803349840608319,-1.9805681304968268,-0.3562618372012064,0.3940265384863148,-0.5080704865712032,-1.5278762790472784,-0.1490674274164066,0.5278384946491753,0.4345439761886359,0.3159602633645175,0.58483340275023,1.3127414602070275,0.6934248167282844,0.010066619498830708,-2.656800549371415,2.4368587370924066,1.539961653073386,-1.8455500286996822,0.12066425443502592,-1.6728037334111137,0.19708640936661206,1.7030851208538846,0.5125284778379251,-1.1756952746509701,-1.4326974623177466,-1.4677571299667684,0.41472849932432676,-1.118729946802453,-0.8694882891178901,0.4371214376109995,1.11407701589781,0.5742729307504939,0.046112074600036246,-0.07648809484357338,-0.9350489671505954,-0.850019613995692],\"xaxis\":\"x10\",\"y\":[1.2540720025146939,-0.46348347804251594,0.8129900423838404,0.22558850655681598,1.0646082853925278,-1.2185398755773857,-0.5133096197633565,-1.7726289036539224,-0.6956687985457533,0.24638886117842979,-0.2085382599832432,-1.1966412336116758,1.9526735154066548,-1.0581396474225,-0.026803359631144896,0.942738373952409,-0.7032990030686955,0.6289776349050559,-0.45564836257152447,-0.8335534360924648,-0.8820690924132405,-0.48975727791272505,1.7342519208764964,-0.533611868232763,-0.013705704854208323,-1.559238918217703,-0.7115577837292104,-1.5197709071141035,0.414113896297385,1.135360209092376,0.35100492418777596,0.3155999081909583,0.5988257083723294,-0.4133617345891343,0.5276400176872953,2.1790283947520366,0.8577136733639124,-0.34802998568452126,-1.399957964709555,0.006840099473515165,0.19269122119900958,0.8085603214070403,-0.6334402995606099,0.5243078086142938,-0.10293473421740021,0.09638337472435361,-1.0792067023982235,-0.5555187022137702,-0.7306806924316841,-0.4937820145857264,-0.5883585549895289,-1.0088028829097302,-0.8326337378080267,0.14571549480607143,-0.5055939284109676,0.6339493852237317,-0.16689281522043833,-0.13698728341557384,-0.08731294616271265,0.6009814848540755,-0.8330649294271425,-0.6034855372763794,0.6001393394038157,0.4406682648736641,2.6305707725663567,-0.16117059347015686,1.3193927981285256,0.24144273114842546,0.22735735795970022,0.4061251145045263,-0.760449220001816,-0.18708265134714938,0.7673030966613456,0.3823550527274153,-0.20516177928449067,-1.6191140140100544,0.5697773812819106,1.491596168302561,-0.835594311153154,0.4708819285809997,-0.4565506490383945,-1.051954053844487,0.8815774579654665,-1.503289233521424,0.3069578287223192,0.07603192925943901,-0.25529212175141863,-0.15131250845339583,-0.22378344227813943,0.12054900006272487,0.45048086475925303,0.5218269347268745,-0.8272000682526426,0.5366289433076256,0.5766881025550059,-1.0852229950367518,-0.9329742411250744,2.7192803209677368,2.7456592044275347,-1.1191829425685236],\"yaxis\":\"y10\",\"type\":\"scatter\"},{\"histfunc\":\"count\",\"histnorm\":\"\",\"marker\":{\"color\":\"rgba(50, 171, 96, 1.0)\",\"line\":{\"color\":\"#4D5663\",\"width\":1.3}},\"name\":\"C\",\"nbinsx\":10,\"opacity\":0.8,\"orientation\":\"v\",\"x\":[1.2540720025146939,-0.46348347804251594,0.8129900423838404,0.22558850655681598,1.0646082853925278,-1.2185398755773857,-0.5133096197633565,-1.7726289036539224,-0.6956687985457533,0.24638886117842979,-0.2085382599832432,-1.1966412336116758,1.9526735154066548,-1.0581396474225,-0.026803359631144896,0.942738373952409,-0.7032990030686955,0.6289776349050559,-0.45564836257152447,-0.8335534360924648,-0.8820690924132405,-0.48975727791272505,1.7342519208764964,-0.533611868232763,-0.013705704854208323,-1.559238918217703,-0.7115577837292104,-1.5197709071141035,0.414113896297385,1.135360209092376,0.35100492418777596,0.3155999081909583,0.5988257083723294,-0.4133617345891343,0.5276400176872953,2.1790283947520366,0.8577136733639124,-0.34802998568452126,-1.399957964709555,0.006840099473515165,0.19269122119900958,0.8085603214070403,-0.6334402995606099,0.5243078086142938,-0.10293473421740021,0.09638337472435361,-1.0792067023982235,-0.5555187022137702,-0.7306806924316841,-0.4937820145857264,-0.5883585549895289,-1.0088028829097302,-0.8326337378080267,0.14571549480607143,-0.5055939284109676,0.6339493852237317,-0.16689281522043833,-0.13698728341557384,-0.08731294616271265,0.6009814848540755,-0.8330649294271425,-0.6034855372763794,0.6001393394038157,0.4406682648736641,2.6305707725663567,-0.16117059347015686,1.3193927981285256,0.24144273114842546,0.22735735795970022,0.4061251145045263,-0.760449220001816,-0.18708265134714938,0.7673030966613456,0.3823550527274153,-0.20516177928449067,-1.6191140140100544,0.5697773812819106,1.491596168302561,-0.835594311153154,0.4708819285809997,-0.4565506490383945,-1.051954053844487,0.8815774579654665,-1.503289233521424,0.3069578287223192,0.07603192925943901,-0.25529212175141863,-0.15131250845339583,-0.22378344227813943,0.12054900006272487,0.45048086475925303,0.5218269347268745,-0.8272000682526426,0.5366289433076256,0.5766881025550059,-1.0852229950367518,-0.9329742411250744,2.7192803209677368,2.7456592044275347,-1.1191829425685236],\"xaxis\":\"x11\",\"yaxis\":\"y11\",\"type\":\"histogram\"},{\"line\":{\"color\":\"rgba(128, 128, 128, 1.0)\",\"dash\":\"solid\",\"shape\":\"linear\",\"width\":1.3},\"marker\":{\"size\":2,\"symbol\":\"circle\"},\"mode\":\"markers\",\"name\":\"C\",\"text\":\"\",\"x\":[-0.506431628353634,-0.9545627013552734,-0.6107578249298709,-0.2844012167833867,-0.24847951128175225,-0.16531988235387118,-0.5388526720770379,1.494236018723017,0.6764267494848006,1.3874374441685948,-0.6916948476272538,0.45804108935416515,-2.2785804773584384,-2.231695849012556,1.39640190824559,-0.34652512717463446,0.005012423210220804,-0.36622774842919115,0.9892340159077968,0.9958449336538285,1.072446926640326,0.10480553334605108,-0.1072913850287637,2.585374563106729,-0.7868209943668756,0.6357919304480281,-1.9019608571986026,0.6470967689148188,-0.34659722915597024,0.9009669273500246,0.44368968149214133,-0.816300325008195,-0.36918333942125575,-0.7904449025161164,-1.8329107877968558,-1.5052446706255638,2.2341564203319213,0.6933333424439637,0.10781753043118078,-0.6983319509319129,-1.8529605231144097,-0.3312520928151987,-0.06083557916973807,-1.0558403893364163,-0.11473050573186004,0.5367377799501659,0.5429848386466027,-0.15573887507276518,2.261983496607472,1.005623826641129,-1.1104615244362885,2.1720522898731516,0.4698535971799291,-0.40098034758335677,-1.0102064591930502,-0.4458193157723049,-0.8733441645567254,0.1862847435286084,-1.2579957930555954,-1.1043619686193111,-3.4871280415309034,-0.30888131901352556,-1.0168340547952937,0.05252339360085888,-1.6363483777428562,0.050098599667050964,1.492477344156051,-0.5950441421475866,-0.988044218679561,0.19394334000726457,1.320158817073657,-0.5845318293100731,-0.11801295505794744,0.34618091647399774,1.4006292606846895,1.3329454464611699,0.8052403630487593,-1.1658716966254594,0.6272391710042999,-0.1412684370393452,-0.5878439970417628,-2.071189328202661,-0.4221789429959931,-0.3921830957173968,-0.052514265212202434,-0.17406572786031835,-0.5564886914052667,-0.46283435259659644,0.5991258594373452,-1.640921815833674,-0.13673329352987804,-0.07249204402135874,1.0025880668762868,-0.19040803325211011,-1.2573637736597831,-0.799280522358143,-0.5119431534249542,-0.38571247560118155,0.420319537810664,0.5149150150647253],\"xaxis\":\"x12\",\"y\":[1.2540720025146939,-0.46348347804251594,0.8129900423838404,0.22558850655681598,1.0646082853925278,-1.2185398755773857,-0.5133096197633565,-1.7726289036539224,-0.6956687985457533,0.24638886117842979,-0.2085382599832432,-1.1966412336116758,1.9526735154066548,-1.0581396474225,-0.026803359631144896,0.942738373952409,-0.7032990030686955,0.6289776349050559,-0.45564836257152447,-0.8335534360924648,-0.8820690924132405,-0.48975727791272505,1.7342519208764964,-0.533611868232763,-0.013705704854208323,-1.559238918217703,-0.7115577837292104,-1.5197709071141035,0.414113896297385,1.135360209092376,0.35100492418777596,0.3155999081909583,0.5988257083723294,-0.4133617345891343,0.5276400176872953,2.1790283947520366,0.8577136733639124,-0.34802998568452126,-1.399957964709555,0.006840099473515165,0.19269122119900958,0.8085603214070403,-0.6334402995606099,0.5243078086142938,-0.10293473421740021,0.09638337472435361,-1.0792067023982235,-0.5555187022137702,-0.7306806924316841,-0.4937820145857264,-0.5883585549895289,-1.0088028829097302,-0.8326337378080267,0.14571549480607143,-0.5055939284109676,0.6339493852237317,-0.16689281522043833,-0.13698728341557384,-0.08731294616271265,0.6009814848540755,-0.8330649294271425,-0.6034855372763794,0.6001393394038157,0.4406682648736641,2.6305707725663567,-0.16117059347015686,1.3193927981285256,0.24144273114842546,0.22735735795970022,0.4061251145045263,-0.760449220001816,-0.18708265134714938,0.7673030966613456,0.3823550527274153,-0.20516177928449067,-1.6191140140100544,0.5697773812819106,1.491596168302561,-0.835594311153154,0.4708819285809997,-0.4565506490383945,-1.051954053844487,0.8815774579654665,-1.503289233521424,0.3069578287223192,0.07603192925943901,-0.25529212175141863,-0.15131250845339583,-0.22378344227813943,0.12054900006272487,0.45048086475925303,0.5218269347268745,-0.8272000682526426,0.5366289433076256,0.5766881025550059,-1.0852229950367518,-0.9329742411250744,2.7192803209677368,2.7456592044275347,-1.1191829425685236],\"yaxis\":\"y12\",\"type\":\"scatter\"},{\"line\":{\"color\":\"rgba(128, 128, 128, 1.0)\",\"dash\":\"solid\",\"shape\":\"linear\",\"width\":1.3},\"marker\":{\"size\":2,\"symbol\":\"circle\"},\"mode\":\"markers\",\"name\":\"D\",\"text\":\"\",\"x\":[-0.8954787537425822,1.3853378324685472,-1.228452817951252,-0.3424793683140804,-1.036680330412496,0.19015493165759942,0.17963978229923314,-0.9116175027522325,-0.21593023400594136,-0.2779506697081478,0.7235529276697348,0.1390777881070409,1.2405057033932279,1.6216724103072697,1.3643013806654916,-0.41731644398988027,-0.8458719596298891,-1.1215328734215342,0.09781894172468565,0.5551170140613797,1.290111091375146,-0.964709847431916,0.028727829996969215,-0.6151570639534203,0.8723196106463363,0.3424531500181427,-0.28768015582637674,0.40831304168242943,-2.519472311917223,0.3974550135542539,-0.3921532733587675,0.1490494785437309,-0.3121488819015316,-0.2358361304910559,-0.6027225763839881,0.7416273940186792,0.08286706737698286,0.4207503841010657,1.8624742014955278,1.625475305259574,0.10429331893932867,0.9184511642012367,2.181525124256408,-1.1563609727626594,0.028709521213927475,-0.2375569827884672,-0.23299649652787194,0.31775960186369745,0.7912388545129444,-0.21118301495412745,-0.8996836938704721,-1.5605972680456297,2.1567907489206997,-0.5279845006046894,0.7643241689489472,0.47619276965888035,1.4848901510475798,-0.15405129754079055,0.8961759234985016,0.007893186212914067,-0.20428335996163577,-0.6129935669515203,1.4101729802367804,-0.19045873408490974,-1.8784565574847774,2.2565342844087,0.5135638577038365,-0.2069560506724559,-1.8454699265247374,-1.7956926842182614,-0.15851038725001843,0.6048254421740097,-0.16118950550233477,-1.2631292300656045,-0.5435992120955132,0.5840495350623373,-0.8090900162261967,-0.6751748918388873,-0.4664535713177918,0.44326211987086894,-0.3723107881909927,-0.41126499674516737,-0.4313596702248325,1.1079793191944676,-1.5025325159282852,-1.1277676623437611,-1.7335456219153391,0.5006680549335961,0.9344649008180488,0.485724302055071,-0.9236043205237382,-0.06786370942009176,0.08506451564779151,-0.8354758300636222,0.5214516959248535,0.4445426788393895,0.7832318684627283,0.23712211426636307,-0.537220419964115,0.6795511371015246],\"xaxis\":\"x13\",\"y\":[-0.506431628353634,-0.9545627013552734,-0.6107578249298709,-0.2844012167833867,-0.24847951128175225,-0.16531988235387118,-0.5388526720770379,1.494236018723017,0.6764267494848006,1.3874374441685948,-0.6916948476272538,0.45804108935416515,-2.2785804773584384,-2.231695849012556,1.39640190824559,-0.34652512717463446,0.005012423210220804,-0.36622774842919115,0.9892340159077968,0.9958449336538285,1.072446926640326,0.10480553334605108,-0.1072913850287637,2.585374563106729,-0.7868209943668756,0.6357919304480281,-1.9019608571986026,0.6470967689148188,-0.34659722915597024,0.9009669273500246,0.44368968149214133,-0.816300325008195,-0.36918333942125575,-0.7904449025161164,-1.8329107877968558,-1.5052446706255638,2.2341564203319213,0.6933333424439637,0.10781753043118078,-0.6983319509319129,-1.8529605231144097,-0.3312520928151987,-0.06083557916973807,-1.0558403893364163,-0.11473050573186004,0.5367377799501659,0.5429848386466027,-0.15573887507276518,2.261983496607472,1.005623826641129,-1.1104615244362885,2.1720522898731516,0.4698535971799291,-0.40098034758335677,-1.0102064591930502,-0.4458193157723049,-0.8733441645567254,0.1862847435286084,-1.2579957930555954,-1.1043619686193111,-3.4871280415309034,-0.30888131901352556,-1.0168340547952937,0.05252339360085888,-1.6363483777428562,0.050098599667050964,1.492477344156051,-0.5950441421475866,-0.988044218679561,0.19394334000726457,1.320158817073657,-0.5845318293100731,-0.11801295505794744,0.34618091647399774,1.4006292606846895,1.3329454464611699,0.8052403630487593,-1.1658716966254594,0.6272391710042999,-0.1412684370393452,-0.5878439970417628,-2.071189328202661,-0.4221789429959931,-0.3921830957173968,-0.052514265212202434,-0.17406572786031835,-0.5564886914052667,-0.46283435259659644,0.5991258594373452,-1.640921815833674,-0.13673329352987804,-0.07249204402135874,1.0025880668762868,-0.19040803325211011,-1.2573637736597831,-0.799280522358143,-0.5119431534249542,-0.38571247560118155,0.420319537810664,0.5149150150647253],\"yaxis\":\"y13\",\"type\":\"scatter\"},{\"line\":{\"color\":\"rgba(128, 128, 128, 1.0)\",\"dash\":\"solid\",\"shape\":\"linear\",\"width\":1.3},\"marker\":{\"size\":2,\"symbol\":\"circle\"},\"mode\":\"markers\",\"name\":\"D\",\"text\":\"\",\"x\":[1.2330537097935343,0.11458097884445924,-0.9351958452452672,-1.4218432334766258,-0.5190303900137669,1.5102636903768525,0.4942950888284143,0.6148665809359691,-0.8295937565931014,0.5742665777687568,0.6179720652176569,-0.7936568541031073,-0.21054951866999908,-2.1682340263166604,1.7838858272054348,1.2954772761745392,1.160958828244452,-0.4351638102178348,0.016933996248292664,-1.8232969002549744,0.38222658174304364,-1.2234002835843565,-0.17849006665488779,-0.46825142508770273,-0.7776764077808724,-0.16925348148956473,0.4195825182870957,-0.3376038664622978,0.04256230459411407,0.2843192801057243,-0.20904498844493297,-0.0535713432493876,-0.27871118405401163,0.7633740996474665,-0.5589179635467679,0.4331240850095735,-1.1506589475828257,-0.3575813660429083,1.3808553736596048,-1.297070899438046,0.7987662356271483,-1.0321312971040055,0.6719707278520592,0.21750970397278124,-2.1679063088449477,-0.23340931400511625,1.885221125925643,-0.6051103392719552,-0.27336300038169786,0.19905980304961726,1.0604156655779047,-0.3875256103534181,-0.25910830497567866,1.2923851486789044,-0.2533139244859124,-0.2275319328040062,0.7814588386550321,0.47649873875247023,0.04115450706471839,1.7916876078845752,-0.4270194072726322,0.4012928155078483,-0.3404903856957402,0.8297506803029159,0.3803349840608319,-1.9805681304968268,-0.3562618372012064,0.3940265384863148,-0.5080704865712032,-1.5278762790472784,-0.1490674274164066,0.5278384946491753,0.4345439761886359,0.3159602633645175,0.58483340275023,1.3127414602070275,0.6934248167282844,0.010066619498830708,-2.656800549371415,2.4368587370924066,1.539961653073386,-1.8455500286996822,0.12066425443502592,-1.6728037334111137,0.19708640936661206,1.7030851208538846,0.5125284778379251,-1.1756952746509701,-1.4326974623177466,-1.4677571299667684,0.41472849932432676,-1.118729946802453,-0.8694882891178901,0.4371214376109995,1.11407701589781,0.5742729307504939,0.046112074600036246,-0.07648809484357338,-0.9350489671505954,-0.850019613995692],\"xaxis\":\"x14\",\"y\":[-0.506431628353634,-0.9545627013552734,-0.6107578249298709,-0.2844012167833867,-0.24847951128175225,-0.16531988235387118,-0.5388526720770379,1.494236018723017,0.6764267494848006,1.3874374441685948,-0.6916948476272538,0.45804108935416515,-2.2785804773584384,-2.231695849012556,1.39640190824559,-0.34652512717463446,0.005012423210220804,-0.36622774842919115,0.9892340159077968,0.9958449336538285,1.072446926640326,0.10480553334605108,-0.1072913850287637,2.585374563106729,-0.7868209943668756,0.6357919304480281,-1.9019608571986026,0.6470967689148188,-0.34659722915597024,0.9009669273500246,0.44368968149214133,-0.816300325008195,-0.36918333942125575,-0.7904449025161164,-1.8329107877968558,-1.5052446706255638,2.2341564203319213,0.6933333424439637,0.10781753043118078,-0.6983319509319129,-1.8529605231144097,-0.3312520928151987,-0.06083557916973807,-1.0558403893364163,-0.11473050573186004,0.5367377799501659,0.5429848386466027,-0.15573887507276518,2.261983496607472,1.005623826641129,-1.1104615244362885,2.1720522898731516,0.4698535971799291,-0.40098034758335677,-1.0102064591930502,-0.4458193157723049,-0.8733441645567254,0.1862847435286084,-1.2579957930555954,-1.1043619686193111,-3.4871280415309034,-0.30888131901352556,-1.0168340547952937,0.05252339360085888,-1.6363483777428562,0.050098599667050964,1.492477344156051,-0.5950441421475866,-0.988044218679561,0.19394334000726457,1.320158817073657,-0.5845318293100731,-0.11801295505794744,0.34618091647399774,1.4006292606846895,1.3329454464611699,0.8052403630487593,-1.1658716966254594,0.6272391710042999,-0.1412684370393452,-0.5878439970417628,-2.071189328202661,-0.4221789429959931,-0.3921830957173968,-0.052514265212202434,-0.17406572786031835,-0.5564886914052667,-0.46283435259659644,0.5991258594373452,-1.640921815833674,-0.13673329352987804,-0.07249204402135874,1.0025880668762868,-0.19040803325211011,-1.2573637736597831,-0.799280522358143,-0.5119431534249542,-0.38571247560118155,0.420319537810664,0.5149150150647253],\"yaxis\":\"y14\",\"type\":\"scatter\"},{\"line\":{\"color\":\"rgba(128, 128, 128, 1.0)\",\"dash\":\"solid\",\"shape\":\"linear\",\"width\":1.3},\"marker\":{\"size\":2,\"symbol\":\"circle\"},\"mode\":\"markers\",\"name\":\"D\",\"text\":\"\",\"x\":[1.2540720025146939,-0.46348347804251594,0.8129900423838404,0.22558850655681598,1.0646082853925278,-1.2185398755773857,-0.5133096197633565,-1.7726289036539224,-0.6956687985457533,0.24638886117842979,-0.2085382599832432,-1.1966412336116758,1.9526735154066548,-1.0581396474225,-0.026803359631144896,0.942738373952409,-0.7032990030686955,0.6289776349050559,-0.45564836257152447,-0.8335534360924648,-0.8820690924132405,-0.48975727791272505,1.7342519208764964,-0.533611868232763,-0.013705704854208323,-1.559238918217703,-0.7115577837292104,-1.5197709071141035,0.414113896297385,1.135360209092376,0.35100492418777596,0.3155999081909583,0.5988257083723294,-0.4133617345891343,0.5276400176872953,2.1790283947520366,0.8577136733639124,-0.34802998568452126,-1.399957964709555,0.006840099473515165,0.19269122119900958,0.8085603214070403,-0.6334402995606099,0.5243078086142938,-0.10293473421740021,0.09638337472435361,-1.0792067023982235,-0.5555187022137702,-0.7306806924316841,-0.4937820145857264,-0.5883585549895289,-1.0088028829097302,-0.8326337378080267,0.14571549480607143,-0.5055939284109676,0.6339493852237317,-0.16689281522043833,-0.13698728341557384,-0.08731294616271265,0.6009814848540755,-0.8330649294271425,-0.6034855372763794,0.6001393394038157,0.4406682648736641,2.6305707725663567,-0.16117059347015686,1.3193927981285256,0.24144273114842546,0.22735735795970022,0.4061251145045263,-0.760449220001816,-0.18708265134714938,0.7673030966613456,0.3823550527274153,-0.20516177928449067,-1.6191140140100544,0.5697773812819106,1.491596168302561,-0.835594311153154,0.4708819285809997,-0.4565506490383945,-1.051954053844487,0.8815774579654665,-1.503289233521424,0.3069578287223192,0.07603192925943901,-0.25529212175141863,-0.15131250845339583,-0.22378344227813943,0.12054900006272487,0.45048086475925303,0.5218269347268745,-0.8272000682526426,0.5366289433076256,0.5766881025550059,-1.0852229950367518,-0.9329742411250744,2.7192803209677368,2.7456592044275347,-1.1191829425685236],\"xaxis\":\"x15\",\"y\":[-0.506431628353634,-0.9545627013552734,-0.6107578249298709,-0.2844012167833867,-0.24847951128175225,-0.16531988235387118,-0.5388526720770379,1.494236018723017,0.6764267494848006,1.3874374441685948,-0.6916948476272538,0.45804108935416515,-2.2785804773584384,-2.231695849012556,1.39640190824559,-0.34652512717463446,0.005012423210220804,-0.36622774842919115,0.9892340159077968,0.9958449336538285,1.072446926640326,0.10480553334605108,-0.1072913850287637,2.585374563106729,-0.7868209943668756,0.6357919304480281,-1.9019608571986026,0.6470967689148188,-0.34659722915597024,0.9009669273500246,0.44368968149214133,-0.816300325008195,-0.36918333942125575,-0.7904449025161164,-1.8329107877968558,-1.5052446706255638,2.2341564203319213,0.6933333424439637,0.10781753043118078,-0.6983319509319129,-1.8529605231144097,-0.3312520928151987,-0.06083557916973807,-1.0558403893364163,-0.11473050573186004,0.5367377799501659,0.5429848386466027,-0.15573887507276518,2.261983496607472,1.005623826641129,-1.1104615244362885,2.1720522898731516,0.4698535971799291,-0.40098034758335677,-1.0102064591930502,-0.4458193157723049,-0.8733441645567254,0.1862847435286084,-1.2579957930555954,-1.1043619686193111,-3.4871280415309034,-0.30888131901352556,-1.0168340547952937,0.05252339360085888,-1.6363483777428562,0.050098599667050964,1.492477344156051,-0.5950441421475866,-0.988044218679561,0.19394334000726457,1.320158817073657,-0.5845318293100731,-0.11801295505794744,0.34618091647399774,1.4006292606846895,1.3329454464611699,0.8052403630487593,-1.1658716966254594,0.6272391710042999,-0.1412684370393452,-0.5878439970417628,-2.071189328202661,-0.4221789429959931,-0.3921830957173968,-0.052514265212202434,-0.17406572786031835,-0.5564886914052667,-0.46283435259659644,0.5991258594373452,-1.640921815833674,-0.13673329352987804,-0.07249204402135874,1.0025880668762868,-0.19040803325211011,-1.2573637736597831,-0.799280522358143,-0.5119431534249542,-0.38571247560118155,0.420319537810664,0.5149150150647253],\"yaxis\":\"y15\",\"type\":\"scatter\"},{\"histfunc\":\"count\",\"histnorm\":\"\",\"marker\":{\"color\":\"rgba(128, 0, 128, 1.0)\",\"line\":{\"color\":\"#4D5663\",\"width\":1.3}},\"name\":\"D\",\"nbinsx\":10,\"opacity\":0.8,\"orientation\":\"v\",\"x\":[-0.506431628353634,-0.9545627013552734,-0.6107578249298709,-0.2844012167833867,-0.24847951128175225,-0.16531988235387118,-0.5388526720770379,1.494236018723017,0.6764267494848006,1.3874374441685948,-0.6916948476272538,0.45804108935416515,-2.2785804773584384,-2.231695849012556,1.39640190824559,-0.34652512717463446,0.005012423210220804,-0.36622774842919115,0.9892340159077968,0.9958449336538285,1.072446926640326,0.10480553334605108,-0.1072913850287637,2.585374563106729,-0.7868209943668756,0.6357919304480281,-1.9019608571986026,0.6470967689148188,-0.34659722915597024,0.9009669273500246,0.44368968149214133,-0.816300325008195,-0.36918333942125575,-0.7904449025161164,-1.8329107877968558,-1.5052446706255638,2.2341564203319213,0.6933333424439637,0.10781753043118078,-0.6983319509319129,-1.8529605231144097,-0.3312520928151987,-0.06083557916973807,-1.0558403893364163,-0.11473050573186004,0.5367377799501659,0.5429848386466027,-0.15573887507276518,2.261983496607472,1.005623826641129,-1.1104615244362885,2.1720522898731516,0.4698535971799291,-0.40098034758335677,-1.0102064591930502,-0.4458193157723049,-0.8733441645567254,0.1862847435286084,-1.2579957930555954,-1.1043619686193111,-3.4871280415309034,-0.30888131901352556,-1.0168340547952937,0.05252339360085888,-1.6363483777428562,0.050098599667050964,1.492477344156051,-0.5950441421475866,-0.988044218679561,0.19394334000726457,1.320158817073657,-0.5845318293100731,-0.11801295505794744,0.34618091647399774,1.4006292606846895,1.3329454464611699,0.8052403630487593,-1.1658716966254594,0.6272391710042999,-0.1412684370393452,-0.5878439970417628,-2.071189328202661,-0.4221789429959931,-0.3921830957173968,-0.052514265212202434,-0.17406572786031835,-0.5564886914052667,-0.46283435259659644,0.5991258594373452,-1.640921815833674,-0.13673329352987804,-0.07249204402135874,1.0025880668762868,-0.19040803325211011,-1.2573637736597831,-0.799280522358143,-0.5119431534249542,-0.38571247560118155,0.420319537810664,0.5149150150647253],\"xaxis\":\"x16\",\"yaxis\":\"y16\",\"type\":\"histogram\"}],                        {\"bargap\":0.02,\"legend\":{\"bgcolor\":\"#F5F6F9\",\"font\":{\"color\":\"#4D5663\"}},\"paper_bgcolor\":\"#F5F6F9\",\"plot_bgcolor\":\"#F5F6F9\",\"showlegend\":false,\"template\":{\"data\":{\"barpolar\":[{\"marker\":{\"line\":{\"color\":\"#E5ECF6\",\"width\":0.5},\"pattern\":{\"fillmode\":\"overlay\",\"size\":10,\"solidity\":0.2}},\"type\":\"barpolar\"}],\"bar\":[{\"error_x\":{\"color\":\"#2a3f5f\"},\"error_y\":{\"color\":\"#2a3f5f\"},\"marker\":{\"line\":{\"color\":\"#E5ECF6\",\"width\":0.5},\"pattern\":{\"fillmode\":\"overlay\",\"size\":10,\"solidity\":0.2}},\"type\":\"bar\"}],\"carpet\":[{\"aaxis\":{\"endlinecolor\":\"#2a3f5f\",\"gridcolor\":\"white\",\"linecolor\":\"white\",\"minorgridcolor\":\"white\",\"startlinecolor\":\"#2a3f5f\"},\"baxis\":{\"endlinecolor\":\"#2a3f5f\",\"gridcolor\":\"white\",\"linecolor\":\"white\",\"minorgridcolor\":\"white\",\"startlinecolor\":\"#2a3f5f\"},\"type\":\"carpet\"}],\"choropleth\":[{\"colorbar\":{\"outlinewidth\":0,\"ticks\":\"\"},\"type\":\"choropleth\"}],\"contourcarpet\":[{\"colorbar\":{\"outlinewidth\":0,\"ticks\":\"\"},\"type\":\"contourcarpet\"}],\"contour\":[{\"colorbar\":{\"outlinewidth\":0,\"ticks\":\"\"},\"colorscale\":[[0.0,\"#0d0887\"],[0.1111111111111111,\"#46039f\"],[0.2222222222222222,\"#7201a8\"],[0.3333333333333333,\"#9c179e\"],[0.4444444444444444,\"#bd3786\"],[0.5555555555555556,\"#d8576b\"],[0.6666666666666666,\"#ed7953\"],[0.7777777777777778,\"#fb9f3a\"],[0.8888888888888888,\"#fdca26\"],[1.0,\"#f0f921\"]],\"type\":\"contour\"}],\"heatmapgl\":[{\"colorbar\":{\"outlinewidth\":0,\"ticks\":\"\"},\"colorscale\":[[0.0,\"#0d0887\"],[0.1111111111111111,\"#46039f\"],[0.2222222222222222,\"#7201a8\"],[0.3333333333333333,\"#9c179e\"],[0.4444444444444444,\"#bd3786\"],[0.5555555555555556,\"#d8576b\"],[0.6666666666666666,\"#ed7953\"],[0.7777777777777778,\"#fb9f3a\"],[0.8888888888888888,\"#fdca26\"],[1.0,\"#f0f921\"]],\"type\":\"heatmapgl\"}],\"heatmap\":[{\"colorbar\":{\"outlinewidth\":0,\"ticks\":\"\"},\"colorscale\":[[0.0,\"#0d0887\"],[0.1111111111111111,\"#46039f\"],[0.2222222222222222,\"#7201a8\"],[0.3333333333333333,\"#9c179e\"],[0.4444444444444444,\"#bd3786\"],[0.5555555555555556,\"#d8576b\"],[0.6666666666666666,\"#ed7953\"],[0.7777777777777778,\"#fb9f3a\"],[0.8888888888888888,\"#fdca26\"],[1.0,\"#f0f921\"]],\"type\":\"heatmap\"}],\"histogram2dcontour\":[{\"colorbar\":{\"outlinewidth\":0,\"ticks\":\"\"},\"colorscale\":[[0.0,\"#0d0887\"],[0.1111111111111111,\"#46039f\"],[0.2222222222222222,\"#7201a8\"],[0.3333333333333333,\"#9c179e\"],[0.4444444444444444,\"#bd3786\"],[0.5555555555555556,\"#d8576b\"],[0.6666666666666666,\"#ed7953\"],[0.7777777777777778,\"#fb9f3a\"],[0.8888888888888888,\"#fdca26\"],[1.0,\"#f0f921\"]],\"type\":\"histogram2dcontour\"}],\"histogram2d\":[{\"colorbar\":{\"outlinewidth\":0,\"ticks\":\"\"},\"colorscale\":[[0.0,\"#0d0887\"],[0.1111111111111111,\"#46039f\"],[0.2222222222222222,\"#7201a8\"],[0.3333333333333333,\"#9c179e\"],[0.4444444444444444,\"#bd3786\"],[0.5555555555555556,\"#d8576b\"],[0.6666666666666666,\"#ed7953\"],[0.7777777777777778,\"#fb9f3a\"],[0.8888888888888888,\"#fdca26\"],[1.0,\"#f0f921\"]],\"type\":\"histogram2d\"}],\"histogram\":[{\"marker\":{\"pattern\":{\"fillmode\":\"overlay\",\"size\":10,\"solidity\":0.2}},\"type\":\"histogram\"}],\"mesh3d\":[{\"colorbar\":{\"outlinewidth\":0,\"ticks\":\"\"},\"type\":\"mesh3d\"}],\"parcoords\":[{\"line\":{\"colorbar\":{\"outlinewidth\":0,\"ticks\":\"\"}},\"type\":\"parcoords\"}],\"pie\":[{\"automargin\":true,\"type\":\"pie\"}],\"scatter3d\":[{\"line\":{\"colorbar\":{\"outlinewidth\":0,\"ticks\":\"\"}},\"marker\":{\"colorbar\":{\"outlinewidth\":0,\"ticks\":\"\"}},\"type\":\"scatter3d\"}],\"scattercarpet\":[{\"marker\":{\"colorbar\":{\"outlinewidth\":0,\"ticks\":\"\"}},\"type\":\"scattercarpet\"}],\"scattergeo\":[{\"marker\":{\"colorbar\":{\"outlinewidth\":0,\"ticks\":\"\"}},\"type\":\"scattergeo\"}],\"scattergl\":[{\"marker\":{\"colorbar\":{\"outlinewidth\":0,\"ticks\":\"\"}},\"type\":\"scattergl\"}],\"scattermapbox\":[{\"marker\":{\"colorbar\":{\"outlinewidth\":0,\"ticks\":\"\"}},\"type\":\"scattermapbox\"}],\"scatterpolargl\":[{\"marker\":{\"colorbar\":{\"outlinewidth\":0,\"ticks\":\"\"}},\"type\":\"scatterpolargl\"}],\"scatterpolar\":[{\"marker\":{\"colorbar\":{\"outlinewidth\":0,\"ticks\":\"\"}},\"type\":\"scatterpolar\"}],\"scatter\":[{\"fillpattern\":{\"fillmode\":\"overlay\",\"size\":10,\"solidity\":0.2},\"type\":\"scatter\"}],\"scatterternary\":[{\"marker\":{\"colorbar\":{\"outlinewidth\":0,\"ticks\":\"\"}},\"type\":\"scatterternary\"}],\"surface\":[{\"colorbar\":{\"outlinewidth\":0,\"ticks\":\"\"},\"colorscale\":[[0.0,\"#0d0887\"],[0.1111111111111111,\"#46039f\"],[0.2222222222222222,\"#7201a8\"],[0.3333333333333333,\"#9c179e\"],[0.4444444444444444,\"#bd3786\"],[0.5555555555555556,\"#d8576b\"],[0.6666666666666666,\"#ed7953\"],[0.7777777777777778,\"#fb9f3a\"],[0.8888888888888888,\"#fdca26\"],[1.0,\"#f0f921\"]],\"type\":\"surface\"}],\"table\":[{\"cells\":{\"fill\":{\"color\":\"#EBF0F8\"},\"line\":{\"color\":\"white\"}},\"header\":{\"fill\":{\"color\":\"#C8D4E3\"},\"line\":{\"color\":\"white\"}},\"type\":\"table\"}]},\"layout\":{\"annotationdefaults\":{\"arrowcolor\":\"#2a3f5f\",\"arrowhead\":0,\"arrowwidth\":1},\"autotypenumbers\":\"strict\",\"coloraxis\":{\"colorbar\":{\"outlinewidth\":0,\"ticks\":\"\"}},\"colorscale\":{\"diverging\":[[0,\"#8e0152\"],[0.1,\"#c51b7d\"],[0.2,\"#de77ae\"],[0.3,\"#f1b6da\"],[0.4,\"#fde0ef\"],[0.5,\"#f7f7f7\"],[0.6,\"#e6f5d0\"],[0.7,\"#b8e186\"],[0.8,\"#7fbc41\"],[0.9,\"#4d9221\"],[1,\"#276419\"]],\"sequential\":[[0.0,\"#0d0887\"],[0.1111111111111111,\"#46039f\"],[0.2222222222222222,\"#7201a8\"],[0.3333333333333333,\"#9c179e\"],[0.4444444444444444,\"#bd3786\"],[0.5555555555555556,\"#d8576b\"],[0.6666666666666666,\"#ed7953\"],[0.7777777777777778,\"#fb9f3a\"],[0.8888888888888888,\"#fdca26\"],[1.0,\"#f0f921\"]],\"sequentialminus\":[[0.0,\"#0d0887\"],[0.1111111111111111,\"#46039f\"],[0.2222222222222222,\"#7201a8\"],[0.3333333333333333,\"#9c179e\"],[0.4444444444444444,\"#bd3786\"],[0.5555555555555556,\"#d8576b\"],[0.6666666666666666,\"#ed7953\"],[0.7777777777777778,\"#fb9f3a\"],[0.8888888888888888,\"#fdca26\"],[1.0,\"#f0f921\"]]},\"colorway\":[\"#636efa\",\"#EF553B\",\"#00cc96\",\"#ab63fa\",\"#FFA15A\",\"#19d3f3\",\"#FF6692\",\"#B6E880\",\"#FF97FF\",\"#FECB52\"],\"font\":{\"color\":\"#2a3f5f\"},\"geo\":{\"bgcolor\":\"white\",\"lakecolor\":\"white\",\"landcolor\":\"#E5ECF6\",\"showlakes\":true,\"showland\":true,\"subunitcolor\":\"white\"},\"hoverlabel\":{\"align\":\"left\"},\"hovermode\":\"closest\",\"mapbox\":{\"style\":\"light\"},\"paper_bgcolor\":\"white\",\"plot_bgcolor\":\"#E5ECF6\",\"polar\":{\"angularaxis\":{\"gridcolor\":\"white\",\"linecolor\":\"white\",\"ticks\":\"\"},\"bgcolor\":\"#E5ECF6\",\"radialaxis\":{\"gridcolor\":\"white\",\"linecolor\":\"white\",\"ticks\":\"\"}},\"scene\":{\"xaxis\":{\"backgroundcolor\":\"#E5ECF6\",\"gridcolor\":\"white\",\"gridwidth\":2,\"linecolor\":\"white\",\"showbackground\":true,\"ticks\":\"\",\"zerolinecolor\":\"white\"},\"yaxis\":{\"backgroundcolor\":\"#E5ECF6\",\"gridcolor\":\"white\",\"gridwidth\":2,\"linecolor\":\"white\",\"showbackground\":true,\"ticks\":\"\",\"zerolinecolor\":\"white\"},\"zaxis\":{\"backgroundcolor\":\"#E5ECF6\",\"gridcolor\":\"white\",\"gridwidth\":2,\"linecolor\":\"white\",\"showbackground\":true,\"ticks\":\"\",\"zerolinecolor\":\"white\"}},\"shapedefaults\":{\"line\":{\"color\":\"#2a3f5f\"}},\"ternary\":{\"aaxis\":{\"gridcolor\":\"white\",\"linecolor\":\"white\",\"ticks\":\"\"},\"baxis\":{\"gridcolor\":\"white\",\"linecolor\":\"white\",\"ticks\":\"\"},\"bgcolor\":\"#E5ECF6\",\"caxis\":{\"gridcolor\":\"white\",\"linecolor\":\"white\",\"ticks\":\"\"}},\"title\":{\"x\":0.05},\"xaxis\":{\"automargin\":true,\"gridcolor\":\"white\",\"linecolor\":\"white\",\"ticks\":\"\",\"title\":{\"standoff\":15},\"zerolinecolor\":\"white\",\"zerolinewidth\":2},\"yaxis\":{\"automargin\":true,\"gridcolor\":\"white\",\"linecolor\":\"white\",\"ticks\":\"\",\"title\":{\"standoff\":15},\"zerolinecolor\":\"white\",\"zerolinewidth\":2}}},\"title\":{\"font\":{\"color\":\"#4D5663\"}},\"xaxis\":{\"anchor\":\"y\",\"domain\":[0.0,0.2125],\"gridcolor\":\"#E1E5ED\",\"showgrid\":false,\"tickfont\":{\"color\":\"#4D5663\"},\"title\":{\"font\":{\"color\":\"#4D5663\"},\"text\":\"\"},\"zerolinecolor\":\"#E1E5ED\"},\"yaxis\":{\"anchor\":\"x\",\"domain\":[0.8025,1.0],\"gridcolor\":\"#E1E5ED\",\"showgrid\":false,\"tickfont\":{\"color\":\"#4D5663\"},\"title\":{\"font\":{\"color\":\"#4D5663\"},\"text\":\"\"},\"zerolinecolor\":\"#E1E5ED\"},\"xaxis2\":{\"anchor\":\"y2\",\"domain\":[0.2625,0.475],\"gridcolor\":\"#E1E5ED\",\"showgrid\":false,\"tickfont\":{\"color\":\"#4D5663\"},\"title\":{\"font\":{\"color\":\"#4D5663\"},\"text\":\"\"},\"zerolinecolor\":\"#E1E5ED\"},\"yaxis2\":{\"anchor\":\"x2\",\"domain\":[0.8025,1.0],\"gridcolor\":\"#E1E5ED\",\"showgrid\":false,\"tickfont\":{\"color\":\"#4D5663\"},\"title\":{\"font\":{\"color\":\"#4D5663\"},\"text\":\"\"},\"zerolinecolor\":\"#E1E5ED\"},\"xaxis3\":{\"anchor\":\"y3\",\"domain\":[0.525,0.7375],\"gridcolor\":\"#E1E5ED\",\"showgrid\":false,\"tickfont\":{\"color\":\"#4D5663\"},\"title\":{\"font\":{\"color\":\"#4D5663\"},\"text\":\"\"},\"zerolinecolor\":\"#E1E5ED\"},\"yaxis3\":{\"anchor\":\"x3\",\"domain\":[0.8025,1.0],\"gridcolor\":\"#E1E5ED\",\"showgrid\":false,\"tickfont\":{\"color\":\"#4D5663\"},\"title\":{\"font\":{\"color\":\"#4D5663\"},\"text\":\"\"},\"zerolinecolor\":\"#E1E5ED\"},\"xaxis4\":{\"anchor\":\"y4\",\"domain\":[0.7875,1.0],\"gridcolor\":\"#E1E5ED\",\"showgrid\":false,\"tickfont\":{\"color\":\"#4D5663\"},\"title\":{\"font\":{\"color\":\"#4D5663\"},\"text\":\"\"},\"zerolinecolor\":\"#E1E5ED\"},\"yaxis4\":{\"anchor\":\"x4\",\"domain\":[0.8025,1.0],\"gridcolor\":\"#E1E5ED\",\"showgrid\":false,\"tickfont\":{\"color\":\"#4D5663\"},\"title\":{\"font\":{\"color\":\"#4D5663\"},\"text\":\"\"},\"zerolinecolor\":\"#E1E5ED\"},\"xaxis5\":{\"anchor\":\"y5\",\"domain\":[0.0,0.2125],\"gridcolor\":\"#E1E5ED\",\"showgrid\":false,\"tickfont\":{\"color\":\"#4D5663\"},\"title\":{\"font\":{\"color\":\"#4D5663\"},\"text\":\"\"},\"zerolinecolor\":\"#E1E5ED\"},\"yaxis5\":{\"anchor\":\"x5\",\"domain\":[0.535,0.7325],\"gridcolor\":\"#E1E5ED\",\"showgrid\":false,\"tickfont\":{\"color\":\"#4D5663\"},\"title\":{\"font\":{\"color\":\"#4D5663\"},\"text\":\"\"},\"zerolinecolor\":\"#E1E5ED\"},\"xaxis6\":{\"anchor\":\"y6\",\"domain\":[0.2625,0.475],\"gridcolor\":\"#E1E5ED\",\"showgrid\":false,\"tickfont\":{\"color\":\"#4D5663\"},\"title\":{\"font\":{\"color\":\"#4D5663\"},\"text\":\"\"},\"zerolinecolor\":\"#E1E5ED\"},\"yaxis6\":{\"anchor\":\"x6\",\"domain\":[0.535,0.7325],\"gridcolor\":\"#E1E5ED\",\"showgrid\":false,\"tickfont\":{\"color\":\"#4D5663\"},\"title\":{\"font\":{\"color\":\"#4D5663\"},\"text\":\"\"},\"zerolinecolor\":\"#E1E5ED\"},\"xaxis7\":{\"anchor\":\"y7\",\"domain\":[0.525,0.7375],\"gridcolor\":\"#E1E5ED\",\"showgrid\":false,\"tickfont\":{\"color\":\"#4D5663\"},\"title\":{\"font\":{\"color\":\"#4D5663\"},\"text\":\"\"},\"zerolinecolor\":\"#E1E5ED\"},\"yaxis7\":{\"anchor\":\"x7\",\"domain\":[0.535,0.7325],\"gridcolor\":\"#E1E5ED\",\"showgrid\":false,\"tickfont\":{\"color\":\"#4D5663\"},\"title\":{\"font\":{\"color\":\"#4D5663\"},\"text\":\"\"},\"zerolinecolor\":\"#E1E5ED\"},\"xaxis8\":{\"anchor\":\"y8\",\"domain\":[0.7875,1.0],\"gridcolor\":\"#E1E5ED\",\"showgrid\":false,\"tickfont\":{\"color\":\"#4D5663\"},\"title\":{\"font\":{\"color\":\"#4D5663\"},\"text\":\"\"},\"zerolinecolor\":\"#E1E5ED\"},\"yaxis8\":{\"anchor\":\"x8\",\"domain\":[0.535,0.7325],\"gridcolor\":\"#E1E5ED\",\"showgrid\":false,\"tickfont\":{\"color\":\"#4D5663\"},\"title\":{\"font\":{\"color\":\"#4D5663\"},\"text\":\"\"},\"zerolinecolor\":\"#E1E5ED\"},\"xaxis9\":{\"anchor\":\"y9\",\"domain\":[0.0,0.2125],\"gridcolor\":\"#E1E5ED\",\"showgrid\":false,\"tickfont\":{\"color\":\"#4D5663\"},\"title\":{\"font\":{\"color\":\"#4D5663\"},\"text\":\"\"},\"zerolinecolor\":\"#E1E5ED\"},\"yaxis9\":{\"anchor\":\"x9\",\"domain\":[0.2675,0.465],\"gridcolor\":\"#E1E5ED\",\"showgrid\":false,\"tickfont\":{\"color\":\"#4D5663\"},\"title\":{\"font\":{\"color\":\"#4D5663\"},\"text\":\"\"},\"zerolinecolor\":\"#E1E5ED\"},\"xaxis10\":{\"anchor\":\"y10\",\"domain\":[0.2625,0.475],\"gridcolor\":\"#E1E5ED\",\"showgrid\":false,\"tickfont\":{\"color\":\"#4D5663\"},\"title\":{\"font\":{\"color\":\"#4D5663\"},\"text\":\"\"},\"zerolinecolor\":\"#E1E5ED\"},\"yaxis10\":{\"anchor\":\"x10\",\"domain\":[0.2675,0.465],\"gridcolor\":\"#E1E5ED\",\"showgrid\":false,\"tickfont\":{\"color\":\"#4D5663\"},\"title\":{\"font\":{\"color\":\"#4D5663\"},\"text\":\"\"},\"zerolinecolor\":\"#E1E5ED\"},\"xaxis11\":{\"anchor\":\"y11\",\"domain\":[0.525,0.7375],\"gridcolor\":\"#E1E5ED\",\"showgrid\":false,\"tickfont\":{\"color\":\"#4D5663\"},\"title\":{\"font\":{\"color\":\"#4D5663\"},\"text\":\"\"},\"zerolinecolor\":\"#E1E5ED\"},\"yaxis11\":{\"anchor\":\"x11\",\"domain\":[0.2675,0.465],\"gridcolor\":\"#E1E5ED\",\"showgrid\":false,\"tickfont\":{\"color\":\"#4D5663\"},\"title\":{\"font\":{\"color\":\"#4D5663\"},\"text\":\"\"},\"zerolinecolor\":\"#E1E5ED\"},\"xaxis12\":{\"anchor\":\"y12\",\"domain\":[0.7875,1.0],\"gridcolor\":\"#E1E5ED\",\"showgrid\":false,\"tickfont\":{\"color\":\"#4D5663\"},\"title\":{\"font\":{\"color\":\"#4D5663\"},\"text\":\"\"},\"zerolinecolor\":\"#E1E5ED\"},\"yaxis12\":{\"anchor\":\"x12\",\"domain\":[0.2675,0.465],\"gridcolor\":\"#E1E5ED\",\"showgrid\":false,\"tickfont\":{\"color\":\"#4D5663\"},\"title\":{\"font\":{\"color\":\"#4D5663\"},\"text\":\"\"},\"zerolinecolor\":\"#E1E5ED\"},\"xaxis13\":{\"anchor\":\"y13\",\"domain\":[0.0,0.2125],\"gridcolor\":\"#E1E5ED\",\"showgrid\":false,\"tickfont\":{\"color\":\"#4D5663\"},\"title\":{\"font\":{\"color\":\"#4D5663\"},\"text\":\"\"},\"zerolinecolor\":\"#E1E5ED\"},\"yaxis13\":{\"anchor\":\"x13\",\"domain\":[0.0,0.1975],\"gridcolor\":\"#E1E5ED\",\"showgrid\":false,\"tickfont\":{\"color\":\"#4D5663\"},\"title\":{\"font\":{\"color\":\"#4D5663\"},\"text\":\"\"},\"zerolinecolor\":\"#E1E5ED\"},\"xaxis14\":{\"anchor\":\"y14\",\"domain\":[0.2625,0.475],\"gridcolor\":\"#E1E5ED\",\"showgrid\":false,\"tickfont\":{\"color\":\"#4D5663\"},\"title\":{\"font\":{\"color\":\"#4D5663\"},\"text\":\"\"},\"zerolinecolor\":\"#E1E5ED\"},\"yaxis14\":{\"anchor\":\"x14\",\"domain\":[0.0,0.1975],\"gridcolor\":\"#E1E5ED\",\"showgrid\":false,\"tickfont\":{\"color\":\"#4D5663\"},\"title\":{\"font\":{\"color\":\"#4D5663\"},\"text\":\"\"},\"zerolinecolor\":\"#E1E5ED\"},\"xaxis15\":{\"anchor\":\"y15\",\"domain\":[0.525,0.7375],\"gridcolor\":\"#E1E5ED\",\"showgrid\":false,\"tickfont\":{\"color\":\"#4D5663\"},\"title\":{\"font\":{\"color\":\"#4D5663\"},\"text\":\"\"},\"zerolinecolor\":\"#E1E5ED\"},\"yaxis15\":{\"anchor\":\"x15\",\"domain\":[0.0,0.1975],\"gridcolor\":\"#E1E5ED\",\"showgrid\":false,\"tickfont\":{\"color\":\"#4D5663\"},\"title\":{\"font\":{\"color\":\"#4D5663\"},\"text\":\"\"},\"zerolinecolor\":\"#E1E5ED\"},\"xaxis16\":{\"anchor\":\"y16\",\"domain\":[0.7875,1.0],\"gridcolor\":\"#E1E5ED\",\"showgrid\":false,\"tickfont\":{\"color\":\"#4D5663\"},\"title\":{\"font\":{\"color\":\"#4D5663\"},\"text\":\"\"},\"zerolinecolor\":\"#E1E5ED\"},\"yaxis16\":{\"anchor\":\"x16\",\"domain\":[0.0,0.1975],\"gridcolor\":\"#E1E5ED\",\"showgrid\":false,\"tickfont\":{\"color\":\"#4D5663\"},\"title\":{\"font\":{\"color\":\"#4D5663\"},\"text\":\"\"},\"zerolinecolor\":\"#E1E5ED\"}},                        {\"showLink\": true, \"linkText\": \"Export to plot.ly\", \"plotlyServerURL\": \"https://plot.ly\", \"responsive\": true}                    ).then(function(){\n",
       "                            \n",
       "var gd = document.getElementById('9a5f44e9-235f-4784-a39f-b398bd0c0993');\n",
       "var x = new MutationObserver(function (mutations, observer) {{\n",
       "        var display = window.getComputedStyle(gd).display;\n",
       "        if (!display || display === 'none') {{\n",
       "            console.log([gd, 'removed!']);\n",
       "            Plotly.purge(gd);\n",
       "            observer.disconnect();\n",
       "        }}\n",
       "}});\n",
       "\n",
       "// Listen for the removal of the full notebook cells\n",
       "var notebookContainer = gd.closest('#notebook-container');\n",
       "if (notebookContainer) {{\n",
       "    x.observe(notebookContainer, {childList: true});\n",
       "}}\n",
       "\n",
       "// Listen for the clearing of the current output cell\n",
       "var outputEl = gd.closest('.output');\n",
       "if (outputEl) {{\n",
       "    x.observe(outputEl, {childList: true});\n",
       "}}\n",
       "\n",
       "                        })                };                });            </script>        </div>"
      ]
     },
     "metadata": {},
     "output_type": "display_data"
    }
   ],
   "source": [
    "# scatter matrix plot\n",
    "df.scatter_matrix()\n",
    "# all columns need to be numerical for it to work"
   ]
  },
  {
   "cell_type": "code",
   "execution_count": null,
   "metadata": {},
   "outputs": [],
   "source": []
  }
 ],
 "metadata": {
  "kernelspec": {
   "display_name": "base",
   "language": "python",
   "name": "python3"
  },
  "language_info": {
   "codemirror_mode": {
    "name": "ipython",
    "version": 3
   },
   "file_extension": ".py",
   "mimetype": "text/x-python",
   "name": "python",
   "nbconvert_exporter": "python",
   "pygments_lexer": "ipython3",
   "version": "3.12.4"
  }
 },
 "nbformat": 4,
 "nbformat_minor": 2
}
