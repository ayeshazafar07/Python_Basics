{
 "cells": [
  {
   "cell_type": "markdown",
   "metadata": {},
   "source": [
    "Python Interpretor (python code file) - takes python script from us and gives computer the machine code"
   ]
  },
  {
   "cell_type": "code",
   "execution_count": 2,
   "metadata": {},
   "outputs": [
    {
     "name": "stdout",
     "output_type": "stream",
     "text": [
      "hello world\n"
     ]
    }
   ],
   "source": [
    "print(\"hello world\")"
   ]
  },
  {
   "cell_type": "markdown",
   "metadata": {},
   "source": [
    "Module - Module is a file containing code written by somebody else. For example math formulas like mean average etc. Code of these are already written and we can pip install to use. Django flask etc are examples. Another example is pyjokes - a module that gives you jokes when run."
   ]
  },
  {
   "cell_type": "markdown",
   "metadata": {},
   "source": [
    "pip - is the package manager for python that you use to install modules on your system."
   ]
  },
  {
   "cell_type": "code",
   "execution_count": 3,
   "metadata": {},
   "outputs": [
    {
     "name": "stdout",
     "output_type": "stream",
     "text": [
      "Requirement already satisfied: pyjokes in d:\\python\\lib\\site-packages (0.7.2)\n",
      "Note: you may need to restart the kernel to use updated packages.\n"
     ]
    },
    {
     "name": "stderr",
     "output_type": "stream",
     "text": [
      "\n",
      "[notice] A new release of pip is available: 24.0 -> 24.1.2\n",
      "[notice] To update, run: python.exe -m pip install --upgrade pip\n"
     ]
    }
   ],
   "source": [
    "pip install pyjokes"
   ]
  },
  {
   "cell_type": "code",
   "execution_count": 11,
   "metadata": {},
   "outputs": [
    {
     "name": "stdout",
     "output_type": "stream",
     "text": [
      "There are 10 types of people: those who understand binary, those who don't, and those who were expecting this joke to be in trinary.\n"
     ]
    }
   ],
   "source": [
    "import pyjokes\n",
    "joke = pyjokes.get_joke()\n",
    "print(joke)"
   ]
  },
  {
   "cell_type": "markdown",
   "metadata": {},
   "source": [
    "Two types of modules\n",
    "\n",
    "Built in modules (no need to install) - eg math, datetime, pip, os, time, sys, numpy\n",
    "External modules (need to install) - eg pyjokes, pyttsx3 (text to speech)"
   ]
  },
  {
   "cell_type": "code",
   "execution_count": 13,
   "metadata": {},
   "outputs": [
    {
     "name": "stdout",
     "output_type": "stream",
     "text": [
      "Note: you may need to restart the kernel to use updated packages.Collecting pyttsx3\n",
      "  Downloading pyttsx3-2.90-py3-none-any.whl.metadata (3.6 kB)\n",
      "Collecting comtypes (from pyttsx3)\n",
      "  Downloading comtypes-1.4.5-py3-none-any.whl.metadata (6.4 kB)\n",
      "Collecting pypiwin32 (from pyttsx3)\n",
      "  Downloading pypiwin32-223-py3-none-any.whl.metadata (236 bytes)\n",
      "Requirement already satisfied: pywin32 in c:\\users\\ayesha\\appdata\\roaming\\python\\python312\\site-packages (from pyttsx3) (306)\n",
      "Downloading pyttsx3-2.90-py3-none-any.whl (39 kB)\n",
      "Downloading comtypes-1.4.5-py3-none-any.whl (219 kB)\n",
      "   ---------------------------------------- 0.0/219.4 kB ? eta -:--:--\n",
      "   ------- ------------------------------- 41.0/219.4 kB 960.0 kB/s eta 0:00:01\n",
      "   ----------- ---------------------------- 61.4/219.4 kB 1.1 MB/s eta 0:00:01\n",
      "   ---------------- ---------------------- 92.2/219.4 kB 655.4 kB/s eta 0:00:01\n",
      "   --------------------------------- ------ 184.3/219.4 kB 1.0 MB/s eta 0:00:01\n",
      "   --------------------------------- ------ 184.3/219.4 kB 1.0 MB/s eta 0:00:01\n",
      "   -------------------------------------- 219.4/219.4 kB 836.8 kB/s eta 0:00:00\n",
      "Downloading pypiwin32-223-py3-none-any.whl (1.7 kB)\n",
      "Installing collected packages: pypiwin32, comtypes, pyttsx3\n",
      "Successfully installed comtypes-1.4.5 pypiwin32-223 pyttsx3-2.90\n",
      "\n"
     ]
    },
    {
     "name": "stderr",
     "output_type": "stream",
     "text": [
      "\n",
      "[notice] A new release of pip is available: 24.0 -> 24.1.2\n",
      "[notice] To update, run: python.exe -m pip install --upgrade pip\n"
     ]
    }
   ],
   "source": [
    "pip install pyttsx3"
   ]
  },
  {
   "cell_type": "code",
   "execution_count": 15,
   "metadata": {},
   "outputs": [],
   "source": [
    "import pyttsx3\n",
    "engine = pyttsx3.init()\n",
    "engine.say(\"Hello i am text to speech converter\")\n",
    "engine.runAndWait()"
   ]
  },
  {
   "cell_type": "markdown",
   "metadata": {},
   "source": [
    "RAPL - Read Evaluate Print Loop\n",
    "Python works as a built in calculator when you enter some digits and operator like 2+3 it will read this then evaluate it to 5 then print it and will again get ready to take new input\n",
    "\n",
    "So on input cell\n",
    ">>>2+3\n",
    "Output cell\n",
    "5\n",
    ">>>\n"
   ]
  },
  {
   "cell_type": "markdown",
   "metadata": {},
   "source": [
    "Multi-line string print - triple single or double qoutes"
   ]
  },
  {
   "cell_type": "code",
   "execution_count": 12,
   "metadata": {},
   "outputs": [
    {
     "name": "stdout",
     "output_type": "stream",
     "text": [
      "\n",
      "Twinkle Twinkle, Little Star\n",
      "How I wonder what you are\n",
      "Up above the world so high\n",
      "Like a diamond in the sky\n",
      "Twinkle Twinkle Little Star\n",
      "How I wonder what you are!\n",
      "Twinkle Twinkle, Little Star\n",
      "How I wonder what you are\n",
      "Up above the world so high\n",
      "Like a diamond in the sky\n",
      "Twinkle Twinkle Little Star\n",
      "How I wonder what you are!\n",
      "\n"
     ]
    }
   ],
   "source": [
    "print('''\n",
    "Twinkle Twinkle, Little Star\n",
    "How I wonder what you are\n",
    "Up above the world so high\n",
    "Like a diamond in the sky\n",
    "Twinkle Twinkle Little Star\n",
    "How I wonder what you are!\n",
    "Twinkle Twinkle, Little Star\n",
    "How I wonder what you are\n",
    "Up above the world so high\n",
    "Like a diamond in the sky\n",
    "Twinkle Twinkle Little Star\n",
    "How I wonder what you are!\n",
    "''')"
   ]
  },
  {
   "cell_type": "markdown",
   "metadata": {},
   "source": [
    "Pygame - another external module"
   ]
  },
  {
   "cell_type": "code",
   "execution_count": 16,
   "metadata": {},
   "outputs": [
    {
     "name": "stdout",
     "output_type": "stream",
     "text": [
      "Collecting pygame\n",
      "  Downloading pygame-2.6.0-cp312-cp312-win_amd64.whl.metadata (13 kB)\n",
      "Downloading pygame-2.6.0-cp312-cp312-win_amd64.whl (10.8 MB)\n",
      "   ---------------------------------------- 0.0/10.8 MB ? eta -:--:--\n",
      "   ---------------------------------------- 0.0/10.8 MB ? eta -:--:--\n",
      "   ---------------------------------------- 0.0/10.8 MB ? eta -:--:--\n",
      "   ---------------------------------------- 0.0/10.8 MB 262.6 kB/s eta 0:00:41\n",
      "   ---------------------------------------- 0.0/10.8 MB 219.4 kB/s eta 0:00:49\n",
      "   ---------------------------------------- 0.1/10.8 MB 297.7 kB/s eta 0:00:36\n",
      "   ---------------------------------------- 0.1/10.8 MB 437.6 kB/s eta 0:00:25\n",
      "    --------------------------------------- 0.1/10.8 MB 502.3 kB/s eta 0:00:22\n",
      "    --------------------------------------- 0.2/10.8 MB 623.6 kB/s eta 0:00:17\n",
      "    --------------------------------------- 0.3/10.8 MB 684.6 kB/s eta 0:00:16\n",
      "   - -------------------------------------- 0.3/10.8 MB 703.7 kB/s eta 0:00:15\n",
      "   - -------------------------------------- 0.4/10.8 MB 768.6 kB/s eta 0:00:14\n",
      "   - -------------------------------------- 0.4/10.8 MB 775.5 kB/s eta 0:00:14\n",
      "   -- ------------------------------------- 0.6/10.8 MB 1.0 MB/s eta 0:00:10\n",
      "   -- ------------------------------------- 0.7/10.8 MB 1.2 MB/s eta 0:00:09\n",
      "   --- ------------------------------------ 0.9/10.8 MB 1.3 MB/s eta 0:00:08\n",
      "   ---- ----------------------------------- 1.1/10.8 MB 1.6 MB/s eta 0:00:06\n",
      "   ---- ----------------------------------- 1.2/10.8 MB 1.6 MB/s eta 0:00:06\n",
      "   ---- ----------------------------------- 1.2/10.8 MB 1.6 MB/s eta 0:00:06\n",
      "   ---- ----------------------------------- 1.2/10.8 MB 1.6 MB/s eta 0:00:06\n",
      "   ---- ----------------------------------- 1.2/10.8 MB 1.6 MB/s eta 0:00:06\n",
      "   ---- ----------------------------------- 1.2/10.8 MB 1.6 MB/s eta 0:00:06\n",
      "   ---- ----------------------------------- 1.2/10.8 MB 1.6 MB/s eta 0:00:06\n",
      "   ---- ----------------------------------- 1.2/10.8 MB 1.6 MB/s eta 0:00:06\n",
      "   ------ --------------------------------- 1.7/10.8 MB 1.6 MB/s eta 0:00:06\n",
      "   ------ --------------------------------- 1.7/10.8 MB 1.5 MB/s eta 0:00:06\n",
      "   ------ --------------------------------- 1.8/10.8 MB 1.6 MB/s eta 0:00:06\n",
      "   ------- -------------------------------- 1.9/10.8 MB 1.6 MB/s eta 0:00:06\n",
      "   ------- -------------------------------- 1.9/10.8 MB 1.5 MB/s eta 0:00:06\n",
      "   ------- -------------------------------- 2.1/10.8 MB 1.6 MB/s eta 0:00:06\n",
      "   ------- -------------------------------- 2.1/10.8 MB 1.6 MB/s eta 0:00:06\n",
      "   -------- ------------------------------- 2.3/10.8 MB 1.6 MB/s eta 0:00:06\n",
      "   -------- ------------------------------- 2.4/10.8 MB 1.7 MB/s eta 0:00:05\n",
      "   --------- ------------------------------ 2.5/10.8 MB 1.6 MB/s eta 0:00:06\n",
      "   --------- ------------------------------ 2.5/10.8 MB 1.7 MB/s eta 0:00:05\n",
      "   --------- ------------------------------ 2.6/10.8 MB 1.6 MB/s eta 0:00:05\n",
      "   ---------- ----------------------------- 2.7/10.8 MB 1.7 MB/s eta 0:00:05\n",
      "   ---------- ----------------------------- 2.9/10.8 MB 1.7 MB/s eta 0:00:05\n",
      "   ----------- ---------------------------- 3.1/10.8 MB 1.8 MB/s eta 0:00:05\n",
      "   ----------- ---------------------------- 3.1/10.8 MB 1.8 MB/s eta 0:00:05\n",
      "   ----------- ---------------------------- 3.1/10.8 MB 1.8 MB/s eta 0:00:05\n",
      "   ----------- ---------------------------- 3.1/10.8 MB 1.8 MB/s eta 0:00:05\n",
      "   ----------- ---------------------------- 3.2/10.8 MB 1.7 MB/s eta 0:00:05\n",
      "   ------------ --------------------------- 3.3/10.8 MB 1.7 MB/s eta 0:00:05\n",
      "   ------------ --------------------------- 3.3/10.8 MB 1.7 MB/s eta 0:00:05\n",
      "   ------------ --------------------------- 3.3/10.8 MB 1.7 MB/s eta 0:00:05\n",
      "   ------------ --------------------------- 3.3/10.8 MB 1.7 MB/s eta 0:00:05\n",
      "   ------------ --------------------------- 3.3/10.8 MB 1.6 MB/s eta 0:00:05\n",
      "   -------------- ------------------------- 3.8/10.8 MB 1.7 MB/s eta 0:00:05\n",
      "   -------------- ------------------------- 3.8/10.8 MB 1.7 MB/s eta 0:00:05\n",
      "   -------------- ------------------------- 3.9/10.8 MB 1.7 MB/s eta 0:00:05\n",
      "   -------------- ------------------------- 4.0/10.8 MB 1.7 MB/s eta 0:00:04\n",
      "   -------------- ------------------------- 4.0/10.8 MB 1.7 MB/s eta 0:00:05\n",
      "   --------------- ------------------------ 4.2/10.8 MB 1.7 MB/s eta 0:00:04\n",
      "   --------------- ------------------------ 4.2/10.8 MB 1.7 MB/s eta 0:00:04\n",
      "   --------------- ------------------------ 4.2/10.8 MB 1.7 MB/s eta 0:00:04\n",
      "   --------------- ------------------------ 4.3/10.8 MB 1.7 MB/s eta 0:00:04\n",
      "   ---------------- ----------------------- 4.3/10.8 MB 1.7 MB/s eta 0:00:04\n",
      "   ---------------- ----------------------- 4.4/10.8 MB 1.7 MB/s eta 0:00:04\n",
      "   ----------------- ---------------------- 4.6/10.8 MB 1.7 MB/s eta 0:00:04\n",
      "   ----------------- ---------------------- 4.8/10.8 MB 1.7 MB/s eta 0:00:04\n",
      "   ------------------ --------------------- 4.9/10.8 MB 1.8 MB/s eta 0:00:04\n",
      "   ------------------ --------------------- 5.1/10.8 MB 1.8 MB/s eta 0:00:04\n",
      "   ------------------- -------------------- 5.2/10.8 MB 1.8 MB/s eta 0:00:04\n",
      "   -------------------- ------------------- 5.4/10.8 MB 1.8 MB/s eta 0:00:03\n",
      "   -------------------- ------------------- 5.5/10.8 MB 1.8 MB/s eta 0:00:03\n",
      "   -------------------- ------------------- 5.5/10.8 MB 1.8 MB/s eta 0:00:03\n",
      "   -------------------- ------------------- 5.5/10.8 MB 1.8 MB/s eta 0:00:03\n",
      "   -------------------- ------------------- 5.5/10.8 MB 1.8 MB/s eta 0:00:03\n",
      "   -------------------- ------------------- 5.5/10.8 MB 1.8 MB/s eta 0:00:03\n",
      "   --------------------- ------------------ 5.8/10.8 MB 1.8 MB/s eta 0:00:03\n",
      "   ---------------------- ----------------- 6.2/10.8 MB 1.9 MB/s eta 0:00:03\n",
      "   ----------------------- ---------------- 6.4/10.8 MB 1.9 MB/s eta 0:00:03\n",
      "   ------------------------ --------------- 6.5/10.8 MB 1.9 MB/s eta 0:00:03\n",
      "   ------------------------ --------------- 6.6/10.8 MB 1.9 MB/s eta 0:00:03\n",
      "   ------------------------- -------------- 6.7/10.8 MB 1.9 MB/s eta 0:00:03\n",
      "   ------------------------- -------------- 6.8/10.8 MB 1.9 MB/s eta 0:00:03\n",
      "   ------------------------- -------------- 7.0/10.8 MB 1.9 MB/s eta 0:00:02\n",
      "   -------------------------- ------------- 7.0/10.8 MB 1.9 MB/s eta 0:00:02\n",
      "   -------------------------- ------------- 7.2/10.8 MB 2.0 MB/s eta 0:00:02\n",
      "   --------------------------- ------------ 7.3/10.8 MB 2.0 MB/s eta 0:00:02\n",
      "   --------------------------- ------------ 7.4/10.8 MB 2.0 MB/s eta 0:00:02\n",
      "   ---------------------------- ----------- 7.6/10.8 MB 2.0 MB/s eta 0:00:02\n",
      "   ---------------------------- ----------- 7.7/10.8 MB 2.0 MB/s eta 0:00:02\n",
      "   ---------------------------- ----------- 7.8/10.8 MB 2.0 MB/s eta 0:00:02\n",
      "   ----------------------------- ---------- 7.9/10.8 MB 2.0 MB/s eta 0:00:02\n",
      "   ----------------------------- ---------- 8.0/10.8 MB 2.0 MB/s eta 0:00:02\n",
      "   ------------------------------ --------- 8.2/10.8 MB 2.0 MB/s eta 0:00:02\n",
      "   ------------------------------ --------- 8.3/10.8 MB 2.0 MB/s eta 0:00:02\n",
      "   ------------------------------- -------- 8.4/10.8 MB 2.0 MB/s eta 0:00:02\n",
      "   ------------------------------- -------- 8.5/10.8 MB 2.0 MB/s eta 0:00:02\n",
      "   -------------------------------- ------- 8.6/10.8 MB 2.0 MB/s eta 0:00:02\n",
      "   -------------------------------- ------- 8.8/10.8 MB 2.0 MB/s eta 0:00:01\n",
      "   --------------------------------- ------ 8.9/10.8 MB 2.1 MB/s eta 0:00:01\n",
      "   --------------------------------- ------ 9.0/10.8 MB 2.1 MB/s eta 0:00:01\n",
      "   ---------------------------------- ----- 9.2/10.8 MB 2.1 MB/s eta 0:00:01\n",
      "   ---------------------------------- ----- 9.3/10.8 MB 2.1 MB/s eta 0:00:01\n",
      "   ----------------------------------- ---- 9.5/10.8 MB 2.1 MB/s eta 0:00:01\n",
      "   ----------------------------------- ---- 9.6/10.8 MB 2.1 MB/s eta 0:00:01\n",
      "   ------------------------------------ --- 9.8/10.8 MB 2.1 MB/s eta 0:00:01\n",
      "   ------------------------------------- -- 10.0/10.8 MB 2.1 MB/s eta 0:00:01\n",
      "   ------------------------------------- -- 10.1/10.8 MB 2.1 MB/s eta 0:00:01\n",
      "   ------------------------------------- -- 10.2/10.8 MB 2.1 MB/s eta 0:00:01\n",
      "   -------------------------------------- - 10.4/10.8 MB 2.2 MB/s eta 0:00:01\n",
      "   ---------------------------------------  10.5/10.8 MB 2.3 MB/s eta 0:00:01\n",
      "   ---------------------------------------  10.7/10.8 MB 2.3 MB/s eta 0:00:01\n",
      "   ---------------------------------------  10.8/10.8 MB 2.3 MB/s eta 0:00:01\n",
      "   ---------------------------------------  10.8/10.8 MB 2.3 MB/s eta 0:00:01\n",
      "   ---------------------------------------- 10.8/10.8 MB 2.2 MB/s eta 0:00:00\n",
      "Installing collected packages: pygame\n",
      "Successfully installed pygame-2.6.0\n",
      "Note: you may need to restart the kernel to use updated packages.\n"
     ]
    },
    {
     "name": "stderr",
     "output_type": "stream",
     "text": [
      "\n",
      "[notice] A new release of pip is available: 24.0 -> 24.1.2\n",
      "[notice] To update, run: python.exe -m pip install --upgrade pip\n"
     ]
    }
   ],
   "source": [
    "pip install pygame"
   ]
  },
  {
   "cell_type": "code",
   "execution_count": 5,
   "metadata": {},
   "outputs": [],
   "source": [
    "import pygame\n",
    "from pygame.locals import *\n",
    " \n",
    "class App:\n",
    "    def on_execute(self):\n",
    "        pass\n",
    " \n",
    "if __name__ == \"__main__\" :\n",
    "    theApp = App()\n",
    "    theApp.on_execute()"
   ]
  },
  {
   "cell_type": "markdown",
   "metadata": {},
   "source": [
    "Using os module to print directory content"
   ]
  },
  {
   "cell_type": "code",
   "execution_count": 6,
   "metadata": {},
   "outputs": [
    {
     "name": "stdout",
     "output_type": "stream",
     "text": [
      "$RECYCLE.BIN\n",
      "Anaconda\n",
      "Python\n",
      "System Volume Information\n",
      "VS Code\n",
      "WorkFiles\n"
     ]
    }
   ],
   "source": [
    "import os\n",
    "directory_path = '/'\n",
    "contents = os.listdir(directory_path)\n",
    "for item in contents:\n",
    "    print(item)"
   ]
  },
  {
   "cell_type": "markdown",
   "metadata": {},
   "source": [
    "Variable - is the name given to a memory location in a program.\n",
    "\n",
    "DataTypes - Integers, Floating point numbers, Strings, Booleans, None (used when we want to mark that theres nothing in the variable)\n",
    "\n",
    "Operators -\n",
    "    1. Arithmetic operators: +, -, *, /, %(mod=reminder), ** (square)\n",
    "    2. Assignment operators: =, +=, -= \n",
    "    3. Comparison operators: ==, >, >=, <, != \n",
    "    4. Logical operators: and, or, not\n",
    "\n",
    "Type Conversion - wrap with type you want to convert to"
   ]
  },
  {
   "cell_type": "code",
   "execution_count": 10,
   "metadata": {},
   "outputs": [
    {
     "name": "stdout",
     "output_type": "stream",
     "text": [
      "3.15\n",
      "3.15\n",
      "<class 'str'>\n",
      "<class 'float'>\n",
      "3.15\n",
      "3\n",
      "<class 'float'>\n",
      "<class 'int'>\n"
     ]
    }
   ],
   "source": [
    "# Float - string\n",
    "a = \"3.15\"\n",
    "b = float(a)\n",
    "print(a)\n",
    "print(b)\n",
    "print(type(a))\n",
    "print(type(b))\n",
    "\n",
    "# Float - integar\n",
    "a = 3.15\n",
    "b = int(a)\n",
    "print(a)\n",
    "print(b)\n",
    "print(type(a))\n",
    "print(type(b))"
   ]
  },
  {
   "cell_type": "markdown",
   "metadata": {},
   "source": [
    "input() - To take user input\n",
    "\n",
    "Output for below program will be like:\n",
    "\n",
    "Enter any number 2\n",
    "Enter any number 5\n",
    "Input number is:  2   \n",
    "Input number is:  5   \n",
    "Sum of numbers is:  25\n",
    "\n",
    "Why is it 25 instead of 7?\n",
    "Because input is in form of string and when two strings are added they get concatenated."
   ]
  },
  {
   "cell_type": "code",
   "execution_count": 2,
   "metadata": {},
   "outputs": [
    {
     "name": "stdout",
     "output_type": "stream",
     "text": [
      "AyeshaZafar\n"
     ]
    }
   ],
   "source": [
    "a = input(\"Enter any number \")\n",
    "b = input(\"Enter any number \")\n",
    "\n",
    "print(\"Input number is: \", a)\n",
    "print(\"Input number is: \", b)\n",
    "print(\"Sum of numbers is: \", a+b)\n",
    "\n",
    "\n",
    "x = \"Ayesha\"\n",
    "y = \"Zafar\"\n",
    "z = x+y \n",
    "print(z)\n",
    "\n",
    "# if you want input string to be added like numbers then convert types\n",
    "print(\"Sum of numbers is: \", int(a)+int(b))\n",
    "\n",
    "# input can also be converted directly like\n",
    "k = int(input(\"Input any number \"))\n",
    "# this will take input as string, convert to int and then store in a\n",
    "# so type(a) will be int\n",
    "\n",
    "\n",
    "# to use variable inside string use f string\n",
    "p = input(\"enter your name: \")\n",
    "print(f\"Good Afternoon {p}\")\n",
    "# another way is \n",
    "# print(\"Good Afternoon \" + p) "
   ]
  },
  {
   "cell_type": "markdown",
   "metadata": {},
   "source": [
    "String Slicing - string in python is array of characters so it can be sliced in different ways to get different strings.\n",
    "\n",
    "***String is immutable\n",
    "\n",
    "name = \"ayesha\"\n",
    "string length = 6\n",
    "Index and reverse index\n",
    "a - 0 and -6\n",
    "y - 1 and -5\n",
    "e - 2 and -4\n",
    "s - 3 and -3\n",
    "h - 4 and -2\n",
    "a - 5 and -1\n"
   ]
  },
  {
   "cell_type": "code",
   "execution_count": 3,
   "metadata": {},
   "outputs": [
    {
     "name": "stdout",
     "output_type": "stream",
     "text": [
      "s\n",
      "s\n"
     ]
    }
   ],
   "source": [
    "name = \"ayesha\"\n",
    "print(name[3])\n",
    "print(name[-3])"
   ]
  },
  {
   "cell_type": "markdown",
   "metadata": {},
   "source": [
    "To Slice - strName[index_start:index_end]\n",
    "\n",
    "*** first index is included but last index is not included in slice\n",
    "\n",
    "\n",
    "^tip: keep alt pressed and use arrow up down to move the entire line up and down"
   ]
  },
  {
   "cell_type": "code",
   "execution_count": 13,
   "metadata": {},
   "outputs": [
    {
     "name": "stdout",
     "output_type": "stream",
     "text": [
      "esh\n",
      "sh\n",
      "ayes\n",
      "esha\n",
      "fvjndnncdmxmcwnkdmkwemkn\n"
     ]
    }
   ],
   "source": [
    "name = \"ayesha\"\n",
    "print(name[2:5]) \n",
    "# 2 index has e and 5 index has a so slice will have letters from e to h \n",
    "\n",
    "print(name[-3:-1])\n",
    "# -3 index has s and -1 index has a so slice will have letters from s to h \n",
    "\n",
    "print(name[:4])\n",
    "# if nothing in first section then it means 0\n",
    "\n",
    "print(name[2:])\n",
    "# if nothing in second section then it means -1 (end character index)\n",
    "\n",
    "x = \"werfvjndnncdmxmcwnkdmkwemkncna\"\n",
    "# big string and we want to get slice that excludes first and last 3 characters\n",
    "print(x[3:-3])"
   ]
  },
  {
   "cell_type": "markdown",
   "metadata": {},
   "source": [
    "To slice with skip value - strName[index_start:index_end:number_of_skips]"
   ]
  },
  {
   "cell_type": "code",
   "execution_count": 17,
   "metadata": {},
   "outputs": [
    {
     "name": "stdout",
     "output_type": "stream",
     "text": [
      "cg\n"
     ]
    }
   ],
   "source": [
    "a = \"abcdefghijklmno\"\n",
    "print(a[2:9:4]) \n",
    "# this will first slice the string from 2:9 = cdefghi\n",
    "# now it will get first value i.e c and then skips others till 4 count \n",
    "# so d=2 e=3 f=4 are skipped and next character is fetched i.e g\n",
    "# after this it repeats- if after 4 skips another character is present it adds else string end\n",
    "# output = cg"
   ]
  },
  {
   "cell_type": "markdown",
   "metadata": {},
   "source": [
    "String Functions\n",
    "\n",
    "len - length of string\n",
    "endswith - tells whether the string ends with given string or not\n",
    "startswith - tells whether the string starts with given string or not\n",
    "capitalize - returns first word capitalized of string\n",
    "lower/upper - case change of entire string\n",
    "title - capitalizes the first character of each word in string\n",
    "count - counts the occurrence of given character\n",
    "find - finds the start index of where given word starts from\n",
    "replace - replaces all occurrences of old word with new word (does not change original string - string are immutable - new string is created )"
   ]
  },
  {
   "cell_type": "code",
   "execution_count": 29,
   "metadata": {},
   "outputs": [
    {
     "name": "stdout",
     "output_type": "stream",
     "text": [
      "10\n",
      "True\n",
      "False\n",
      "True\n",
      "False\n",
      "Cmksckeknv\n",
      "cmksckeknv\n",
      "CMKSCKEKNV\n",
      "Hello World\n",
      "3\n",
      "6\n",
      "hello python python python\n"
     ]
    }
   ],
   "source": [
    "a = \"cmksckeknv\"\n",
    "b = \"hello world\"\n",
    "c = \"hello world world world\"\n",
    "print(len(a))\n",
    "print(a.endswith(\"nv\"))\n",
    "print(a.endswith(\"xyz\"))\n",
    "print(a.startswith(\"cmks\"))\n",
    "print(a.startswith(\"kio\"))\n",
    "print(a.capitalize())\n",
    "print(a.lower())\n",
    "print(a.upper())\n",
    "print(b.title())\n",
    "print(a.count(\"k\"))\n",
    "print(b.find(\"world\"))\n",
    "print(c.replace(\"world\",\"python\"))\n"
   ]
  },
  {
   "cell_type": "markdown",
   "metadata": {},
   "source": [
    "Escape sequence characters \n",
    "\\n = new line\n",
    "\\t = tab space\n",
    "\\' = single qoute\n",
    "\\\" = double qoute\n",
    "\\\\ = backslash"
   ]
  },
  {
   "cell_type": "code",
   "execution_count": 1,
   "metadata": {},
   "outputs": [
    {
     "name": "stdout",
     "output_type": "stream",
     "text": [
      "Hello world \n",
      "i am writing this but i dont know \\why\n",
      "just- \tno sense in what im doing but 'its something for sure'\n"
     ]
    }
   ],
   "source": [
    "print(\"Hello world \\ni am writing this but i dont know \\\\why\\njust- \\tno sense in what im doing but \\'its something for sure\\'\")"
   ]
  },
  {
   "cell_type": "markdown",
   "metadata": {},
   "source": [
    "List = container to store set of values of any data types \n",
    "List are mutable (unlike strings)\n",
    "list slicing same as strings\n",
    "\n",
    "methods of string returns new strings because strings are immutable\n",
    "but as list is mutable so the same list is changed upon calling some method on it"
   ]
  },
  {
   "cell_type": "code",
   "execution_count": 19,
   "metadata": {},
   "outputs": [
    {
     "name": "stdout",
     "output_type": "stream",
     "text": [
      "abc\n",
      "grapes\n",
      "[5, False, 5.234]\n",
      "['grapes', 5, False, 5.234, 'egty']\n",
      "['grapes', 5, False, 5.234, 'egty', 'qwerty']\n",
      "[1, 2, 3, 5, 6, 7, 8, 9]\n",
      "[8, 5, 2, 6, 9, 1, 7, 3]\n",
      "['abc', 5, False, 'new insert', 5.234, 'egty']\n",
      "[3, 7, 1, 6, 2, 5, 8]\n",
      "7\n",
      "[1, 6, 2, 5, 8]\n"
     ]
    }
   ],
   "source": [
    "friends = [\"abc\", 5, False, 5.234, \"egty\"]\n",
    "print(friends[0])\n",
    "\n",
    "friends[0] = \"grapes\"\n",
    "print(friends[0])\n",
    "\n",
    "# List Slicing\n",
    "print(friends[1:4])\n",
    "\n",
    "#List methods\n",
    "print(friends)\n",
    "friends.append(\"qwerty\")\n",
    "print(friends)\n",
    "\n",
    "l1 = [3, 7, 1, 9, 6, 2, 5, 8]\n",
    "l1.sort()\n",
    "print(l1)\n",
    "\n",
    "l2 = [3, 7, 1, 9, 6, 2, 5, 8]\n",
    "l2.reverse()\n",
    "print(l2)\n",
    "\n",
    "#append adds at end, insert adds at given index\n",
    "l3 = [\"abc\", 5, False, 5.234, \"egty\"]\n",
    "l3.insert(3, \"new insert\")\n",
    "print(l3)\n",
    "\n",
    "#pop will delete element at given index and will return that element too\n",
    "l4 = [3, 7, 1, 9, 6, 2, 5, 8]\n",
    "l4.pop(3)\n",
    "print(l4)\n",
    "\n",
    "a = l4.pop(1) \n",
    "print(a) # index 1 element is popped from list\n",
    "\n",
    "#remove will remove the given value from list\n",
    "l4.remove(3)\n",
    "print(l4)\n"
   ]
  },
  {
   "cell_type": "markdown",
   "metadata": {},
   "source": [
    "Tuple - immutable data type like a string, is a collection of different elements but cant be changed"
   ]
  },
  {
   "cell_type": "code",
   "execution_count": 40,
   "metadata": {},
   "outputs": [
    {
     "name": "stdout",
     "output_type": "stream",
     "text": [
      "<class 'tuple'>\n",
      "<class 'int'>\n",
      "<class 'tuple'>\n",
      "False\n",
      "2\n",
      "0\n",
      "(1, 2, 3, 1, 2, 3, 1, 2, 3)\n",
      "True\n",
      "False\n",
      "9\n",
      "1\n",
      "3\n",
      "(2, 3, 4)\n",
      "1 3 5\n"
     ]
    }
   ],
   "source": [
    "a = (1, 2, 3, 4)\n",
    "print(type(a))\n",
    "\n",
    "# if you want to create a tuple of only one value then dont do like\n",
    "b = (1)\n",
    "print(type(b)) #this will be considered one value of one data type not a tuple\n",
    "\n",
    "c = (1,) #put a comma next to element then python will consider it as a tuple\n",
    "print(type(c))\n",
    "\n",
    "d = (1, \"abc\", False, \"njscjd skcks\", 4.764)\n",
    "print(d[2])\n",
    "\n",
    "# d[2] = True //NOT POSSIBLE TO CHANGE TUPLE ELEMENTS\n",
    "\n",
    "\n",
    "# Tuple Methods\n",
    "t1 = (1, \"abc\", False, \"njscjd skcks\", 4.764, 1)\n",
    "count = t1.count(1) # gives count of given element\n",
    "print(count)\n",
    "\n",
    "# tuple is immutable so methods will return new tuple not change the same one\n",
    "\n",
    "index = t1.index(1)\n",
    "print(index) # returns the first occurrence index\n",
    "\n",
    "# if you want repeated values in a tuple then\n",
    "t2 = (1, 2, 3)\n",
    "repeated = t2 * 3 # tuple into how many times you want to repeat values\n",
    "print(repeated)\n",
    "\n",
    "# element exists in tuple\n",
    "print(2 in t2) # True if 2 exists in t2 tuple\n",
    "print(4 in t2)\n",
    "\n",
    "print(len(repeated))\n",
    "\n",
    "print(min(t2))\n",
    "print(max(t2))\n",
    "\n",
    "# Slice tuple\n",
    "t4 = (1, 2, 3, 4, 5, 6)\n",
    "sliced = t4[1:4]\n",
    "print(sliced)\n",
    "\n",
    "# tuple can be unpacked ie a,b,c = t2 will give t2[0] to a t2[1] to b t2[2] to c\n",
    "t5 = (1, 3, 5)\n",
    "a, b , c = t5\n",
    "print(a, b, c)\n"
   ]
  },
  {
   "cell_type": "markdown",
   "metadata": {},
   "source": [
    "Dictionary - these are key value pairs \n",
    "We can make list of list to associate values to keys but searching would be computationally expensive. In dictionary, searching is done in O(1) time so good.\n",
    "It is unordered\n",
    "It is mutable\n",
    "It is indexed (indexes are assocaited with keys)\n",
    "Can not contain duplicate keys\n",
    "\n",
    "\n",
    "Calling methods update current dictionary because it is mutable"
   ]
  },
  {
   "cell_type": "code",
   "execution_count": 28,
   "metadata": {},
   "outputs": [
    {
     "name": "stdout",
     "output_type": "stream",
     "text": [
      "{'stuA': 100, 'stuB': 50, 'stuC': 75}\n",
      "<class 'dict'>\n",
      "75\n",
      "dict_items([('stuA', 100), ('stuB', 50), ('stuC', 75)])\n",
      "dict_keys(['stuA', 'stuB', 'stuC'])\n",
      "dict_values([100, 50, 75])\n",
      "{'stuA': 100, 'stuB': 88, 'stuC': 75, 'stuX': 34}\n",
      "100\n",
      "None\n",
      "{}\n",
      "{'stuA': 100, 'stuB': 88, 'stuC': 75, 'stuX': 34}\n",
      "{'a': 2, 'b': 2, 'c': 2}\n",
      "100\n",
      "{'stuB': 88, 'stuC': 75, 'stuX': 34}\n",
      "('stuX', 34)\n",
      "{'stuB': 88, 'stuC': 75}\n",
      "2\n"
     ]
    }
   ],
   "source": [
    "marks = {\n",
    "    \"stuA\": 100,\n",
    "    \"stuB\": 50,\n",
    "    \"stuC\": 75\n",
    "}\n",
    "print(marks)\n",
    "print(type(marks))\n",
    "print(marks[\"stuC\"])\n",
    "# print(marks[0]) this is not possible in dictionary\n",
    "\n",
    "# Dictionary Methods\n",
    "print(marks.items())\n",
    "print(marks.keys())\n",
    "print(marks.values())\n",
    "\n",
    "# existing keys update, new keys added\n",
    "marks.update({\"stuB\": 88, \"stuX\": 34})\n",
    "print(marks)\n",
    "\n",
    "# get returns the value of given key\n",
    "print(marks.get(\"stuA\"))\n",
    "\n",
    "# these look same but in case key doesnt exist get will return none while index method will give error\n",
    "print(marks.get(\"stuK\"))\n",
    "# print(marks[\"stuk\"])\n",
    "\n",
    "# clears dictionary items\n",
    "marks2 = {\n",
    "    \"stuA\": 100,\n",
    "    \"stuB\": 50,\n",
    "    \"stuC\": 75\n",
    "}\n",
    "marks2.clear()\n",
    "print(marks2)\n",
    "\n",
    "# creates shallow copy of dictionary\n",
    "marks3 = marks.copy()\n",
    "print(marks3)\n",
    "\n",
    "# takes keys from given list and sets all values to given value\n",
    "keys = ['a', 'b', 'c']\n",
    "dict1 = dict.fromkeys(keys, 2)\n",
    "print(dict1)\n",
    "\n",
    "# pops item from dictionary and returns value, if key not found returns given default ie here 0 \n",
    "value = marks.pop(\"stuA\", 0)\n",
    "print(value)\n",
    "print(marks)\n",
    "\n",
    "# popitems returns key value pair after pop in LIFO order\n",
    "popitem = marks.popitem()\n",
    "print(popitem)\n",
    "print(marks)\n",
    "\n",
    "print(len(marks))"
   ]
  },
  {
   "cell_type": "markdown",
   "metadata": {},
   "source": [
    "Sets - collection of non repetitive elements\n",
    "does not maintain order - unordered\n",
    "are unindexed\n",
    "no way to change items"
   ]
  },
  {
   "cell_type": "code",
   "execution_count": 49,
   "metadata": {},
   "outputs": [
    {
     "name": "stdout",
     "output_type": "stream",
     "text": [
      "<class 'dict'>\n",
      "<class 'set'>\n",
      "<class 'set'>\n",
      "{1, 2, 3, 4, 5}\n",
      "{4, 3, 'abcd', 5}\n",
      "{3, 4, 5, 'abcd', 567}\n",
      "5\n",
      "{3, 4, 'abcd', 567}\n",
      "3\n",
      "{4, 'abcd', 567}\n",
      "set()\n",
      "{1, 2, 3, 4, 5, 6, 7, 8, 9, 44, 81}\n",
      "{2, 6}\n",
      "{1, 3, 4, 5, 7, 8, 9}\n",
      "{81, 44}\n",
      "{1, 3, 4, 5, 7, 8, 9}\n",
      "True\n",
      "False\n",
      "True\n"
     ]
    }
   ],
   "source": [
    "d = {} #empty dictionary\n",
    "s = {1,2,3} #set\n",
    "emptyset = set() #empty set\n",
    "\n",
    "print(type(d))\n",
    "print(type(s))\n",
    "print(type(emptyset))\n",
    "\n",
    "# unique elements, no repetition\n",
    "s = {3, 3, 3, 1, 2, 5, 5, 5, 4, 4, 5}\n",
    "print(s) \n",
    "\n",
    "k = {3, 5, 5, 4, 4, \"abcd\"} # different data types possible too\n",
    "print(k) \n",
    "\n",
    "# Set Methods\n",
    "k.add(567)\n",
    "print(k)\n",
    "\n",
    "print(len(k))\n",
    "\n",
    "# will remove given value from set\n",
    "k.remove(5)\n",
    "print(k)\n",
    "\n",
    "# removes a random element from set\n",
    "v = k.pop()\n",
    "print(v)\n",
    "print(k)\n",
    "\n",
    "l = {6,4,8,9}\n",
    "l.clear()\n",
    "print(l)\n",
    "\n",
    "# union - values of both sets\n",
    "# intersection - values common in both sets\n",
    "s1 = {1, 2, 3, 4, 5, 6, 7, 8, 9}\n",
    "s2 = {2, 44, 6, 81}\n",
    "s3 = {1, 3, 5}\n",
    "\n",
    "print(s1.union(s2))\n",
    "print(s1.intersection(s2))\n",
    "\n",
    "# s1-s2 -> part of s1 that is not part of s2\n",
    "# s2-s1 -> part of s2 that is not part of s1\n",
    "print(s1-s2) \n",
    "print(s2-s1)\n",
    "\n",
    "print(s1.difference(s2)) # same as s1-s2\n",
    "print(s3.issubset(s1)) # all elements of s3 are in s1 so it is subset of s1\n",
    "print(s3.issubset(s2))\n",
    "print(s1.issuperset(s3)) \n",
    "\n",
    "# list cant be added in a set\n",
    "#s6 = {1, 55, 7.7, \"hello\", [1,2]} \n"
   ]
  },
  {
   "cell_type": "code",
   "execution_count": 47,
   "metadata": {},
   "outputs": [
    {
     "data": {
      "text/plain": [
       "False"
      ]
     },
     "execution_count": 47,
     "metadata": {},
     "output_type": "execute_result"
    }
   ],
   "source": [
    "1==1.7"
   ]
  },
  {
   "cell_type": "markdown",
   "metadata": {},
   "source": [
    "Conditionals - if, else, elif"
   ]
  },
  {
   "cell_type": "code",
   "execution_count": 6,
   "metadata": {},
   "outputs": [
    {
     "name": "stdout",
     "output_type": "stream",
     "text": [
      "invalid age\n"
     ]
    }
   ],
   "source": [
    "# age = int(input(\"enter your age: \"))\n",
    "\n",
    "age = -16\n",
    "if(age>=18):\n",
    "    print(\"above 18\")\n",
    "elif(age<0):\n",
    "    print(\"invalid age\")\n",
    "else:\n",
    "    print(\"below\")\n"
   ]
  },
  {
   "cell_type": "markdown",
   "metadata": {},
   "source": [
    "Loops"
   ]
  },
  {
   "cell_type": "code",
   "execution_count": 22,
   "metadata": {},
   "outputs": [
    {
     "name": "stdout",
     "output_type": "stream",
     "text": [
      "1\n",
      "2\n",
      "3\n",
      "4\n",
      "5\n",
      "10\n",
      "11\n",
      "12\n",
      "13\n",
      "14\n",
      "15\n",
      "100\n",
      "abc\n",
      "3.14\n",
      "xyz\n",
      "890\n",
      "False\n",
      "0\n",
      "2\n",
      "4\n",
      "6\n",
      "8\n",
      "H\n",
      "e\n",
      "l\n",
      "l\n",
      "o\n",
      "340\n",
      "avfdvc\n",
      "9.34\n",
      "scdz\n",
      "570\n",
      "True\n",
      "22\n",
      "12\n",
      "54\n",
      "88\n",
      "1\n",
      "2\n",
      "3\n",
      "4\n",
      "5\n",
      "6\n",
      "0\n",
      "1\n",
      "2\n",
      "3\n",
      "0\n",
      "1\n",
      "2\n",
      "3\n",
      "a\n",
      "b\n",
      "c\n",
      "d\n",
      "a 0\n",
      "b 1\n",
      "c 2\n",
      "d 3\n"
     ]
    }
   ],
   "source": [
    "# range works same as slicing range so 1 will be included and 6 wont be\n",
    "for i in range(1,6):\n",
    "    print(i)\n",
    "\n",
    "i = 10\n",
    "while (i<16):\n",
    "    print(i)\n",
    "    i+=1\n",
    "\n",
    "list1 = [100, \"abc\", 3.14, \"xyz\", 890, False]\n",
    "i = 0\n",
    "while(i < len(list1)):\n",
    "    print(list1[i])\n",
    "    i+=1\n",
    "\n",
    "# if we write range(4) then it takes from 0 to 4-1\n",
    "# range function can also use step size\n",
    "# range(start, stop, step_size)\n",
    "\n",
    "# jumps 2 step size\n",
    "for i in range(0,10,2):\n",
    "    print(i)\n",
    "\n",
    "# string\n",
    "str1 = \"Hello\"\n",
    "for i in str1:\n",
    "    print(i)\n",
    "\n",
    "# list \n",
    "list2 = [340, \"avfdvc\", 9.34, \"scdz\", 570, True]\n",
    "for j in list2:\n",
    "    print(j)\n",
    "\n",
    "# tuple\n",
    "t1 = (22, 12, 54, 88)\n",
    "for i in t1:\n",
    "    print(i)\n",
    "\n",
    "# set\n",
    "s1 = {1, 2, 2, 5, 3, 4, 5, 6}\n",
    "for i in s1:\n",
    "    print(i)\n",
    "\n",
    "# dictionary\n",
    "d1 = {\n",
    "    'a': 0,\n",
    "    'b': 1,\n",
    "    'c': 2,\n",
    "    'd': 3\n",
    "}\n",
    "# will print values\n",
    "for i in d1:\n",
    "    print(d1[i])\n",
    "# will print values\n",
    "for i in d1.values():\n",
    "    print(i)\n",
    "# will print keys\n",
    "for i in d1.keys():\n",
    "    print(i)\n",
    "# will print item\n",
    "for i, j in d1.items():\n",
    "    print(i, j)"
   ]
  },
  {
   "cell_type": "code",
   "execution_count": 23,
   "metadata": {},
   "outputs": [
    {
     "name": "stdout",
     "output_type": "stream",
     "text": [
      "1\n",
      "2\n",
      "3\n",
      "4\n",
      "no more values\n"
     ]
    }
   ],
   "source": [
    "# for loop can use else block\n",
    "# for loop will continue execution till it gets values\n",
    "# once values end else block will execute\n",
    "\n",
    "l1 = [1, 2, 3, 4]\n",
    "for i in l1:\n",
    "    print(i)\n",
    "else:\n",
    "    print(\"no more values\")"
   ]
  },
  {
   "cell_type": "code",
   "execution_count": 30,
   "metadata": {},
   "outputs": [
    {
     "name": "stdout",
     "output_type": "stream",
     "text": [
      "0\n",
      "1\n",
      "2\n",
      "3\n",
      "30\n",
      "31\n",
      "32\n",
      "33\n",
      "34\n",
      "35\n",
      "36\n",
      "38\n",
      "39\n",
      "done\n"
     ]
    }
   ],
   "source": [
    "# Break is used to abruptly end loop\n",
    "for i in range(10):\n",
    "    if(i == 4):\n",
    "        break # loop will break if 4 reached\n",
    "    print(i)\n",
    "\n",
    "# Continue skips that particular iteration and goes to next\n",
    "for i in range(30, 40):\n",
    "    if(i == 37):\n",
    "        continue # any statement below wont be executed so 37 wont be printed \n",
    "    print(i)\n",
    "\n",
    "# Pass - is a null statement and does nothing\n",
    "for i in range(20):\n",
    "    pass\n",
    "print(\"done\")"
   ]
  },
  {
   "cell_type": "markdown",
   "metadata": {},
   "source": [
    "Functions - group of statements performing a specific task"
   ]
  },
  {
   "cell_type": "code",
   "execution_count": 6,
   "metadata": {},
   "outputs": [
    {
     "name": "stdout",
     "output_type": "stream",
     "text": [
      "4.0\n",
      "Hello Ayesha\n",
      "Hello Ayesha Zafar Thank you\n",
      "Hello Ayesha Zafar Good Bye\n"
     ]
    }
   ],
   "source": [
    "def avg(a,b):\n",
    "    avg = (a + b)/2\n",
    "    return avg\n",
    "\n",
    "print(avg(3,5))\n",
    "\n",
    "\n",
    "def greet(name):\n",
    "    print(f\"Hello {name}\")\n",
    "\n",
    "n = \"Ayesha\"\n",
    "greet(n)\n",
    "\n",
    "# Default argument\n",
    "def greet(name, ending=\"Thank you\"):\n",
    "    print(f\"Hello {name} {ending}\")\n",
    "\n",
    "n = \"Ayesha Zafar\"\n",
    "greet(n)\n",
    "ending = \"Good Bye\"\n",
    "greet(n, ending)\n"
   ]
  },
  {
   "cell_type": "markdown",
   "metadata": {},
   "source": [
    "Recursion - function that calls itself until base condition reached"
   ]
  },
  {
   "cell_type": "code",
   "execution_count": 7,
   "metadata": {},
   "outputs": [
    {
     "name": "stdout",
     "output_type": "stream",
     "text": [
      "120\n"
     ]
    }
   ],
   "source": [
    "# 5! = 5 X 4 X 3 X 2 X 1\n",
    "# fact(n) = n * fact(n-1)\n",
    "def fact(n):\n",
    "    if(n==1 or n==0):\n",
    "        return 1\n",
    "    return n * fact(n-1) \n",
    "    \n",
    "print(fact(5))"
   ]
  },
  {
   "cell_type": "markdown",
   "metadata": {},
   "source": [
    "File I/O - read write to file\n",
    "Modes:\n",
    "r - read\n",
    "w - write\n",
    "a - appending\n",
    "+ - updating\n",
    "rb - read in binary\n",
    "rt - read in text "
   ]
  },
  {
   "cell_type": "code",
   "execution_count": 25,
   "metadata": {},
   "outputs": [
    {
     "name": "stdout",
     "output_type": "stream",
     "text": [
      "this is file 1\n",
      "\n"
     ]
    }
   ],
   "source": [
    "f = open(\"file1.txt\", 'r')\n",
    "data = f.read()\n",
    "print(data)\n",
    "f.close()\n"
   ]
  },
  {
   "cell_type": "code",
   "execution_count": 26,
   "metadata": {},
   "outputs": [],
   "source": [
    "f = open(\"file2.txt\", 'w')\n",
    "str = \"this is file 2\"\n",
    "f.write(str)\n",
    "f.close()"
   ]
  },
  {
   "cell_type": "code",
   "execution_count": 27,
   "metadata": {},
   "outputs": [],
   "source": [
    "f = open(\"file1.txt\", 'a')\n",
    "str = \"\\nthis is new line\"\n",
    "f.write(str)\n",
    "f.close()\n"
   ]
  },
  {
   "cell_type": "code",
   "execution_count": 18,
   "metadata": {},
   "outputs": [
    {
     "name": "stdout",
     "output_type": "stream",
     "text": [
      "line 1\n",
      "\n",
      "line 2\n",
      "\n",
      "line 3\n",
      "\n",
      "line 4\n"
     ]
    }
   ],
   "source": [
    "f = open(\"file3.txt\")\n",
    "# readlines returns list of lines\n",
    "# lines = f.readlines()\n",
    "# print(lines)\n",
    "\n",
    "# readline returns line 1, readline can read until no line remains\n",
    "# line = f.readline()\n",
    "# print(line)\n",
    "\n",
    "# all lines with while\n",
    "line = f.readline()\n",
    "while(line != \"\"):\n",
    "    print(line)\n",
    "    line = f.readline()\n",
    "\n",
    "\n",
    "f.close()"
   ]
  },
  {
   "cell_type": "code",
   "execution_count": 28,
   "metadata": {},
   "outputs": [
    {
     "name": "stdout",
     "output_type": "stream",
     "text": [
      "this is file 1\n",
      "\n",
      "this is new line\n"
     ]
    }
   ],
   "source": [
    "# instead of using f.close you can use with statement\n",
    "# f = open(\"file1.txt\")\n",
    "# print(f.read())\n",
    "# f.close()\n",
    "\n",
    "# using WITH (automatically closes file upon end)\n",
    "with open(\"file1.txt\") as f:\n",
    "    print(f.read())"
   ]
  },
  {
   "cell_type": "code",
   "execution_count": null,
   "metadata": {},
   "outputs": [],
   "source": [
    "# we can use multiple context managers in a single with statement more cleanly \n",
    "# using the parenthesised context manager \n",
    "\n",
    "with (\n",
    "    open('file1.txt') as f1,\n",
    "    open('file2.txt') as f2\n",
    "    ):\n",
    "    pass "
   ]
  },
  {
   "cell_type": "markdown",
   "metadata": {},
   "source": [
    "OOP - paradigm/concept of programming that deals with reuse of code"
   ]
  },
  {
   "cell_type": "code",
   "execution_count": 3,
   "metadata": {},
   "outputs": [
    {
     "name": "stdout",
     "output_type": "stream",
     "text": [
      "120\n",
      "ayesha\n",
      "java\n"
     ]
    }
   ],
   "source": [
    "class Employee:\n",
    "    language = \"python\"\n",
    "    salary = 120\n",
    "\n",
    "ayesha = Employee()\n",
    "print(ayesha.salary)\n",
    "\n",
    "ayesha.name = \"ayesha\"\n",
    "print(ayesha.name)\n",
    "\n",
    "# instance attribute takes preference over class attribute during assignment and retrieval\n",
    "ayesha.language = \"java\"\n",
    "print(ayesha.language)"
   ]
  },
  {
   "cell_type": "code",
   "execution_count": 8,
   "metadata": {},
   "outputs": [
    {
     "name": "stdout",
     "output_type": "stream",
     "text": [
      "language is python salary is 120\n",
      "hello\n"
     ]
    }
   ],
   "source": [
    "# Self - when you call a class function it gives the object reference as parameter\n",
    "# so emp.getInfo(emp) like this \n",
    "# thats why you need to use self in functions to accept the object reference\n",
    "# and use class attributes as self.language self.salary etc\n",
    "class Employee:\n",
    "    language = \"python\"\n",
    "    salary = 120\n",
    "\n",
    "    # this will give error that \n",
    "    # Employee.getInfo() takes 0 positional arguments but 1 was given\n",
    "    # because this emp.getInfo() passes argument but def getInfo(): doesnt accept any\n",
    "    # def getInfo():\n",
    "    #     print(f\"language is {language} salary is {salary}\")\n",
    "\n",
    "    def getInfo(self):\n",
    "        print(f\"language is {self.language} salary is {self.salary}\")\n",
    "\n",
    "    # this function doesnt use self so we can either pass self here or mention that function doesnt need object\n",
    "    # this is done by usig a decorator called static method\n",
    "    @staticmethod\n",
    "    def greet():\n",
    "        print(\"hello\")\n",
    "\n",
    "emp = Employee()\n",
    "emp.getInfo()\n",
    "emp.greet()"
   ]
  },
  {
   "cell_type": "code",
   "execution_count": 9,
   "metadata": {},
   "outputs": [
    {
     "name": "stdout",
     "output_type": "stream",
     "text": [
      "Object created\n",
      "Ayesha C++ 135\n"
     ]
    }
   ],
   "source": [
    "# Init constructor - first method that runs as soon as object is created\n",
    "# can take self argument or any others too\n",
    "class Employee:\n",
    "    language = \"python\"\n",
    "    salary = 120\n",
    "\n",
    "    # Dunder method - methods that start with _ these are automatically called\n",
    "    # not all but init dunder method is called when object is created\n",
    "    def __init__(self, name, language, salary):\n",
    "        print(\"Object created\")\n",
    "        self.name = name\n",
    "        self.language = language\n",
    "        self.salary = salary\n",
    "\n",
    "# set instance attributes like\n",
    "emp = Employee(\"Ayesha\", \"C++\", 135)\n",
    "print(emp.name, emp.language, emp.salary)"
   ]
  },
  {
   "cell_type": "code",
   "execution_count": 11,
   "metadata": {},
   "outputs": [
    {
     "name": "stdout",
     "output_type": "stream",
     "text": [
      "4\n",
      "0\n",
      "4\n"
     ]
    }
   ],
   "source": [
    "class Demo:\n",
    "    a = 4\n",
    "\n",
    "b = Demo()\n",
    "# Will print class attribute value\n",
    "print(b.a)\n",
    "b.a = 0\n",
    "# Will print the set instance attribute value\n",
    "print(b.a)\n",
    "\n",
    "# Will print original class attribute value\n",
    "print(Demo.a)\n",
    "\n",
    "# So class attribute doesnt change when value is assigned by instance but only instance attribute value changes"
   ]
  },
  {
   "cell_type": "markdown",
   "metadata": {},
   "source": [
    "Inheritance - using attributes and methods of parent class"
   ]
  },
  {
   "cell_type": "code",
   "execution_count": 21,
   "metadata": {},
   "outputs": [
    {
     "name": "stdout",
     "output_type": "stream",
     "text": [
      "name is abc and salary is 45678\n",
      "name is xyz and salary is 12345\n",
      "name is xyz and language is python\n",
      "name is xyz and language is python\n",
      "name is dfg and language is java\n"
     ]
    }
   ],
   "source": [
    "# Multi class inheritence\n",
    "\n",
    "class Employee:\n",
    "    company = \"ICT\"\n",
    "    def show(self):\n",
    "        print(f\"name is {self.name} and salary is {self.salary}\")\n",
    "\n",
    "class Coder:\n",
    "    language = \"java\"\n",
    "    def printLanguage(self):\n",
    "        print(f\"name is {self.name} and language is {self.language}\")\n",
    "\n",
    "# Programmer inherits Employee and Coder\n",
    "class Programmer(Employee, Coder):\n",
    "    def showLanguage(self):\n",
    "        print(f\"name is {self.name} and language is {self.language}\")\n",
    "\n",
    "\n",
    "a = Employee()\n",
    "b = Programmer()\n",
    "\n",
    "a.name = \"abc\"\n",
    "a.salary = 45678\n",
    "\n",
    "b.name = \"xyz\"\n",
    "b.language = \"python\"\n",
    "b.salary = 12345\n",
    "\n",
    "a.show()\n",
    "b.show() # Will display the show of Employee\n",
    "b.showLanguage() # Will show showLanguage of Programmer\n",
    "b.printLanguage() # Will show printLanguage of Coder\n",
    "# Parent class wont use childs methods but child will use parents\n",
    "# a.showLanguage()\n",
    "\n",
    "c = Programmer()\n",
    "c.name = \"dfg\"\n",
    "c.printLanguage()"
   ]
  },
  {
   "cell_type": "code",
   "execution_count": 26,
   "metadata": {},
   "outputs": [
    {
     "name": "stdout",
     "output_type": "stream",
     "text": [
      "1\n",
      "1 2\n",
      "1 2 3\n"
     ]
    }
   ],
   "source": [
    "# Multi Level inheritence\n",
    "\n",
    "class Employee:\n",
    "    a = 1\n",
    "\n",
    "class Programmer(Employee):\n",
    "    b = 2\n",
    "\n",
    "class Manager(Programmer):\n",
    "    c = 3\n",
    "\n",
    "\n",
    "obj1 = Employee()\n",
    "print(obj1.a)\n",
    "# print(obj1.b) # will give error\n",
    "\n",
    "obj2 = Programmer()\n",
    "print(obj2.a, obj2.b)\n",
    "# print(obj2.c) # will give error\n",
    "\n",
    "obj3 = Manager()\n",
    "print(obj3.a, obj3.b, obj3.c) # all accessible"
   ]
  },
  {
   "cell_type": "markdown",
   "metadata": {},
   "source": [
    "Super - to run constructor of parent class"
   ]
  },
  {
   "cell_type": "code",
   "execution_count": 32,
   "metadata": {},
   "outputs": [
    {
     "name": "stdout",
     "output_type": "stream",
     "text": [
      "constructor of Employee\n",
      "constructor of Programmer\n",
      "constructor of Manager\n",
      "\n",
      "\n",
      "constructor of Employee\n",
      "\n",
      "constructor of Employee\n",
      "constructor of Programmer\n",
      "\n",
      "constructor of Employee\n",
      "constructor of Programmer\n",
      "constructor of Manager\n"
     ]
    }
   ],
   "source": [
    "class Employee:\n",
    "    def __init__(self):\n",
    "        print(\"constructor of Employee\")\n",
    "\n",
    "class Programmer(Employee):\n",
    "    def __init__(self):\n",
    "        print(\"constructor of Programmer\")\n",
    "\n",
    "class Manager(Programmer):\n",
    "    def __init__(self):\n",
    "        print(\"constructor of Manager\")    \n",
    "\n",
    "\n",
    "obj1 = Employee() # Employee constructor will run\n",
    "obj2 = Programmer() # Only Programmer constructor will run\n",
    "obj3 = Manager() # Only Manager constructor will run\n",
    "\n",
    "print(\"\")\n",
    "print(\"\")\n",
    "# If we want constructor of Parent class to run too we use super keyword\n",
    "class Employee:\n",
    "    def __init__(self):\n",
    "        print(\"constructor of Employee\")\n",
    "\n",
    "class Programmer(Employee):\n",
    "    def __init__(self):\n",
    "        super().__init__()\n",
    "        print(\"constructor of Programmer\")\n",
    "\n",
    "class Manager(Programmer):\n",
    "    def __init__(self):\n",
    "        # when this constructor runs it runs constructor of its parent too\n",
    "        super().__init__()\n",
    "        print(\"constructor of Manager\")    \n",
    "\n",
    "\n",
    "obj1 = Employee() # Employee constructor will run\n",
    "print(\"\")\n",
    "obj2 = Programmer() # Programmer and Employee constructor will run\n",
    "print(\"\")\n",
    "obj3 = Manager() # Manager Programmer and Employee constructor will run\n"
   ]
  },
  {
   "cell_type": "code",
   "execution_count": 37,
   "metadata": {},
   "outputs": [
    {
     "name": "stdout",
     "output_type": "stream",
     "text": [
      "class attribute is 1\n"
     ]
    }
   ],
   "source": [
    "# Classmethod decorator\n",
    "# To access class attribute we use classmethod decorator\n",
    "class Employee:\n",
    "    a = 1\n",
    "\n",
    "    @classmethod\n",
    "    def show(cls):\n",
    "        # cls so instead of self object it runs method for class whose object is calling this method\n",
    "        print(f\"class attribute is {cls.a}\")\n",
    "\n",
    "obj = Employee()\n",
    "obj.a = 45\n",
    "obj.show() # even after setting instance attribute it will return class attribute\n"
   ]
  },
  {
   "cell_type": "code",
   "execution_count": 2,
   "metadata": {},
   "outputs": [
    {
     "name": "stdout",
     "output_type": "stream",
     "text": [
      "Harry Khan\n",
      "Harry Khan\n",
      "Harry\n",
      "Khan\n"
     ]
    }
   ],
   "source": [
    "# Property decorator\n",
    "class Employee:\n",
    "    # Function acts as property so when we call .name return the value from given logic here\n",
    "    @property\n",
    "    def name(self):\n",
    "        return f\"{self.fname} {self.lname}\"\n",
    "\n",
    "    # when we try to set new value in name, take the value and store it in fname and lname attributes    \n",
    "    @name.setter\n",
    "    def name(self, value):\n",
    "        self.fname = value.split(\" \")[0]\n",
    "        self.lname = value.split(\" \")[1]\n",
    "\n",
    "\n",
    "# user will only give the full name then its on us how we want to store it as f and l name seperately\n",
    "# this is Abstraction and Encapsulation\n",
    "obj = Employee()\n",
    "obj.name = \"Harry Khan\"\n",
    "print(obj.name)\n",
    "print(obj.fname, obj.lname)\n",
    "print(obj.fname)\n",
    "print(obj.lname)"
   ]
  },
  {
   "cell_type": "code",
   "execution_count": 1,
   "metadata": {},
   "outputs": [
    {
     "name": "stdout",
     "output_type": "stream",
     "text": [
      "self  1\n",
      "num  2\n",
      "3\n"
     ]
    }
   ],
   "source": [
    "# Operator overloading\n",
    "class Number:\n",
    "    a = 1\n",
    "    b = 2\n",
    "\n",
    "    def __init__(self, n):\n",
    "        self.n = n\n",
    "\n",
    "n = Number(1)\n",
    "m = Number(2)\n",
    "\n",
    "# print(n + m) # will give error saying that it cant understand what + is for\n",
    "\n",
    "# so we create an add method\n",
    "class Number1:\n",
    "    def __init__(self, n):\n",
    "        self.n = n\n",
    "\n",
    "    # All are dunder methods\n",
    "    def __add__(self, num):\n",
    "        print(\"self \", self.n)\n",
    "        print(\"num \", num.n)\n",
    "        return self.n + num.n\n",
    "    \n",
    "    def __sub__(self):\n",
    "        pass\n",
    "    def __mul__(self):\n",
    "        pass\n",
    "    def __truediv__(self):\n",
    "        pass\n",
    "    def __floordiv__(self):\n",
    "        pass\n",
    "    def __str__(self):\n",
    "        pass\n",
    "    def __len__(self):\n",
    "        pass\n",
    "\n",
    "n = Number1(1)\n",
    "m = Number1(2)\n",
    "\n",
    "print(n + m)"
   ]
  },
  {
   "cell_type": "markdown",
   "metadata": {},
   "source": [
    "Advanced Python\n",
    "\n",
    "\n",
    "Valrus operator - Allows you to assign values to variables as part of an expression. Also called assignemnt expression.\n",
    ":= is valrus operator"
   ]
  },
  {
   "cell_type": "code",
   "execution_count": 2,
   "metadata": {},
   "outputs": [
    {
     "name": "stdout",
     "output_type": "stream",
     "text": [
      "List is too long (5 elements, expected <=3)\n"
     ]
    }
   ],
   "source": [
    "# No need to assign n the length of length and then compare with 3 seperately\n",
    "# valrus operator allows to do both the things at the same time\n",
    "# first n is assigned value of length of list and then compared with 3\n",
    "# here n = 5 and n > 3 = True\n",
    "if (n := len([1, 2, 3, 4, 5])) > 3:\n",
    "    print(f'List is too long ({n} elements, expected <=3)')"
   ]
  },
  {
   "cell_type": "markdown",
   "metadata": {},
   "source": [
    "Type Definition - Type hints are added using : for variables and -> for function return types"
   ]
  },
  {
   "cell_type": "code",
   "execution_count": 5,
   "metadata": {},
   "outputs": [],
   "source": [
    "# Example, lets say we create an integar n = 5\n",
    "# now when we do n. we want that we get all the integar functions as suggestions\n",
    "# but with n = 5 we dont get them so we specify that n is an integar using :\n",
    "\n",
    "# n = 5\n",
    "# n.is //no suggestions\n",
    "\n",
    "n: int = 5\n",
    "n.bit_length() #now we get suggested functions for integar\n",
    "\n",
    "# for functions, takes a and b as int and returns int too\n",
    "def sum(a:int, b:int) -> int:\n",
    "    return a+b\n"
   ]
  },
  {
   "cell_type": "markdown",
   "metadata": {},
   "source": [
    "Advaned Type Hints - from typing module\n",
    "These annotations help in making the code self-documenting and allow developers to understand the data structures used at a glance."
   ]
  },
  {
   "cell_type": "code",
   "execution_count": 6,
   "metadata": {},
   "outputs": [],
   "source": [
    "from typing import List, Tuple, Dict, Union\n",
    "\n",
    "# List of integers\n",
    "numbers: List[int] = [1, 2, 3, 4, 5]\n",
    "# Tuple of a string and an integer\n",
    "person: Tuple[str, int] = (\"Alice\", 30)\n",
    "# Dictionary with string keys and integer values\n",
    "scores: Dict[str, int] = {\"Alice\": 90, \"Bob\": 85}\n",
    "# Union type for variables that can hold multiple types\n",
    "identifier: Union[int, str] = \"ID123\"\n",
    "identifier = 12345 # Also valid\n"
   ]
  },
  {
   "cell_type": "markdown",
   "metadata": {},
   "source": [
    "Match Operator - matching a variable against several cases using the case keyword\n",
    "Same as switch in c++"
   ]
  },
  {
   "cell_type": "code",
   "execution_count": 8,
   "metadata": {},
   "outputs": [
    {
     "name": "stdout",
     "output_type": "stream",
     "text": [
      "OK\n",
      "Not Found\n",
      "Internal Server Error\n",
      "Unknown status\n"
     ]
    }
   ],
   "source": [
    "def http_status(status):\n",
    "    match status:\n",
    "        case 200:\n",
    "            return \"OK\"\n",
    "        case 404:\n",
    "            return \"Not Found\"\n",
    "        case 500:\n",
    "            return \"Internal Server Error\"\n",
    "        case _:\n",
    "            return \"Unknown status\"\n",
    "\n",
    "print(http_status(200))\n",
    "print(http_status(404))\n",
    "print(http_status(500))\n",
    "print(http_status(403))"
   ]
  },
  {
   "cell_type": "markdown",
   "metadata": {},
   "source": [
    "Dictionary Merging and Update Operator - operators | and |= allow for merging and updating dictionaries"
   ]
  },
  {
   "cell_type": "code",
   "execution_count": 9,
   "metadata": {},
   "outputs": [
    {
     "name": "stdout",
     "output_type": "stream",
     "text": [
      "{'a': 1, 'b': 3, 'c': 4}\n"
     ]
    }
   ],
   "source": [
    "dict1 = {'a': 1, 'b': 2}\n",
    "dict2 = {'b': 3, 'c': 4}\n",
    "merged = dict1 | dict2\n",
    "print(merged) "
   ]
  },
  {
   "cell_type": "markdown",
   "metadata": {},
   "source": [
    "Exception Handling - to handle errors\n",
    "try, except use to handle \n",
    "after giving exception rest of the program continues to run instead of crashing as a whole"
   ]
  },
  {
   "cell_type": "code",
   "execution_count": 10,
   "metadata": {},
   "outputs": [],
   "source": [
    "try: \n",
    "    a = int(input(\"Enter a number: \")) # we have specified int but user can enter string which would result in error so we need to handle it\n",
    "    print(a)\n",
    "except Exception as e:\n",
    "    print(e)\n",
    "\n",
    "\n",
    "# to throw particular type of errors\n",
    "try:\n",
    "    a = int(input(\"Enter a number: \"))\n",
    "    print(a)\n",
    "except ZeroDivisionError as z:\n",
    "    print(z)\n",
    "except TypeError as t:\n",
    "    print(t)\n",
    "except ValueError as v:\n",
    "    print(v)\n",
    "except Exception as e:\n",
    "    print(e) \n",
    "\n",
    "\n",
    "# Raising an exception\n",
    "a = int(input(\"Enter number 1: \"))\n",
    "b = int(input(\"Enter number 2: \"))\n",
    "\n",
    "if(b == 0):\n",
    "    raise ZeroDivisionError(\"zero division not possible\")\n",
    "else:\n",
    "    print(f'Division is {a/b}')\n",
    "\n",
    "\n",
    "# use of else with try except\n",
    "# else is used when try is executed otherwise not\n",
    "# so if exception occurs then else block isnt executed\n",
    "try: \n",
    "    a = int(input(\"Enter a number: \")) \n",
    "    print(a)\n",
    "except Exception as e:\n",
    "    print(e)\n",
    "else:\n",
    "    print(\"else block\")\n",
    "\n",
    "\n",
    "# use of finally with try except\n",
    "# finally is executed in all cases either try or except\n",
    "try: \n",
    "    a = int(input(\"Enter a number: \")) \n",
    "    print(a)\n",
    "except Exception as e:\n",
    "    print(e)\n",
    "finally:\n",
    "    print(\"finally block\")\n",
    "\n",
    "\n",
    "# why we use finally then if it runs regardless of try and except? \n",
    "# Why not just write the statements without any block?\n",
    "\n",
    "# finally is used majorly in case of functions\n",
    "# if we use return in try or except block inside a function then that return\n",
    "# will return to function call and if finally isnt used, those statements wont run\n",
    "# but if we use finally then even after using return, finally statements will run\n",
    "\n",
    "def main():\n",
    "    try: \n",
    "        a = int(input(\"Enter a number: \")) \n",
    "        print(\"try block\")\n",
    "        return\n",
    "    except Exception as e:\n",
    "        print(\"except block\")\n",
    "        return\n",
    "    print(\"finally block\")\n",
    "\n",
    "main()\n",
    "# Output will be \n",
    "# try block\n",
    "\n",
    "\n",
    "def main():\n",
    "    try: \n",
    "        a = int(input(\"Enter a number: \")) \n",
    "        print(\"try block\")\n",
    "        return\n",
    "    except Exception as e:\n",
    "        print(\"except block\")\n",
    "        return\n",
    "    finally:\n",
    "        print(\"finally block\")\n",
    "\n",
    "main()\n",
    "# Output will be\n",
    "# try block\n",
    "# finally block\n"
   ]
  },
  {
   "cell_type": "markdown",
   "metadata": {},
   "source": [
    "Why do we use if __name__ = \"__main__\" ???\n",
    "\n",
    "__name__ returns __main__ if the same file is running\n",
    "__name__ returns \"filename\" if the file is imported as module somewhere else and that file is running\n",
    "\n",
    "So using if __name__ = \"__main__\" means that we want to run the if block code only if the file is running itself and if some other file is using it as an imported module then dont run the if block code"
   ]
  },
  {
   "cell_type": "code",
   "execution_count": null,
   "metadata": {},
   "outputs": [],
   "source": [
    "# Lets assume this is file 1\n",
    "\n",
    "# we are importing myFunc from file 2\n",
    "from module import myFunc"
   ]
  },
  {
   "cell_type": "code",
   "execution_count": null,
   "metadata": {},
   "outputs": [],
   "source": [
    "# Lets assume this is file 2\n",
    "\n",
    "# Writing this - when module is imported it will automatically execute the myFunc code and hello world will be printed\n",
    "def myFunc():\n",
    "    print(\"hello world\")\n",
    "\n",
    "# Writing this - myFunc will be executed if the file runs itself and if imported then it wont be executed until called specifically\n",
    "def myFunc():\n",
    "    print(\"hello world\")\n",
    "\n",
    "if __name__ == \"__main__\":\n",
    "    myFunc()"
   ]
  },
  {
   "cell_type": "markdown",
   "metadata": {},
   "source": [
    "Global - to use variables out of their scope\n",
    "global keyword changes global variables"
   ]
  },
  {
   "cell_type": "code",
   "execution_count": 5,
   "metadata": {},
   "outputs": [
    {
     "name": "stdout",
     "output_type": "stream",
     "text": [
      "89\n",
      "3\n",
      "\n",
      "89\n",
      "3\n",
      "3\n"
     ]
    }
   ],
   "source": [
    "# global a\n",
    "a = 89\n",
    "\n",
    "def func():\n",
    "    a = 3 # local a\n",
    "    print(a)\n",
    "\n",
    "print(a)\n",
    "func()\n",
    "print()\n",
    "\n",
    "# Global keyword\n",
    "b = 89\n",
    "def func():\n",
    "    global b\n",
    "    b = 3 \n",
    "    print(b)\n",
    "\n",
    "print(b)\n",
    "func()\n",
    "print(b)"
   ]
  },
  {
   "cell_type": "markdown",
   "metadata": {},
   "source": [
    "Enumerate - adds counter to an iterable and returns it"
   ]
  },
  {
   "cell_type": "code",
   "execution_count": 8,
   "metadata": {},
   "outputs": [
    {
     "name": "stdout",
     "output_type": "stream",
     "text": [
      "The item at index 0 is 3\n",
      "The item at index 1 is 512\n",
      "The item at index 2 is 53\n",
      "The item at index 3 is 536\n",
      "\n",
      "The item at index 0 is 3\n",
      "The item at index 1 is 512\n",
      "The item at index 2 is 53\n",
      "The item at index 3 is 536\n"
     ]
    }
   ],
   "source": [
    "l = [3, 512, 53, 536]\n",
    "\n",
    "index = 0\n",
    "for item in l:\n",
    "    print(f'The item at index {index} is {item}')\n",
    "    index += 1\n",
    "\n",
    "print()\n",
    "# same thing can be done with enumerate function\n",
    "for index, item in enumerate(l):\n",
    "    print(f'The item at index {index} is {item}')"
   ]
  },
  {
   "cell_type": "markdown",
   "metadata": {},
   "source": [
    "List Comprehensions - make new list from existing list"
   ]
  },
  {
   "cell_type": "code",
   "execution_count": 12,
   "metadata": {},
   "outputs": [
    {
     "name": "stdout",
     "output_type": "stream",
     "text": [
      "[1, 4, 9, 16, 25, 36, 49]\n",
      "\n",
      "[1, 4, 9, 16, 25, 36, 49]\n"
     ]
    }
   ],
   "source": [
    "list1 = [1, 2, 3, 4, 5, 6, 7]\n",
    "\n",
    "squaredList = []\n",
    "for item in list1:\n",
    "    squaredList.append(item*item)\n",
    "\n",
    "print(squaredList)\n",
    "print()\n",
    "\n",
    "# using list comprehension\n",
    "# takes i of list1 then does i*i and then stores it in squaredList2\n",
    "squaredList2 = [i*i for i in list1]\n",
    "print(squaredList2)"
   ]
  },
  {
   "cell_type": "markdown",
   "metadata": {},
   "source": [
    "Lambda functions - functions created using an expression using ‘lambda’ keyword.\n",
    "lambda arguments:expressions"
   ]
  },
  {
   "cell_type": "code",
   "execution_count": 16,
   "metadata": {},
   "outputs": [
    {
     "name": "stdout",
     "output_type": "stream",
     "text": [
      "36\n",
      "6\n"
     ]
    }
   ],
   "source": [
    "square = lambda x:x*x\n",
    "print(square(6))\n",
    "\n",
    "sum = lambda a,b,c:a+b+c\n",
    "print(sum(1,2,3))"
   ]
  },
  {
   "cell_type": "markdown",
   "metadata": {},
   "source": [
    "MAP, FILTER & REDUCE\n",
    "Map applies a function to all the items in an input_list.\n",
    "Filter creates a list of items for which the function returns true.\n",
    "Reduce applies a rolling computation to sequential pair of elements."
   ]
  },
  {
   "cell_type": "code",
   "execution_count": 23,
   "metadata": {},
   "outputs": [
    {
     "name": "stdout",
     "output_type": "stream",
     "text": [
      "[1, 4, 9, 16, 25, 36]\n",
      "\n",
      "[2, 4, 6]\n",
      "\n",
      "21\n",
      "720\n",
      "5534\n"
     ]
    }
   ],
   "source": [
    "l = [1, 2, 3, 4, 5, 6]\n",
    "# Map\n",
    "square = lambda x: x*x\n",
    "sqList = map(square, l)\n",
    "print(list(sqList))\n",
    "\n",
    "print()\n",
    "\n",
    "# Filter\n",
    "def even(n):\n",
    "    if(n%2 == 0):\n",
    "        return True\n",
    "    return False \n",
    "\n",
    "onlyEven = filter(even, l)\n",
    "print(list(onlyEven))\n",
    "\n",
    "print()\n",
    "\n",
    "# Reduce\n",
    "from functools import reduce\n",
    "def sum(a, b):\n",
    "    return a + b\n",
    "\n",
    "print(reduce(sum, l))\n",
    "\n",
    "# reduce performs sequential computation meaning it will take index 0 and 1 and sum them\n",
    "# them it will take result of that and sum it with index 2 element\n",
    "# then it will take result and sum it with index 3 element\n",
    "# so 1+2=3, 3+3=6, 6+4=10, 10+5=15, 15+6=21\n",
    "\n",
    "mul = lambda x,y:x*y\n",
    "print(reduce(mul,l))\n",
    "\n",
    "# Greatest number\n",
    "l = [111, 2, 65, 5534, 678, 34, 85, 356]\n",
    "\n",
    "def greater(a, b):\n",
    "    if(a>b):\n",
    "        return a\n",
    "    return b\n",
    "\n",
    "print(reduce(greater,l))\n"
   ]
  },
  {
   "cell_type": "code",
   "execution_count": null,
   "metadata": {},
   "outputs": [],
   "source": []
  }
 ],
 "metadata": {
  "kernelspec": {
   "display_name": "Python 3",
   "language": "python",
   "name": "python3"
  },
  "language_info": {
   "codemirror_mode": {
    "name": "ipython",
    "version": 3
   },
   "file_extension": ".py",
   "mimetype": "text/x-python",
   "name": "python",
   "nbconvert_exporter": "python",
   "pygments_lexer": "ipython3",
   "version": "3.12.4"
  }
 },
 "nbformat": 4,
 "nbformat_minor": 2
}
